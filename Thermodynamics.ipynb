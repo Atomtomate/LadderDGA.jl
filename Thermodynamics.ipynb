{
 "cells": [
  {
   "cell_type": "code",
   "execution_count": 1,
   "metadata": {},
   "outputs": [
    {
     "name": "stdout",
     "output_type": "stream",
     "text": [
      "using 8 workers.\n",
      "      From worker 8:\t Activating environment at `~/Hamburg/LadderDGA/Project.toml`\n",
      "      From worker 2:\t Activating environment at `~/Hamburg/LadderDGA/Project.toml`\n",
      "      From worker 4:\t Activating environment at `~/Hamburg/LadderDGA/Project.toml`\n",
      "      From worker 5:\t Activating environment at `~/Hamburg/LadderDGA/Project.toml`\n",
      "      From worker 7:\t Activating environment at `~/Hamburg/LadderDGA/Project.toml`\n",
      "      From worker 3:\t Activating environment at `~/Hamburg/LadderDGA/Project.toml`\n",
      "      From worker 6:\t Activating environment at `~/Hamburg/LadderDGA/Project.toml`\n"
     ]
    },
    {
     "name": "stderr",
     "output_type": "stream",
     "text": [
      "\u001b[32m\u001b[1m Activating\u001b[22m\u001b[39m environment at `~/Hamburg/LadderDGA/Project.toml`\n",
      "┌ Warning: ArgParse not working with jupyter notebooks\n",
      "└ @ Main.LadderDGA /home/julian/Hamburg/LadderDGA/src/DepsInit.jl:47\n",
      "┌ Warning: Check U and Beta consistency in chi_dir/gamma_dir\n",
      "└ @ Main.LadderDGA /home/julian/Hamburg/LadderDGA/src/DepsInit.jl:48\n",
      "┌ Info: Reading Inputs...\n",
      "└ @ Main.LadderDGA /home/julian/Hamburg/LadderDGA/src/DepsInit.jl:50\n",
      "┌ Info: Reading Fortran Input, this can take several minutes.\n",
      "└ @ Main.LadderDGA /home/julian/Hamburg/LadderDGA/src/IO.jl:94\n",
      "┌ Info: Done Reading Gamma\n",
      "└ @ Main.LadderDGA /home/julian/Hamburg/LadderDGA/src/IO.jl:108\n",
      "┌ Info: Done Reading chi\n",
      "└ @ Main.LadderDGA /home/julian/Hamburg/LadderDGA/src/IO.jl:110\n",
      "┌ Info: loading from \n",
      "│   env.inputVars = vars.jld\n",
      "└ @ Main.LadderDGA /home/julian/Hamburg/LadderDGA/src/helpers.jl:66\n",
      "┌ Warning: TODO: check beta consistency, config <-> g0man, chi_dir <-> gamma dir\n",
      "└ @ Main.LadderDGA /home/julian/Hamburg/LadderDGA/src/helpers.jl:76\n",
      "\u001b[36m\u001b[1m┌ \u001b[22m\u001b[39m\u001b[36m\u001b[1mInfo: \u001b[22m\u001b[39mInputs Read. Starting Computation.\n",
      "\u001b[36m\u001b[1m│ \u001b[22m\u001b[39mFound usable intervals for local susceptibility of length \n",
      "\u001b[36m\u001b[1m│ \u001b[22m\u001b[39m      sp: 21\n",
      "\u001b[36m\u001b[1m│ \u001b[22m\u001b[39m      ch: 17 \n",
      "\u001b[36m\u001b[1m└ \u001b[22m\u001b[39m      χLoc_sp = 0.4438, χLoc_ch = 0.0512\n",
      "\u001b[33m\u001b[1m┌ \u001b[22m\u001b[39m\u001b[33m\u001b[1mWarning: \u001b[22m\u001b[39mForcing non tail corrected summation in EoM\n",
      "\u001b[33m\u001b[1m└ \u001b[22m\u001b[39m\u001b[90m@ Main.LadderDGA ~/Hamburg/LadderDGA/src/DepsInit.jl:100\u001b[39m\n",
      "\u001b[36m\u001b[1m[ \u001b[22m\u001b[39m\u001b[36m\u001b[1mInfo: \u001b[22m\u001b[39mCalculating local quantities: \n",
      "\u001b[36m\u001b[1m[ \u001b[22m\u001b[39m\u001b[36m\u001b[1mInfo: \u001b[22m\u001b[39mCalculating bubble: \n",
      "\u001b[36m\u001b[1m[ \u001b[22m\u001b[39m\u001b[36m\u001b[1mInfo: \u001b[22m\u001b[39mCalculating χ and γ: \n",
      "\u001b[36m\u001b[1m[ \u001b[22m\u001b[39m\u001b[36m\u001b[1mInfo: \u001b[22m\u001b[39mCalculating λ correction in the spin channel: \n",
      "\u001b[33m\u001b[1m┌ \u001b[22m\u001b[39m\u001b[33m\u001b[1mWarning: \u001b[22m\u001b[39mcurrently using min(usable_sp, usable_ch) for all calculations. relax this?\n",
      "\u001b[33m\u001b[1m└ \u001b[22m\u001b[39m\u001b[90m@ Main.LadderDGA ~/Hamburg/LadderDGA/src/lambdaCorrection.jl:13\u001b[39m\n",
      "\u001b[36m\u001b[1m┌ \u001b[22m\u001b[39m\u001b[36m\u001b[1mInfo: \u001b[22m\u001b[39mFound usable intervals for non-local susceptibility of length \n",
      "\u001b[36m\u001b[1m│ \u001b[22m\u001b[39msp: 35:47, length: 13\n",
      "\u001b[36m\u001b[1m│ \u001b[22m\u001b[39mch: 35:47, length: 13\n",
      "\u001b[36m\u001b[1m└ \u001b[22m\u001b[39musable: 35:47, length: 13\n",
      "\u001b[36m\u001b[1m┌ \u001b[22m\u001b[39m\u001b[36m\u001b[1mInfo: \u001b[22m\u001b[39m35:47\n",
      "\u001b[36m\u001b[1m└ \u001b[22m\u001b[39m  sum(nlQ_ch.χ_ω[usable_ω]) / mP.β = 0.033361061346017275 - 4.4116299336161475e-25im\n",
      "\u001b[36m\u001b[1m[ \u001b[22m\u001b[39m\u001b[36m\u001b[1mInfo: \u001b[22m\u001b[39m(true, 0.5, 0.04826149637107521, 0.05115409906525533, 0.44375016237541043, 0.04826149637107521)\n",
      "\u001b[36m\u001b[1m┌ \u001b[22m\u001b[39m\u001b[36m\u001b[1mInfo: \u001b[22m\u001b[39mComputing λ corrected χsp, using \n",
      "\u001b[36m\u001b[1m│ \u001b[22m\u001b[39m  simParams.χFillType = lambda_χ_fill::ChiFillType = 1\n",
      "\u001b[36m\u001b[1m└ \u001b[22m\u001b[39m   as fill value outside usable ω range. = \" as fill value outside usable ω range.\"\n",
      "\u001b[36m\u001b[1m┌ \u001b[22m\u001b[39m\u001b[36m\u001b[1mInfo: \u001b[22m\u001b[39mUsing rhs for lambda correction: \n",
      "\u001b[36m\u001b[1m│ \u001b[22m\u001b[39m  rhs = 0.45173850362892476\n",
      "\u001b[36m\u001b[1m│ \u001b[22m\u001b[39m   with tc =  = \" with tc = \"\n",
      "\u001b[36m\u001b[1m└ \u001b[22m\u001b[39m  tc = true\n",
      "\u001b[36m\u001b[1m┌ \u001b[22m\u001b[39m\u001b[36m\u001b[1mInfo: \u001b[22m\u001b[39mfound \n",
      "\u001b[36m\u001b[1m│ \u001b[22m\u001b[39m  χ_min = 0.08646669823905509\n",
      "\u001b[36m\u001b[1m│ \u001b[22m\u001b[39m  . Looking for roots in intervall  = \". Looking for roots in intervall \"\n",
      "\u001b[36m\u001b[1m│ \u001b[22m\u001b[39m  int =\n",
      "\u001b[36m\u001b[1m│ \u001b[22m\u001b[39m   2-element Array{Float64,1}:\n",
      "\u001b[36m\u001b[1m│ \u001b[22m\u001b[39m    0.08646669823905509\n",
      "\u001b[36m\u001b[1m└ \u001b[22m\u001b[39m    0.10432384109619794\n",
      "\u001b[36m\u001b[1m┌ \u001b[22m\u001b[39m\u001b[36m\u001b[1mInfo: \u001b[22m\u001b[39mpossible roots: \n",
      "\u001b[36m\u001b[1m│ \u001b[22m\u001b[39m  r =\n",
      "\u001b[36m\u001b[1m│ \u001b[22m\u001b[39m   68-element Array{IntervalRootFinding.Root{IntervalArithmetic.Interval{Float64}},1}:\n",
      "\u001b[36m\u001b[1m│ \u001b[22m\u001b[39m    Root([0.0864666, 0.0864667], :unknown)\n",
      "\u001b[36m\u001b[1m│ \u001b[22m\u001b[39m    Root([0.0864667, 0.0864668], :unknown)\n",
      "\u001b[36m\u001b[1m│ \u001b[22m\u001b[39m    Root([0.0864667, 0.0864668], :unknown)\n",
      "\u001b[36m\u001b[1m│ \u001b[22m\u001b[39m    Root([0.0864667, 0.0864668], :unknown)\n",
      "\u001b[36m\u001b[1m│ \u001b[22m\u001b[39m    Root([0.0864666, 0.0864667], :unknown)\n",
      "\u001b[36m\u001b[1m│ \u001b[22m\u001b[39m    ⋮\n",
      "\u001b[36m\u001b[1m│ \u001b[22m\u001b[39m    Root([0.0864667, 0.0864668], :unknown)\n",
      "\u001b[36m\u001b[1m│ \u001b[22m\u001b[39m    Root([0.0864667, 0.0864668], :unknown)\n",
      "\u001b[36m\u001b[1m│ \u001b[22m\u001b[39m    Root([0.0864667, 0.0864668], :unknown)\n",
      "\u001b[36m\u001b[1m│ \u001b[22m\u001b[39m    Root([0.0864667, 0.0864668], :unknown)\n",
      "\u001b[36m\u001b[1m└ \u001b[22m\u001b[39m    Root([0.0864666, 0.0864667], :unknown)\n",
      "\u001b[36m\u001b[1m┌ \u001b[22m\u001b[39m\u001b[36m\u001b[1mInfo: \u001b[22m\u001b[39mFound λsp \n",
      "\u001b[36m\u001b[1m└ \u001b[22m\u001b[39m  λsp = 0.087662392509119\n",
      "\u001b[36m\u001b[1m[ \u001b[22m\u001b[39m\u001b[36m\u001b[1mInfo: \u001b[22m\u001b[39mCalculating Σ ladder: \n"
     ]
    },
    {
     "name": "stdout",
     "output_type": "stream",
     "text": [
      "\n"
     ]
    },
    {
     "name": "stderr",
     "output_type": "stream",
     "text": [
      "\u001b[36m\u001b[1m[ \u001b[22m\u001b[39m\u001b[36m\u001b[1mInfo: \u001b[22m\u001b[39mDone.\n"
     ]
    }
   ],
   "source": [
    "ENV[\"GKS_ENCODING\"] = \"utf-8\"\n",
    "using Plots\n",
    "include(\"/home/julian/Hamburg/LadderDGA/run.jl\");"
   ]
  },
  {
   "cell_type": "code",
   "execution_count": 86,
   "metadata": {},
   "outputs": [],
   "source": [
    "sP = LadderDGA.simParams\n",
    "mP = LadderDGA.modelParams\n",
    "iνₙ = LadderDGA.iν_array(mP.β, 0:(sP.n_iν-1))\n",
    "ϵqGrid = LadderDGA.reduce_kGrid(LadderDGA.cut_mirror(collect(LadderDGA.ϵkGrid)))\n",
    "iνₙ, GImp    = LadderDGA.readGImp(LadderDGA.env.inputDir * \"/gm_wim\", only_positive=true)\n",
    "ϵₖ, Vₖ, μ    = LadderDGA.read_anderson_parameters(LadderDGA.env.inputDir * \"/hubb.andpar\");\n",
    "E_kin_ED, E_pot_ED  = LadderDGA.calc_E_ED(iνₙ[1:41], ϵₖ, Vₖ, GImp[1:41], mP)\n",
    "E_kin_ED_2, E_pot_ED_2  = LadderDGA.calc_E_ED(iνₙ[1:200], ϵₖ, Vₖ, GImp[1:200], mP)\n",
    "E_kin_ED_3, E_pot_ED_3  = LadderDGA.calc_E_ED(iνₙ[1:1000], ϵₖ, Vₖ, GImp[1:1000], mP)\n",
    "E_kin_ED_4, E_pot_ED_4  = LadderDGA.calc_E_ED(iνₙ[1:5000], ϵₖ, Vₖ, GImp[1:5000], mP)\n",
    "#ekin_ED_l = [E_Kin_ED(iνₙ[1:i], ϵₖ, Vₖ, GImp[1:i], mP.β; full=false) for i in 1:41];\n",
    "#ekin_ED_l_2 = [E_Kin_ED_2(iνₙ[1:i], Vₖ, GImp[1:i], LadderDGA.Σ_loc_pos, mP.μ, mP.β; full=false) for i in 1:41];\n",
    "#ekin_ED_l_3 = [2*sum((GImp .* Δ)[1:i]).* (2/mP.β) for i in 1:41];\n",
    "#epot_ED_l = [E_Pot_ED(iνₙ[1:i], ϵₖ, Vₖ, GImp[1:i], mP) for i in 1:41];"
   ]
  },
  {
   "cell_type": "code",
   "execution_count": 3,
   "metadata": {},
   "outputs": [
    {
     "name": "stdout",
     "output_type": "stream",
     "text": [
      "TODO: E_pot function has to be tested\n",
      "TODO: use GNew/GLoc/GImp instead of Sigma\n",
      "TODO: make frequency summation with sum_freq an optional\n"
     ]
    }
   ],
   "source": [
    "ep, ek = LadderDGA.calc_E(LadderDGA.Σ_loc_pos[1: LadderDGA.simParams.n_iν], [1], 1, (1), LadderDGA.modelParams, LadderDGA.simParams);"
   ]
  },
  {
   "cell_type": "code",
   "execution_count": 90,
   "metadata": {},
   "outputs": [
    {
     "data": {
      "text/plain": [
       "E_ED_fit (generic function with 1 method)"
      ]
     },
     "execution_count": 90,
     "metadata": {},
     "output_type": "execute_result"
    }
   ],
   "source": [
    "function E_ED_fit(iνₙ, ϵₖ, Vₖ, GImp, mP, N)\n",
    "    NMax = minimum([length(GImp), N]) \n",
    "    ffit = Array{Float64,2}(undef, NMax, 2)\n",
    "    W = LadderDGA.build_weights(1, NMax, [0,6,8])\n",
    "    for i in 1:NMax\n",
    "        ffit[i,:] .= LadderDGA.calc_E_ED(iνₙ[1:i], ϵₖ, Vₖ, GImp[1:i], mP)\n",
    "    end\n",
    "    E_Kin = LadderDGA.fit_νsum(W, ffit[:,1])\n",
    "    E_Pot = LadderDGA.fit_νsum(W, ffit[:,2])\n",
    "    return E_Kin, E_Pot\n",
    "end"
   ]
  },
  {
   "cell_type": "code",
   "execution_count": 92,
   "metadata": {},
   "outputs": [
    {
     "data": {
      "text/plain": [
       "(-0.16945059999510464, 0.10263781384649799)"
      ]
     },
     "execution_count": 92,
     "metadata": {},
     "output_type": "execute_result"
    }
   ],
   "source": [
    "E_ED_fit(iνₙ, ϵₖ, Vₖ, GImp, mP, 200)"
   ]
  },
  {
   "cell_type": "code",
   "execution_count": 10,
   "metadata": {},
   "outputs": [
    {
     "name": "stdout",
     "output_type": "stream",
     "text": [
      "-0.1691548170827879\n"
     ]
    }
   ],
   "source": [
    "println(E_kin_ED_3)"
   ]
  },
  {
   "cell_type": "code",
   "execution_count": 87,
   "metadata": {},
   "outputs": [
    {
     "name": "stdout",
     "output_type": "stream",
     "text": [
      "0.10325433395684014\n",
      "-0.16917397121428923\n",
      "0.10329915075518104\n",
      "-0.16915498153769692\n",
      "0.103299539517137\n",
      "-0.1691548170827879\n",
      "0.10329954261168517\n",
      "-0.1691548157668945\n"
     ]
    }
   ],
   "source": [
    "println(E_pot_ED)\n",
    "println(E_kin_ED)\n",
    "println(E_pot_ED_2)\n",
    "println(E_kin_ED_2)\n",
    "println(E_pot_ED_3)\n",
    "println(E_kin_ED_3)\n",
    "println(E_pot_ED_4)\n",
    "println(E_kin_ED_4)"
   ]
  },
  {
   "cell_type": "code",
   "execution_count": 291,
   "metadata": {},
   "outputs": [
    {
     "name": "stderr",
     "output_type": "stream",
     "text": [
      "WARNING: replacing module LadderDGA.\n",
      "\u001b[33m\u001b[1m┌ \u001b[22m\u001b[39m\u001b[33m\u001b[1mWarning: \u001b[22m\u001b[39mArgParse not working with jupyter notebooks\n",
      "\u001b[33m\u001b[1m└ \u001b[22m\u001b[39m\u001b[90m@ Main.LadderDGA ~/Hamburg/LadderDGA/src/DepsInit.jl:47\u001b[39m\n",
      "\u001b[33m\u001b[1m┌ \u001b[22m\u001b[39m\u001b[33m\u001b[1mWarning: \u001b[22m\u001b[39mCheck U and Beta consistency in chi_dir/gamma_dir\n",
      "\u001b[33m\u001b[1m└ \u001b[22m\u001b[39m\u001b[90m@ Main.LadderDGA ~/Hamburg/LadderDGA/src/DepsInit.jl:48\u001b[39m\n",
      "\u001b[36m\u001b[1m[ \u001b[22m\u001b[39m\u001b[36m\u001b[1mInfo: \u001b[22m\u001b[39mReading Inputs...\n",
      "\u001b[36m\u001b[1m[ \u001b[22m\u001b[39m\u001b[36m\u001b[1mInfo: \u001b[22m\u001b[39mReading Fortran Input, this can take several minutes.\n",
      "\u001b[36m\u001b[1m[ \u001b[22m\u001b[39m\u001b[36m\u001b[1mInfo: \u001b[22m\u001b[39mDone Reading Gamma\n",
      "\u001b[36m\u001b[1m[ \u001b[22m\u001b[39m\u001b[36m\u001b[1mInfo: \u001b[22m\u001b[39mDone Reading chi\n",
      "\u001b[36m\u001b[1m┌ \u001b[22m\u001b[39m\u001b[36m\u001b[1mInfo: \u001b[22m\u001b[39mloading from \n",
      "\u001b[36m\u001b[1m└ \u001b[22m\u001b[39m  env.inputVars = \"vars.jld\"\n",
      "\u001b[33m\u001b[1m┌ \u001b[22m\u001b[39m\u001b[33m\u001b[1mWarning: \u001b[22m\u001b[39mTODO: check beta consistency, config <-> g0man, chi_dir <-> gamma dir\n",
      "\u001b[33m\u001b[1m└ \u001b[22m\u001b[39m\u001b[90m@ Main.LadderDGA ~/Hamburg/LadderDGA/src/helpers.jl:76\u001b[39m\n",
      "\u001b[36m\u001b[1m┌ \u001b[22m\u001b[39m\u001b[36m\u001b[1mInfo: \u001b[22m\u001b[39mInputs Read. Starting Computation.\n",
      "\u001b[36m\u001b[1m│ \u001b[22m\u001b[39mFound usable intervals for local susceptibility of length \n",
      "\u001b[36m\u001b[1m│ \u001b[22m\u001b[39m      sp: 21\n",
      "\u001b[36m\u001b[1m│ \u001b[22m\u001b[39m      ch: 17 \n",
      "\u001b[36m\u001b[1m└ \u001b[22m\u001b[39m      χLoc_sp = 0.4438, χLoc_ch = 0.0512\n",
      "\u001b[33m\u001b[1m┌ \u001b[22m\u001b[39m\u001b[33m\u001b[1mWarning: \u001b[22m\u001b[39mForcing non tail corrected summation in EoM\n",
      "\u001b[33m\u001b[1m└ \u001b[22m\u001b[39m\u001b[90m@ Main.LadderDGA ~/Hamburg/LadderDGA/src/DepsInit.jl:100\u001b[39m\n"
     ]
    },
    {
     "name": "stdout",
     "output_type": "stream",
     "text": [
      "TODO: E_pot function has to be tested\n",
      "TODO: use GNew/GLoc/GImp instead of Sigma\n",
      "TODO: make frequency summation with sum_freq an optional\n",
      "TODO: E_pot function has to be tested\n",
      "TODO: use GNew/GLoc/GImp instead of Sigma\n",
      "TODO: make frequency summation with sum_freq an optional\n",
      "TODO: E_kin function has to be tested\n",
      "TODO: use GNew/GLoc/GImp instead of Sigma\n",
      "TODO: make frequency summation with sum_freq an optional\n"
     ]
    }
   ],
   "source": [
    "ep, ek = LadderDGA.calc_E(Σ_ladder, ϵqGrid, LadderDGA.qMultiplicity, LadderDGA.modelParams, LadderDGA.simParams);\n",
    "ep_corr = LadderDGA.E_Pot(Σ_ladder, ϵqGrid, LadderDGA.qMultiplicity, LadderDGA.modelParams, LadderDGA.simParams);\n",
    "ek_corr = LadderDGA.E_Kin(Σ_ladder, ϵqGrid, LadderDGA.qMultiplicity, LadderDGA.modelParams, LadderDGA.simParams);"
   ]
  },
  {
   "cell_type": "code",
   "execution_count": 294,
   "metadata": {},
   "outputs": [
    {
     "name": "stdout",
     "output_type": "stream",
     "text": [
      "41\n"
     ]
    }
   ],
   "source": [
    "LadderDGA.writeFortranEnergies(ek, ep, mP.β, \".\")"
   ]
  },
  {
   "cell_type": "code",
   "execution_count": 293,
   "metadata": {},
   "outputs": [
    {
     "data": {
      "text/plain": [
       "\"/home/julian/Hamburg/LadderDGA\""
      ]
     },
     "execution_count": 293,
     "metadata": {},
     "output_type": "execute_result"
    }
   ],
   "source": [
    "pwd()"
   ]
  },
  {
   "cell_type": "code",
   "execution_count": null,
   "metadata": {},
   "outputs": [],
   "source": []
  }
 ],
 "metadata": {
  "kernelspec": {
   "display_name": "Julia 1.4.0",
   "language": "julia",
   "name": "julia-1.4"
  },
  "language_info": {
   "file_extension": ".jl",
   "mimetype": "application/julia",
   "name": "julia",
   "version": "1.5.1"
  }
 },
 "nbformat": 4,
 "nbformat_minor": 4
}
