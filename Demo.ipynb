{
 "cells": [
  {
   "cell_type": "markdown",
   "metadata": {},
   "source": [
    "# Introduction\n",
    "\n",
    "This notebook will go through the basic steps of preparing the input and calculating non-local quantities."
   ]
  },
  {
   "cell_type": "markdown",
   "metadata": {},
   "source": [
    "# Input\n",
    "\n",
    "The first step will be the preparation of input data. For this tutorial we assume, that you have been provided with a file containing the DMFT output data. \n",
    "\n",
    "We will convert this file to an input file for the `LadderDGA.jl` code and generate a frequency mesh. \n",
    "\n",
    "## TRIQS Conversion\n",
    "\n",
    "If you are starting out with DMFT data from TRIQS, the `triqs_conv.jl` script in the scripts subdirectory of the `LadderDGA.jl` code will responsible for the conversion. This script also utilizes the `SparseVertex` and `EquivalencyClassesConstructor.jl` packages. \n",
    "\n",
    "Most of the conversion scripts are built to be called from the command line with the input given as parameters.\n",
    "In Julia call parameters are stored in the `ARGS` array. Thus, in order to emulate a call with parameters in jupyter notebooks, we will modify this array befor calls to scripts.\n",
    "\n",
    "We start by adding the path to a triqs output file and a directory for the script output (`@__DIR__` points to the directory the current script runs in) to the `ARGS` array and executing the `triqs_conv.jl` script for this input.\n",
    "The input file is NOT provided with this example!\n",
    "\n",
    "If you want to know more about a function, you can type `? function_name` in any cell to view the docstring."
   ]
  },
  {
   "cell_type": "code",
   "execution_count": null,
   "metadata": {},
   "outputs": [],
   "source": [
    "path_to_input = \"/home/julian/Hamburg/ladderDGA_triqs/ladderDGA/U2_n1_b12.h5\"\n",
    "path_to_output = @__DIR__\n",
    "empty!(ARGS)\n",
    "push!(ARGS,path_to_input)\n",
    "push!(ARGS,path_to_output)\n",
    "include(\"../scripts/triqs_conv.jl\")"
   ]
  },
  {
   "cell_type": "markdown",
   "metadata": {},
   "source": [
    "## Config File\n",
    "You will find two new files in the `path_to_output` directory. Before we can start the calculation we need to specify a configuration file which will point `LadderDGA.jl` to these files and provide all necessary parameters.\n",
    "\n",
    "You will find an example configuration named `config.toml` in the root directory of `LadderDGA.jl`.\n",
    "`U`, `mu`, `beta`, `nden` and `kGrid` should be set according to your DMFT calculation. The syntax for the `kGrid` parameter is as follows: The grid is given as a string starting with the grid name (see also `Dispersions.jl` for more information), followed by additional parameters, separated by `-`. Currently `2Dsc` and `3Dsc` are available with a single parameter for the hopping to neighbouring sites. Examples are `\"2Dsc-0.25\"` or `\"3Dsc-0.408248\"`\n",
    "\n",
    "Remember to set the `inputDir` and `freqFile` variables to the previously generated files."
   ]
  },
  {
   "cell_type": "markdown",
   "metadata": {},
   "source": [
    "# Running the code\n",
    "\n",
    "The `LadderDGA.jl` code consists of a collection of functions but no linear program flow. This means one has to define a script which defines the actual program flow.\n",
    "Some examples can be found in the root directory of the project. Here we will go through a typical program flow, also giving us the opportunity to plot quantities at differnts steps of the calculation.\n",
    "First, point the `cfg_file` variable to your edited configuration file.\n",
    "We then also tell Julia to use `Plots` and `LadderDGA`."
   ]
  },
  {
   "cell_type": "code",
   "execution_count": 1,
   "metadata": {},
   "outputs": [
    {
     "name": "stderr",
     "output_type": "stream",
     "text": [
      "┌ Info: Precompiling LadderDGA [78e40beb-bf89-4c0e-9d2b-bee278912f2b]\n",
      "└ @ Base loading.jl:1317\n"
     ]
    }
   ],
   "source": [
    "cfg_file = \"../config.toml\"\n",
    "\n",
    "using Plots\n",
    "using LadderDGA"
   ]
  },
  {
   "cell_type": "markdown",
   "metadata": {},
   "source": [
    "The next step will read the config and input files and set up all variables for you.\n",
    "The `kGrids` and `qGrids` (reduced k grid) arrays contain k grids of the sizes specified in the `Nk` array in your `config.toml`. \n",
    "This can be handy for finite size scaling, but for now we will stick with simple calculations and only use a single k grid size.\n",
    "Finally we will also need to read in the DMFT quantities. `setup_LDGA` will do just that.\n",
    "\n",
    "Note: the full grids (here stored in the kGrids array) are deprecated. They will be removed from future versions, together with most debug variables (all variables in the return list of `readConfig` after `qGridLoc`)."
   ]
  },
  {
   "cell_type": "code",
   "execution_count": 2,
   "metadata": {},
   "outputs": [
    {
     "name": "stderr",
     "output_type": "stream",
     "text": [
      "┌ Info: Reading Inputs...\n",
      "└ @ LadderDGA /home/julian/lDGATools/LadderDGA.jl/src/IO.jl:7\n",
      "┌ Warning: hardcoded 3D cP lattice with t = 0.4082\n",
      "└ @ LadderDGA /home/julian/lDGATools/LadderDGA.jl/src/IO.jl:74\n",
      "┌ Info: loading from \n",
      "│   env.inputVars = triqs_out.jld2\n",
      "└ @ LadderDGA /home/julian/lDGATools/LadderDGA.jl/src/helpers.jl:74\n",
      "┌ Warning: TODO: check beta consistency, config <-> g0man, chi_dir <-> gamma dir\n",
      "└ @ LadderDGA /home/julian/lDGATools/LadderDGA.jl/src/helpers.jl:108\n",
      "┌ Info: Inputs Read. Starting Computation.\n",
      "│ Found usable intervals for local susceptibility of length \n",
      "│   sp: 43\n",
      "│   ch: 43 \n",
      "│   χLoc_sp = 0.2081, χLoc_ch = 0.1304\n",
      "└ @ LadderDGA /home/julian/lDGATools/LadderDGA.jl/src/helpers.jl:149\n"
     ]
    }
   ],
   "source": [
    "mP, sP, env, kGrids, qGrids, qGridLoc, freqRed_map, freqList, freqList_min, parents, ops, nFermi, nBose, shift, base, offset = readConfig(cfg_file)\n",
    "kG = kGrids[1]\n",
    "qG = qGrids[1]\n",
    "νGrid, sumHelper_f, impQ_sp, impQ_ch, GImp_fft, GLoc_fft, Σ_loc, FUpDo, gImp, gLoc = setup_LDGA(kG, freqList, mP, sP, env);"
   ]
  },
  {
   "cell_type": "markdown",
   "metadata": {},
   "source": [
    "We are now in the position to calculate the ladder DGA self energy. The first 5 lines compute all quantities on a lattice of size 1. The resulting self energy is used to cancel out discretization errors and finite size effects in the full self energy."
   ]
  },
  {
   "cell_type": "code",
   "execution_count": null,
   "metadata": {},
   "outputs": [],
   "source": [
    "bubbleLoc = calc_bubble(νGrid, GImp_fft, qGridLoc, mP, sP)\n",
    "locQ_sp = calc_χ_trilex(impQ_sp.Γ, bubbleLoc, qGridLoc, νGrid, sumHelper_f, mP.U, mP, sP);\n",
    "locQ_ch = calc_χ_trilex(impQ_ch.Γ, bubbleLoc, qGridLoc, νGrid, sumHelper_f, -mP.U, mP, sP);\n",
    "Σ_ladderLoc = calc_Σ(locQ_sp, locQ_ch, bubbleLoc, GImp_fft, FUpDo, qGridLoc, sumHelper_f, mP, sP)\n",
    "Σ_ladderLoc = Σ_ladderLoc .+ mP.n * mP.U/2.0;\n",
    "\n",
    "\n",
    "bubble = calc_bubble(νGrid, GLoc_fft, qG, mP, sP);\n",
    "nlQ_sp = calc_χ_trilex(impQ_sp.Γ, bubble, qG, νGrid, sumHelper_f, mP.U, mP, sP);\n",
    "nlQ_ch = calc_χ_trilex(impQ_ch.Γ, bubble, qG, νGrid, sumHelper_f, -mP.U, mP, sP);\n",
    "\n",
    "λ_sp, λ_spch  = λ_correction!(impQ_sp, impQ_ch, FUpDo, Σ_loc, Σ_ladderLoc, nlQ_sp, nlQ_ch, bubble, GLoc_fft, qG, mP, sP)\n",
    "\n",
    "Σ_ladder = calc_Σ(nlQ_sp, nlQ_ch, bubble, GLoc_fft, FUpDo, qG, sumHelper_f, mP, sP)\n",
    "Σ_ladder_corrected = Σ_ladder .- Σ_ladderLoc .+ Σ_loc[1:size(Σ_ladder,1)]\n"
   ]
  },
  {
   "cell_type": "markdown",
   "metadata": {},
   "source": [
    "# Sum Extrapolations"
   ]
  },
  {
   "cell_type": "code",
   "execution_count": 52,
   "metadata": {},
   "outputs": [
    {
     "name": "stderr",
     "output_type": "stream",
     "text": [
      "┌ Info: Reading Inputs...\n",
      "└ @ LadderDGA /home/julian/Hamburg/LadderDGA.jl/src/helpers.jl:55\n",
      "┌ Info: loading from \n",
      "│   env.inputVars = ED_out.jld2\n",
      "└ @ LadderDGA /home/julian/Hamburg/LadderDGA.jl/src/helpers.jl:81\n"
     ]
    },
    {
     "name": "stdout",
     "output_type": "stream",
     "text": [
      "8:34\n",
      "SeriesAcceleration.Richardson(10:14, [100.04166666666667; -682.6666666666666; 1640.25; -1666.6666666666667; 610.0416666666666])\n"
     ]
    },
    {
     "name": "stderr",
     "output_type": "stream",
     "text": [
      "┌ Warning: TODO: check beta consistency, config <-> g0man, chi_dir <-> gamma dir\n",
      "└ @ LadderDGA /home/julian/Hamburg/LadderDGA.jl/src/helpers.jl:110\n",
      "┌ Info: Constructing fit kernels\n",
      "└ @ LadderDGA /home/julian/Hamburg/LadderDGA.jl/src/helpers.jl:131\n",
      "┌ Info: Inputs Read. Starting Computation.\n",
      "│ Found usable intervals for local susceptibility of length \n",
      "│   sp: 27\n",
      "│   ch: 27 \n",
      "│   χLoc_sp = 0.2836, χLoc_ch = 0.0207\n",
      "└ @ LadderDGA /home/julian/Hamburg/LadderDGA.jl/src/helpers.jl:157\n"
     ]
    },
    {
     "data": {
      "image/svg+xml": [
       "<?xml version=\"1.0\" encoding=\"utf-8\"?>\n",
       "<svg xmlns=\"http://www.w3.org/2000/svg\" xmlns:xlink=\"http://www.w3.org/1999/xlink\" width=\"600\" height=\"400\" viewBox=\"0 0 2400 1600\">\n",
       "<defs>\n",
       "  <clipPath id=\"clip960\">\n",
       "    <rect x=\"0\" y=\"0\" width=\"2400\" height=\"1600\"/>\n",
       "  </clipPath>\n",
       "</defs>\n",
       "<path clip-path=\"url(#clip960)\" d=\"\n",
       "M0 1600 L2400 1600 L2400 0 L0 0  Z\n",
       "  \" fill=\"#ffffff\" fill-rule=\"evenodd\" fill-opacity=\"1\"/>\n",
       "<defs>\n",
       "  <clipPath id=\"clip961\">\n",
       "    <rect x=\"480\" y=\"0\" width=\"1681\" height=\"1600\"/>\n",
       "  </clipPath>\n",
       "</defs>\n",
       "<path clip-path=\"url(#clip960)\" d=\"\n",
       "M219.38 1423.18 L2352.76 1423.18 L2352.76 123.472 L219.38 123.472  Z\n",
       "  \" fill=\"#ffffff\" fill-rule=\"evenodd\" fill-opacity=\"1\"/>\n",
       "<defs>\n",
       "  <clipPath id=\"clip962\">\n",
       "    <rect x=\"219\" y=\"123\" width=\"2134\" height=\"1301\"/>\n",
       "  </clipPath>\n",
       "</defs>\n",
       "<polyline clip-path=\"url(#clip962)\" style=\"stroke:#000000; stroke-width:2; stroke-opacity:0.1; fill:none\" points=\"\n",
       "  279.759,1423.18 279.759,123.472 \n",
       "  \"/>\n",
       "<polyline clip-path=\"url(#clip962)\" style=\"stroke:#000000; stroke-width:2; stroke-opacity:0.1; fill:none\" points=\"\n",
       "  615.195,1423.18 615.195,123.472 \n",
       "  \"/>\n",
       "<polyline clip-path=\"url(#clip962)\" style=\"stroke:#000000; stroke-width:2; stroke-opacity:0.1; fill:none\" points=\"\n",
       "  950.632,1423.18 950.632,123.472 \n",
       "  \"/>\n",
       "<polyline clip-path=\"url(#clip962)\" style=\"stroke:#000000; stroke-width:2; stroke-opacity:0.1; fill:none\" points=\"\n",
       "  1286.07,1423.18 1286.07,123.472 \n",
       "  \"/>\n",
       "<polyline clip-path=\"url(#clip962)\" style=\"stroke:#000000; stroke-width:2; stroke-opacity:0.1; fill:none\" points=\"\n",
       "  1621.5,1423.18 1621.5,123.472 \n",
       "  \"/>\n",
       "<polyline clip-path=\"url(#clip962)\" style=\"stroke:#000000; stroke-width:2; stroke-opacity:0.1; fill:none\" points=\"\n",
       "  1956.94,1423.18 1956.94,123.472 \n",
       "  \"/>\n",
       "<polyline clip-path=\"url(#clip962)\" style=\"stroke:#000000; stroke-width:2; stroke-opacity:0.1; fill:none\" points=\"\n",
       "  2292.38,1423.18 2292.38,123.472 \n",
       "  \"/>\n",
       "<polyline clip-path=\"url(#clip960)\" style=\"stroke:#000000; stroke-width:4; stroke-opacity:1; fill:none\" points=\"\n",
       "  219.38,1423.18 2352.76,1423.18 \n",
       "  \"/>\n",
       "<polyline clip-path=\"url(#clip960)\" style=\"stroke:#000000; stroke-width:4; stroke-opacity:1; fill:none\" points=\"\n",
       "  279.759,1423.18 279.759,1407.58 \n",
       "  \"/>\n",
       "<polyline clip-path=\"url(#clip960)\" style=\"stroke:#000000; stroke-width:4; stroke-opacity:1; fill:none\" points=\"\n",
       "  615.195,1423.18 615.195,1407.58 \n",
       "  \"/>\n",
       "<polyline clip-path=\"url(#clip960)\" style=\"stroke:#000000; stroke-width:4; stroke-opacity:1; fill:none\" points=\"\n",
       "  950.632,1423.18 950.632,1407.58 \n",
       "  \"/>\n",
       "<polyline clip-path=\"url(#clip960)\" style=\"stroke:#000000; stroke-width:4; stroke-opacity:1; fill:none\" points=\"\n",
       "  1286.07,1423.18 1286.07,1407.58 \n",
       "  \"/>\n",
       "<polyline clip-path=\"url(#clip960)\" style=\"stroke:#000000; stroke-width:4; stroke-opacity:1; fill:none\" points=\"\n",
       "  1621.5,1423.18 1621.5,1407.58 \n",
       "  \"/>\n",
       "<polyline clip-path=\"url(#clip960)\" style=\"stroke:#000000; stroke-width:4; stroke-opacity:1; fill:none\" points=\"\n",
       "  1956.94,1423.18 1956.94,1407.58 \n",
       "  \"/>\n",
       "<polyline clip-path=\"url(#clip960)\" style=\"stroke:#000000; stroke-width:4; stroke-opacity:1; fill:none\" points=\"\n",
       "  2292.38,1423.18 2292.38,1407.58 \n",
       "  \"/>\n",
       "<path clip-path=\"url(#clip960)\" d=\"M 0 0 M234.319 1467.02 L263.995 1467.02 L263.995 1470.96 L234.319 1470.96 L234.319 1467.02 Z\" fill=\"#000000\" fill-rule=\"evenodd\" fill-opacity=\"1\" /><path clip-path=\"url(#clip960)\" d=\"M 0 0 M274.898 1479.92 L282.536 1479.92 L282.536 1453.55 L274.226 1455.22 L274.226 1450.96 L282.49 1449.29 L287.166 1449.29 L287.166 1479.92 L294.805 1479.92 L294.805 1483.85 L274.898 1483.85 L274.898 1479.92 Z\" fill=\"#000000\" fill-rule=\"evenodd\" fill-opacity=\"1\" /><path clip-path=\"url(#clip960)\" d=\"M 0 0 M304.296 1449.29 L322.652 1449.29 L322.652 1453.23 L308.578 1453.23 L308.578 1461.7 Q309.597 1461.35 310.615 1461.19 Q311.634 1461 312.652 1461 Q318.439 1461 321.819 1464.18 Q325.198 1467.35 325.198 1472.76 Q325.198 1478.34 321.726 1481.44 Q318.254 1484.52 311.934 1484.52 Q309.759 1484.52 307.49 1484.15 Q305.245 1483.78 302.837 1483.04 L302.837 1478.34 Q304.921 1479.48 307.143 1480.03 Q309.365 1480.59 311.842 1480.59 Q315.846 1480.59 318.184 1478.48 Q320.522 1476.38 320.522 1472.76 Q320.522 1469.15 318.184 1467.05 Q315.846 1464.94 311.842 1464.94 Q309.967 1464.94 308.092 1465.36 Q306.24 1465.77 304.296 1466.65 L304.296 1449.29 Z\" fill=\"#000000\" fill-rule=\"evenodd\" fill-opacity=\"1\" /><path clip-path=\"url(#clip960)\" d=\"M 0 0 M569.258 1467.02 L598.934 1467.02 L598.934 1470.96 L569.258 1470.96 L569.258 1467.02 Z\" fill=\"#000000\" fill-rule=\"evenodd\" fill-opacity=\"1\" /><path clip-path=\"url(#clip960)\" d=\"M 0 0 M609.836 1479.92 L617.475 1479.92 L617.475 1453.55 L609.165 1455.22 L609.165 1450.96 L617.429 1449.29 L622.105 1449.29 L622.105 1479.92 L629.744 1479.92 L629.744 1483.85 L609.836 1483.85 L609.836 1479.92 Z\" fill=\"#000000\" fill-rule=\"evenodd\" fill-opacity=\"1\" /><path clip-path=\"url(#clip960)\" d=\"M 0 0 M649.188 1452.37 Q645.577 1452.37 643.748 1455.94 Q641.943 1459.48 641.943 1466.61 Q641.943 1473.71 643.748 1477.28 Q645.577 1480.82 649.188 1480.82 Q652.822 1480.82 654.628 1477.28 Q656.457 1473.71 656.457 1466.61 Q656.457 1459.48 654.628 1455.94 Q652.822 1452.37 649.188 1452.37 M649.188 1448.67 Q654.998 1448.67 658.054 1453.27 Q661.132 1457.86 661.132 1466.61 Q661.132 1475.33 658.054 1479.94 Q654.998 1484.52 649.188 1484.52 Q643.378 1484.52 640.299 1479.94 Q637.244 1475.33 637.244 1466.61 Q637.244 1457.86 640.299 1453.27 Q643.378 1448.67 649.188 1448.67 Z\" fill=\"#000000\" fill-rule=\"evenodd\" fill-opacity=\"1\" /><path clip-path=\"url(#clip960)\" d=\"M 0 0 M920.273 1467.02 L949.949 1467.02 L949.949 1470.96 L920.273 1470.96 L920.273 1467.02 Z\" fill=\"#000000\" fill-rule=\"evenodd\" fill-opacity=\"1\" /><path clip-path=\"url(#clip960)\" d=\"M 0 0 M960.088 1449.29 L978.444 1449.29 L978.444 1453.23 L964.37 1453.23 L964.37 1461.7 Q965.388 1461.35 966.407 1461.19 Q967.425 1461 968.444 1461 Q974.231 1461 977.611 1464.18 Q980.99 1467.35 980.99 1472.76 Q980.99 1478.34 977.518 1481.44 Q974.046 1484.52 967.726 1484.52 Q965.55 1484.52 963.282 1484.15 Q961.037 1483.78 958.629 1483.04 L958.629 1478.34 Q960.713 1479.48 962.935 1480.03 Q965.157 1480.59 967.634 1480.59 Q971.638 1480.59 973.976 1478.48 Q976.314 1476.38 976.314 1472.76 Q976.314 1469.15 973.976 1467.05 Q971.638 1464.94 967.634 1464.94 Q965.759 1464.94 963.884 1465.36 Q962.032 1465.77 960.088 1466.65 L960.088 1449.29 Z\" fill=\"#000000\" fill-rule=\"evenodd\" fill-opacity=\"1\" /><path clip-path=\"url(#clip960)\" d=\"M 0 0 M1286.07 1452.37 Q1282.46 1452.37 1280.63 1455.94 Q1278.82 1459.48 1278.82 1466.61 Q1278.82 1473.71 1280.63 1477.28 Q1282.46 1480.82 1286.07 1480.82 Q1289.7 1480.82 1291.51 1477.28 Q1293.34 1473.71 1293.34 1466.61 Q1293.34 1459.48 1291.51 1455.94 Q1289.7 1452.37 1286.07 1452.37 M1286.07 1448.67 Q1291.88 1448.67 1294.93 1453.27 Q1298.01 1457.86 1298.01 1466.61 Q1298.01 1475.33 1294.93 1479.94 Q1291.88 1484.52 1286.07 1484.52 Q1280.26 1484.52 1277.18 1479.94 Q1274.12 1475.33 1274.12 1466.61 Q1274.12 1457.86 1277.18 1453.27 Q1280.26 1448.67 1286.07 1448.67 Z\" fill=\"#000000\" fill-rule=\"evenodd\" fill-opacity=\"1\" /><path clip-path=\"url(#clip960)\" d=\"M 0 0 M1611.78 1449.29 L1630.14 1449.29 L1630.14 1453.23 L1616.06 1453.23 L1616.06 1461.7 Q1617.08 1461.35 1618.1 1461.19 Q1619.12 1461 1620.14 1461 Q1625.93 1461 1629.31 1464.18 Q1632.68 1467.35 1632.68 1472.76 Q1632.68 1478.34 1629.21 1481.44 Q1625.74 1484.52 1619.42 1484.52 Q1617.25 1484.52 1614.98 1484.15 Q1612.73 1483.78 1610.32 1483.04 L1610.32 1478.34 Q1612.41 1479.48 1614.63 1480.03 Q1616.85 1480.59 1619.33 1480.59 Q1623.33 1480.59 1625.67 1478.48 Q1628.01 1476.38 1628.01 1472.76 Q1628.01 1469.15 1625.67 1467.05 Q1623.33 1464.94 1619.33 1464.94 Q1617.45 1464.94 1615.58 1465.36 Q1613.73 1465.77 1611.78 1466.65 L1611.78 1449.29 Z\" fill=\"#000000\" fill-rule=\"evenodd\" fill-opacity=\"1\" /><path clip-path=\"url(#clip960)\" d=\"M 0 0 M1931.63 1479.92 L1939.27 1479.92 L1939.27 1453.55 L1930.96 1455.22 L1930.96 1450.96 L1939.22 1449.29 L1943.9 1449.29 L1943.9 1479.92 L1951.54 1479.92 L1951.54 1483.85 L1931.63 1483.85 L1931.63 1479.92 Z\" fill=\"#000000\" fill-rule=\"evenodd\" fill-opacity=\"1\" /><path clip-path=\"url(#clip960)\" d=\"M 0 0 M1970.98 1452.37 Q1967.37 1452.37 1965.54 1455.94 Q1963.73 1459.48 1963.73 1466.61 Q1963.73 1473.71 1965.54 1477.28 Q1967.37 1480.82 1970.98 1480.82 Q1974.61 1480.82 1976.42 1477.28 Q1978.25 1473.71 1978.25 1466.61 Q1978.25 1459.48 1976.42 1455.94 Q1974.61 1452.37 1970.98 1452.37 M1970.98 1448.67 Q1976.79 1448.67 1979.85 1453.27 Q1982.92 1457.86 1982.92 1466.61 Q1982.92 1475.33 1979.85 1479.94 Q1976.79 1484.52 1970.98 1484.52 Q1965.17 1484.52 1962.09 1479.94 Q1959.04 1475.33 1959.04 1466.61 Q1959.04 1457.86 1962.09 1453.27 Q1965.17 1448.67 1970.98 1448.67 Z\" fill=\"#000000\" fill-rule=\"evenodd\" fill-opacity=\"1\" /><path clip-path=\"url(#clip960)\" d=\"M 0 0 M2267.56 1479.92 L2275.2 1479.92 L2275.2 1453.55 L2266.89 1455.22 L2266.89 1450.96 L2275.16 1449.29 L2279.83 1449.29 L2279.83 1479.92 L2287.47 1479.92 L2287.47 1483.85 L2267.56 1483.85 L2267.56 1479.92 Z\" fill=\"#000000\" fill-rule=\"evenodd\" fill-opacity=\"1\" /><path clip-path=\"url(#clip960)\" d=\"M 0 0 M2296.96 1449.29 L2315.32 1449.29 L2315.32 1453.23 L2301.24 1453.23 L2301.24 1461.7 Q2302.26 1461.35 2303.28 1461.19 Q2304.3 1461 2305.32 1461 Q2311.1 1461 2314.48 1464.18 Q2317.86 1467.35 2317.86 1472.76 Q2317.86 1478.34 2314.39 1481.44 Q2310.92 1484.52 2304.6 1484.52 Q2302.42 1484.52 2300.16 1484.15 Q2297.91 1483.78 2295.5 1483.04 L2295.5 1478.34 Q2297.59 1479.48 2299.81 1480.03 Q2302.03 1480.59 2304.51 1480.59 Q2308.51 1480.59 2310.85 1478.48 Q2313.19 1476.38 2313.19 1472.76 Q2313.19 1469.15 2310.85 1467.05 Q2308.51 1464.94 2304.51 1464.94 Q2302.63 1464.94 2300.76 1465.36 Q2298.91 1465.77 2296.96 1466.65 L2296.96 1449.29 Z\" fill=\"#000000\" fill-rule=\"evenodd\" fill-opacity=\"1\" /><path clip-path=\"url(#clip960)\" d=\"M 0 0 M1262.87 1568.97 Q1249.66 1568.97 1249.66 1550.06 Q1249.66 1542.58 1254.59 1532.4 L1260.89 1532.4 Q1256.34 1542.58 1256.34 1550.22 Q1256.34 1564 1263.41 1564 Q1269.87 1564 1269.87 1546.88 L1275.28 1546.88 Q1275.28 1564 1281.74 1564 Q1288.81 1564 1288.81 1550.22 Q1288.81 1542.58 1284.25 1532.4 L1290.56 1532.4 Q1295.49 1542.58 1295.49 1550.06 Q1295.49 1568.97 1282.28 1568.97 Q1273.62 1568.97 1272.57 1559.45 Q1271.27 1568.97 1262.87 1568.97 Z\" fill=\"#000000\" fill-rule=\"evenodd\" fill-opacity=\"1\" /><path clip-path=\"url(#clip960)\" d=\"M 0 0 M1322.48 1555.98 L1322.48 1568.04 L1318.79 1568.04 L1318.79 1556.11 Q1318.79 1553.28 1317.55 1551.87 Q1316.31 1550.44 1313.82 1550.44 Q1310.83 1550.44 1309.11 1552.16 Q1307.39 1553.85 1307.39 1556.78 L1307.39 1568.04 L1303.67 1568.04 L1303.67 1548.09 L1307.39 1548.09 L1307.39 1551.17 Q1308.7 1549.39 1310.48 1548.5 Q1312.29 1547.61 1314.65 1547.61 Q1318.5 1547.61 1320.47 1549.74 Q1322.48 1551.87 1322.48 1555.98 Z\" fill=\"#000000\" fill-rule=\"evenodd\" fill-opacity=\"1\" /><polyline clip-path=\"url(#clip962)\" style=\"stroke:#000000; stroke-width:2; stroke-opacity:0.1; fill:none\" points=\"\n",
       "  219.38,1385.27 2352.76,1385.27 \n",
       "  \"/>\n",
       "<polyline clip-path=\"url(#clip962)\" style=\"stroke:#000000; stroke-width:2; stroke-opacity:0.1; fill:none\" points=\"\n",
       "  219.38,1058.54 2352.76,1058.54 \n",
       "  \"/>\n",
       "<polyline clip-path=\"url(#clip962)\" style=\"stroke:#000000; stroke-width:2; stroke-opacity:0.1; fill:none\" points=\"\n",
       "  219.38,731.804 2352.76,731.804 \n",
       "  \"/>\n",
       "<polyline clip-path=\"url(#clip962)\" style=\"stroke:#000000; stroke-width:2; stroke-opacity:0.1; fill:none\" points=\"\n",
       "  219.38,405.07 2352.76,405.07 \n",
       "  \"/>\n",
       "<polyline clip-path=\"url(#clip960)\" style=\"stroke:#000000; stroke-width:4; stroke-opacity:1; fill:none\" points=\"\n",
       "  219.38,1423.18 219.38,123.472 \n",
       "  \"/>\n",
       "<polyline clip-path=\"url(#clip960)\" style=\"stroke:#000000; stroke-width:4; stroke-opacity:1; fill:none\" points=\"\n",
       "  219.38,1385.27 244.981,1385.27 \n",
       "  \"/>\n",
       "<polyline clip-path=\"url(#clip960)\" style=\"stroke:#000000; stroke-width:4; stroke-opacity:1; fill:none\" points=\"\n",
       "  219.38,1058.54 244.981,1058.54 \n",
       "  \"/>\n",
       "<polyline clip-path=\"url(#clip960)\" style=\"stroke:#000000; stroke-width:4; stroke-opacity:1; fill:none\" points=\"\n",
       "  219.38,731.804 244.981,731.804 \n",
       "  \"/>\n",
       "<polyline clip-path=\"url(#clip960)\" style=\"stroke:#000000; stroke-width:4; stroke-opacity:1; fill:none\" points=\"\n",
       "  219.38,405.07 244.981,405.07 \n",
       "  \"/>\n",
       "<path clip-path=\"url(#clip960)\" d=\"M 0 0 M126.205 1371.07 Q122.593 1371.07 120.765 1374.63 Q118.959 1378.18 118.959 1385.31 Q118.959 1392.41 120.765 1395.98 Q122.593 1399.52 126.205 1399.52 Q129.839 1399.52 131.644 1395.98 Q133.473 1392.41 133.473 1385.31 Q133.473 1378.18 131.644 1374.63 Q129.839 1371.07 126.205 1371.07 M126.205 1367.37 Q132.015 1367.37 135.07 1371.97 Q138.149 1376.56 138.149 1385.31 Q138.149 1394.03 135.07 1398.64 Q132.015 1403.22 126.205 1403.22 Q120.394 1403.22 117.316 1398.64 Q114.26 1394.03 114.26 1385.31 Q114.26 1376.56 117.316 1371.97 Q120.394 1367.37 126.205 1367.37 Z\" fill=\"#000000\" fill-rule=\"evenodd\" fill-opacity=\"1\" /><path clip-path=\"url(#clip960)\" d=\"M 0 0 M146.366 1396.67 L151.251 1396.67 L151.251 1402.55 L146.366 1402.55 L146.366 1396.67 Z\" fill=\"#000000\" fill-rule=\"evenodd\" fill-opacity=\"1\" /><path clip-path=\"url(#clip960)\" d=\"M 0 0 M171.436 1371.07 Q167.825 1371.07 165.996 1374.63 Q164.19 1378.18 164.19 1385.31 Q164.19 1392.41 165.996 1395.98 Q167.825 1399.52 171.436 1399.52 Q175.07 1399.52 176.876 1395.98 Q178.704 1392.41 178.704 1385.31 Q178.704 1378.18 176.876 1374.63 Q175.07 1371.07 171.436 1371.07 M171.436 1367.37 Q177.246 1367.37 180.301 1371.97 Q183.38 1376.56 183.38 1385.31 Q183.38 1394.03 180.301 1398.64 Q177.246 1403.22 171.436 1403.22 Q165.626 1403.22 162.547 1398.64 Q159.491 1394.03 159.491 1385.31 Q159.491 1376.56 162.547 1371.97 Q165.626 1367.37 171.436 1367.37 Z\" fill=\"#000000\" fill-rule=\"evenodd\" fill-opacity=\"1\" /><path clip-path=\"url(#clip960)\" d=\"M 0 0 M127.431 1044.34 Q123.82 1044.34 121.992 1047.9 Q120.186 1051.44 120.186 1058.57 Q120.186 1065.68 121.992 1069.24 Q123.82 1072.79 127.431 1072.79 Q131.066 1072.79 132.871 1069.24 Q134.7 1065.68 134.7 1058.57 Q134.7 1051.44 132.871 1047.9 Q131.066 1044.34 127.431 1044.34 M127.431 1040.63 Q133.242 1040.63 136.297 1045.24 Q139.376 1049.82 139.376 1058.57 Q139.376 1067.3 136.297 1071.91 Q133.242 1076.49 127.431 1076.49 Q121.621 1076.49 118.543 1071.91 Q115.487 1067.3 115.487 1058.57 Q115.487 1049.82 118.543 1045.24 Q121.621 1040.63 127.431 1040.63 Z\" fill=\"#000000\" fill-rule=\"evenodd\" fill-opacity=\"1\" /><path clip-path=\"url(#clip960)\" d=\"M 0 0 M147.593 1069.94 L152.478 1069.94 L152.478 1075.82 L147.593 1075.82 L147.593 1069.94 Z\" fill=\"#000000\" fill-rule=\"evenodd\" fill-opacity=\"1\" /><path clip-path=\"url(#clip960)\" d=\"M 0 0 M163.473 1071.88 L171.112 1071.88 L171.112 1045.52 L162.802 1047.18 L162.802 1042.92 L171.065 1041.26 L175.741 1041.26 L175.741 1071.88 L183.38 1071.88 L183.38 1075.82 L163.473 1075.82 L163.473 1071.88 Z\" fill=\"#000000\" fill-rule=\"evenodd\" fill-opacity=\"1\" /><path clip-path=\"url(#clip960)\" d=\"M 0 0 M127.802 717.603 Q124.191 717.603 122.362 721.167 Q120.556 724.709 120.556 731.839 Q120.556 738.945 122.362 742.51 Q124.191 746.052 127.802 746.052 Q131.436 746.052 133.242 742.51 Q135.07 738.945 135.07 731.839 Q135.07 724.709 133.242 721.167 Q131.436 717.603 127.802 717.603 M127.802 713.899 Q133.612 713.899 136.667 718.505 Q139.746 723.089 139.746 731.839 Q139.746 740.565 136.667 745.172 Q133.612 749.755 127.802 749.755 Q121.992 749.755 118.913 745.172 Q115.857 740.565 115.857 731.839 Q115.857 723.089 118.913 718.505 Q121.992 713.899 127.802 713.899 Z\" fill=\"#000000\" fill-rule=\"evenodd\" fill-opacity=\"1\" /><path clip-path=\"url(#clip960)\" d=\"M 0 0 M147.964 743.204 L152.848 743.204 L152.848 749.084 L147.964 749.084 L147.964 743.204 Z\" fill=\"#000000\" fill-rule=\"evenodd\" fill-opacity=\"1\" /><path clip-path=\"url(#clip960)\" d=\"M 0 0 M167.061 745.149 L183.38 745.149 L183.38 749.084 L161.436 749.084 L161.436 745.149 Q164.098 742.394 168.681 737.765 Q173.288 733.112 174.468 731.769 Q176.714 729.246 177.593 727.51 Q178.496 725.751 178.496 724.061 Q178.496 721.306 176.551 719.57 Q174.63 717.834 171.528 717.834 Q169.329 717.834 166.876 718.598 Q164.445 719.362 161.667 720.913 L161.667 716.191 Q164.491 715.056 166.945 714.478 Q169.399 713.899 171.436 713.899 Q176.806 713.899 180.001 716.584 Q183.195 719.269 183.195 723.76 Q183.195 725.89 182.385 727.811 Q181.598 729.709 179.491 732.302 Q178.913 732.973 175.811 736.191 Q172.709 739.385 167.061 745.149 Z\" fill=\"#000000\" fill-rule=\"evenodd\" fill-opacity=\"1\" /><path clip-path=\"url(#clip960)\" d=\"M 0 0 M126.853 390.869 Q123.242 390.869 121.413 394.434 Q119.607 397.976 119.607 405.105 Q119.607 412.212 121.413 415.776 Q123.242 419.318 126.853 419.318 Q130.487 419.318 132.292 415.776 Q134.121 412.212 134.121 405.105 Q134.121 397.976 132.292 394.434 Q130.487 390.869 126.853 390.869 M126.853 387.165 Q132.663 387.165 135.718 391.772 Q138.797 396.355 138.797 405.105 Q138.797 413.832 135.718 418.438 Q132.663 423.022 126.853 423.022 Q121.043 423.022 117.964 418.438 Q114.908 413.832 114.908 405.105 Q114.908 396.355 117.964 391.772 Q121.043 387.165 126.853 387.165 Z\" fill=\"#000000\" fill-rule=\"evenodd\" fill-opacity=\"1\" /><path clip-path=\"url(#clip960)\" d=\"M 0 0 M147.015 416.471 L151.899 416.471 L151.899 422.35 L147.015 422.35 L147.015 416.471 Z\" fill=\"#000000\" fill-rule=\"evenodd\" fill-opacity=\"1\" /><path clip-path=\"url(#clip960)\" d=\"M 0 0 M176.251 403.716 Q179.607 404.434 181.482 406.702 Q183.38 408.971 183.38 412.304 Q183.38 417.42 179.862 420.221 Q176.343 423.022 169.862 423.022 Q167.686 423.022 165.371 422.582 Q163.079 422.165 160.626 421.309 L160.626 416.795 Q162.57 417.929 164.885 418.508 Q167.2 419.087 169.723 419.087 Q174.121 419.087 176.413 417.35 Q178.727 415.614 178.727 412.304 Q178.727 409.249 176.575 407.536 Q174.445 405.8 170.626 405.8 L166.598 405.8 L166.598 401.957 L170.811 401.957 Q174.26 401.957 176.089 400.591 Q177.917 399.202 177.917 396.61 Q177.917 393.948 176.019 392.536 Q174.144 391.101 170.626 391.101 Q168.704 391.101 166.505 391.517 Q164.306 391.934 161.667 392.814 L161.667 388.647 Q164.329 387.906 166.644 387.536 Q168.982 387.165 171.042 387.165 Q176.366 387.165 179.468 389.596 Q182.57 392.003 182.57 396.124 Q182.57 398.994 180.926 400.985 Q179.283 402.952 176.251 403.716 Z\" fill=\"#000000\" fill-rule=\"evenodd\" fill-opacity=\"1\" /><path clip-path=\"url(#clip960)\" d=\"M 0 0 M71.9613 821.896 L59.771 826.639 L77.5949 836.41 L77.5949 843.317 L52.3867 829.503 L37.3955 835.296 Q33.3851 836.856 33.3851 841.757 L33.3851 843.317 L28.3562 843.317 L28.4199 841.089 Q28.6427 832.877 33.958 830.808 L46.1484 826.098 L28.3244 816.326 L28.3244 809.42 L53.5326 823.233 L68.5238 817.44 Q72.5342 815.881 72.5342 810.979 L72.5342 809.42 L77.5631 809.42 L77.4995 811.648 Q77.2767 819.859 71.9613 821.896 Z\" fill=\"#000000\" fill-rule=\"evenodd\" fill-opacity=\"1\" /><path clip-path=\"url(#clip960)\" d=\"M 0 0 M74.8259 774.313 L79.3773 774.313 L79.3773 808.178 L74.8259 808.178 L74.8259 774.313 Z\" fill=\"#000000\" fill-rule=\"evenodd\" fill-opacity=\"1\" /><path clip-path=\"url(#clip960)\" d=\"M 0 0 M29.7248 743.153 L35.1993 743.153 Q33.8307 745.635 33.1623 748.15 Q32.4621 750.632 32.4621 753.179 Q32.4621 758.876 36.0905 762.027 Q39.6872 765.178 46.212 765.178 Q52.7369 765.178 56.3653 762.027 Q59.9619 758.876 59.9619 753.179 Q59.9619 750.632 59.2935 748.15 Q58.5933 745.635 57.2247 743.153 L62.6355 743.153 Q63.7814 745.603 64.3543 748.245 Q64.9272 750.855 64.9272 753.815 Q64.9272 761.868 59.8664 766.61 Q54.8057 771.353 46.212 771.353 Q37.491 771.353 32.4939 766.578 Q27.4968 761.772 27.4968 753.433 Q27.4968 750.728 28.0697 748.15 Q28.6108 745.572 29.7248 743.153 Z\" fill=\"#000000\" fill-rule=\"evenodd\" fill-opacity=\"1\" /><path clip-path=\"url(#clip960)\" d=\"M 0 0 M42.4881 703.335 L64.0042 703.335 L64.0042 709.191 L42.679 709.191 Q37.6183 709.191 35.1038 711.165 Q32.5894 713.138 32.5894 717.085 Q32.5894 721.827 35.6131 724.565 Q38.6368 727.302 43.8567 727.302 L64.0042 727.302 L64.0042 733.19 L14.479 733.19 L14.479 727.302 L33.8944 727.302 Q30.6797 725.201 29.0883 722.369 Q27.4968 719.504 27.4968 715.78 Q27.4968 709.637 31.3163 706.486 Q35.1038 703.335 42.4881 703.335 Z\" fill=\"#000000\" fill-rule=\"evenodd\" fill-opacity=\"1\" /><path clip-path=\"url(#clip960)\" d=\"M 0 0 M948.243 34.1734 Q946.987 33.4443 945.488 33.1202 Q944.03 32.7556 942.248 32.7556 Q935.928 32.7556 932.525 36.8875 Q929.163 40.9789 929.163 48.6757 L929.163 72.576 L921.669 72.576 L921.669 27.2059 L929.163 27.2059 L929.163 34.2544 Q931.513 30.1225 935.28 28.1376 Q939.047 26.1121 944.435 26.1121 Q945.205 26.1121 946.136 26.2337 Q947.068 26.3147 948.202 26.5172 L948.243 34.1734 Z\" fill=\"#000000\" fill-rule=\"evenodd\" fill-opacity=\"1\" /><path clip-path=\"url(#clip960)\" d=\"M 0 0 M993.046 48.0275 L993.046 51.6733 L958.775 51.6733 Q959.261 59.3701 963.393 63.421 Q967.566 67.4314 974.979 67.4314 Q979.273 67.4314 983.283 66.3781 Q987.334 65.3249 991.304 63.2184 L991.304 70.267 Q987.294 71.9684 983.081 72.8596 Q978.868 73.7508 974.533 73.7508 Q963.677 73.7508 957.317 67.4314 Q950.997 61.1119 950.997 50.3365 Q950.997 39.1965 956.993 32.6746 Q963.029 26.1121 973.237 26.1121 Q982.392 26.1121 987.699 32.0264 Q993.046 37.9003 993.046 48.0275 M985.592 45.84 Q985.511 39.7232 982.149 36.0774 Q978.827 32.4315 973.318 32.4315 Q967.08 32.4315 963.312 35.9558 Q959.585 39.4801 959.018 45.8805 L985.592 45.84 Z\" fill=\"#000000\" fill-rule=\"evenodd\" fill-opacity=\"1\" /><path clip-path=\"url(#clip960)\" d=\"M 0 0 M1035.13 34.0924 L1035.13 9.54393 L1042.59 9.54393 L1042.59 72.576 L1035.13 72.576 L1035.13 65.7705 Q1032.79 69.8214 1029.18 71.8063 Q1025.62 73.7508 1020.59 73.7508 Q1012.37 73.7508 1007.18 67.1883 Q1002.04 60.6258 1002.04 49.9314 Q1002.04 39.2371 1007.18 32.6746 Q1012.37 26.1121 1020.59 26.1121 Q1025.62 26.1121 1029.18 28.0971 Q1032.79 30.0415 1035.13 34.0924 M1009.74 49.9314 Q1009.74 58.1548 1013.1 62.8538 Q1016.5 67.5124 1022.41 67.5124 Q1028.33 67.5124 1031.73 62.8538 Q1035.13 58.1548 1035.13 49.9314 Q1035.13 41.7081 1031.73 37.0496 Q1028.33 32.3505 1022.41 32.3505 Q1016.5 32.3505 1013.1 37.0496 Q1009.74 41.7081 1009.74 49.9314 Z\" fill=\"#000000\" fill-rule=\"evenodd\" fill-opacity=\"1\" /><path clip-path=\"url(#clip960)\" d=\"M 0 0 M1057.17 54.671 L1057.17 27.2059 L1064.63 27.2059 L1064.63 54.3874 Q1064.63 60.8284 1067.14 64.0691 Q1069.65 67.2693 1074.67 67.2693 Q1080.71 67.2693 1084.19 63.421 Q1087.72 59.5726 1087.72 52.9291 L1087.72 27.2059 L1095.17 27.2059 L1095.17 72.576 L1087.72 72.576 L1087.72 65.6084 Q1085 69.7404 1081.4 71.7658 Q1077.83 73.7508 1073.09 73.7508 Q1065.27 73.7508 1061.22 68.8897 Q1057.17 64.0286 1057.17 54.671 M1075.93 26.1121 L1075.93 26.1121 Z\" fill=\"#000000\" fill-rule=\"evenodd\" fill-opacity=\"1\" /><path clip-path=\"url(#clip960)\" d=\"M 0 0 M1143.17 28.9478 L1143.17 35.9153 Q1140.01 34.1734 1136.81 33.3227 Q1133.65 32.4315 1130.41 32.4315 Q1123.16 32.4315 1119.15 37.0496 Q1115.14 41.6271 1115.14 49.9314 Q1115.14 58.2358 1119.15 62.8538 Q1123.16 67.4314 1130.41 67.4314 Q1133.65 67.4314 1136.81 66.5807 Q1140.01 65.6895 1143.17 63.9476 L1143.17 70.8341 Q1140.05 72.2924 1136.69 73.0216 Q1133.37 73.7508 1129.6 73.7508 Q1119.35 73.7508 1113.32 67.3098 Q1107.28 60.8689 1107.28 49.9314 Q1107.28 38.832 1113.36 32.472 Q1119.47 26.1121 1130.09 26.1121 Q1133.53 26.1121 1136.81 26.8413 Q1140.09 27.5299 1143.17 28.9478 Z\" fill=\"#000000\" fill-rule=\"evenodd\" fill-opacity=\"1\" /><path clip-path=\"url(#clip960)\" d=\"M 0 0 M1163.51 14.324 L1163.51 27.2059 L1178.86 27.2059 L1178.86 32.9987 L1163.51 32.9987 L1163.51 57.6282 Q1163.51 63.1779 1165.01 64.7578 Q1166.55 66.3376 1171.2 66.3376 L1178.86 66.3376 L1178.86 72.576 L1171.2 72.576 Q1162.58 72.576 1159.29 69.3758 Q1156.01 66.1351 1156.01 57.6282 L1156.01 32.9987 L1150.55 32.9987 L1150.55 27.2059 L1156.01 27.2059 L1156.01 14.324 L1163.51 14.324 Z\" fill=\"#000000\" fill-rule=\"evenodd\" fill-opacity=\"1\" /><path clip-path=\"url(#clip960)\" d=\"M 0 0 M1188.66 27.2059 L1196.12 27.2059 L1196.12 72.576 L1188.66 72.576 L1188.66 27.2059 M1188.66 9.54393 L1196.12 9.54393 L1196.12 18.9825 L1188.66 18.9825 L1188.66 9.54393 Z\" fill=\"#000000\" fill-rule=\"evenodd\" fill-opacity=\"1\" /><path clip-path=\"url(#clip960)\" d=\"M 0 0 M1229.29 32.4315 Q1223.3 32.4315 1219.82 37.1306 Q1216.33 41.7891 1216.33 49.9314 Q1216.33 58.0738 1219.77 62.7728 Q1223.26 67.4314 1229.29 67.4314 Q1235.25 67.4314 1238.73 62.7323 Q1242.22 58.0333 1242.22 49.9314 Q1242.22 41.8701 1238.73 37.1711 Q1235.25 32.4315 1229.29 32.4315 M1229.29 26.1121 Q1239.02 26.1121 1244.57 32.4315 Q1250.12 38.7509 1250.12 49.9314 Q1250.12 61.0714 1244.57 67.4314 Q1239.02 73.7508 1229.29 73.7508 Q1219.53 73.7508 1213.98 67.4314 Q1208.47 61.0714 1208.47 49.9314 Q1208.47 38.7509 1213.98 32.4315 Q1219.53 26.1121 1229.29 26.1121 Z\" fill=\"#000000\" fill-rule=\"evenodd\" fill-opacity=\"1\" /><path clip-path=\"url(#clip960)\" d=\"M 0 0 M1300.19 45.1919 L1300.19 72.576 L1292.73 72.576 L1292.73 45.4349 Q1292.73 38.994 1290.22 35.7938 Q1287.71 32.5936 1282.69 32.5936 Q1276.65 32.5936 1273.17 36.4419 Q1269.68 40.2903 1269.68 46.9338 L1269.68 72.576 L1262.19 72.576 L1262.19 27.2059 L1269.68 27.2059 L1269.68 34.2544 Q1272.36 30.163 1275.96 28.1376 Q1279.61 26.1121 1284.35 26.1121 Q1292.16 26.1121 1296.18 30.9732 Q1300.19 35.7938 1300.19 45.1919 Z\" fill=\"#000000\" fill-rule=\"evenodd\" fill-opacity=\"1\" /><path clip-path=\"url(#clip960)\" d=\"M 0 0 M1316.96 62.2867 L1325.5 62.2867 L1325.5 72.576 L1316.96 72.576 L1316.96 62.2867 M1316.96 29.6769 L1325.5 29.6769 L1325.5 39.9662 L1316.96 39.9662 L1316.96 29.6769 Z\" fill=\"#000000\" fill-rule=\"evenodd\" fill-opacity=\"1\" /><path clip-path=\"url(#clip960)\" d=\"M 0 0 M1365.61 46.5287 L1387.44 46.5287 L1387.44 53.1722 L1365.61 53.1722 L1365.61 46.5287 Z\" fill=\"#000000\" fill-rule=\"evenodd\" fill-opacity=\"1\" /><path clip-path=\"url(#clip960)\" d=\"M 0 0 M1401.78 65.6895 L1415.15 65.6895 L1415.15 19.5497 L1400.61 22.4663 L1400.61 15.0127 L1415.07 12.096 L1423.25 12.096 L1423.25 65.6895 L1436.62 65.6895 L1436.62 72.576 L1401.78 72.576 L1401.78 65.6895 Z\" fill=\"#000000\" fill-rule=\"evenodd\" fill-opacity=\"1\" /><path clip-path=\"url(#clip960)\" d=\"M 0 0 M1470.65 17.4837 Q1464.33 17.4837 1461.13 23.7221 Q1457.97 29.92 1457.97 42.3968 Q1457.97 54.833 1461.13 61.0714 Q1464.33 67.2693 1470.65 67.2693 Q1477.01 67.2693 1480.17 61.0714 Q1483.37 54.833 1483.37 42.3968 Q1483.37 29.92 1480.17 23.7221 Q1477.01 17.4837 1470.65 17.4837 M1470.65 11.0023 Q1480.82 11.0023 1486.16 19.0636 Q1491.55 27.0843 1491.55 42.3968 Q1491.55 57.6687 1486.16 65.73 Q1480.82 73.7508 1470.65 73.7508 Q1460.48 73.7508 1455.09 65.73 Q1449.74 57.6687 1449.74 42.3968 Q1449.74 27.0843 1455.09 19.0636 Q1460.48 11.0023 1470.65 11.0023 Z\" fill=\"#000000\" fill-rule=\"evenodd\" fill-opacity=\"1\" /><path clip-path=\"url(#clip960)\" d=\"M 0 0 M1505.93 62.2867 L1514.48 62.2867 L1514.48 72.576 L1505.93 72.576 L1505.93 62.2867 Z\" fill=\"#000000\" fill-rule=\"evenodd\" fill-opacity=\"1\" /><path clip-path=\"url(#clip960)\" d=\"M 0 0 M1549.8 17.4837 Q1543.48 17.4837 1540.28 23.7221 Q1537.12 29.92 1537.12 42.3968 Q1537.12 54.833 1540.28 61.0714 Q1543.48 67.2693 1549.8 67.2693 Q1556.16 67.2693 1559.32 61.0714 Q1562.52 54.833 1562.52 42.3968 Q1562.52 29.92 1559.32 23.7221 Q1556.16 17.4837 1549.8 17.4837 M1549.8 11.0023 Q1559.97 11.0023 1565.32 19.0636 Q1570.7 27.0843 1570.7 42.3968 Q1570.7 57.6687 1565.32 65.73 Q1559.97 73.7508 1549.8 73.7508 Q1539.63 73.7508 1534.25 65.73 Q1528.9 57.6687 1528.9 42.3968 Q1528.9 27.0843 1534.25 19.0636 Q1539.63 11.0023 1549.8 11.0023 Z\" fill=\"#000000\" fill-rule=\"evenodd\" fill-opacity=\"1\" /><path clip-path=\"url(#clip960)\" d=\"M 0 0 M1636.53 45.9616 Q1633.01 45.9616 1630.98 48.9592 Q1629 51.9569 1629 57.3041 Q1629 62.5703 1630.98 65.6084 Q1633.01 68.6061 1636.53 68.6061 Q1639.98 68.6061 1641.96 65.6084 Q1643.99 62.5703 1643.99 57.3041 Q1643.99 51.9974 1641.96 48.9997 Q1639.98 45.9616 1636.53 45.9616 M1636.53 40.8169 Q1642.93 40.8169 1646.7 45.2729 Q1650.47 49.7289 1650.47 57.3041 Q1650.47 64.8793 1646.66 69.3353 Q1642.89 73.7508 1636.53 73.7508 Q1630.05 73.7508 1626.28 69.3353 Q1622.52 64.8793 1622.52 57.3041 Q1622.52 49.6884 1626.28 45.2729 Q1630.09 40.8169 1636.53 40.8169 M1594.73 16.1469 Q1591.24 16.1469 1589.22 19.1851 Q1587.23 22.1828 1587.23 27.4489 Q1587.23 32.7961 1589.22 35.7938 Q1591.2 38.7915 1594.73 38.7915 Q1598.25 38.7915 1600.24 35.7938 Q1602.26 32.7961 1602.26 27.4489 Q1602.26 22.2233 1600.24 19.1851 Q1598.21 16.1469 1594.73 16.1469 M1631.31 11.0023 L1637.79 11.0023 L1599.95 73.7508 L1593.47 73.7508 L1631.31 11.0023 M1594.73 11.0023 Q1601.13 11.0023 1604.93 15.4583 Q1608.74 19.8737 1608.74 27.4489 Q1608.74 35.1051 1604.93 39.5206 Q1601.17 43.9361 1594.73 43.9361 Q1588.29 43.9361 1584.52 39.5206 Q1580.79 35.0646 1580.79 27.4489 Q1580.79 19.9142 1584.56 15.4583 Q1588.33 11.0023 1594.73 11.0023 Z\" fill=\"#000000\" fill-rule=\"evenodd\" fill-opacity=\"1\" /><polyline clip-path=\"url(#clip962)\" style=\"stroke:#008000; stroke-width:4; stroke-opacity:1; fill:none\" points=\"\n",
       "  279.759,1222.44 346.846,1344.91 413.933,1314.92 481.021,1289.78 548.108,1268.96 615.195,1246.86 682.282,1220.38 749.37,1187.27 816.457,1144.91 883.544,1089.78 \n",
       "  950.632,1016.94 1017.72,919.516 1084.81,789.042 1151.89,618.958 1218.98,419.18 1286.07,203.405 1353.16,419.18 1420.24,618.958 1487.33,789.042 1554.42,919.516 \n",
       "  1621.5,1016.94 1688.59,1089.78 1755.68,1144.91 1822.77,1187.27 1889.85,1220.38 1956.94,1246.86 2024.03,1268.96 2091.12,1289.78 2158.2,1314.92 2225.29,1344.91 \n",
       "  2292.38,1222.44 \n",
       "  \"/>\n",
       "<path clip-path=\"url(#clip962)\" d=\"\n",
       "M279.759 1385.27 L346.846 1385.27 L413.933 1385.27 L481.021 1385.27 L548.108 1385.27 L615.195 1385.27 L682.282 1385.27 L749.37 1385.27 L816.457 1385.27 L883.544 1385.27 \n",
       "  L950.632 1385.27 L1017.72 1385.27 L1084.81 1385.27 L1151.89 1385.27 L1218.98 1385.27 L1286.07 1385.27 L1353.16 1385.27 L1420.24 1385.27 L1487.33 1385.27 L1554.42 1385.27 \n",
       "  L1621.5 1385.27 L1688.59 1385.27 L1755.68 1385.27 L1822.77 1385.27 L1889.85 1385.27 L1956.94 1385.27 L2024.03 1385.27 L2091.12 1385.27 L2158.2 1385.27 L2225.29 1385.27 \n",
       "  L2292.38 1385.27 L2292.38 1222.44 L2225.29 1344.91 L2158.2 1314.92 L2091.12 1289.78 L2024.03 1268.96 L1956.94 1246.86 L1889.85 1220.38 L1822.77 1187.27 L1755.68 1144.91 \n",
       "  L1688.59 1089.78 L1621.5 1016.94 L1554.42 919.516 L1487.33 789.042 L1420.24 618.958 L1353.16 419.18 L1286.07 203.405 L1218.98 419.18 L1151.89 618.958 L1084.81 789.042 \n",
       "  L1017.72 919.516 L950.632 1016.94 L883.544 1089.78 L816.457 1144.91 L749.37 1187.27 L682.282 1220.38 L615.195 1246.86 L548.108 1268.96 L481.021 1289.78 L413.933 1314.92 \n",
       "  L346.846 1344.91 L279.759 1222.44  Z\n",
       "  \" fill=\"#008000\" fill-rule=\"evenodd\" fill-opacity=\"0.06\"/>\n",
       "<polyline clip-path=\"url(#clip962)\" style=\"stroke:#008000; stroke-width:4; stroke-opacity:1; fill:none\" points=\"\n",
       "  279.759,1385.27 346.846,1385.27 413.933,1385.27 481.021,1385.27 548.108,1385.27 615.195,1385.27 682.282,1385.27 749.37,1385.27 816.457,1385.27 883.544,1385.27 \n",
       "  950.632,1385.27 1017.72,1385.27 1084.81,1385.27 1151.89,1385.27 1218.98,1385.27 1286.07,1385.27 1353.16,1385.27 1420.24,1385.27 1487.33,1385.27 1554.42,1385.27 \n",
       "  1621.5,1385.27 1688.59,1385.27 1755.68,1385.27 1822.77,1385.27 1889.85,1385.27 1956.94,1385.27 2024.03,1385.27 2091.12,1385.27 2158.2,1385.27 2225.29,1385.27 \n",
       "  2292.38,1385.27 \n",
       "  \"/>\n",
       "<polyline clip-path=\"url(#clip962)\" style=\"stroke:#ffa500; stroke-width:4; stroke-opacity:1; fill:none\" points=\"\n",
       "  749.37,1386.4 816.457,1336.13 883.544,1271.91 950.632,1188.09 1017.72,1076.91 1084.81,928.77 1151.89,736.241 1218.98,510.469 1286.07,266.84 1353.16,510.469 \n",
       "  1420.24,736.241 1487.33,928.77 1554.42,1076.91 1621.5,1188.09 1688.59,1271.91 1755.68,1336.13 1822.77,1386.4 \n",
       "  \"/>\n",
       "<path clip-path=\"url(#clip962)\" d=\"\n",
       "M749.37 1385.27 L816.457 1385.27 L883.544 1385.27 L950.632 1385.27 L1017.72 1385.27 L1084.81 1385.27 L1151.89 1385.27 L1218.98 1385.27 L1286.07 1385.27 L1353.16 1385.27 \n",
       "  L1420.24 1385.27 L1487.33 1385.27 L1554.42 1385.27 L1621.5 1385.27 L1688.59 1385.27 L1755.68 1385.27 L1822.77 1385.27 L1822.77 1386.4 L1755.68 1336.13 L1688.59 1271.91 \n",
       "  L1621.5 1188.09 L1554.42 1076.91 L1487.33 928.77 L1420.24 736.241 L1353.16 510.469 L1286.07 266.84 L1218.98 510.469 L1151.89 736.241 L1084.81 928.77 L1017.72 1076.91 \n",
       "  L950.632 1188.09 L883.544 1271.91 L816.457 1336.13 L749.37 1386.4  Z\n",
       "  \" fill=\"#ffa500\" fill-rule=\"evenodd\" fill-opacity=\"0.3\"/>\n",
       "<polyline clip-path=\"url(#clip962)\" style=\"stroke:#ffa500; stroke-width:4; stroke-opacity:1; fill:none\" points=\"\n",
       "  749.37,1385.27 816.457,1385.27 883.544,1385.27 950.632,1385.27 1017.72,1385.27 1084.81,1385.27 1151.89,1385.27 1218.98,1385.27 1286.07,1385.27 1353.16,1385.27 \n",
       "  1420.24,1385.27 1487.33,1385.27 1554.42,1385.27 1621.5,1385.27 1688.59,1385.27 1755.68,1385.27 1822.77,1385.27 \n",
       "  \"/>\n",
       "<polyline clip-path=\"url(#clip962)\" style=\"stroke:#ff0000; stroke-width:4; stroke-opacity:1; fill:none\" points=\"\n",
       "  1084.81,829.913 1151.89,671.968 1218.98,482.158 1286.07,160.256 1353.16,482.158 1420.24,671.968 1487.33,829.913 \n",
       "  \"/>\n",
       "<path clip-path=\"url(#clip960)\" d=\"\n",
       "M1802.61 408.716 L2281.64 408.716 L2281.64 166.796 L1802.61 166.796  Z\n",
       "  \" fill=\"#ffffff\" fill-rule=\"evenodd\" fill-opacity=\"1\"/>\n",
       "<polyline clip-path=\"url(#clip960)\" style=\"stroke:#000000; stroke-width:4; stroke-opacity:1; fill:none\" points=\"\n",
       "  1802.61,408.716 2281.64,408.716 2281.64,166.796 1802.61,166.796 1802.61,408.716 \n",
       "  \"/>\n",
       "<polyline clip-path=\"url(#clip960)\" style=\"stroke:#008000; stroke-width:4; stroke-opacity:1; fill:none\" points=\"\n",
       "  1826.32,227.276 1968.54,227.276 \n",
       "  \"/>\n",
       "<path clip-path=\"url(#clip960)\" d=\"M 0 0 M2007.43 222.611 Q2006.71 222.195 2005.86 222.01 Q2005.02 221.801 2004 221.801 Q2000.39 221.801 1998.45 224.162 Q1996.53 226.5 1996.53 230.898 L1996.53 244.556 L1992.25 244.556 L1992.25 218.63 L1996.53 218.63 L1996.53 222.658 Q1997.87 220.297 2000.02 219.162 Q2002.18 218.005 2005.25 218.005 Q2005.69 218.005 2006.23 218.074 Q2006.76 218.121 2007.41 218.236 L2007.43 222.611 Z\" fill=\"#000000\" fill-rule=\"evenodd\" fill-opacity=\"1\" /><path clip-path=\"url(#clip960)\" d=\"M 0 0 M2011.9 218.63 L2016.16 218.63 L2016.16 244.556 L2011.9 244.556 L2011.9 218.63 M2011.9 208.537 L2016.16 208.537 L2016.16 213.931 L2011.9 213.931 L2011.9 208.537 Z\" fill=\"#000000\" fill-rule=\"evenodd\" fill-opacity=\"1\" /><path clip-path=\"url(#clip960)\" d=\"M 0 0 M2043.73 219.625 L2043.73 223.607 Q2041.92 222.611 2040.09 222.125 Q2038.29 221.616 2036.44 221.616 Q2032.29 221.616 2030 224.255 Q2027.71 226.871 2027.71 231.616 Q2027.71 236.361 2030 239 Q2032.29 241.616 2036.44 241.616 Q2038.29 241.616 2040.09 241.13 Q2041.92 240.621 2043.73 239.625 L2043.73 243.56 Q2041.94 244.394 2040.02 244.81 Q2038.12 245.227 2035.97 245.227 Q2030.12 245.227 2026.67 241.546 Q2023.22 237.866 2023.22 231.616 Q2023.22 225.273 2026.69 221.639 Q2030.19 218.005 2036.25 218.005 Q2038.22 218.005 2040.09 218.422 Q2041.97 218.815 2043.73 219.625 Z\" fill=\"#000000\" fill-rule=\"evenodd\" fill-opacity=\"1\" /><path clip-path=\"url(#clip960)\" d=\"M 0 0 M2072.68 228.908 L2072.68 244.556 L2068.43 244.556 L2068.43 229.047 Q2068.43 225.366 2066.99 223.537 Q2065.56 221.709 2062.69 221.709 Q2059.24 221.709 2057.25 223.908 Q2055.25 226.107 2055.25 229.903 L2055.25 244.556 L2050.97 244.556 L2050.97 208.537 L2055.25 208.537 L2055.25 222.658 Q2056.78 220.32 2058.84 219.162 Q2060.93 218.005 2063.63 218.005 Q2068.1 218.005 2070.39 220.783 Q2072.68 223.537 2072.68 228.908 Z\" fill=\"#000000\" fill-rule=\"evenodd\" fill-opacity=\"1\" /><path clip-path=\"url(#clip960)\" d=\"M 0 0 M2092.96 231.523 Q2087.8 231.523 2085.81 232.704 Q2083.82 233.884 2083.82 236.732 Q2083.82 239 2085.3 240.343 Q2086.81 241.662 2089.37 241.662 Q2092.92 241.662 2095.05 239.162 Q2097.2 236.639 2097.2 232.472 L2097.2 231.523 L2092.96 231.523 M2101.46 229.764 L2101.46 244.556 L2097.2 244.556 L2097.2 240.621 Q2095.74 242.982 2093.56 244.116 Q2091.39 245.227 2088.24 245.227 Q2084.26 245.227 2081.9 243.005 Q2079.56 240.759 2079.56 237.009 Q2079.56 232.634 2082.48 230.412 Q2085.42 228.19 2091.23 228.19 L2097.2 228.19 L2097.2 227.773 Q2097.2 224.834 2095.25 223.236 Q2093.33 221.616 2089.84 221.616 Q2087.62 221.616 2085.51 222.148 Q2083.4 222.681 2081.46 223.746 L2081.46 219.81 Q2083.8 218.908 2086 218.468 Q2088.19 218.005 2090.28 218.005 Q2095.9 218.005 2098.68 220.922 Q2101.46 223.838 2101.46 229.764 Z\" fill=\"#000000\" fill-rule=\"evenodd\" fill-opacity=\"1\" /><path clip-path=\"url(#clip960)\" d=\"M 0 0 M2125.25 222.611 Q2124.54 222.195 2123.68 222.01 Q2122.85 221.801 2121.83 221.801 Q2118.22 221.801 2116.27 224.162 Q2114.35 226.5 2114.35 230.898 L2114.35 244.556 L2110.07 244.556 L2110.07 218.63 L2114.35 218.63 L2114.35 222.658 Q2115.69 220.297 2117.85 219.162 Q2120 218.005 2123.08 218.005 Q2123.52 218.005 2124.05 218.074 Q2124.58 218.121 2125.23 218.236 L2125.25 222.611 Z\" fill=\"#000000\" fill-rule=\"evenodd\" fill-opacity=\"1\" /><path clip-path=\"url(#clip960)\" d=\"M 0 0 M2145.95 222.565 L2145.95 208.537 L2150.21 208.537 L2150.21 244.556 L2145.95 244.556 L2145.95 240.667 Q2144.61 242.982 2142.55 244.116 Q2140.51 245.227 2137.64 245.227 Q2132.94 245.227 2129.98 241.477 Q2127.04 237.727 2127.04 231.616 Q2127.04 225.505 2129.98 221.755 Q2132.94 218.005 2137.64 218.005 Q2140.51 218.005 2142.55 219.139 Q2144.61 220.25 2145.95 222.565 M2131.43 231.616 Q2131.43 236.315 2133.36 239 Q2135.3 241.662 2138.68 241.662 Q2142.06 241.662 2144 239 Q2145.95 236.315 2145.95 231.616 Q2145.95 226.917 2144 224.255 Q2142.06 221.57 2138.68 221.57 Q2135.3 221.57 2133.36 224.255 Q2131.43 226.917 2131.43 231.616 Z\" fill=\"#000000\" fill-rule=\"evenodd\" fill-opacity=\"1\" /><path clip-path=\"url(#clip960)\" d=\"M 0 0 M2175.51 219.394 L2175.51 223.422 Q2173.7 222.496 2171.76 222.033 Q2169.81 221.57 2167.73 221.57 Q2164.56 221.57 2162.96 222.542 Q2161.39 223.514 2161.39 225.459 Q2161.39 226.94 2162.52 227.797 Q2163.66 228.63 2167.08 229.394 L2168.54 229.718 Q2173.08 230.69 2174.98 232.472 Q2176.9 234.232 2176.9 237.403 Q2176.9 241.014 2174.03 243.121 Q2171.18 245.227 2166.18 245.227 Q2164.1 245.227 2161.83 244.81 Q2159.58 244.417 2157.08 243.607 L2157.08 239.209 Q2159.44 240.435 2161.74 241.06 Q2164.03 241.662 2166.27 241.662 Q2169.28 241.662 2170.9 240.644 Q2172.52 239.602 2172.52 237.727 Q2172.52 235.991 2171.34 235.065 Q2170.18 234.139 2166.23 233.283 L2164.74 232.935 Q2160.79 232.102 2159.03 230.389 Q2157.27 228.653 2157.27 225.644 Q2157.27 221.986 2159.86 219.996 Q2162.45 218.005 2167.22 218.005 Q2169.58 218.005 2171.67 218.352 Q2173.75 218.699 2175.51 219.394 Z\" fill=\"#000000\" fill-rule=\"evenodd\" fill-opacity=\"1\" /><path clip-path=\"url(#clip960)\" d=\"M 0 0 M2193.73 221.616 Q2190.3 221.616 2188.31 224.301 Q2186.32 226.963 2186.32 231.616 Q2186.32 236.269 2188.29 238.954 Q2190.28 241.616 2193.73 241.616 Q2197.13 241.616 2199.12 238.931 Q2201.11 236.246 2201.11 231.616 Q2201.11 227.01 2199.12 224.324 Q2197.13 221.616 2193.73 221.616 M2193.73 218.005 Q2199.28 218.005 2202.45 221.616 Q2205.62 225.227 2205.62 231.616 Q2205.62 237.982 2202.45 241.616 Q2199.28 245.227 2193.73 245.227 Q2188.15 245.227 2184.98 241.616 Q2181.83 237.982 2181.83 231.616 Q2181.83 225.227 2184.98 221.616 Q2188.15 218.005 2193.73 218.005 Z\" fill=\"#000000\" fill-rule=\"evenodd\" fill-opacity=\"1\" /><path clip-path=\"url(#clip960)\" d=\"M 0 0 M2234.24 228.908 L2234.24 244.556 L2229.98 244.556 L2229.98 229.047 Q2229.98 225.366 2228.54 223.537 Q2227.11 221.709 2224.24 221.709 Q2220.79 221.709 2218.8 223.908 Q2216.8 226.107 2216.8 229.903 L2216.8 244.556 L2212.52 244.556 L2212.52 218.63 L2216.8 218.63 L2216.8 222.658 Q2218.33 220.32 2220.39 219.162 Q2222.48 218.005 2225.18 218.005 Q2229.65 218.005 2231.94 220.783 Q2234.24 223.537 2234.24 228.908 Z\" fill=\"#000000\" fill-rule=\"evenodd\" fill-opacity=\"1\" /><polyline clip-path=\"url(#clip960)\" style=\"stroke:#ffa500; stroke-width:4; stroke-opacity:1; fill:none\" points=\"\n",
       "  1826.32,287.756 1968.54,287.756 \n",
       "  \"/>\n",
       "<path clip-path=\"url(#clip960)\" d=\"M 0 0 M2013.96 289.388 L2013.96 305.036 L2009.7 305.036 L2009.7 289.527 Q2009.7 285.846 2008.26 284.017 Q2006.83 282.189 2003.96 282.189 Q2000.51 282.189 1998.52 284.388 Q1996.53 286.587 1996.53 290.383 L1996.53 305.036 L1992.25 305.036 L1992.25 279.11 L1996.53 279.11 L1996.53 283.138 Q1998.06 280.8 2000.12 279.642 Q2002.2 278.485 2004.91 278.485 Q2009.38 278.485 2011.67 281.263 Q2013.96 284.017 2013.96 289.388 Z\" fill=\"#000000\" fill-rule=\"evenodd\" fill-opacity=\"1\" /><path clip-path=\"url(#clip960)\" d=\"M 0 0 M2034.24 292.003 Q2029.07 292.003 2027.08 293.184 Q2025.09 294.364 2025.09 297.212 Q2025.09 299.48 2026.57 300.823 Q2028.08 302.142 2030.65 302.142 Q2034.19 302.142 2036.32 299.642 Q2038.47 297.119 2038.47 292.952 L2038.47 292.003 L2034.24 292.003 M2042.73 290.244 L2042.73 305.036 L2038.47 305.036 L2038.47 301.101 Q2037.01 303.462 2034.84 304.596 Q2032.66 305.707 2029.51 305.707 Q2025.53 305.707 2023.17 303.485 Q2020.83 301.239 2020.83 297.489 Q2020.83 293.114 2023.75 290.892 Q2026.69 288.67 2032.5 288.67 L2038.47 288.67 L2038.47 288.253 Q2038.47 285.314 2036.53 283.716 Q2034.61 282.096 2031.11 282.096 Q2028.89 282.096 2026.78 282.628 Q2024.68 283.161 2022.73 284.226 L2022.73 280.29 Q2025.07 279.388 2027.27 278.948 Q2029.47 278.485 2031.55 278.485 Q2037.18 278.485 2039.95 281.402 Q2042.73 284.318 2042.73 290.244 Z\" fill=\"#000000\" fill-rule=\"evenodd\" fill-opacity=\"1\" /><path clip-path=\"url(#clip960)\" d=\"M 0 0 M2051.5 279.11 L2055.76 279.11 L2055.76 305.036 L2051.5 305.036 L2051.5 279.11 M2051.5 269.017 L2055.76 269.017 L2055.76 274.411 L2051.5 274.411 L2051.5 269.017 Z\" fill=\"#000000\" fill-rule=\"evenodd\" fill-opacity=\"1\" /><path clip-path=\"url(#clip960)\" d=\"M 0 0 M2061.62 279.11 L2066.13 279.11 L2074.24 300.869 L2082.34 279.11 L2086.85 279.11 L2077.13 305.036 L2071.34 305.036 L2061.62 279.11 Z\" fill=\"#000000\" fill-rule=\"evenodd\" fill-opacity=\"1\" /><path clip-path=\"url(#clip960)\" d=\"M 0 0 M2114.91 291.008 L2114.91 293.091 L2095.32 293.091 Q2095.6 297.489 2097.96 299.804 Q2100.35 302.096 2104.58 302.096 Q2107.04 302.096 2109.33 301.494 Q2111.64 300.892 2113.91 299.689 L2113.91 303.716 Q2111.62 304.688 2109.21 305.198 Q2106.81 305.707 2104.33 305.707 Q2098.12 305.707 2094.49 302.096 Q2090.88 298.485 2090.88 292.327 Q2090.88 285.962 2094.31 282.235 Q2097.75 278.485 2103.59 278.485 Q2108.82 278.485 2111.85 281.865 Q2114.91 285.221 2114.91 291.008 M2110.65 289.758 Q2110.6 286.263 2108.68 284.179 Q2106.78 282.096 2103.63 282.096 Q2100.07 282.096 2097.92 284.11 Q2095.79 286.124 2095.46 289.781 L2110.65 289.758 Z\" fill=\"#000000\" fill-rule=\"evenodd\" fill-opacity=\"1\" /><polyline clip-path=\"url(#clip960)\" style=\"stroke:#ff0000; stroke-width:4; stroke-opacity:1; fill:none\" points=\"\n",
       "  1826.32,348.236 1968.54,348.236 \n",
       "  \"/>\n",
       "<path clip-path=\"url(#clip960)\" d=\"M 0 0 M2013.96 349.868 L2013.96 365.516 L2009.7 365.516 L2009.7 350.007 Q2009.7 346.326 2008.26 344.497 Q2006.83 342.669 2003.96 342.669 Q2000.51 342.669 1998.52 344.868 Q1996.53 347.067 1996.53 350.863 L1996.53 365.516 L1992.25 365.516 L1992.25 339.59 L1996.53 339.59 L1996.53 343.618 Q1998.06 341.28 2000.12 340.122 Q2002.2 338.965 2004.91 338.965 Q2009.38 338.965 2011.67 341.743 Q2013.96 344.497 2013.96 349.868 Z\" fill=\"#000000\" fill-rule=\"evenodd\" fill-opacity=\"1\" /><path clip-path=\"url(#clip960)\" d=\"M 0 0 M2022.45 329.497 L2026.71 329.497 L2026.71 365.516 L2022.45 365.516 L2022.45 329.497 Z\" fill=\"#000000\" fill-rule=\"evenodd\" fill-opacity=\"1\" /><path clip-path=\"url(#clip960)\" d=\"M 0 0 M2063.17 371.303 L2059.72 362.437 L2052.62 375.4 L2047.59 375.4 L2057.64 357.067 L2053.43 346.164 Q2052.29 343.247 2048.73 343.247 L2047.59 343.247 L2047.59 339.59 L2049.21 339.636 Q2055.19 339.798 2056.69 343.664 L2060.12 352.53 L2067.22 339.567 L2072.25 339.567 L2062.2 357.9 L2066.41 368.803 Q2067.55 371.719 2071.11 371.719 L2072.25 371.719 L2072.25 375.377 L2070.62 375.33 Q2064.65 375.168 2063.17 371.303 Z\" fill=\"#000000\" fill-rule=\"evenodd\" fill-opacity=\"1\" /><path clip-path=\"url(#clip960)\" d=\"M 0 0 M2097.78 373.386 L2097.78 376.696 L2073.15 376.696 L2073.15 373.386 L2097.78 373.386 Z\" fill=\"#000000\" fill-rule=\"evenodd\" fill-opacity=\"1\" /><path clip-path=\"url(#clip960)\" d=\"M 0 0 M2120.44 340.585 L2120.44 344.567 Q2118.63 343.571 2116.81 343.085 Q2115 342.576 2113.15 342.576 Q2109 342.576 2106.71 345.215 Q2104.42 347.831 2104.42 352.576 Q2104.42 357.321 2106.71 359.96 Q2109 362.576 2113.15 362.576 Q2115 362.576 2116.81 362.09 Q2118.63 361.581 2120.44 360.585 L2120.44 364.52 Q2118.66 365.354 2116.74 365.77 Q2114.84 366.187 2112.68 366.187 Q2106.83 366.187 2103.38 362.506 Q2099.93 358.826 2099.93 352.576 Q2099.93 346.233 2103.4 342.599 Q2106.9 338.965 2112.96 338.965 Q2114.93 338.965 2116.81 339.382 Q2118.68 339.775 2120.44 340.585 Z\" fill=\"#000000\" fill-rule=\"evenodd\" fill-opacity=\"1\" /><path clip-path=\"url(#clip960)\" d=\"M 0 0 M2149.4 349.868 L2149.4 365.516 L2145.14 365.516 L2145.14 350.007 Q2145.14 346.326 2143.7 344.497 Q2142.27 342.669 2139.4 342.669 Q2135.95 342.669 2133.96 344.868 Q2131.97 347.067 2131.97 350.863 L2131.97 365.516 L2127.68 365.516 L2127.68 329.497 L2131.97 329.497 L2131.97 343.618 Q2133.49 341.28 2135.56 340.122 Q2137.64 338.965 2140.35 338.965 Q2144.81 338.965 2147.11 341.743 Q2149.4 344.497 2149.4 349.868 Z\" fill=\"#000000\" fill-rule=\"evenodd\" fill-opacity=\"1\" /></svg>\n"
      ]
     },
     "execution_count": 52,
     "metadata": {},
     "output_type": "execute_result"
    },
    {
     "name": "stderr",
     "output_type": "stream",
     "text": [
      "GKS: file open error (/home/julian/.julia/artifacts/1a66b11d6abb05af040a2154cbf84193d5d04f33/lib/../fonts/gksfont.dat)\n",
      "open: No such file or directory\n",
      "GKS: file open error (/home/julian/.julia/artifacts/1a66b11d6abb05af040a2154cbf84193d5d04f33/lib/../fonts/gksfont.dat)\n",
      "open: No such file or directory\n"
     ]
    }
   ],
   "source": [
    "# naive:\n",
    "mP, sP, env, kGrid, qGrid, νGrid, sumHelper_f, impQ_sp, impQ_ch, GImp_fft, GLoc_fft, Σ_loc_pos, FUpDo, gImp = setup_LDGA(conf, false);\n",
    "χchED_ω_naive = sum(impQ_ch.χ,dims=[2,3])[:,1,1]/(mP.β^2);\n",
    "χspED_ω_naive = sum(impQ_sp.χ,dims=[2,3])[:,1,1]/(mP.β^2);\n",
    "χch_ω = sum_q(nlQ_ch.χ, qGrid.multiplicity, dims=2)[:,1]\n",
    "χsp_ω = sum_q(nlQ_sp.χ, qGrid.multiplicity, dims=2)[:,1]\n",
    "\n",
    "\n",
    "reduction_prct = -0.1\n",
    "χchED_ω_fit = [LadderDGA.sum_freq(impQ_ch.χ[i,:,:], [1,2], sumHelper_f, mP.β)[1,1] for i in 1:size(impQ_ch.χ,1)];\n",
    "χspED_ω_fit = [LadderDGA.sum_freq(impQ_sp.χ[i,:,:], [1,2], sumHelper_f, mP.β)[1,1] for i in 1:size(impQ_sp.χ,1)];\n",
    "usable_ch = LadderDGA.find_usable_interval(real(χchED_ω_fit), reduce_range_prct=reduction_prct)\n",
    "usable_sp = LadderDGA.find_usable_interval(real(χspED_ω_fit), reduce_range_prct=reduction_prct)\n",
    "usable_fit_DMFT = intersect(usable_ch, usable_sp)\n",
    "\n",
    "usable_naive_ch = LadderDGA.find_usable_interval(real(χchED_ω_naive), reduce_range_prct=reduction_prct)\n",
    "usable_naive_sp = LadderDGA.find_usable_interval(real(χspED_ω_naive), reduce_range_prct=reduction_prct)\n",
    "\n",
    "\n",
    "plot(usable_ch .- sP.n_iω .- 1, real(χchED_ω_fit[usable_ch]), label=\"richardson\", c=:green)\n",
    "plot!(usable_ch .- sP.n_iω .- 1, repeat([0], length(usable_ch)), fillrange=real(χchED_ω_fit[usable_ch]), fillalpha=0.06, c=:green, label=nothing)\n",
    "\n",
    "plot!(usable_naive_ch .- sP.n_iω .- 1, real(χchED_ω_naive[usable_naive_ch]), label=\"naive\", xlabel=\"ωₙ\", ylabel=\"χ_ch\", c=:orange, title=\"reduction: $(reduction_prct*100)%\")\n",
    "plot!(usable_naive_ch .- sP.n_iω .- 1, repeat([0], length(usable_naive_ch)), fillrange=real(χchED_ω_naive[usable_naive_ch]), fillalpha=0.3, c=:orange, label=nothing)\n",
    "\n",
    "plot!(nlQ_ch.usable_ω .- sP.n_iω .- 1, real(χch_ω[nlQ_ch.usable_ω]), label=\"nl χ_ch\", c=:red)"
   ]
  }
 ],
 "metadata": {
  "kernelspec": {
   "display_name": "Julia 1.6.0",
   "language": "julia",
   "name": "julia-1.6"
  },
  "language_info": {
   "file_extension": ".jl",
   "mimetype": "application/julia",
   "name": "julia",
   "version": "1.6.0"
  }
 },
 "nbformat": 4,
 "nbformat_minor": 5
}
