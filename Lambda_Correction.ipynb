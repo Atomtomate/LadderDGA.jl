{
 "cells": [
  {
   "cell_type": "code",
   "execution_count": 10,
   "metadata": {},
   "outputs": [
    {
     "name": "stdout",
     "output_type": "stream",
     "text": [
      "Inputs Read. Starting Computation                                          \n",
      "Calculating bubble:   1.260855 seconds (15.17 M allocations: 486.534 MiB, 22.68% gc time)\n",
      "Calculating naiive χ and γ in the charge channel:   1.714937 seconds (1.06 M allocations: 274.367 MiB, 3.69% gc time)\n",
      "Calculating naiive χ and γ in the spin channel:   1.095997 seconds (51.87 k allocations: 223.626 MiB, 2.87% gc time)\n",
      "Calculating λ correction in the charge channel: aa\n",
      "  0.447439 seconds (1.30 M allocations: 63.945 MiB, 7.37% gc time)\n",
      "Calculating λ correction in the spin channel: aa\n",
      "  0.004244 seconds (131 allocations: 1.347 MiB)\n",
      "Calculating naiive Σ ladder:   0.313267 seconds (248.28 k allocations: 13.545 MiB)\n",
      "Calculating χ and γ in the charge channel:   1.550348 seconds (1.01 M allocations: 281.373 MiB, 5.03% gc time)\n",
      "Calculating χ and γ in the spin channel:   1.571588 seconds (58.26 k allocations: 233.116 MiB, 2.32% gc time)\n",
      "TODO: replace chisp by chisp_lambda\n"
     ]
    }
   ],
   "source": [
    "ENV[\"GKS_ENCODING\"] = \"utf-8\"\n",
    "using Plots\n",
    "include(\"src/ladderDGATools.jl\")\n",
    "include(\"src/ladderDGA_Julia.jl\");"
   ]
  },
  {
   "cell_type": "code",
   "execution_count": 24,
   "metadata": {},
   "outputs": [],
   "source": [
    "include(\"src/ladderDGATools.jl\");\n",
    "include(\"src/lambdaCorrection.jl\");"
   ]
  },
  {
   "cell_type": "code",
   "execution_count": 13,
   "metadata": {},
   "outputs": [
    {
     "name": "stdout",
     "output_type": "stream",
     "text": [
      "NaN\n",
      "741.270858 seconds (8.72 M allocations: 5.253 GiB, 0.14% gc time)\n"
     ]
    },
    {
     "data": {
      "text/plain": [
       " * Status: failure (reached maximum number of iterations) (line search failed)\n",
       "\n",
       " * Candidate solution\n",
       "    Minimizer: [0.00e+00, 0.00e+00]\n",
       "    Minimum:   NaN\n",
       "\n",
       " * Found with\n",
       "    Algorithm:     Nelder-Mead\n",
       "    Initial Point: [0.00e+00, 0.00e+00]\n",
       "\n",
       " * Convergence measures\n",
       "    √(Σ(yᵢ-ȳ)²)/n ≰ 1.0e-08\n",
       "\n",
       " * Work counters\n",
       "    Seconds run:   739  (vs limit Inf)\n",
       "    Iterations:    1000\n",
       "    f(x) calls:    4005\n"
      ]
     },
     "execution_count": 13,
     "metadata": {},
     "output_type": "execute_result"
    }
   ],
   "source": [
    "@time sol = find_λ(G0, χch_impr, χsp_impr, trilexch_impr, trilexsp_impr, bubble, Σ_loc, FUpDo,\n",
    "        qMultiplicity, qGrid, kGrid, modelParams, simParams, [0.0, 0.0])"
   ]
  },
  {
   "cell_type": "code",
   "execution_count": 17,
   "metadata": {},
   "outputs": [
    {
     "data": {
      "text/plain": [
       "2-element Array{Float64,1}:\n",
       " -0.046019482048729236\n",
       "  0.005766004636100292"
      ]
     },
     "execution_count": 17,
     "metadata": {},
     "output_type": "execute_result"
    }
   ],
   "source": [
    "Optim.minimizer(sol)"
   ]
  },
  {
   "cell_type": "code",
   "execution_count": null,
   "metadata": {},
   "outputs": [
    {
     "name": "stdout",
     "output_type": "stream",
     "text": [
      "142477.62546982893\n"
     ]
    }
   ],
   "source": [
    "@time sol2 = find_λ4(G0, χch_impr, χsp_impr, trilexch_impr, trilexsp_impr, bubble, Σ_loc, FUpDo,\n",
    "        qMultiplicity, qGrid, kGrid, modelParams, simParams, \n",
    "        [1.0,1.0],BFGS())"
   ]
  },
  {
   "cell_type": "code",
   "execution_count": null,
   "metadata": {},
   "outputs": [],
   "source": [
    "Optim.minimizer(sol2)"
   ]
  },
  {
   "cell_type": "code",
   "execution_count": 2,
   "metadata": {},
   "outputs": [],
   "source": [
    "const ll = [(x1,x2) for x1 in range(-5,stop=5,length=2) for x2 in range(-5,stop=5,length=2)]\n",
    "res = SharedArray{Float64}(lenght(ll))\n",
    "@sync @distributed for lli in 1:length(ll)\n",
    "    res[lli] = eval_f(ll[lli], G0, χch_impr, χsp_impr, trilexch_impr, trilexsp_impr, bubble, Σ_loc, FUpDo,\n",
    "        qMultiplicity, qGrid, kGrid, modelParams, simParams)\n",
    "end"
   ]
  },
  {
   "cell_type": "code",
   "execution_count": null,
   "metadata": {},
   "outputs": [],
   "source": [
    "n = length(ll)\n",
    "@elapsed while n > 0 # print out results\n",
    "    job_id, exec_time = take!(results)\n",
    "    println(\"$job_id finished in $(round(exec_time; digits=2)) seconds\")\n",
    "    global n = n - 1\n",
    "end"
   ]
  },
  {
   "cell_type": "code",
   "execution_count": null,
   "metadata": {},
   "outputs": [],
   "source": []
  }
 ],
 "metadata": {
  "kernelspec": {
   "display_name": "Julia 1.2.0",
   "language": "julia",
   "name": "julia-1.2"
  },
  "language_info": {
   "file_extension": ".jl",
   "mimetype": "application/julia",
   "name": "julia",
   "version": "1.2.0"
  }
 },
 "nbformat": 4,
 "nbformat_minor": 2
}
