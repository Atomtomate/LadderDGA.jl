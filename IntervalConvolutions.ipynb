{
 "cells": [
  {
   "cell_type": "code",
   "execution_count": 108,
   "metadata": {},
   "outputs": [],
   "source": [
    "using DSP, FFTW\n",
    "using IntervalArithmetic, IntervalRootFinding"
   ]
  },
  {
   "cell_type": "code",
   "execution_count": 118,
   "metadata": {},
   "outputs": [],
   "source": [
    "xt_im = collect(1:5) .+ 0.1im\n",
    "yt_im = collect(6:10) .+ 0.1im\n",
    "xt_re = collect(1:5);\n",
    "yt_re = collect(6:10);"
   ]
  },
  {
   "cell_type": "code",
   "execution_count": 166,
   "metadata": {},
   "outputs": [
    {
     "data": {
      "text/plain": [
       "test_roots_fft_im (generic function with 1 method)"
      ]
     },
     "execution_count": 166,
     "metadata": {},
     "output_type": "execute_result"
    }
   ],
   "source": [
    "function conv_naive(x, y)\n",
    "    (length(x) != length(y)) && throw(DimensionMismatch(\"Arrays must have the same length\"))\n",
    "    res = zeros(eltype(y), size(x))\n",
    "    for i in 1:length(x)\n",
    "        for j in 1:length(x)\n",
    "            res[i] += x[mod(i-j,length(y))+1] * y[j]\n",
    "        end\n",
    "    end\n",
    "    return res\n",
    "end\n",
    "\n",
    "conv_fft(x, y) = ifft(fft(x) .* fft(y))\n",
    "\n",
    "test_roots_naive_re(x) = sum(real.(map(xi -> xi - x, conv_naive(xt_re, yt_re))))\n",
    "test_roots_naive_im(x) = sum(real.(map(xi -> xi - x, conv_naive(xt_im, yt_im))))\n",
    "\n",
    "test_roots_fft_re(x) = sum(real.(map(xi -> xi - x, conv_fft(xt_re, yt_re))))\n",
    "test_roots_fft_im(x) = sum(real.(map(xi -> xi - x, conv_fft(xt_im, yt_im))))"
   ]
  },
  {
   "cell_type": "code",
   "execution_count": 167,
   "metadata": {
    "scrolled": true
   },
   "outputs": [
    {
     "name": "stdout",
     "output_type": "stream",
     "text": [
      "[120, 125, 125, 120, 110]\n",
      "Complex{Float64}[120.0 + 0.0im, 125.0 + 0.0im, 125.0 + 0.0im, 120.0 + 0.0im, 110.0 + 0.0im]\n",
      "Complex{Float64}[119.94999999999999 + 5.500000000000001im, 124.95 + 5.5im, 124.95000000000002 + 5.5im, 119.94999999999999 + 5.5im, 109.94999999999999 + 5.5im]\n",
      "Complex{Float64}[119.95 + 5.5im, 124.95 + 5.5im, 124.95 + 5.5im, 119.95 + 5.5im, 109.95 + 5.5im]\n"
     ]
    }
   ],
   "source": [
    "res_naive_re = conv_naive(xt_re,yt_re)\n",
    "res_fft_re = conv_fft(xt_re,yt_re)\n",
    "res_naive_im = conv_naive(xt_im,yt_im)\n",
    "res_fft_im = conv_fft(xt_im,yt_im)\n",
    "println(res_naive_re)\n",
    "println(res_fft_re)\n",
    "println(res_naive_im)\n",
    "println(res_fft_im)"
   ]
  },
  {
   "cell_type": "code",
   "execution_count": 177,
   "metadata": {},
   "outputs": [
    {
     "name": "stdout",
     "output_type": "stream",
     "text": [
      "[550, 650]\n",
      "[550, 650]\n",
      "[549.749, 649.751]\n",
      "[549.749, 649.751]\n"
     ]
    }
   ],
   "source": [
    "ti = -10..10\n",
    "test_test_naive_re = test_roots_naive_re(ti)\n",
    "test_test_fft_re = test_roots_fft_re(ti)\n",
    "test_test_naive_im = test_roots_naive_im(ti)\n",
    "test_test_fft_im = test_roots_fft_im(ti)\n",
    "println(test_test_naive_re)\n",
    "println(test_test_fft_re)\n",
    "println(test_test_naive_im)\n",
    "println(test_test_fft_im)"
   ]
  },
  {
   "cell_type": "code",
   "execution_count": 176,
   "metadata": {},
   "outputs": [
    {
     "name": "stdout",
     "output_type": "stream",
     "text": [
      "Root{Interval{Float64}}[Root([120, 120], :unique)]\n",
      "Root{Interval{Float64}}[Root([120, 120], :unique)]\n",
      "Root{Interval{Float64}}[Root([119.949, 119.951], :unique)]\n",
      "Root{Interval{Float64}}[Root([119.949, 119.951], :unique)]\n"
     ]
    }
   ],
   "source": [
    "r_naive_re = roots(test_roots_naive_re, 100.0..200.0)\n",
    "r_fft_re = roots(test_roots_fft_re, 100.0..200.0)\n",
    "r_naive_im = roots(test_roots_naive_im, 100.0..200.0)\n",
    "r_fft_im = roots(test_roots_fft_im, 100.0..200.0)\n",
    "println(r_naive_re)\n",
    "println(r_fft_re)\n",
    "println(r_naive_im)\n",
    "println(r_fft_im)"
   ]
  },
  {
   "cell_type": "code",
   "execution_count": 105,
   "metadata": {},
   "outputs": [
    {
     "data": {
      "text/plain": [
       "5-element Array{Complex{Float64},1}:\n",
       " 119.95 + 5.5im\n",
       " 124.95 + 5.5im\n",
       " 124.95 + 5.5im\n",
       " 119.95 + 5.5im\n",
       " 109.95 + 5.5im"
      ]
     },
     "execution_count": 105,
     "metadata": {},
     "output_type": "execute_result"
    }
   ],
   "source": [
    "conv_fft(xt,yt)"
   ]
  }
 ],
 "metadata": {
  "kernelspec": {
   "display_name": "Julia 1.5.1",
   "language": "julia",
   "name": "julia-1.5"
  },
  "language_info": {
   "file_extension": ".jl",
   "mimetype": "application/julia",
   "name": "julia",
   "version": "1.5.1"
  }
 },
 "nbformat": 4,
 "nbformat_minor": 4
}
