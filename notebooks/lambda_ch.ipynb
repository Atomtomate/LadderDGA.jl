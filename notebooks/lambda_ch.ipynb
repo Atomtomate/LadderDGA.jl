{
 "cells": [
  {
   "cell_type": "code",
   "execution_count": 21,
   "metadata": {},
   "outputs": [],
   "source": [
    "using HDF5\n",
    "using Plots\n",
    "using LadderDGA\n",
    "using Suppressor\n",
    "using Logging\n",
    "\n",
    "#path_to_input = \"/home/julian/Hamburg/lDGA_shift_tests/data/20_20_s0_b12_u1.0\"\n",
    "#path_to_output = \"$(@__DIR__)/../../lDGA_test_runs\"\n",
    "cfg_file = \"$(@__DIR__)/../../lDGA_test_runs/config.toml\"\n",
    "cfg_file2 = \"$(@__DIR__)/../../lDGA_test_runs/config2.toml\"\n",
    "\n",
    "empty!(ARGS);\n",
    "#push!(ARGS,path_to_input);\n",
    "#push!(ARGS,path_to_output);\n",
    "#include(\"../scripts/triqs_conv.jl\");\n",
    "\n",
    "io = stdout\n",
    "metafmt(level::Logging.LogLevel, _module, group, id, file, line) = Logging.default_metafmt(level, nothing, group,     id, nothing, nothing)\n",
    "logger = ConsoleLogger(io, Logging.Info, meta_formatter=metafmt, show_limited=true, right_justify=0)\n",
    "global_logger(logger);"
   ]
  },
  {
   "cell_type": "markdown",
   "metadata": {},
   "source": [
    "Loading impurity quantities and constructing k grids.\n",
    "removing the @supress block activates debugging output."
   ]
  },
  {
   "cell_type": "code",
   "execution_count": 22,
   "metadata": {},
   "outputs": [
    {
     "name": "stdout",
     "output_type": "stream",
     "text": [
      "\u001b[36m\u001b[1m[ \u001b[22m\u001b[39m\u001b[36m\u001b[1mInfo: \u001b[22m\u001b[39mReading Inputs...\n",
      "\u001b[33m\u001b[1m[ \u001b[22m\u001b[39m\u001b[33m\u001b[1mWarning: \u001b[22m\u001b[39mTODO: check beta consistency, config <-> g0man, chi_dir <-> gamma dir\n",
      "\u001b[36m\u001b[1m┌ \u001b[22m\u001b[39m\u001b[36m\u001b[1mInfo: \u001b[22m\u001b[39mInputs Read. Starting Computation.\n",
      "\u001b[36m\u001b[1m│ \u001b[22m\u001b[39mFound usable intervals for local susceptibility of length \n",
      "\u001b[36m\u001b[1m│ \u001b[22m\u001b[39m  sp: 11\n",
      "\u001b[36m\u001b[1m│ \u001b[22m\u001b[39m  ch: 11 \n",
      "\u001b[36m\u001b[1m└ \u001b[22m\u001b[39m  χLoc_sp = 0.2694, χLoc_ch = 0.093\n",
      "\u001b[36m\u001b[1m[ \u001b[22m\u001b[39m\u001b[36m\u001b[1mInfo: \u001b[22m\u001b[39mReading Inputs...\n",
      "\u001b[33m\u001b[1m[ \u001b[22m\u001b[39m\u001b[33m\u001b[1mWarning: \u001b[22m\u001b[39mTODO: check beta consistency, config <-> g0man, chi_dir <-> gamma dir\n",
      "\u001b[36m\u001b[1m┌ \u001b[22m\u001b[39m\u001b[36m\u001b[1mInfo: \u001b[22m\u001b[39mInputs Read. Starting Computation.\n",
      "\u001b[36m\u001b[1m│ \u001b[22m\u001b[39mFound usable intervals for local susceptibility of length \n",
      "\u001b[36m\u001b[1m│ \u001b[22m\u001b[39m  sp: 39\n",
      "\u001b[36m\u001b[1m│ \u001b[22m\u001b[39m  ch: 39 \n",
      "\u001b[36m\u001b[1m└ \u001b[22m\u001b[39m  χLoc_sp = 0.333, χLoc_ch = 0.1353\n"
     ]
    },
    {
     "name": "stderr",
     "output_type": "stream",
     "text": [
      "Improved sums usually require at least 30 positive fermionic frequencies\n"
     ]
    }
   ],
   "source": [
    "mP, sP, env, kGrids, qGrids, qGridLoc, freqRed_map, freqList, freqList_min, parents, ops, nFermi, nBose, shift, base, offset = readConfig(cfg_file)\n",
    "kG = kGrids[1]\n",
    "qG = qGrids[1]\n",
    "νGrid, sumHelper_f, impQ_sp, impQ_ch, GImp_fft, GLoc_fft, Σ_loc, FUpDo, gImp, gLoc = setup_LDGA(kG, freqList, mP, sP, env);\n",
    "\n",
    "mP2, sP2, env2, kGrids, qGrids, qGridLoc, freqRed_map, freqList, freqList_min, parents, ops, nFermi, nBose, shift, base, offset = readConfig(cfg_file2)\n",
    "νGrid2, sumHelper_f2, impQ_sp2, impQ_ch2, GImp_fft2, GLoc_fft2, Σ_loc2, FUpDo2, gImp2, gLoc2 = setup_LDGA(kG, freqList, mP2, sP2, env2);"
   ]
  },
  {
   "cell_type": "markdown",
   "metadata": {},
   "source": [
    "# Lambda charge solutions investigation"
   ]
  },
  {
   "cell_type": "code",
   "execution_count": 23,
   "metadata": {},
   "outputs": [],
   "source": [
    "# \"local\" correction quantities\n",
    "bubbleLoc = calc_bubble(νGrid, GImp_fft, qGridLoc, mP, sP);\n",
    "locQ_sp = calc_χ_trilex(impQ_sp.Γ, bubbleLoc, qGridLoc, νGrid, sumHelper_f, mP.U, mP, sP);\n",
    "locQ_ch = calc_χ_trilex(impQ_ch.Γ, bubbleLoc, qGridLoc, νGrid, sumHelper_f, -mP.U, mP, sP);\n",
    "Σ_ladderLoc = calc_Σ(locQ_sp, locQ_ch, bubbleLoc, GImp_fft, FUpDo,\n",
    "                     qGridLoc, sumHelper_f, mP, sP)\n",
    "Σ_ladderLoc = Σ_ladderLoc .+ mP.n * mP.U/2.0;"
   ]
  },
  {
   "cell_type": "code",
   "execution_count": 24,
   "metadata": {},
   "outputs": [],
   "source": [
    "# non local quantities \n",
    "bubble = calc_bubble(νGrid, GLoc_fft, qG, mP, sP);\n",
    "nlQ_sp = calc_χ_trilex(impQ_sp.Γ, bubble, qG, νGrid, sumHelper_f, mP.U, mP, sP);\n",
    "nlQ_ch = calc_χ_trilex(impQ_ch.Γ, bubble, qG, νGrid, sumHelper_f, -mP.U, mP, sP);"
   ]
  },
  {
   "cell_type": "code",
   "execution_count": 25,
   "metadata": {},
   "outputs": [],
   "source": [
    "# non local quantities \n",
    "bubble2 = calc_bubble(νGrid, GLoc_fft2, qG, mP2, sP2);\n",
    "nlQ_sp2 = calc_χ_trilex(impQ_sp2.Γ, bubble2, qG, νGrid, sumHelper_f2, mP2.U, mP2, sP2);\n",
    "nlQ_ch2 = calc_χ_trilex(impQ_ch2.Γ, bubble2, qG, νGrid, sumHelper_f2, -mP2.U, mP2, sP2);"
   ]
  },
  {
   "cell_type": "code",
   "execution_count": 26,
   "metadata": {},
   "outputs": [
    {
     "data": {
      "text/plain": [
       "0.40643248827942396 + 3.31761772851172e-10im"
      ]
     },
     "execution_count": 26,
     "metadata": {},
     "output_type": "execute_result"
    }
   ],
   "source": [
    "sh_1 = LadderDGA.get_sum_helper(nlQ_sp.usable_ω, sP, :b)\n",
    "sh_12 = LadderDGA.get_sum_helper(nlQ_sp2.usable_ω, sP2, :b)\n",
    "χspw = LadderDGA.sum_freq(LadderDGA.kintegrate(qG, nlQ_sp.χ[nlQ_sp.usable_ω,:], dim=2)[:,1], [1], sh_1, mP.β)[1]\n",
    "χspw2 = LadderDGA.sum_freq(LadderDGA.kintegrate(qG, nlQ_sp2.χ[nlQ_sp2.usable_ω,:], dim=2)[:,1], [1], sh_1, mP2.β)[1]\n",
    "\n",
    "#plot(nlQ_sp.usable_ω, real(impQ_sp.χ_ω[impQ_sp.usable_ω]))\n",
    "#plot!(nlQ_sp2.usable_ω, real(impQ_sp2.χ_ω[impQ_sp2.usable_ω]))"
   ]
  },
  {
   "cell_type": "code",
   "execution_count": 27,
   "metadata": {
    "scrolled": false
   },
   "outputs": [
    {
     "ename": "LoadError",
     "evalue": "UndefVarError: χspw_1 not defined",
     "output_type": "error",
     "traceback": [
      "UndefVarError: χspw_1 not defined",
      "",
      "Stacktrace:",
      " [1] top-level scope",
      "   @ In[27]:1",
      " [2] eval",
      "   @ ./boot.jl:360 [inlined]",
      " [3] include_string(mapexpr::typeof(REPL.softscope), mod::Module, code::String, filename::String)",
      "   @ Base ./loading.jl:1094"
     ]
    }
   ],
   "source": [
    "println(\"$χspw_1 vs $χspw_2\\n $χspw2_1 vs $χspw2_2\")"
   ]
  },
  {
   "cell_type": "code",
   "execution_count": 54,
   "metadata": {},
   "outputs": [
    {
     "data": {
      "image/svg+xml": [
       "<?xml version=\"1.0\" encoding=\"utf-8\"?>\n",
       "<svg xmlns=\"http://www.w3.org/2000/svg\" xmlns:xlink=\"http://www.w3.org/1999/xlink\" width=\"600\" height=\"400\" viewBox=\"0 0 2400 1600\">\n",
       "<defs>\n",
       "  <clipPath id=\"clip150\">\n",
       "    <rect x=\"0\" y=\"0\" width=\"2400\" height=\"1600\"/>\n",
       "  </clipPath>\n",
       "</defs>\n",
       "<path clip-path=\"url(#clip150)\" d=\"\n",
       "M0 1600 L2400 1600 L2400 0 L0 0  Z\n",
       "  \" fill=\"#ffffff\" fill-rule=\"evenodd\" fill-opacity=\"1\"/>\n",
       "<defs>\n",
       "  <clipPath id=\"clip151\">\n",
       "    <rect x=\"480\" y=\"0\" width=\"1681\" height=\"1600\"/>\n",
       "  </clipPath>\n",
       "</defs>\n",
       "<path clip-path=\"url(#clip150)\" d=\"\n",
       "M156.112 1486.45 L2352.76 1486.45 L2352.76 47.2441 L156.112 47.2441  Z\n",
       "  \" fill=\"#ffffff\" fill-rule=\"evenodd\" fill-opacity=\"1\"/>\n",
       "<defs>\n",
       "  <clipPath id=\"clip152\">\n",
       "    <rect x=\"156\" y=\"47\" width=\"2198\" height=\"1440\"/>\n",
       "  </clipPath>\n",
       "</defs>\n",
       "<polyline clip-path=\"url(#clip152)\" style=\"stroke:#000000; stroke-width:2; stroke-opacity:0.1; fill:none\" points=\"\n",
       "  529.127,1486.45 529.127,47.2441 \n",
       "  \"/>\n",
       "<polyline clip-path=\"url(#clip152)\" style=\"stroke:#000000; stroke-width:2; stroke-opacity:0.1; fill:none\" points=\"\n",
       "  1047.2,1486.45 1047.2,47.2441 \n",
       "  \"/>\n",
       "<polyline clip-path=\"url(#clip152)\" style=\"stroke:#000000; stroke-width:2; stroke-opacity:0.1; fill:none\" points=\"\n",
       "  1565.28,1486.45 1565.28,47.2441 \n",
       "  \"/>\n",
       "<polyline clip-path=\"url(#clip152)\" style=\"stroke:#000000; stroke-width:2; stroke-opacity:0.1; fill:none\" points=\"\n",
       "  2083.36,1486.45 2083.36,47.2441 \n",
       "  \"/>\n",
       "<polyline clip-path=\"url(#clip150)\" style=\"stroke:#000000; stroke-width:4; stroke-opacity:1; fill:none\" points=\"\n",
       "  156.112,1486.45 2352.76,1486.45 \n",
       "  \"/>\n",
       "<polyline clip-path=\"url(#clip150)\" style=\"stroke:#000000; stroke-width:4; stroke-opacity:1; fill:none\" points=\"\n",
       "  529.127,1486.45 529.127,1469.18 \n",
       "  \"/>\n",
       "<polyline clip-path=\"url(#clip150)\" style=\"stroke:#000000; stroke-width:4; stroke-opacity:1; fill:none\" points=\"\n",
       "  1047.2,1486.45 1047.2,1469.18 \n",
       "  \"/>\n",
       "<polyline clip-path=\"url(#clip150)\" style=\"stroke:#000000; stroke-width:4; stroke-opacity:1; fill:none\" points=\"\n",
       "  1565.28,1486.45 1565.28,1469.18 \n",
       "  \"/>\n",
       "<polyline clip-path=\"url(#clip150)\" style=\"stroke:#000000; stroke-width:4; stroke-opacity:1; fill:none\" points=\"\n",
       "  2083.36,1486.45 2083.36,1469.18 \n",
       "  \"/>\n",
       "<path clip-path=\"url(#clip150)\" d=\"M 0 0 M481.697 1543.18 L489.336 1543.18 L489.336 1516.82 L481.026 1518.49 L481.026 1514.23 L489.289 1512.56 L493.965 1512.56 L493.965 1543.18 L501.604 1543.18 L501.604 1547.12 L481.697 1547.12 L481.697 1543.18 Z\" fill=\"#000000\" fill-rule=\"evenodd\" fill-opacity=\"1\" /><path clip-path=\"url(#clip150)\" d=\"M 0 0 M509.868 1512.56 L532.09 1512.56 L532.09 1514.55 L519.544 1547.12 L514.66 1547.12 L526.465 1516.5 L509.868 1516.5 L509.868 1512.56 Z\" fill=\"#000000\" fill-rule=\"evenodd\" fill-opacity=\"1\" /><path clip-path=\"url(#clip150)\" d=\"M 0 0 M541.21 1541.24 L546.095 1541.24 L546.095 1547.12 L541.21 1547.12 L541.21 1541.24 Z\" fill=\"#000000\" fill-rule=\"evenodd\" fill-opacity=\"1\" /><path clip-path=\"url(#clip150)\" d=\"M 0 0 M556.326 1512.56 L574.682 1512.56 L574.682 1516.5 L560.608 1516.5 L560.608 1524.97 Q561.627 1524.62 562.645 1524.46 Q563.664 1524.27 564.682 1524.27 Q570.469 1524.27 573.849 1527.44 Q577.229 1530.62 577.229 1536.03 Q577.229 1541.61 573.756 1544.71 Q570.284 1547.79 563.965 1547.79 Q561.789 1547.79 559.52 1547.42 Q557.275 1547.05 554.868 1546.31 L554.868 1541.61 Q556.951 1542.74 559.173 1543.3 Q561.395 1543.86 563.872 1543.86 Q567.877 1543.86 570.215 1541.75 Q572.553 1539.64 572.553 1536.03 Q572.553 1532.42 570.215 1530.31 Q567.877 1528.21 563.872 1528.21 Q561.997 1528.21 560.122 1528.62 Q558.27 1529.04 556.326 1529.92 L556.326 1512.56 Z\" fill=\"#000000\" fill-rule=\"evenodd\" fill-opacity=\"1\" /><path clip-path=\"url(#clip150)\" d=\"M 0 0 M1003.36 1543.18 L1019.68 1543.18 L1019.68 1547.12 L997.736 1547.12 L997.736 1543.18 Q1000.4 1540.43 1004.98 1535.8 Q1009.59 1531.15 1010.77 1529.81 Q1013.01 1527.28 1013.89 1525.55 Q1014.8 1523.79 1014.8 1522.1 Q1014.8 1519.34 1012.85 1517.61 Q1010.93 1515.87 1007.83 1515.87 Q1005.63 1515.87 1003.18 1516.63 Q1000.75 1517.4 997.968 1518.95 L997.968 1514.23 Q1000.79 1513.09 1003.25 1512.51 Q1005.7 1511.93 1007.74 1511.93 Q1013.11 1511.93 1016.3 1514.62 Q1019.5 1517.31 1019.5 1521.8 Q1019.5 1523.93 1018.69 1525.85 Q1017.9 1527.74 1015.79 1530.34 Q1015.21 1531.01 1012.11 1534.23 Q1009.01 1537.42 1003.36 1543.18 Z\" fill=\"#000000\" fill-rule=\"evenodd\" fill-opacity=\"1\" /><path clip-path=\"url(#clip150)\" d=\"M 0 0 M1039.5 1515.64 Q1035.88 1515.64 1034.06 1519.2 Q1032.25 1522.75 1032.25 1529.87 Q1032.25 1536.98 1034.06 1540.55 Q1035.88 1544.09 1039.5 1544.09 Q1043.13 1544.09 1044.93 1540.55 Q1046.76 1536.98 1046.76 1529.87 Q1046.76 1522.75 1044.93 1519.2 Q1043.13 1515.64 1039.5 1515.64 M1039.5 1511.93 Q1045.31 1511.93 1048.36 1516.54 Q1051.44 1521.12 1051.44 1529.87 Q1051.44 1538.6 1048.36 1543.21 Q1045.31 1547.79 1039.5 1547.79 Q1033.69 1547.79 1030.61 1543.21 Q1027.55 1538.6 1027.55 1529.87 Q1027.55 1521.12 1030.61 1516.54 Q1033.69 1511.93 1039.5 1511.93 Z\" fill=\"#000000\" fill-rule=\"evenodd\" fill-opacity=\"1\" /><path clip-path=\"url(#clip150)\" d=\"M 0 0 M1059.66 1541.24 L1064.54 1541.24 L1064.54 1547.12 L1059.66 1547.12 L1059.66 1541.24 Z\" fill=\"#000000\" fill-rule=\"evenodd\" fill-opacity=\"1\" /><path clip-path=\"url(#clip150)\" d=\"M 0 0 M1084.73 1515.64 Q1081.12 1515.64 1079.29 1519.2 Q1077.48 1522.75 1077.48 1529.87 Q1077.48 1536.98 1079.29 1540.55 Q1081.12 1544.09 1084.73 1544.09 Q1088.36 1544.09 1090.17 1540.55 Q1091.99 1536.98 1091.99 1529.87 Q1091.99 1522.75 1090.17 1519.2 Q1088.36 1515.64 1084.73 1515.64 M1084.73 1511.93 Q1090.54 1511.93 1093.59 1516.54 Q1096.67 1521.12 1096.67 1529.87 Q1096.67 1538.6 1093.59 1543.21 Q1090.54 1547.79 1084.73 1547.79 Q1078.92 1547.79 1075.84 1543.21 Q1072.78 1538.6 1072.78 1529.87 Q1072.78 1521.12 1075.84 1516.54 Q1078.92 1511.93 1084.73 1511.93 Z\" fill=\"#000000\" fill-rule=\"evenodd\" fill-opacity=\"1\" /><path clip-path=\"url(#clip150)\" d=\"M 0 0 M1521.94 1543.18 L1538.25 1543.18 L1538.25 1547.12 L1516.31 1547.12 L1516.31 1543.18 Q1518.97 1540.43 1523.56 1535.8 Q1528.16 1531.15 1529.34 1529.81 Q1531.59 1527.28 1532.47 1525.55 Q1533.37 1523.79 1533.37 1522.1 Q1533.37 1519.34 1531.43 1517.61 Q1529.5 1515.87 1526.4 1515.87 Q1524.2 1515.87 1521.75 1516.63 Q1519.32 1517.4 1516.54 1518.95 L1516.54 1514.23 Q1519.37 1513.09 1521.82 1512.51 Q1524.27 1511.93 1526.31 1511.93 Q1531.68 1511.93 1534.87 1514.62 Q1538.07 1517.31 1538.07 1521.8 Q1538.07 1523.93 1537.26 1525.85 Q1536.47 1527.74 1534.37 1530.34 Q1533.79 1531.01 1530.69 1534.23 Q1527.58 1537.42 1521.94 1543.18 Z\" fill=\"#000000\" fill-rule=\"evenodd\" fill-opacity=\"1\" /><path clip-path=\"url(#clip150)\" d=\"M 0 0 M1552.1 1543.18 L1568.42 1543.18 L1568.42 1547.12 L1546.47 1547.12 L1546.47 1543.18 Q1549.13 1540.43 1553.72 1535.8 Q1558.32 1531.15 1559.5 1529.81 Q1561.75 1527.28 1562.63 1525.55 Q1563.53 1523.79 1563.53 1522.1 Q1563.53 1519.34 1561.59 1517.61 Q1559.67 1515.87 1556.56 1515.87 Q1554.37 1515.87 1551.91 1516.63 Q1549.48 1517.4 1546.7 1518.95 L1546.7 1514.23 Q1549.53 1513.09 1551.98 1512.51 Q1554.43 1511.93 1556.47 1511.93 Q1561.84 1511.93 1565.04 1514.62 Q1568.23 1517.31 1568.23 1521.8 Q1568.23 1523.93 1567.42 1525.85 Q1566.63 1527.74 1564.53 1530.34 Q1563.95 1531.01 1560.85 1534.23 Q1557.75 1537.42 1552.1 1543.18 Z\" fill=\"#000000\" fill-rule=\"evenodd\" fill-opacity=\"1\" /><path clip-path=\"url(#clip150)\" d=\"M 0 0 M1578.23 1541.24 L1583.12 1541.24 L1583.12 1547.12 L1578.23 1547.12 L1578.23 1541.24 Z\" fill=\"#000000\" fill-rule=\"evenodd\" fill-opacity=\"1\" /><path clip-path=\"url(#clip150)\" d=\"M 0 0 M1593.35 1512.56 L1611.7 1512.56 L1611.7 1516.5 L1597.63 1516.5 L1597.63 1524.97 Q1598.65 1524.62 1599.67 1524.46 Q1600.68 1524.27 1601.7 1524.27 Q1607.49 1524.27 1610.87 1527.44 Q1614.25 1530.62 1614.25 1536.03 Q1614.25 1541.61 1610.78 1544.71 Q1607.31 1547.79 1600.99 1547.79 Q1598.81 1547.79 1596.54 1547.42 Q1594.3 1547.05 1591.89 1546.31 L1591.89 1541.61 Q1593.97 1542.74 1596.19 1543.3 Q1598.42 1543.86 1600.89 1543.86 Q1604.9 1543.86 1607.24 1541.75 Q1609.57 1539.64 1609.57 1536.03 Q1609.57 1532.42 1607.24 1530.31 Q1604.9 1528.21 1600.89 1528.21 Q1599.02 1528.21 1597.14 1528.62 Q1595.29 1529.04 1593.35 1529.92 L1593.35 1512.56 Z\" fill=\"#000000\" fill-rule=\"evenodd\" fill-opacity=\"1\" /><path clip-path=\"url(#clip150)\" d=\"M 0 0 M2039.51 1543.18 L2055.83 1543.18 L2055.83 1547.12 L2033.89 1547.12 L2033.89 1543.18 Q2036.55 1540.43 2041.13 1535.8 Q2045.74 1531.15 2046.92 1529.81 Q2049.17 1527.28 2050.05 1525.55 Q2050.95 1523.79 2050.95 1522.1 Q2050.95 1519.34 2049 1517.61 Q2047.08 1515.87 2043.98 1515.87 Q2041.78 1515.87 2039.33 1516.63 Q2036.9 1517.4 2034.12 1518.95 L2034.12 1514.23 Q2036.94 1513.09 2039.4 1512.51 Q2041.85 1511.93 2043.89 1511.93 Q2049.26 1511.93 2052.45 1514.62 Q2055.65 1517.31 2055.65 1521.8 Q2055.65 1523.93 2054.84 1525.85 Q2054.05 1527.74 2051.94 1530.34 Q2051.37 1531.01 2048.26 1534.23 Q2045.16 1537.42 2039.51 1543.18 Z\" fill=\"#000000\" fill-rule=\"evenodd\" fill-opacity=\"1\" /><path clip-path=\"url(#clip150)\" d=\"M 0 0 M2065.69 1512.56 L2084.05 1512.56 L2084.05 1516.5 L2069.98 1516.5 L2069.98 1524.97 Q2071 1524.62 2072.01 1524.46 Q2073.03 1524.27 2074.05 1524.27 Q2079.84 1524.27 2083.22 1527.44 Q2086.6 1530.62 2086.6 1536.03 Q2086.6 1541.61 2083.12 1544.71 Q2079.65 1547.79 2073.33 1547.79 Q2071.16 1547.79 2068.89 1547.42 Q2066.64 1547.05 2064.24 1546.31 L2064.24 1541.61 Q2066.32 1542.74 2068.54 1543.3 Q2070.76 1543.86 2073.24 1543.86 Q2077.25 1543.86 2079.58 1541.75 Q2081.92 1539.64 2081.92 1536.03 Q2081.92 1532.42 2079.58 1530.31 Q2077.25 1528.21 2073.24 1528.21 Q2071.37 1528.21 2069.49 1528.62 Q2067.64 1529.04 2065.69 1529.92 L2065.69 1512.56 Z\" fill=\"#000000\" fill-rule=\"evenodd\" fill-opacity=\"1\" /><path clip-path=\"url(#clip150)\" d=\"M 0 0 M2095.81 1541.24 L2100.69 1541.24 L2100.69 1547.12 L2095.81 1547.12 L2095.81 1541.24 Z\" fill=\"#000000\" fill-rule=\"evenodd\" fill-opacity=\"1\" /><path clip-path=\"url(#clip150)\" d=\"M 0 0 M2120.88 1515.64 Q2117.27 1515.64 2115.44 1519.2 Q2113.63 1522.75 2113.63 1529.87 Q2113.63 1536.98 2115.44 1540.55 Q2117.27 1544.09 2120.88 1544.09 Q2124.51 1544.09 2126.32 1540.55 Q2128.15 1536.98 2128.15 1529.87 Q2128.15 1522.75 2126.32 1519.2 Q2124.51 1515.64 2120.88 1515.64 M2120.88 1511.93 Q2126.69 1511.93 2129.74 1516.54 Q2132.82 1521.12 2132.82 1529.87 Q2132.82 1538.6 2129.74 1543.21 Q2126.69 1547.79 2120.88 1547.79 Q2115.07 1547.79 2111.99 1543.21 Q2108.93 1538.6 2108.93 1529.87 Q2108.93 1521.12 2111.99 1516.54 Q2115.07 1511.93 2120.88 1511.93 Z\" fill=\"#000000\" fill-rule=\"evenodd\" fill-opacity=\"1\" /><polyline clip-path=\"url(#clip152)\" style=\"stroke:#000000; stroke-width:2; stroke-opacity:0.1; fill:none\" points=\"\n",
       "  156.112,1436.83 2352.76,1436.83 \n",
       "  \"/>\n",
       "<polyline clip-path=\"url(#clip152)\" style=\"stroke:#000000; stroke-width:2; stroke-opacity:0.1; fill:none\" points=\"\n",
       "  156.112,1041.69 2352.76,1041.69 \n",
       "  \"/>\n",
       "<polyline clip-path=\"url(#clip152)\" style=\"stroke:#000000; stroke-width:2; stroke-opacity:0.1; fill:none\" points=\"\n",
       "  156.112,646.544 2352.76,646.544 \n",
       "  \"/>\n",
       "<polyline clip-path=\"url(#clip152)\" style=\"stroke:#000000; stroke-width:2; stroke-opacity:0.1; fill:none\" points=\"\n",
       "  156.112,251.401 2352.76,251.401 \n",
       "  \"/>\n",
       "<polyline clip-path=\"url(#clip150)\" style=\"stroke:#000000; stroke-width:4; stroke-opacity:1; fill:none\" points=\"\n",
       "  156.112,1486.45 156.112,47.2441 \n",
       "  \"/>\n",
       "<polyline clip-path=\"url(#clip150)\" style=\"stroke:#000000; stroke-width:4; stroke-opacity:1; fill:none\" points=\"\n",
       "  156.112,1436.83 182.472,1436.83 \n",
       "  \"/>\n",
       "<polyline clip-path=\"url(#clip150)\" style=\"stroke:#000000; stroke-width:4; stroke-opacity:1; fill:none\" points=\"\n",
       "  156.112,1041.69 182.472,1041.69 \n",
       "  \"/>\n",
       "<polyline clip-path=\"url(#clip150)\" style=\"stroke:#000000; stroke-width:4; stroke-opacity:1; fill:none\" points=\"\n",
       "  156.112,646.544 182.472,646.544 \n",
       "  \"/>\n",
       "<polyline clip-path=\"url(#clip150)\" style=\"stroke:#000000; stroke-width:4; stroke-opacity:1; fill:none\" points=\"\n",
       "  156.112,251.401 182.472,251.401 \n",
       "  \"/>\n",
       "<path clip-path=\"url(#clip150)\" d=\"M 0 0 M62.9365 1422.63 Q59.3254 1422.63 57.4967 1426.19 Q55.6912 1429.74 55.6912 1436.87 Q55.6912 1443.97 57.4967 1447.54 Q59.3254 1451.08 62.9365 1451.08 Q66.5707 1451.08 68.3763 1447.54 Q70.205 1443.97 70.205 1436.87 Q70.205 1429.74 68.3763 1426.19 Q66.5707 1422.63 62.9365 1422.63 M62.9365 1418.93 Q68.7467 1418.93 71.8022 1423.53 Q74.8809 1428.12 74.8809 1436.87 Q74.8809 1445.59 71.8022 1450.2 Q68.7467 1454.78 62.9365 1454.78 Q57.1264 1454.78 54.0477 1450.2 Q50.9921 1445.59 50.9921 1436.87 Q50.9921 1428.12 54.0477 1423.53 Q57.1264 1418.93 62.9365 1418.93 Z\" fill=\"#000000\" fill-rule=\"evenodd\" fill-opacity=\"1\" /><path clip-path=\"url(#clip150)\" d=\"M 0 0 M83.0984 1448.23 L87.9827 1448.23 L87.9827 1454.11 L83.0984 1454.11 L83.0984 1448.23 Z\" fill=\"#000000\" fill-rule=\"evenodd\" fill-opacity=\"1\" /><path clip-path=\"url(#clip150)\" d=\"M 0 0 M108.168 1422.63 Q104.557 1422.63 102.728 1426.19 Q100.922 1429.74 100.922 1436.87 Q100.922 1443.97 102.728 1447.54 Q104.557 1451.08 108.168 1451.08 Q111.802 1451.08 113.608 1447.54 Q115.436 1443.97 115.436 1436.87 Q115.436 1429.74 113.608 1426.19 Q111.802 1422.63 108.168 1422.63 M108.168 1418.93 Q113.978 1418.93 117.033 1423.53 Q120.112 1428.12 120.112 1436.87 Q120.112 1445.59 117.033 1450.2 Q113.978 1454.78 108.168 1454.78 Q102.358 1454.78 99.2789 1450.2 Q96.2234 1445.59 96.2234 1436.87 Q96.2234 1428.12 99.2789 1423.53 Q102.358 1418.93 108.168 1418.93 Z\" fill=\"#000000\" fill-rule=\"evenodd\" fill-opacity=\"1\" /><path clip-path=\"url(#clip150)\" d=\"M 0 0 M64.1634 1027.49 Q60.5523 1027.49 58.7236 1031.05 Q56.918 1034.59 56.918 1041.72 Q56.918 1048.83 58.7236 1052.39 Q60.5523 1055.94 64.1634 1055.94 Q67.7976 1055.94 69.6031 1052.39 Q71.4318 1048.83 71.4318 1041.72 Q71.4318 1034.59 69.6031 1031.05 Q67.7976 1027.49 64.1634 1027.49 M64.1634 1023.78 Q69.9735 1023.78 73.029 1028.39 Q76.1077 1032.97 76.1077 1041.72 Q76.1077 1050.45 73.029 1055.06 Q69.9735 1059.64 64.1634 1059.64 Q58.3532 1059.64 55.2745 1055.06 Q52.219 1050.45 52.219 1041.72 Q52.219 1032.97 55.2745 1028.39 Q58.3532 1023.78 64.1634 1023.78 Z\" fill=\"#000000\" fill-rule=\"evenodd\" fill-opacity=\"1\" /><path clip-path=\"url(#clip150)\" d=\"M 0 0 M84.3253 1053.09 L89.2095 1053.09 L89.2095 1058.97 L84.3253 1058.97 L84.3253 1053.09 Z\" fill=\"#000000\" fill-rule=\"evenodd\" fill-opacity=\"1\" /><path clip-path=\"url(#clip150)\" d=\"M 0 0 M100.205 1055.03 L107.844 1055.03 L107.844 1028.67 L99.5335 1030.33 L99.5335 1026.07 L107.797 1024.41 L112.473 1024.41 L112.473 1055.03 L120.112 1055.03 L120.112 1058.97 L100.205 1058.97 L100.205 1055.03 Z\" fill=\"#000000\" fill-rule=\"evenodd\" fill-opacity=\"1\" /><path clip-path=\"url(#clip150)\" d=\"M 0 0 M64.5337 632.343 Q60.9226 632.343 59.0939 635.908 Q57.2884 639.45 57.2884 646.579 Q57.2884 653.686 59.0939 657.25 Q60.9226 660.792 64.5337 660.792 Q68.168 660.792 69.9735 657.25 Q71.8022 653.686 71.8022 646.579 Q71.8022 639.45 69.9735 635.908 Q68.168 632.343 64.5337 632.343 M64.5337 628.639 Q70.3439 628.639 73.3994 633.246 Q76.4781 637.829 76.4781 646.579 Q76.4781 655.306 73.3994 659.912 Q70.3439 664.496 64.5337 664.496 Q58.7236 664.496 55.6449 659.912 Q52.5893 655.306 52.5893 646.579 Q52.5893 637.829 55.6449 633.246 Q58.7236 628.639 64.5337 628.639 Z\" fill=\"#000000\" fill-rule=\"evenodd\" fill-opacity=\"1\" /><path clip-path=\"url(#clip150)\" d=\"M 0 0 M84.6956 657.945 L89.5799 657.945 L89.5799 663.824 L84.6956 663.824 L84.6956 657.945 Z\" fill=\"#000000\" fill-rule=\"evenodd\" fill-opacity=\"1\" /><path clip-path=\"url(#clip150)\" d=\"M 0 0 M103.793 659.889 L120.112 659.889 L120.112 663.824 L98.1678 663.824 L98.1678 659.889 Q100.83 657.135 105.413 652.505 Q110.02 647.852 111.2 646.51 Q113.445 643.987 114.325 642.25 Q115.228 640.491 115.228 638.801 Q115.228 636.047 113.283 634.311 Q111.362 632.575 108.26 632.575 Q106.061 632.575 103.608 633.338 Q101.177 634.102 98.3993 635.653 L98.3993 630.931 Q101.223 629.797 103.677 629.218 Q106.131 628.639 108.168 628.639 Q113.538 628.639 116.733 631.325 Q119.927 634.01 119.927 638.5 Q119.927 640.63 119.117 642.551 Q118.33 644.45 116.223 647.042 Q115.645 647.713 112.543 650.931 Q109.441 654.125 103.793 659.889 Z\" fill=\"#000000\" fill-rule=\"evenodd\" fill-opacity=\"1\" /><path clip-path=\"url(#clip150)\" d=\"M 0 0 M63.5847 237.2 Q59.9736 237.2 58.1449 240.764 Q56.3393 244.306 56.3393 251.436 Q56.3393 258.542 58.1449 262.107 Q59.9736 265.649 63.5847 265.649 Q67.2189 265.649 69.0244 262.107 Q70.8531 258.542 70.8531 251.436 Q70.8531 244.306 69.0244 240.764 Q67.2189 237.2 63.5847 237.2 M63.5847 233.496 Q69.3948 233.496 72.4503 238.102 Q75.529 242.686 75.529 251.436 Q75.529 260.163 72.4503 264.769 Q69.3948 269.352 63.5847 269.352 Q57.7745 269.352 54.6958 264.769 Q51.6403 260.163 51.6403 251.436 Q51.6403 242.686 54.6958 238.102 Q57.7745 233.496 63.5847 233.496 Z\" fill=\"#000000\" fill-rule=\"evenodd\" fill-opacity=\"1\" /><path clip-path=\"url(#clip150)\" d=\"M 0 0 M83.7466 262.801 L88.6308 262.801 L88.6308 268.681 L83.7466 268.681 L83.7466 262.801 Z\" fill=\"#000000\" fill-rule=\"evenodd\" fill-opacity=\"1\" /><path clip-path=\"url(#clip150)\" d=\"M 0 0 M112.983 250.047 Q116.339 250.764 118.214 253.033 Q120.112 255.301 120.112 258.635 Q120.112 263.75 116.594 266.551 Q113.075 269.352 106.594 269.352 Q104.418 269.352 102.103 268.912 Q99.8113 268.496 97.3576 267.639 L97.3576 263.125 Q99.3021 264.26 101.617 264.838 Q103.932 265.417 106.455 265.417 Q110.853 265.417 113.145 263.681 Q115.459 261.945 115.459 258.635 Q115.459 255.579 113.307 253.866 Q111.177 252.13 107.358 252.13 L103.33 252.13 L103.33 248.288 L107.543 248.288 Q110.992 248.288 112.82 246.922 Q114.649 245.533 114.649 242.94 Q114.649 240.278 112.751 238.866 Q110.876 237.431 107.358 237.431 Q105.436 237.431 103.237 237.848 Q101.038 238.264 98.3993 239.144 L98.3993 234.977 Q101.061 234.237 103.376 233.866 Q105.714 233.496 107.774 233.496 Q113.098 233.496 116.2 235.927 Q119.302 238.334 119.302 242.454 Q119.302 245.325 117.658 247.315 Q116.015 249.283 112.983 250.047 Z\" fill=\"#000000\" fill-rule=\"evenodd\" fill-opacity=\"1\" /><polyline clip-path=\"url(#clip152)\" style=\"stroke:#009af9; stroke-width:4; stroke-opacity:1; fill:none\" points=\"\n",
       "  218.281,1401.31 425.512,1334.12 632.742,1223.15 839.973,1029.03 1047.2,680.608 1254.43,126.844 1461.66,680.608 1668.9,1029.03 1876.13,1223.15 2083.36,1334.12 \n",
       "  2290.59,1401.31 \n",
       "  \"/>\n",
       "<path clip-path=\"url(#clip152)\" d=\"M218.281 1409.31 L211.353 1405.31 L211.353 1397.31 L218.281 1393.31 L225.209 1397.31 L225.209 1405.31 Z\" fill=\"#009af9\" fill-rule=\"evenodd\" fill-opacity=\"1\" stroke=\"#000000\" stroke-opacity=\"1\" stroke-width=\"3.2\"/>\n",
       "<path clip-path=\"url(#clip152)\" d=\"M425.512 1342.12 L418.584 1338.12 L418.584 1330.12 L425.512 1326.12 L432.44 1330.12 L432.44 1338.12 Z\" fill=\"#009af9\" fill-rule=\"evenodd\" fill-opacity=\"1\" stroke=\"#000000\" stroke-opacity=\"1\" stroke-width=\"3.2\"/>\n",
       "<path clip-path=\"url(#clip152)\" d=\"M632.742 1231.15 L625.814 1227.15 L625.814 1219.15 L632.742 1215.15 L639.67 1219.15 L639.67 1227.15 Z\" fill=\"#009af9\" fill-rule=\"evenodd\" fill-opacity=\"1\" stroke=\"#000000\" stroke-opacity=\"1\" stroke-width=\"3.2\"/>\n",
       "<path clip-path=\"url(#clip152)\" d=\"M839.973 1037.03 L833.045 1033.03 L833.045 1025.03 L839.973 1021.03 L846.901 1025.03 L846.901 1033.03 Z\" fill=\"#009af9\" fill-rule=\"evenodd\" fill-opacity=\"1\" stroke=\"#000000\" stroke-opacity=\"1\" stroke-width=\"3.2\"/>\n",
       "<path clip-path=\"url(#clip152)\" d=\"M1047.2 688.608 L1040.28 684.608 L1040.28 676.608 L1047.2 672.608 L1054.13 676.608 L1054.13 684.608 Z\" fill=\"#009af9\" fill-rule=\"evenodd\" fill-opacity=\"1\" stroke=\"#000000\" stroke-opacity=\"1\" stroke-width=\"3.2\"/>\n",
       "<path clip-path=\"url(#clip152)\" d=\"M1254.43 134.844 L1247.51 130.844 L1247.51 122.844 L1254.43 118.844 L1261.36 122.844 L1261.36 130.844 Z\" fill=\"#009af9\" fill-rule=\"evenodd\" fill-opacity=\"1\" stroke=\"#000000\" stroke-opacity=\"1\" stroke-width=\"3.2\"/>\n",
       "<path clip-path=\"url(#clip152)\" d=\"M1461.66 688.608 L1454.74 684.608 L1454.74 676.608 L1461.66 672.608 L1468.59 676.608 L1468.59 684.608 Z\" fill=\"#009af9\" fill-rule=\"evenodd\" fill-opacity=\"1\" stroke=\"#000000\" stroke-opacity=\"1\" stroke-width=\"3.2\"/>\n",
       "<path clip-path=\"url(#clip152)\" d=\"M1668.9 1037.03 L1661.97 1033.03 L1661.97 1025.03 L1668.9 1021.03 L1675.82 1025.03 L1675.82 1033.03 Z\" fill=\"#009af9\" fill-rule=\"evenodd\" fill-opacity=\"1\" stroke=\"#000000\" stroke-opacity=\"1\" stroke-width=\"3.2\"/>\n",
       "<path clip-path=\"url(#clip152)\" d=\"M1876.13 1231.15 L1869.2 1227.15 L1869.2 1219.15 L1876.13 1215.15 L1883.05 1219.15 L1883.05 1227.15 Z\" fill=\"#009af9\" fill-rule=\"evenodd\" fill-opacity=\"1\" stroke=\"#000000\" stroke-opacity=\"1\" stroke-width=\"3.2\"/>\n",
       "<path clip-path=\"url(#clip152)\" d=\"M2083.36 1342.12 L2076.43 1338.12 L2076.43 1330.12 L2083.36 1326.12 L2090.28 1330.12 L2090.28 1338.12 Z\" fill=\"#009af9\" fill-rule=\"evenodd\" fill-opacity=\"1\" stroke=\"#000000\" stroke-opacity=\"1\" stroke-width=\"3.2\"/>\n",
       "<path clip-path=\"url(#clip152)\" d=\"M2290.59 1409.31 L2283.66 1405.31 L2283.66 1397.31 L2290.59 1393.31 L2297.51 1397.31 L2297.51 1405.31 Z\" fill=\"#009af9\" fill-rule=\"evenodd\" fill-opacity=\"1\" stroke=\"#000000\" stroke-opacity=\"1\" stroke-width=\"3.2\"/>\n",
       "<polyline clip-path=\"url(#clip152)\" style=\"stroke:#e26f46; stroke-width:4; stroke-opacity:1; fill:none\" points=\"\n",
       "  218.281,1434.47 425.512,1445.72 632.742,1330.58 839.973,1336.86 1047.2,610.82 1254.43,87.9763 1461.66,610.82 1668.9,1336.86 1876.13,1330.58 2083.36,1445.72 \n",
       "  2290.59,1434.47 \n",
       "  \"/>\n",
       "<path clip-path=\"url(#clip152)\" d=\"M210.281 1426.47 L210.281 1442.47 L226.281 1442.47 L226.281 1426.47 L210.281 1426.47 Z\" fill=\"#e26f46\" fill-rule=\"evenodd\" fill-opacity=\"1\" stroke=\"#000000\" stroke-opacity=\"1\" stroke-width=\"3.2\"/>\n",
       "<path clip-path=\"url(#clip152)\" d=\"M417.512 1437.72 L417.512 1453.72 L433.512 1453.72 L433.512 1437.72 L417.512 1437.72 Z\" fill=\"#e26f46\" fill-rule=\"evenodd\" fill-opacity=\"1\" stroke=\"#000000\" stroke-opacity=\"1\" stroke-width=\"3.2\"/>\n",
       "<path clip-path=\"url(#clip152)\" d=\"M624.742 1322.58 L624.742 1338.58 L640.742 1338.58 L640.742 1322.58 L624.742 1322.58 Z\" fill=\"#e26f46\" fill-rule=\"evenodd\" fill-opacity=\"1\" stroke=\"#000000\" stroke-opacity=\"1\" stroke-width=\"3.2\"/>\n",
       "<path clip-path=\"url(#clip152)\" d=\"M831.973 1328.86 L831.973 1344.86 L847.973 1344.86 L847.973 1328.86 L831.973 1328.86 Z\" fill=\"#e26f46\" fill-rule=\"evenodd\" fill-opacity=\"1\" stroke=\"#000000\" stroke-opacity=\"1\" stroke-width=\"3.2\"/>\n",
       "<path clip-path=\"url(#clip152)\" d=\"M1039.2 602.82 L1039.2 618.82 L1055.2 618.82 L1055.2 602.82 L1039.2 602.82 Z\" fill=\"#e26f46\" fill-rule=\"evenodd\" fill-opacity=\"1\" stroke=\"#000000\" stroke-opacity=\"1\" stroke-width=\"3.2\"/>\n",
       "<path clip-path=\"url(#clip152)\" d=\"M1246.43 79.9763 L1246.43 95.9763 L1262.43 95.9763 L1262.43 79.9763 L1246.43 79.9763 Z\" fill=\"#e26f46\" fill-rule=\"evenodd\" fill-opacity=\"1\" stroke=\"#000000\" stroke-opacity=\"1\" stroke-width=\"3.2\"/>\n",
       "<path clip-path=\"url(#clip152)\" d=\"M1453.66 602.82 L1453.66 618.82 L1469.66 618.82 L1469.66 602.82 L1453.66 602.82 Z\" fill=\"#e26f46\" fill-rule=\"evenodd\" fill-opacity=\"1\" stroke=\"#000000\" stroke-opacity=\"1\" stroke-width=\"3.2\"/>\n",
       "<path clip-path=\"url(#clip152)\" d=\"M1660.9 1328.86 L1660.9 1344.86 L1676.9 1344.86 L1676.9 1328.86 L1660.9 1328.86 Z\" fill=\"#e26f46\" fill-rule=\"evenodd\" fill-opacity=\"1\" stroke=\"#000000\" stroke-opacity=\"1\" stroke-width=\"3.2\"/>\n",
       "<path clip-path=\"url(#clip152)\" d=\"M1868.13 1322.58 L1868.13 1338.58 L1884.13 1338.58 L1884.13 1322.58 L1868.13 1322.58 Z\" fill=\"#e26f46\" fill-rule=\"evenodd\" fill-opacity=\"1\" stroke=\"#000000\" stroke-opacity=\"1\" stroke-width=\"3.2\"/>\n",
       "<path clip-path=\"url(#clip152)\" d=\"M2075.36 1437.72 L2075.36 1453.72 L2091.36 1453.72 L2091.36 1437.72 L2075.36 1437.72 Z\" fill=\"#e26f46\" fill-rule=\"evenodd\" fill-opacity=\"1\" stroke=\"#000000\" stroke-opacity=\"1\" stroke-width=\"3.2\"/>\n",
       "<path clip-path=\"url(#clip152)\" d=\"M2282.59 1426.47 L2282.59 1442.47 L2298.59 1442.47 L2298.59 1426.47 L2282.59 1426.47 Z\" fill=\"#e26f46\" fill-rule=\"evenodd\" fill-opacity=\"1\" stroke=\"#000000\" stroke-opacity=\"1\" stroke-width=\"3.2\"/>\n",
       "<path clip-path=\"url(#clip150)\" d=\"\n",
       "M1983.03 276.658 L2279.53 276.658 L2279.53 95.2176 L1983.03 95.2176  Z\n",
       "  \" fill=\"#ffffff\" fill-rule=\"evenodd\" fill-opacity=\"1\"/>\n",
       "<polyline clip-path=\"url(#clip150)\" style=\"stroke:#000000; stroke-width:4; stroke-opacity:1; fill:none\" points=\"\n",
       "  1983.03,276.658 2279.53,276.658 2279.53,95.2176 1983.03,95.2176 1983.03,276.658 \n",
       "  \"/>\n",
       "<polyline clip-path=\"url(#clip150)\" style=\"stroke:#009af9; stroke-width:4; stroke-opacity:1; fill:none\" points=\"\n",
       "  2007.44,155.698 2153.88,155.698 \n",
       "  \"/>\n",
       "<path clip-path=\"url(#clip150)\" d=\"M2080.66 181.298 L2058.49 168.498 L2058.49 142.898 L2080.66 130.098 L2102.83 142.898 L2102.83 168.498 Z\" fill=\"#009af9\" fill-rule=\"evenodd\" fill-opacity=\"1\" stroke=\"#000000\" stroke-opacity=\"1\" stroke-width=\"10.24\"/>\n",
       "<path clip-path=\"url(#clip150)\" d=\"M 0 0 M2192.13 175.385 Q2190.33 180.015 2188.61 181.427 Q2186.9 182.839 2184.03 182.839 L2180.63 182.839 L2180.63 179.274 L2183.13 179.274 Q2184.89 179.274 2185.86 178.44 Q2186.83 177.607 2188.01 174.505 L2188.78 172.561 L2178.29 147.052 L2182.8 147.052 L2190.91 167.329 L2199.01 147.052 L2203.52 147.052 L2192.13 175.385 Z\" fill=\"#000000\" fill-rule=\"evenodd\" fill-opacity=\"1\" /><path clip-path=\"url(#clip150)\" d=\"M 0 0 M2210.81 169.042 L2218.45 169.042 L2218.45 142.677 L2210.14 144.343 L2210.14 140.084 L2218.41 138.418 L2223.08 138.418 L2223.08 169.042 L2230.72 169.042 L2230.72 172.978 L2210.81 172.978 L2210.81 169.042 Z\" fill=\"#000000\" fill-rule=\"evenodd\" fill-opacity=\"1\" /><polyline clip-path=\"url(#clip150)\" style=\"stroke:#e26f46; stroke-width:4; stroke-opacity:1; fill:none\" points=\"\n",
       "  2007.44,216.178 2153.88,216.178 \n",
       "  \"/>\n",
       "<path clip-path=\"url(#clip150)\" d=\"M2055.06 190.578 L2055.06 241.778 L2106.26 241.778 L2106.26 190.578 L2055.06 190.578 Z\" fill=\"#e26f46\" fill-rule=\"evenodd\" fill-opacity=\"1\" stroke=\"#000000\" stroke-opacity=\"1\" stroke-width=\"10.24\"/>\n",
       "<path clip-path=\"url(#clip150)\" d=\"M 0 0 M2192.13 235.865 Q2190.33 240.495 2188.61 241.907 Q2186.9 243.319 2184.03 243.319 L2180.63 243.319 L2180.63 239.754 L2183.13 239.754 Q2184.89 239.754 2185.86 238.92 Q2186.83 238.087 2188.01 234.985 L2188.78 233.041 L2178.29 207.532 L2182.8 207.532 L2190.91 227.809 L2199.01 207.532 L2203.52 207.532 L2192.13 235.865 Z\" fill=\"#000000\" fill-rule=\"evenodd\" fill-opacity=\"1\" /><path clip-path=\"url(#clip150)\" d=\"M 0 0 M2214.03 229.522 L2230.35 229.522 L2230.35 233.458 L2208.41 233.458 L2208.41 229.522 Q2211.07 226.768 2215.65 222.138 Q2220.26 217.485 2221.44 216.143 Q2223.68 213.62 2224.56 211.884 Q2225.47 210.124 2225.47 208.435 Q2225.47 205.68 2223.52 203.944 Q2221.6 202.208 2218.5 202.208 Q2216.3 202.208 2213.85 202.972 Q2211.41 203.735 2208.64 205.286 L2208.64 200.564 Q2211.46 199.43 2213.91 198.851 Q2216.37 198.273 2218.41 198.273 Q2223.78 198.273 2226.97 200.958 Q2230.16 203.643 2230.16 208.134 Q2230.16 210.263 2229.35 212.185 Q2228.57 214.083 2226.46 216.675 Q2225.88 217.347 2222.78 220.564 Q2219.68 223.759 2214.03 229.522 Z\" fill=\"#000000\" fill-rule=\"evenodd\" fill-opacity=\"1\" /></svg>\n"
      ]
     },
     "execution_count": 54,
     "metadata": {},
     "output_type": "execute_result"
    }
   ],
   "source": [
    "sh = get_sum_helper(nlQ_ch.usable_ω, sP, :b)\n",
    "χch_ω = kintegrate(kGrid, nlQ_ch.χ, dim=2)[:,1]\n",
    "χch_sum = real(sum_freq(χch_ω[nlQ_ch.usable_ω], [1], sh, mP.β)[1])\n",
    "χsp_ω = kintegrate(kGrid, nlQ_sp.χ, dim=2)[:,1]\n",
    "χsp_sum = real(sum_freq(χsp_ω[nlQ_sp.usable_ω], [1], sh, mP.β)[1])\n",
    "usable_ω = intersect(nlQ_sp.usable_ω, nlQ_ch.usable_ω)\n",
    "\n",
    "sh_2 = get_sum_helper(nlQ_ch2.usable_ω, sP2, :b)\n",
    "χch_ω_2 = kintegrate(kGrid, nlQ_ch2.χ, dim=2)[:,1]\n",
    "χch_sum_2 = real(sum_freq(χch_ω_2[nlQ_ch2.usable_ω], [1], sh_2, mP2.β)[1])\n",
    "χsp_ω_2 = kintegrate(kGrid, nlQ_sp2.χ, dim=2)[:,1]\n",
    "χsp_sum_2 = real(sum_freq(χsp_ω_2[nlQ_sp2.usable_ω], [1], sh_2, mP2.β)[1])\n",
    "usable_ω_2 = intersect(nlQ_sp2.usable_ω, nlQ_ch2.usable_ω)\n",
    "\n",
    "plot(nlQ_ch.usable_ω, real(χch_ω[nlQ_ch.usable_ω]),markershape = :hexagon,markersize = 2)\n",
    "plot!(nlQ_ch.usable_ω, real(χch_ω_2[nlQ_ch.usable_ω]),markershape = :square,markersize = 2)"
   ]
  },
  {
   "cell_type": "code",
   "execution_count": 55,
   "metadata": {},
   "outputs": [
    {
     "data": {
      "text/plain": [
       "56-element Vector{Float64}:\n",
       " -0.031282414493229445\n",
       " -0.014113603517757319\n",
       "  0.00032897854561469563\n",
       "  0.012875957068347646\n",
       "  0.02287510280909808\n",
       "  0.03241133857402678\n",
       "  0.04129243479259442\n",
       "  0.055036633530458776\n",
       "  0.06235464098691937\n",
       "  0.07986636753709139\n",
       "  0.05756118567265603\n",
       "  0.06366431069320005\n",
       "  0.0697235559914884\n",
       "  ⋮\n",
       "  0.14372823375395227\n",
       "  0.12484509400145202\n",
       "  0.12937174192470413\n",
       "  0.1406456590484627\n",
       "  0.15370676459888655\n",
       "  0.1637810145067568\n",
       "  0.1286282405971316\n",
       "  0.133118392727512\n",
       "  0.14433501542385424\n",
       "  0.15740314994599763\n",
       "  0.16754624288712824\n",
       "  0.17135456433604057"
      ]
     },
     "execution_count": 55,
     "metadata": {},
     "output_type": "execute_result"
    }
   ],
   "source": [
    "real(nlQ_ch.χ[23,:])"
   ]
  },
  {
   "cell_type": "code",
   "execution_count": 56,
   "metadata": {},
   "outputs": [
    {
     "data": {
      "text/plain": [
       "56-element Vector{Float64}:\n",
       " -0.44790711960235463\n",
       " -0.34807704022690206\n",
       " -0.27728441464351916\n",
       " -0.22353453636024925\n",
       " -0.18362949483783572\n",
       " -0.15029698834713498\n",
       " -0.12154716313979305\n",
       " -0.08042761347043223\n",
       " -0.06056538908554406\n",
       " -0.016914736071561895\n",
       " -0.07107129314106765\n",
       " -0.0552284085369163\n",
       " -0.04009617691494643\n",
       "  ⋮\n",
       "  0.10542212875447553\n",
       "  0.0752968633791195\n",
       "  0.08284309134400776\n",
       "  0.10086184643143446\n",
       "  0.12050450737755607\n",
       "  0.13487505109167663\n",
       "  0.08187338016541111\n",
       "  0.08918287057808685\n",
       "  0.10670178094591797\n",
       "  0.12592713542118064\n",
       "  0.1400921411091708\n",
       "  0.14526088096098042"
      ]
     },
     "execution_count": 56,
     "metadata": {},
     "output_type": "execute_result"
    }
   ],
   "source": [
    "real(nlQ_ch2.χ[23,:])"
   ]
  },
  {
   "cell_type": "code",
   "execution_count": 40,
   "metadata": {},
   "outputs": [
    {
     "data": {
      "image/svg+xml": [
       "<?xml version=\"1.0\" encoding=\"utf-8\"?>\n",
       "<svg xmlns=\"http://www.w3.org/2000/svg\" xmlns:xlink=\"http://www.w3.org/1999/xlink\" width=\"600\" height=\"400\" viewBox=\"0 0 2400 1600\">\n",
       "<defs>\n",
       "  <clipPath id=\"clip950\">\n",
       "    <rect x=\"0\" y=\"0\" width=\"2400\" height=\"1600\"/>\n",
       "  </clipPath>\n",
       "</defs>\n",
       "<path clip-path=\"url(#clip950)\" d=\"\n",
       "M0 1600 L2400 1600 L2400 0 L0 0  Z\n",
       "  \" fill=\"#ffffff\" fill-rule=\"evenodd\" fill-opacity=\"1\"/>\n",
       "<defs>\n",
       "  <clipPath id=\"clip951\">\n",
       "    <rect x=\"480\" y=\"0\" width=\"1681\" height=\"1600\"/>\n",
       "  </clipPath>\n",
       "</defs>\n",
       "<path clip-path=\"url(#clip950)\" d=\"\n",
       "M110.881 1486.45 L2352.76 1486.45 L2352.76 47.2441 L110.881 47.2441  Z\n",
       "  \" fill=\"#ffffff\" fill-rule=\"evenodd\" fill-opacity=\"1\"/>\n",
       "<defs>\n",
       "  <clipPath id=\"clip952\">\n",
       "    <rect x=\"110\" y=\"47\" width=\"2243\" height=\"1440\"/>\n",
       "  </clipPath>\n",
       "</defs>\n",
       "<polyline clip-path=\"url(#clip952)\" style=\"stroke:#000000; stroke-width:2; stroke-opacity:0.1; fill:none\" points=\"\n",
       "  337.021,1486.45 337.021,47.2441 \n",
       "  \"/>\n",
       "<polyline clip-path=\"url(#clip952)\" style=\"stroke:#000000; stroke-width:2; stroke-opacity:0.1; fill:none\" points=\"\n",
       "  743.747,1486.45 743.747,47.2441 \n",
       "  \"/>\n",
       "<polyline clip-path=\"url(#clip952)\" style=\"stroke:#000000; stroke-width:2; stroke-opacity:0.1; fill:none\" points=\"\n",
       "  1150.47,1486.45 1150.47,47.2441 \n",
       "  \"/>\n",
       "<polyline clip-path=\"url(#clip952)\" style=\"stroke:#000000; stroke-width:2; stroke-opacity:0.1; fill:none\" points=\"\n",
       "  1557.2,1486.45 1557.2,47.2441 \n",
       "  \"/>\n",
       "<polyline clip-path=\"url(#clip952)\" style=\"stroke:#000000; stroke-width:2; stroke-opacity:0.1; fill:none\" points=\"\n",
       "  1963.93,1486.45 1963.93,47.2441 \n",
       "  \"/>\n",
       "<polyline clip-path=\"url(#clip950)\" style=\"stroke:#000000; stroke-width:4; stroke-opacity:1; fill:none\" points=\"\n",
       "  110.881,1486.45 2352.76,1486.45 \n",
       "  \"/>\n",
       "<polyline clip-path=\"url(#clip950)\" style=\"stroke:#000000; stroke-width:4; stroke-opacity:1; fill:none\" points=\"\n",
       "  337.021,1486.45 337.021,1469.18 \n",
       "  \"/>\n",
       "<polyline clip-path=\"url(#clip950)\" style=\"stroke:#000000; stroke-width:4; stroke-opacity:1; fill:none\" points=\"\n",
       "  743.747,1486.45 743.747,1469.18 \n",
       "  \"/>\n",
       "<polyline clip-path=\"url(#clip950)\" style=\"stroke:#000000; stroke-width:4; stroke-opacity:1; fill:none\" points=\"\n",
       "  1150.47,1486.45 1150.47,1469.18 \n",
       "  \"/>\n",
       "<polyline clip-path=\"url(#clip950)\" style=\"stroke:#000000; stroke-width:4; stroke-opacity:1; fill:none\" points=\"\n",
       "  1557.2,1486.45 1557.2,1469.18 \n",
       "  \"/>\n",
       "<polyline clip-path=\"url(#clip950)\" style=\"stroke:#000000; stroke-width:4; stroke-opacity:1; fill:none\" points=\"\n",
       "  1963.93,1486.45 1963.93,1469.18 \n",
       "  \"/>\n",
       "<path clip-path=\"url(#clip950)\" d=\"M 0 0 M311.708 1543.18 L319.347 1543.18 L319.347 1516.82 L311.037 1518.49 L311.037 1514.23 L319.301 1512.56 L323.977 1512.56 L323.977 1543.18 L331.616 1543.18 L331.616 1547.12 L311.708 1547.12 L311.708 1543.18 Z\" fill=\"#000000\" fill-rule=\"evenodd\" fill-opacity=\"1\" /><path clip-path=\"url(#clip950)\" d=\"M 0 0 M351.06 1515.64 Q347.449 1515.64 345.62 1519.2 Q343.815 1522.75 343.815 1529.87 Q343.815 1536.98 345.62 1540.55 Q347.449 1544.09 351.06 1544.09 Q354.694 1544.09 356.5 1540.55 Q358.328 1536.98 358.328 1529.87 Q358.328 1522.75 356.5 1519.2 Q354.694 1515.64 351.06 1515.64 M351.06 1511.93 Q356.87 1511.93 359.926 1516.54 Q363.004 1521.12 363.004 1529.87 Q363.004 1538.6 359.926 1543.21 Q356.87 1547.79 351.06 1547.79 Q345.25 1547.79 342.171 1543.21 Q339.116 1538.6 339.116 1529.87 Q339.116 1521.12 342.171 1516.54 Q345.25 1511.93 351.06 1511.93 Z\" fill=\"#000000\" fill-rule=\"evenodd\" fill-opacity=\"1\" /><path clip-path=\"url(#clip950)\" d=\"M 0 0 M718.932 1543.18 L726.571 1543.18 L726.571 1516.82 L718.261 1518.49 L718.261 1514.23 L726.525 1512.56 L731.201 1512.56 L731.201 1543.18 L738.84 1543.18 L738.84 1547.12 L718.932 1547.12 L718.932 1543.18 Z\" fill=\"#000000\" fill-rule=\"evenodd\" fill-opacity=\"1\" /><path clip-path=\"url(#clip950)\" d=\"M 0 0 M748.33 1512.56 L766.687 1512.56 L766.687 1516.5 L752.613 1516.5 L752.613 1524.97 Q753.631 1524.62 754.65 1524.46 Q755.668 1524.27 756.687 1524.27 Q762.474 1524.27 765.853 1527.44 Q769.233 1530.62 769.233 1536.03 Q769.233 1541.61 765.761 1544.71 Q762.288 1547.79 755.969 1547.79 Q753.793 1547.79 751.525 1547.42 Q749.279 1547.05 746.872 1546.31 L746.872 1541.61 Q748.955 1542.74 751.177 1543.3 Q753.4 1543.86 755.876 1543.86 Q759.881 1543.86 762.219 1541.75 Q764.557 1539.64 764.557 1536.03 Q764.557 1532.42 762.219 1530.31 Q759.881 1528.21 755.876 1528.21 Q754.001 1528.21 752.126 1528.62 Q750.275 1529.04 748.33 1529.92 L748.33 1512.56 Z\" fill=\"#000000\" fill-rule=\"evenodd\" fill-opacity=\"1\" /><path clip-path=\"url(#clip950)\" d=\"M 0 0 M1129.25 1543.18 L1145.57 1543.18 L1145.57 1547.12 L1123.62 1547.12 L1123.62 1543.18 Q1126.28 1540.43 1130.87 1535.8 Q1135.47 1531.15 1136.65 1529.81 Q1138.9 1527.28 1139.78 1525.55 Q1140.68 1523.79 1140.68 1522.1 Q1140.68 1519.34 1138.74 1517.61 Q1136.82 1515.87 1133.71 1515.87 Q1131.51 1515.87 1129.06 1516.63 Q1126.63 1517.4 1123.85 1518.95 L1123.85 1514.23 Q1126.68 1513.09 1129.13 1512.51 Q1131.58 1511.93 1133.62 1511.93 Q1138.99 1511.93 1142.19 1514.62 Q1145.38 1517.31 1145.38 1521.8 Q1145.38 1523.93 1144.57 1525.85 Q1143.78 1527.74 1141.68 1530.34 Q1141.1 1531.01 1138 1534.23 Q1134.89 1537.42 1129.25 1543.18 Z\" fill=\"#000000\" fill-rule=\"evenodd\" fill-opacity=\"1\" /><path clip-path=\"url(#clip950)\" d=\"M 0 0 M1165.38 1515.64 Q1161.77 1515.64 1159.94 1519.2 Q1158.14 1522.75 1158.14 1529.87 Q1158.14 1536.98 1159.94 1540.55 Q1161.77 1544.09 1165.38 1544.09 Q1169.01 1544.09 1170.82 1540.55 Q1172.65 1536.98 1172.65 1529.87 Q1172.65 1522.75 1170.82 1519.2 Q1169.01 1515.64 1165.38 1515.64 M1165.38 1511.93 Q1171.19 1511.93 1174.25 1516.54 Q1177.32 1521.12 1177.32 1529.87 Q1177.32 1538.6 1174.25 1543.21 Q1171.19 1547.79 1165.38 1547.79 Q1159.57 1547.79 1156.49 1543.21 Q1153.44 1538.6 1153.44 1529.87 Q1153.44 1521.12 1156.49 1516.54 Q1159.57 1511.93 1165.38 1511.93 Z\" fill=\"#000000\" fill-rule=\"evenodd\" fill-opacity=\"1\" /><path clip-path=\"url(#clip950)\" d=\"M 0 0 M1536.47 1543.18 L1552.79 1543.18 L1552.79 1547.12 L1530.85 1547.12 L1530.85 1543.18 Q1533.51 1540.43 1538.09 1535.8 Q1542.7 1531.15 1543.88 1529.81 Q1546.12 1527.28 1547 1525.55 Q1547.91 1523.79 1547.91 1522.1 Q1547.91 1519.34 1545.96 1517.61 Q1544.04 1515.87 1540.94 1515.87 Q1538.74 1515.87 1536.29 1516.63 Q1533.85 1517.4 1531.08 1518.95 L1531.08 1514.23 Q1533.9 1513.09 1536.35 1512.51 Q1538.81 1511.93 1540.85 1511.93 Q1546.22 1511.93 1549.41 1514.62 Q1552.6 1517.31 1552.6 1521.8 Q1552.6 1523.93 1551.79 1525.85 Q1551.01 1527.74 1548.9 1530.34 Q1548.32 1531.01 1545.22 1534.23 Q1542.12 1537.42 1536.47 1543.18 Z\" fill=\"#000000\" fill-rule=\"evenodd\" fill-opacity=\"1\" /><path clip-path=\"url(#clip950)\" d=\"M 0 0 M1562.65 1512.56 L1581.01 1512.56 L1581.01 1516.5 L1566.93 1516.5 L1566.93 1524.97 Q1567.95 1524.62 1568.97 1524.46 Q1569.99 1524.27 1571.01 1524.27 Q1576.79 1524.27 1580.17 1527.44 Q1583.55 1530.62 1583.55 1536.03 Q1583.55 1541.61 1580.08 1544.71 Q1576.61 1547.79 1570.29 1547.79 Q1568.11 1547.79 1565.85 1547.42 Q1563.6 1547.05 1561.19 1546.31 L1561.19 1541.61 Q1563.28 1542.74 1565.5 1543.3 Q1567.72 1543.86 1570.2 1543.86 Q1574.2 1543.86 1576.54 1541.75 Q1578.88 1539.64 1578.88 1536.03 Q1578.88 1532.42 1576.54 1530.31 Q1574.2 1528.21 1570.2 1528.21 Q1568.32 1528.21 1566.45 1528.62 Q1564.6 1529.04 1562.65 1529.92 L1562.65 1512.56 Z\" fill=\"#000000\" fill-rule=\"evenodd\" fill-opacity=\"1\" /><path clip-path=\"url(#clip950)\" d=\"M 0 0 M1952.77 1528.49 Q1956.12 1529.2 1958 1531.47 Q1959.9 1533.74 1959.9 1537.07 Q1959.9 1542.19 1956.38 1544.99 Q1952.86 1547.79 1946.38 1547.79 Q1944.2 1547.79 1941.89 1547.35 Q1939.6 1546.93 1937.14 1546.08 L1937.14 1541.56 Q1939.09 1542.7 1941.4 1543.28 Q1943.72 1543.86 1946.24 1543.86 Q1950.64 1543.86 1952.93 1542.12 Q1955.25 1540.38 1955.25 1537.07 Q1955.25 1534.02 1953.09 1532.31 Q1950.96 1530.57 1947.14 1530.57 L1943.12 1530.57 L1943.12 1526.73 L1947.33 1526.73 Q1950.78 1526.73 1952.61 1525.36 Q1954.43 1523.97 1954.43 1521.38 Q1954.43 1518.72 1952.54 1517.31 Q1950.66 1515.87 1947.14 1515.87 Q1945.22 1515.87 1943.02 1516.29 Q1940.82 1516.7 1938.19 1517.58 L1938.19 1513.42 Q1940.85 1512.68 1943.16 1512.31 Q1945.5 1511.93 1947.56 1511.93 Q1952.88 1511.93 1955.99 1514.37 Q1959.09 1516.77 1959.09 1520.89 Q1959.09 1523.76 1957.44 1525.75 Q1955.8 1527.72 1952.77 1528.49 Z\" fill=\"#000000\" fill-rule=\"evenodd\" fill-opacity=\"1\" /><path clip-path=\"url(#clip950)\" d=\"M 0 0 M1978.76 1515.64 Q1975.15 1515.64 1973.32 1519.2 Q1971.52 1522.75 1971.52 1529.87 Q1971.52 1536.98 1973.32 1540.55 Q1975.15 1544.09 1978.76 1544.09 Q1982.4 1544.09 1984.2 1540.55 Q1986.03 1536.98 1986.03 1529.87 Q1986.03 1522.75 1984.2 1519.2 Q1982.4 1515.64 1978.76 1515.64 M1978.76 1511.93 Q1984.57 1511.93 1987.63 1516.54 Q1990.71 1521.12 1990.71 1529.87 Q1990.71 1538.6 1987.63 1543.21 Q1984.57 1547.79 1978.76 1547.79 Q1972.95 1547.79 1969.87 1543.21 Q1966.82 1538.6 1966.82 1529.87 Q1966.82 1521.12 1969.87 1516.54 Q1972.95 1511.93 1978.76 1511.93 Z\" fill=\"#000000\" fill-rule=\"evenodd\" fill-opacity=\"1\" /><polyline clip-path=\"url(#clip952)\" style=\"stroke:#000000; stroke-width:2; stroke-opacity:0.1; fill:none\" points=\"\n",
       "  110.881,1450.43 2352.76,1450.43 \n",
       "  \"/>\n",
       "<polyline clip-path=\"url(#clip952)\" style=\"stroke:#000000; stroke-width:2; stroke-opacity:0.1; fill:none\" points=\"\n",
       "  110.881,989.719 2352.76,989.719 \n",
       "  \"/>\n",
       "<polyline clip-path=\"url(#clip952)\" style=\"stroke:#000000; stroke-width:2; stroke-opacity:0.1; fill:none\" points=\"\n",
       "  110.881,529.006 2352.76,529.006 \n",
       "  \"/>\n",
       "<polyline clip-path=\"url(#clip952)\" style=\"stroke:#000000; stroke-width:2; stroke-opacity:0.1; fill:none\" points=\"\n",
       "  110.881,68.2921 2352.76,68.2921 \n",
       "  \"/>\n",
       "<polyline clip-path=\"url(#clip950)\" style=\"stroke:#000000; stroke-width:4; stroke-opacity:1; fill:none\" points=\"\n",
       "  110.881,1486.45 110.881,47.2441 \n",
       "  \"/>\n",
       "<polyline clip-path=\"url(#clip950)\" style=\"stroke:#000000; stroke-width:4; stroke-opacity:1; fill:none\" points=\"\n",
       "  110.881,1450.43 137.783,1450.43 \n",
       "  \"/>\n",
       "<polyline clip-path=\"url(#clip950)\" style=\"stroke:#000000; stroke-width:4; stroke-opacity:1; fill:none\" points=\"\n",
       "  110.881,989.719 137.783,989.719 \n",
       "  \"/>\n",
       "<polyline clip-path=\"url(#clip950)\" style=\"stroke:#000000; stroke-width:4; stroke-opacity:1; fill:none\" points=\"\n",
       "  110.881,529.006 137.783,529.006 \n",
       "  \"/>\n",
       "<polyline clip-path=\"url(#clip950)\" style=\"stroke:#000000; stroke-width:4; stroke-opacity:1; fill:none\" points=\"\n",
       "  110.881,68.2921 137.783,68.2921 \n",
       "  \"/>\n",
       "<path clip-path=\"url(#clip950)\" d=\"M 0 0 M62.9365 1436.23 Q59.3254 1436.23 57.4967 1439.8 Q55.6912 1443.34 55.6912 1450.47 Q55.6912 1457.57 57.4967 1461.14 Q59.3254 1464.68 62.9365 1464.68 Q66.5707 1464.68 68.3763 1461.14 Q70.205 1457.57 70.205 1450.47 Q70.205 1443.34 68.3763 1439.8 Q66.5707 1436.23 62.9365 1436.23 M62.9365 1432.53 Q68.7467 1432.53 71.8022 1437.13 Q74.8809 1441.72 74.8809 1450.47 Q74.8809 1459.19 71.8022 1463.8 Q68.7467 1468.38 62.9365 1468.38 Q57.1264 1468.38 54.0477 1463.8 Q50.9921 1459.19 50.9921 1450.47 Q50.9921 1441.72 54.0477 1437.13 Q57.1264 1432.53 62.9365 1432.53 Z\" fill=\"#000000\" fill-rule=\"evenodd\" fill-opacity=\"1\" /><path clip-path=\"url(#clip950)\" d=\"M 0 0 M54.9736 1003.06 L62.6124 1003.06 L62.6124 976.699 L54.3023 978.365 L54.3023 974.106 L62.5661 972.439 L67.242 972.439 L67.242 1003.06 L74.8809 1003.06 L74.8809 1007 L54.9736 1007 L54.9736 1003.06 Z\" fill=\"#000000\" fill-rule=\"evenodd\" fill-opacity=\"1\" /><path clip-path=\"url(#clip950)\" d=\"M 0 0 M58.5615 542.351 L74.8809 542.351 L74.8809 546.286 L52.9366 546.286 L52.9366 542.351 Q55.5986 539.596 60.1819 534.966 Q64.7883 530.314 65.9689 528.971 Q68.2143 526.448 69.0939 524.712 Q69.9967 522.953 69.9967 521.263 Q69.9967 518.508 68.0522 516.772 Q66.1309 515.036 63.0291 515.036 Q60.83 515.036 58.3763 515.8 Q55.9458 516.564 53.168 518.115 L53.168 513.392 Q55.9921 512.258 58.4458 511.679 Q60.8995 511.101 62.9365 511.101 Q68.3068 511.101 71.5013 513.786 Q74.6957 516.471 74.6957 520.962 Q74.6957 523.091 73.8855 525.013 Q73.0985 526.911 70.992 529.503 Q70.4133 530.175 67.3115 533.392 Q64.2096 536.587 58.5615 542.351 Z\" fill=\"#000000\" fill-rule=\"evenodd\" fill-opacity=\"1\" /><path clip-path=\"url(#clip950)\" d=\"M 0 0 M67.7513 66.938 Q71.1078 67.6556 72.9827 69.9241 Q74.8809 72.1926 74.8809 75.5259 Q74.8809 80.6416 71.3624 83.4425 Q67.8439 86.2434 61.3624 86.2434 Q59.1865 86.2434 56.8717 85.8036 Q54.5801 85.387 52.1264 84.5305 L52.1264 80.0166 Q54.0708 81.1509 56.3856 81.7296 Q58.7004 82.3083 61.2236 82.3083 Q65.6217 82.3083 67.9133 80.5722 Q70.2281 78.8361 70.2281 75.5259 Q70.2281 72.4704 68.0754 70.7574 Q65.9457 69.0213 62.1263 69.0213 L58.0986 69.0213 L58.0986 65.1787 L62.3115 65.1787 Q65.7606 65.1787 67.5893 63.813 Q69.418 62.4241 69.418 59.8315 Q69.418 57.1695 67.5198 55.7575 Q65.6448 54.3223 62.1263 54.3223 Q60.205 54.3223 58.006 54.739 Q55.8069 55.1556 53.168 56.0353 L53.168 51.8686 Q55.8301 51.1279 58.1449 50.7575 Q60.4828 50.3872 62.543 50.3872 Q67.867 50.3872 70.9689 52.8177 Q74.0707 55.2251 74.0707 59.3454 Q74.0707 62.2158 72.4272 64.2065 Q70.7837 66.1741 67.7513 66.938 Z\" fill=\"#000000\" fill-rule=\"evenodd\" fill-opacity=\"1\" /><polyline clip-path=\"url(#clip952)\" style=\"stroke:#009af9; stroke-width:4; stroke-opacity:1; fill:none\" points=\"\n",
       "  825.092,1445.72 906.437,1436.76 987.783,1419.94 1069.13,1382.57 1150.47,1270.67 1231.82,546.19 1313.16,1270.67 1394.51,1382.57 1475.85,1419.94 1557.2,1436.76 \n",
       "  1638.54,1445.72 \n",
       "  \"/>\n",
       "<polyline clip-path=\"url(#clip952)\" style=\"stroke:#e26f46; stroke-width:4; stroke-opacity:1; fill:none\" points=\"\n",
       "  174.33,1444.65 255.675,1443.41 337.021,1442.09 418.366,1440.17 499.711,1437.95 581.056,1434.55 662.402,1430.45 743.747,1423.56 825.092,1415.01 906.437,1397.88 \n",
       "  987.783,1376.82 1069.13,1313.77 1150.47,1235.6 1231.82,87.9763 1313.16,1235.6 1394.51,1313.77 1475.85,1376.82 1557.2,1397.88 1638.54,1415.01 1719.89,1423.56 \n",
       "  1801.24,1430.45 1882.58,1434.55 1963.93,1437.95 2045.27,1440.17 2126.62,1442.09 2207.96,1443.41 2289.31,1444.65 \n",
       "  \"/>\n",
       "<path clip-path=\"url(#clip950)\" d=\"\n",
       "M1976.5 276.658 L2278.03 276.658 L2278.03 95.2176 L1976.5 95.2176  Z\n",
       "  \" fill=\"#ffffff\" fill-rule=\"evenodd\" fill-opacity=\"1\"/>\n",
       "<polyline clip-path=\"url(#clip950)\" style=\"stroke:#000000; stroke-width:4; stroke-opacity:1; fill:none\" points=\"\n",
       "  1976.5,276.658 2278.03,276.658 2278.03,95.2176 1976.5,95.2176 1976.5,276.658 \n",
       "  \"/>\n",
       "<polyline clip-path=\"url(#clip950)\" style=\"stroke:#009af9; stroke-width:4; stroke-opacity:1; fill:none\" points=\"\n",
       "  2001.41,155.698 2150.87,155.698 \n",
       "  \"/>\n",
       "<path clip-path=\"url(#clip950)\" d=\"M 0 0 M2189.62 175.385 Q2187.81 180.015 2186.1 181.427 Q2184.39 182.839 2181.52 182.839 L2178.11 182.839 L2178.11 179.274 L2180.61 179.274 Q2182.37 179.274 2183.35 178.44 Q2184.32 177.607 2185.5 174.505 L2186.26 172.561 L2175.78 147.052 L2180.29 147.052 L2188.39 167.329 L2196.49 147.052 L2201.01 147.052 L2189.62 175.385 Z\" fill=\"#000000\" fill-rule=\"evenodd\" fill-opacity=\"1\" /><path clip-path=\"url(#clip950)\" d=\"M 0 0 M2208.3 169.042 L2215.94 169.042 L2215.94 142.677 L2207.63 144.343 L2207.63 140.084 L2215.89 138.418 L2220.57 138.418 L2220.57 169.042 L2228.21 169.042 L2228.21 172.978 L2208.3 172.978 L2208.3 169.042 Z\" fill=\"#000000\" fill-rule=\"evenodd\" fill-opacity=\"1\" /><polyline clip-path=\"url(#clip950)\" style=\"stroke:#e26f46; stroke-width:4; stroke-opacity:1; fill:none\" points=\"\n",
       "  2001.41,216.178 2150.87,216.178 \n",
       "  \"/>\n",
       "<path clip-path=\"url(#clip950)\" d=\"M 0 0 M2189.62 235.865 Q2187.81 240.495 2186.1 241.907 Q2184.39 243.319 2181.52 243.319 L2178.11 243.319 L2178.11 239.754 L2180.61 239.754 Q2182.37 239.754 2183.35 238.92 Q2184.32 238.087 2185.5 234.985 L2186.26 233.041 L2175.78 207.532 L2180.29 207.532 L2188.39 227.809 L2196.49 207.532 L2201.01 207.532 L2189.62 235.865 Z\" fill=\"#000000\" fill-rule=\"evenodd\" fill-opacity=\"1\" /><path clip-path=\"url(#clip950)\" d=\"M 0 0 M2211.52 229.522 L2227.84 229.522 L2227.84 233.458 L2205.89 233.458 L2205.89 229.522 Q2208.55 226.768 2213.14 222.138 Q2217.74 217.485 2218.92 216.143 Q2221.17 213.62 2222.05 211.884 Q2222.95 210.124 2222.95 208.435 Q2222.95 205.68 2221.01 203.944 Q2219.09 202.208 2215.99 202.208 Q2213.79 202.208 2211.33 202.972 Q2208.9 203.735 2206.12 205.286 L2206.12 200.564 Q2208.95 199.43 2211.4 198.851 Q2213.86 198.273 2215.89 198.273 Q2221.26 198.273 2224.46 200.958 Q2227.65 203.643 2227.65 208.134 Q2227.65 210.263 2226.84 212.185 Q2226.05 214.083 2223.95 216.675 Q2223.37 217.347 2220.27 220.564 Q2217.17 223.759 2211.52 229.522 Z\" fill=\"#000000\" fill-rule=\"evenodd\" fill-opacity=\"1\" /></svg>\n"
      ]
     },
     "execution_count": 40,
     "metadata": {},
     "output_type": "execute_result"
    }
   ],
   "source": [
    "plot(nlQ_sp.usable_ω, real(χsp_ω[nlQ_sp.usable_ω]))\n",
    "plot!(nlQ_sp2.usable_ω, real(χsp_ω_2[nlQ_sp2.usable_ω]))"
   ]
  },
  {
   "cell_type": "code",
   "execution_count": null,
   "metadata": {},
   "outputs": [],
   "source": []
  },
  {
   "cell_type": "code",
   "execution_count": 29,
   "metadata": {
    "scrolled": true
   },
   "outputs": [
    {
     "name": "stdout",
     "output_type": "stream",
     "text": [
      "\u001b[36m\u001b[1m┌ \u001b[22m\u001b[39m\u001b[36m\u001b[1mInfo: \u001b[22m\u001b[39mComputing λsp corrected χsp, using \n",
      "\u001b[36m\u001b[1m│ \u001b[22m\u001b[39m  sP.χFillType = lambda_χ_fill::ChiFillType = 1\n",
      "\u001b[36m\u001b[1m└ \u001b[22m\u001b[39m   as fill value outside usable ω range. = \" as fill value outside usable ω range.\"\n",
      "\u001b[33m\u001b[1m[ \u001b[22m\u001b[39m\u001b[33m\u001b[1mWarning: \u001b[22m\u001b[39mcurrently using min(usable_sp, usable_ch) = min(16:26,16:26) = 16:26 for all calculations. relax this?\n",
      "\u001b[36m\u001b[1m┌ \u001b[22m\u001b[39m\u001b[36m\u001b[1mInfo: \u001b[22m\u001b[39mFound usable intervals for non-local susceptibility of length \n",
      "\u001b[36m\u001b[1m│ \u001b[22m\u001b[39msp: 16:26, length: 11\n",
      "\u001b[36m\u001b[1m│ \u001b[22m\u001b[39mch: 16:26, length: 11\n",
      "\u001b[36m\u001b[1m│ \u001b[22m\u001b[39musable: 16:26, length: 11\n",
      "\u001b[36m\u001b[1m└ \u001b[22m\u001b[39mχch sum = 0.09156755883093241, rhs = 0.2708218428967729\n",
      "\u001b[36m\u001b[1m┌ \u001b[22m\u001b[39m\u001b[36m\u001b[1mInfo: \u001b[22m\u001b[39mfound \n",
      "\u001b[36m\u001b[1m│ \u001b[22m\u001b[39m  χ_min = -0.09234595363892281\n",
      "\u001b[36m\u001b[1m└ \u001b[22m\u001b[39m  \". Looking for roots in intervall $(int)\" = \". Looking for roots in intervall [-0.09234595363892281, 1.8469190727784563]\"\n",
      "\u001b[36m\u001b[1m┌ \u001b[22m\u001b[39m\u001b[36m\u001b[1mInfo: \u001b[22m\u001b[39mMethod 2 root:\n",
      "\u001b[36m\u001b[1m│ \u001b[22m\u001b[39m  r2 =\n",
      "\u001b[36m\u001b[1m│ \u001b[22m\u001b[39m   1-element Vector{Float64}:\n",
      "\u001b[36m\u001b[1m└ \u001b[22m\u001b[39m    0.027052600629195987\n",
      "\u001b[36m\u001b[1m┌ \u001b[22m\u001b[39m\u001b[36m\u001b[1mInfo: \u001b[22m\u001b[39mFound λsp \n",
      "\u001b[36m\u001b[1m└ \u001b[22m\u001b[39m  λsp_old = 0.02705260062919599\n",
      "\u001b[36m\u001b[1m[ \u001b[22m\u001b[39m\u001b[36m\u001b[1mInfo: \u001b[22m\u001b[39mnew lambda correction: λsp=0.0 and λch=0.0\n"
     ]
    },
    {
     "data": {
      "text/plain": [
       "(0.02705260062919599, [0.0, 0.0], [-0.09234595363892281, 1.8469190727784563], [-Inf, Inf])"
      ]
     },
     "execution_count": 29,
     "metadata": {},
     "output_type": "execute_result"
    }
   ],
   "source": [
    "λ_sp, λ_spch  = λ_correction!(impQ_sp, impQ_ch, FUpDo, Σ_loc, Σ_ladderLoc, nlQ_sp, nlQ_ch, bubble, GLoc_fft, qG, νGrid, mP, sP)"
   ]
  },
  {
   "cell_type": "code",
   "execution_count": 30,
   "metadata": {},
   "outputs": [
    {
     "name": "stdout",
     "output_type": "stream",
     "text": [
      "\u001b[36m\u001b[1m┌ \u001b[22m\u001b[39m\u001b[36m\u001b[1mInfo: \u001b[22m\u001b[39mComputing λsp corrected χsp, using \n",
      "\u001b[36m\u001b[1m│ \u001b[22m\u001b[39m  sP.χFillType = lambda_χ_fill::ChiFillType = 1\n",
      "\u001b[36m\u001b[1m└ \u001b[22m\u001b[39m   as fill value outside usable ω range. = \" as fill value outside usable ω range.\"\n",
      "\u001b[33m\u001b[1m[ \u001b[22m\u001b[39m\u001b[33m\u001b[1mWarning: \u001b[22m\u001b[39mcurrently using min(usable_sp, usable_ch) = min(8:34,20:22) = 20:22 for all calculations. relax this?\n",
      "\u001b[36m\u001b[1m┌ \u001b[22m\u001b[39m\u001b[36m\u001b[1mInfo: \u001b[22m\u001b[39mFound usable intervals for non-local susceptibility of length \n",
      "\u001b[36m\u001b[1m│ \u001b[22m\u001b[39msp: 8:34, length: 27\n",
      "\u001b[36m\u001b[1m│ \u001b[22m\u001b[39mch: 20:22, length: 3\n",
      "\u001b[36m\u001b[1m│ \u001b[22m\u001b[39musable: 20:22, length: 3\n",
      "\u001b[36m\u001b[1m└ \u001b[22m\u001b[39mχch sum = 0.09812683406118317, rhs = 0.40187316593881683\n",
      "\u001b[36m\u001b[1m┌ \u001b[22m\u001b[39m\u001b[36m\u001b[1mInfo: \u001b[22m\u001b[39mfound \n",
      "\u001b[36m\u001b[1m│ \u001b[22m\u001b[39m  χ_min = -0.08685623337297707\n",
      "\u001b[36m\u001b[1m└ \u001b[22m\u001b[39m  \". Looking for roots in intervall $(int)\" = \". Looking for roots in intervall [-0.08685623337297707, 1.7371246674595415]\"\n",
      "\u001b[36m\u001b[1m┌ \u001b[22m\u001b[39m\u001b[36m\u001b[1mInfo: \u001b[22m\u001b[39mMethod 2 root:\n",
      "\u001b[36m\u001b[1m└ \u001b[22m\u001b[39m  r2 = Float64[]\n",
      "\u001b[36m\u001b[1m┌ \u001b[22m\u001b[39m\u001b[36m\u001b[1mInfo: \u001b[22m\u001b[39mFound λsp \n",
      "\u001b[36m\u001b[1m└ \u001b[22m\u001b[39m  λsp_old = -0.0778628112070026\n",
      "\u001b[36m\u001b[1m[ \u001b[22m\u001b[39m\u001b[36m\u001b[1mInfo: \u001b[22m\u001b[39mnew lambda correction: λsp=0.0 and λch=0.0\n"
     ]
    },
    {
     "data": {
      "text/plain": [
       "(-0.0778628112070026, [0.0, 0.0], [-0.08685623337297707, 1.7371246674595415], [-Inf, Inf])"
      ]
     },
     "execution_count": 30,
     "metadata": {},
     "output_type": "execute_result"
    }
   ],
   "source": [
    "λ_sp2, λ_spch2  = λ_correction!(impQ_sp2, impQ_ch2, FUpDo2, Σ_loc2, Σ_ladderLoc, nlQ_sp2, nlQ_ch2, bubble2, GLoc_fft2, qG, νGrid, mP2, sP2)"
   ]
  },
  {
   "cell_type": "code",
   "execution_count": 31,
   "metadata": {},
   "outputs": [
    {
     "name": "stdout",
     "output_type": "stream",
     "text": [
      "usable range: 16:26 vs 20:22\n",
      "χupup_nc=0.18119470086385267 - 3.6045744458787965e-10im\n",
      "χupup_rc=0.24999999999999986 + 6.795440166709241e-10im\n",
      "lambda Float64[] vs [0.05930897564105357]\n"
     ]
    }
   ],
   "source": [
    "using Roots\n",
    "\n",
    "get_sum_helper = LadderDGA.get_sum_helper\n",
    "kintegrate = LadderDGA.kintegrate\n",
    "sum_freq = LadderDGA.sum_freq\n",
    "χ_λ(χ::AbstractArray, λ::Union{Float64}) = map(χi -> 1.0 / ((1.0 / χi) + λ), χ)\n",
    "kGrid = qG\n",
    "β = mP.β\n",
    "\n",
    "\n",
    "sh = get_sum_helper(nlQ_ch.usable_ω, sP, :b)\n",
    "χch_ω = kintegrate(kGrid, nlQ_ch.χ, dim=2)[:,1]\n",
    "χch_sum = real(sum_freq(χch_ω[nlQ_ch.usable_ω], [1], sh, mP.β)[1])\n",
    "rhs1 = mP.n * (1 - mP.n/2) - χch_sum\n",
    "rhs2 = real(impQ_ch.χ_loc + impQ_sp.χ_loc - χch_sum)\n",
    "usable_ω = intersect(nlQ_sp.usable_ω, nlQ_ch.usable_ω)\n",
    "sh = get_sum_helper(usable_ω, sP, :b)\n",
    "χupup_sum = sum_freq(kintegrate(kGrid, 0.5 .* (nlQ_ch.χ[usable_ω,:] .+ nlQ_sp.χ[usable_ω,:]), dim=2)[:,1], [1], sh, mP.β)[1]\n",
    "\n",
    "\n",
    "sh_2 = get_sum_helper(nlQ_ch2.usable_ω, sP2, :b)\n",
    "χch_ω_2 = kintegrate(kGrid, nlQ_ch2.χ, dim=2)[:,1]\n",
    "χch_sum_2 = real(sum_freq(χch_ω_2[nlQ_ch2.usable_ω], [1], sh_2, mP2.β)[1])\n",
    "rhs1_2 = mP.n * (1 - mP.n/2) - χch_sum_2\n",
    "rhs2_2 = real(impQ_ch2.χ_loc + impQ_sp2.χ_loc - χch_sum_2)\n",
    "usable_ω_2 = intersect(nlQ_sp2.usable_ω, nlQ_ch2.usable_ω)\n",
    "sh_2 = get_sum_helper(usable_ω_2, sP2, :b)\n",
    "χupup_sum_2 = sum_freq(kintegrate(kGrid, 0.5 .* (nlQ_ch2.χ[usable_ω_2,:] .+ nlQ_sp2.χ[usable_ω_2,:]), dim=2)[:,1], [1], sh_2, mP2.β)[1]\n",
    "\n",
    "println(\"usable range: $usable_ω vs $usable_ω_2\\nχupup_nc=$χupup_sum\\nχupup_rc=$χupup_sum_2\")\n",
    "\n",
    "χ_in = nlQ_sp.χ\n",
    "usable_ω_i = nlQ_sp.usable_ω\n",
    "χr    = real.(χ_in[usable_ω_i,:])\n",
    "sh = get_sum_helper(usable_ω_i, sP, :b)\n",
    "f(λint) = sum_freq(kintegrate(kGrid, χ_λ(χr, λint), dim=2)[:,1], [1], sh, β)[1] - rhs2\n",
    "df(λint) = sum_freq(kintegrate(kGrid, -χ_λ(χr, λint) .^ 2, dim=2)[:,1], [1], sh, β)[1]\n",
    "r2 = find_zeros(f, 0.02, 20.0, verbose=true)\n",
    "\n",
    "χ_in = nlQ_sp2.χ\n",
    "usable_ω_i = nlQ_sp2.usable_ω\n",
    "χr    = real.(χ_in[usable_ω_i,:])\n",
    "sh = get_sum_helper(usable_ω_i, sP2, :b)\n",
    "f(λint) = sum_freq(kintegrate(kGrid, χ_λ(χr, λint), dim=2)[:,1], [1], sh, β)[1] - rhs1\n",
    "df(λint) = sum_freq(kintegrate(kGrid, -χ_λ(χr, λint) .^ 2, dim=2)[:,1], [1], sh, β)[1]\n",
    "r22 = find_zeros(f, 0.02, 20.0, verbose=true)\n",
    "\n",
    "println(\"lambda $r2 vs $r22\")"
   ]
  },
  {
   "cell_type": "code",
   "execution_count": 32,
   "metadata": {},
   "outputs": [
    {
     "data": {
      "image/svg+xml": [
       "<?xml version=\"1.0\" encoding=\"utf-8\"?>\n",
       "<svg xmlns=\"http://www.w3.org/2000/svg\" xmlns:xlink=\"http://www.w3.org/1999/xlink\" width=\"600\" height=\"400\" viewBox=\"0 0 2400 1600\">\n",
       "<defs>\n",
       "  <clipPath id=\"clip790\">\n",
       "    <rect x=\"0\" y=\"0\" width=\"2400\" height=\"1600\"/>\n",
       "  </clipPath>\n",
       "</defs>\n",
       "<path clip-path=\"url(#clip790)\" d=\"\n",
       "M0 1600 L2400 1600 L2400 0 L0 0  Z\n",
       "  \" fill=\"#ffffff\" fill-rule=\"evenodd\" fill-opacity=\"1\"/>\n",
       "<defs>\n",
       "  <clipPath id=\"clip791\">\n",
       "    <rect x=\"480\" y=\"0\" width=\"1681\" height=\"1600\"/>\n",
       "  </clipPath>\n",
       "</defs>\n",
       "<path clip-path=\"url(#clip790)\" d=\"\n",
       "M156.112 1486.45 L2352.76 1486.45 L2352.76 47.2441 L156.112 47.2441  Z\n",
       "  \" fill=\"#ffffff\" fill-rule=\"evenodd\" fill-opacity=\"1\"/>\n",
       "<defs>\n",
       "  <clipPath id=\"clip792\">\n",
       "    <rect x=\"156\" y=\"47\" width=\"2198\" height=\"1440\"/>\n",
       "  </clipPath>\n",
       "</defs>\n",
       "<polyline clip-path=\"url(#clip792)\" style=\"stroke:#000000; stroke-width:2; stroke-opacity:0.1; fill:none\" points=\"\n",
       "  529.127,1486.45 529.127,47.2441 \n",
       "  \"/>\n",
       "<polyline clip-path=\"url(#clip792)\" style=\"stroke:#000000; stroke-width:2; stroke-opacity:0.1; fill:none\" points=\"\n",
       "  1047.2,1486.45 1047.2,47.2441 \n",
       "  \"/>\n",
       "<polyline clip-path=\"url(#clip792)\" style=\"stroke:#000000; stroke-width:2; stroke-opacity:0.1; fill:none\" points=\"\n",
       "  1565.28,1486.45 1565.28,47.2441 \n",
       "  \"/>\n",
       "<polyline clip-path=\"url(#clip792)\" style=\"stroke:#000000; stroke-width:2; stroke-opacity:0.1; fill:none\" points=\"\n",
       "  2083.36,1486.45 2083.36,47.2441 \n",
       "  \"/>\n",
       "<polyline clip-path=\"url(#clip790)\" style=\"stroke:#000000; stroke-width:4; stroke-opacity:1; fill:none\" points=\"\n",
       "  156.112,1486.45 2352.76,1486.45 \n",
       "  \"/>\n",
       "<polyline clip-path=\"url(#clip790)\" style=\"stroke:#000000; stroke-width:4; stroke-opacity:1; fill:none\" points=\"\n",
       "  529.127,1486.45 529.127,1469.18 \n",
       "  \"/>\n",
       "<polyline clip-path=\"url(#clip790)\" style=\"stroke:#000000; stroke-width:4; stroke-opacity:1; fill:none\" points=\"\n",
       "  1047.2,1486.45 1047.2,1469.18 \n",
       "  \"/>\n",
       "<polyline clip-path=\"url(#clip790)\" style=\"stroke:#000000; stroke-width:4; stroke-opacity:1; fill:none\" points=\"\n",
       "  1565.28,1486.45 1565.28,1469.18 \n",
       "  \"/>\n",
       "<polyline clip-path=\"url(#clip790)\" style=\"stroke:#000000; stroke-width:4; stroke-opacity:1; fill:none\" points=\"\n",
       "  2083.36,1486.45 2083.36,1469.18 \n",
       "  \"/>\n",
       "<path clip-path=\"url(#clip790)\" d=\"M 0 0 M481.697 1543.18 L489.336 1543.18 L489.336 1516.82 L481.026 1518.49 L481.026 1514.23 L489.289 1512.56 L493.965 1512.56 L493.965 1543.18 L501.604 1543.18 L501.604 1547.12 L481.697 1547.12 L481.697 1543.18 Z\" fill=\"#000000\" fill-rule=\"evenodd\" fill-opacity=\"1\" /><path clip-path=\"url(#clip790)\" d=\"M 0 0 M509.868 1512.56 L532.09 1512.56 L532.09 1514.55 L519.544 1547.12 L514.66 1547.12 L526.465 1516.5 L509.868 1516.5 L509.868 1512.56 Z\" fill=\"#000000\" fill-rule=\"evenodd\" fill-opacity=\"1\" /><path clip-path=\"url(#clip790)\" d=\"M 0 0 M541.21 1541.24 L546.095 1541.24 L546.095 1547.12 L541.21 1547.12 L541.21 1541.24 Z\" fill=\"#000000\" fill-rule=\"evenodd\" fill-opacity=\"1\" /><path clip-path=\"url(#clip790)\" d=\"M 0 0 M556.326 1512.56 L574.682 1512.56 L574.682 1516.5 L560.608 1516.5 L560.608 1524.97 Q561.627 1524.62 562.645 1524.46 Q563.664 1524.27 564.682 1524.27 Q570.469 1524.27 573.849 1527.44 Q577.229 1530.62 577.229 1536.03 Q577.229 1541.61 573.756 1544.71 Q570.284 1547.79 563.965 1547.79 Q561.789 1547.79 559.52 1547.42 Q557.275 1547.05 554.868 1546.31 L554.868 1541.61 Q556.951 1542.74 559.173 1543.3 Q561.395 1543.86 563.872 1543.86 Q567.877 1543.86 570.215 1541.75 Q572.553 1539.64 572.553 1536.03 Q572.553 1532.42 570.215 1530.31 Q567.877 1528.21 563.872 1528.21 Q561.997 1528.21 560.122 1528.62 Q558.27 1529.04 556.326 1529.92 L556.326 1512.56 Z\" fill=\"#000000\" fill-rule=\"evenodd\" fill-opacity=\"1\" /><path clip-path=\"url(#clip790)\" d=\"M 0 0 M1003.36 1543.18 L1019.68 1543.18 L1019.68 1547.12 L997.736 1547.12 L997.736 1543.18 Q1000.4 1540.43 1004.98 1535.8 Q1009.59 1531.15 1010.77 1529.81 Q1013.01 1527.28 1013.89 1525.55 Q1014.8 1523.79 1014.8 1522.1 Q1014.8 1519.34 1012.85 1517.61 Q1010.93 1515.87 1007.83 1515.87 Q1005.63 1515.87 1003.18 1516.63 Q1000.75 1517.4 997.968 1518.95 L997.968 1514.23 Q1000.79 1513.09 1003.25 1512.51 Q1005.7 1511.93 1007.74 1511.93 Q1013.11 1511.93 1016.3 1514.62 Q1019.5 1517.31 1019.5 1521.8 Q1019.5 1523.93 1018.69 1525.85 Q1017.9 1527.74 1015.79 1530.34 Q1015.21 1531.01 1012.11 1534.23 Q1009.01 1537.42 1003.36 1543.18 Z\" fill=\"#000000\" fill-rule=\"evenodd\" fill-opacity=\"1\" /><path clip-path=\"url(#clip790)\" d=\"M 0 0 M1039.5 1515.64 Q1035.88 1515.64 1034.06 1519.2 Q1032.25 1522.75 1032.25 1529.87 Q1032.25 1536.98 1034.06 1540.55 Q1035.88 1544.09 1039.5 1544.09 Q1043.13 1544.09 1044.93 1540.55 Q1046.76 1536.98 1046.76 1529.87 Q1046.76 1522.75 1044.93 1519.2 Q1043.13 1515.64 1039.5 1515.64 M1039.5 1511.93 Q1045.31 1511.93 1048.36 1516.54 Q1051.44 1521.12 1051.44 1529.87 Q1051.44 1538.6 1048.36 1543.21 Q1045.31 1547.79 1039.5 1547.79 Q1033.69 1547.79 1030.61 1543.21 Q1027.55 1538.6 1027.55 1529.87 Q1027.55 1521.12 1030.61 1516.54 Q1033.69 1511.93 1039.5 1511.93 Z\" fill=\"#000000\" fill-rule=\"evenodd\" fill-opacity=\"1\" /><path clip-path=\"url(#clip790)\" d=\"M 0 0 M1059.66 1541.24 L1064.54 1541.24 L1064.54 1547.12 L1059.66 1547.12 L1059.66 1541.24 Z\" fill=\"#000000\" fill-rule=\"evenodd\" fill-opacity=\"1\" /><path clip-path=\"url(#clip790)\" d=\"M 0 0 M1084.73 1515.64 Q1081.12 1515.64 1079.29 1519.2 Q1077.48 1522.75 1077.48 1529.87 Q1077.48 1536.98 1079.29 1540.55 Q1081.12 1544.09 1084.73 1544.09 Q1088.36 1544.09 1090.17 1540.55 Q1091.99 1536.98 1091.99 1529.87 Q1091.99 1522.75 1090.17 1519.2 Q1088.36 1515.64 1084.73 1515.64 M1084.73 1511.93 Q1090.54 1511.93 1093.59 1516.54 Q1096.67 1521.12 1096.67 1529.87 Q1096.67 1538.6 1093.59 1543.21 Q1090.54 1547.79 1084.73 1547.79 Q1078.92 1547.79 1075.84 1543.21 Q1072.78 1538.6 1072.78 1529.87 Q1072.78 1521.12 1075.84 1516.54 Q1078.92 1511.93 1084.73 1511.93 Z\" fill=\"#000000\" fill-rule=\"evenodd\" fill-opacity=\"1\" /><path clip-path=\"url(#clip790)\" d=\"M 0 0 M1521.94 1543.18 L1538.25 1543.18 L1538.25 1547.12 L1516.31 1547.12 L1516.31 1543.18 Q1518.97 1540.43 1523.56 1535.8 Q1528.16 1531.15 1529.34 1529.81 Q1531.59 1527.28 1532.47 1525.55 Q1533.37 1523.79 1533.37 1522.1 Q1533.37 1519.34 1531.43 1517.61 Q1529.5 1515.87 1526.4 1515.87 Q1524.2 1515.87 1521.75 1516.63 Q1519.32 1517.4 1516.54 1518.95 L1516.54 1514.23 Q1519.37 1513.09 1521.82 1512.51 Q1524.27 1511.93 1526.31 1511.93 Q1531.68 1511.93 1534.87 1514.62 Q1538.07 1517.31 1538.07 1521.8 Q1538.07 1523.93 1537.26 1525.85 Q1536.47 1527.74 1534.37 1530.34 Q1533.79 1531.01 1530.69 1534.23 Q1527.58 1537.42 1521.94 1543.18 Z\" fill=\"#000000\" fill-rule=\"evenodd\" fill-opacity=\"1\" /><path clip-path=\"url(#clip790)\" d=\"M 0 0 M1552.1 1543.18 L1568.42 1543.18 L1568.42 1547.12 L1546.47 1547.12 L1546.47 1543.18 Q1549.13 1540.43 1553.72 1535.8 Q1558.32 1531.15 1559.5 1529.81 Q1561.75 1527.28 1562.63 1525.55 Q1563.53 1523.79 1563.53 1522.1 Q1563.53 1519.34 1561.59 1517.61 Q1559.67 1515.87 1556.56 1515.87 Q1554.37 1515.87 1551.91 1516.63 Q1549.48 1517.4 1546.7 1518.95 L1546.7 1514.23 Q1549.53 1513.09 1551.98 1512.51 Q1554.43 1511.93 1556.47 1511.93 Q1561.84 1511.93 1565.04 1514.62 Q1568.23 1517.31 1568.23 1521.8 Q1568.23 1523.93 1567.42 1525.85 Q1566.63 1527.74 1564.53 1530.34 Q1563.95 1531.01 1560.85 1534.23 Q1557.75 1537.42 1552.1 1543.18 Z\" fill=\"#000000\" fill-rule=\"evenodd\" fill-opacity=\"1\" /><path clip-path=\"url(#clip790)\" d=\"M 0 0 M1578.23 1541.24 L1583.12 1541.24 L1583.12 1547.12 L1578.23 1547.12 L1578.23 1541.24 Z\" fill=\"#000000\" fill-rule=\"evenodd\" fill-opacity=\"1\" /><path clip-path=\"url(#clip790)\" d=\"M 0 0 M1593.35 1512.56 L1611.7 1512.56 L1611.7 1516.5 L1597.63 1516.5 L1597.63 1524.97 Q1598.65 1524.62 1599.67 1524.46 Q1600.68 1524.27 1601.7 1524.27 Q1607.49 1524.27 1610.87 1527.44 Q1614.25 1530.62 1614.25 1536.03 Q1614.25 1541.61 1610.78 1544.71 Q1607.31 1547.79 1600.99 1547.79 Q1598.81 1547.79 1596.54 1547.42 Q1594.3 1547.05 1591.89 1546.31 L1591.89 1541.61 Q1593.97 1542.74 1596.19 1543.3 Q1598.42 1543.86 1600.89 1543.86 Q1604.9 1543.86 1607.24 1541.75 Q1609.57 1539.64 1609.57 1536.03 Q1609.57 1532.42 1607.24 1530.31 Q1604.9 1528.21 1600.89 1528.21 Q1599.02 1528.21 1597.14 1528.62 Q1595.29 1529.04 1593.35 1529.92 L1593.35 1512.56 Z\" fill=\"#000000\" fill-rule=\"evenodd\" fill-opacity=\"1\" /><path clip-path=\"url(#clip790)\" d=\"M 0 0 M2039.51 1543.18 L2055.83 1543.18 L2055.83 1547.12 L2033.89 1547.12 L2033.89 1543.18 Q2036.55 1540.43 2041.13 1535.8 Q2045.74 1531.15 2046.92 1529.81 Q2049.17 1527.28 2050.05 1525.55 Q2050.95 1523.79 2050.95 1522.1 Q2050.95 1519.34 2049 1517.61 Q2047.08 1515.87 2043.98 1515.87 Q2041.78 1515.87 2039.33 1516.63 Q2036.9 1517.4 2034.12 1518.95 L2034.12 1514.23 Q2036.94 1513.09 2039.4 1512.51 Q2041.85 1511.93 2043.89 1511.93 Q2049.26 1511.93 2052.45 1514.62 Q2055.65 1517.31 2055.65 1521.8 Q2055.65 1523.93 2054.84 1525.85 Q2054.05 1527.74 2051.94 1530.34 Q2051.37 1531.01 2048.26 1534.23 Q2045.16 1537.42 2039.51 1543.18 Z\" fill=\"#000000\" fill-rule=\"evenodd\" fill-opacity=\"1\" /><path clip-path=\"url(#clip790)\" d=\"M 0 0 M2065.69 1512.56 L2084.05 1512.56 L2084.05 1516.5 L2069.98 1516.5 L2069.98 1524.97 Q2071 1524.62 2072.01 1524.46 Q2073.03 1524.27 2074.05 1524.27 Q2079.84 1524.27 2083.22 1527.44 Q2086.6 1530.62 2086.6 1536.03 Q2086.6 1541.61 2083.12 1544.71 Q2079.65 1547.79 2073.33 1547.79 Q2071.16 1547.79 2068.89 1547.42 Q2066.64 1547.05 2064.24 1546.31 L2064.24 1541.61 Q2066.32 1542.74 2068.54 1543.3 Q2070.76 1543.86 2073.24 1543.86 Q2077.25 1543.86 2079.58 1541.75 Q2081.92 1539.64 2081.92 1536.03 Q2081.92 1532.42 2079.58 1530.31 Q2077.25 1528.21 2073.24 1528.21 Q2071.37 1528.21 2069.49 1528.62 Q2067.64 1529.04 2065.69 1529.92 L2065.69 1512.56 Z\" fill=\"#000000\" fill-rule=\"evenodd\" fill-opacity=\"1\" /><path clip-path=\"url(#clip790)\" d=\"M 0 0 M2095.81 1541.24 L2100.69 1541.24 L2100.69 1547.12 L2095.81 1547.12 L2095.81 1541.24 Z\" fill=\"#000000\" fill-rule=\"evenodd\" fill-opacity=\"1\" /><path clip-path=\"url(#clip790)\" d=\"M 0 0 M2120.88 1515.64 Q2117.27 1515.64 2115.44 1519.2 Q2113.63 1522.75 2113.63 1529.87 Q2113.63 1536.98 2115.44 1540.55 Q2117.27 1544.09 2120.88 1544.09 Q2124.51 1544.09 2126.32 1540.55 Q2128.15 1536.98 2128.15 1529.87 Q2128.15 1522.75 2126.32 1519.2 Q2124.51 1515.64 2120.88 1515.64 M2120.88 1511.93 Q2126.69 1511.93 2129.74 1516.54 Q2132.82 1521.12 2132.82 1529.87 Q2132.82 1538.6 2129.74 1543.21 Q2126.69 1547.79 2120.88 1547.79 Q2115.07 1547.79 2111.99 1543.21 Q2108.93 1538.6 2108.93 1529.87 Q2108.93 1521.12 2111.99 1516.54 Q2115.07 1511.93 2120.88 1511.93 Z\" fill=\"#000000\" fill-rule=\"evenodd\" fill-opacity=\"1\" /><polyline clip-path=\"url(#clip792)\" style=\"stroke:#000000; stroke-width:2; stroke-opacity:0.1; fill:none\" points=\"\n",
       "  156.112,1482.44 2352.76,1482.44 \n",
       "  \"/>\n",
       "<polyline clip-path=\"url(#clip792)\" style=\"stroke:#000000; stroke-width:2; stroke-opacity:0.1; fill:none\" points=\"\n",
       "  156.112,1073.93 2352.76,1073.93 \n",
       "  \"/>\n",
       "<polyline clip-path=\"url(#clip792)\" style=\"stroke:#000000; stroke-width:2; stroke-opacity:0.1; fill:none\" points=\"\n",
       "  156.112,665.43 2352.76,665.43 \n",
       "  \"/>\n",
       "<polyline clip-path=\"url(#clip792)\" style=\"stroke:#000000; stroke-width:2; stroke-opacity:0.1; fill:none\" points=\"\n",
       "  156.112,256.926 2352.76,256.926 \n",
       "  \"/>\n",
       "<polyline clip-path=\"url(#clip790)\" style=\"stroke:#000000; stroke-width:4; stroke-opacity:1; fill:none\" points=\"\n",
       "  156.112,1486.45 156.112,47.2441 \n",
       "  \"/>\n",
       "<polyline clip-path=\"url(#clip790)\" style=\"stroke:#000000; stroke-width:4; stroke-opacity:1; fill:none\" points=\"\n",
       "  156.112,1482.44 182.472,1482.44 \n",
       "  \"/>\n",
       "<polyline clip-path=\"url(#clip790)\" style=\"stroke:#000000; stroke-width:4; stroke-opacity:1; fill:none\" points=\"\n",
       "  156.112,1073.93 182.472,1073.93 \n",
       "  \"/>\n",
       "<polyline clip-path=\"url(#clip790)\" style=\"stroke:#000000; stroke-width:4; stroke-opacity:1; fill:none\" points=\"\n",
       "  156.112,665.43 182.472,665.43 \n",
       "  \"/>\n",
       "<polyline clip-path=\"url(#clip790)\" style=\"stroke:#000000; stroke-width:4; stroke-opacity:1; fill:none\" points=\"\n",
       "  156.112,256.926 182.472,256.926 \n",
       "  \"/>\n",
       "<path clip-path=\"url(#clip790)\" d=\"M 0 0 M62.9365 1468.24 Q59.3254 1468.24 57.4967 1471.8 Q55.6912 1475.34 55.6912 1482.47 Q55.6912 1489.58 57.4967 1493.14 Q59.3254 1496.68 62.9365 1496.68 Q66.5707 1496.68 68.3763 1493.14 Q70.205 1489.58 70.205 1482.47 Q70.205 1475.34 68.3763 1471.8 Q66.5707 1468.24 62.9365 1468.24 M62.9365 1464.53 Q68.7467 1464.53 71.8022 1469.14 Q74.8809 1473.72 74.8809 1482.47 Q74.8809 1491.2 71.8022 1495.81 Q68.7467 1500.39 62.9365 1500.39 Q57.1264 1500.39 54.0477 1495.81 Q50.9921 1491.2 50.9921 1482.47 Q50.9921 1473.72 54.0477 1469.14 Q57.1264 1464.53 62.9365 1464.53 Z\" fill=\"#000000\" fill-rule=\"evenodd\" fill-opacity=\"1\" /><path clip-path=\"url(#clip790)\" d=\"M 0 0 M83.0984 1493.84 L87.9827 1493.84 L87.9827 1499.72 L83.0984 1499.72 L83.0984 1493.84 Z\" fill=\"#000000\" fill-rule=\"evenodd\" fill-opacity=\"1\" /><path clip-path=\"url(#clip790)\" d=\"M 0 0 M108.168 1468.24 Q104.557 1468.24 102.728 1471.8 Q100.922 1475.34 100.922 1482.47 Q100.922 1489.58 102.728 1493.14 Q104.557 1496.68 108.168 1496.68 Q111.802 1496.68 113.608 1493.14 Q115.436 1489.58 115.436 1482.47 Q115.436 1475.34 113.608 1471.8 Q111.802 1468.24 108.168 1468.24 M108.168 1464.53 Q113.978 1464.53 117.033 1469.14 Q120.112 1473.72 120.112 1482.47 Q120.112 1491.2 117.033 1495.81 Q113.978 1500.39 108.168 1500.39 Q102.358 1500.39 99.2789 1495.81 Q96.2234 1491.2 96.2234 1482.47 Q96.2234 1473.72 99.2789 1469.14 Q102.358 1464.53 108.168 1464.53 Z\" fill=\"#000000\" fill-rule=\"evenodd\" fill-opacity=\"1\" /><path clip-path=\"url(#clip790)\" d=\"M 0 0 M64.1634 1059.73 Q60.5523 1059.73 58.7236 1063.3 Q56.918 1066.84 56.918 1073.97 Q56.918 1081.07 58.7236 1084.64 Q60.5523 1088.18 64.1634 1088.18 Q67.7976 1088.18 69.6031 1084.64 Q71.4318 1081.07 71.4318 1073.97 Q71.4318 1066.84 69.6031 1063.3 Q67.7976 1059.73 64.1634 1059.73 M64.1634 1056.03 Q69.9735 1056.03 73.029 1060.64 Q76.1077 1065.22 76.1077 1073.97 Q76.1077 1082.7 73.029 1087.3 Q69.9735 1091.88 64.1634 1091.88 Q58.3532 1091.88 55.2745 1087.3 Q52.219 1082.7 52.219 1073.97 Q52.219 1065.22 55.2745 1060.64 Q58.3532 1056.03 64.1634 1056.03 Z\" fill=\"#000000\" fill-rule=\"evenodd\" fill-opacity=\"1\" /><path clip-path=\"url(#clip790)\" d=\"M 0 0 M84.3253 1085.33 L89.2095 1085.33 L89.2095 1091.21 L84.3253 1091.21 L84.3253 1085.33 Z\" fill=\"#000000\" fill-rule=\"evenodd\" fill-opacity=\"1\" /><path clip-path=\"url(#clip790)\" d=\"M 0 0 M100.205 1087.28 L107.844 1087.28 L107.844 1060.91 L99.5335 1062.58 L99.5335 1058.32 L107.797 1056.65 L112.473 1056.65 L112.473 1087.28 L120.112 1087.28 L120.112 1091.21 L100.205 1091.21 L100.205 1087.28 Z\" fill=\"#000000\" fill-rule=\"evenodd\" fill-opacity=\"1\" /><path clip-path=\"url(#clip790)\" d=\"M 0 0 M64.5337 651.229 Q60.9226 651.229 59.0939 654.794 Q57.2884 658.335 57.2884 665.465 Q57.2884 672.571 59.0939 676.136 Q60.9226 679.678 64.5337 679.678 Q68.168 679.678 69.9735 676.136 Q71.8022 672.571 71.8022 665.465 Q71.8022 658.335 69.9735 654.794 Q68.168 651.229 64.5337 651.229 M64.5337 647.525 Q70.3439 647.525 73.3994 652.132 Q76.4781 656.715 76.4781 665.465 Q76.4781 674.192 73.3994 678.798 Q70.3439 683.381 64.5337 683.381 Q58.7236 683.381 55.6449 678.798 Q52.5893 674.192 52.5893 665.465 Q52.5893 656.715 55.6449 652.132 Q58.7236 647.525 64.5337 647.525 Z\" fill=\"#000000\" fill-rule=\"evenodd\" fill-opacity=\"1\" /><path clip-path=\"url(#clip790)\" d=\"M 0 0 M84.6956 676.83 L89.5799 676.83 L89.5799 682.71 L84.6956 682.71 L84.6956 676.83 Z\" fill=\"#000000\" fill-rule=\"evenodd\" fill-opacity=\"1\" /><path clip-path=\"url(#clip790)\" d=\"M 0 0 M103.793 678.775 L120.112 678.775 L120.112 682.71 L98.1678 682.71 L98.1678 678.775 Q100.83 676.02 105.413 671.391 Q110.02 666.738 111.2 665.395 Q113.445 662.872 114.325 661.136 Q115.228 659.377 115.228 657.687 Q115.228 654.932 113.283 653.196 Q111.362 651.46 108.26 651.46 Q106.061 651.46 103.608 652.224 Q101.177 652.988 98.3993 654.539 L98.3993 649.817 Q101.223 648.682 103.677 648.104 Q106.131 647.525 108.168 647.525 Q113.538 647.525 116.733 650.21 Q119.927 652.895 119.927 657.386 Q119.927 659.516 119.117 661.437 Q118.33 663.335 116.223 665.928 Q115.645 666.599 112.543 669.817 Q109.441 673.011 103.793 678.775 Z\" fill=\"#000000\" fill-rule=\"evenodd\" fill-opacity=\"1\" /><path clip-path=\"url(#clip790)\" d=\"M 0 0 M63.5847 242.725 Q59.9736 242.725 58.1449 246.29 Q56.3393 249.832 56.3393 256.961 Q56.3393 264.068 58.1449 267.632 Q59.9736 271.174 63.5847 271.174 Q67.2189 271.174 69.0244 267.632 Q70.8531 264.068 70.8531 256.961 Q70.8531 249.832 69.0244 246.29 Q67.2189 242.725 63.5847 242.725 M63.5847 239.021 Q69.3948 239.021 72.4503 243.628 Q75.529 248.211 75.529 256.961 Q75.529 265.688 72.4503 270.294 Q69.3948 274.878 63.5847 274.878 Q57.7745 274.878 54.6958 270.294 Q51.6403 265.688 51.6403 256.961 Q51.6403 248.211 54.6958 243.628 Q57.7745 239.021 63.5847 239.021 Z\" fill=\"#000000\" fill-rule=\"evenodd\" fill-opacity=\"1\" /><path clip-path=\"url(#clip790)\" d=\"M 0 0 M83.7466 268.327 L88.6308 268.327 L88.6308 274.206 L83.7466 274.206 L83.7466 268.327 Z\" fill=\"#000000\" fill-rule=\"evenodd\" fill-opacity=\"1\" /><path clip-path=\"url(#clip790)\" d=\"M 0 0 M112.983 255.572 Q116.339 256.29 118.214 258.558 Q120.112 260.827 120.112 264.16 Q120.112 269.276 116.594 272.077 Q113.075 274.878 106.594 274.878 Q104.418 274.878 102.103 274.438 Q99.8113 274.021 97.3576 273.165 L97.3576 268.651 Q99.3021 269.785 101.617 270.364 Q103.932 270.943 106.455 270.943 Q110.853 270.943 113.145 269.207 Q115.459 267.47 115.459 264.16 Q115.459 261.105 113.307 259.392 Q111.177 257.656 107.358 257.656 L103.33 257.656 L103.33 253.813 L107.543 253.813 Q110.992 253.813 112.82 252.447 Q114.649 251.058 114.649 248.466 Q114.649 245.804 112.751 244.392 Q110.876 242.957 107.358 242.957 Q105.436 242.957 103.237 243.373 Q101.038 243.79 98.3993 244.67 L98.3993 240.503 Q101.061 239.762 103.376 239.392 Q105.714 239.021 107.774 239.021 Q113.098 239.021 116.2 241.452 Q119.302 243.859 119.302 247.98 Q119.302 250.85 117.658 252.841 Q116.015 254.808 112.983 255.572 Z\" fill=\"#000000\" fill-rule=\"evenodd\" fill-opacity=\"1\" /><polyline clip-path=\"url(#clip792)\" style=\"stroke:#009af9; stroke-width:4; stroke-opacity:1; fill:none\" points=\"\n",
       "  218.281,1445.72 425.512,1376.25 632.742,1261.53 839.973,1060.84 1047.2,700.645 1254.43,128.158 1461.66,700.645 1668.9,1060.84 1876.13,1261.53 2083.36,1376.25 \n",
       "  2290.59,1445.72 \n",
       "  \"/>\n",
       "<polyline clip-path=\"url(#clip792)\" style=\"stroke:#e26f46; stroke-width:4; stroke-opacity:1; fill:none\" points=\"\n",
       "  1047.2,628.498 1254.43,87.9763 1461.66,628.498 \n",
       "  \"/>\n",
       "<path clip-path=\"url(#clip790)\" d=\"\n",
       "M1983.03 276.658 L2279.53 276.658 L2279.53 95.2176 L1983.03 95.2176  Z\n",
       "  \" fill=\"#ffffff\" fill-rule=\"evenodd\" fill-opacity=\"1\"/>\n",
       "<polyline clip-path=\"url(#clip790)\" style=\"stroke:#000000; stroke-width:4; stroke-opacity:1; fill:none\" points=\"\n",
       "  1983.03,276.658 2279.53,276.658 2279.53,95.2176 1983.03,95.2176 1983.03,276.658 \n",
       "  \"/>\n",
       "<polyline clip-path=\"url(#clip790)\" style=\"stroke:#009af9; stroke-width:4; stroke-opacity:1; fill:none\" points=\"\n",
       "  2007.44,155.698 2153.88,155.698 \n",
       "  \"/>\n",
       "<path clip-path=\"url(#clip790)\" d=\"M 0 0 M2192.13 175.385 Q2190.33 180.015 2188.61 181.427 Q2186.9 182.839 2184.03 182.839 L2180.63 182.839 L2180.63 179.274 L2183.13 179.274 Q2184.89 179.274 2185.86 178.44 Q2186.83 177.607 2188.01 174.505 L2188.78 172.561 L2178.29 147.052 L2182.8 147.052 L2190.91 167.329 L2199.01 147.052 L2203.52 147.052 L2192.13 175.385 Z\" fill=\"#000000\" fill-rule=\"evenodd\" fill-opacity=\"1\" /><path clip-path=\"url(#clip790)\" d=\"M 0 0 M2210.81 169.042 L2218.45 169.042 L2218.45 142.677 L2210.14 144.343 L2210.14 140.084 L2218.41 138.418 L2223.08 138.418 L2223.08 169.042 L2230.72 169.042 L2230.72 172.978 L2210.81 172.978 L2210.81 169.042 Z\" fill=\"#000000\" fill-rule=\"evenodd\" fill-opacity=\"1\" /><polyline clip-path=\"url(#clip790)\" style=\"stroke:#e26f46; stroke-width:4; stroke-opacity:1; fill:none\" points=\"\n",
       "  2007.44,216.178 2153.88,216.178 \n",
       "  \"/>\n",
       "<path clip-path=\"url(#clip790)\" d=\"M 0 0 M2192.13 235.865 Q2190.33 240.495 2188.61 241.907 Q2186.9 243.319 2184.03 243.319 L2180.63 243.319 L2180.63 239.754 L2183.13 239.754 Q2184.89 239.754 2185.86 238.92 Q2186.83 238.087 2188.01 234.985 L2188.78 233.041 L2178.29 207.532 L2182.8 207.532 L2190.91 227.809 L2199.01 207.532 L2203.52 207.532 L2192.13 235.865 Z\" fill=\"#000000\" fill-rule=\"evenodd\" fill-opacity=\"1\" /><path clip-path=\"url(#clip790)\" d=\"M 0 0 M2214.03 229.522 L2230.35 229.522 L2230.35 233.458 L2208.41 233.458 L2208.41 229.522 Q2211.07 226.768 2215.65 222.138 Q2220.26 217.485 2221.44 216.143 Q2223.68 213.62 2224.56 211.884 Q2225.47 210.124 2225.47 208.435 Q2225.47 205.68 2223.52 203.944 Q2221.6 202.208 2218.5 202.208 Q2216.3 202.208 2213.85 202.972 Q2211.41 203.735 2208.64 205.286 L2208.64 200.564 Q2211.46 199.43 2213.91 198.851 Q2216.37 198.273 2218.41 198.273 Q2223.78 198.273 2226.97 200.958 Q2230.16 203.643 2230.16 208.134 Q2230.16 210.263 2229.35 212.185 Q2228.57 214.083 2226.46 216.675 Q2225.88 217.347 2222.78 220.564 Q2219.68 223.759 2214.03 229.522 Z\" fill=\"#000000\" fill-rule=\"evenodd\" fill-opacity=\"1\" /></svg>\n"
      ]
     },
     "execution_count": 32,
     "metadata": {},
     "output_type": "execute_result"
    }
   ],
   "source": [
    "plot(usable_ω, real(χch_ω[usable_ω]))\n",
    "plot!(usable_ω_2, real(χch_ω_2[usable_ω_2]))"
   ]
  },
  {
   "cell_type": "code",
   "execution_count": 33,
   "metadata": {},
   "outputs": [
    {
     "data": {
      "text/plain": [
       "3"
      ]
     },
     "execution_count": 33,
     "metadata": {},
     "output_type": "execute_result"
    }
   ],
   "source": [
    "length(usable_ω_2)"
   ]
  },
  {
   "cell_type": "code",
   "execution_count": 34,
   "metadata": {},
   "outputs": [
    {
     "ename": "LoadError",
     "evalue": "UndefVarError: nlQ not defined",
     "output_type": "error",
     "traceback": [
      "UndefVarError: nlQ not defined",
      "",
      "Stacktrace:",
      " [1] top-level scope",
      "   @ In[34]:1",
      " [2] eval",
      "   @ ./boot.jl:360 [inlined]",
      " [3] include_string(mapexpr::typeof(REPL.softscope), mod::Module, code::String, filename::String)",
      "   @ Base ./loading.jl:1094"
     ]
    }
   ],
   "source": [
    "χupup_1 = nlQ"
   ]
  },
  {
   "cell_type": "code",
   "execution_count": 35,
   "metadata": {},
   "outputs": [
    {
     "data": {
      "text/plain": [
       "(41, 56, 40)"
      ]
     },
     "execution_count": 35,
     "metadata": {},
     "output_type": "execute_result"
    }
   ],
   "source": [
    "size(bubble)"
   ]
  },
  {
   "cell_type": "code",
   "execution_count": null,
   "metadata": {},
   "outputs": [],
   "source": []
  }
 ],
 "metadata": {
  "kernelspec": {
   "display_name": "Julia 1.6.0",
   "language": "julia",
   "name": "julia-1.6"
  },
  "language_info": {
   "file_extension": ".jl",
   "mimetype": "application/julia",
   "name": "julia",
   "version": "1.6.0"
  }
 },
 "nbformat": 4,
 "nbformat_minor": 4
}
