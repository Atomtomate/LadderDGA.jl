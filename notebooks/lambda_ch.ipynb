{
 "cells": [
  {
   "cell_type": "code",
   "execution_count": 157,
   "metadata": {},
   "outputs": [],
   "source": [
    "using HDF5\n",
    "using Plots\n",
    "using LadderDGA\n",
    "using Suppressor\n",
    "\n",
    "path_to_input = \"/home/julian/Hamburg/lDGA_shift_tests/data/20_20_s0_b12_u1.0\"\n",
    "path_to_output = \"$(@__DIR__)/../../lDGA_test_runs\"\n",
    "cfg_file = \"$(@__DIR__)/../../lDGA_test_runs/config.toml\"\n",
    "cfg_file2 = \"$(@__DIR__)/../../lDGA_test_runs/config2.toml\"\n",
    "\n",
    "empty!(ARGS);\n",
    "#push!(ARGS,path_to_input);\n",
    "#push!(ARGS,path_to_output);\n",
    "#include(\"../scripts/triqs_conv.jl\");"
   ]
  },
  {
   "cell_type": "markdown",
   "metadata": {},
   "source": [
    "Loading impurity quantities and constructing k grids.\n",
    "removing the @supress block activates debugging output."
   ]
  },
  {
   "cell_type": "code",
   "execution_count": 158,
   "metadata": {},
   "outputs": [
    {
     "name": "stderr",
     "output_type": "stream",
     "text": [
      "┌ Info: Reading Inputs...\n",
      "└ @ LadderDGA /home/julian/Hamburg/LadderDGA.jl/src/IO.jl:7\n",
      "┌ Warning: TODO: check beta consistency, config <-> g0man, chi_dir <-> gamma dir\n",
      "└ @ LadderDGA /home/julian/Hamburg/LadderDGA.jl/src/helpers.jl:107\n",
      "┌ Info: Inputs Read. Starting Computation.\n",
      "│ Found usable intervals for local susceptibility of length \n",
      "│   sp: 11\n",
      "│   ch: 11 \n",
      "│   χLoc_sp = 0.2696, χLoc_ch = 0.0932\n",
      "└ @ LadderDGA /home/julian/Hamburg/LadderDGA.jl/src/helpers.jl:148\n",
      "┌ Info: Reading Inputs...\n",
      "└ @ LadderDGA /home/julian/Hamburg/LadderDGA.jl/src/IO.jl:7\n",
      "┌ Warning: TODO: check beta consistency, config <-> g0man, chi_dir <-> gamma dir\n",
      "└ @ LadderDGA /home/julian/Hamburg/LadderDGA.jl/src/helpers.jl:107\n",
      "┌ Info: Inputs Read. Starting Computation.\n",
      "│ Found usable intervals for local susceptibility of length \n",
      "│   sp: 27\n",
      "│   ch: 27 \n",
      "│   χLoc_sp = 0.3231, χLoc_ch = 0.0808\n",
      "└ @ LadderDGA /home/julian/Hamburg/LadderDGA.jl/src/helpers.jl:148\n"
     ]
    }
   ],
   "source": [
    "mP, sP, env, kGrids, qGrids, qGridLoc, freqRed_map, freqList, freqList_min, parents, ops, nFermi, nBose, shift, base, offset = readConfig(cfg_file)\n",
    "kG = kGrids[1]\n",
    "qG = qGrids[1]\n",
    "νGrid, sumHelper_f, impQ_sp, impQ_ch, GImp_fft, GLoc_fft, Σ_loc, FUpDo, gImp, gLoc = setup_LDGA(kG, freqList, mP, sP, env);\n",
    "\n",
    "mP2, sP2, env2, kGrids, qGrids, qGridLoc, freqRed_map, freqList, freqList_min, parents, ops, nFermi, nBose, shift, base, offset = readConfig(cfg_file2)\n",
    "νGrid2, sumHelper_f2, impQ_sp2, impQ_ch2, GImp_fft2, GLoc_fft2, Σ_loc2, FUpDo2, gImp2, gLoc2 = setup_LDGA(kG, freqList, mP2, sP2, env2);"
   ]
  },
  {
   "cell_type": "markdown",
   "metadata": {},
   "source": [
    "# Lambda charge solutions investigation"
   ]
  },
  {
   "cell_type": "code",
   "execution_count": 159,
   "metadata": {},
   "outputs": [],
   "source": [
    "# \"local\" correction quantities\n",
    "bubbleLoc = calc_bubble(νGrid, GImp_fft, qGridLoc, mP, sP);\n",
    "locQ_sp = calc_χ_trilex(impQ_sp.Γ, bubbleLoc, qGridLoc, νGrid, sumHelper_f, mP.U, mP, sP);\n",
    "locQ_ch = calc_χ_trilex(impQ_ch.Γ, bubbleLoc, qGridLoc, νGrid, sumHelper_f, -mP.U, mP, sP);\n",
    "Σ_ladderLoc = calc_Σ(locQ_sp, locQ_ch, bubbleLoc, GImp_fft, FUpDo,\n",
    "                     qGridLoc, sumHelper_f, mP, sP)\n",
    "Σ_ladderLoc = Σ_ladderLoc .+ mP.n * mP.U/2.0;"
   ]
  },
  {
   "cell_type": "code",
   "execution_count": 160,
   "metadata": {},
   "outputs": [],
   "source": [
    "# non local quantities \n",
    "bubble = calc_bubble(νGrid, GLoc_fft, qG, mP, sP);\n",
    "nlQ_sp = calc_χ_trilex(impQ_sp.Γ, bubble, qG, νGrid, sumHelper_f, mP.U, mP, sP);\n",
    "nlQ_ch = calc_χ_trilex(impQ_ch.Γ, bubble, qG, νGrid, sumHelper_f, -mP.U, mP, sP);"
   ]
  },
  {
   "cell_type": "code",
   "execution_count": 161,
   "metadata": {},
   "outputs": [],
   "source": [
    "# non local quantities \n",
    "bubble2 = calc_bubble(νGrid, GLoc_fft2, qG, mP2, sP2);\n",
    "nlQ_sp2 = calc_χ_trilex(impQ_sp2.Γ, bubble2, qG, νGrid, sumHelper_f2, mP2.U, mP2, sP2);\n",
    "nlQ_ch2 = calc_χ_trilex(impQ_ch2.Γ, bubble2, qG, νGrid, sumHelper_f2, -mP2.U, mP2, sP2);"
   ]
  },
  {
   "cell_type": "code",
   "execution_count": 162,
   "metadata": {},
   "outputs": [
    {
     "data": {
      "text/plain": [
       "0.3479159446145041 + 3.21934360230958e-10im"
      ]
     },
     "execution_count": 162,
     "metadata": {},
     "output_type": "execute_result"
    }
   ],
   "source": [
    "sh_1 = LadderDGA.get_sum_helper(nlQ_sp.usable_ω, sP, :b)\n",
    "sh_12 = LadderDGA.get_sum_helper(nlQ_sp2.usable_ω, sP2, :b)\n",
    "χspw = LadderDGA.sum_freq(LadderDGA.kintegrate(qG, nlQ_sp.χ[nlQ_sp.usable_ω,:], dim=2)[:,1], [1], sh_1, mP.β)[1]\n",
    "χspw2 = LadderDGA.sum_freq(LadderDGA.kintegrate(qG, nlQ_sp2.χ[nlQ_sp2.usable_ω,:], dim=2)[:,1], [1], sh_1, mP2.β)[1]\n",
    "\n",
    "#plot(nlQ_sp.usable_ω, real(impQ_sp.χ_ω[impQ_sp.usable_ω]))\n",
    "#plot!(nlQ_sp2.usable_ω, real(impQ_sp2.χ_ω[impQ_sp2.usable_ω]))"
   ]
  },
  {
   "cell_type": "code",
   "execution_count": 163,
   "metadata": {
    "scrolled": false
   },
   "outputs": [
    {
     "ename": "LoadError",
     "evalue": "UndefVarError: χspw_1 not defined",
     "output_type": "error",
     "traceback": [
      "UndefVarError: χspw_1 not defined",
      "",
      "Stacktrace:",
      " [1] top-level scope",
      "   @ In[163]:1",
      " [2] eval",
      "   @ ./boot.jl:360 [inlined]",
      " [3] include_string(mapexpr::typeof(REPL.softscope), mod::Module, code::String, filename::String)",
      "   @ Base ./loading.jl:1094"
     ]
    }
   ],
   "source": [
    "println(\"$χspw_1 vs $χspw_2\\n $χspw2_1 vs $χspw2_2\")"
   ]
  },
  {
   "cell_type": "code",
   "execution_count": 164,
   "metadata": {},
   "outputs": [
    {
     "name": "stderr",
     "output_type": "stream",
     "text": [
      "┌ Info: Computing λsp corrected χsp, using \n",
      "│   sP.χFillType = lambda_χ_fill\n",
      "│    as fill value outside usable ω range. =  as fill value outside usable ω range.\n",
      "└ @ LadderDGA /home/julian/Hamburg/LadderDGA.jl/src/lambdaCorrection.jl:142\n",
      "┌ Warning: currently using min(usable_sp, usable_ch) for all calculations. relax this?\n",
      "└ @ LadderDGA /home/julian/Hamburg/LadderDGA.jl/src/lambdaCorrection.jl:26\n",
      "┌ Info: Found usable intervals for non-local susceptibility of length \n",
      "│ sp: 16:26, length: 11\n",
      "│ ch: 16:26, length: 11\n",
      "│ usable: 16:26, length: 11\n",
      "│ χch sum = 0.09201384403481638, rhs = 0.4079861559651836\n",
      "└ @ LadderDGA /home/julian/Hamburg/LadderDGA.jl/src/lambdaCorrection.jl:35\n",
      "┌ Info: found \n",
      "│   χ_min = -0.09502768206589088\n",
      "│   \". Looking for roots in intervall $(int)\" = . Looking for roots in intervall [-0.09502768206589088, 1.9005536413178175]\n",
      "└ @ LadderDGA /home/julian/Hamburg/LadderDGA.jl/src/lambdaCorrection.jl:134\n",
      "┌ Info: Method 2 root:\n",
      "│   r2 = Float64[]\n",
      "└ @ LadderDGA /home/julian/Hamburg/LadderDGA.jl/src/lambdaCorrection.jl:57\n"
     ]
    },
    {
     "ename": "LoadError",
     "evalue": "TypeError: non-boolean (Vector{Float64}) used in boolean context",
     "output_type": "error",
     "traceback": [
      "TypeError: non-boolean (Vector{Float64}) used in boolean context",
      "",
      "Stacktrace:",
      " [1] calc_λsp_correction(χ_in::SharedArrays.SharedMatrix{ComplexF64}, usable_ω::UnitRange{Int64}, searchInterval::Vector{Float64}, rhs::Float64, kGrid::Dispersions.ReducedKGrid_cP_3D, β::Float64, sP::SimulationParameters)",
      "   @ LadderDGA ~/Hamburg/LadderDGA.jl/src/lambdaCorrection.jl:58",
      " [2] λ_correction!(impQ_sp::LadderDGA.ImpurityQuantities, impQ_ch::LadderDGA.ImpurityQuantities, FUpDo::SharedArrays.SharedArray{ComplexF64, 3}, Σ_loc_pos::Vector{ComplexF64}, Σ_ladderLoc::Matrix{ComplexF64}, nlQ_sp::NonLocalQuantities{ComplexF64, ComplexF64}, nlQ_ch::NonLocalQuantities{ComplexF64, ComplexF64}, bubble::SharedArrays.SharedArray{ComplexF64, 3}, Gνω::SharedArrays.SharedMatrix{ComplexF64}, kGrid::Dispersions.ReducedKGrid_cP_3D, νGrid::Vector{AbstractArray}, mP::ModelParameters, sP::SimulationParameters; init_sp::Nothing, init_spch::Nothing)",
      "   @ LadderDGA ~/Hamburg/LadderDGA.jl/src/lambdaCorrection.jl:146",
      " [3] λ_correction!(impQ_sp::LadderDGA.ImpurityQuantities, impQ_ch::LadderDGA.ImpurityQuantities, FUpDo::SharedArrays.SharedArray{ComplexF64, 3}, Σ_loc_pos::Vector{ComplexF64}, Σ_ladderLoc::Matrix{ComplexF64}, nlQ_sp::NonLocalQuantities{ComplexF64, ComplexF64}, nlQ_ch::NonLocalQuantities{ComplexF64, ComplexF64}, bubble::SharedArrays.SharedArray{ComplexF64, 3}, Gνω::SharedArrays.SharedMatrix{ComplexF64}, kGrid::Dispersions.ReducedKGrid_cP_3D, νGrid::Vector{AbstractArray}, mP::ModelParameters, sP::SimulationParameters)",
      "   @ LadderDGA ~/Hamburg/LadderDGA.jl/src/lambdaCorrection.jl:142",
      " [4] top-level scope",
      "   @ In[164]:1",
      " [5] eval",
      "   @ ./boot.jl:360 [inlined]",
      " [6] include_string(mapexpr::typeof(REPL.softscope), mod::Module, code::String, filename::String)",
      "   @ Base ./loading.jl:1094"
     ]
    }
   ],
   "source": [
    "λ_sp, λ_spch  = λ_correction!(impQ_sp, impQ_ch, FUpDo, Σ_loc, Σ_ladderLoc, nlQ_sp, nlQ_ch, bubble, GLoc_fft, qG, νGrid, mP, sP)"
   ]
  },
  {
   "cell_type": "code",
   "execution_count": 165,
   "metadata": {},
   "outputs": [
    {
     "name": "stderr",
     "output_type": "stream",
     "text": [
      "┌ Info: Computing λsp corrected χsp, using \n",
      "│   sP.χFillType = lambda_χ_fill\n",
      "│    as fill value outside usable ω range. =  as fill value outside usable ω range.\n",
      "└ @ LadderDGA /home/julian/Hamburg/LadderDGA.jl/src/lambdaCorrection.jl:142\n",
      "┌ Warning: currently using min(usable_sp, usable_ch) for all calculations. relax this?\n",
      "└ @ LadderDGA /home/julian/Hamburg/LadderDGA.jl/src/lambdaCorrection.jl:26\n",
      "┌ Info: Found usable intervals for non-local susceptibility of length \n",
      "│ sp: 8:34, length: 27\n",
      "│ ch: 9:33, length: 25\n",
      "│ usable: 9:33, length: 25\n",
      "│ χch sum = 0.13025453136299703, rhs = 0.36974546863700297\n",
      "└ @ LadderDGA /home/julian/Hamburg/LadderDGA.jl/src/lambdaCorrection.jl:35\n",
      "┌ Info: found \n",
      "│   χ_min = -0.08910503113820295\n",
      "│   \". Looking for roots in intervall $(int)\" = . Looking for roots in intervall [-0.08910503113820295, 1.782100622764059]\n",
      "└ @ LadderDGA /home/julian/Hamburg/LadderDGA.jl/src/lambdaCorrection.jl:134\n",
      "┌ Info: Method 2 root:\n",
      "│   r2 = Float64[]\n",
      "└ @ LadderDGA /home/julian/Hamburg/LadderDGA.jl/src/lambdaCorrection.jl:57\n"
     ]
    },
    {
     "ename": "LoadError",
     "evalue": "TypeError: non-boolean (Vector{Float64}) used in boolean context",
     "output_type": "error",
     "traceback": [
      "TypeError: non-boolean (Vector{Float64}) used in boolean context",
      "",
      "Stacktrace:",
      " [1] calc_λsp_correction(χ_in::SharedArrays.SharedMatrix{ComplexF64}, usable_ω::UnitRange{Int64}, searchInterval::Vector{Float64}, rhs::Float64, kGrid::Dispersions.ReducedKGrid_cP_3D, β::Float64, sP::SimulationParameters)",
      "   @ LadderDGA ~/Hamburg/LadderDGA.jl/src/lambdaCorrection.jl:58",
      " [2] λ_correction!(impQ_sp::LadderDGA.ImpurityQuantities, impQ_ch::LadderDGA.ImpurityQuantities, FUpDo::SharedArrays.SharedArray{ComplexF64, 3}, Σ_loc_pos::Vector{ComplexF64}, Σ_ladderLoc::Matrix{ComplexF64}, nlQ_sp::NonLocalQuantities{ComplexF64, ComplexF64}, nlQ_ch::NonLocalQuantities{ComplexF64, ComplexF64}, bubble::SharedArrays.SharedArray{ComplexF64, 3}, Gνω::SharedArrays.SharedMatrix{ComplexF64}, kGrid::Dispersions.ReducedKGrid_cP_3D, νGrid::Vector{AbstractArray}, mP::ModelParameters, sP::SimulationParameters; init_sp::Nothing, init_spch::Nothing)",
      "   @ LadderDGA ~/Hamburg/LadderDGA.jl/src/lambdaCorrection.jl:146",
      " [3] λ_correction!(impQ_sp::LadderDGA.ImpurityQuantities, impQ_ch::LadderDGA.ImpurityQuantities, FUpDo::SharedArrays.SharedArray{ComplexF64, 3}, Σ_loc_pos::Vector{ComplexF64}, Σ_ladderLoc::Matrix{ComplexF64}, nlQ_sp::NonLocalQuantities{ComplexF64, ComplexF64}, nlQ_ch::NonLocalQuantities{ComplexF64, ComplexF64}, bubble::SharedArrays.SharedArray{ComplexF64, 3}, Gνω::SharedArrays.SharedMatrix{ComplexF64}, kGrid::Dispersions.ReducedKGrid_cP_3D, νGrid::Vector{AbstractArray}, mP::ModelParameters, sP::SimulationParameters)",
      "   @ LadderDGA ~/Hamburg/LadderDGA.jl/src/lambdaCorrection.jl:142",
      " [4] top-level scope",
      "   @ In[165]:1",
      " [5] eval",
      "   @ ./boot.jl:360 [inlined]",
      " [6] include_string(mapexpr::typeof(REPL.softscope), mod::Module, code::String, filename::String)",
      "   @ Base ./loading.jl:1094"
     ]
    }
   ],
   "source": [
    "λ_sp2, λ_spch2  = λ_correction!(impQ_sp2, impQ_ch2, FUpDo2, Σ_loc2, Σ_ladderLoc, nlQ_sp2, nlQ_ch2, bubble2, GLoc_fft2, qG, νGrid, mP2, sP2)"
   ]
  },
  {
   "cell_type": "code",
   "execution_count": 176,
   "metadata": {},
   "outputs": [
    {
     "name": "stdout",
     "output_type": "stream",
     "text": [
      "usable range: 16:26 vs 9:33\n",
      "χupup_nc=0.1866955325096797 - 3.2685805070491504e-10im\n",
      "χupup_rc=0.2437939692587605 - 3.3498901944799805e-10im\n",
      "lambda [0.02517019157222132] vs Float64[]\n"
     ]
    }
   ],
   "source": [
    "using Roots\n",
    "\n",
    "get_sum_helper = LadderDGA.get_sum_helper\n",
    "kintegrate = LadderDGA.kintegrate\n",
    "sum_freq = LadderDGA.sum_freq\n",
    "χ_λ(χ::AbstractArray, λ::Union{Float64}) = map(χi -> 1.0 / ((1.0 / χi) + λ), χ)\n",
    "kGrid = qG\n",
    "β = mP.β\n",
    "\n",
    "\n",
    "sh = get_sum_helper(nlQ_ch.usable_ω, sP, :b)\n",
    "χch_ω = kintegrate(kGrid, nlQ_ch.χ, dim=2)[:,1]\n",
    "χch_sum = real(sum_freq(χch_ω[nlQ_ch.usable_ω], [1], sh, mP.β)[1])\n",
    "rhs1 = mP.n * (1 - mP.n/2) - χch_sum\n",
    "rhs2 = real(impQ_ch.χ_loc + impQ_sp.χ_loc - χch_sum)\n",
    "usable_ω = intersect(nlQ_sp.usable_ω, nlQ_ch.usable_ω)\n",
    "sh = get_sum_helper(usable_ω, sP, :b)\n",
    "χupup_sum = sum_freq(kintegrate(kGrid, 0.5 .* (nlQ_ch.χ[usable_ω,:] .+ nlQ_sp.χ[usable_ω,:]), dim=2)[:,1], [1], sh, mP.β)[1]\n",
    "\n",
    "\n",
    "sh_2 = get_sum_helper(nlQ_ch2.usable_ω, sP2, :b)\n",
    "χch_ω_2 = kintegrate(kGrid, nlQ_ch2.χ, dim=2)[:,1]\n",
    "χch_sum_2 = real(sum_freq(χch_ω_2[nlQ_ch2.usable_ω], [1], sh_2, mP2.β)[1])\n",
    "rhs1_2 = mP.n * (1 - mP.n/2) - χch_sum_2\n",
    "rhs2_2 = real(impQ_ch2.χ_loc + impQ_sp2.χ_loc - χch_sum_2)\n",
    "usable_ω_2 = intersect(nlQ_sp2.usable_ω, nlQ_ch2.usable_ω)\n",
    "sh_2 = get_sum_helper(usable_ω_2, sP2, :b)\n",
    "χupup_sum_2 = sum_freq(kintegrate(kGrid, 0.5 .* (nlQ_ch2.χ[usable_ω_2,:] .+ nlQ_sp2.χ[usable_ω_2,:]), dim=2)[:,1], [1], sh_2, mP2.β)[1]\n",
    "\n",
    "println(\"usable range: $usable_ω vs $usable_ω_2\\nχupup_nc=$χupup_sum\\nχupup_rc=$χupup_sum_2\")\n",
    "\n",
    "χ_in = nlQ_sp.χ\n",
    "usable_ω_i = nlQ_sp.usable_ω\n",
    "χr    = real.(χ_in[usable_ω_i,:])\n",
    "sh = get_sum_helper(usable_ω_i, sP, :b)\n",
    "f(λint) = sum_freq(kintegrate(kGrid, χ_λ(χr, λint), dim=2)[:,1], [1], sh, β)[1] - rhs2\n",
    "df(λint) = sum_freq(kintegrate(kGrid, -χ_λ(χr, λint) .^ 2, dim=2)[:,1], [1], sh, β)[1]\n",
    "r2 = find_zeros(f, 0.02, 20.0, verbose=true)\n",
    "\n",
    "χ_in = nlQ_sp2.χ\n",
    "usable_ω_i = nlQ_sp2.usable_ω\n",
    "χr    = real.(χ_in[usable_ω_i,:])\n",
    "sh = get_sum_helper(usable_ω_i, sP2, :b)\n",
    "f(λint) = sum_freq(kintegrate(kGrid, χ_λ(χr, λint), dim=2)[:,1], [1], sh, β)[1] - rhs1\n",
    "df(λint) = sum_freq(kintegrate(kGrid, -χ_λ(χr, λint) .^ 2, dim=2)[:,1], [1], sh, β)[1]\n",
    "r22 = find_zeros(f, 0.02, 20.0, verbose=true)\n",
    "\n",
    "println(\"lambda $r2 vs $r22\")"
   ]
  },
  {
   "cell_type": "code",
   "execution_count": 178,
   "metadata": {},
   "outputs": [
    {
     "data": {
      "image/svg+xml": [
       "<?xml version=\"1.0\" encoding=\"utf-8\"?>\n",
       "<svg xmlns=\"http://www.w3.org/2000/svg\" xmlns:xlink=\"http://www.w3.org/1999/xlink\" width=\"600\" height=\"400\" viewBox=\"0 0 2400 1600\">\n",
       "<defs>\n",
       "  <clipPath id=\"clip970\">\n",
       "    <rect x=\"0\" y=\"0\" width=\"2400\" height=\"1600\"/>\n",
       "  </clipPath>\n",
       "</defs>\n",
       "<path clip-path=\"url(#clip970)\" d=\"\n",
       "M0 1600 L2400 1600 L2400 0 L0 0  Z\n",
       "  \" fill=\"#ffffff\" fill-rule=\"evenodd\" fill-opacity=\"1\"/>\n",
       "<defs>\n",
       "  <clipPath id=\"clip971\">\n",
       "    <rect x=\"480\" y=\"0\" width=\"1681\" height=\"1600\"/>\n",
       "  </clipPath>\n",
       "</defs>\n",
       "<path clip-path=\"url(#clip970)\" d=\"\n",
       "M156.112 1486.45 L2352.76 1486.45 L2352.76 47.2441 L156.112 47.2441  Z\n",
       "  \" fill=\"#ffffff\" fill-rule=\"evenodd\" fill-opacity=\"1\"/>\n",
       "<defs>\n",
       "  <clipPath id=\"clip972\">\n",
       "    <rect x=\"156\" y=\"47\" width=\"2198\" height=\"1440\"/>\n",
       "  </clipPath>\n",
       "</defs>\n",
       "<polyline clip-path=\"url(#clip972)\" style=\"stroke:#000000; stroke-width:2; stroke-opacity:0.1; fill:none\" points=\"\n",
       "  304.627,1486.45 304.627,47.2441 \n",
       "  \"/>\n",
       "<polyline clip-path=\"url(#clip972)\" style=\"stroke:#000000; stroke-width:2; stroke-opacity:0.1; fill:none\" points=\"\n",
       "  736.358,1486.45 736.358,47.2441 \n",
       "  \"/>\n",
       "<polyline clip-path=\"url(#clip972)\" style=\"stroke:#000000; stroke-width:2; stroke-opacity:0.1; fill:none\" points=\"\n",
       "  1168.09,1486.45 1168.09,47.2441 \n",
       "  \"/>\n",
       "<polyline clip-path=\"url(#clip972)\" style=\"stroke:#000000; stroke-width:2; stroke-opacity:0.1; fill:none\" points=\"\n",
       "  1599.82,1486.45 1599.82,47.2441 \n",
       "  \"/>\n",
       "<polyline clip-path=\"url(#clip972)\" style=\"stroke:#000000; stroke-width:2; stroke-opacity:0.1; fill:none\" points=\"\n",
       "  2031.55,1486.45 2031.55,47.2441 \n",
       "  \"/>\n",
       "<polyline clip-path=\"url(#clip970)\" style=\"stroke:#000000; stroke-width:4; stroke-opacity:1; fill:none\" points=\"\n",
       "  156.112,1486.45 2352.76,1486.45 \n",
       "  \"/>\n",
       "<polyline clip-path=\"url(#clip970)\" style=\"stroke:#000000; stroke-width:4; stroke-opacity:1; fill:none\" points=\"\n",
       "  304.627,1486.45 304.627,1469.18 \n",
       "  \"/>\n",
       "<polyline clip-path=\"url(#clip970)\" style=\"stroke:#000000; stroke-width:4; stroke-opacity:1; fill:none\" points=\"\n",
       "  736.358,1486.45 736.358,1469.18 \n",
       "  \"/>\n",
       "<polyline clip-path=\"url(#clip970)\" style=\"stroke:#000000; stroke-width:4; stroke-opacity:1; fill:none\" points=\"\n",
       "  1168.09,1486.45 1168.09,1469.18 \n",
       "  \"/>\n",
       "<polyline clip-path=\"url(#clip970)\" style=\"stroke:#000000; stroke-width:4; stroke-opacity:1; fill:none\" points=\"\n",
       "  1599.82,1486.45 1599.82,1469.18 \n",
       "  \"/>\n",
       "<polyline clip-path=\"url(#clip970)\" style=\"stroke:#000000; stroke-width:4; stroke-opacity:1; fill:none\" points=\"\n",
       "  2031.55,1486.45 2031.55,1469.18 \n",
       "  \"/>\n",
       "<path clip-path=\"url(#clip970)\" d=\"M 0 0 M279.315 1543.18 L286.954 1543.18 L286.954 1516.82 L278.644 1518.49 L278.644 1514.23 L286.908 1512.56 L291.583 1512.56 L291.583 1543.18 L299.222 1543.18 L299.222 1547.12 L279.315 1547.12 L279.315 1543.18 Z\" fill=\"#000000\" fill-rule=\"evenodd\" fill-opacity=\"1\" /><path clip-path=\"url(#clip970)\" d=\"M 0 0 M318.667 1515.64 Q315.056 1515.64 313.227 1519.2 Q311.421 1522.75 311.421 1529.87 Q311.421 1536.98 313.227 1540.55 Q315.056 1544.09 318.667 1544.09 Q322.301 1544.09 324.106 1540.55 Q325.935 1536.98 325.935 1529.87 Q325.935 1522.75 324.106 1519.2 Q322.301 1515.64 318.667 1515.64 M318.667 1511.93 Q324.477 1511.93 327.532 1516.54 Q330.611 1521.12 330.611 1529.87 Q330.611 1538.6 327.532 1543.21 Q324.477 1547.79 318.667 1547.79 Q312.856 1547.79 309.778 1543.21 Q306.722 1538.6 306.722 1529.87 Q306.722 1521.12 309.778 1516.54 Q312.856 1511.93 318.667 1511.93 Z\" fill=\"#000000\" fill-rule=\"evenodd\" fill-opacity=\"1\" /><path clip-path=\"url(#clip970)\" d=\"M 0 0 M711.543 1543.18 L719.182 1543.18 L719.182 1516.82 L710.872 1518.49 L710.872 1514.23 L719.136 1512.56 L723.811 1512.56 L723.811 1543.18 L731.45 1543.18 L731.45 1547.12 L711.543 1547.12 L711.543 1543.18 Z\" fill=\"#000000\" fill-rule=\"evenodd\" fill-opacity=\"1\" /><path clip-path=\"url(#clip970)\" d=\"M 0 0 M740.941 1512.56 L759.297 1512.56 L759.297 1516.5 L745.223 1516.5 L745.223 1524.97 Q746.242 1524.62 747.26 1524.46 Q748.279 1524.27 749.297 1524.27 Q755.084 1524.27 758.464 1527.44 Q761.844 1530.62 761.844 1536.03 Q761.844 1541.61 758.371 1544.71 Q754.899 1547.79 748.58 1547.79 Q746.404 1547.79 744.135 1547.42 Q741.89 1547.05 739.483 1546.31 L739.483 1541.61 Q741.566 1542.74 743.788 1543.3 Q746.01 1543.86 748.487 1543.86 Q752.492 1543.86 754.83 1541.75 Q757.168 1539.64 757.168 1536.03 Q757.168 1532.42 754.83 1530.31 Q752.492 1528.21 748.487 1528.21 Q746.612 1528.21 744.737 1528.62 Q742.885 1529.04 740.941 1529.92 L740.941 1512.56 Z\" fill=\"#000000\" fill-rule=\"evenodd\" fill-opacity=\"1\" /><path clip-path=\"url(#clip970)\" d=\"M 0 0 M1146.86 1543.18 L1163.18 1543.18 L1163.18 1547.12 L1141.24 1547.12 L1141.24 1543.18 Q1143.9 1540.43 1148.48 1535.8 Q1153.09 1531.15 1154.27 1529.81 Q1156.51 1527.28 1157.39 1525.55 Q1158.3 1523.79 1158.3 1522.1 Q1158.3 1519.34 1156.35 1517.61 Q1154.43 1515.87 1151.33 1515.87 Q1149.13 1515.87 1146.68 1516.63 Q1144.25 1517.4 1141.47 1518.95 L1141.47 1514.23 Q1144.29 1513.09 1146.75 1512.51 Q1149.2 1511.93 1151.24 1511.93 Q1156.61 1511.93 1159.8 1514.62 Q1163 1517.31 1163 1521.8 Q1163 1523.93 1162.19 1525.85 Q1161.4 1527.74 1159.29 1530.34 Q1158.71 1531.01 1155.61 1534.23 Q1152.51 1537.42 1146.86 1543.18 Z\" fill=\"#000000\" fill-rule=\"evenodd\" fill-opacity=\"1\" /><path clip-path=\"url(#clip970)\" d=\"M 0 0 M1183 1515.64 Q1179.38 1515.64 1177.56 1519.2 Q1175.75 1522.75 1175.75 1529.87 Q1175.75 1536.98 1177.56 1540.55 Q1179.38 1544.09 1183 1544.09 Q1186.63 1544.09 1188.44 1540.55 Q1190.26 1536.98 1190.26 1529.87 Q1190.26 1522.75 1188.44 1519.2 Q1186.63 1515.64 1183 1515.64 M1183 1511.93 Q1188.81 1511.93 1191.86 1516.54 Q1194.94 1521.12 1194.94 1529.87 Q1194.94 1538.6 1191.86 1543.21 Q1188.81 1547.79 1183 1547.79 Q1177.19 1547.79 1174.11 1543.21 Q1171.05 1538.6 1171.05 1529.87 Q1171.05 1521.12 1174.11 1516.54 Q1177.19 1511.93 1183 1511.93 Z\" fill=\"#000000\" fill-rule=\"evenodd\" fill-opacity=\"1\" /><path clip-path=\"url(#clip970)\" d=\"M 0 0 M1579.09 1543.18 L1595.41 1543.18 L1595.41 1547.12 L1573.46 1547.12 L1573.46 1543.18 Q1576.13 1540.43 1580.71 1535.8 Q1585.32 1531.15 1586.5 1529.81 Q1588.74 1527.28 1589.62 1525.55 Q1590.52 1523.79 1590.52 1522.1 Q1590.52 1519.34 1588.58 1517.61 Q1586.66 1515.87 1583.56 1515.87 Q1581.36 1515.87 1578.9 1516.63 Q1576.47 1517.4 1573.7 1518.95 L1573.7 1514.23 Q1576.52 1513.09 1578.97 1512.51 Q1581.43 1511.93 1583.46 1511.93 Q1588.83 1511.93 1592.03 1514.62 Q1595.22 1517.31 1595.22 1521.8 Q1595.22 1523.93 1594.41 1525.85 Q1593.63 1527.74 1591.52 1530.34 Q1590.94 1531.01 1587.84 1534.23 Q1584.74 1537.42 1579.09 1543.18 Z\" fill=\"#000000\" fill-rule=\"evenodd\" fill-opacity=\"1\" /><path clip-path=\"url(#clip970)\" d=\"M 0 0 M1605.27 1512.56 L1623.63 1512.56 L1623.63 1516.5 L1609.55 1516.5 L1609.55 1524.97 Q1610.57 1524.62 1611.59 1524.46 Q1612.61 1524.27 1613.63 1524.27 Q1619.41 1524.27 1622.79 1527.44 Q1626.17 1530.62 1626.17 1536.03 Q1626.17 1541.61 1622.7 1544.71 Q1619.23 1547.79 1612.91 1547.79 Q1610.73 1547.79 1608.46 1547.42 Q1606.22 1547.05 1603.81 1546.31 L1603.81 1541.61 Q1605.89 1542.74 1608.12 1543.3 Q1610.34 1543.86 1612.82 1543.86 Q1616.82 1543.86 1619.16 1541.75 Q1621.5 1539.64 1621.5 1536.03 Q1621.5 1532.42 1619.16 1530.31 Q1616.82 1528.21 1612.82 1528.21 Q1610.94 1528.21 1609.07 1528.62 Q1607.21 1529.04 1605.27 1529.92 L1605.27 1512.56 Z\" fill=\"#000000\" fill-rule=\"evenodd\" fill-opacity=\"1\" /><path clip-path=\"url(#clip970)\" d=\"M 0 0 M2020.39 1528.49 Q2023.75 1529.2 2025.62 1531.47 Q2027.52 1533.74 2027.52 1537.07 Q2027.52 1542.19 2024 1544.99 Q2020.48 1547.79 2014 1547.79 Q2011.83 1547.79 2009.51 1547.35 Q2007.22 1546.93 2004.77 1546.08 L2004.77 1541.56 Q2006.71 1542.7 2009.03 1543.28 Q2011.34 1543.86 2013.86 1543.86 Q2018.26 1543.86 2020.55 1542.12 Q2022.87 1540.38 2022.87 1537.07 Q2022.87 1534.02 2020.72 1532.31 Q2018.59 1530.57 2014.77 1530.57 L2010.74 1530.57 L2010.74 1526.73 L2014.95 1526.73 Q2018.4 1526.73 2020.23 1525.36 Q2022.06 1523.97 2022.06 1521.38 Q2022.06 1518.72 2020.16 1517.31 Q2018.28 1515.87 2014.77 1515.87 Q2012.84 1515.87 2010.65 1516.29 Q2008.45 1516.7 2005.81 1517.58 L2005.81 1513.42 Q2008.47 1512.68 2010.78 1512.31 Q2013.12 1511.93 2015.18 1511.93 Q2020.51 1511.93 2023.61 1514.37 Q2026.71 1516.77 2026.71 1520.89 Q2026.71 1523.76 2025.07 1525.75 Q2023.42 1527.72 2020.39 1528.49 Z\" fill=\"#000000\" fill-rule=\"evenodd\" fill-opacity=\"1\" /><path clip-path=\"url(#clip970)\" d=\"M 0 0 M2046.39 1515.64 Q2042.78 1515.64 2040.95 1519.2 Q2039.14 1522.75 2039.14 1529.87 Q2039.14 1536.98 2040.95 1540.55 Q2042.78 1544.09 2046.39 1544.09 Q2050.02 1544.09 2051.83 1540.55 Q2053.65 1536.98 2053.65 1529.87 Q2053.65 1522.75 2051.83 1519.2 Q2050.02 1515.64 2046.39 1515.64 M2046.39 1511.93 Q2052.2 1511.93 2055.25 1516.54 Q2058.33 1521.12 2058.33 1529.87 Q2058.33 1538.6 2055.25 1543.21 Q2052.2 1547.79 2046.39 1547.79 Q2040.58 1547.79 2037.5 1543.21 Q2034.44 1538.6 2034.44 1529.87 Q2034.44 1521.12 2037.5 1516.54 Q2040.58 1511.93 2046.39 1511.93 Z\" fill=\"#000000\" fill-rule=\"evenodd\" fill-opacity=\"1\" /><polyline clip-path=\"url(#clip972)\" style=\"stroke:#000000; stroke-width:2; stroke-opacity:0.1; fill:none\" points=\"\n",
       "  156.112,1471.29 2352.76,1471.29 \n",
       "  \"/>\n",
       "<polyline clip-path=\"url(#clip972)\" style=\"stroke:#000000; stroke-width:2; stroke-opacity:0.1; fill:none\" points=\"\n",
       "  156.112,1065.71 2352.76,1065.71 \n",
       "  \"/>\n",
       "<polyline clip-path=\"url(#clip972)\" style=\"stroke:#000000; stroke-width:2; stroke-opacity:0.1; fill:none\" points=\"\n",
       "  156.112,660.141 2352.76,660.141 \n",
       "  \"/>\n",
       "<polyline clip-path=\"url(#clip972)\" style=\"stroke:#000000; stroke-width:2; stroke-opacity:0.1; fill:none\" points=\"\n",
       "  156.112,254.568 2352.76,254.568 \n",
       "  \"/>\n",
       "<polyline clip-path=\"url(#clip970)\" style=\"stroke:#000000; stroke-width:4; stroke-opacity:1; fill:none\" points=\"\n",
       "  156.112,1486.45 156.112,47.2441 \n",
       "  \"/>\n",
       "<polyline clip-path=\"url(#clip970)\" style=\"stroke:#000000; stroke-width:4; stroke-opacity:1; fill:none\" points=\"\n",
       "  156.112,1471.29 182.472,1471.29 \n",
       "  \"/>\n",
       "<polyline clip-path=\"url(#clip970)\" style=\"stroke:#000000; stroke-width:4; stroke-opacity:1; fill:none\" points=\"\n",
       "  156.112,1065.71 182.472,1065.71 \n",
       "  \"/>\n",
       "<polyline clip-path=\"url(#clip970)\" style=\"stroke:#000000; stroke-width:4; stroke-opacity:1; fill:none\" points=\"\n",
       "  156.112,660.141 182.472,660.141 \n",
       "  \"/>\n",
       "<polyline clip-path=\"url(#clip970)\" style=\"stroke:#000000; stroke-width:4; stroke-opacity:1; fill:none\" points=\"\n",
       "  156.112,254.568 182.472,254.568 \n",
       "  \"/>\n",
       "<path clip-path=\"url(#clip970)\" d=\"M 0 0 M62.9365 1457.09 Q59.3254 1457.09 57.4967 1460.65 Q55.6912 1464.19 55.6912 1471.32 Q55.6912 1478.43 57.4967 1481.99 Q59.3254 1485.53 62.9365 1485.53 Q66.5707 1485.53 68.3763 1481.99 Q70.205 1478.43 70.205 1471.32 Q70.205 1464.19 68.3763 1460.65 Q66.5707 1457.09 62.9365 1457.09 M62.9365 1453.38 Q68.7467 1453.38 71.8022 1457.99 Q74.8809 1462.57 74.8809 1471.32 Q74.8809 1480.05 71.8022 1484.66 Q68.7467 1489.24 62.9365 1489.24 Q57.1264 1489.24 54.0477 1484.66 Q50.9921 1480.05 50.9921 1471.32 Q50.9921 1462.57 54.0477 1457.99 Q57.1264 1453.38 62.9365 1453.38 Z\" fill=\"#000000\" fill-rule=\"evenodd\" fill-opacity=\"1\" /><path clip-path=\"url(#clip970)\" d=\"M 0 0 M83.0984 1482.69 L87.9827 1482.69 L87.9827 1488.57 L83.0984 1488.57 L83.0984 1482.69 Z\" fill=\"#000000\" fill-rule=\"evenodd\" fill-opacity=\"1\" /><path clip-path=\"url(#clip970)\" d=\"M 0 0 M108.168 1457.09 Q104.557 1457.09 102.728 1460.65 Q100.922 1464.19 100.922 1471.32 Q100.922 1478.43 102.728 1481.99 Q104.557 1485.53 108.168 1485.53 Q111.802 1485.53 113.608 1481.99 Q115.436 1478.43 115.436 1471.32 Q115.436 1464.19 113.608 1460.65 Q111.802 1457.09 108.168 1457.09 M108.168 1453.38 Q113.978 1453.38 117.033 1457.99 Q120.112 1462.57 120.112 1471.32 Q120.112 1480.05 117.033 1484.66 Q113.978 1489.24 108.168 1489.24 Q102.358 1489.24 99.2789 1484.66 Q96.2234 1480.05 96.2234 1471.32 Q96.2234 1462.57 99.2789 1457.99 Q102.358 1453.38 108.168 1453.38 Z\" fill=\"#000000\" fill-rule=\"evenodd\" fill-opacity=\"1\" /><path clip-path=\"url(#clip970)\" d=\"M 0 0 M64.1634 1051.51 Q60.5523 1051.51 58.7236 1055.08 Q56.918 1058.62 56.918 1065.75 Q56.918 1072.86 58.7236 1076.42 Q60.5523 1079.96 64.1634 1079.96 Q67.7976 1079.96 69.6031 1076.42 Q71.4318 1072.86 71.4318 1065.75 Q71.4318 1058.62 69.6031 1055.08 Q67.7976 1051.51 64.1634 1051.51 M64.1634 1047.81 Q69.9735 1047.81 73.029 1052.42 Q76.1077 1057 76.1077 1065.75 Q76.1077 1074.48 73.029 1079.08 Q69.9735 1083.67 64.1634 1083.67 Q58.3532 1083.67 55.2745 1079.08 Q52.219 1074.48 52.219 1065.75 Q52.219 1057 55.2745 1052.42 Q58.3532 1047.81 64.1634 1047.81 Z\" fill=\"#000000\" fill-rule=\"evenodd\" fill-opacity=\"1\" /><path clip-path=\"url(#clip970)\" d=\"M 0 0 M84.3253 1077.11 L89.2095 1077.11 L89.2095 1082.99 L84.3253 1082.99 L84.3253 1077.11 Z\" fill=\"#000000\" fill-rule=\"evenodd\" fill-opacity=\"1\" /><path clip-path=\"url(#clip970)\" d=\"M 0 0 M100.205 1079.06 L107.844 1079.06 L107.844 1052.69 L99.5335 1054.36 L99.5335 1050.1 L107.797 1048.43 L112.473 1048.43 L112.473 1079.06 L120.112 1079.06 L120.112 1082.99 L100.205 1082.99 L100.205 1079.06 Z\" fill=\"#000000\" fill-rule=\"evenodd\" fill-opacity=\"1\" /><path clip-path=\"url(#clip970)\" d=\"M 0 0 M64.5337 645.94 Q60.9226 645.94 59.0939 649.504 Q57.2884 653.046 57.2884 660.176 Q57.2884 667.282 59.0939 670.847 Q60.9226 674.389 64.5337 674.389 Q68.168 674.389 69.9735 670.847 Q71.8022 667.282 71.8022 660.176 Q71.8022 653.046 69.9735 649.504 Q68.168 645.94 64.5337 645.94 M64.5337 642.236 Q70.3439 642.236 73.3994 646.842 Q76.4781 651.426 76.4781 660.176 Q76.4781 668.902 73.3994 673.509 Q70.3439 678.092 64.5337 678.092 Q58.7236 678.092 55.6449 673.509 Q52.5893 668.902 52.5893 660.176 Q52.5893 651.426 55.6449 646.842 Q58.7236 642.236 64.5337 642.236 Z\" fill=\"#000000\" fill-rule=\"evenodd\" fill-opacity=\"1\" /><path clip-path=\"url(#clip970)\" d=\"M 0 0 M84.6956 671.541 L89.5799 671.541 L89.5799 677.421 L84.6956 677.421 L84.6956 671.541 Z\" fill=\"#000000\" fill-rule=\"evenodd\" fill-opacity=\"1\" /><path clip-path=\"url(#clip970)\" d=\"M 0 0 M103.793 673.486 L120.112 673.486 L120.112 677.421 L98.1678 677.421 L98.1678 673.486 Q100.83 670.731 105.413 666.102 Q110.02 661.449 111.2 660.106 Q113.445 657.583 114.325 655.847 Q115.228 654.088 115.228 652.398 Q115.228 649.643 113.283 647.907 Q111.362 646.171 108.26 646.171 Q106.061 646.171 103.608 646.935 Q101.177 647.699 98.3993 649.25 L98.3993 644.528 Q101.223 643.393 103.677 642.815 Q106.131 642.236 108.168 642.236 Q113.538 642.236 116.733 644.921 Q119.927 647.606 119.927 652.097 Q119.927 654.227 119.117 656.148 Q118.33 658.046 116.223 660.639 Q115.645 661.31 112.543 664.527 Q109.441 667.722 103.793 673.486 Z\" fill=\"#000000\" fill-rule=\"evenodd\" fill-opacity=\"1\" /><path clip-path=\"url(#clip970)\" d=\"M 0 0 M63.5847 240.366 Q59.9736 240.366 58.1449 243.931 Q56.3393 247.473 56.3393 254.602 Q56.3393 261.709 58.1449 265.274 Q59.9736 268.815 63.5847 268.815 Q67.2189 268.815 69.0244 265.274 Q70.8531 261.709 70.8531 254.602 Q70.8531 247.473 69.0244 243.931 Q67.2189 240.366 63.5847 240.366 M63.5847 236.663 Q69.3948 236.663 72.4503 241.269 Q75.529 245.853 75.529 254.602 Q75.529 263.329 72.4503 267.936 Q69.3948 272.519 63.5847 272.519 Q57.7745 272.519 54.6958 267.936 Q51.6403 263.329 51.6403 254.602 Q51.6403 245.853 54.6958 241.269 Q57.7745 236.663 63.5847 236.663 Z\" fill=\"#000000\" fill-rule=\"evenodd\" fill-opacity=\"1\" /><path clip-path=\"url(#clip970)\" d=\"M 0 0 M83.7466 265.968 L88.6308 265.968 L88.6308 271.848 L83.7466 271.848 L83.7466 265.968 Z\" fill=\"#000000\" fill-rule=\"evenodd\" fill-opacity=\"1\" /><path clip-path=\"url(#clip970)\" d=\"M 0 0 M112.983 253.214 Q116.339 253.931 118.214 256.2 Q120.112 258.468 120.112 261.802 Q120.112 266.917 116.594 269.718 Q113.075 272.519 106.594 272.519 Q104.418 272.519 102.103 272.079 Q99.8113 271.663 97.3576 270.806 L97.3576 266.292 Q99.3021 267.426 101.617 268.005 Q103.932 268.584 106.455 268.584 Q110.853 268.584 113.145 266.848 Q115.459 265.112 115.459 261.802 Q115.459 258.746 113.307 257.033 Q111.177 255.297 107.358 255.297 L103.33 255.297 L103.33 251.454 L107.543 251.454 Q110.992 251.454 112.82 250.089 Q114.649 248.7 114.649 246.107 Q114.649 243.445 112.751 242.033 Q110.876 240.598 107.358 240.598 Q105.436 240.598 103.237 241.015 Q101.038 241.431 98.3993 242.311 L98.3993 238.144 Q101.061 237.404 103.376 237.033 Q105.714 236.663 107.774 236.663 Q113.098 236.663 116.2 239.093 Q119.302 241.501 119.302 245.621 Q119.302 248.491 117.658 250.482 Q116.015 252.45 112.983 253.214 Z\" fill=\"#000000\" fill-rule=\"evenodd\" fill-opacity=\"1\" /><polyline clip-path=\"url(#clip972)\" style=\"stroke:#009af9; stroke-width:4; stroke-opacity:1; fill:none\" points=\"\n",
       "  822.704,1432.3 909.05,1363.74 995.396,1250 1081.74,1050.28 1168.09,692.055 1254.43,129.18 1340.78,692.055 1427.13,1050.28 1513.47,1250 1599.82,1363.74 \n",
       "  1686.16,1432.3 \n",
       "  \"/>\n",
       "<polyline clip-path=\"url(#clip972)\" style=\"stroke:#e26f46; stroke-width:4; stroke-opacity:1; fill:none\" points=\"\n",
       "  218.281,1445.72 304.627,1437.25 390.973,1426.35 477.319,1415.83 563.666,1401.6 650.012,1382.71 736.358,1355.46 822.704,1314.71 909.05,1250.43 995.396,1143.42 \n",
       "  1081.74,955.493 1168.09,618.091 1254.43,87.9763 1340.78,618.091 1427.13,955.493 1513.47,1143.42 1599.82,1250.43 1686.16,1314.71 1772.51,1355.46 1858.86,1382.71 \n",
       "  1945.2,1401.6 2031.55,1415.83 2117.89,1426.35 2204.24,1437.25 2290.59,1445.72 \n",
       "  \"/>\n",
       "<path clip-path=\"url(#clip970)\" d=\"\n",
       "M1983.03 276.658 L2279.53 276.658 L2279.53 95.2176 L1983.03 95.2176  Z\n",
       "  \" fill=\"#ffffff\" fill-rule=\"evenodd\" fill-opacity=\"1\"/>\n",
       "<polyline clip-path=\"url(#clip970)\" style=\"stroke:#000000; stroke-width:4; stroke-opacity:1; fill:none\" points=\"\n",
       "  1983.03,276.658 2279.53,276.658 2279.53,95.2176 1983.03,95.2176 1983.03,276.658 \n",
       "  \"/>\n",
       "<polyline clip-path=\"url(#clip970)\" style=\"stroke:#009af9; stroke-width:4; stroke-opacity:1; fill:none\" points=\"\n",
       "  2007.44,155.698 2153.88,155.698 \n",
       "  \"/>\n",
       "<path clip-path=\"url(#clip970)\" d=\"M 0 0 M2192.13 175.385 Q2190.33 180.015 2188.61 181.427 Q2186.9 182.839 2184.03 182.839 L2180.63 182.839 L2180.63 179.274 L2183.13 179.274 Q2184.89 179.274 2185.86 178.44 Q2186.83 177.607 2188.01 174.505 L2188.78 172.561 L2178.29 147.052 L2182.8 147.052 L2190.91 167.329 L2199.01 147.052 L2203.52 147.052 L2192.13 175.385 Z\" fill=\"#000000\" fill-rule=\"evenodd\" fill-opacity=\"1\" /><path clip-path=\"url(#clip970)\" d=\"M 0 0 M2210.81 169.042 L2218.45 169.042 L2218.45 142.677 L2210.14 144.343 L2210.14 140.084 L2218.41 138.418 L2223.08 138.418 L2223.08 169.042 L2230.72 169.042 L2230.72 172.978 L2210.81 172.978 L2210.81 169.042 Z\" fill=\"#000000\" fill-rule=\"evenodd\" fill-opacity=\"1\" /><polyline clip-path=\"url(#clip970)\" style=\"stroke:#e26f46; stroke-width:4; stroke-opacity:1; fill:none\" points=\"\n",
       "  2007.44,216.178 2153.88,216.178 \n",
       "  \"/>\n",
       "<path clip-path=\"url(#clip970)\" d=\"M 0 0 M2192.13 235.865 Q2190.33 240.495 2188.61 241.907 Q2186.9 243.319 2184.03 243.319 L2180.63 243.319 L2180.63 239.754 L2183.13 239.754 Q2184.89 239.754 2185.86 238.92 Q2186.83 238.087 2188.01 234.985 L2188.78 233.041 L2178.29 207.532 L2182.8 207.532 L2190.91 227.809 L2199.01 207.532 L2203.52 207.532 L2192.13 235.865 Z\" fill=\"#000000\" fill-rule=\"evenodd\" fill-opacity=\"1\" /><path clip-path=\"url(#clip970)\" d=\"M 0 0 M2214.03 229.522 L2230.35 229.522 L2230.35 233.458 L2208.41 233.458 L2208.41 229.522 Q2211.07 226.768 2215.65 222.138 Q2220.26 217.485 2221.44 216.143 Q2223.68 213.62 2224.56 211.884 Q2225.47 210.124 2225.47 208.435 Q2225.47 205.68 2223.52 203.944 Q2221.6 202.208 2218.5 202.208 Q2216.3 202.208 2213.85 202.972 Q2211.41 203.735 2208.64 205.286 L2208.64 200.564 Q2211.46 199.43 2213.91 198.851 Q2216.37 198.273 2218.41 198.273 Q2223.78 198.273 2226.97 200.958 Q2230.16 203.643 2230.16 208.134 Q2230.16 210.263 2229.35 212.185 Q2228.57 214.083 2226.46 216.675 Q2225.88 217.347 2222.78 220.564 Q2219.68 223.759 2214.03 229.522 Z\" fill=\"#000000\" fill-rule=\"evenodd\" fill-opacity=\"1\" /></svg>\n"
      ]
     },
     "execution_count": 178,
     "metadata": {},
     "output_type": "execute_result"
    }
   ],
   "source": [
    "plot(usable_ω, real(χch_ω[usable_ω]))\n",
    "plot!(usable_ω_2, real(χch_ω_2[usable_ω_2]))"
   ]
  },
  {
   "cell_type": "code",
   "execution_count": 167,
   "metadata": {},
   "outputs": [
    {
     "data": {
      "text/plain": [
       "25"
      ]
     },
     "execution_count": 167,
     "metadata": {},
     "output_type": "execute_result"
    }
   ],
   "source": [
    "length(usable_ω_2)"
   ]
  },
  {
   "cell_type": "code",
   "execution_count": 168,
   "metadata": {},
   "outputs": [
    {
     "ename": "LoadError",
     "evalue": "UndefVarError: nlQ not defined",
     "output_type": "error",
     "traceback": [
      "UndefVarError: nlQ not defined",
      "",
      "Stacktrace:",
      " [1] top-level scope",
      "   @ In[168]:1",
      " [2] eval",
      "   @ ./boot.jl:360 [inlined]",
      " [3] include_string(mapexpr::typeof(REPL.softscope), mod::Module, code::String, filename::String)",
      "   @ Base ./loading.jl:1094"
     ]
    }
   ],
   "source": [
    "χupup_1 = nlQ"
   ]
  },
  {
   "cell_type": "code",
   "execution_count": 169,
   "metadata": {},
   "outputs": [
    {
     "data": {
      "text/plain": [
       "(41, 20, 40)"
      ]
     },
     "execution_count": 169,
     "metadata": {},
     "output_type": "execute_result"
    }
   ],
   "source": [
    "size(bubble)"
   ]
  },
  {
   "cell_type": "code",
   "execution_count": null,
   "metadata": {},
   "outputs": [],
   "source": []
  }
 ],
 "metadata": {
  "kernelspec": {
   "display_name": "Julia 1.6.0",
   "language": "julia",
   "name": "julia-1.6"
  },
  "language_info": {
   "file_extension": ".jl",
   "mimetype": "application/julia",
   "name": "julia",
   "version": "1.6.0"
  }
 },
 "nbformat": 4,
 "nbformat_minor": 4
}
