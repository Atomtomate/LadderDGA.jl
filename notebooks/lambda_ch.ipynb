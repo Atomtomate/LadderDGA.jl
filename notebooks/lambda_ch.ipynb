{
 "cells": [
  {
   "cell_type": "code",
   "execution_count": 1,
   "metadata": {},
   "outputs": [
    {
     "name": "stderr",
     "output_type": "stream",
     "text": [
      "┌ Info: Precompiling LadderDGA [78e40beb-bf89-4c0e-9d2b-bee278912f2b]\n",
      "└ @ Base loading.jl:1317\n"
     ]
    }
   ],
   "source": [
    "using HDF5\n",
    "using Plots\n",
    "using LadderDGA\n",
    "using Suppressor\n",
    "using Logging\n",
    "\n",
    "#path_to_input = \"/home/julian/Hamburg/lDGA_shift_tests/data/20_20_s0_b12_u1.0\"\n",
    "#path_to_output = \"$(@__DIR__)/../../lDGA_test_runs\"\n",
    "cfg_file = \"$(@__DIR__)/../../lDGA_test_runs/config.toml\"\n",
    "cfg_file2 = \"$(@__DIR__)/../../lDGA_test_runs/config2.toml\"\n",
    "\n",
    "empty!(ARGS);\n",
    "#push!(ARGS,path_to_input);\n",
    "#push!(ARGS,path_to_output);\n",
    "#include(\"../scripts/triqs_conv.jl\");\n",
    "\n",
    "io = stdout\n",
    "metafmt(level::Logging.LogLevel, _module, group, id, file, line) = Logging.default_metafmt(level, nothing, group,     id, nothing, nothing)\n",
    "logger = ConsoleLogger(io, Logging.Info, meta_formatter=metafmt, show_limited=true, right_justify=0)\n",
    "global_logger(logger);"
   ]
  },
  {
   "cell_type": "markdown",
   "metadata": {},
   "source": [
    "Loading impurity quantities and constructing k grids.\n",
    "removing the @supress block activates debugging output."
   ]
  },
  {
   "cell_type": "code",
   "execution_count": 2,
   "metadata": {},
   "outputs": [
    {
     "name": "stdout",
     "output_type": "stream",
     "text": [
      "\u001b[36m\u001b[1m[ \u001b[22m\u001b[39m\u001b[36m\u001b[1mInfo: \u001b[22m\u001b[39mReading Inputs...\n",
      "\u001b[33m\u001b[1m[ \u001b[22m\u001b[39m\u001b[33m\u001b[1mWarning: \u001b[22m\u001b[39mTODO: check beta consistency, config <-> g0man, chi_dir <-> gamma dir\n",
      "\u001b[36m\u001b[1m┌ \u001b[22m\u001b[39m\u001b[36m\u001b[1mInfo: \u001b[22m\u001b[39mInputs Read. Starting Computation.\n",
      "\u001b[36m\u001b[1m│ \u001b[22m\u001b[39mFound usable intervals for local susceptibility of length \n",
      "\u001b[36m\u001b[1m│ \u001b[22m\u001b[39m  sp: 11\n",
      "\u001b[36m\u001b[1m│ \u001b[22m\u001b[39m  ch: 11 \n",
      "\u001b[36m\u001b[1m└ \u001b[22m\u001b[39m  χLoc_sp = 0.2694, χLoc_ch = 0.093\n",
      "\u001b[36m\u001b[1m[ \u001b[22m\u001b[39m\u001b[36m\u001b[1mInfo: \u001b[22m\u001b[39mReading Inputs...\n",
      "\u001b[33m\u001b[1m[ \u001b[22m\u001b[39m\u001b[33m\u001b[1mWarning: \u001b[22m\u001b[39mTODO: check beta consistency, config <-> g0man, chi_dir <-> gamma dir\n"
     ]
    },
    {
     "name": "stderr",
     "output_type": "stream",
     "text": [
      "Improved sums usually require at least 30 positive fermionic frequencies\n"
     ]
    },
    {
     "name": "stdout",
     "output_type": "stream",
     "text": [
      "\u001b[36m\u001b[1m┌ \u001b[22m\u001b[39m\u001b[36m\u001b[1mInfo: \u001b[22m\u001b[39mInputs Read. Starting Computation.\n",
      "\u001b[36m\u001b[1m│ \u001b[22m\u001b[39mFound usable intervals for local susceptibility of length \n",
      "\u001b[36m\u001b[1m│ \u001b[22m\u001b[39m  sp: 39\n",
      "\u001b[36m\u001b[1m│ \u001b[22m\u001b[39m  ch: 39 \n",
      "\u001b[36m\u001b[1m└ \u001b[22m\u001b[39m  χLoc_sp = 0.333, χLoc_ch = 0.1353\n"
     ]
    }
   ],
   "source": [
    "mP, sP, env, kGrids, qGrids, qGridLoc, freqRed_map, freqList, freqList_min, parents, ops, nFermi, nBose, shift, base, offset = readConfig(cfg_file)\n",
    "kG = kGrids[1]\n",
    "qG = qGrids[1]\n",
    "νGrid, sumHelper_f, impQ_sp, impQ_ch, GImp_fft, GLoc_fft, Σ_loc, FUpDo, gImp, gLoc = setup_LDGA(kG, freqList, mP, sP, env);\n",
    "\n",
    "mP2, sP2, env2, kGrids, qGrids, qGridLoc, freqRed_map, freqList, freqList_min, parents, ops, nFermi, nBose, shift, base, offset = readConfig(cfg_file2)\n",
    "νGrid2, sumHelper_f2, impQ_sp2, impQ_ch2, GImp_fft2, GLoc_fft2, Σ_loc2, FUpDo2, gImp2, gLoc2 = setup_LDGA(kG, freqList, mP2, sP2, env2);"
   ]
  },
  {
   "cell_type": "markdown",
   "metadata": {},
   "source": [
    "# Lambda charge solutions investigation"
   ]
  },
  {
   "cell_type": "code",
   "execution_count": 3,
   "metadata": {},
   "outputs": [],
   "source": [
    "# \"local\" correction quantities\n",
    "bubbleLoc = calc_bubble(νGrid, GImp_fft, qGridLoc, mP, sP);\n",
    "locQ_sp = calc_χ_trilex(impQ_sp.Γ, bubbleLoc, qGridLoc, νGrid, sumHelper_f, mP.U, mP, sP);\n",
    "locQ_ch = calc_χ_trilex(impQ_ch.Γ, bubbleLoc, qGridLoc, νGrid, sumHelper_f, -mP.U, mP, sP);\n",
    "Σ_ladderLoc = calc_Σ(locQ_sp, locQ_ch, bubbleLoc, GImp_fft, FUpDo,\n",
    "                     qGridLoc, sumHelper_f, mP, sP)\n",
    "Σ_ladderLoc = Σ_ladderLoc .+ mP.n * mP.U/2.0;"
   ]
  },
  {
   "cell_type": "code",
   "execution_count": 4,
   "metadata": {},
   "outputs": [],
   "source": [
    "# non local quantities \n",
    "bubble = calc_bubble(νGrid, GLoc_fft, qG, mP, sP);\n",
    "nlQ_sp = calc_χ_trilex(impQ_sp.Γ, bubble, qG, νGrid, sumHelper_f, mP.U, mP, sP);\n",
    "nlQ_ch = calc_χ_trilex(impQ_ch.Γ, bubble, qG, νGrid, sumHelper_f, -mP.U, mP, sP);"
   ]
  },
  {
   "cell_type": "code",
   "execution_count": 5,
   "metadata": {},
   "outputs": [],
   "source": [
    "# non local quantities \n",
    "bubble2 = calc_bubble(νGrid, GLoc_fft2, qG, mP2, sP2);\n",
    "nlQ_sp2 = calc_χ_trilex(impQ_sp2.Γ, bubble2, qG, νGrid, sumHelper_f2, mP2.U, mP2, sP2);\n",
    "nlQ_ch2 = calc_χ_trilex(impQ_ch2.Γ, bubble2, qG, νGrid, sumHelper_f2, -mP2.U, mP2, sP2);"
   ]
  },
  {
   "cell_type": "code",
   "execution_count": 6,
   "metadata": {},
   "outputs": [
    {
     "data": {
      "text/plain": [
       "0.40643248827942396 + 3.31761772851172e-10im"
      ]
     },
     "execution_count": 6,
     "metadata": {},
     "output_type": "execute_result"
    }
   ],
   "source": [
    "sh_1 = LadderDGA.get_sum_helper(nlQ_sp.usable_ω, sP, :b)\n",
    "sh_12 = LadderDGA.get_sum_helper(nlQ_sp2.usable_ω, sP2, :b)\n",
    "χspw = LadderDGA.sum_freq(LadderDGA.kintegrate(qG, nlQ_sp.χ[nlQ_sp.usable_ω,:], dim=2)[:,1], [1], sh_1, mP.β)[1]\n",
    "χspw2 = LadderDGA.sum_freq(LadderDGA.kintegrate(qG, nlQ_sp2.χ[nlQ_sp2.usable_ω,:], dim=2)[:,1], [1], sh_1, mP2.β)[1]\n",
    "\n",
    "#plot(nlQ_sp.usable_ω, real(impQ_sp.χ_ω[impQ_sp.usable_ω]))\n",
    "#plot!(nlQ_sp2.usable_ω, real(impQ_sp2.χ_ω[impQ_sp2.usable_ω]))"
   ]
  },
  {
   "cell_type": "code",
   "execution_count": 7,
   "metadata": {
    "scrolled": false
   },
   "outputs": [
    {
     "ename": "LoadError",
     "evalue": "UndefVarError: χspw_1 not defined",
     "output_type": "error",
     "traceback": [
      "UndefVarError: χspw_1 not defined",
      "",
      "Stacktrace:",
      " [1] top-level scope",
      "   @ In[7]:1",
      " [2] eval",
      "   @ ./boot.jl:360 [inlined]",
      " [3] include_string(mapexpr::typeof(REPL.softscope), mod::Module, code::String, filename::String)",
      "   @ Base ./loading.jl:1094"
     ]
    }
   ],
   "source": [
    "println(\"$χspw_1 vs $χspw_2\\n $χspw2_1 vs $χspw2_2\")"
   ]
  },
  {
   "cell_type": "code",
   "execution_count": 8,
   "metadata": {},
   "outputs": [
    {
     "data": {
      "text/plain": [
       "0.09156755883093239 - 9.868527280589635e-10im"
      ]
     },
     "execution_count": 8,
     "metadata": {},
     "output_type": "execute_result"
    }
   ],
   "source": [
    "t = LadderDGA.kintegrate(qG, nlQ_ch.χ[nlQ_ch.usable_ω,:], dim=2)[:,1]\n",
    "sum(t)/mP.β"
   ]
  },
  {
   "cell_type": "code",
   "execution_count": 9,
   "metadata": {},
   "outputs": [
    {
     "data": {
      "text/plain": [
       "56-element Vector{ComplexF64}:\n",
       " 0.30713102951828797 - 9.101865238330009e-9im\n",
       "  0.3085023340336088 - 9.242142734908256e-9im\n",
       " 0.30979429753055787 - 9.370588676496339e-9im\n",
       "  0.3111398393241447 - 9.507064541303324e-9im\n",
       " 0.31207232908691246 - 9.61069333017046e-9im\n",
       " 0.31338744326209617 - 9.742793353645136e-9im\n",
       "  0.3147657670766201 - 9.884322016660573e-9im\n",
       "  0.3170169029040071 - 1.0121532387434774e-8im\n",
       "  0.3185193303083442 - 1.0281964610247877e-8im\n",
       "  0.3225386226582701 - 1.0721047209330773e-8im\n",
       "  0.3170717150763653 - 1.0167313863678116e-8im\n",
       "  0.3183977576670436 - 1.03018871811057e-8im\n",
       " 0.31981870268512025 - 1.0450834945503191e-8im\n",
       "                     ⋮\n",
       "  0.3490318092053462 - 1.410469582248591e-8im\n",
       " 0.33325251096110653 - 1.1775512078537724e-8im\n",
       "  0.3361645948337168 - 1.21671821971728e-8im\n",
       " 0.34427899537864415 - 1.3312438775146559e-8im\n",
       " 0.35537477659286865 - 1.5008004427673952e-8im\n",
       " 0.36528447602397596 - 1.6649846646684367e-8im\n",
       "  0.3335862867699872 - 1.1743345472114592e-8im\n",
       "    0.33677398109406 - 1.2179855532265516e-8im\n",
       " 0.34533952466437323 - 1.3400035096074102e-8im\n",
       " 0.35759520583115095 - 1.531937551159459e-8im\n",
       "  0.3692670394338095 - 1.7342507969116934e-8im\n",
       " 0.37428494498241516 - 1.8273255156721337e-8im"
      ]
     },
     "execution_count": 9,
     "metadata": {},
     "output_type": "execute_result"
    }
   ],
   "source": [
    "nlQ_ch.χ[21,:]"
   ]
  },
  {
   "cell_type": "code",
   "execution_count": 10,
   "metadata": {},
   "outputs": [
    {
     "name": "stdout",
     "output_type": "stream",
     "text": [
      "\u001b[36m\u001b[1m┌ \u001b[22m\u001b[39m\u001b[36m\u001b[1mInfo: \u001b[22m\u001b[39mComputing λsp corrected χsp, using \n",
      "\u001b[36m\u001b[1m│ \u001b[22m\u001b[39m  sP.χFillType = lambda_χ_fill::ChiFillType = 1\n",
      "\u001b[36m\u001b[1m└ \u001b[22m\u001b[39m   as fill value outside usable ω range. = \" as fill value outside usable ω range.\"\n",
      "\u001b[33m\u001b[1m[ \u001b[22m\u001b[39m\u001b[33m\u001b[1mWarning: \u001b[22m\u001b[39mcurrently using min(usable_sp, usable_ch) = min(16:26,16:26) = 16:26 for all calculations. relax this?\n",
      "\u001b[36m\u001b[1m┌ \u001b[22m\u001b[39m\u001b[36m\u001b[1mInfo: \u001b[22m\u001b[39mFound usable intervals for non-local susceptibility of length \n",
      "\u001b[36m\u001b[1m│ \u001b[22m\u001b[39msp: 16:26, length: 11\n",
      "\u001b[36m\u001b[1m│ \u001b[22m\u001b[39mch: 16:26, length: 11\n",
      "\u001b[36m\u001b[1m│ \u001b[22m\u001b[39musable: 16:26, length: 11\n",
      "\u001b[36m\u001b[1m└ \u001b[22m\u001b[39mχch sum = 0.09156755883093241, rhs = 0.2708218428967729\n",
      "\u001b[36m\u001b[1m┌ \u001b[22m\u001b[39m\u001b[36m\u001b[1mInfo: \u001b[22m\u001b[39mfound \n",
      "\u001b[36m\u001b[1m│ \u001b[22m\u001b[39m  χ_min = -0.09234595363892281\n",
      "\u001b[36m\u001b[1m└ \u001b[22m\u001b[39m  \". Looking for roots in intervall $(int)\" = \". Looking for roots in intervall [-0.09234595363892281, 1.8469190727784563]\"\n",
      "\u001b[36m\u001b[1m┌ \u001b[22m\u001b[39m\u001b[36m\u001b[1mInfo: \u001b[22m\u001b[39mMethod 2 root:\n",
      "\u001b[36m\u001b[1m│ \u001b[22m\u001b[39m  r2 =\n",
      "\u001b[36m\u001b[1m│ \u001b[22m\u001b[39m   1-element Vector{Float64}:\n",
      "\u001b[36m\u001b[1m└ \u001b[22m\u001b[39m    0.027052600629195987\n",
      "\u001b[36m\u001b[1m┌ \u001b[22m\u001b[39m\u001b[36m\u001b[1mInfo: \u001b[22m\u001b[39mFound λsp \n",
      "\u001b[36m\u001b[1m└ \u001b[22m\u001b[39m  λsp_old = 0.02705260062919599\n",
      "\u001b[36m\u001b[1m[ \u001b[22m\u001b[39m\u001b[36m\u001b[1mInfo: \u001b[22m\u001b[39mnew lambda correction: λsp=0.0 and λch=0.0\n"
     ]
    },
    {
     "data": {
      "text/plain": [
       "(0.02705260062919599, [0.0, 0.0], [-0.09234595363892281, 1.8469190727784563], [-Inf, Inf])"
      ]
     },
     "execution_count": 10,
     "metadata": {},
     "output_type": "execute_result"
    }
   ],
   "source": [
    "λ_sp, λ_spch  = λ_correction!(impQ_sp, impQ_ch, FUpDo, Σ_loc, Σ_ladderLoc, nlQ_sp, nlQ_ch, bubble, GLoc_fft, qG, νGrid, mP, sP)"
   ]
  },
  {
   "cell_type": "code",
   "execution_count": 11,
   "metadata": {},
   "outputs": [
    {
     "name": "stdout",
     "output_type": "stream",
     "text": [
      "\u001b[36m\u001b[1m┌ \u001b[22m\u001b[39m\u001b[36m\u001b[1mInfo: \u001b[22m\u001b[39mComputing λsp corrected χsp, using \n",
      "\u001b[36m\u001b[1m│ \u001b[22m\u001b[39m  sP.χFillType = lambda_χ_fill::ChiFillType = 1\n",
      "\u001b[36m\u001b[1m└ \u001b[22m\u001b[39m   as fill value outside usable ω range. = \" as fill value outside usable ω range.\"\n",
      "\u001b[33m\u001b[1m[ \u001b[22m\u001b[39m\u001b[33m\u001b[1mWarning: \u001b[22m\u001b[39mcurrently using min(usable_sp, usable_ch) = min(8:34,20:22) = 20:22 for all calculations. relax this?\n",
      "\u001b[36m\u001b[1m┌ \u001b[22m\u001b[39m\u001b[36m\u001b[1mInfo: \u001b[22m\u001b[39mFound usable intervals for non-local susceptibility of length \n",
      "\u001b[36m\u001b[1m│ \u001b[22m\u001b[39msp: 8:34, length: 27\n",
      "\u001b[36m\u001b[1m│ \u001b[22m\u001b[39mch: 20:22, length: 3\n",
      "\u001b[36m\u001b[1m│ \u001b[22m\u001b[39musable: 20:22, length: 3\n",
      "\u001b[36m\u001b[1m└ \u001b[22m\u001b[39mχch sum = 0.09812683406118317, rhs = 0.40187316593881683\n",
      "\u001b[36m\u001b[1m┌ \u001b[22m\u001b[39m\u001b[36m\u001b[1mInfo: \u001b[22m\u001b[39mfound \n",
      "\u001b[36m\u001b[1m│ \u001b[22m\u001b[39m  χ_min = -0.08685623337297707\n",
      "\u001b[36m\u001b[1m└ \u001b[22m\u001b[39m  \". Looking for roots in intervall $(int)\" = \". Looking for roots in intervall [-0.08685623337297707, 1.7371246674595415]\"\n",
      "\u001b[36m\u001b[1m┌ \u001b[22m\u001b[39m\u001b[36m\u001b[1mInfo: \u001b[22m\u001b[39mMethod 2 root:\n",
      "\u001b[36m\u001b[1m└ \u001b[22m\u001b[39m  r2 = Float64[]\n",
      "\u001b[36m\u001b[1m┌ \u001b[22m\u001b[39m\u001b[36m\u001b[1mInfo: \u001b[22m\u001b[39mFound λsp \n",
      "\u001b[36m\u001b[1m└ \u001b[22m\u001b[39m  λsp_old = -0.0778628112070026\n",
      "\u001b[36m\u001b[1m[ \u001b[22m\u001b[39m\u001b[36m\u001b[1mInfo: \u001b[22m\u001b[39mnew lambda correction: λsp=0.0 and λch=0.0\n"
     ]
    },
    {
     "data": {
      "text/plain": [
       "(-0.0778628112070026, [0.0, 0.0], [-0.08685623337297707, 1.7371246674595415], [-Inf, Inf])"
      ]
     },
     "execution_count": 11,
     "metadata": {},
     "output_type": "execute_result"
    }
   ],
   "source": [
    "λ_sp2, λ_spch2  = λ_correction!(impQ_sp2, impQ_ch2, FUpDo2, Σ_loc2, Σ_ladderLoc, nlQ_sp2, nlQ_ch2, bubble2, GLoc_fft2, qG, νGrid, mP2, sP2)"
   ]
  },
  {
   "cell_type": "code",
   "execution_count": 12,
   "metadata": {},
   "outputs": [
    {
     "name": "stdout",
     "output_type": "stream",
     "text": [
      "usable range: 16:26 vs 20:22\n",
      "χupup_nc=0.18119470086385267 - 3.6045744458787965e-10im\n",
      "χupup_rc=0.24999999999999986 + 6.795440166709241e-10im\n",
      "lambda Float64[] vs [0.05930897564105357]\n"
     ]
    }
   ],
   "source": [
    "using Roots\n",
    "\n",
    "get_sum_helper = LadderDGA.get_sum_helper\n",
    "kintegrate = LadderDGA.kintegrate\n",
    "sum_freq = LadderDGA.sum_freq\n",
    "χ_λ(χ::AbstractArray, λ::Union{Float64}) = map(χi -> 1.0 / ((1.0 / χi) + λ), χ)\n",
    "kGrid = qG\n",
    "β = mP.β\n",
    "\n",
    "\n",
    "sh = get_sum_helper(nlQ_ch.usable_ω, sP, :b)\n",
    "χch_ω = kintegrate(kGrid, nlQ_ch.χ, dim=2)[:,1]\n",
    "χch_sum = real(sum_freq(χch_ω[nlQ_ch.usable_ω], [1], sh, mP.β)[1])\n",
    "rhs1 = mP.n * (1 - mP.n/2) - χch_sum\n",
    "rhs2 = real(impQ_ch.χ_loc + impQ_sp.χ_loc - χch_sum)\n",
    "usable_ω = intersect(nlQ_sp.usable_ω, nlQ_ch.usable_ω)\n",
    "sh = get_sum_helper(usable_ω, sP, :b)\n",
    "χupup_sum = sum_freq(kintegrate(kGrid, 0.5 .* (nlQ_ch.χ[usable_ω,:] .+ nlQ_sp.χ[usable_ω,:]), dim=2)[:,1], [1], sh, mP.β)[1]\n",
    "\n",
    "\n",
    "sh_2 = get_sum_helper(nlQ_ch2.usable_ω, sP2, :b)\n",
    "χch_ω_2 = kintegrate(kGrid, nlQ_ch2.χ, dim=2)[:,1]\n",
    "χch_sum_2 = real(sum_freq(χch_ω_2[nlQ_ch2.usable_ω], [1], sh_2, mP2.β)[1])\n",
    "rhs1_2 = mP.n * (1 - mP.n/2) - χch_sum_2\n",
    "rhs2_2 = real(impQ_ch2.χ_loc + impQ_sp2.χ_loc - χch_sum_2)\n",
    "usable_ω_2 = intersect(nlQ_sp2.usable_ω, nlQ_ch2.usable_ω)\n",
    "sh_2 = get_sum_helper(usable_ω_2, sP2, :b)\n",
    "χupup_sum_2 = sum_freq(kintegrate(kGrid, 0.5 .* (nlQ_ch2.χ[usable_ω_2,:] .+ nlQ_sp2.χ[usable_ω_2,:]), dim=2)[:,1], [1], sh_2, mP2.β)[1]\n",
    "\n",
    "println(\"usable range: $usable_ω vs $usable_ω_2\\nχupup_nc=$χupup_sum\\nχupup_rc=$χupup_sum_2\")\n",
    "\n",
    "χ_in = nlQ_sp.χ\n",
    "usable_ω_i = nlQ_sp.usable_ω\n",
    "χr    = real.(χ_in[usable_ω_i,:])\n",
    "sh = get_sum_helper(usable_ω_i, sP, :b)\n",
    "f(λint) = sum_freq(kintegrate(kGrid, χ_λ(χr, λint), dim=2)[:,1], [1], sh, β)[1] - rhs2\n",
    "df(λint) = sum_freq(kintegrate(kGrid, -χ_λ(χr, λint) .^ 2, dim=2)[:,1], [1], sh, β)[1]\n",
    "r2 = find_zeros(f, 0.02, 20.0, verbose=true)\n",
    "\n",
    "χ_in = nlQ_sp2.χ\n",
    "usable_ω_i = nlQ_sp2.usable_ω\n",
    "χr    = real.(χ_in[usable_ω_i,:])\n",
    "sh = get_sum_helper(usable_ω_i, sP2, :b)\n",
    "f(λint) = sum_freq(kintegrate(kGrid, χ_λ(χr, λint), dim=2)[:,1], [1], sh, β)[1] - rhs1\n",
    "df(λint) = sum_freq(kintegrate(kGrid, -χ_λ(χr, λint) .^ 2, dim=2)[:,1], [1], sh, β)[1]\n",
    "r22 = find_zeros(f, 0.02, 20.0, verbose=true)\n",
    "\n",
    "println(\"lambda $r2 vs $r22\")"
   ]
  },
  {
   "cell_type": "code",
   "execution_count": 13,
   "metadata": {},
   "outputs": [
    {
     "data": {
      "image/svg+xml": [
       "<?xml version=\"1.0\" encoding=\"utf-8\"?>\n",
       "<svg xmlns=\"http://www.w3.org/2000/svg\" xmlns:xlink=\"http://www.w3.org/1999/xlink\" width=\"600\" height=\"400\" viewBox=\"0 0 2400 1600\">\n",
       "<defs>\n",
       "  <clipPath id=\"clip710\">\n",
       "    <rect x=\"0\" y=\"0\" width=\"2400\" height=\"1600\"/>\n",
       "  </clipPath>\n",
       "</defs>\n",
       "<path clip-path=\"url(#clip710)\" d=\"\n",
       "M0 1600 L2400 1600 L2400 0 L0 0  Z\n",
       "  \" fill=\"#ffffff\" fill-rule=\"evenodd\" fill-opacity=\"1\"/>\n",
       "<defs>\n",
       "  <clipPath id=\"clip711\">\n",
       "    <rect x=\"480\" y=\"0\" width=\"1681\" height=\"1600\"/>\n",
       "  </clipPath>\n",
       "</defs>\n",
       "<path clip-path=\"url(#clip710)\" d=\"\n",
       "M156.112 1486.45 L2352.76 1486.45 L2352.76 47.2441 L156.112 47.2441  Z\n",
       "  \" fill=\"#ffffff\" fill-rule=\"evenodd\" fill-opacity=\"1\"/>\n",
       "<defs>\n",
       "  <clipPath id=\"clip712\">\n",
       "    <rect x=\"156\" y=\"47\" width=\"2198\" height=\"1440\"/>\n",
       "  </clipPath>\n",
       "</defs>\n",
       "<polyline clip-path=\"url(#clip712)\" style=\"stroke:#000000; stroke-width:2; stroke-opacity:0.1; fill:none\" points=\"\n",
       "  529.127,1486.45 529.127,47.2441 \n",
       "  \"/>\n",
       "<polyline clip-path=\"url(#clip712)\" style=\"stroke:#000000; stroke-width:2; stroke-opacity:0.1; fill:none\" points=\"\n",
       "  1047.2,1486.45 1047.2,47.2441 \n",
       "  \"/>\n",
       "<polyline clip-path=\"url(#clip712)\" style=\"stroke:#000000; stroke-width:2; stroke-opacity:0.1; fill:none\" points=\"\n",
       "  1565.28,1486.45 1565.28,47.2441 \n",
       "  \"/>\n",
       "<polyline clip-path=\"url(#clip712)\" style=\"stroke:#000000; stroke-width:2; stroke-opacity:0.1; fill:none\" points=\"\n",
       "  2083.36,1486.45 2083.36,47.2441 \n",
       "  \"/>\n",
       "<polyline clip-path=\"url(#clip710)\" style=\"stroke:#000000; stroke-width:4; stroke-opacity:1; fill:none\" points=\"\n",
       "  156.112,1486.45 2352.76,1486.45 \n",
       "  \"/>\n",
       "<polyline clip-path=\"url(#clip710)\" style=\"stroke:#000000; stroke-width:4; stroke-opacity:1; fill:none\" points=\"\n",
       "  529.127,1486.45 529.127,1469.18 \n",
       "  \"/>\n",
       "<polyline clip-path=\"url(#clip710)\" style=\"stroke:#000000; stroke-width:4; stroke-opacity:1; fill:none\" points=\"\n",
       "  1047.2,1486.45 1047.2,1469.18 \n",
       "  \"/>\n",
       "<polyline clip-path=\"url(#clip710)\" style=\"stroke:#000000; stroke-width:4; stroke-opacity:1; fill:none\" points=\"\n",
       "  1565.28,1486.45 1565.28,1469.18 \n",
       "  \"/>\n",
       "<polyline clip-path=\"url(#clip710)\" style=\"stroke:#000000; stroke-width:4; stroke-opacity:1; fill:none\" points=\"\n",
       "  2083.36,1486.45 2083.36,1469.18 \n",
       "  \"/>\n",
       "<path clip-path=\"url(#clip710)\" d=\"M 0 0 M481.697 1543.18 L489.336 1543.18 L489.336 1516.82 L481.026 1518.49 L481.026 1514.23 L489.289 1512.56 L493.965 1512.56 L493.965 1543.18 L501.604 1543.18 L501.604 1547.12 L481.697 1547.12 L481.697 1543.18 Z\" fill=\"#000000\" fill-rule=\"evenodd\" fill-opacity=\"1\" /><path clip-path=\"url(#clip710)\" d=\"M 0 0 M509.868 1512.56 L532.09 1512.56 L532.09 1514.55 L519.544 1547.12 L514.66 1547.12 L526.465 1516.5 L509.868 1516.5 L509.868 1512.56 Z\" fill=\"#000000\" fill-rule=\"evenodd\" fill-opacity=\"1\" /><path clip-path=\"url(#clip710)\" d=\"M 0 0 M541.21 1541.24 L546.095 1541.24 L546.095 1547.12 L541.21 1547.12 L541.21 1541.24 Z\" fill=\"#000000\" fill-rule=\"evenodd\" fill-opacity=\"1\" /><path clip-path=\"url(#clip710)\" d=\"M 0 0 M556.326 1512.56 L574.682 1512.56 L574.682 1516.5 L560.608 1516.5 L560.608 1524.97 Q561.627 1524.62 562.645 1524.46 Q563.664 1524.27 564.682 1524.27 Q570.469 1524.27 573.849 1527.44 Q577.229 1530.62 577.229 1536.03 Q577.229 1541.61 573.756 1544.71 Q570.284 1547.79 563.965 1547.79 Q561.789 1547.79 559.52 1547.42 Q557.275 1547.05 554.868 1546.31 L554.868 1541.61 Q556.951 1542.74 559.173 1543.3 Q561.395 1543.86 563.872 1543.86 Q567.877 1543.86 570.215 1541.75 Q572.553 1539.64 572.553 1536.03 Q572.553 1532.42 570.215 1530.31 Q567.877 1528.21 563.872 1528.21 Q561.997 1528.21 560.122 1528.62 Q558.27 1529.04 556.326 1529.92 L556.326 1512.56 Z\" fill=\"#000000\" fill-rule=\"evenodd\" fill-opacity=\"1\" /><path clip-path=\"url(#clip710)\" d=\"M 0 0 M1003.36 1543.18 L1019.68 1543.18 L1019.68 1547.12 L997.736 1547.12 L997.736 1543.18 Q1000.4 1540.43 1004.98 1535.8 Q1009.59 1531.15 1010.77 1529.81 Q1013.01 1527.28 1013.89 1525.55 Q1014.8 1523.79 1014.8 1522.1 Q1014.8 1519.34 1012.85 1517.61 Q1010.93 1515.87 1007.83 1515.87 Q1005.63 1515.87 1003.18 1516.63 Q1000.75 1517.4 997.968 1518.95 L997.968 1514.23 Q1000.79 1513.09 1003.25 1512.51 Q1005.7 1511.93 1007.74 1511.93 Q1013.11 1511.93 1016.3 1514.62 Q1019.5 1517.31 1019.5 1521.8 Q1019.5 1523.93 1018.69 1525.85 Q1017.9 1527.74 1015.79 1530.34 Q1015.21 1531.01 1012.11 1534.23 Q1009.01 1537.42 1003.36 1543.18 Z\" fill=\"#000000\" fill-rule=\"evenodd\" fill-opacity=\"1\" /><path clip-path=\"url(#clip710)\" d=\"M 0 0 M1039.5 1515.64 Q1035.88 1515.64 1034.06 1519.2 Q1032.25 1522.75 1032.25 1529.87 Q1032.25 1536.98 1034.06 1540.55 Q1035.88 1544.09 1039.5 1544.09 Q1043.13 1544.09 1044.93 1540.55 Q1046.76 1536.98 1046.76 1529.87 Q1046.76 1522.75 1044.93 1519.2 Q1043.13 1515.64 1039.5 1515.64 M1039.5 1511.93 Q1045.31 1511.93 1048.36 1516.54 Q1051.44 1521.12 1051.44 1529.87 Q1051.44 1538.6 1048.36 1543.21 Q1045.31 1547.79 1039.5 1547.79 Q1033.69 1547.79 1030.61 1543.21 Q1027.55 1538.6 1027.55 1529.87 Q1027.55 1521.12 1030.61 1516.54 Q1033.69 1511.93 1039.5 1511.93 Z\" fill=\"#000000\" fill-rule=\"evenodd\" fill-opacity=\"1\" /><path clip-path=\"url(#clip710)\" d=\"M 0 0 M1059.66 1541.24 L1064.54 1541.24 L1064.54 1547.12 L1059.66 1547.12 L1059.66 1541.24 Z\" fill=\"#000000\" fill-rule=\"evenodd\" fill-opacity=\"1\" /><path clip-path=\"url(#clip710)\" d=\"M 0 0 M1084.73 1515.64 Q1081.12 1515.64 1079.29 1519.2 Q1077.48 1522.75 1077.48 1529.87 Q1077.48 1536.98 1079.29 1540.55 Q1081.12 1544.09 1084.73 1544.09 Q1088.36 1544.09 1090.17 1540.55 Q1091.99 1536.98 1091.99 1529.87 Q1091.99 1522.75 1090.17 1519.2 Q1088.36 1515.64 1084.73 1515.64 M1084.73 1511.93 Q1090.54 1511.93 1093.59 1516.54 Q1096.67 1521.12 1096.67 1529.87 Q1096.67 1538.6 1093.59 1543.21 Q1090.54 1547.79 1084.73 1547.79 Q1078.92 1547.79 1075.84 1543.21 Q1072.78 1538.6 1072.78 1529.87 Q1072.78 1521.12 1075.84 1516.54 Q1078.92 1511.93 1084.73 1511.93 Z\" fill=\"#000000\" fill-rule=\"evenodd\" fill-opacity=\"1\" /><path clip-path=\"url(#clip710)\" d=\"M 0 0 M1521.94 1543.18 L1538.25 1543.18 L1538.25 1547.12 L1516.31 1547.12 L1516.31 1543.18 Q1518.97 1540.43 1523.56 1535.8 Q1528.16 1531.15 1529.34 1529.81 Q1531.59 1527.28 1532.47 1525.55 Q1533.37 1523.79 1533.37 1522.1 Q1533.37 1519.34 1531.43 1517.61 Q1529.5 1515.87 1526.4 1515.87 Q1524.2 1515.87 1521.75 1516.63 Q1519.32 1517.4 1516.54 1518.95 L1516.54 1514.23 Q1519.37 1513.09 1521.82 1512.51 Q1524.27 1511.93 1526.31 1511.93 Q1531.68 1511.93 1534.87 1514.62 Q1538.07 1517.31 1538.07 1521.8 Q1538.07 1523.93 1537.26 1525.85 Q1536.47 1527.74 1534.37 1530.34 Q1533.79 1531.01 1530.69 1534.23 Q1527.58 1537.42 1521.94 1543.18 Z\" fill=\"#000000\" fill-rule=\"evenodd\" fill-opacity=\"1\" /><path clip-path=\"url(#clip710)\" d=\"M 0 0 M1552.1 1543.18 L1568.42 1543.18 L1568.42 1547.12 L1546.47 1547.12 L1546.47 1543.18 Q1549.13 1540.43 1553.72 1535.8 Q1558.32 1531.15 1559.5 1529.81 Q1561.75 1527.28 1562.63 1525.55 Q1563.53 1523.79 1563.53 1522.1 Q1563.53 1519.34 1561.59 1517.61 Q1559.67 1515.87 1556.56 1515.87 Q1554.37 1515.87 1551.91 1516.63 Q1549.48 1517.4 1546.7 1518.95 L1546.7 1514.23 Q1549.53 1513.09 1551.98 1512.51 Q1554.43 1511.93 1556.47 1511.93 Q1561.84 1511.93 1565.04 1514.62 Q1568.23 1517.31 1568.23 1521.8 Q1568.23 1523.93 1567.42 1525.85 Q1566.63 1527.74 1564.53 1530.34 Q1563.95 1531.01 1560.85 1534.23 Q1557.75 1537.42 1552.1 1543.18 Z\" fill=\"#000000\" fill-rule=\"evenodd\" fill-opacity=\"1\" /><path clip-path=\"url(#clip710)\" d=\"M 0 0 M1578.23 1541.24 L1583.12 1541.24 L1583.12 1547.12 L1578.23 1547.12 L1578.23 1541.24 Z\" fill=\"#000000\" fill-rule=\"evenodd\" fill-opacity=\"1\" /><path clip-path=\"url(#clip710)\" d=\"M 0 0 M1593.35 1512.56 L1611.7 1512.56 L1611.7 1516.5 L1597.63 1516.5 L1597.63 1524.97 Q1598.65 1524.62 1599.67 1524.46 Q1600.68 1524.27 1601.7 1524.27 Q1607.49 1524.27 1610.87 1527.44 Q1614.25 1530.62 1614.25 1536.03 Q1614.25 1541.61 1610.78 1544.71 Q1607.31 1547.79 1600.99 1547.79 Q1598.81 1547.79 1596.54 1547.42 Q1594.3 1547.05 1591.89 1546.31 L1591.89 1541.61 Q1593.97 1542.74 1596.19 1543.3 Q1598.42 1543.86 1600.89 1543.86 Q1604.9 1543.86 1607.24 1541.75 Q1609.57 1539.64 1609.57 1536.03 Q1609.57 1532.42 1607.24 1530.31 Q1604.9 1528.21 1600.89 1528.21 Q1599.02 1528.21 1597.14 1528.62 Q1595.29 1529.04 1593.35 1529.92 L1593.35 1512.56 Z\" fill=\"#000000\" fill-rule=\"evenodd\" fill-opacity=\"1\" /><path clip-path=\"url(#clip710)\" d=\"M 0 0 M2039.51 1543.18 L2055.83 1543.18 L2055.83 1547.12 L2033.89 1547.12 L2033.89 1543.18 Q2036.55 1540.43 2041.13 1535.8 Q2045.74 1531.15 2046.92 1529.81 Q2049.17 1527.28 2050.05 1525.55 Q2050.95 1523.79 2050.95 1522.1 Q2050.95 1519.34 2049 1517.61 Q2047.08 1515.87 2043.98 1515.87 Q2041.78 1515.87 2039.33 1516.63 Q2036.9 1517.4 2034.12 1518.95 L2034.12 1514.23 Q2036.94 1513.09 2039.4 1512.51 Q2041.85 1511.93 2043.89 1511.93 Q2049.26 1511.93 2052.45 1514.62 Q2055.65 1517.31 2055.65 1521.8 Q2055.65 1523.93 2054.84 1525.85 Q2054.05 1527.74 2051.94 1530.34 Q2051.37 1531.01 2048.26 1534.23 Q2045.16 1537.42 2039.51 1543.18 Z\" fill=\"#000000\" fill-rule=\"evenodd\" fill-opacity=\"1\" /><path clip-path=\"url(#clip710)\" d=\"M 0 0 M2065.69 1512.56 L2084.05 1512.56 L2084.05 1516.5 L2069.98 1516.5 L2069.98 1524.97 Q2071 1524.62 2072.01 1524.46 Q2073.03 1524.27 2074.05 1524.27 Q2079.84 1524.27 2083.22 1527.44 Q2086.6 1530.62 2086.6 1536.03 Q2086.6 1541.61 2083.12 1544.71 Q2079.65 1547.79 2073.33 1547.79 Q2071.16 1547.79 2068.89 1547.42 Q2066.64 1547.05 2064.24 1546.31 L2064.24 1541.61 Q2066.32 1542.74 2068.54 1543.3 Q2070.76 1543.86 2073.24 1543.86 Q2077.25 1543.86 2079.58 1541.75 Q2081.92 1539.64 2081.92 1536.03 Q2081.92 1532.42 2079.58 1530.31 Q2077.25 1528.21 2073.24 1528.21 Q2071.37 1528.21 2069.49 1528.62 Q2067.64 1529.04 2065.69 1529.92 L2065.69 1512.56 Z\" fill=\"#000000\" fill-rule=\"evenodd\" fill-opacity=\"1\" /><path clip-path=\"url(#clip710)\" d=\"M 0 0 M2095.81 1541.24 L2100.69 1541.24 L2100.69 1547.12 L2095.81 1547.12 L2095.81 1541.24 Z\" fill=\"#000000\" fill-rule=\"evenodd\" fill-opacity=\"1\" /><path clip-path=\"url(#clip710)\" d=\"M 0 0 M2120.88 1515.64 Q2117.27 1515.64 2115.44 1519.2 Q2113.63 1522.75 2113.63 1529.87 Q2113.63 1536.98 2115.44 1540.55 Q2117.27 1544.09 2120.88 1544.09 Q2124.51 1544.09 2126.32 1540.55 Q2128.15 1536.98 2128.15 1529.87 Q2128.15 1522.75 2126.32 1519.2 Q2124.51 1515.64 2120.88 1515.64 M2120.88 1511.93 Q2126.69 1511.93 2129.74 1516.54 Q2132.82 1521.12 2132.82 1529.87 Q2132.82 1538.6 2129.74 1543.21 Q2126.69 1547.79 2120.88 1547.79 Q2115.07 1547.79 2111.99 1543.21 Q2108.93 1538.6 2108.93 1529.87 Q2108.93 1521.12 2111.99 1516.54 Q2115.07 1511.93 2120.88 1511.93 Z\" fill=\"#000000\" fill-rule=\"evenodd\" fill-opacity=\"1\" /><polyline clip-path=\"url(#clip712)\" style=\"stroke:#000000; stroke-width:2; stroke-opacity:0.1; fill:none\" points=\"\n",
       "  156.112,1482.44 2352.76,1482.44 \n",
       "  \"/>\n",
       "<polyline clip-path=\"url(#clip712)\" style=\"stroke:#000000; stroke-width:2; stroke-opacity:0.1; fill:none\" points=\"\n",
       "  156.112,1073.93 2352.76,1073.93 \n",
       "  \"/>\n",
       "<polyline clip-path=\"url(#clip712)\" style=\"stroke:#000000; stroke-width:2; stroke-opacity:0.1; fill:none\" points=\"\n",
       "  156.112,665.43 2352.76,665.43 \n",
       "  \"/>\n",
       "<polyline clip-path=\"url(#clip712)\" style=\"stroke:#000000; stroke-width:2; stroke-opacity:0.1; fill:none\" points=\"\n",
       "  156.112,256.926 2352.76,256.926 \n",
       "  \"/>\n",
       "<polyline clip-path=\"url(#clip710)\" style=\"stroke:#000000; stroke-width:4; stroke-opacity:1; fill:none\" points=\"\n",
       "  156.112,1486.45 156.112,47.2441 \n",
       "  \"/>\n",
       "<polyline clip-path=\"url(#clip710)\" style=\"stroke:#000000; stroke-width:4; stroke-opacity:1; fill:none\" points=\"\n",
       "  156.112,1482.44 182.472,1482.44 \n",
       "  \"/>\n",
       "<polyline clip-path=\"url(#clip710)\" style=\"stroke:#000000; stroke-width:4; stroke-opacity:1; fill:none\" points=\"\n",
       "  156.112,1073.93 182.472,1073.93 \n",
       "  \"/>\n",
       "<polyline clip-path=\"url(#clip710)\" style=\"stroke:#000000; stroke-width:4; stroke-opacity:1; fill:none\" points=\"\n",
       "  156.112,665.43 182.472,665.43 \n",
       "  \"/>\n",
       "<polyline clip-path=\"url(#clip710)\" style=\"stroke:#000000; stroke-width:4; stroke-opacity:1; fill:none\" points=\"\n",
       "  156.112,256.926 182.472,256.926 \n",
       "  \"/>\n",
       "<path clip-path=\"url(#clip710)\" d=\"M 0 0 M62.9365 1468.24 Q59.3254 1468.24 57.4967 1471.8 Q55.6912 1475.34 55.6912 1482.47 Q55.6912 1489.58 57.4967 1493.14 Q59.3254 1496.68 62.9365 1496.68 Q66.5707 1496.68 68.3763 1493.14 Q70.205 1489.58 70.205 1482.47 Q70.205 1475.34 68.3763 1471.8 Q66.5707 1468.24 62.9365 1468.24 M62.9365 1464.53 Q68.7467 1464.53 71.8022 1469.14 Q74.8809 1473.72 74.8809 1482.47 Q74.8809 1491.2 71.8022 1495.81 Q68.7467 1500.39 62.9365 1500.39 Q57.1264 1500.39 54.0477 1495.81 Q50.9921 1491.2 50.9921 1482.47 Q50.9921 1473.72 54.0477 1469.14 Q57.1264 1464.53 62.9365 1464.53 Z\" fill=\"#000000\" fill-rule=\"evenodd\" fill-opacity=\"1\" /><path clip-path=\"url(#clip710)\" d=\"M 0 0 M83.0984 1493.84 L87.9827 1493.84 L87.9827 1499.72 L83.0984 1499.72 L83.0984 1493.84 Z\" fill=\"#000000\" fill-rule=\"evenodd\" fill-opacity=\"1\" /><path clip-path=\"url(#clip710)\" d=\"M 0 0 M108.168 1468.24 Q104.557 1468.24 102.728 1471.8 Q100.922 1475.34 100.922 1482.47 Q100.922 1489.58 102.728 1493.14 Q104.557 1496.68 108.168 1496.68 Q111.802 1496.68 113.608 1493.14 Q115.436 1489.58 115.436 1482.47 Q115.436 1475.34 113.608 1471.8 Q111.802 1468.24 108.168 1468.24 M108.168 1464.53 Q113.978 1464.53 117.033 1469.14 Q120.112 1473.72 120.112 1482.47 Q120.112 1491.2 117.033 1495.81 Q113.978 1500.39 108.168 1500.39 Q102.358 1500.39 99.2789 1495.81 Q96.2234 1491.2 96.2234 1482.47 Q96.2234 1473.72 99.2789 1469.14 Q102.358 1464.53 108.168 1464.53 Z\" fill=\"#000000\" fill-rule=\"evenodd\" fill-opacity=\"1\" /><path clip-path=\"url(#clip710)\" d=\"M 0 0 M64.1634 1059.73 Q60.5523 1059.73 58.7236 1063.3 Q56.918 1066.84 56.918 1073.97 Q56.918 1081.07 58.7236 1084.64 Q60.5523 1088.18 64.1634 1088.18 Q67.7976 1088.18 69.6031 1084.64 Q71.4318 1081.07 71.4318 1073.97 Q71.4318 1066.84 69.6031 1063.3 Q67.7976 1059.73 64.1634 1059.73 M64.1634 1056.03 Q69.9735 1056.03 73.029 1060.64 Q76.1077 1065.22 76.1077 1073.97 Q76.1077 1082.7 73.029 1087.3 Q69.9735 1091.88 64.1634 1091.88 Q58.3532 1091.88 55.2745 1087.3 Q52.219 1082.7 52.219 1073.97 Q52.219 1065.22 55.2745 1060.64 Q58.3532 1056.03 64.1634 1056.03 Z\" fill=\"#000000\" fill-rule=\"evenodd\" fill-opacity=\"1\" /><path clip-path=\"url(#clip710)\" d=\"M 0 0 M84.3253 1085.33 L89.2095 1085.33 L89.2095 1091.21 L84.3253 1091.21 L84.3253 1085.33 Z\" fill=\"#000000\" fill-rule=\"evenodd\" fill-opacity=\"1\" /><path clip-path=\"url(#clip710)\" d=\"M 0 0 M100.205 1087.28 L107.844 1087.28 L107.844 1060.91 L99.5335 1062.58 L99.5335 1058.32 L107.797 1056.65 L112.473 1056.65 L112.473 1087.28 L120.112 1087.28 L120.112 1091.21 L100.205 1091.21 L100.205 1087.28 Z\" fill=\"#000000\" fill-rule=\"evenodd\" fill-opacity=\"1\" /><path clip-path=\"url(#clip710)\" d=\"M 0 0 M64.5337 651.229 Q60.9226 651.229 59.0939 654.794 Q57.2884 658.335 57.2884 665.465 Q57.2884 672.571 59.0939 676.136 Q60.9226 679.678 64.5337 679.678 Q68.168 679.678 69.9735 676.136 Q71.8022 672.571 71.8022 665.465 Q71.8022 658.335 69.9735 654.794 Q68.168 651.229 64.5337 651.229 M64.5337 647.525 Q70.3439 647.525 73.3994 652.132 Q76.4781 656.715 76.4781 665.465 Q76.4781 674.192 73.3994 678.798 Q70.3439 683.381 64.5337 683.381 Q58.7236 683.381 55.6449 678.798 Q52.5893 674.192 52.5893 665.465 Q52.5893 656.715 55.6449 652.132 Q58.7236 647.525 64.5337 647.525 Z\" fill=\"#000000\" fill-rule=\"evenodd\" fill-opacity=\"1\" /><path clip-path=\"url(#clip710)\" d=\"M 0 0 M84.6956 676.83 L89.5799 676.83 L89.5799 682.71 L84.6956 682.71 L84.6956 676.83 Z\" fill=\"#000000\" fill-rule=\"evenodd\" fill-opacity=\"1\" /><path clip-path=\"url(#clip710)\" d=\"M 0 0 M103.793 678.775 L120.112 678.775 L120.112 682.71 L98.1678 682.71 L98.1678 678.775 Q100.83 676.02 105.413 671.391 Q110.02 666.738 111.2 665.395 Q113.445 662.872 114.325 661.136 Q115.228 659.377 115.228 657.687 Q115.228 654.932 113.283 653.196 Q111.362 651.46 108.26 651.46 Q106.061 651.46 103.608 652.224 Q101.177 652.988 98.3993 654.539 L98.3993 649.817 Q101.223 648.682 103.677 648.104 Q106.131 647.525 108.168 647.525 Q113.538 647.525 116.733 650.21 Q119.927 652.895 119.927 657.386 Q119.927 659.516 119.117 661.437 Q118.33 663.335 116.223 665.928 Q115.645 666.599 112.543 669.817 Q109.441 673.011 103.793 678.775 Z\" fill=\"#000000\" fill-rule=\"evenodd\" fill-opacity=\"1\" /><path clip-path=\"url(#clip710)\" d=\"M 0 0 M63.5847 242.725 Q59.9736 242.725 58.1449 246.29 Q56.3393 249.832 56.3393 256.961 Q56.3393 264.068 58.1449 267.632 Q59.9736 271.174 63.5847 271.174 Q67.2189 271.174 69.0244 267.632 Q70.8531 264.068 70.8531 256.961 Q70.8531 249.832 69.0244 246.29 Q67.2189 242.725 63.5847 242.725 M63.5847 239.021 Q69.3948 239.021 72.4503 243.628 Q75.529 248.211 75.529 256.961 Q75.529 265.688 72.4503 270.294 Q69.3948 274.878 63.5847 274.878 Q57.7745 274.878 54.6958 270.294 Q51.6403 265.688 51.6403 256.961 Q51.6403 248.211 54.6958 243.628 Q57.7745 239.021 63.5847 239.021 Z\" fill=\"#000000\" fill-rule=\"evenodd\" fill-opacity=\"1\" /><path clip-path=\"url(#clip710)\" d=\"M 0 0 M83.7466 268.327 L88.6308 268.327 L88.6308 274.206 L83.7466 274.206 L83.7466 268.327 Z\" fill=\"#000000\" fill-rule=\"evenodd\" fill-opacity=\"1\" /><path clip-path=\"url(#clip710)\" d=\"M 0 0 M112.983 255.572 Q116.339 256.29 118.214 258.558 Q120.112 260.827 120.112 264.16 Q120.112 269.276 116.594 272.077 Q113.075 274.878 106.594 274.878 Q104.418 274.878 102.103 274.438 Q99.8113 274.021 97.3576 273.165 L97.3576 268.651 Q99.3021 269.785 101.617 270.364 Q103.932 270.943 106.455 270.943 Q110.853 270.943 113.145 269.207 Q115.459 267.47 115.459 264.16 Q115.459 261.105 113.307 259.392 Q111.177 257.656 107.358 257.656 L103.33 257.656 L103.33 253.813 L107.543 253.813 Q110.992 253.813 112.82 252.447 Q114.649 251.058 114.649 248.466 Q114.649 245.804 112.751 244.392 Q110.876 242.957 107.358 242.957 Q105.436 242.957 103.237 243.373 Q101.038 243.79 98.3993 244.67 L98.3993 240.503 Q101.061 239.762 103.376 239.392 Q105.714 239.021 107.774 239.021 Q113.098 239.021 116.2 241.452 Q119.302 243.859 119.302 247.98 Q119.302 250.85 117.658 252.841 Q116.015 254.808 112.983 255.572 Z\" fill=\"#000000\" fill-rule=\"evenodd\" fill-opacity=\"1\" /><polyline clip-path=\"url(#clip712)\" style=\"stroke:#009af9; stroke-width:4; stroke-opacity:1; fill:none\" points=\"\n",
       "  218.281,1445.72 425.512,1376.25 632.742,1261.53 839.973,1060.84 1047.2,700.645 1254.43,128.158 1461.66,700.645 1668.9,1060.84 1876.13,1261.53 2083.36,1376.25 \n",
       "  2290.59,1445.72 \n",
       "  \"/>\n",
       "<polyline clip-path=\"url(#clip712)\" style=\"stroke:#e26f46; stroke-width:4; stroke-opacity:1; fill:none\" points=\"\n",
       "  1047.2,628.498 1254.43,87.9763 1461.66,628.498 \n",
       "  \"/>\n",
       "<path clip-path=\"url(#clip710)\" d=\"\n",
       "M1983.03 276.658 L2279.53 276.658 L2279.53 95.2176 L1983.03 95.2176  Z\n",
       "  \" fill=\"#ffffff\" fill-rule=\"evenodd\" fill-opacity=\"1\"/>\n",
       "<polyline clip-path=\"url(#clip710)\" style=\"stroke:#000000; stroke-width:4; stroke-opacity:1; fill:none\" points=\"\n",
       "  1983.03,276.658 2279.53,276.658 2279.53,95.2176 1983.03,95.2176 1983.03,276.658 \n",
       "  \"/>\n",
       "<polyline clip-path=\"url(#clip710)\" style=\"stroke:#009af9; stroke-width:4; stroke-opacity:1; fill:none\" points=\"\n",
       "  2007.44,155.698 2153.88,155.698 \n",
       "  \"/>\n",
       "<path clip-path=\"url(#clip710)\" d=\"M 0 0 M2192.13 175.385 Q2190.33 180.015 2188.61 181.427 Q2186.9 182.839 2184.03 182.839 L2180.63 182.839 L2180.63 179.274 L2183.13 179.274 Q2184.89 179.274 2185.86 178.44 Q2186.83 177.607 2188.01 174.505 L2188.78 172.561 L2178.29 147.052 L2182.8 147.052 L2190.91 167.329 L2199.01 147.052 L2203.52 147.052 L2192.13 175.385 Z\" fill=\"#000000\" fill-rule=\"evenodd\" fill-opacity=\"1\" /><path clip-path=\"url(#clip710)\" d=\"M 0 0 M2210.81 169.042 L2218.45 169.042 L2218.45 142.677 L2210.14 144.343 L2210.14 140.084 L2218.41 138.418 L2223.08 138.418 L2223.08 169.042 L2230.72 169.042 L2230.72 172.978 L2210.81 172.978 L2210.81 169.042 Z\" fill=\"#000000\" fill-rule=\"evenodd\" fill-opacity=\"1\" /><polyline clip-path=\"url(#clip710)\" style=\"stroke:#e26f46; stroke-width:4; stroke-opacity:1; fill:none\" points=\"\n",
       "  2007.44,216.178 2153.88,216.178 \n",
       "  \"/>\n",
       "<path clip-path=\"url(#clip710)\" d=\"M 0 0 M2192.13 235.865 Q2190.33 240.495 2188.61 241.907 Q2186.9 243.319 2184.03 243.319 L2180.63 243.319 L2180.63 239.754 L2183.13 239.754 Q2184.89 239.754 2185.86 238.92 Q2186.83 238.087 2188.01 234.985 L2188.78 233.041 L2178.29 207.532 L2182.8 207.532 L2190.91 227.809 L2199.01 207.532 L2203.52 207.532 L2192.13 235.865 Z\" fill=\"#000000\" fill-rule=\"evenodd\" fill-opacity=\"1\" /><path clip-path=\"url(#clip710)\" d=\"M 0 0 M2214.03 229.522 L2230.35 229.522 L2230.35 233.458 L2208.41 233.458 L2208.41 229.522 Q2211.07 226.768 2215.65 222.138 Q2220.26 217.485 2221.44 216.143 Q2223.68 213.62 2224.56 211.884 Q2225.47 210.124 2225.47 208.435 Q2225.47 205.68 2223.52 203.944 Q2221.6 202.208 2218.5 202.208 Q2216.3 202.208 2213.85 202.972 Q2211.41 203.735 2208.64 205.286 L2208.64 200.564 Q2211.46 199.43 2213.91 198.851 Q2216.37 198.273 2218.41 198.273 Q2223.78 198.273 2226.97 200.958 Q2230.16 203.643 2230.16 208.134 Q2230.16 210.263 2229.35 212.185 Q2228.57 214.083 2226.46 216.675 Q2225.88 217.347 2222.78 220.564 Q2219.68 223.759 2214.03 229.522 Z\" fill=\"#000000\" fill-rule=\"evenodd\" fill-opacity=\"1\" /></svg>\n"
      ]
     },
     "execution_count": 13,
     "metadata": {},
     "output_type": "execute_result"
    }
   ],
   "source": [
    "plot(usable_ω, real(χch_ω[usable_ω]))\n",
    "plot!(usable_ω_2, real(χch_ω_2[usable_ω_2]))"
   ]
  },
  {
   "cell_type": "code",
   "execution_count": 14,
   "metadata": {},
   "outputs": [
    {
     "data": {
      "text/plain": [
       "3"
      ]
     },
     "execution_count": 14,
     "metadata": {},
     "output_type": "execute_result"
    }
   ],
   "source": [
    "length(usable_ω_2)"
   ]
  },
  {
   "cell_type": "code",
   "execution_count": 15,
   "metadata": {},
   "outputs": [
    {
     "ename": "LoadError",
     "evalue": "UndefVarError: nlQ not defined",
     "output_type": "error",
     "traceback": [
      "UndefVarError: nlQ not defined",
      "",
      "Stacktrace:",
      " [1] top-level scope",
      "   @ In[15]:1",
      " [2] eval",
      "   @ ./boot.jl:360 [inlined]",
      " [3] include_string(mapexpr::typeof(REPL.softscope), mod::Module, code::String, filename::String)",
      "   @ Base ./loading.jl:1094"
     ]
    }
   ],
   "source": [
    "χupup_1 = nlQ"
   ]
  },
  {
   "cell_type": "code",
   "execution_count": 16,
   "metadata": {},
   "outputs": [
    {
     "data": {
      "text/plain": [
       "(41, 56, 40)"
      ]
     },
     "execution_count": 16,
     "metadata": {},
     "output_type": "execute_result"
    }
   ],
   "source": [
    "size(bubble)"
   ]
  },
  {
   "cell_type": "code",
   "execution_count": null,
   "metadata": {},
   "outputs": [],
   "source": []
  }
 ],
 "metadata": {
  "kernelspec": {
   "display_name": "Julia 1.6.0",
   "language": "julia",
   "name": "julia-1.6"
  },
  "language_info": {
   "file_extension": ".jl",
   "mimetype": "application/julia",
   "name": "julia",
   "version": "1.6.0"
  }
 },
 "nbformat": 4,
 "nbformat_minor": 4
}
