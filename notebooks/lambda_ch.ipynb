{
 "cells": [
  {
   "cell_type": "code",
   "execution_count": 1,
   "metadata": {},
   "outputs": [
    {
     "name": "stderr",
     "output_type": "stream",
     "text": [
      "┌ Info: Precompiling LadderDGA [78e40beb-bf89-4c0e-9d2b-bee278912f2b]\n",
      "└ @ Base loading.jl:1317\n"
     ]
    }
   ],
   "source": [
    "using HDF5\n",
    "using Plots\n",
    "using LadderDGA\n",
    "using Suppressor\n",
    "using Logging\n",
    "\n",
    "#path_to_input = \"/home/julian/Hamburg/lDGA_shift_tests/data/20_20_s0_b12_u1.0\"\n",
    "#path_to_output = \"$(@__DIR__)/../../lDGA_test_runs\"\n",
    "cfg_file = \"$(@__DIR__)/../../lDGA_test_runs/config.toml\"\n",
    "cfg_file2 = \"$(@__DIR__)/../../lDGA_test_runs/config2.toml\"\n",
    "\n",
    "empty!(ARGS);\n",
    "#push!(ARGS,path_to_input);\n",
    "#push!(ARGS,path_to_output);\n",
    "#include(\"../scripts/triqs_conv.jl\");\n",
    "\n",
    "io = stdout\n",
    "metafmt(level::Logging.LogLevel, _module, group, id, file, line) = Logging.default_metafmt(level, nothing, group,     id, nothing, nothing)\n",
    "logger = ConsoleLogger(io, Logging.Info, meta_formatter=metafmt, show_limited=true, right_justify=0)\n",
    "global_logger(logger);"
   ]
  },
  {
   "cell_type": "markdown",
   "metadata": {},
   "source": [
    "Loading impurity quantities and constructing k grids.\n",
    "removing the @supress block activates debugging output."
   ]
  },
  {
   "cell_type": "code",
   "execution_count": 2,
   "metadata": {},
   "outputs": [
    {
     "name": "stdout",
     "output_type": "stream",
     "text": [
      "\u001b[36m\u001b[1m[ \u001b[22m\u001b[39m\u001b[36m\u001b[1mInfo: \u001b[22m\u001b[39mReading Inputs...\n",
      "\u001b[33m\u001b[1m[ \u001b[22m\u001b[39m\u001b[33m\u001b[1mWarning: \u001b[22m\u001b[39mTODO: check beta consistency, config <-> g0man, chi_dir <-> gamma dir\n",
      "\u001b[36m\u001b[1m[ \u001b[22m\u001b[39m\u001b[36m\u001b[1mInfo: \u001b[22m\u001b[39mComputing kinetic energie for improved bosonic sums.\n",
      "\u001b[36m\u001b[1m┌ \u001b[22m\u001b[39m\u001b[36m\u001b[1mInfo: \u001b[22m\u001b[39mInputs Read. Starting Computation.\n",
      "\u001b[36m\u001b[1m│ \u001b[22m\u001b[39mLocal susceptibilities iwth ranges are:\n",
      "\u001b[36m\u001b[1m│ \u001b[22m\u001b[39mχLoc_sp(16:26) = 0.2694, χLoc_ch(16:26) = 0.093 \n",
      "\u001b[36m\u001b[1m└ \u001b[22m\u001b[39msum χupup check (normal/improved sum, tail sub sum, expected): 0.1811947008638526 ?≈? 0.21805433867068705 ?≈? 0.25\"\n",
      "\u001b[36m\u001b[1m[ \u001b[22m\u001b[39m\u001b[36m\u001b[1mInfo: \u001b[22m\u001b[39mReading Inputs...\n",
      "\u001b[33m\u001b[1m[ \u001b[22m\u001b[39m\u001b[33m\u001b[1mWarning: \u001b[22m\u001b[39mTODO: check beta consistency, config <-> g0man, chi_dir <-> gamma dir\n",
      "\u001b[36m\u001b[1m[ \u001b[22m\u001b[39m\u001b[36m\u001b[1mInfo: \u001b[22m\u001b[39mComputing kinetic energie for improved bosonic sums.\n",
      "\u001b[36m\u001b[1m┌ \u001b[22m\u001b[39m\u001b[36m\u001b[1mInfo: \u001b[22m\u001b[39mInputs Read. Starting Computation.\n",
      "\u001b[36m\u001b[1m│ \u001b[22m\u001b[39mLocal susceptibilities iwth ranges are:\n",
      "\u001b[36m\u001b[1m│ \u001b[22m\u001b[39mχLoc_sp(16:26) = 0.2696, χLoc_ch(16:26) = 0.0932 \n",
      "\u001b[36m\u001b[1m└ \u001b[22m\u001b[39msum χupup check (normal/improved sum, tail sub sum, expected): 0.1813620894231569 ?≈? 0.21822172722999142 ?≈? 0.25\"\n"
     ]
    }
   ],
   "source": [
    "mP, sP, env, kGrids, qGrids, qGridLoc, freqRed_map, freqList, freqList_min, parents, ops, nFermi, nBose, shift, base, offset = readConfig(cfg_file)\n",
    "kG = kGrids[1]\n",
    "qG = qGrids[1]\n",
    "νGrid, sumHelper_f, impQ_sp, impQ_ch, GImp_fft, GLoc_fft, Σ_loc, FUpDo, gImp, gLoc = setup_LDGA(kG, freqList, mP, sP, env);\n",
    "\n",
    "mP2, sP2, env2, kGrids, qGrids, qGridLoc, freqRed_map, freqList, freqList_min, parents, ops, nFermi, nBose, shift, base, offset = readConfig(cfg_file2)\n",
    "νGrid2, sumHelper_f2, impQ_sp2, impQ_ch2, GImp_fft2, GLoc_fft2, Σ_loc2, FUpDo2, gImp2, gLoc2 = setup_LDGA(kG, freqList, mP2, sP2, env2);"
   ]
  },
  {
   "cell_type": "markdown",
   "metadata": {},
   "source": [
    "# Lambda charge solutions investigation"
   ]
  },
  {
   "cell_type": "code",
   "execution_count": 3,
   "metadata": {},
   "outputs": [],
   "source": [
    "# \"local\" correction quantities\n",
    "bubbleLoc = calc_bubble(νGrid, GImp_fft, qGridLoc, mP, sP);\n",
    "locQ_sp = calc_χ_trilex(impQ_sp.Γ, bubbleLoc, qGridLoc, νGrid, sumHelper_f, mP.U, mP, sP);\n",
    "locQ_ch = calc_χ_trilex(impQ_ch.Γ, bubbleLoc, qGridLoc, νGrid, sumHelper_f, -mP.U, mP, sP);\n",
    "Σ_ladderLoc = calc_Σ(locQ_sp, locQ_ch, bubbleLoc, GImp_fft, FUpDo,\n",
    "                     qGridLoc, sumHelper_f, mP, sP)\n",
    "Σ_ladderLoc = Σ_ladderLoc .+ mP.n * mP.U/2.0;"
   ]
  },
  {
   "cell_type": "code",
   "execution_count": 4,
   "metadata": {},
   "outputs": [],
   "source": [
    "# non local quantities \n",
    "bubble = calc_bubble(νGrid, GLoc_fft, qG, mP, sP);\n",
    "nlQ_sp = calc_χ_trilex(impQ_sp.Γ, bubble, qG, νGrid, sumHelper_f, mP.U, mP, sP);\n",
    "nlQ_ch = calc_χ_trilex(impQ_ch.Γ, bubble, qG, νGrid, sumHelper_f, -mP.U, mP, sP);"
   ]
  },
  {
   "cell_type": "code",
   "execution_count": 5,
   "metadata": {},
   "outputs": [],
   "source": [
    "# non local quantities \n",
    "bubble2 = calc_bubble(νGrid, GLoc_fft2, qG, mP2, sP2);\n",
    "nlQ_sp2 = calc_χ_trilex(impQ_sp2.Γ, bubble2, qG, νGrid, sumHelper_f2, mP2.U, mP2, sP2);\n",
    "nlQ_ch2 = calc_χ_trilex(impQ_ch2.Γ, bubble2, qG, νGrid, sumHelper_f2, -mP2.U, mP2, sP2);"
   ]
  },
  {
   "cell_type": "code",
   "execution_count": 7,
   "metadata": {},
   "outputs": [
    {
     "data": {
      "text/plain": [
       "0.32781753487133564 + 3.2408353554056115e-10im"
      ]
     },
     "execution_count": 7,
     "metadata": {},
     "output_type": "execute_result"
    }
   ],
   "source": [
    "sh_1 = LadderDGA.get_sum_helper(nlQ_sp.usable_ω, sP, :b)\n",
    "sh_12 = LadderDGA.get_sum_helper(nlQ_sp2.usable_ω, sP2, :b)\n",
    "χspw = LadderDGA.sum_freq(LadderDGA.kintegrate(qG, nlQ_sp.χ[nlQ_sp.usable_ω,:], dim=2)[:,1], [1], sh_1, mP.β)[1]\n",
    "χspw2 = LadderDGA.sum_freq(LadderDGA.kintegrate(qG, nlQ_sp2.χ[nlQ_sp2.usable_ω,:], dim=2)[:,1], [1], sh_1, mP2.β)[1]\n",
    "\n",
    "#plot(nlQ_sp.usable_ω, real(impQ_sp.χ_ω[impQ_sp.usable_ω]))\n",
    "#plot!(nlQ_sp2.usable_ω, real(impQ_sp2.χ_ω[impQ_sp2.usable_ω]))"
   ]
  },
  {
   "cell_type": "code",
   "execution_count": 8,
   "metadata": {
    "scrolled": false
   },
   "outputs": [
    {
     "name": "stdout",
     "output_type": "stream",
     "text": [
      "0.2823154879418364 + 3.232691029215959e-10im vs 0.32781753487133564 + 3.2408353554056115e-10im\n"
     ]
    }
   ],
   "source": [
    "println(\"$χspw vs $χspw2\")"
   ]
  },
  {
   "cell_type": "code",
   "execution_count": 15,
   "metadata": {},
   "outputs": [
    {
     "data": {
      "image/svg+xml": [
       "<?xml version=\"1.0\" encoding=\"utf-8\"?>\n",
       "<svg xmlns=\"http://www.w3.org/2000/svg\" xmlns:xlink=\"http://www.w3.org/1999/xlink\" width=\"600\" height=\"400\" viewBox=\"0 0 2400 1600\">\n",
       "<defs>\n",
       "  <clipPath id=\"clip670\">\n",
       "    <rect x=\"0\" y=\"0\" width=\"2400\" height=\"1600\"/>\n",
       "  </clipPath>\n",
       "</defs>\n",
       "<path clip-path=\"url(#clip670)\" d=\"\n",
       "M0 1600 L2400 1600 L2400 0 L0 0  Z\n",
       "  \" fill=\"#ffffff\" fill-rule=\"evenodd\" fill-opacity=\"1\"/>\n",
       "<defs>\n",
       "  <clipPath id=\"clip671\">\n",
       "    <rect x=\"480\" y=\"0\" width=\"1681\" height=\"1600\"/>\n",
       "  </clipPath>\n",
       "</defs>\n",
       "<path clip-path=\"url(#clip670)\" d=\"\n",
       "M156.112 1486.45 L2352.76 1486.45 L2352.76 47.2441 L156.112 47.2441  Z\n",
       "  \" fill=\"#ffffff\" fill-rule=\"evenodd\" fill-opacity=\"1\"/>\n",
       "<defs>\n",
       "  <clipPath id=\"clip672\">\n",
       "    <rect x=\"156\" y=\"47\" width=\"2198\" height=\"1440\"/>\n",
       "  </clipPath>\n",
       "</defs>\n",
       "<polyline clip-path=\"url(#clip672)\" style=\"stroke:#000000; stroke-width:2; stroke-opacity:0.1; fill:none\" points=\"\n",
       "  529.127,1486.45 529.127,47.2441 \n",
       "  \"/>\n",
       "<polyline clip-path=\"url(#clip672)\" style=\"stroke:#000000; stroke-width:2; stroke-opacity:0.1; fill:none\" points=\"\n",
       "  1047.2,1486.45 1047.2,47.2441 \n",
       "  \"/>\n",
       "<polyline clip-path=\"url(#clip672)\" style=\"stroke:#000000; stroke-width:2; stroke-opacity:0.1; fill:none\" points=\"\n",
       "  1565.28,1486.45 1565.28,47.2441 \n",
       "  \"/>\n",
       "<polyline clip-path=\"url(#clip672)\" style=\"stroke:#000000; stroke-width:2; stroke-opacity:0.1; fill:none\" points=\"\n",
       "  2083.36,1486.45 2083.36,47.2441 \n",
       "  \"/>\n",
       "<polyline clip-path=\"url(#clip670)\" style=\"stroke:#000000; stroke-width:4; stroke-opacity:1; fill:none\" points=\"\n",
       "  156.112,1486.45 2352.76,1486.45 \n",
       "  \"/>\n",
       "<polyline clip-path=\"url(#clip670)\" style=\"stroke:#000000; stroke-width:4; stroke-opacity:1; fill:none\" points=\"\n",
       "  529.127,1486.45 529.127,1469.18 \n",
       "  \"/>\n",
       "<polyline clip-path=\"url(#clip670)\" style=\"stroke:#000000; stroke-width:4; stroke-opacity:1; fill:none\" points=\"\n",
       "  1047.2,1486.45 1047.2,1469.18 \n",
       "  \"/>\n",
       "<polyline clip-path=\"url(#clip670)\" style=\"stroke:#000000; stroke-width:4; stroke-opacity:1; fill:none\" points=\"\n",
       "  1565.28,1486.45 1565.28,1469.18 \n",
       "  \"/>\n",
       "<polyline clip-path=\"url(#clip670)\" style=\"stroke:#000000; stroke-width:4; stroke-opacity:1; fill:none\" points=\"\n",
       "  2083.36,1486.45 2083.36,1469.18 \n",
       "  \"/>\n",
       "<path clip-path=\"url(#clip670)\" d=\"M 0 0 M481.697 1543.18 L489.336 1543.18 L489.336 1516.82 L481.026 1518.49 L481.026 1514.23 L489.289 1512.56 L493.965 1512.56 L493.965 1543.18 L501.604 1543.18 L501.604 1547.12 L481.697 1547.12 L481.697 1543.18 Z\" fill=\"#000000\" fill-rule=\"evenodd\" fill-opacity=\"1\" /><path clip-path=\"url(#clip670)\" d=\"M 0 0 M509.868 1512.56 L532.09 1512.56 L532.09 1514.55 L519.544 1547.12 L514.66 1547.12 L526.465 1516.5 L509.868 1516.5 L509.868 1512.56 Z\" fill=\"#000000\" fill-rule=\"evenodd\" fill-opacity=\"1\" /><path clip-path=\"url(#clip670)\" d=\"M 0 0 M541.21 1541.24 L546.095 1541.24 L546.095 1547.12 L541.21 1547.12 L541.21 1541.24 Z\" fill=\"#000000\" fill-rule=\"evenodd\" fill-opacity=\"1\" /><path clip-path=\"url(#clip670)\" d=\"M 0 0 M556.326 1512.56 L574.682 1512.56 L574.682 1516.5 L560.608 1516.5 L560.608 1524.97 Q561.627 1524.62 562.645 1524.46 Q563.664 1524.27 564.682 1524.27 Q570.469 1524.27 573.849 1527.44 Q577.229 1530.62 577.229 1536.03 Q577.229 1541.61 573.756 1544.71 Q570.284 1547.79 563.965 1547.79 Q561.789 1547.79 559.52 1547.42 Q557.275 1547.05 554.868 1546.31 L554.868 1541.61 Q556.951 1542.74 559.173 1543.3 Q561.395 1543.86 563.872 1543.86 Q567.877 1543.86 570.215 1541.75 Q572.553 1539.64 572.553 1536.03 Q572.553 1532.42 570.215 1530.31 Q567.877 1528.21 563.872 1528.21 Q561.997 1528.21 560.122 1528.62 Q558.27 1529.04 556.326 1529.92 L556.326 1512.56 Z\" fill=\"#000000\" fill-rule=\"evenodd\" fill-opacity=\"1\" /><path clip-path=\"url(#clip670)\" d=\"M 0 0 M1003.36 1543.18 L1019.68 1543.18 L1019.68 1547.12 L997.736 1547.12 L997.736 1543.18 Q1000.4 1540.43 1004.98 1535.8 Q1009.59 1531.15 1010.77 1529.81 Q1013.01 1527.28 1013.89 1525.55 Q1014.8 1523.79 1014.8 1522.1 Q1014.8 1519.34 1012.85 1517.61 Q1010.93 1515.87 1007.83 1515.87 Q1005.63 1515.87 1003.18 1516.63 Q1000.75 1517.4 997.968 1518.95 L997.968 1514.23 Q1000.79 1513.09 1003.25 1512.51 Q1005.7 1511.93 1007.74 1511.93 Q1013.11 1511.93 1016.3 1514.62 Q1019.5 1517.31 1019.5 1521.8 Q1019.5 1523.93 1018.69 1525.85 Q1017.9 1527.74 1015.79 1530.34 Q1015.21 1531.01 1012.11 1534.23 Q1009.01 1537.42 1003.36 1543.18 Z\" fill=\"#000000\" fill-rule=\"evenodd\" fill-opacity=\"1\" /><path clip-path=\"url(#clip670)\" d=\"M 0 0 M1039.5 1515.64 Q1035.88 1515.64 1034.06 1519.2 Q1032.25 1522.75 1032.25 1529.87 Q1032.25 1536.98 1034.06 1540.55 Q1035.88 1544.09 1039.5 1544.09 Q1043.13 1544.09 1044.93 1540.55 Q1046.76 1536.98 1046.76 1529.87 Q1046.76 1522.75 1044.93 1519.2 Q1043.13 1515.64 1039.5 1515.64 M1039.5 1511.93 Q1045.31 1511.93 1048.36 1516.54 Q1051.44 1521.12 1051.44 1529.87 Q1051.44 1538.6 1048.36 1543.21 Q1045.31 1547.79 1039.5 1547.79 Q1033.69 1547.79 1030.61 1543.21 Q1027.55 1538.6 1027.55 1529.87 Q1027.55 1521.12 1030.61 1516.54 Q1033.69 1511.93 1039.5 1511.93 Z\" fill=\"#000000\" fill-rule=\"evenodd\" fill-opacity=\"1\" /><path clip-path=\"url(#clip670)\" d=\"M 0 0 M1059.66 1541.24 L1064.54 1541.24 L1064.54 1547.12 L1059.66 1547.12 L1059.66 1541.24 Z\" fill=\"#000000\" fill-rule=\"evenodd\" fill-opacity=\"1\" /><path clip-path=\"url(#clip670)\" d=\"M 0 0 M1084.73 1515.64 Q1081.12 1515.64 1079.29 1519.2 Q1077.48 1522.75 1077.48 1529.87 Q1077.48 1536.98 1079.29 1540.55 Q1081.12 1544.09 1084.73 1544.09 Q1088.36 1544.09 1090.17 1540.55 Q1091.99 1536.98 1091.99 1529.87 Q1091.99 1522.75 1090.17 1519.2 Q1088.36 1515.64 1084.73 1515.64 M1084.73 1511.93 Q1090.54 1511.93 1093.59 1516.54 Q1096.67 1521.12 1096.67 1529.87 Q1096.67 1538.6 1093.59 1543.21 Q1090.54 1547.79 1084.73 1547.79 Q1078.92 1547.79 1075.84 1543.21 Q1072.78 1538.6 1072.78 1529.87 Q1072.78 1521.12 1075.84 1516.54 Q1078.92 1511.93 1084.73 1511.93 Z\" fill=\"#000000\" fill-rule=\"evenodd\" fill-opacity=\"1\" /><path clip-path=\"url(#clip670)\" d=\"M 0 0 M1521.94 1543.18 L1538.25 1543.18 L1538.25 1547.12 L1516.31 1547.12 L1516.31 1543.18 Q1518.97 1540.43 1523.56 1535.8 Q1528.16 1531.15 1529.34 1529.81 Q1531.59 1527.28 1532.47 1525.55 Q1533.37 1523.79 1533.37 1522.1 Q1533.37 1519.34 1531.43 1517.61 Q1529.5 1515.87 1526.4 1515.87 Q1524.2 1515.87 1521.75 1516.63 Q1519.32 1517.4 1516.54 1518.95 L1516.54 1514.23 Q1519.37 1513.09 1521.82 1512.51 Q1524.27 1511.93 1526.31 1511.93 Q1531.68 1511.93 1534.87 1514.62 Q1538.07 1517.31 1538.07 1521.8 Q1538.07 1523.93 1537.26 1525.85 Q1536.47 1527.74 1534.37 1530.34 Q1533.79 1531.01 1530.69 1534.23 Q1527.58 1537.42 1521.94 1543.18 Z\" fill=\"#000000\" fill-rule=\"evenodd\" fill-opacity=\"1\" /><path clip-path=\"url(#clip670)\" d=\"M 0 0 M1552.1 1543.18 L1568.42 1543.18 L1568.42 1547.12 L1546.47 1547.12 L1546.47 1543.18 Q1549.13 1540.43 1553.72 1535.8 Q1558.32 1531.15 1559.5 1529.81 Q1561.75 1527.28 1562.63 1525.55 Q1563.53 1523.79 1563.53 1522.1 Q1563.53 1519.34 1561.59 1517.61 Q1559.67 1515.87 1556.56 1515.87 Q1554.37 1515.87 1551.91 1516.63 Q1549.48 1517.4 1546.7 1518.95 L1546.7 1514.23 Q1549.53 1513.09 1551.98 1512.51 Q1554.43 1511.93 1556.47 1511.93 Q1561.84 1511.93 1565.04 1514.62 Q1568.23 1517.31 1568.23 1521.8 Q1568.23 1523.93 1567.42 1525.85 Q1566.63 1527.74 1564.53 1530.34 Q1563.95 1531.01 1560.85 1534.23 Q1557.75 1537.42 1552.1 1543.18 Z\" fill=\"#000000\" fill-rule=\"evenodd\" fill-opacity=\"1\" /><path clip-path=\"url(#clip670)\" d=\"M 0 0 M1578.23 1541.24 L1583.12 1541.24 L1583.12 1547.12 L1578.23 1547.12 L1578.23 1541.24 Z\" fill=\"#000000\" fill-rule=\"evenodd\" fill-opacity=\"1\" /><path clip-path=\"url(#clip670)\" d=\"M 0 0 M1593.35 1512.56 L1611.7 1512.56 L1611.7 1516.5 L1597.63 1516.5 L1597.63 1524.97 Q1598.65 1524.62 1599.67 1524.46 Q1600.68 1524.27 1601.7 1524.27 Q1607.49 1524.27 1610.87 1527.44 Q1614.25 1530.62 1614.25 1536.03 Q1614.25 1541.61 1610.78 1544.71 Q1607.31 1547.79 1600.99 1547.79 Q1598.81 1547.79 1596.54 1547.42 Q1594.3 1547.05 1591.89 1546.31 L1591.89 1541.61 Q1593.97 1542.74 1596.19 1543.3 Q1598.42 1543.86 1600.89 1543.86 Q1604.9 1543.86 1607.24 1541.75 Q1609.57 1539.64 1609.57 1536.03 Q1609.57 1532.42 1607.24 1530.31 Q1604.9 1528.21 1600.89 1528.21 Q1599.02 1528.21 1597.14 1528.62 Q1595.29 1529.04 1593.35 1529.92 L1593.35 1512.56 Z\" fill=\"#000000\" fill-rule=\"evenodd\" fill-opacity=\"1\" /><path clip-path=\"url(#clip670)\" d=\"M 0 0 M2039.51 1543.18 L2055.83 1543.18 L2055.83 1547.12 L2033.89 1547.12 L2033.89 1543.18 Q2036.55 1540.43 2041.13 1535.8 Q2045.74 1531.15 2046.92 1529.81 Q2049.17 1527.28 2050.05 1525.55 Q2050.95 1523.79 2050.95 1522.1 Q2050.95 1519.34 2049 1517.61 Q2047.08 1515.87 2043.98 1515.87 Q2041.78 1515.87 2039.33 1516.63 Q2036.9 1517.4 2034.12 1518.95 L2034.12 1514.23 Q2036.94 1513.09 2039.4 1512.51 Q2041.85 1511.93 2043.89 1511.93 Q2049.26 1511.93 2052.45 1514.62 Q2055.65 1517.31 2055.65 1521.8 Q2055.65 1523.93 2054.84 1525.85 Q2054.05 1527.74 2051.94 1530.34 Q2051.37 1531.01 2048.26 1534.23 Q2045.16 1537.42 2039.51 1543.18 Z\" fill=\"#000000\" fill-rule=\"evenodd\" fill-opacity=\"1\" /><path clip-path=\"url(#clip670)\" d=\"M 0 0 M2065.69 1512.56 L2084.05 1512.56 L2084.05 1516.5 L2069.98 1516.5 L2069.98 1524.97 Q2071 1524.62 2072.01 1524.46 Q2073.03 1524.27 2074.05 1524.27 Q2079.84 1524.27 2083.22 1527.44 Q2086.6 1530.62 2086.6 1536.03 Q2086.6 1541.61 2083.12 1544.71 Q2079.65 1547.79 2073.33 1547.79 Q2071.16 1547.79 2068.89 1547.42 Q2066.64 1547.05 2064.24 1546.31 L2064.24 1541.61 Q2066.32 1542.74 2068.54 1543.3 Q2070.76 1543.86 2073.24 1543.86 Q2077.25 1543.86 2079.58 1541.75 Q2081.92 1539.64 2081.92 1536.03 Q2081.92 1532.42 2079.58 1530.31 Q2077.25 1528.21 2073.24 1528.21 Q2071.37 1528.21 2069.49 1528.62 Q2067.64 1529.04 2065.69 1529.92 L2065.69 1512.56 Z\" fill=\"#000000\" fill-rule=\"evenodd\" fill-opacity=\"1\" /><path clip-path=\"url(#clip670)\" d=\"M 0 0 M2095.81 1541.24 L2100.69 1541.24 L2100.69 1547.12 L2095.81 1547.12 L2095.81 1541.24 Z\" fill=\"#000000\" fill-rule=\"evenodd\" fill-opacity=\"1\" /><path clip-path=\"url(#clip670)\" d=\"M 0 0 M2120.88 1515.64 Q2117.27 1515.64 2115.44 1519.2 Q2113.63 1522.75 2113.63 1529.87 Q2113.63 1536.98 2115.44 1540.55 Q2117.27 1544.09 2120.88 1544.09 Q2124.51 1544.09 2126.32 1540.55 Q2128.15 1536.98 2128.15 1529.87 Q2128.15 1522.75 2126.32 1519.2 Q2124.51 1515.64 2120.88 1515.64 M2120.88 1511.93 Q2126.69 1511.93 2129.74 1516.54 Q2132.82 1521.12 2132.82 1529.87 Q2132.82 1538.6 2129.74 1543.21 Q2126.69 1547.79 2120.88 1547.79 Q2115.07 1547.79 2111.99 1543.21 Q2108.93 1538.6 2108.93 1529.87 Q2108.93 1521.12 2111.99 1516.54 Q2115.07 1511.93 2120.88 1511.93 Z\" fill=\"#000000\" fill-rule=\"evenodd\" fill-opacity=\"1\" /><polyline clip-path=\"url(#clip672)\" style=\"stroke:#000000; stroke-width:2; stroke-opacity:0.1; fill:none\" points=\"\n",
       "  156.112,1323.62 2352.76,1323.62 \n",
       "  \"/>\n",
       "<polyline clip-path=\"url(#clip672)\" style=\"stroke:#000000; stroke-width:2; stroke-opacity:0.1; fill:none\" points=\"\n",
       "  156.112,950.9 2352.76,950.9 \n",
       "  \"/>\n",
       "<polyline clip-path=\"url(#clip672)\" style=\"stroke:#000000; stroke-width:2; stroke-opacity:0.1; fill:none\" points=\"\n",
       "  156.112,578.182 2352.76,578.182 \n",
       "  \"/>\n",
       "<polyline clip-path=\"url(#clip672)\" style=\"stroke:#000000; stroke-width:2; stroke-opacity:0.1; fill:none\" points=\"\n",
       "  156.112,205.464 2352.76,205.464 \n",
       "  \"/>\n",
       "<polyline clip-path=\"url(#clip670)\" style=\"stroke:#000000; stroke-width:4; stroke-opacity:1; fill:none\" points=\"\n",
       "  156.112,1486.45 156.112,47.2441 \n",
       "  \"/>\n",
       "<polyline clip-path=\"url(#clip670)\" style=\"stroke:#000000; stroke-width:4; stroke-opacity:1; fill:none\" points=\"\n",
       "  156.112,1323.62 182.472,1323.62 \n",
       "  \"/>\n",
       "<polyline clip-path=\"url(#clip670)\" style=\"stroke:#000000; stroke-width:4; stroke-opacity:1; fill:none\" points=\"\n",
       "  156.112,950.9 182.472,950.9 \n",
       "  \"/>\n",
       "<polyline clip-path=\"url(#clip670)\" style=\"stroke:#000000; stroke-width:4; stroke-opacity:1; fill:none\" points=\"\n",
       "  156.112,578.182 182.472,578.182 \n",
       "  \"/>\n",
       "<polyline clip-path=\"url(#clip670)\" style=\"stroke:#000000; stroke-width:4; stroke-opacity:1; fill:none\" points=\"\n",
       "  156.112,205.464 182.472,205.464 \n",
       "  \"/>\n",
       "<path clip-path=\"url(#clip670)\" d=\"M 0 0 M62.9365 1309.42 Q59.3254 1309.42 57.4967 1312.98 Q55.6912 1316.52 55.6912 1323.65 Q55.6912 1330.76 57.4967 1334.32 Q59.3254 1337.87 62.9365 1337.87 Q66.5707 1337.87 68.3763 1334.32 Q70.205 1330.76 70.205 1323.65 Q70.205 1316.52 68.3763 1312.98 Q66.5707 1309.42 62.9365 1309.42 M62.9365 1305.71 Q68.7467 1305.71 71.8022 1310.32 Q74.8809 1314.9 74.8809 1323.65 Q74.8809 1332.38 71.8022 1336.99 Q68.7467 1341.57 62.9365 1341.57 Q57.1264 1341.57 54.0477 1336.99 Q50.9921 1332.38 50.9921 1323.65 Q50.9921 1314.9 54.0477 1310.32 Q57.1264 1305.71 62.9365 1305.71 Z\" fill=\"#000000\" fill-rule=\"evenodd\" fill-opacity=\"1\" /><path clip-path=\"url(#clip670)\" d=\"M 0 0 M83.0984 1335.02 L87.9827 1335.02 L87.9827 1340.9 L83.0984 1340.9 L83.0984 1335.02 Z\" fill=\"#000000\" fill-rule=\"evenodd\" fill-opacity=\"1\" /><path clip-path=\"url(#clip670)\" d=\"M 0 0 M108.168 1309.42 Q104.557 1309.42 102.728 1312.98 Q100.922 1316.52 100.922 1323.65 Q100.922 1330.76 102.728 1334.32 Q104.557 1337.87 108.168 1337.87 Q111.802 1337.87 113.608 1334.32 Q115.436 1330.76 115.436 1323.65 Q115.436 1316.52 113.608 1312.98 Q111.802 1309.42 108.168 1309.42 M108.168 1305.71 Q113.978 1305.71 117.033 1310.32 Q120.112 1314.9 120.112 1323.65 Q120.112 1332.38 117.033 1336.99 Q113.978 1341.57 108.168 1341.57 Q102.358 1341.57 99.2789 1336.99 Q96.2234 1332.38 96.2234 1323.65 Q96.2234 1314.9 99.2789 1310.32 Q102.358 1305.71 108.168 1305.71 Z\" fill=\"#000000\" fill-rule=\"evenodd\" fill-opacity=\"1\" /><path clip-path=\"url(#clip670)\" d=\"M 0 0 M64.1634 936.699 Q60.5523 936.699 58.7236 940.264 Q56.918 943.805 56.918 950.935 Q56.918 958.041 58.7236 961.606 Q60.5523 965.148 64.1634 965.148 Q67.7976 965.148 69.6031 961.606 Q71.4318 958.041 71.4318 950.935 Q71.4318 943.805 69.6031 940.264 Q67.7976 936.699 64.1634 936.699 M64.1634 932.995 Q69.9735 932.995 73.029 937.602 Q76.1077 942.185 76.1077 950.935 Q76.1077 959.662 73.029 964.268 Q69.9735 968.851 64.1634 968.851 Q58.3532 968.851 55.2745 964.268 Q52.219 959.662 52.219 950.935 Q52.219 942.185 55.2745 937.602 Q58.3532 932.995 64.1634 932.995 Z\" fill=\"#000000\" fill-rule=\"evenodd\" fill-opacity=\"1\" /><path clip-path=\"url(#clip670)\" d=\"M 0 0 M84.3253 962.3 L89.2095 962.3 L89.2095 968.18 L84.3253 968.18 L84.3253 962.3 Z\" fill=\"#000000\" fill-rule=\"evenodd\" fill-opacity=\"1\" /><path clip-path=\"url(#clip670)\" d=\"M 0 0 M100.205 964.245 L107.844 964.245 L107.844 937.879 L99.5335 939.546 L99.5335 935.287 L107.797 933.62 L112.473 933.62 L112.473 964.245 L120.112 964.245 L120.112 968.18 L100.205 968.18 L100.205 964.245 Z\" fill=\"#000000\" fill-rule=\"evenodd\" fill-opacity=\"1\" /><path clip-path=\"url(#clip670)\" d=\"M 0 0 M64.5337 563.981 Q60.9226 563.981 59.0939 567.546 Q57.2884 571.087 57.2884 578.217 Q57.2884 585.323 59.0939 588.888 Q60.9226 592.43 64.5337 592.43 Q68.168 592.43 69.9735 588.888 Q71.8022 585.323 71.8022 578.217 Q71.8022 571.087 69.9735 567.546 Q68.168 563.981 64.5337 563.981 M64.5337 560.277 Q70.3439 560.277 73.3994 564.884 Q76.4781 569.467 76.4781 578.217 Q76.4781 586.944 73.3994 591.55 Q70.3439 596.134 64.5337 596.134 Q58.7236 596.134 55.6449 591.55 Q52.5893 586.944 52.5893 578.217 Q52.5893 569.467 55.6449 564.884 Q58.7236 560.277 64.5337 560.277 Z\" fill=\"#000000\" fill-rule=\"evenodd\" fill-opacity=\"1\" /><path clip-path=\"url(#clip670)\" d=\"M 0 0 M84.6956 589.583 L89.5799 589.583 L89.5799 595.462 L84.6956 595.462 L84.6956 589.583 Z\" fill=\"#000000\" fill-rule=\"evenodd\" fill-opacity=\"1\" /><path clip-path=\"url(#clip670)\" d=\"M 0 0 M103.793 591.527 L120.112 591.527 L120.112 595.462 L98.1678 595.462 L98.1678 591.527 Q100.83 588.772 105.413 584.143 Q110.02 579.49 111.2 578.148 Q113.445 575.624 114.325 573.888 Q115.228 572.129 115.228 570.439 Q115.228 567.685 113.283 565.949 Q111.362 564.212 108.26 564.212 Q106.061 564.212 103.608 564.976 Q101.177 565.74 98.3993 567.291 L98.3993 562.569 Q101.223 561.435 103.677 560.856 Q106.131 560.277 108.168 560.277 Q113.538 560.277 116.733 562.962 Q119.927 565.648 119.927 570.138 Q119.927 572.268 119.117 574.189 Q118.33 576.087 116.223 578.68 Q115.645 579.351 112.543 582.569 Q109.441 585.763 103.793 591.527 Z\" fill=\"#000000\" fill-rule=\"evenodd\" fill-opacity=\"1\" /><path clip-path=\"url(#clip670)\" d=\"M 0 0 M63.5847 191.263 Q59.9736 191.263 58.1449 194.828 Q56.3393 198.37 56.3393 205.499 Q56.3393 212.606 58.1449 216.17 Q59.9736 219.712 63.5847 219.712 Q67.2189 219.712 69.0244 216.17 Q70.8531 212.606 70.8531 205.499 Q70.8531 198.37 69.0244 194.828 Q67.2189 191.263 63.5847 191.263 M63.5847 187.559 Q69.3948 187.559 72.4503 192.166 Q75.529 196.749 75.529 205.499 Q75.529 214.226 72.4503 218.832 Q69.3948 223.416 63.5847 223.416 Q57.7745 223.416 54.6958 218.832 Q51.6403 214.226 51.6403 205.499 Q51.6403 196.749 54.6958 192.166 Q57.7745 187.559 63.5847 187.559 Z\" fill=\"#000000\" fill-rule=\"evenodd\" fill-opacity=\"1\" /><path clip-path=\"url(#clip670)\" d=\"M 0 0 M83.7466 216.865 L88.6308 216.865 L88.6308 222.744 L83.7466 222.744 L83.7466 216.865 Z\" fill=\"#000000\" fill-rule=\"evenodd\" fill-opacity=\"1\" /><path clip-path=\"url(#clip670)\" d=\"M 0 0 M112.983 204.11 Q116.339 204.828 118.214 207.096 Q120.112 209.365 120.112 212.698 Q120.112 217.814 116.594 220.615 Q113.075 223.416 106.594 223.416 Q104.418 223.416 102.103 222.976 Q99.8113 222.559 97.3576 221.703 L97.3576 217.189 Q99.3021 218.323 101.617 218.902 Q103.932 219.481 106.455 219.481 Q110.853 219.481 113.145 217.744 Q115.459 216.008 115.459 212.698 Q115.459 209.643 113.307 207.93 Q111.177 206.194 107.358 206.194 L103.33 206.194 L103.33 202.351 L107.543 202.351 Q110.992 202.351 112.82 200.985 Q114.649 199.596 114.649 197.004 Q114.649 194.342 112.751 192.93 Q110.876 191.495 107.358 191.495 Q105.436 191.495 103.237 191.911 Q101.038 192.328 98.3993 193.208 L98.3993 189.041 Q101.061 188.3 103.376 187.93 Q105.714 187.559 107.774 187.559 Q113.098 187.559 116.2 189.99 Q119.302 192.397 119.302 196.518 Q119.302 199.388 117.658 201.379 Q116.015 203.346 112.983 204.11 Z\" fill=\"#000000\" fill-rule=\"evenodd\" fill-opacity=\"1\" /><polyline clip-path=\"url(#clip672)\" style=\"stroke:#009af9; stroke-width:4; stroke-opacity:1; fill:none\" points=\"\n",
       "  218.281,1290.11 425.512,1226.74 632.742,1122.06 839.973,938.957 1047.2,610.312 1254.43,87.9763 1461.66,610.312 1668.9,938.957 1876.13,1122.06 2083.36,1226.74 \n",
       "  2290.59,1290.11 \n",
       "  \"/>\n",
       "<path clip-path=\"url(#clip672)\" d=\"M218.281 1298.11 L211.353 1294.11 L211.353 1286.11 L218.281 1282.11 L225.209 1286.11 L225.209 1294.11 Z\" fill=\"#009af9\" fill-rule=\"evenodd\" fill-opacity=\"1\" stroke=\"#000000\" stroke-opacity=\"1\" stroke-width=\"3.2\"/>\n",
       "<path clip-path=\"url(#clip672)\" d=\"M425.512 1234.74 L418.584 1230.74 L418.584 1222.74 L425.512 1218.74 L432.44 1222.74 L432.44 1230.74 Z\" fill=\"#009af9\" fill-rule=\"evenodd\" fill-opacity=\"1\" stroke=\"#000000\" stroke-opacity=\"1\" stroke-width=\"3.2\"/>\n",
       "<path clip-path=\"url(#clip672)\" d=\"M632.742 1130.06 L625.814 1126.06 L625.814 1118.06 L632.742 1114.06 L639.67 1118.06 L639.67 1126.06 Z\" fill=\"#009af9\" fill-rule=\"evenodd\" fill-opacity=\"1\" stroke=\"#000000\" stroke-opacity=\"1\" stroke-width=\"3.2\"/>\n",
       "<path clip-path=\"url(#clip672)\" d=\"M839.973 946.957 L833.045 942.957 L833.045 934.957 L839.973 930.957 L846.901 934.957 L846.901 942.957 Z\" fill=\"#009af9\" fill-rule=\"evenodd\" fill-opacity=\"1\" stroke=\"#000000\" stroke-opacity=\"1\" stroke-width=\"3.2\"/>\n",
       "<path clip-path=\"url(#clip672)\" d=\"M1047.2 618.312 L1040.28 614.312 L1040.28 606.312 L1047.2 602.312 L1054.13 606.312 L1054.13 614.312 Z\" fill=\"#009af9\" fill-rule=\"evenodd\" fill-opacity=\"1\" stroke=\"#000000\" stroke-opacity=\"1\" stroke-width=\"3.2\"/>\n",
       "<path clip-path=\"url(#clip672)\" d=\"M1254.43 95.9763 L1247.51 91.9763 L1247.51 83.9763 L1254.43 79.9763 L1261.36 83.9763 L1261.36 91.9763 Z\" fill=\"#009af9\" fill-rule=\"evenodd\" fill-opacity=\"1\" stroke=\"#000000\" stroke-opacity=\"1\" stroke-width=\"3.2\"/>\n",
       "<path clip-path=\"url(#clip672)\" d=\"M1461.66 618.312 L1454.74 614.312 L1454.74 606.312 L1461.66 602.312 L1468.59 606.312 L1468.59 614.312 Z\" fill=\"#009af9\" fill-rule=\"evenodd\" fill-opacity=\"1\" stroke=\"#000000\" stroke-opacity=\"1\" stroke-width=\"3.2\"/>\n",
       "<path clip-path=\"url(#clip672)\" d=\"M1668.9 946.957 L1661.97 942.957 L1661.97 934.957 L1668.9 930.957 L1675.82 934.957 L1675.82 942.957 Z\" fill=\"#009af9\" fill-rule=\"evenodd\" fill-opacity=\"1\" stroke=\"#000000\" stroke-opacity=\"1\" stroke-width=\"3.2\"/>\n",
       "<path clip-path=\"url(#clip672)\" d=\"M1876.13 1130.06 L1869.2 1126.06 L1869.2 1118.06 L1876.13 1114.06 L1883.05 1118.06 L1883.05 1126.06 Z\" fill=\"#009af9\" fill-rule=\"evenodd\" fill-opacity=\"1\" stroke=\"#000000\" stroke-opacity=\"1\" stroke-width=\"3.2\"/>\n",
       "<path clip-path=\"url(#clip672)\" d=\"M2083.36 1234.74 L2076.43 1230.74 L2076.43 1222.74 L2083.36 1218.74 L2090.28 1222.74 L2090.28 1230.74 Z\" fill=\"#009af9\" fill-rule=\"evenodd\" fill-opacity=\"1\" stroke=\"#000000\" stroke-opacity=\"1\" stroke-width=\"3.2\"/>\n",
       "<path clip-path=\"url(#clip672)\" d=\"M2290.59 1298.11 L2283.66 1294.11 L2283.66 1286.11 L2290.59 1282.11 L2297.51 1286.11 L2297.51 1294.11 Z\" fill=\"#009af9\" fill-rule=\"evenodd\" fill-opacity=\"1\" stroke=\"#000000\" stroke-opacity=\"1\" stroke-width=\"3.2\"/>\n",
       "<polyline clip-path=\"url(#clip672)\" style=\"stroke:#e26f46; stroke-width:4; stroke-opacity:1; fill:none\" points=\"\n",
       "  218.281,1435.36 425.512,1445.72 632.742,1330.01 839.973,1335.83 1047.2,610.312 1254.43,87.9763 1461.66,610.312 1668.9,1335.83 1876.13,1330.01 2083.36,1445.72 \n",
       "  2290.59,1435.36 \n",
       "  \"/>\n",
       "<path clip-path=\"url(#clip672)\" d=\"M210.281 1427.36 L210.281 1443.36 L226.281 1443.36 L226.281 1427.36 L210.281 1427.36 Z\" fill=\"#e26f46\" fill-rule=\"evenodd\" fill-opacity=\"1\" stroke=\"#000000\" stroke-opacity=\"1\" stroke-width=\"3.2\"/>\n",
       "<path clip-path=\"url(#clip672)\" d=\"M417.512 1437.72 L417.512 1453.72 L433.512 1453.72 L433.512 1437.72 L417.512 1437.72 Z\" fill=\"#e26f46\" fill-rule=\"evenodd\" fill-opacity=\"1\" stroke=\"#000000\" stroke-opacity=\"1\" stroke-width=\"3.2\"/>\n",
       "<path clip-path=\"url(#clip672)\" d=\"M624.742 1322.01 L624.742 1338.01 L640.742 1338.01 L640.742 1322.01 L624.742 1322.01 Z\" fill=\"#e26f46\" fill-rule=\"evenodd\" fill-opacity=\"1\" stroke=\"#000000\" stroke-opacity=\"1\" stroke-width=\"3.2\"/>\n",
       "<path clip-path=\"url(#clip672)\" d=\"M831.973 1327.83 L831.973 1343.83 L847.973 1343.83 L847.973 1327.83 L831.973 1327.83 Z\" fill=\"#e26f46\" fill-rule=\"evenodd\" fill-opacity=\"1\" stroke=\"#000000\" stroke-opacity=\"1\" stroke-width=\"3.2\"/>\n",
       "<path clip-path=\"url(#clip672)\" d=\"M1039.2 602.312 L1039.2 618.312 L1055.2 618.312 L1055.2 602.312 L1039.2 602.312 Z\" fill=\"#e26f46\" fill-rule=\"evenodd\" fill-opacity=\"1\" stroke=\"#000000\" stroke-opacity=\"1\" stroke-width=\"3.2\"/>\n",
       "<path clip-path=\"url(#clip672)\" d=\"M1246.43 79.9763 L1246.43 95.9763 L1262.43 95.9763 L1262.43 79.9763 L1246.43 79.9763 Z\" fill=\"#e26f46\" fill-rule=\"evenodd\" fill-opacity=\"1\" stroke=\"#000000\" stroke-opacity=\"1\" stroke-width=\"3.2\"/>\n",
       "<path clip-path=\"url(#clip672)\" d=\"M1453.66 602.312 L1453.66 618.312 L1469.66 618.312 L1469.66 602.312 L1453.66 602.312 Z\" fill=\"#e26f46\" fill-rule=\"evenodd\" fill-opacity=\"1\" stroke=\"#000000\" stroke-opacity=\"1\" stroke-width=\"3.2\"/>\n",
       "<path clip-path=\"url(#clip672)\" d=\"M1660.9 1327.83 L1660.9 1343.83 L1676.9 1343.83 L1676.9 1327.83 L1660.9 1327.83 Z\" fill=\"#e26f46\" fill-rule=\"evenodd\" fill-opacity=\"1\" stroke=\"#000000\" stroke-opacity=\"1\" stroke-width=\"3.2\"/>\n",
       "<path clip-path=\"url(#clip672)\" d=\"M1868.13 1322.01 L1868.13 1338.01 L1884.13 1338.01 L1884.13 1322.01 L1868.13 1322.01 Z\" fill=\"#e26f46\" fill-rule=\"evenodd\" fill-opacity=\"1\" stroke=\"#000000\" stroke-opacity=\"1\" stroke-width=\"3.2\"/>\n",
       "<path clip-path=\"url(#clip672)\" d=\"M2075.36 1437.72 L2075.36 1453.72 L2091.36 1453.72 L2091.36 1437.72 L2075.36 1437.72 Z\" fill=\"#e26f46\" fill-rule=\"evenodd\" fill-opacity=\"1\" stroke=\"#000000\" stroke-opacity=\"1\" stroke-width=\"3.2\"/>\n",
       "<path clip-path=\"url(#clip672)\" d=\"M2282.59 1427.36 L2282.59 1443.36 L2298.59 1443.36 L2298.59 1427.36 L2282.59 1427.36 Z\" fill=\"#e26f46\" fill-rule=\"evenodd\" fill-opacity=\"1\" stroke=\"#000000\" stroke-opacity=\"1\" stroke-width=\"3.2\"/>\n",
       "<path clip-path=\"url(#clip670)\" d=\"\n",
       "M1983.03 276.658 L2279.53 276.658 L2279.53 95.2176 L1983.03 95.2176  Z\n",
       "  \" fill=\"#ffffff\" fill-rule=\"evenodd\" fill-opacity=\"1\"/>\n",
       "<polyline clip-path=\"url(#clip670)\" style=\"stroke:#000000; stroke-width:4; stroke-opacity:1; fill:none\" points=\"\n",
       "  1983.03,276.658 2279.53,276.658 2279.53,95.2176 1983.03,95.2176 1983.03,276.658 \n",
       "  \"/>\n",
       "<polyline clip-path=\"url(#clip670)\" style=\"stroke:#009af9; stroke-width:4; stroke-opacity:1; fill:none\" points=\"\n",
       "  2007.44,155.698 2153.88,155.698 \n",
       "  \"/>\n",
       "<path clip-path=\"url(#clip670)\" d=\"M2080.66 181.298 L2058.49 168.498 L2058.49 142.898 L2080.66 130.098 L2102.83 142.898 L2102.83 168.498 Z\" fill=\"#009af9\" fill-rule=\"evenodd\" fill-opacity=\"1\" stroke=\"#000000\" stroke-opacity=\"1\" stroke-width=\"10.24\"/>\n",
       "<path clip-path=\"url(#clip670)\" d=\"M 0 0 M2192.13 175.385 Q2190.33 180.015 2188.61 181.427 Q2186.9 182.839 2184.03 182.839 L2180.63 182.839 L2180.63 179.274 L2183.13 179.274 Q2184.89 179.274 2185.86 178.44 Q2186.83 177.607 2188.01 174.505 L2188.78 172.561 L2178.29 147.052 L2182.8 147.052 L2190.91 167.329 L2199.01 147.052 L2203.52 147.052 L2192.13 175.385 Z\" fill=\"#000000\" fill-rule=\"evenodd\" fill-opacity=\"1\" /><path clip-path=\"url(#clip670)\" d=\"M 0 0 M2210.81 169.042 L2218.45 169.042 L2218.45 142.677 L2210.14 144.343 L2210.14 140.084 L2218.41 138.418 L2223.08 138.418 L2223.08 169.042 L2230.72 169.042 L2230.72 172.978 L2210.81 172.978 L2210.81 169.042 Z\" fill=\"#000000\" fill-rule=\"evenodd\" fill-opacity=\"1\" /><polyline clip-path=\"url(#clip670)\" style=\"stroke:#e26f46; stroke-width:4; stroke-opacity:1; fill:none\" points=\"\n",
       "  2007.44,216.178 2153.88,216.178 \n",
       "  \"/>\n",
       "<path clip-path=\"url(#clip670)\" d=\"M2055.06 190.578 L2055.06 241.778 L2106.26 241.778 L2106.26 190.578 L2055.06 190.578 Z\" fill=\"#e26f46\" fill-rule=\"evenodd\" fill-opacity=\"1\" stroke=\"#000000\" stroke-opacity=\"1\" stroke-width=\"10.24\"/>\n",
       "<path clip-path=\"url(#clip670)\" d=\"M 0 0 M2192.13 235.865 Q2190.33 240.495 2188.61 241.907 Q2186.9 243.319 2184.03 243.319 L2180.63 243.319 L2180.63 239.754 L2183.13 239.754 Q2184.89 239.754 2185.86 238.92 Q2186.83 238.087 2188.01 234.985 L2188.78 233.041 L2178.29 207.532 L2182.8 207.532 L2190.91 227.809 L2199.01 207.532 L2203.52 207.532 L2192.13 235.865 Z\" fill=\"#000000\" fill-rule=\"evenodd\" fill-opacity=\"1\" /><path clip-path=\"url(#clip670)\" d=\"M 0 0 M2214.03 229.522 L2230.35 229.522 L2230.35 233.458 L2208.41 233.458 L2208.41 229.522 Q2211.07 226.768 2215.65 222.138 Q2220.26 217.485 2221.44 216.143 Q2223.68 213.62 2224.56 211.884 Q2225.47 210.124 2225.47 208.435 Q2225.47 205.68 2223.52 203.944 Q2221.6 202.208 2218.5 202.208 Q2216.3 202.208 2213.85 202.972 Q2211.41 203.735 2208.64 205.286 L2208.64 200.564 Q2211.46 199.43 2213.91 198.851 Q2216.37 198.273 2218.41 198.273 Q2223.78 198.273 2226.97 200.958 Q2230.16 203.643 2230.16 208.134 Q2230.16 210.263 2229.35 212.185 Q2228.57 214.083 2226.46 216.675 Q2225.88 217.347 2222.78 220.564 Q2219.68 223.759 2214.03 229.522 Z\" fill=\"#000000\" fill-rule=\"evenodd\" fill-opacity=\"1\" /></svg>\n"
      ]
     },
     "execution_count": 15,
     "metadata": {},
     "output_type": "execute_result"
    }
   ],
   "source": [
    "kintegrate = LadderDGA.kintegrate\n",
    "sum_freq = LadderDGA.sum_freq\n",
    "χ_λ(χ::AbstractArray, λ::Union{Float64}) = map(χi -> 1.0 / ((1.0 / χi) + λ), χ)\n",
    "kGrid = qG\n",
    "β = mP.β\n",
    "\n",
    "sh = get_sum_helper(nlQ_ch.usable_ω, sP, :b)\n",
    "χch_ω = kintegrate(kGrid, nlQ_ch.χ, dim=2)[:,1]\n",
    "χch_sum = real(sum_freq(χch_ω[nlQ_ch.usable_ω], [1], sh, mP.β)[1])\n",
    "χsp_ω = kintegrate(kGrid, nlQ_sp.χ, dim=2)[:,1]\n",
    "χsp_sum = real(sum_freq(χsp_ω[nlQ_sp.usable_ω], [1], sh, mP.β)[1])\n",
    "usable_ω = intersect(nlQ_sp.usable_ω, nlQ_ch.usable_ω)\n",
    "\n",
    "sh_2 = get_sum_helper(nlQ_ch2.usable_ω, sP2, :b)\n",
    "χch_ω_2 = kintegrate(kGrid, nlQ_ch2.χ, dim=2)[:,1]\n",
    "χch_sum_2 = real(sum_freq(χch_ω_2[nlQ_ch2.usable_ω], [1], sh_2, mP2.β)[1])\n",
    "χsp_ω_2 = kintegrate(kGrid, nlQ_sp2.χ, dim=2)[:,1]\n",
    "χsp_sum_2 = real(sum_freq(χsp_ω_2[nlQ_sp2.usable_ω], [1], sh_2, mP2.β)[1])\n",
    "usable_ω_2 = intersect(nlQ_sp2.usable_ω, nlQ_ch2.usable_ω)\n",
    "\n",
    "plot(nlQ_ch.usable_ω, real(χch_ω[nlQ_ch.usable_ω]),markershape = :hexagon,markersize = 2)\n",
    "plot!(nlQ_ch.usable_ω, real(χch_ω_2[nlQ_ch.usable_ω]),markershape = :square,markersize = 2)"
   ]
  },
  {
   "cell_type": "code",
   "execution_count": 16,
   "metadata": {},
   "outputs": [
    {
     "data": {
      "image/svg+xml": [
       "<?xml version=\"1.0\" encoding=\"utf-8\"?>\n",
       "<svg xmlns=\"http://www.w3.org/2000/svg\" xmlns:xlink=\"http://www.w3.org/1999/xlink\" width=\"600\" height=\"400\" viewBox=\"0 0 2400 1600\">\n",
       "<defs>\n",
       "  <clipPath id=\"clip710\">\n",
       "    <rect x=\"0\" y=\"0\" width=\"2400\" height=\"1600\"/>\n",
       "  </clipPath>\n",
       "</defs>\n",
       "<path clip-path=\"url(#clip710)\" d=\"\n",
       "M0 1600 L2400 1600 L2400 0 L0 0  Z\n",
       "  \" fill=\"#ffffff\" fill-rule=\"evenodd\" fill-opacity=\"1\"/>\n",
       "<defs>\n",
       "  <clipPath id=\"clip711\">\n",
       "    <rect x=\"480\" y=\"0\" width=\"1681\" height=\"1600\"/>\n",
       "  </clipPath>\n",
       "</defs>\n",
       "<path clip-path=\"url(#clip710)\" d=\"\n",
       "M186.274 1486.45 L2352.76 1486.45 L2352.76 47.2441 L186.274 47.2441  Z\n",
       "  \" fill=\"#ffffff\" fill-rule=\"evenodd\" fill-opacity=\"1\"/>\n",
       "<defs>\n",
       "  <clipPath id=\"clip712\">\n",
       "    <rect x=\"186\" y=\"47\" width=\"2167\" height=\"1440\"/>\n",
       "  </clipPath>\n",
       "</defs>\n",
       "<polyline clip-path=\"url(#clip712)\" style=\"stroke:#000000; stroke-width:2; stroke-opacity:0.1; fill:none\" points=\"\n",
       "  503.071,1486.45 503.071,47.2441 \n",
       "  \"/>\n",
       "<polyline clip-path=\"url(#clip712)\" style=\"stroke:#000000; stroke-width:2; stroke-opacity:0.1; fill:none\" points=\"\n",
       "  886.293,1486.45 886.293,47.2441 \n",
       "  \"/>\n",
       "<polyline clip-path=\"url(#clip712)\" style=\"stroke:#000000; stroke-width:2; stroke-opacity:0.1; fill:none\" points=\"\n",
       "  1269.51,1486.45 1269.51,47.2441 \n",
       "  \"/>\n",
       "<polyline clip-path=\"url(#clip712)\" style=\"stroke:#000000; stroke-width:2; stroke-opacity:0.1; fill:none\" points=\"\n",
       "  1652.74,1486.45 1652.74,47.2441 \n",
       "  \"/>\n",
       "<polyline clip-path=\"url(#clip712)\" style=\"stroke:#000000; stroke-width:2; stroke-opacity:0.1; fill:none\" points=\"\n",
       "  2035.96,1486.45 2035.96,47.2441 \n",
       "  \"/>\n",
       "<polyline clip-path=\"url(#clip710)\" style=\"stroke:#000000; stroke-width:4; stroke-opacity:1; fill:none\" points=\"\n",
       "  186.274,1486.45 2352.76,1486.45 \n",
       "  \"/>\n",
       "<polyline clip-path=\"url(#clip710)\" style=\"stroke:#000000; stroke-width:4; stroke-opacity:1; fill:none\" points=\"\n",
       "  503.071,1486.45 503.071,1469.18 \n",
       "  \"/>\n",
       "<polyline clip-path=\"url(#clip710)\" style=\"stroke:#000000; stroke-width:4; stroke-opacity:1; fill:none\" points=\"\n",
       "  886.293,1486.45 886.293,1469.18 \n",
       "  \"/>\n",
       "<polyline clip-path=\"url(#clip710)\" style=\"stroke:#000000; stroke-width:4; stroke-opacity:1; fill:none\" points=\"\n",
       "  1269.51,1486.45 1269.51,1469.18 \n",
       "  \"/>\n",
       "<polyline clip-path=\"url(#clip710)\" style=\"stroke:#000000; stroke-width:4; stroke-opacity:1; fill:none\" points=\"\n",
       "  1652.74,1486.45 1652.74,1469.18 \n",
       "  \"/>\n",
       "<polyline clip-path=\"url(#clip710)\" style=\"stroke:#000000; stroke-width:4; stroke-opacity:1; fill:none\" points=\"\n",
       "  2035.96,1486.45 2035.96,1469.18 \n",
       "  \"/>\n",
       "<path clip-path=\"url(#clip710)\" d=\"M 0 0 M478.256 1543.18 L485.895 1543.18 L485.895 1516.82 L477.585 1518.49 L477.585 1514.23 L485.849 1512.56 L490.525 1512.56 L490.525 1543.18 L498.164 1543.18 L498.164 1547.12 L478.256 1547.12 L478.256 1543.18 Z\" fill=\"#000000\" fill-rule=\"evenodd\" fill-opacity=\"1\" /><path clip-path=\"url(#clip710)\" d=\"M 0 0 M507.654 1512.56 L526.011 1512.56 L526.011 1516.5 L511.937 1516.5 L511.937 1524.97 Q512.955 1524.62 513.974 1524.46 Q514.992 1524.27 516.011 1524.27 Q521.798 1524.27 525.177 1527.44 Q528.557 1530.62 528.557 1536.03 Q528.557 1541.61 525.085 1544.71 Q521.612 1547.79 515.293 1547.79 Q513.117 1547.79 510.849 1547.42 Q508.603 1547.05 506.196 1546.31 L506.196 1541.61 Q508.279 1542.74 510.501 1543.3 Q512.724 1543.86 515.2 1543.86 Q519.205 1543.86 521.543 1541.75 Q523.881 1539.64 523.881 1536.03 Q523.881 1532.42 521.543 1530.31 Q519.205 1528.21 515.2 1528.21 Q513.325 1528.21 511.45 1528.62 Q509.599 1529.04 507.654 1529.92 L507.654 1512.56 Z\" fill=\"#000000\" fill-rule=\"evenodd\" fill-opacity=\"1\" /><path clip-path=\"url(#clip710)\" d=\"M 0 0 M861.027 1543.18 L868.666 1543.18 L868.666 1516.82 L860.356 1518.49 L860.356 1514.23 L868.619 1512.56 L873.295 1512.56 L873.295 1543.18 L880.934 1543.18 L880.934 1547.12 L861.027 1547.12 L861.027 1543.18 Z\" fill=\"#000000\" fill-rule=\"evenodd\" fill-opacity=\"1\" /><path clip-path=\"url(#clip710)\" d=\"M 0 0 M900.378 1530.71 Q897.045 1530.71 895.124 1532.49 Q893.226 1534.27 893.226 1537.4 Q893.226 1540.52 895.124 1542.31 Q897.045 1544.09 900.378 1544.09 Q903.712 1544.09 905.633 1542.31 Q907.554 1540.5 907.554 1537.4 Q907.554 1534.27 905.633 1532.49 Q903.735 1530.71 900.378 1530.71 M895.703 1528.72 Q892.693 1527.98 891.004 1525.92 Q889.337 1523.86 889.337 1520.89 Q889.337 1516.75 892.277 1514.34 Q895.24 1511.93 900.378 1511.93 Q905.541 1511.93 908.48 1514.34 Q911.42 1516.75 911.42 1520.89 Q911.42 1523.86 909.73 1525.92 Q908.064 1527.98 905.078 1528.72 Q908.457 1529.5 910.332 1531.8 Q912.23 1534.09 912.23 1537.4 Q912.23 1542.42 909.152 1545.11 Q906.096 1547.79 900.378 1547.79 Q894.661 1547.79 891.582 1545.11 Q888.527 1542.42 888.527 1537.4 Q888.527 1534.09 890.425 1531.8 Q892.323 1529.5 895.703 1528.72 M893.99 1521.33 Q893.99 1524.02 895.656 1525.52 Q897.346 1527.03 900.378 1527.03 Q903.388 1527.03 905.078 1525.52 Q906.79 1524.02 906.79 1521.33 Q906.79 1518.65 905.078 1517.14 Q903.388 1515.64 900.378 1515.64 Q897.346 1515.64 895.656 1517.14 Q893.99 1518.65 893.99 1521.33 Z\" fill=\"#000000\" fill-rule=\"evenodd\" fill-opacity=\"1\" /><path clip-path=\"url(#clip710)\" d=\"M 0 0 M1248.9 1543.18 L1265.22 1543.18 L1265.22 1547.12 L1243.28 1547.12 L1243.28 1543.18 Q1245.94 1540.43 1250.52 1535.8 Q1255.13 1531.15 1256.31 1529.81 Q1258.55 1527.28 1259.43 1525.55 Q1260.34 1523.79 1260.34 1522.1 Q1260.34 1519.34 1258.39 1517.61 Q1256.47 1515.87 1253.37 1515.87 Q1251.17 1515.87 1248.72 1516.63 Q1246.29 1517.4 1243.51 1518.95 L1243.51 1514.23 Q1246.33 1513.09 1248.79 1512.51 Q1251.24 1511.93 1253.28 1511.93 Q1258.65 1511.93 1261.84 1514.62 Q1265.04 1517.31 1265.04 1521.8 Q1265.04 1523.93 1264.23 1525.85 Q1263.44 1527.74 1261.33 1530.34 Q1260.75 1531.01 1257.65 1534.23 Q1254.55 1537.42 1248.9 1543.18 Z\" fill=\"#000000\" fill-rule=\"evenodd\" fill-opacity=\"1\" /><path clip-path=\"url(#clip710)\" d=\"M 0 0 M1275.85 1543.18 L1283.48 1543.18 L1283.48 1516.82 L1275.17 1518.49 L1275.17 1514.23 L1283.44 1512.56 L1288.11 1512.56 L1288.11 1543.18 L1295.75 1543.18 L1295.75 1547.12 L1275.85 1547.12 L1275.85 1543.18 Z\" fill=\"#000000\" fill-rule=\"evenodd\" fill-opacity=\"1\" /><path clip-path=\"url(#clip710)\" d=\"M 0 0 M1631.27 1543.18 L1647.59 1543.18 L1647.59 1547.12 L1625.64 1547.12 L1625.64 1543.18 Q1628.3 1540.43 1632.89 1535.8 Q1637.49 1531.15 1638.67 1529.81 Q1640.92 1527.28 1641.8 1525.55 Q1642.7 1523.79 1642.7 1522.1 Q1642.7 1519.34 1640.76 1517.61 Q1638.84 1515.87 1635.73 1515.87 Q1633.54 1515.87 1631.08 1516.63 Q1628.65 1517.4 1625.87 1518.95 L1625.87 1514.23 Q1628.7 1513.09 1631.15 1512.51 Q1633.61 1511.93 1635.64 1511.93 Q1641.01 1511.93 1644.21 1514.62 Q1647.4 1517.31 1647.4 1521.8 Q1647.4 1523.93 1646.59 1525.85 Q1645.8 1527.74 1643.7 1530.34 Q1643.12 1531.01 1640.02 1534.23 Q1636.92 1537.42 1631.27 1543.18 Z\" fill=\"#000000\" fill-rule=\"evenodd\" fill-opacity=\"1\" /><path clip-path=\"url(#clip710)\" d=\"M 0 0 M1670.25 1516.63 L1658.44 1535.08 L1670.25 1535.08 L1670.25 1516.63 M1669.02 1512.56 L1674.9 1512.56 L1674.9 1535.08 L1679.83 1535.08 L1679.83 1538.97 L1674.9 1538.97 L1674.9 1547.12 L1670.25 1547.12 L1670.25 1538.97 L1654.65 1538.97 L1654.65 1534.46 L1669.02 1512.56 Z\" fill=\"#000000\" fill-rule=\"evenodd\" fill-opacity=\"1\" /><path clip-path=\"url(#clip710)\" d=\"M 0 0 M2015.18 1543.18 L2031.5 1543.18 L2031.5 1547.12 L2009.56 1547.12 L2009.56 1543.18 Q2012.22 1540.43 2016.8 1535.8 Q2021.41 1531.15 2022.59 1529.81 Q2024.84 1527.28 2025.72 1525.55 Q2026.62 1523.79 2026.62 1522.1 Q2026.62 1519.34 2024.67 1517.61 Q2022.75 1515.87 2019.65 1515.87 Q2017.45 1515.87 2015 1516.63 Q2012.57 1517.4 2009.79 1518.95 L2009.79 1514.23 Q2012.61 1513.09 2015.07 1512.51 Q2017.52 1511.93 2019.56 1511.93 Q2024.93 1511.93 2028.12 1514.62 Q2031.32 1517.31 2031.32 1521.8 Q2031.32 1523.93 2030.51 1525.85 Q2029.72 1527.74 2027.61 1530.34 Q2027.04 1531.01 2023.93 1534.23 Q2020.83 1537.42 2015.18 1543.18 Z\" fill=\"#000000\" fill-rule=\"evenodd\" fill-opacity=\"1\" /><path clip-path=\"url(#clip710)\" d=\"M 0 0 M2040.14 1512.56 L2062.36 1512.56 L2062.36 1514.55 L2049.81 1547.12 L2044.93 1547.12 L2056.73 1516.5 L2040.14 1516.5 L2040.14 1512.56 Z\" fill=\"#000000\" fill-rule=\"evenodd\" fill-opacity=\"1\" /><polyline clip-path=\"url(#clip712)\" style=\"stroke:#000000; stroke-width:2; stroke-opacity:0.1; fill:none\" points=\"\n",
       "  186.274,1448.65 2352.76,1448.65 \n",
       "  \"/>\n",
       "<polyline clip-path=\"url(#clip712)\" style=\"stroke:#000000; stroke-width:2; stroke-opacity:0.1; fill:none\" points=\"\n",
       "  186.274,1162.77 2352.76,1162.77 \n",
       "  \"/>\n",
       "<polyline clip-path=\"url(#clip712)\" style=\"stroke:#000000; stroke-width:2; stroke-opacity:0.1; fill:none\" points=\"\n",
       "  186.274,876.886 2352.76,876.886 \n",
       "  \"/>\n",
       "<polyline clip-path=\"url(#clip712)\" style=\"stroke:#000000; stroke-width:2; stroke-opacity:0.1; fill:none\" points=\"\n",
       "  186.274,591.004 2352.76,591.004 \n",
       "  \"/>\n",
       "<polyline clip-path=\"url(#clip712)\" style=\"stroke:#000000; stroke-width:2; stroke-opacity:0.1; fill:none\" points=\"\n",
       "  186.274,305.122 2352.76,305.122 \n",
       "  \"/>\n",
       "<polyline clip-path=\"url(#clip710)\" style=\"stroke:#000000; stroke-width:4; stroke-opacity:1; fill:none\" points=\"\n",
       "  186.274,1486.45 186.274,47.2441 \n",
       "  \"/>\n",
       "<polyline clip-path=\"url(#clip710)\" style=\"stroke:#000000; stroke-width:4; stroke-opacity:1; fill:none\" points=\"\n",
       "  186.274,1448.65 212.272,1448.65 \n",
       "  \"/>\n",
       "<polyline clip-path=\"url(#clip710)\" style=\"stroke:#000000; stroke-width:4; stroke-opacity:1; fill:none\" points=\"\n",
       "  186.274,1162.77 212.272,1162.77 \n",
       "  \"/>\n",
       "<polyline clip-path=\"url(#clip710)\" style=\"stroke:#000000; stroke-width:4; stroke-opacity:1; fill:none\" points=\"\n",
       "  186.274,876.886 212.272,876.886 \n",
       "  \"/>\n",
       "<polyline clip-path=\"url(#clip710)\" style=\"stroke:#000000; stroke-width:4; stroke-opacity:1; fill:none\" points=\"\n",
       "  186.274,591.004 212.272,591.004 \n",
       "  \"/>\n",
       "<polyline clip-path=\"url(#clip710)\" style=\"stroke:#000000; stroke-width:4; stroke-opacity:1; fill:none\" points=\"\n",
       "  186.274,305.122 212.272,305.122 \n",
       "  \"/>\n",
       "<path clip-path=\"url(#clip710)\" d=\"M 0 0 M62.9365 1434.45 Q59.3254 1434.45 57.4967 1438.01 Q55.6912 1441.55 55.6912 1448.68 Q55.6912 1455.79 57.4967 1459.36 Q59.3254 1462.9 62.9365 1462.9 Q66.5707 1462.9 68.3763 1459.36 Q70.205 1455.79 70.205 1448.68 Q70.205 1441.55 68.3763 1438.01 Q66.5707 1434.45 62.9365 1434.45 M62.9365 1430.74 Q68.7467 1430.74 71.8022 1435.35 Q74.8809 1439.93 74.8809 1448.68 Q74.8809 1457.41 71.8022 1462.02 Q68.7467 1466.6 62.9365 1466.6 Q57.1264 1466.6 54.0477 1462.02 Q50.9921 1457.41 50.9921 1448.68 Q50.9921 1439.93 54.0477 1435.35 Q57.1264 1430.74 62.9365 1430.74 Z\" fill=\"#000000\" fill-rule=\"evenodd\" fill-opacity=\"1\" /><path clip-path=\"url(#clip710)\" d=\"M 0 0 M83.0984 1460.05 L87.9827 1460.05 L87.9827 1465.93 L83.0984 1465.93 L83.0984 1460.05 Z\" fill=\"#000000\" fill-rule=\"evenodd\" fill-opacity=\"1\" /><path clip-path=\"url(#clip710)\" d=\"M 0 0 M108.168 1434.45 Q104.557 1434.45 102.728 1438.01 Q100.922 1441.55 100.922 1448.68 Q100.922 1455.79 102.728 1459.36 Q104.557 1462.9 108.168 1462.9 Q111.802 1462.9 113.608 1459.36 Q115.436 1455.79 115.436 1448.68 Q115.436 1441.55 113.608 1438.01 Q111.802 1434.45 108.168 1434.45 M108.168 1430.74 Q113.978 1430.74 117.033 1435.35 Q120.112 1439.93 120.112 1448.68 Q120.112 1457.41 117.033 1462.02 Q113.978 1466.6 108.168 1466.6 Q102.358 1466.6 99.2789 1462.02 Q96.2234 1457.41 96.2234 1448.68 Q96.2234 1439.93 99.2789 1435.35 Q102.358 1430.74 108.168 1430.74 Z\" fill=\"#000000\" fill-rule=\"evenodd\" fill-opacity=\"1\" /><path clip-path=\"url(#clip710)\" d=\"M 0 0 M138.33 1434.45 Q134.719 1434.45 132.89 1438.01 Q131.084 1441.55 131.084 1448.68 Q131.084 1455.79 132.89 1459.36 Q134.719 1462.9 138.33 1462.9 Q141.964 1462.9 143.769 1459.36 Q145.598 1455.79 145.598 1448.68 Q145.598 1441.55 143.769 1438.01 Q141.964 1434.45 138.33 1434.45 M138.33 1430.74 Q144.14 1430.74 147.195 1435.35 Q150.274 1439.93 150.274 1448.68 Q150.274 1457.41 147.195 1462.02 Q144.14 1466.6 138.33 1466.6 Q132.519 1466.6 129.441 1462.02 Q126.385 1457.41 126.385 1448.68 Q126.385 1439.93 129.441 1435.35 Q132.519 1430.74 138.33 1430.74 Z\" fill=\"#000000\" fill-rule=\"evenodd\" fill-opacity=\"1\" /><path clip-path=\"url(#clip710)\" d=\"M 0 0 M63.9319 1148.57 Q60.3208 1148.57 58.4921 1152.13 Q56.6865 1155.67 56.6865 1162.8 Q56.6865 1169.91 58.4921 1173.47 Q60.3208 1177.01 63.9319 1177.01 Q67.5661 1177.01 69.3717 1173.47 Q71.2004 1169.91 71.2004 1162.8 Q71.2004 1155.67 69.3717 1152.13 Q67.5661 1148.57 63.9319 1148.57 M63.9319 1144.86 Q69.742 1144.86 72.7976 1149.47 Q75.8763 1154.05 75.8763 1162.8 Q75.8763 1171.53 72.7976 1176.14 Q69.742 1180.72 63.9319 1180.72 Q58.1217 1180.72 55.043 1176.14 Q51.9875 1171.53 51.9875 1162.8 Q51.9875 1154.05 55.043 1149.47 Q58.1217 1144.86 63.9319 1144.86 Z\" fill=\"#000000\" fill-rule=\"evenodd\" fill-opacity=\"1\" /><path clip-path=\"url(#clip710)\" d=\"M 0 0 M84.0938 1174.17 L88.978 1174.17 L88.978 1180.05 L84.0938 1180.05 L84.0938 1174.17 Z\" fill=\"#000000\" fill-rule=\"evenodd\" fill-opacity=\"1\" /><path clip-path=\"url(#clip710)\" d=\"M 0 0 M103.191 1176.11 L119.51 1176.11 L119.51 1180.05 L97.566 1180.05 L97.566 1176.11 Q100.228 1173.36 104.811 1168.73 Q109.418 1164.08 110.598 1162.73 Q112.844 1160.21 113.723 1158.47 Q114.626 1156.71 114.626 1155.02 Q114.626 1152.27 112.682 1150.53 Q110.76 1148.8 107.658 1148.8 Q105.459 1148.8 103.006 1149.56 Q100.575 1150.33 97.7974 1151.88 L97.7974 1147.15 Q100.621 1146.02 103.075 1145.44 Q105.529 1144.86 107.566 1144.86 Q112.936 1144.86 116.131 1147.55 Q119.325 1150.23 119.325 1154.72 Q119.325 1156.85 118.515 1158.77 Q117.728 1160.67 115.621 1163.26 Q115.043 1163.94 111.941 1167.15 Q108.839 1170.35 103.191 1176.11 Z\" fill=\"#000000\" fill-rule=\"evenodd\" fill-opacity=\"1\" /><path clip-path=\"url(#clip710)\" d=\"M 0 0 M129.371 1145.49 L147.728 1145.49 L147.728 1149.42 L133.654 1149.42 L133.654 1157.89 Q134.672 1157.55 135.691 1157.39 Q136.709 1157.2 137.728 1157.2 Q143.515 1157.2 146.894 1160.37 Q150.274 1163.54 150.274 1168.96 Q150.274 1174.54 146.802 1177.64 Q143.33 1180.72 137.01 1180.72 Q134.834 1180.72 132.566 1180.35 Q130.32 1179.98 127.913 1179.24 L127.913 1174.54 Q129.996 1175.67 132.219 1176.23 Q134.441 1176.78 136.918 1176.78 Q140.922 1176.78 143.26 1174.68 Q145.598 1172.57 145.598 1168.96 Q145.598 1165.35 143.26 1163.24 Q140.922 1161.14 136.918 1161.14 Q135.043 1161.14 133.168 1161.55 Q131.316 1161.97 129.371 1162.85 L129.371 1145.49 Z\" fill=\"#000000\" fill-rule=\"evenodd\" fill-opacity=\"1\" /><path clip-path=\"url(#clip710)\" d=\"M 0 0 M62.9365 862.684 Q59.3254 862.684 57.4967 866.249 Q55.6912 869.791 55.6912 876.92 Q55.6912 884.027 57.4967 887.591 Q59.3254 891.133 62.9365 891.133 Q66.5707 891.133 68.3763 887.591 Q70.205 884.027 70.205 876.92 Q70.205 869.791 68.3763 866.249 Q66.5707 862.684 62.9365 862.684 M62.9365 858.981 Q68.7467 858.981 71.8022 863.587 Q74.8809 868.17 74.8809 876.92 Q74.8809 885.647 71.8022 890.253 Q68.7467 894.837 62.9365 894.837 Q57.1264 894.837 54.0477 890.253 Q50.9921 885.647 50.9921 876.92 Q50.9921 868.17 54.0477 863.587 Q57.1264 858.981 62.9365 858.981 Z\" fill=\"#000000\" fill-rule=\"evenodd\" fill-opacity=\"1\" /><path clip-path=\"url(#clip710)\" d=\"M 0 0 M83.0984 888.286 L87.9827 888.286 L87.9827 894.166 L83.0984 894.166 L83.0984 888.286 Z\" fill=\"#000000\" fill-rule=\"evenodd\" fill-opacity=\"1\" /><path clip-path=\"url(#clip710)\" d=\"M 0 0 M98.2141 859.606 L116.57 859.606 L116.57 863.541 L102.496 863.541 L102.496 872.013 Q103.515 871.666 104.534 871.504 Q105.552 871.318 106.571 871.318 Q112.358 871.318 115.737 874.49 Q119.117 877.661 119.117 883.078 Q119.117 888.656 115.645 891.758 Q112.172 894.837 105.853 894.837 Q103.677 894.837 101.409 894.466 Q99.1632 894.096 96.7558 893.355 L96.7558 888.656 Q98.8391 889.791 101.061 890.346 Q103.284 890.902 105.76 890.902 Q109.765 890.902 112.103 888.795 Q114.441 886.689 114.441 883.078 Q114.441 879.467 112.103 877.36 Q109.765 875.254 105.76 875.254 Q103.885 875.254 102.01 875.67 Q100.159 876.087 98.2141 876.967 L98.2141 859.606 Z\" fill=\"#000000\" fill-rule=\"evenodd\" fill-opacity=\"1\" /><path clip-path=\"url(#clip710)\" d=\"M 0 0 M138.33 862.684 Q134.719 862.684 132.89 866.249 Q131.084 869.791 131.084 876.92 Q131.084 884.027 132.89 887.591 Q134.719 891.133 138.33 891.133 Q141.964 891.133 143.769 887.591 Q145.598 884.027 145.598 876.92 Q145.598 869.791 143.769 866.249 Q141.964 862.684 138.33 862.684 M138.33 858.981 Q144.14 858.981 147.195 863.587 Q150.274 868.17 150.274 876.92 Q150.274 885.647 147.195 890.253 Q144.14 894.837 138.33 894.837 Q132.519 894.837 129.441 890.253 Q126.385 885.647 126.385 876.92 Q126.385 868.17 129.441 863.587 Q132.519 858.981 138.33 858.981 Z\" fill=\"#000000\" fill-rule=\"evenodd\" fill-opacity=\"1\" /><path clip-path=\"url(#clip710)\" d=\"M 0 0 M63.9319 576.802 Q60.3208 576.802 58.4921 580.367 Q56.6865 583.909 56.6865 591.038 Q56.6865 598.145 58.4921 601.71 Q60.3208 605.251 63.9319 605.251 Q67.5661 605.251 69.3717 601.71 Q71.2004 598.145 71.2004 591.038 Q71.2004 583.909 69.3717 580.367 Q67.5661 576.802 63.9319 576.802 M63.9319 573.099 Q69.742 573.099 72.7976 577.705 Q75.8763 582.288 75.8763 591.038 Q75.8763 599.765 72.7976 604.372 Q69.742 608.955 63.9319 608.955 Q58.1217 608.955 55.043 604.372 Q51.9875 599.765 51.9875 591.038 Q51.9875 582.288 55.043 577.705 Q58.1217 573.099 63.9319 573.099 Z\" fill=\"#000000\" fill-rule=\"evenodd\" fill-opacity=\"1\" /><path clip-path=\"url(#clip710)\" d=\"M 0 0 M84.0938 602.404 L88.978 602.404 L88.978 608.284 L84.0938 608.284 L84.0938 602.404 Z\" fill=\"#000000\" fill-rule=\"evenodd\" fill-opacity=\"1\" /><path clip-path=\"url(#clip710)\" d=\"M 0 0 M97.9826 573.724 L120.205 573.724 L120.205 575.714 L107.658 608.284 L102.774 608.284 L114.58 577.659 L97.9826 577.659 L97.9826 573.724 Z\" fill=\"#000000\" fill-rule=\"evenodd\" fill-opacity=\"1\" /><path clip-path=\"url(#clip710)\" d=\"M 0 0 M129.371 573.724 L147.728 573.724 L147.728 577.659 L133.654 577.659 L133.654 586.131 Q134.672 585.784 135.691 585.622 Q136.709 585.437 137.728 585.437 Q143.515 585.437 146.894 588.608 Q150.274 591.779 150.274 597.196 Q150.274 602.774 146.802 605.876 Q143.33 608.955 137.01 608.955 Q134.834 608.955 132.566 608.585 Q130.32 608.214 127.913 607.474 L127.913 602.774 Q129.996 603.909 132.219 604.464 Q134.441 605.02 136.918 605.02 Q140.922 605.02 143.26 602.913 Q145.598 600.807 145.598 597.196 Q145.598 593.585 143.26 591.478 Q140.922 589.372 136.918 589.372 Q135.043 589.372 133.168 589.788 Q131.316 590.205 129.371 591.085 L129.371 573.724 Z\" fill=\"#000000\" fill-rule=\"evenodd\" fill-opacity=\"1\" /><path clip-path=\"url(#clip710)\" d=\"M 0 0 M53.7467 318.467 L61.3856 318.467 L61.3856 292.101 L53.0754 293.768 L53.0754 289.509 L61.3393 287.842 L66.0152 287.842 L66.0152 318.467 L73.654 318.467 L73.654 322.402 L53.7467 322.402 L53.7467 318.467 Z\" fill=\"#000000\" fill-rule=\"evenodd\" fill-opacity=\"1\" /><path clip-path=\"url(#clip710)\" d=\"M 0 0 M83.0984 316.522 L87.9827 316.522 L87.9827 322.402 L83.0984 322.402 L83.0984 316.522 Z\" fill=\"#000000\" fill-rule=\"evenodd\" fill-opacity=\"1\" /><path clip-path=\"url(#clip710)\" d=\"M 0 0 M108.168 290.921 Q104.557 290.921 102.728 294.485 Q100.922 298.027 100.922 305.157 Q100.922 312.263 102.728 315.828 Q104.557 319.37 108.168 319.37 Q111.802 319.37 113.608 315.828 Q115.436 312.263 115.436 305.157 Q115.436 298.027 113.608 294.485 Q111.802 290.921 108.168 290.921 M108.168 287.217 Q113.978 287.217 117.033 291.823 Q120.112 296.407 120.112 305.157 Q120.112 313.883 117.033 318.49 Q113.978 323.073 108.168 323.073 Q102.358 323.073 99.2789 318.49 Q96.2234 313.883 96.2234 305.157 Q96.2234 296.407 99.2789 291.823 Q102.358 287.217 108.168 287.217 Z\" fill=\"#000000\" fill-rule=\"evenodd\" fill-opacity=\"1\" /><path clip-path=\"url(#clip710)\" d=\"M 0 0 M138.33 290.921 Q134.719 290.921 132.89 294.485 Q131.084 298.027 131.084 305.157 Q131.084 312.263 132.89 315.828 Q134.719 319.37 138.33 319.37 Q141.964 319.37 143.769 315.828 Q145.598 312.263 145.598 305.157 Q145.598 298.027 143.769 294.485 Q141.964 290.921 138.33 290.921 M138.33 287.217 Q144.14 287.217 147.195 291.823 Q150.274 296.407 150.274 305.157 Q150.274 313.883 147.195 318.49 Q144.14 323.073 138.33 323.073 Q132.519 323.073 129.441 318.49 Q126.385 313.883 126.385 305.157 Q126.385 296.407 129.441 291.823 Q132.519 287.217 138.33 287.217 Z\" fill=\"#000000\" fill-rule=\"evenodd\" fill-opacity=\"1\" /><polyline clip-path=\"url(#clip712)\" style=\"stroke:#009af9; stroke-width:4; stroke-opacity:1; fill:none\" points=\"\n",
       "  630.812,1437.06 758.552,1415.19 886.293,1374.9 1014.03,1288.77 1141.77,1055.3 1269.51,87.9763 1397.26,1055.3 1525,1288.77 1652.74,1374.9 1780.48,1415.19 \n",
       "  1908.22,1437.06 \n",
       "  \"/>\n",
       "<polyline clip-path=\"url(#clip712)\" style=\"stroke:#e26f46; stroke-width:4; stroke-opacity:1; fill:none\" points=\"\n",
       "  247.59,1445.72 375.33,1436.4 503.071,1422.48 630.812,1407.46 758.552,1382.64 886.293,1359.48 1014.03,1314.01 1141.77,1286.38 1269.51,1210.65 1397.26,1286.38 \n",
       "  1525,1314.01 1652.74,1359.48 1780.48,1382.64 1908.22,1407.46 2035.96,1422.48 2163.7,1436.4 2291.44,1445.72 \n",
       "  \"/>\n",
       "<path clip-path=\"url(#clip710)\" d=\"\n",
       "M1987.39 276.658 L2280.54 276.658 L2280.54 95.2176 L1987.39 95.2176  Z\n",
       "  \" fill=\"#ffffff\" fill-rule=\"evenodd\" fill-opacity=\"1\"/>\n",
       "<polyline clip-path=\"url(#clip710)\" style=\"stroke:#000000; stroke-width:4; stroke-opacity:1; fill:none\" points=\"\n",
       "  1987.39,276.658 2280.54,276.658 2280.54,95.2176 1987.39,95.2176 1987.39,276.658 \n",
       "  \"/>\n",
       "<polyline clip-path=\"url(#clip710)\" style=\"stroke:#009af9; stroke-width:4; stroke-opacity:1; fill:none\" points=\"\n",
       "  2011.46,155.698 2155.89,155.698 \n",
       "  \"/>\n",
       "<path clip-path=\"url(#clip710)\" d=\"M 0 0 M2193.81 175.385 Q2192 180.015 2190.29 181.427 Q2188.58 182.839 2185.71 182.839 L2182.3 182.839 L2182.3 179.274 L2184.8 179.274 Q2186.56 179.274 2187.53 178.44 Q2188.51 177.607 2189.69 174.505 L2190.45 172.561 L2179.97 147.052 L2184.48 147.052 L2192.58 167.329 L2200.68 147.052 L2205.2 147.052 L2193.81 175.385 Z\" fill=\"#000000\" fill-rule=\"evenodd\" fill-opacity=\"1\" /><path clip-path=\"url(#clip710)\" d=\"M 0 0 M2212.49 169.042 L2220.13 169.042 L2220.13 142.677 L2211.82 144.343 L2211.82 140.084 L2220.08 138.418 L2224.76 138.418 L2224.76 169.042 L2232.4 169.042 L2232.4 172.978 L2212.49 172.978 L2212.49 169.042 Z\" fill=\"#000000\" fill-rule=\"evenodd\" fill-opacity=\"1\" /><polyline clip-path=\"url(#clip710)\" style=\"stroke:#e26f46; stroke-width:4; stroke-opacity:1; fill:none\" points=\"\n",
       "  2011.46,216.178 2155.89,216.178 \n",
       "  \"/>\n",
       "<path clip-path=\"url(#clip710)\" d=\"M 0 0 M2193.81 235.865 Q2192 240.495 2190.29 241.907 Q2188.58 243.319 2185.71 243.319 L2182.3 243.319 L2182.3 239.754 L2184.8 239.754 Q2186.56 239.754 2187.53 238.92 Q2188.51 238.087 2189.69 234.985 L2190.45 233.041 L2179.97 207.532 L2184.48 207.532 L2192.58 227.809 L2200.68 207.532 L2205.2 207.532 L2193.81 235.865 Z\" fill=\"#000000\" fill-rule=\"evenodd\" fill-opacity=\"1\" /><path clip-path=\"url(#clip710)\" d=\"M 0 0 M2215.71 229.522 L2232.03 229.522 L2232.03 233.458 L2210.08 233.458 L2210.08 229.522 Q2212.74 226.768 2217.33 222.138 Q2221.93 217.485 2223.11 216.143 Q2225.36 213.62 2226.24 211.884 Q2227.14 210.124 2227.14 208.435 Q2227.14 205.68 2225.2 203.944 Q2223.28 202.208 2220.17 202.208 Q2217.97 202.208 2215.52 202.972 Q2213.09 203.735 2210.31 205.286 L2210.31 200.564 Q2213.14 199.43 2215.59 198.851 Q2218.04 198.273 2220.08 198.273 Q2225.45 198.273 2228.65 200.958 Q2231.84 203.643 2231.84 208.134 Q2231.84 210.263 2231.03 212.185 Q2230.24 214.083 2228.14 216.675 Q2227.56 217.347 2224.46 220.564 Q2221.35 223.759 2215.71 229.522 Z\" fill=\"#000000\" fill-rule=\"evenodd\" fill-opacity=\"1\" /></svg>\n"
      ]
     },
     "execution_count": 16,
     "metadata": {},
     "output_type": "execute_result"
    }
   ],
   "source": [
    "plot(nlQ_sp.usable_ω, real(χsp_ω[nlQ_sp.usable_ω]))\n",
    "plot!(nlQ_sp2.usable_ω, real(χsp_ω_2[nlQ_sp2.usable_ω]))"
   ]
  },
  {
   "cell_type": "code",
   "execution_count": 17,
   "metadata": {
    "scrolled": true
   },
   "outputs": [
    {
     "name": "stdout",
     "output_type": "stream",
     "text": [
      "\u001b[36m\u001b[1m┌ \u001b[22m\u001b[39m\u001b[36m\u001b[1mInfo: \u001b[22m\u001b[39mComputing λsp corrected χsp, using \n",
      "\u001b[36m\u001b[1m│ \u001b[22m\u001b[39m  sP.χFillType = lambda_χ_fill::ChiFillType = 1\n",
      "\u001b[36m\u001b[1m└ \u001b[22m\u001b[39m   as fill value outside usable ω range. = \" as fill value outside usable ω range.\"\n",
      "\u001b[33m\u001b[1m[ \u001b[22m\u001b[39m\u001b[33m\u001b[1mWarning: \u001b[22m\u001b[39mcurrently using min(usable_sp, usable_ch) = min(16:26,16:26) = 16:26 for all calculations. relax this?\n",
      "\u001b[36m\u001b[1m┌ \u001b[22m\u001b[39m\u001b[36m\u001b[1mInfo: \u001b[22m\u001b[39mFound usable intervals for non-local susceptibility of length \n",
      "\u001b[36m\u001b[1m│ \u001b[22m\u001b[39msp: 16:26, length: 11\n",
      "\u001b[36m\u001b[1m│ \u001b[22m\u001b[39mch: 16:26, length: 11\n",
      "\u001b[36m\u001b[1m│ \u001b[22m\u001b[39musable: 16:26, length: 11\n",
      "\u001b[36m\u001b[1m└ \u001b[22m\u001b[39mχch sum = 0.12842719663776692, rhs = 0.23396220508993826\n",
      "\u001b[36m\u001b[1m┌ \u001b[22m\u001b[39m\u001b[36m\u001b[1mInfo: \u001b[22m\u001b[39mfound \n",
      "\u001b[36m\u001b[1m│ \u001b[22m\u001b[39m  χ_min = -0.43150273373528475\n",
      "\u001b[36m\u001b[1m└ \u001b[22m\u001b[39m  \". Looking for roots in intervall $(int)\" = \". Looking for roots in intervall [-0.43150273373528475, 2.235163932931382]\"\n",
      "\u001b[36m\u001b[1m┌ \u001b[22m\u001b[39m\u001b[36m\u001b[1mInfo: \u001b[22m\u001b[39mMethod 2 root:\n",
      "\u001b[36m\u001b[1m└ \u001b[22m\u001b[39m  r2 = Float64[]\n",
      "\u001b[36m\u001b[1m┌ \u001b[22m\u001b[39m\u001b[36m\u001b[1mInfo: \u001b[22m\u001b[39mFound λsp \n",
      "\u001b[36m\u001b[1m└ \u001b[22m\u001b[39m  λsp_old = -1.1963027478898748e-16\n",
      "\u001b[36m\u001b[1m[ \u001b[22m\u001b[39m\u001b[36m\u001b[1mInfo: \u001b[22m\u001b[39mnew lambda correction: λsp=0.0 and λch=0.0\n"
     ]
    },
    {
     "data": {
      "text/plain": [
       "(-1.1963027478898748e-16, [0.0, 0.0], [-0.43150273373528475, 2.235163932931382], [-Inf, Inf])"
      ]
     },
     "execution_count": 17,
     "metadata": {},
     "output_type": "execute_result"
    }
   ],
   "source": [
    "λ_sp, λ_spch  = λ_correction!(impQ_sp, impQ_ch, FUpDo, Σ_loc, Σ_ladderLoc, nlQ_sp, nlQ_ch, bubble, GLoc_fft, qG, mP, sP)"
   ]
  },
  {
   "cell_type": "code",
   "execution_count": 18,
   "metadata": {},
   "outputs": [
    {
     "name": "stdout",
     "output_type": "stream",
     "text": [
      "\u001b[36m\u001b[1m┌ \u001b[22m\u001b[39m\u001b[36m\u001b[1mInfo: \u001b[22m\u001b[39mComputing λsp corrected χsp, using \n",
      "\u001b[36m\u001b[1m│ \u001b[22m\u001b[39m  sP.χFillType = lambda_χ_fill::ChiFillType = 1\n",
      "\u001b[36m\u001b[1m└ \u001b[22m\u001b[39m   as fill value outside usable ω range. = \" as fill value outside usable ω range.\"\n",
      "\u001b[33m\u001b[1m[ \u001b[22m\u001b[39m\u001b[33m\u001b[1mWarning: \u001b[22m\u001b[39mcurrently using min(usable_sp, usable_ch) = min(13:29,20:22) = 20:22 for all calculations. relax this?\n",
      "\u001b[36m\u001b[1m┌ \u001b[22m\u001b[39m\u001b[36m\u001b[1mInfo: \u001b[22m\u001b[39mFound usable intervals for non-local susceptibility of length \n",
      "\u001b[36m\u001b[1m│ \u001b[22m\u001b[39msp: 13:29, length: 17\n",
      "\u001b[36m\u001b[1m│ \u001b[22m\u001b[39mch: 20:22, length: 3\n",
      "\u001b[36m\u001b[1m│ \u001b[22m\u001b[39musable: 20:22, length: 3\n",
      "\u001b[36m\u001b[1m└ \u001b[22m\u001b[39mχch sum = 0.1906267092572944, rhs = 0.1720974695890194\n",
      "\u001b[36m\u001b[1m┌ \u001b[22m\u001b[39m\u001b[36m\u001b[1mInfo: \u001b[22m\u001b[39mfound \n",
      "\u001b[36m\u001b[1m│ \u001b[22m\u001b[39m  χ_min = -4.377901482942061\n",
      "\u001b[36m\u001b[1m└ \u001b[22m\u001b[39m  \". Looking for roots in intervall $(int)\" = \". Looking for roots in intervall [-4.377901482942061, -1.7112348162753943]\"\n",
      "\u001b[36m\u001b[1m┌ \u001b[22m\u001b[39m\u001b[36m\u001b[1mInfo: \u001b[22m\u001b[39mMethod 2 root:\n",
      "\u001b[36m\u001b[1m│ \u001b[22m\u001b[39m  r2 =\n",
      "\u001b[36m\u001b[1m│ \u001b[22m\u001b[39m   1-element Vector{Float64}:\n",
      "\u001b[36m\u001b[1m└ \u001b[22m\u001b[39m    0.0\n",
      "\u001b[36m\u001b[1m┌ \u001b[22m\u001b[39m\u001b[36m\u001b[1mInfo: \u001b[22m\u001b[39mFound λsp \n",
      "\u001b[36m\u001b[1m└ \u001b[22m\u001b[39m  λsp_old = -8.436242980773694e-16\n",
      "\u001b[36m\u001b[1m[ \u001b[22m\u001b[39m\u001b[36m\u001b[1mInfo: \u001b[22m\u001b[39mnew lambda correction: λsp=0.0 and λch=0.0\n"
     ]
    },
    {
     "data": {
      "text/plain": [
       "(-8.436242980773694e-16, [0.0, 0.0], [-4.377901482942061, -1.7112348162753943], [-Inf, Inf])"
      ]
     },
     "execution_count": 18,
     "metadata": {},
     "output_type": "execute_result"
    }
   ],
   "source": [
    "λ_sp2, λ_spch2  = λ_correction!(impQ_sp2, impQ_ch2, FUpDo2, Σ_loc2, Σ_ladderLoc, nlQ_sp2, nlQ_ch2, bubble2, GLoc_fft2, qG, mP2, sP2)"
   ]
  },
  {
   "cell_type": "code",
   "execution_count": 19,
   "metadata": {},
   "outputs": [
    {
     "name": "stdout",
     "output_type": "stream",
     "text": [
      "usable range: 16:26 vs 20:22\n",
      "χupup_nc=0.1443350630570379 - 4.55570753200474e-10im\n",
      "χupup_rc=0.050258799072102324 - 4.926489644739294e-10im\n",
      "lambda Float64[] vs Float64[]\n"
     ]
    }
   ],
   "source": [
    "using Roots\n",
    "\n",
    "\n",
    "\n",
    "\n",
    "sh = get_sum_helper(nlQ_ch.usable_ω, sP, :b)\n",
    "χch_ω = kintegrate(kGrid, nlQ_ch.χ, dim=2)[:,1]\n",
    "χch_sum = real(sum_freq(χch_ω[nlQ_ch.usable_ω], [1], sh, mP.β)[1])\n",
    "rhs1 = mP.n * (1 - mP.n/2) - χch_sum\n",
    "rhs2 = real(impQ_ch.χ_loc + impQ_sp.χ_loc - χch_sum)\n",
    "usable_ω = intersect(nlQ_sp.usable_ω, nlQ_ch.usable_ω)\n",
    "sh = get_sum_helper(usable_ω, sP, :b)\n",
    "χupup_sum = sum_freq(kintegrate(kGrid, 0.5 .* (nlQ_ch.χ[usable_ω,:] .+ nlQ_sp.χ[usable_ω,:]), dim=2)[:,1], [1], sh, mP.β)[1]\n",
    "\n",
    "\n",
    "sh_2 = get_sum_helper(nlQ_ch2.usable_ω, sP2, :b)\n",
    "χch_ω_2 = kintegrate(kGrid, nlQ_ch2.χ, dim=2)[:,1]\n",
    "χch_sum_2 = real(sum_freq(χch_ω_2[nlQ_ch2.usable_ω], [1], sh_2, mP2.β)[1])\n",
    "rhs1_2 = mP.n * (1 - mP.n/2) - χch_sum_2\n",
    "rhs2_2 = real(impQ_ch2.χ_loc + impQ_sp2.χ_loc - χch_sum_2)\n",
    "usable_ω_2 = intersect(nlQ_sp2.usable_ω, nlQ_ch2.usable_ω)\n",
    "sh_2 = get_sum_helper(usable_ω_2, sP2, :b)\n",
    "χupup_sum_2 = sum_freq(kintegrate(kGrid, 0.5 .* (nlQ_ch2.χ[usable_ω_2,:] .+ nlQ_sp2.χ[usable_ω_2,:]), dim=2)[:,1], [1], sh_2, mP2.β)[1]\n",
    "\n",
    "println(\"usable range: $usable_ω vs $usable_ω_2\\nχupup_nc=$χupup_sum\\nχupup_rc=$χupup_sum_2\")\n",
    "\n",
    "χ_in = nlQ_sp.χ\n",
    "usable_ω_i = nlQ_sp.usable_ω\n",
    "χr    = real.(χ_in[usable_ω_i,:])\n",
    "sh = get_sum_helper(usable_ω_i, sP, :b)\n",
    "f(λint) = sum_freq(kintegrate(kGrid, χ_λ(χr, λint), dim=2)[:,1], [1], sh, β)[1] - rhs2\n",
    "df(λint) = sum_freq(kintegrate(kGrid, -χ_λ(χr, λint) .^ 2, dim=2)[:,1], [1], sh, β)[1]\n",
    "r2 = find_zeros(f, 0.02, 20.0, verbose=true)\n",
    "\n",
    "χ_in = nlQ_sp2.χ\n",
    "usable_ω_i = nlQ_sp2.usable_ω\n",
    "χr    = real.(χ_in[usable_ω_i,:])\n",
    "sh = get_sum_helper(usable_ω_i, sP2, :b)\n",
    "f(λint) = sum_freq(kintegrate(kGrid, χ_λ(χr, λint), dim=2)[:,1], [1], sh, β)[1] - rhs1\n",
    "df(λint) = sum_freq(kintegrate(kGrid, -χ_λ(χr, λint) .^ 2, dim=2)[:,1], [1], sh, β)[1]\n",
    "r22 = find_zeros(f, 0.02, 20.0, verbose=true)\n",
    "\n",
    "println(\"lambda $r2 vs $r22\")"
   ]
  },
  {
   "cell_type": "code",
   "execution_count": 20,
   "metadata": {},
   "outputs": [
    {
     "data": {
      "image/svg+xml": [
       "<?xml version=\"1.0\" encoding=\"utf-8\"?>\n",
       "<svg xmlns=\"http://www.w3.org/2000/svg\" xmlns:xlink=\"http://www.w3.org/1999/xlink\" width=\"600\" height=\"400\" viewBox=\"0 0 2400 1600\">\n",
       "<defs>\n",
       "  <clipPath id=\"clip750\">\n",
       "    <rect x=\"0\" y=\"0\" width=\"2400\" height=\"1600\"/>\n",
       "  </clipPath>\n",
       "</defs>\n",
       "<path clip-path=\"url(#clip750)\" d=\"\n",
       "M0 1600 L2400 1600 L2400 0 L0 0  Z\n",
       "  \" fill=\"#ffffff\" fill-rule=\"evenodd\" fill-opacity=\"1\"/>\n",
       "<defs>\n",
       "  <clipPath id=\"clip751\">\n",
       "    <rect x=\"480\" y=\"0\" width=\"1681\" height=\"1600\"/>\n",
       "  </clipPath>\n",
       "</defs>\n",
       "<path clip-path=\"url(#clip750)\" d=\"\n",
       "M156.112 1486.45 L2352.76 1486.45 L2352.76 47.2441 L156.112 47.2441  Z\n",
       "  \" fill=\"#ffffff\" fill-rule=\"evenodd\" fill-opacity=\"1\"/>\n",
       "<defs>\n",
       "  <clipPath id=\"clip752\">\n",
       "    <rect x=\"156\" y=\"47\" width=\"2198\" height=\"1440\"/>\n",
       "  </clipPath>\n",
       "</defs>\n",
       "<polyline clip-path=\"url(#clip752)\" style=\"stroke:#000000; stroke-width:2; stroke-opacity:0.1; fill:none\" points=\"\n",
       "  529.127,1486.45 529.127,47.2441 \n",
       "  \"/>\n",
       "<polyline clip-path=\"url(#clip752)\" style=\"stroke:#000000; stroke-width:2; stroke-opacity:0.1; fill:none\" points=\"\n",
       "  1047.2,1486.45 1047.2,47.2441 \n",
       "  \"/>\n",
       "<polyline clip-path=\"url(#clip752)\" style=\"stroke:#000000; stroke-width:2; stroke-opacity:0.1; fill:none\" points=\"\n",
       "  1565.28,1486.45 1565.28,47.2441 \n",
       "  \"/>\n",
       "<polyline clip-path=\"url(#clip752)\" style=\"stroke:#000000; stroke-width:2; stroke-opacity:0.1; fill:none\" points=\"\n",
       "  2083.36,1486.45 2083.36,47.2441 \n",
       "  \"/>\n",
       "<polyline clip-path=\"url(#clip750)\" style=\"stroke:#000000; stroke-width:4; stroke-opacity:1; fill:none\" points=\"\n",
       "  156.112,1486.45 2352.76,1486.45 \n",
       "  \"/>\n",
       "<polyline clip-path=\"url(#clip750)\" style=\"stroke:#000000; stroke-width:4; stroke-opacity:1; fill:none\" points=\"\n",
       "  529.127,1486.45 529.127,1469.18 \n",
       "  \"/>\n",
       "<polyline clip-path=\"url(#clip750)\" style=\"stroke:#000000; stroke-width:4; stroke-opacity:1; fill:none\" points=\"\n",
       "  1047.2,1486.45 1047.2,1469.18 \n",
       "  \"/>\n",
       "<polyline clip-path=\"url(#clip750)\" style=\"stroke:#000000; stroke-width:4; stroke-opacity:1; fill:none\" points=\"\n",
       "  1565.28,1486.45 1565.28,1469.18 \n",
       "  \"/>\n",
       "<polyline clip-path=\"url(#clip750)\" style=\"stroke:#000000; stroke-width:4; stroke-opacity:1; fill:none\" points=\"\n",
       "  2083.36,1486.45 2083.36,1469.18 \n",
       "  \"/>\n",
       "<path clip-path=\"url(#clip750)\" d=\"M 0 0 M481.697 1543.18 L489.336 1543.18 L489.336 1516.82 L481.026 1518.49 L481.026 1514.23 L489.289 1512.56 L493.965 1512.56 L493.965 1543.18 L501.604 1543.18 L501.604 1547.12 L481.697 1547.12 L481.697 1543.18 Z\" fill=\"#000000\" fill-rule=\"evenodd\" fill-opacity=\"1\" /><path clip-path=\"url(#clip750)\" d=\"M 0 0 M509.868 1512.56 L532.09 1512.56 L532.09 1514.55 L519.544 1547.12 L514.66 1547.12 L526.465 1516.5 L509.868 1516.5 L509.868 1512.56 Z\" fill=\"#000000\" fill-rule=\"evenodd\" fill-opacity=\"1\" /><path clip-path=\"url(#clip750)\" d=\"M 0 0 M541.21 1541.24 L546.095 1541.24 L546.095 1547.12 L541.21 1547.12 L541.21 1541.24 Z\" fill=\"#000000\" fill-rule=\"evenodd\" fill-opacity=\"1\" /><path clip-path=\"url(#clip750)\" d=\"M 0 0 M556.326 1512.56 L574.682 1512.56 L574.682 1516.5 L560.608 1516.5 L560.608 1524.97 Q561.627 1524.62 562.645 1524.46 Q563.664 1524.27 564.682 1524.27 Q570.469 1524.27 573.849 1527.44 Q577.229 1530.62 577.229 1536.03 Q577.229 1541.61 573.756 1544.71 Q570.284 1547.79 563.965 1547.79 Q561.789 1547.79 559.52 1547.42 Q557.275 1547.05 554.868 1546.31 L554.868 1541.61 Q556.951 1542.74 559.173 1543.3 Q561.395 1543.86 563.872 1543.86 Q567.877 1543.86 570.215 1541.75 Q572.553 1539.64 572.553 1536.03 Q572.553 1532.42 570.215 1530.31 Q567.877 1528.21 563.872 1528.21 Q561.997 1528.21 560.122 1528.62 Q558.27 1529.04 556.326 1529.92 L556.326 1512.56 Z\" fill=\"#000000\" fill-rule=\"evenodd\" fill-opacity=\"1\" /><path clip-path=\"url(#clip750)\" d=\"M 0 0 M1003.36 1543.18 L1019.68 1543.18 L1019.68 1547.12 L997.736 1547.12 L997.736 1543.18 Q1000.4 1540.43 1004.98 1535.8 Q1009.59 1531.15 1010.77 1529.81 Q1013.01 1527.28 1013.89 1525.55 Q1014.8 1523.79 1014.8 1522.1 Q1014.8 1519.34 1012.85 1517.61 Q1010.93 1515.87 1007.83 1515.87 Q1005.63 1515.87 1003.18 1516.63 Q1000.75 1517.4 997.968 1518.95 L997.968 1514.23 Q1000.79 1513.09 1003.25 1512.51 Q1005.7 1511.93 1007.74 1511.93 Q1013.11 1511.93 1016.3 1514.62 Q1019.5 1517.31 1019.5 1521.8 Q1019.5 1523.93 1018.69 1525.85 Q1017.9 1527.74 1015.79 1530.34 Q1015.21 1531.01 1012.11 1534.23 Q1009.01 1537.42 1003.36 1543.18 Z\" fill=\"#000000\" fill-rule=\"evenodd\" fill-opacity=\"1\" /><path clip-path=\"url(#clip750)\" d=\"M 0 0 M1039.5 1515.64 Q1035.88 1515.64 1034.06 1519.2 Q1032.25 1522.75 1032.25 1529.87 Q1032.25 1536.98 1034.06 1540.55 Q1035.88 1544.09 1039.5 1544.09 Q1043.13 1544.09 1044.93 1540.55 Q1046.76 1536.98 1046.76 1529.87 Q1046.76 1522.75 1044.93 1519.2 Q1043.13 1515.64 1039.5 1515.64 M1039.5 1511.93 Q1045.31 1511.93 1048.36 1516.54 Q1051.44 1521.12 1051.44 1529.87 Q1051.44 1538.6 1048.36 1543.21 Q1045.31 1547.79 1039.5 1547.79 Q1033.69 1547.79 1030.61 1543.21 Q1027.55 1538.6 1027.55 1529.87 Q1027.55 1521.12 1030.61 1516.54 Q1033.69 1511.93 1039.5 1511.93 Z\" fill=\"#000000\" fill-rule=\"evenodd\" fill-opacity=\"1\" /><path clip-path=\"url(#clip750)\" d=\"M 0 0 M1059.66 1541.24 L1064.54 1541.24 L1064.54 1547.12 L1059.66 1547.12 L1059.66 1541.24 Z\" fill=\"#000000\" fill-rule=\"evenodd\" fill-opacity=\"1\" /><path clip-path=\"url(#clip750)\" d=\"M 0 0 M1084.73 1515.64 Q1081.12 1515.64 1079.29 1519.2 Q1077.48 1522.75 1077.48 1529.87 Q1077.48 1536.98 1079.29 1540.55 Q1081.12 1544.09 1084.73 1544.09 Q1088.36 1544.09 1090.17 1540.55 Q1091.99 1536.98 1091.99 1529.87 Q1091.99 1522.75 1090.17 1519.2 Q1088.36 1515.64 1084.73 1515.64 M1084.73 1511.93 Q1090.54 1511.93 1093.59 1516.54 Q1096.67 1521.12 1096.67 1529.87 Q1096.67 1538.6 1093.59 1543.21 Q1090.54 1547.79 1084.73 1547.79 Q1078.92 1547.79 1075.84 1543.21 Q1072.78 1538.6 1072.78 1529.87 Q1072.78 1521.12 1075.84 1516.54 Q1078.92 1511.93 1084.73 1511.93 Z\" fill=\"#000000\" fill-rule=\"evenodd\" fill-opacity=\"1\" /><path clip-path=\"url(#clip750)\" d=\"M 0 0 M1521.94 1543.18 L1538.25 1543.18 L1538.25 1547.12 L1516.31 1547.12 L1516.31 1543.18 Q1518.97 1540.43 1523.56 1535.8 Q1528.16 1531.15 1529.34 1529.81 Q1531.59 1527.28 1532.47 1525.55 Q1533.37 1523.79 1533.37 1522.1 Q1533.37 1519.34 1531.43 1517.61 Q1529.5 1515.87 1526.4 1515.87 Q1524.2 1515.87 1521.75 1516.63 Q1519.32 1517.4 1516.54 1518.95 L1516.54 1514.23 Q1519.37 1513.09 1521.82 1512.51 Q1524.27 1511.93 1526.31 1511.93 Q1531.68 1511.93 1534.87 1514.62 Q1538.07 1517.31 1538.07 1521.8 Q1538.07 1523.93 1537.26 1525.85 Q1536.47 1527.74 1534.37 1530.34 Q1533.79 1531.01 1530.69 1534.23 Q1527.58 1537.42 1521.94 1543.18 Z\" fill=\"#000000\" fill-rule=\"evenodd\" fill-opacity=\"1\" /><path clip-path=\"url(#clip750)\" d=\"M 0 0 M1552.1 1543.18 L1568.42 1543.18 L1568.42 1547.12 L1546.47 1547.12 L1546.47 1543.18 Q1549.13 1540.43 1553.72 1535.8 Q1558.32 1531.15 1559.5 1529.81 Q1561.75 1527.28 1562.63 1525.55 Q1563.53 1523.79 1563.53 1522.1 Q1563.53 1519.34 1561.59 1517.61 Q1559.67 1515.87 1556.56 1515.87 Q1554.37 1515.87 1551.91 1516.63 Q1549.48 1517.4 1546.7 1518.95 L1546.7 1514.23 Q1549.53 1513.09 1551.98 1512.51 Q1554.43 1511.93 1556.47 1511.93 Q1561.84 1511.93 1565.04 1514.62 Q1568.23 1517.31 1568.23 1521.8 Q1568.23 1523.93 1567.42 1525.85 Q1566.63 1527.74 1564.53 1530.34 Q1563.95 1531.01 1560.85 1534.23 Q1557.75 1537.42 1552.1 1543.18 Z\" fill=\"#000000\" fill-rule=\"evenodd\" fill-opacity=\"1\" /><path clip-path=\"url(#clip750)\" d=\"M 0 0 M1578.23 1541.24 L1583.12 1541.24 L1583.12 1547.12 L1578.23 1547.12 L1578.23 1541.24 Z\" fill=\"#000000\" fill-rule=\"evenodd\" fill-opacity=\"1\" /><path clip-path=\"url(#clip750)\" d=\"M 0 0 M1593.35 1512.56 L1611.7 1512.56 L1611.7 1516.5 L1597.63 1516.5 L1597.63 1524.97 Q1598.65 1524.62 1599.67 1524.46 Q1600.68 1524.27 1601.7 1524.27 Q1607.49 1524.27 1610.87 1527.44 Q1614.25 1530.62 1614.25 1536.03 Q1614.25 1541.61 1610.78 1544.71 Q1607.31 1547.79 1600.99 1547.79 Q1598.81 1547.79 1596.54 1547.42 Q1594.3 1547.05 1591.89 1546.31 L1591.89 1541.61 Q1593.97 1542.74 1596.19 1543.3 Q1598.42 1543.86 1600.89 1543.86 Q1604.9 1543.86 1607.24 1541.75 Q1609.57 1539.64 1609.57 1536.03 Q1609.57 1532.42 1607.24 1530.31 Q1604.9 1528.21 1600.89 1528.21 Q1599.02 1528.21 1597.14 1528.62 Q1595.29 1529.04 1593.35 1529.92 L1593.35 1512.56 Z\" fill=\"#000000\" fill-rule=\"evenodd\" fill-opacity=\"1\" /><path clip-path=\"url(#clip750)\" d=\"M 0 0 M2039.51 1543.18 L2055.83 1543.18 L2055.83 1547.12 L2033.89 1547.12 L2033.89 1543.18 Q2036.55 1540.43 2041.13 1535.8 Q2045.74 1531.15 2046.92 1529.81 Q2049.17 1527.28 2050.05 1525.55 Q2050.95 1523.79 2050.95 1522.1 Q2050.95 1519.34 2049 1517.61 Q2047.08 1515.87 2043.98 1515.87 Q2041.78 1515.87 2039.33 1516.63 Q2036.9 1517.4 2034.12 1518.95 L2034.12 1514.23 Q2036.94 1513.09 2039.4 1512.51 Q2041.85 1511.93 2043.89 1511.93 Q2049.26 1511.93 2052.45 1514.62 Q2055.65 1517.31 2055.65 1521.8 Q2055.65 1523.93 2054.84 1525.85 Q2054.05 1527.74 2051.94 1530.34 Q2051.37 1531.01 2048.26 1534.23 Q2045.16 1537.42 2039.51 1543.18 Z\" fill=\"#000000\" fill-rule=\"evenodd\" fill-opacity=\"1\" /><path clip-path=\"url(#clip750)\" d=\"M 0 0 M2065.69 1512.56 L2084.05 1512.56 L2084.05 1516.5 L2069.98 1516.5 L2069.98 1524.97 Q2071 1524.62 2072.01 1524.46 Q2073.03 1524.27 2074.05 1524.27 Q2079.84 1524.27 2083.22 1527.44 Q2086.6 1530.62 2086.6 1536.03 Q2086.6 1541.61 2083.12 1544.71 Q2079.65 1547.79 2073.33 1547.79 Q2071.16 1547.79 2068.89 1547.42 Q2066.64 1547.05 2064.24 1546.31 L2064.24 1541.61 Q2066.32 1542.74 2068.54 1543.3 Q2070.76 1543.86 2073.24 1543.86 Q2077.25 1543.86 2079.58 1541.75 Q2081.92 1539.64 2081.92 1536.03 Q2081.92 1532.42 2079.58 1530.31 Q2077.25 1528.21 2073.24 1528.21 Q2071.37 1528.21 2069.49 1528.62 Q2067.64 1529.04 2065.69 1529.92 L2065.69 1512.56 Z\" fill=\"#000000\" fill-rule=\"evenodd\" fill-opacity=\"1\" /><path clip-path=\"url(#clip750)\" d=\"M 0 0 M2095.81 1541.24 L2100.69 1541.24 L2100.69 1547.12 L2095.81 1547.12 L2095.81 1541.24 Z\" fill=\"#000000\" fill-rule=\"evenodd\" fill-opacity=\"1\" /><path clip-path=\"url(#clip750)\" d=\"M 0 0 M2120.88 1515.64 Q2117.27 1515.64 2115.44 1519.2 Q2113.63 1522.75 2113.63 1529.87 Q2113.63 1536.98 2115.44 1540.55 Q2117.27 1544.09 2120.88 1544.09 Q2124.51 1544.09 2126.32 1540.55 Q2128.15 1536.98 2128.15 1529.87 Q2128.15 1522.75 2126.32 1519.2 Q2124.51 1515.64 2120.88 1515.64 M2120.88 1511.93 Q2126.69 1511.93 2129.74 1516.54 Q2132.82 1521.12 2132.82 1529.87 Q2132.82 1538.6 2129.74 1543.21 Q2126.69 1547.79 2120.88 1547.79 Q2115.07 1547.79 2111.99 1543.21 Q2108.93 1538.6 2108.93 1529.87 Q2108.93 1521.12 2111.99 1516.54 Q2115.07 1511.93 2120.88 1511.93 Z\" fill=\"#000000\" fill-rule=\"evenodd\" fill-opacity=\"1\" /><polyline clip-path=\"url(#clip752)\" style=\"stroke:#000000; stroke-width:2; stroke-opacity:0.1; fill:none\" points=\"\n",
       "  156.112,1483.56 2352.76,1483.56 \n",
       "  \"/>\n",
       "<polyline clip-path=\"url(#clip752)\" style=\"stroke:#000000; stroke-width:2; stroke-opacity:0.1; fill:none\" points=\"\n",
       "  156.112,1062.6 2352.76,1062.6 \n",
       "  \"/>\n",
       "<polyline clip-path=\"url(#clip752)\" style=\"stroke:#000000; stroke-width:2; stroke-opacity:0.1; fill:none\" points=\"\n",
       "  156.112,641.634 2352.76,641.634 \n",
       "  \"/>\n",
       "<polyline clip-path=\"url(#clip752)\" style=\"stroke:#000000; stroke-width:2; stroke-opacity:0.1; fill:none\" points=\"\n",
       "  156.112,220.672 2352.76,220.672 \n",
       "  \"/>\n",
       "<polyline clip-path=\"url(#clip750)\" style=\"stroke:#000000; stroke-width:4; stroke-opacity:1; fill:none\" points=\"\n",
       "  156.112,1486.45 156.112,47.2441 \n",
       "  \"/>\n",
       "<polyline clip-path=\"url(#clip750)\" style=\"stroke:#000000; stroke-width:4; stroke-opacity:1; fill:none\" points=\"\n",
       "  156.112,1483.56 182.472,1483.56 \n",
       "  \"/>\n",
       "<polyline clip-path=\"url(#clip750)\" style=\"stroke:#000000; stroke-width:4; stroke-opacity:1; fill:none\" points=\"\n",
       "  156.112,1062.6 182.472,1062.6 \n",
       "  \"/>\n",
       "<polyline clip-path=\"url(#clip750)\" style=\"stroke:#000000; stroke-width:4; stroke-opacity:1; fill:none\" points=\"\n",
       "  156.112,641.634 182.472,641.634 \n",
       "  \"/>\n",
       "<polyline clip-path=\"url(#clip750)\" style=\"stroke:#000000; stroke-width:4; stroke-opacity:1; fill:none\" points=\"\n",
       "  156.112,220.672 182.472,220.672 \n",
       "  \"/>\n",
       "<path clip-path=\"url(#clip750)\" d=\"M 0 0 M62.9365 1469.36 Q59.3254 1469.36 57.4967 1472.92 Q55.6912 1476.46 55.6912 1483.59 Q55.6912 1490.7 57.4967 1494.26 Q59.3254 1497.8 62.9365 1497.8 Q66.5707 1497.8 68.3763 1494.26 Q70.205 1490.7 70.205 1483.59 Q70.205 1476.46 68.3763 1472.92 Q66.5707 1469.36 62.9365 1469.36 M62.9365 1465.65 Q68.7467 1465.65 71.8022 1470.26 Q74.8809 1474.84 74.8809 1483.59 Q74.8809 1492.32 71.8022 1496.93 Q68.7467 1501.51 62.9365 1501.51 Q57.1264 1501.51 54.0477 1496.93 Q50.9921 1492.32 50.9921 1483.59 Q50.9921 1474.84 54.0477 1470.26 Q57.1264 1465.65 62.9365 1465.65 Z\" fill=\"#000000\" fill-rule=\"evenodd\" fill-opacity=\"1\" /><path clip-path=\"url(#clip750)\" d=\"M 0 0 M83.0984 1494.96 L87.9827 1494.96 L87.9827 1500.84 L83.0984 1500.84 L83.0984 1494.96 Z\" fill=\"#000000\" fill-rule=\"evenodd\" fill-opacity=\"1\" /><path clip-path=\"url(#clip750)\" d=\"M 0 0 M108.168 1469.36 Q104.557 1469.36 102.728 1472.92 Q100.922 1476.46 100.922 1483.59 Q100.922 1490.7 102.728 1494.26 Q104.557 1497.8 108.168 1497.8 Q111.802 1497.8 113.608 1494.26 Q115.436 1490.7 115.436 1483.59 Q115.436 1476.46 113.608 1472.92 Q111.802 1469.36 108.168 1469.36 M108.168 1465.65 Q113.978 1465.65 117.033 1470.26 Q120.112 1474.84 120.112 1483.59 Q120.112 1492.32 117.033 1496.93 Q113.978 1501.51 108.168 1501.51 Q102.358 1501.51 99.2789 1496.93 Q96.2234 1492.32 96.2234 1483.59 Q96.2234 1474.84 99.2789 1470.26 Q102.358 1465.65 108.168 1465.65 Z\" fill=\"#000000\" fill-rule=\"evenodd\" fill-opacity=\"1\" /><path clip-path=\"url(#clip750)\" d=\"M 0 0 M64.1634 1048.39 Q60.5523 1048.39 58.7236 1051.96 Q56.918 1055.5 56.918 1062.63 Q56.918 1069.74 58.7236 1073.3 Q60.5523 1076.84 64.1634 1076.84 Q67.7976 1076.84 69.6031 1073.3 Q71.4318 1069.74 71.4318 1062.63 Q71.4318 1055.5 69.6031 1051.96 Q67.7976 1048.39 64.1634 1048.39 M64.1634 1044.69 Q69.9735 1044.69 73.029 1049.3 Q76.1077 1053.88 76.1077 1062.63 Q76.1077 1071.36 73.029 1075.96 Q69.9735 1080.55 64.1634 1080.55 Q58.3532 1080.55 55.2745 1075.96 Q52.219 1071.36 52.219 1062.63 Q52.219 1053.88 55.2745 1049.3 Q58.3532 1044.69 64.1634 1044.69 Z\" fill=\"#000000\" fill-rule=\"evenodd\" fill-opacity=\"1\" /><path clip-path=\"url(#clip750)\" d=\"M 0 0 M84.3253 1074 L89.2095 1074 L89.2095 1079.88 L84.3253 1079.88 L84.3253 1074 Z\" fill=\"#000000\" fill-rule=\"evenodd\" fill-opacity=\"1\" /><path clip-path=\"url(#clip750)\" d=\"M 0 0 M100.205 1075.94 L107.844 1075.94 L107.844 1049.57 L99.5335 1051.24 L99.5335 1046.98 L107.797 1045.32 L112.473 1045.32 L112.473 1075.94 L120.112 1075.94 L120.112 1079.88 L100.205 1079.88 L100.205 1075.94 Z\" fill=\"#000000\" fill-rule=\"evenodd\" fill-opacity=\"1\" /><path clip-path=\"url(#clip750)\" d=\"M 0 0 M64.5337 627.432 Q60.9226 627.432 59.0939 630.997 Q57.2884 634.539 57.2884 641.668 Q57.2884 648.775 59.0939 652.34 Q60.9226 655.881 64.5337 655.881 Q68.168 655.881 69.9735 652.34 Q71.8022 648.775 71.8022 641.668 Q71.8022 634.539 69.9735 630.997 Q68.168 627.432 64.5337 627.432 M64.5337 623.729 Q70.3439 623.729 73.3994 628.335 Q76.4781 632.918 76.4781 641.668 Q76.4781 650.395 73.3994 655.002 Q70.3439 659.585 64.5337 659.585 Q58.7236 659.585 55.6449 655.002 Q52.5893 650.395 52.5893 641.668 Q52.5893 632.918 55.6449 628.335 Q58.7236 623.729 64.5337 623.729 Z\" fill=\"#000000\" fill-rule=\"evenodd\" fill-opacity=\"1\" /><path clip-path=\"url(#clip750)\" d=\"M 0 0 M84.6956 653.034 L89.5799 653.034 L89.5799 658.914 L84.6956 658.914 L84.6956 653.034 Z\" fill=\"#000000\" fill-rule=\"evenodd\" fill-opacity=\"1\" /><path clip-path=\"url(#clip750)\" d=\"M 0 0 M103.793 654.978 L120.112 654.978 L120.112 658.914 L98.1678 658.914 L98.1678 654.978 Q100.83 652.224 105.413 647.594 Q110.02 642.941 111.2 641.599 Q113.445 639.076 114.325 637.34 Q115.228 635.58 115.228 633.891 Q115.228 631.136 113.283 629.4 Q111.362 627.664 108.26 627.664 Q106.061 627.664 103.608 628.428 Q101.177 629.192 98.3993 630.742 L98.3993 626.02 Q101.223 624.886 103.677 624.307 Q106.131 623.729 108.168 623.729 Q113.538 623.729 116.733 626.414 Q119.927 629.099 119.927 633.59 Q119.927 635.719 119.117 637.641 Q118.33 639.539 116.223 642.131 Q115.645 642.803 112.543 646.02 Q109.441 649.215 103.793 654.978 Z\" fill=\"#000000\" fill-rule=\"evenodd\" fill-opacity=\"1\" /><path clip-path=\"url(#clip750)\" d=\"M 0 0 M63.5847 206.471 Q59.9736 206.471 58.1449 210.035 Q56.3393 213.577 56.3393 220.707 Q56.3393 227.813 58.1449 231.378 Q59.9736 234.919 63.5847 234.919 Q67.2189 234.919 69.0244 231.378 Q70.8531 227.813 70.8531 220.707 Q70.8531 213.577 69.0244 210.035 Q67.2189 206.471 63.5847 206.471 M63.5847 202.767 Q69.3948 202.767 72.4503 207.373 Q75.529 211.957 75.529 220.707 Q75.529 229.433 72.4503 234.04 Q69.3948 238.623 63.5847 238.623 Q57.7745 238.623 54.6958 234.04 Q51.6403 229.433 51.6403 220.707 Q51.6403 211.957 54.6958 207.373 Q57.7745 202.767 63.5847 202.767 Z\" fill=\"#000000\" fill-rule=\"evenodd\" fill-opacity=\"1\" /><path clip-path=\"url(#clip750)\" d=\"M 0 0 M83.7466 232.072 L88.6308 232.072 L88.6308 237.952 L83.7466 237.952 L83.7466 232.072 Z\" fill=\"#000000\" fill-rule=\"evenodd\" fill-opacity=\"1\" /><path clip-path=\"url(#clip750)\" d=\"M 0 0 M112.983 219.318 Q116.339 220.035 118.214 222.304 Q120.112 224.572 120.112 227.906 Q120.112 233.021 116.594 235.822 Q113.075 238.623 106.594 238.623 Q104.418 238.623 102.103 238.183 Q99.8113 237.767 97.3576 236.91 L97.3576 232.396 Q99.3021 233.531 101.617 234.109 Q103.932 234.688 106.455 234.688 Q110.853 234.688 113.145 232.952 Q115.459 231.216 115.459 227.906 Q115.459 224.85 113.307 223.137 Q111.177 221.401 107.358 221.401 L103.33 221.401 L103.33 217.558 L107.543 217.558 Q110.992 217.558 112.82 216.193 Q114.649 214.804 114.649 212.211 Q114.649 209.549 112.751 208.137 Q110.876 206.702 107.358 206.702 Q105.436 206.702 103.237 207.119 Q101.038 207.535 98.3993 208.415 L98.3993 204.248 Q101.061 203.508 103.376 203.137 Q105.714 202.767 107.774 202.767 Q113.098 202.767 116.2 205.197 Q119.302 207.605 119.302 211.725 Q119.302 214.595 117.658 216.586 Q116.015 218.554 112.983 219.318 Z\" fill=\"#000000\" fill-rule=\"evenodd\" fill-opacity=\"1\" /><polyline clip-path=\"url(#clip752)\" style=\"stroke:#009af9; stroke-width:4; stroke-opacity:1; fill:none\" points=\"\n",
       "  218.281,1445.72 425.512,1374.14 632.742,1255.91 839.973,1049.11 1047.2,677.923 1254.43,87.9763 1461.66,677.923 1668.9,1049.11 1876.13,1255.91 2083.36,1374.14 \n",
       "  2290.59,1445.72 \n",
       "  \"/>\n",
       "<polyline clip-path=\"url(#clip752)\" style=\"stroke:#e26f46; stroke-width:4; stroke-opacity:1; fill:none\" points=\"\n",
       "  1047.2,677.923 1254.43,87.9763 1461.66,677.923 \n",
       "  \"/>\n",
       "<path clip-path=\"url(#clip750)\" d=\"\n",
       "M1983.03 276.658 L2279.53 276.658 L2279.53 95.2176 L1983.03 95.2176  Z\n",
       "  \" fill=\"#ffffff\" fill-rule=\"evenodd\" fill-opacity=\"1\"/>\n",
       "<polyline clip-path=\"url(#clip750)\" style=\"stroke:#000000; stroke-width:4; stroke-opacity:1; fill:none\" points=\"\n",
       "  1983.03,276.658 2279.53,276.658 2279.53,95.2176 1983.03,95.2176 1983.03,276.658 \n",
       "  \"/>\n",
       "<polyline clip-path=\"url(#clip750)\" style=\"stroke:#009af9; stroke-width:4; stroke-opacity:1; fill:none\" points=\"\n",
       "  2007.44,155.698 2153.88,155.698 \n",
       "  \"/>\n",
       "<path clip-path=\"url(#clip750)\" d=\"M 0 0 M2192.13 175.385 Q2190.33 180.015 2188.61 181.427 Q2186.9 182.839 2184.03 182.839 L2180.63 182.839 L2180.63 179.274 L2183.13 179.274 Q2184.89 179.274 2185.86 178.44 Q2186.83 177.607 2188.01 174.505 L2188.78 172.561 L2178.29 147.052 L2182.8 147.052 L2190.91 167.329 L2199.01 147.052 L2203.52 147.052 L2192.13 175.385 Z\" fill=\"#000000\" fill-rule=\"evenodd\" fill-opacity=\"1\" /><path clip-path=\"url(#clip750)\" d=\"M 0 0 M2210.81 169.042 L2218.45 169.042 L2218.45 142.677 L2210.14 144.343 L2210.14 140.084 L2218.41 138.418 L2223.08 138.418 L2223.08 169.042 L2230.72 169.042 L2230.72 172.978 L2210.81 172.978 L2210.81 169.042 Z\" fill=\"#000000\" fill-rule=\"evenodd\" fill-opacity=\"1\" /><polyline clip-path=\"url(#clip750)\" style=\"stroke:#e26f46; stroke-width:4; stroke-opacity:1; fill:none\" points=\"\n",
       "  2007.44,216.178 2153.88,216.178 \n",
       "  \"/>\n",
       "<path clip-path=\"url(#clip750)\" d=\"M 0 0 M2192.13 235.865 Q2190.33 240.495 2188.61 241.907 Q2186.9 243.319 2184.03 243.319 L2180.63 243.319 L2180.63 239.754 L2183.13 239.754 Q2184.89 239.754 2185.86 238.92 Q2186.83 238.087 2188.01 234.985 L2188.78 233.041 L2178.29 207.532 L2182.8 207.532 L2190.91 227.809 L2199.01 207.532 L2203.52 207.532 L2192.13 235.865 Z\" fill=\"#000000\" fill-rule=\"evenodd\" fill-opacity=\"1\" /><path clip-path=\"url(#clip750)\" d=\"M 0 0 M2214.03 229.522 L2230.35 229.522 L2230.35 233.458 L2208.41 233.458 L2208.41 229.522 Q2211.07 226.768 2215.65 222.138 Q2220.26 217.485 2221.44 216.143 Q2223.68 213.62 2224.56 211.884 Q2225.47 210.124 2225.47 208.435 Q2225.47 205.68 2223.52 203.944 Q2221.6 202.208 2218.5 202.208 Q2216.3 202.208 2213.85 202.972 Q2211.41 203.735 2208.64 205.286 L2208.64 200.564 Q2211.46 199.43 2213.91 198.851 Q2216.37 198.273 2218.41 198.273 Q2223.78 198.273 2226.97 200.958 Q2230.16 203.643 2230.16 208.134 Q2230.16 210.263 2229.35 212.185 Q2228.57 214.083 2226.46 216.675 Q2225.88 217.347 2222.78 220.564 Q2219.68 223.759 2214.03 229.522 Z\" fill=\"#000000\" fill-rule=\"evenodd\" fill-opacity=\"1\" /></svg>\n"
      ]
     },
     "execution_count": 20,
     "metadata": {},
     "output_type": "execute_result"
    }
   ],
   "source": [
    "plot(usable_ω, real(χch_ω[usable_ω]))\n",
    "plot!(usable_ω_2, real(χch_ω_2[usable_ω_2]))"
   ]
  },
  {
   "cell_type": "markdown",
   "metadata": {},
   "source": []
  }
 ],
 "metadata": {
  "kernelspec": {
   "display_name": "Julia 1.6.0",
   "language": "julia",
   "name": "julia-1.6"
  },
  "language_info": {
   "file_extension": ".jl",
   "mimetype": "application/julia",
   "name": "julia",
   "version": "1.6.0"
  }
 },
 "nbformat": 4,
 "nbformat_minor": 4
}
