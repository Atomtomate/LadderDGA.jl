{
 "cells": [
  {
   "cell_type": "code",
   "execution_count": 187,
   "metadata": {},
   "outputs": [],
   "source": [
    "include(\"src/dispersion.jl\")\n",
    "using Combinatorics\n",
    "using LinearAlgebra"
   ]
  },
  {
   "cell_type": "code",
   "execution_count": 326,
   "metadata": {},
   "outputs": [],
   "source": [
    "Nk = 6\n",
    "D = 3\n",
    "tsc = if D == 2 0.5 else 0.40824829046386301636 end\n",
    "ki, kg = gen_kGrid(Nk, D; min = 0, max = 2π)\n",
    "ki2, kg2 = gen_kGrid(Nk, D; min = -π, max = π)\n",
    "qi, qg = gen_kGrid(Int(Nk/2)+1, D; min = 0, max = π, include_min=true);\n",
    "ek = squareLattice_ekGrid(kg, tsc)\n",
    "eq = squareLattice_ekGrid(qg, tsc)\n",
    "ek2 = squareLattice_ekGrid(kg2, tsc)\n",
    "\n",
    "kg_cut = cut_mirror(collect(kg))\n",
    "ek_cut = cut_mirror(collect(ek))\n",
    "ki_cut = cut_mirror(collect(ki))\n",
    "ki_red, kg_red, ek_red = reduce_kGrid.((ki, kg, ek));\n",
    "ki2_red, kg2_red, ek2_red = reduce_kGrid.((ki2, kg2, ek2));\n",
    "qi_red, qg_red, eq_red = reduce_kGrid.((qi, qg, eq));\n",
    "kg_rcut = reshape(collect(kg_red)[1:length(collect(qg_red))], size(collect(qg_red))...)\n",
    "ki_rcut = reshape(collect(ki_red)[1:length(collect(qg_red))], size(collect(qg_red))...);\n",
    "ek_rcut = reshape(collect(ek_red)[1:length(collect(qg_red))], size(collect(qg_red))...);\n",
    "kg2_rcut = reshape(collect(kg2_red)[1:length(collect(qg_red))], size(collect(qg_red))...)\n",
    "ki2_rcut = reshape(collect(ki2_red)[1:length(collect(qg_red))], size(collect(qg_red))...);\n",
    "ek2_rcut = reshape(collect(ek2_red)[1:length(collect(qg_red))], size(collect(qg_red))...);\n",
    "ki_red_exp = reshape(expand_kGrid(ki_red, collect(ek_red)[:]), size(ek)...);"
   ]
  },
  {
   "cell_type": "code",
   "execution_count": 331,
   "metadata": {},
   "outputs": [
    {
     "data": {
      "text/plain": [
       "expand_mirror (generic function with 2 methods)"
      ]
     },
     "execution_count": 331,
     "metadata": {},
     "output_type": "execute_result"
    }
   ],
   "source": [
    "\n",
    "function expand_kGrid(reducedInd, reducedArr::Array{T,1}) where T <: Number\n",
    "     D = length(reducedInd[1])\n",
    "     Nk = maximum(maximum.(reducedInd))\n",
    "     newArr = Array{eltype(reducedArr)}(undef, (Nk*ones(Int64, D))...)\n",
    "     for (ri,redInd) in enumerate(reducedInd)\n",
    "         perms = unique(collect(permutations(redInd)))\n",
    "         for p in perms\n",
    "             newArr[p...] = reducedArr[ri]\n",
    "          end\n",
    "     end\n",
    "     return newArr\n",
    "end\n",
    "\n",
    "function cut_mirror(arr)\n",
    "    res = nothing\n",
    "    Nk_cut = Int(size(arr,1)/2) + 1\n",
    "    if ndims(arr) == 2\n",
    "        res = arr[1:Nk_cut, 1:Nk_cut]\n",
    "    elseif ndims(arr) == 3\n",
    "        res = arr[1:Nk_cut, 1:Nk_cut, 1:Nk_cut]\n",
    "    else\n",
    "        println(stderr, \"Error trying to reduce grid! Number of dimensions not recognized\")\n",
    "    end\n",
    "    return res\n",
    "end\n",
    "\n",
    "function expand_mirror(arr)\n",
    "    res = nothing\n",
    "    Nk_old = size(arr,1)\n",
    "    Nk_expand = Nk_old - 2\n",
    "    size_new = size(arr) .+ Nk_expand\n",
    "    \n",
    "    res = Array{eltype(arr)}(undef, size_new...)\n",
    "    if ndims(arr) == 2\n",
    "        res[1:Nk_old,1:Nk_old] = arr\n",
    "        res[Nk_old+1:end,1:Nk_old] = res[Nk_old-1:-1:2,1:Nk_old]\n",
    "        res[1:end,Nk_old+1:end] = res[1:end,Nk_old-1:-1:2]\n",
    "        for (i,ai) in enumerate((Nk_old-1):-1:2)\n",
    "            res[Nk_old+i,Nk_old+i] = arr[ai,ai]\n",
    "        end\n",
    "    elseif ndims(arr) == 3\n",
    "        res[1:Nk_old,1:Nk_old,1:Nk_old] = arr\n",
    "        res[Nk_old+1:end,1:Nk_old,1:Nk_old] = res[Nk_old-1:-1:2,1:Nk_old,1:Nk_old]\n",
    "        res[1:end,Nk_old+1:end,1:Nk_old] = res[1:end,Nk_old-1:-1:2,1:Nk_old]\n",
    "        for (i,ai) in enumerate((Nk_old-1):-1:2)\n",
    "            res[Nk_old+i,Nk_old+i,1:Nk_old] = arr[ai,ai,1:Nk_old]\n",
    "        end\n",
    "        res[1:end,1:end,Nk_old+1:end] .= res[1:end,1:end,Nk_old-1:-1:2]\n",
    "        for (i,ai) in enumerate((Nk_old-1):-1:2)\n",
    "            res[Nk_old+i,Nk_old+i,Nk_old+i] = arr[ai,ai,ai]\n",
    "        end\n",
    "    else\n",
    "        println(stderr, \"Error trying to reduce grid! Number of dimensions not recognized\")\n",
    "    end\n",
    "    return res\n",
    "end"
   ]
  },
  {
   "cell_type": "code",
   "execution_count": 332,
   "metadata": {},
   "outputs": [
    {
     "data": {
      "text/plain": [
       "6×6×6 Array{Tuple{Int64,Int64,Int64},3}:\n",
       "[:, :, 1] =\n",
       " (1, 1, 1)  (1, 2, 1)  (1, 3, 1)  (1, 4, 1)  (1, 5, 1)  (1, 6, 1)\n",
       " (2, 1, 1)  (2, 2, 1)  (2, 3, 1)  (2, 4, 1)  (2, 5, 1)  (2, 6, 1)\n",
       " (3, 1, 1)  (3, 2, 1)  (3, 3, 1)  (3, 4, 1)  (3, 5, 1)  (3, 6, 1)\n",
       " (4, 1, 1)  (4, 2, 1)  (4, 3, 1)  (4, 4, 1)  (4, 5, 1)  (4, 6, 1)\n",
       " (5, 1, 1)  (5, 2, 1)  (5, 3, 1)  (5, 4, 1)  (5, 5, 1)  (5, 6, 1)\n",
       " (6, 1, 1)  (6, 2, 1)  (6, 3, 1)  (6, 4, 1)  (6, 5, 1)  (6, 6, 1)\n",
       "\n",
       "[:, :, 2] =\n",
       " (1, 1, 2)  (1, 2, 2)  (1, 3, 2)  (1, 4, 2)  (1, 5, 2)  (1, 6, 2)\n",
       " (2, 1, 2)  (2, 2, 2)  (2, 3, 2)  (2, 4, 2)  (2, 5, 2)  (2, 6, 2)\n",
       " (3, 1, 2)  (3, 2, 2)  (3, 3, 2)  (3, 4, 2)  (3, 5, 2)  (3, 6, 2)\n",
       " (4, 1, 2)  (4, 2, 2)  (4, 3, 2)  (4, 4, 2)  (4, 5, 2)  (4, 6, 2)\n",
       " (5, 1, 2)  (5, 2, 2)  (5, 3, 2)  (5, 4, 2)  (5, 5, 2)  (5, 6, 2)\n",
       " (6, 1, 2)  (6, 2, 2)  (6, 3, 2)  (6, 4, 2)  (6, 5, 2)  (6, 6, 2)\n",
       "\n",
       "[:, :, 3] =\n",
       " (1, 1, 3)  (1, 2, 3)  (1, 3, 3)  (1, 4, 3)  (1, 5, 3)  (1, 6, 3)\n",
       " (2, 1, 3)  (2, 2, 3)  (2, 3, 3)  (2, 4, 3)  (2, 5, 3)  (2, 6, 3)\n",
       " (3, 1, 3)  (3, 2, 3)  (3, 3, 3)  (3, 4, 3)  (3, 5, 3)  (3, 6, 3)\n",
       " (4, 1, 3)  (4, 2, 3)  (4, 3, 3)  (4, 4, 3)  (4, 5, 3)  (4, 6, 3)\n",
       " (5, 1, 3)  (5, 2, 3)  (5, 3, 3)  (5, 4, 3)  (5, 5, 3)  (5, 6, 3)\n",
       " (6, 1, 3)  (6, 2, 3)  (6, 3, 3)  (6, 4, 3)  (6, 5, 3)  (6, 6, 3)\n",
       "\n",
       "[:, :, 4] =\n",
       " (1, 1, 4)  (1, 2, 4)  (1, 3, 4)  (1, 4, 4)  (1, 5, 4)  (1, 6, 4)\n",
       " (2, 1, 4)  (2, 2, 4)  (2, 3, 4)  (2, 4, 4)  (2, 5, 4)  (2, 6, 4)\n",
       " (3, 1, 4)  (3, 2, 4)  (3, 3, 4)  (3, 4, 4)  (3, 5, 4)  (3, 6, 4)\n",
       " (4, 1, 4)  (4, 2, 4)  (4, 3, 4)  (4, 4, 4)  (4, 5, 4)  (4, 6, 4)\n",
       " (5, 1, 4)  (5, 2, 4)  (5, 3, 4)  (5, 4, 4)  (5, 5, 4)  (5, 6, 4)\n",
       " (6, 1, 4)  (6, 2, 4)  (6, 3, 4)  (6, 4, 4)  (6, 5, 4)  (6, 6, 4)\n",
       "\n",
       "[:, :, 5] =\n",
       " (1, 1, 5)  (1, 2, 5)  (1, 3, 5)  (1, 4, 5)  (1, 5, 5)  (1, 6, 5)\n",
       " (2, 1, 5)  (2, 2, 5)  (2, 3, 5)  (2, 4, 5)  (2, 5, 5)  (2, 6, 5)\n",
       " (3, 1, 5)  (3, 2, 5)  (3, 3, 5)  (3, 4, 5)  (3, 5, 5)  (3, 6, 5)\n",
       " (4, 1, 5)  (4, 2, 5)  (4, 3, 5)  (4, 4, 5)  (4, 5, 5)  (4, 6, 5)\n",
       " (5, 1, 5)  (5, 2, 5)  (5, 3, 5)  (5, 4, 5)  (5, 5, 5)  (5, 6, 5)\n",
       " (6, 1, 5)  (6, 2, 5)  (6, 3, 5)  (6, 4, 5)  (6, 5, 5)  (6, 6, 5)\n",
       "\n",
       "[:, :, 6] =\n",
       " (1, 1, 6)  (1, 2, 6)  (1, 3, 6)  (1, 4, 6)  (1, 5, 6)  (1, 6, 6)\n",
       " (2, 1, 6)  (2, 2, 6)  (2, 3, 6)  (2, 4, 6)  (2, 5, 6)  (2, 6, 6)\n",
       " (3, 1, 6)  (3, 2, 6)  (3, 3, 6)  (3, 4, 6)  (3, 5, 6)  (3, 6, 6)\n",
       " (4, 1, 6)  (4, 2, 6)  (4, 3, 6)  (4, 4, 6)  (4, 5, 6)  (4, 6, 6)\n",
       " (5, 1, 6)  (5, 2, 6)  (5, 3, 6)  (5, 4, 6)  (5, 5, 6)  (5, 6, 6)\n",
       " (6, 1, 6)  (6, 2, 6)  (6, 3, 6)  (6, 4, 6)  (6, 5, 6)  (6, 6, 6)"
      ]
     },
     "execution_count": 332,
     "metadata": {},
     "output_type": "execute_result"
    }
   ],
   "source": [
    "collect(ki)"
   ]
  },
  {
   "cell_type": "code",
   "execution_count": 333,
   "metadata": {},
   "outputs": [
    {
     "data": {
      "text/plain": [
       "4×4×4 Array{Tuple{Int64,Int64,Int64},3}:\n",
       "[:, :, 1] =\n",
       " (1, 1, 1)  (1, 2, 1)  (1, 3, 1)  (1, 4, 1)\n",
       " (2, 1, 1)  (2, 2, 1)  (2, 3, 1)  (2, 4, 1)\n",
       " (3, 1, 1)  (3, 2, 1)  (3, 3, 1)  (3, 4, 1)\n",
       " (4, 1, 1)  (4, 2, 1)  (4, 3, 1)  (4, 4, 1)\n",
       "\n",
       "[:, :, 2] =\n",
       " (1, 1, 2)  (1, 2, 2)  (1, 3, 2)  (1, 4, 2)\n",
       " (2, 1, 2)  (2, 2, 2)  (2, 3, 2)  (2, 4, 2)\n",
       " (3, 1, 2)  (3, 2, 2)  (3, 3, 2)  (3, 4, 2)\n",
       " (4, 1, 2)  (4, 2, 2)  (4, 3, 2)  (4, 4, 2)\n",
       "\n",
       "[:, :, 3] =\n",
       " (1, 1, 3)  (1, 2, 3)  (1, 3, 3)  (1, 4, 3)\n",
       " (2, 1, 3)  (2, 2, 3)  (2, 3, 3)  (2, 4, 3)\n",
       " (3, 1, 3)  (3, 2, 3)  (3, 3, 3)  (3, 4, 3)\n",
       " (4, 1, 3)  (4, 2, 3)  (4, 3, 3)  (4, 4, 3)\n",
       "\n",
       "[:, :, 4] =\n",
       " (1, 1, 4)  (1, 2, 4)  (1, 3, 4)  (1, 4, 4)\n",
       " (2, 1, 4)  (2, 2, 4)  (2, 3, 4)  (2, 4, 4)\n",
       " (3, 1, 4)  (3, 2, 4)  (3, 3, 4)  (3, 4, 4)\n",
       " (4, 1, 4)  (4, 2, 4)  (4, 3, 4)  (4, 4, 4)"
      ]
     },
     "execution_count": 333,
     "metadata": {},
     "output_type": "execute_result"
    }
   ],
   "source": [
    "cut_mirror(collect(ki))"
   ]
  },
  {
   "cell_type": "code",
   "execution_count": 334,
   "metadata": {},
   "outputs": [
    {
     "data": {
      "text/plain": [
       "6×6×6 Array{Tuple{Int64,Int64,Int64},3}:\n",
       "[:, :, 1] =\n",
       " (1, 1, 1)  (1, 2, 1)  (1, 3, 1)  (1, 4, 1)  (1, 3, 1)  (1, 2, 1)\n",
       " (2, 1, 1)  (2, 2, 1)  (2, 3, 1)  (2, 4, 1)  (2, 3, 1)  (2, 2, 1)\n",
       " (3, 1, 1)  (3, 2, 1)  (3, 3, 1)  (3, 4, 1)  (3, 3, 1)  (3, 2, 1)\n",
       " (4, 1, 1)  (4, 2, 1)  (4, 3, 1)  (4, 4, 1)  (4, 3, 1)  (4, 2, 1)\n",
       " (3, 1, 1)  (3, 2, 1)  (3, 3, 1)  (3, 4, 1)  (3, 3, 1)  (3, 2, 1)\n",
       " (2, 1, 1)  (2, 2, 1)  (2, 3, 1)  (2, 4, 1)  (2, 3, 1)  (2, 2, 1)\n",
       "\n",
       "[:, :, 2] =\n",
       " (1, 1, 2)  (1, 2, 2)  (1, 3, 2)  (1, 4, 2)  (1, 3, 2)  (1, 2, 2)\n",
       " (2, 1, 2)  (2, 2, 2)  (2, 3, 2)  (2, 4, 2)  (2, 3, 2)  (2, 2, 2)\n",
       " (3, 1, 2)  (3, 2, 2)  (3, 3, 2)  (3, 4, 2)  (3, 3, 2)  (3, 2, 2)\n",
       " (4, 1, 2)  (4, 2, 2)  (4, 3, 2)  (4, 4, 2)  (4, 3, 2)  (4, 2, 2)\n",
       " (3, 1, 2)  (3, 2, 2)  (3, 3, 2)  (3, 4, 2)  (3, 3, 2)  (3, 2, 2)\n",
       " (2, 1, 2)  (2, 2, 2)  (2, 3, 2)  (2, 4, 2)  (2, 3, 2)  (2, 2, 2)\n",
       "\n",
       "[:, :, 3] =\n",
       " (1, 1, 3)  (1, 2, 3)  (1, 3, 3)  (1, 4, 3)  (1, 3, 3)  (1, 2, 3)\n",
       " (2, 1, 3)  (2, 2, 3)  (2, 3, 3)  (2, 4, 3)  (2, 3, 3)  (2, 2, 3)\n",
       " (3, 1, 3)  (3, 2, 3)  (3, 3, 3)  (3, 4, 3)  (3, 3, 3)  (3, 2, 3)\n",
       " (4, 1, 3)  (4, 2, 3)  (4, 3, 3)  (4, 4, 3)  (4, 3, 3)  (4, 2, 3)\n",
       " (3, 1, 3)  (3, 2, 3)  (3, 3, 3)  (3, 4, 3)  (3, 3, 3)  (3, 2, 3)\n",
       " (2, 1, 3)  (2, 2, 3)  (2, 3, 3)  (2, 4, 3)  (2, 3, 3)  (2, 2, 3)\n",
       "\n",
       "[:, :, 4] =\n",
       " (1, 1, 4)  (1, 2, 4)  (1, 3, 4)  (1, 4, 4)  (1, 3, 4)  (1, 2, 4)\n",
       " (2, 1, 4)  (2, 2, 4)  (2, 3, 4)  (2, 4, 4)  (2, 3, 4)  (2, 2, 4)\n",
       " (3, 1, 4)  (3, 2, 4)  (3, 3, 4)  (3, 4, 4)  (3, 3, 4)  (3, 2, 4)\n",
       " (4, 1, 4)  (4, 2, 4)  (4, 3, 4)  (4, 4, 4)  (4, 3, 4)  (4, 2, 4)\n",
       " (3, 1, 4)  (3, 2, 4)  (3, 3, 4)  (3, 4, 4)  (3, 3, 4)  (3, 2, 4)\n",
       " (2, 1, 4)  (2, 2, 4)  (2, 3, 4)  (2, 4, 4)  (2, 3, 4)  (2, 2, 4)\n",
       "\n",
       "[:, :, 5] =\n",
       " (1, 1, 3)  (1, 2, 3)  (1, 3, 3)  (1, 4, 3)  (1, 3, 3)  (1, 2, 3)\n",
       " (2, 1, 3)  (2, 2, 3)  (2, 3, 3)  (2, 4, 3)  (2, 3, 3)  (2, 2, 3)\n",
       " (3, 1, 3)  (3, 2, 3)  (3, 3, 3)  (3, 4, 3)  (3, 3, 3)  (3, 2, 3)\n",
       " (4, 1, 3)  (4, 2, 3)  (4, 3, 3)  (4, 4, 3)  (4, 3, 3)  (4, 2, 3)\n",
       " (3, 1, 3)  (3, 2, 3)  (3, 3, 3)  (3, 4, 3)  (3, 3, 3)  (3, 2, 3)\n",
       " (2, 1, 3)  (2, 2, 3)  (2, 3, 3)  (2, 4, 3)  (2, 3, 3)  (2, 2, 3)\n",
       "\n",
       "[:, :, 6] =\n",
       " (1, 1, 2)  (1, 2, 2)  (1, 3, 2)  (1, 4, 2)  (1, 3, 2)  (1, 2, 2)\n",
       " (2, 1, 2)  (2, 2, 2)  (2, 3, 2)  (2, 4, 2)  (2, 3, 2)  (2, 2, 2)\n",
       " (3, 1, 2)  (3, 2, 2)  (3, 3, 2)  (3, 4, 2)  (3, 3, 2)  (3, 2, 2)\n",
       " (4, 1, 2)  (4, 2, 2)  (4, 3, 2)  (4, 4, 2)  (4, 3, 2)  (4, 2, 2)\n",
       " (3, 1, 2)  (3, 2, 2)  (3, 3, 2)  (3, 4, 2)  (3, 3, 2)  (3, 2, 2)\n",
       " (2, 1, 2)  (2, 2, 2)  (2, 3, 2)  (2, 4, 2)  (2, 3, 2)  (2, 2, 2)"
      ]
     },
     "execution_count": 334,
     "metadata": {},
     "output_type": "execute_result"
    }
   ],
   "source": [
    "expand_mirror(ki_cut)"
   ]
  },
  {
   "cell_type": "code",
   "execution_count": 335,
   "metadata": {},
   "outputs": [
    {
     "data": {
      "text/plain": [
       "4-element Array{Float64,1}:\n",
       "  0.23083862038415823\n",
       " -0.5082200119825282\n",
       "  0.25143998795960965\n",
       " -0.6069788036368076"
      ]
     },
     "execution_count": 335,
     "metadata": {},
     "output_type": "execute_result"
    }
   ],
   "source": [
    "td = [t[i,i] for i in (size(t,1)-1):-1:2]"
   ]
  },
  {
   "cell_type": "code",
   "execution_count": 336,
   "metadata": {},
   "outputs": [
    {
     "ename": "ArgumentError",
     "evalue": "ArgumentError: invalid index: (5, 5) of type Tuple{Int64,Int64}",
     "output_type": "error",
     "traceback": [
      "ArgumentError: invalid index: (5, 5) of type Tuple{Int64,Int64}",
      "",
      "Stacktrace:",
      " [1] to_index(::Tuple{Int64,Int64}) at ./indices.jl:297",
      " [2] to_index(::Array{Float64,2}, ::Tuple{Int64,Int64}) at ./indices.jl:274",
      " [3] to_indices at ./indices.jl:325 [inlined]",
      " [4] to_indices at ./indices.jl:321 [inlined]",
      " [5] getindex(::Array{Float64,2}, ::Tuple{Int64,Int64}, ::Tuple{Int64,Int64}, ::Tuple{Int64,Int64}, ::Tuple{Int64,Int64}) at ./abstractarray.jl:980",
      " [6] top-level scope at In[336]:1"
     ]
    }
   ],
   "source": [
    "t[ti...]"
   ]
  },
  {
   "cell_type": "code",
   "execution_count": 185,
   "metadata": {},
   "outputs": [
    {
     "data": {
      "text/plain": [
       "6×2 Array{Float64,2}:\n",
       "  1.4093   -0.16782\n",
       " -0.69623  -0.606979\n",
       "  0.25144   0.148394\n",
       "  0.62563   2.20671\n",
       " -0.1689    1.30387\n",
       " -0.434    -1.23324"
      ]
     },
     "execution_count": 185,
     "metadata": {},
     "output_type": "execute_result"
    }
   ],
   "source": [
    "t[1:end,4-1:-1:2]"
   ]
  },
  {
   "cell_type": "code",
   "execution_count": 149,
   "metadata": {},
   "outputs": [
    {
     "data": {
      "text/plain": [
       "6-element Array{Tuple{Int64,Int64},1}:\n",
       " (1, 1)\n",
       " (2, 1)\n",
       " (2, 2)\n",
       " (3, 1)\n",
       " (3, 2)\n",
       " (3, 3)"
      ]
     },
     "execution_count": 149,
     "metadata": {},
     "output_type": "execute_result"
    }
   ],
   "source": [
    "ki_rcut"
   ]
  },
  {
   "cell_type": "code",
   "execution_count": 150,
   "metadata": {},
   "outputs": [
    {
     "data": {
      "text/plain": [
       "10-element Array{Tuple{Int64,Int64},1}:\n",
       " (1, 1)\n",
       " (2, 1)\n",
       " (2, 2)\n",
       " (3, 1)\n",
       " (3, 2)\n",
       " (3, 3)\n",
       " (4, 1)\n",
       " (4, 2)\n",
       " (4, 3)\n",
       " (4, 4)"
      ]
     },
     "execution_count": 150,
     "metadata": {},
     "output_type": "execute_result"
    }
   ],
   "source": [
    "ki_red"
   ]
  },
  {
   "cell_type": "code",
   "execution_count": 151,
   "metadata": {},
   "outputs": [
    {
     "data": {
      "text/plain": [
       "4×4 Array{Float64,2}:\n",
       "  6.12323e-17  -0.5  -6.12323e-17  0.5\n",
       " -0.5          -1.0  -0.5          0.0\n",
       " -6.12323e-17  -0.5  -1.83697e-16  0.5\n",
       "  0.5           0.0   0.5          1.0"
      ]
     },
     "execution_count": 151,
     "metadata": {},
     "output_type": "execute_result"
    }
   ],
   "source": [
    "collect(ek)"
   ]
  },
  {
   "cell_type": "code",
   "execution_count": 158,
   "metadata": {},
   "outputs": [
    {
     "data": {
      "text/plain": [
       "4×4 Array{Float64,2}:\n",
       "  6.12323e-17  -0.5  -6.12323e-17  0.5\n",
       " -0.5          -1.0  -0.5          0.0\n",
       " -6.12323e-17  -0.5  -1.83697e-16  0.5\n",
       "  0.5           0.0   0.5          1.0"
      ]
     },
     "execution_count": 158,
     "metadata": {},
     "output_type": "execute_result"
    }
   ],
   "source": [
    "reshape(expand_kGrid(collect(ki_red)[:], collect(ek_red)[:]), size(kg)...)"
   ]
  },
  {
   "cell_type": "code",
   "execution_count": 160,
   "metadata": {},
   "outputs": [
    {
     "data": {
      "text/plain": [
       "4×4 Array{Float64,2}:\n",
       "  6.12323e-17  -0.5  -6.12323e-17  0.5\n",
       " -0.5          -1.0  -0.5          0.0\n",
       " -6.12323e-17  -0.5  -1.83697e-16  0.5\n",
       "  0.5           0.0   0.5          1.0"
      ]
     },
     "execution_count": 160,
     "metadata": {},
     "output_type": "execute_result"
    }
   ],
   "source": [
    "ki_red_exp"
   ]
  },
  {
   "cell_type": "code",
   "execution_count": null,
   "metadata": {},
   "outputs": [],
   "source": []
  }
 ],
 "metadata": {
  "kernelspec": {
   "display_name": "Julia 1.4.0",
   "language": "julia",
   "name": "julia-1.4"
  },
  "language_info": {
   "file_extension": ".jl",
   "mimetype": "application/julia",
   "name": "julia",
   "version": "1.4.0"
  }
 },
 "nbformat": 4,
 "nbformat_minor": 2
}
