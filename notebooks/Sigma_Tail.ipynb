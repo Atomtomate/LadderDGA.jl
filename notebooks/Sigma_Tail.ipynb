{
 "cells": [
  {
   "cell_type": "code",
   "execution_count": null,
   "id": "1332a1bf-358f-4fd1-a419-903e3e45dfce",
   "metadata": {},
   "outputs": [
    {
     "name": "stderr",
     "output_type": "stream",
     "text": [
      "\u001b[32m\u001b[1m  Activating\u001b[22m\u001b[39m project at `~/Codes/LadderDGA.jl`\n"
     ]
    },
    {
     "name": "stdout",
     "output_type": "stream",
     "text": [
      "\u001b[36m\u001b[1m[ \u001b[22m\u001b[39m\u001b[36m\u001b[1mInfo: \u001b[22m\u001b[39mReading Inputs...\n",
      "\u001b[91m\u001b[1m┌ \u001b[22m\u001b[39m\u001b[91m\u001b[1mError: \u001b[22m\u001b[39mERROR: input file at location /home/julian/Hamburg/ED_data/b7.jld2 not found!\n",
      "\u001b[91m\u001b[1m└ \u001b[22m\u001b[39m\u001b[90m@ LadderDGA ~/Codes/LadderDGA.jl/src/IO.jl:64\u001b[39m\n"
     ]
    }
   ],
   "source": [
    "using Pkg\n",
    "Pkg.activate(\"/home/julisn/Codes/LadderDGA.jl/\")\n",
    "using LadderDGA\n",
    "using Plots, LaTeXStrings\n",
    "\n",
    "cfg = \"/home/julisn/Hamburg/ED_data/conf_b7.toml\"\n",
    "wp, mP, sP, env, kGridsStr = readConfig(cfg)\n",
    "lDGAhelper = setup_LDGA(kGridsStr[1], mP, sP, env)"
   ]
  },
  {
   "cell_type": "code",
   "execution_count": null,
   "id": "12ea0896-7528-426a-9b46-57cc5f453311",
   "metadata": {},
   "outputs": [],
   "source": []
  }
 ],
 "metadata": {
  "kernelspec": {
   "display_name": "Julia 1.9.3",
   "language": "julia",
   "name": "julia-1.9"
  },
  "language_info": {
   "file_extension": ".jl",
   "mimetype": "application/julia",
   "name": "julia",
   "version": "1.9.3"
  }
 },
 "nbformat": 4,
 "nbformat_minor": 5
}
