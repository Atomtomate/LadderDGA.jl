{
 "cells": [
  {
   "cell_type": "code",
   "execution_count": 4,
   "id": "1332a1bf-358f-4fd1-a419-903e3e45dfce",
   "metadata": {},
   "outputs": [
    {
     "name": "stdout",
     "output_type": "stream",
     "text": [
      "\u001b[36m\u001b[1m[ \u001b[22m\u001b[39m\u001b[36m\u001b[1mInfo: \u001b[22m\u001b[39mReading Inputs...\n"
     ]
    },
    {
     "name": "stderr",
     "output_type": "stream",
     "text": [
      "\u001b[32m\u001b[1m  Activating\u001b[22m\u001b[39m project at `G:\\Codes\\LadderDGA.jl`\n"
     ]
    },
    {
     "name": "stdout",
     "output_type": "stream",
     "text": [
      "\u001b[36m\u001b[1m[ \u001b[22m\u001b[39m\u001b[36m\u001b[1mInfo: \u001b[22m\u001b[39mm channel: |∑χ(q=0,ω≠0)| = 0.058542665612 ≟ 0\n",
      "\u001b[36m\u001b[1m[ \u001b[22m\u001b[39m\u001b[36m\u001b[1mInfo: \u001b[22m\u001b[39md channel: |∑χ(q=0,ω≠0)| = 0.072481551732 ≟ 0\n",
      "0.24999903238559407 vs 0.24999903473622653\n"
     ]
    },
    {
     "ename": "LoadError",
     "evalue": "LoadError: UndefVarError: `λdm_correction_curve` not defined\nin expression starting at G:\\Codes\\LadderDGA.jl\\examples\\example03_ConditionCurves.jl:35",
     "output_type": "error",
     "traceback": [
      "LoadError: UndefVarError: `λdm_correction_curve` not defined\nin expression starting at G:\\Codes\\LadderDGA.jl\\examples\\example03_ConditionCurves.jl:35",
      "",
      "Stacktrace:",
      " [1] getproperty(x::Module, f::Symbol)",
      "   @ Base .\\Base.jl:31",
      " [2] top-level scope",
      "   @ G:\\Codes\\LadderDGA.jl\\examples\\example03_ConditionCurves.jl:35",
      " [3] include(fname::String)",
      "   @ Base.MainInclude .\\client.jl:489",
      " [4] top-level scope",
      "   @ In[4]:3"
     ]
    }
   ],
   "source": [
    "empty!(ARGS)\n",
    "push!(ARGS, \"G:/Hamburg/b20.0_mu1.0/lDGAConfig.toml\")\n",
    "include(joinpath(@__DIR__,\"../examples/example03_ConditionCurves.jl\"))"
   ]
  },
  {
   "cell_type": "code",
   "execution_count": 2,
   "id": "f65aaf2c-ce6f-473a-8c20-265d07b192f9",
   "metadata": {},
   "outputs": [
    {
     "ename": "LoadError",
     "evalue": "UndefVarError: `results_E_pot_2` not defined",
     "output_type": "error",
     "traceback": [
      "UndefVarError: `results_E_pot_2` not defined",
      "",
      "Stacktrace:",
      " [1] top-level scope",
      "   @ In[2]:1"
     ]
    }
   ],
   "source": [
    "plot(results_λd, results_E_pot_2 .- results_E_pot_1, markershape=:auto, xlabel=L\"\\lambda_\\mathrm{d}\", ylabel=L\"E^{(2)}_\\mathrm{pot} - E^{(1)}_\\mathrm{pot}\", label=\"No Tail Correction\")"
   ]
  },
  {
   "cell_type": "code",
   "execution_count": 3,
   "id": "12ea0896-7528-426a-9b46-57cc5f453311",
   "metadata": {},
   "outputs": [
    {
     "ename": "LoadError",
     "evalue": "UndefVarError: `λdm_correction_curve` not defined",
     "output_type": "error",
     "traceback": [
      "UndefVarError: `λdm_correction_curve` not defined",
      "",
      "Stacktrace:",
      " [1] getproperty(x::Module, f::Symbol)",
      "   @ Base .\\Base.jl:31",
      " [2] top-level scope",
      "   @ In[3]:1"
     ]
    }
   ],
   "source": [
    "results_λm, results_λd, results_n, results_mu, results_E_kin_1, results_E_pot_1, results_E_pot_2, results_E_lhs_c1 = LadderDGA.LambdaCorrection.λdm_correction_curve(χm, γm, χd, γd, λ₀, lDGAhelper; λd_max=30.0, λd_samples=500, tc=true)\n",
    "plot(results_λd, results_E_pot_2 .- results_E_pot_1, markershape=:auto, xlabel=L\"\\lambda_\\mathrm{d}\", ylabel=L\"E^{(2)}_\\mathrm{pot} - E^{(1)}_\\mathrm{pot}\", label=\"No Tail Correction\")"
   ]
  },
  {
   "cell_type": "code",
   "execution_count": null,
   "id": "35c4dae9-32f3-4b6d-a779-17bd93f5ecc0",
   "metadata": {},
   "outputs": [],
   "source": []
  }
 ],
 "metadata": {
  "kernelspec": {
   "display_name": "Julia 1.10.5",
   "language": "julia",
   "name": "julia-1.10"
  },
  "language_info": {
   "file_extension": ".jl",
   "mimetype": "application/julia",
   "name": "julia",
   "version": "1.10.5"
  }
 },
 "nbformat": 4,
 "nbformat_minor": 5
}
