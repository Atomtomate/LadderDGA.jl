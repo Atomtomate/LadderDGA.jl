{
 "cells": [
  {
   "cell_type": "code",
   "execution_count": 1,
   "metadata": {},
   "outputs": [
    {
     "name": "stderr",
     "output_type": "stream",
     "text": [
      "┌ Info: Precompiling LadderDGA [78e40beb-bf89-4c0e-9d2b-bee278912f2b]\n",
      "└ @ Base loading.jl:1317\n"
     ]
    }
   ],
   "source": [
    "using HDF5\n",
    "using Plots\n",
    "using LadderDGA\n",
    "using Suppressor\n",
    "\n",
    "path_to_input = \"/home/julian/Hamburg/lDGA_shift_tests/data/50_100_s1_b12_u1.0\"\n",
    "path_to_output = \"$(@__DIR__)/../../lDGA_test_runs\"\n",
    "cfg_file = \"$(@__DIR__)/../../lDGA_test_runs/config_large.toml\"\n",
    "\n",
    "empty!(ARGS);\n",
    "#push!(ARGS,path_to_input);\n",
    "#push!(ARGS,path_to_output);\n",
    "#include(\"../scripts/triqs_conv.jl\");"
   ]
  },
  {
   "cell_type": "markdown",
   "metadata": {},
   "source": [
    "Loading impurity quantities and constructing k grids.\n",
    "removing the @supress block activates debugging output."
   ]
  },
  {
   "cell_type": "code",
   "execution_count": 2,
   "metadata": {},
   "outputs": [
    {
     "name": "stderr",
     "output_type": "stream",
     "text": [
      "┌ Info: Reading Inputs...\n",
      "└ @ LadderDGA /home/julian/Hamburg/LadderDGA.jl/src/IO.jl:7\n",
      "┌ Warning: TODO: check beta consistency, config <-> g0man, chi_dir <-> gamma dir\n",
      "└ @ LadderDGA /home/julian/Hamburg/LadderDGA.jl/src/helpers.jl:82\n",
      "┌ Info: Inputs Read. Starting Computation.\n",
      "│ Found usable intervals for local susceptibility of length \n",
      "│   sp: 87\n",
      "│   ch: 87 \n",
      "│   χLoc_sp = 0.3364, χLoc_ch = 0.1361\n",
      "└ @ LadderDGA /home/julian/Hamburg/LadderDGA.jl/src/helpers.jl:124\n"
     ]
    }
   ],
   "source": [
    "mP, sP, env, kGrids, qGrids, qGridLoc, freqRed_map, freqList, freqList_min, parents, ops, nFermi, nBose, shift, base, offset = readConfig(cfg_file)\n",
    "kG = kGrids[1]\n",
    "qG = qGrids[1]\n",
    "νGrid, sumHelper_f, impQ_sp, impQ_ch, GImp_fft, GLoc_fft, Σ_loc, FUpDo, gImp, gLoc = setup_LDGA(kG, freqList, mP, sP, env);"
   ]
  },
  {
   "cell_type": "markdown",
   "metadata": {},
   "source": [
    "# Lambda charge solutions investigation"
   ]
  },
  {
   "cell_type": "code",
   "execution_count": 3,
   "metadata": {},
   "outputs": [
    {
     "ename": "LoadError",
     "evalue": "TaskFailedException\n\n\u001b[91m    nested task error: \u001b[39mDimensionMismatch(\"cannot broadcast array to have fewer dimensions\")\n    Stacktrace:\n      [1] \u001b[0m\u001b[1mcheck_broadcast_shape\u001b[22m\u001b[0m\u001b[1m(\u001b[22m\u001b[90m#unused#\u001b[39m::\u001b[0mTuple\u001b[90m{}\u001b[39m, \u001b[90mAshp\u001b[39m::\u001b[0mTuple\u001b[90m{Base.OneTo{Int64}}\u001b[39m\u001b[0m\u001b[1m)\u001b[22m\n    \u001b[90m    @ \u001b[39m\u001b[90mBase.Broadcast\u001b[39m \u001b[90m./\u001b[39m\u001b[90;4mbroadcast.jl:518\u001b[0m\n      [2] \u001b[0m\u001b[1mcheck_broadcast_axes\u001b[22m\n    \u001b[90m    @ \u001b[39m\u001b[90m./\u001b[39m\u001b[90;4mbroadcast.jl:523\u001b[0m\u001b[90m [inlined]\u001b[39m\n      [3] \u001b[0m\u001b[1mcheck_broadcast_axes\u001b[22m\n    \u001b[90m    @ \u001b[39m\u001b[90m./\u001b[39m\u001b[90;4mbroadcast.jl:527\u001b[0m\u001b[90m [inlined]\u001b[39m\n      [4] \u001b[0m\u001b[1minstantiate\u001b[22m\n    \u001b[90m    @ \u001b[39m\u001b[90m./\u001b[39m\u001b[90;4mbroadcast.jl:269\u001b[0m\u001b[90m [inlined]\u001b[39m\n      [5] \u001b[0m\u001b[1mmaterialize!\u001b[22m\n    \u001b[90m    @ \u001b[39m\u001b[90m./\u001b[39m\u001b[90;4mbroadcast.jl:894\u001b[0m\u001b[90m [inlined]\u001b[39m\n      [6] \u001b[0m\u001b[1mmaterialize!\u001b[22m\u001b[0m\u001b[1m(\u001b[22m\u001b[90mdest\u001b[39m::\u001b[0mComplexF64, \u001b[90mbc\u001b[39m::\u001b[0mBase.Broadcast.Broadcasted\u001b[90m{Base.Broadcast.DefaultArrayStyle{1}, Nothing, typeof(/), Tuple{ComplexF64, Vector{ComplexF64}}}\u001b[39m\u001b[0m\u001b[1m)\u001b[22m\n    \u001b[90m    @ \u001b[39m\u001b[90mBase.Broadcast\u001b[39m \u001b[90m./\u001b[39m\u001b[90;4mbroadcast.jl:891\u001b[0m\n      [7] \u001b[0m\u001b[1mmacro expansion\u001b[22m\n    \u001b[90m    @ \u001b[39m\u001b[90m~/Hamburg/LadderDGA.jl/src/\u001b[39m\u001b[90;4mladderDGATools.jl:56\u001b[0m\u001b[90m [inlined]\u001b[39m\n      [8] \u001b[0m\u001b[1m(::LadderDGA.var\"#114#116\"{SharedArrays.SharedArray{ComplexF64, 3}, SharedArrays.SharedArray{ComplexF64, 3}, Dispersions.ReducedKGrid_cP_3D, SeriesAcceleration.Richardson, Float64, ModelParameters, SimulationParameters, UnitRange{Int64}, Bool, SharedArrays.SharedVector{ComplexF64}, SharedArrays.SharedArray{ComplexF64, 3}, SharedArrays.SharedMatrix{ComplexF64}})\u001b[22m\u001b[0m\u001b[1m(\u001b[22m\u001b[90mR\u001b[39m::\u001b[0mUnitRange\u001b[90m{Int64}\u001b[39m, \u001b[90mlo\u001b[39m::\u001b[0mInt64, \u001b[90mhi\u001b[39m::\u001b[0mInt64\u001b[0m\u001b[1m)\u001b[22m\n    \u001b[90m    @ \u001b[39m\u001b[35mLadderDGA\u001b[39m \u001b[90m/buildworker/worker/package_linux64/build/usr/share/julia/stdlib/v1.6/Distributed/src/\u001b[39m\u001b[90;4mmacros.jl:306\u001b[0m\n      [9] \u001b[0m\u001b[1m#160\u001b[22m\n    \u001b[90m    @ \u001b[39m\u001b[90m/buildworker/worker/package_linux64/build/usr/share/julia/stdlib/v1.6/Distributed/src/\u001b[39m\u001b[90;4mmacros.jl:87\u001b[0m\u001b[90m [inlined]\u001b[39m\n     [10] \u001b[0m\u001b[1mrun_work_thunk\u001b[22m\u001b[0m\u001b[1m(\u001b[22m\u001b[90mthunk\u001b[39m::\u001b[0mDistributed.var\"#160#162\"\u001b[90m{UnitRange{Int64}, LadderDGA.var\"#114#116\"{SharedArrays.SharedArray{ComplexF64, 3}, SharedArrays.SharedArray{ComplexF64, 3}, Dispersions.ReducedKGrid_cP_3D, SeriesAcceleration.Richardson, Float64, ModelParameters, SimulationParameters, UnitRange{Int64}, Bool, SharedArrays.SharedVector{ComplexF64}, SharedArrays.SharedArray{ComplexF64, 3}, SharedArrays.SharedMatrix{ComplexF64}}, UnitRange{Int64}}\u001b[39m, \u001b[90mprint_error\u001b[39m::\u001b[0mBool\u001b[0m\u001b[1m)\u001b[22m\n    \u001b[90m    @ \u001b[39m\u001b[36mDistributed\u001b[39m \u001b[90m/buildworker/worker/package_linux64/build/usr/share/julia/stdlib/v1.6/Distributed/src/\u001b[39m\u001b[90;4mprocess_messages.jl:63\u001b[0m\n     [11] \u001b[0m\u001b[1mrun_work_thunk\u001b[22m\n    \u001b[90m    @ \u001b[39m\u001b[90m/buildworker/worker/package_linux64/build/usr/share/julia/stdlib/v1.6/Distributed/src/\u001b[39m\u001b[90;4mprocess_messages.jl:72\u001b[0m\u001b[90m [inlined]\u001b[39m\n     [12] \u001b[0m\u001b[1m(::Distributed.var\"#96#98\"{Distributed.RemoteValue, Distributed.var\"#160#162\"{UnitRange{Int64}, LadderDGA.var\"#114#116\"{SharedArrays.SharedArray{ComplexF64, 3}, SharedArrays.SharedArray{ComplexF64, 3}, Dispersions.ReducedKGrid_cP_3D, SeriesAcceleration.Richardson, Float64, ModelParameters, SimulationParameters, UnitRange{Int64}, Bool, SharedArrays.SharedVector{ComplexF64}, SharedArrays.SharedArray{ComplexF64, 3}, SharedArrays.SharedMatrix{ComplexF64}}, UnitRange{Int64}}})\u001b[22m\u001b[0m\u001b[1m(\u001b[22m\u001b[0m\u001b[1m)\u001b[22m\n    \u001b[90m    @ \u001b[39m\u001b[36mDistributed\u001b[39m \u001b[90m./\u001b[39m\u001b[90;4mtask.jl:406\u001b[0m\n    Stacktrace:\n     [1] \u001b[0m\u001b[1msync_end\u001b[22m\u001b[0m\u001b[1m(\u001b[22m\u001b[90mc\u001b[39m::\u001b[0mChannel\u001b[90m{Any}\u001b[39m\u001b[0m\u001b[1m)\u001b[22m\n    \u001b[90m   @ \u001b[39m\u001b[90mBase\u001b[39m \u001b[90m./\u001b[39m\u001b[90;4mtask.jl:364\u001b[0m\n     [2] \u001b[0m\u001b[1m(::Distributed.var\"#159#161\"{LadderDGA.var\"#114#116\"{SharedArrays.SharedArray{ComplexF64, 3}, SharedArrays.SharedArray{ComplexF64, 3}, Dispersions.ReducedKGrid_cP_3D, SeriesAcceleration.Richardson, Float64, ModelParameters, SimulationParameters, UnitRange{Int64}, Bool, SharedArrays.SharedVector{ComplexF64}, SharedArrays.SharedArray{ComplexF64, 3}, SharedArrays.SharedMatrix{ComplexF64}}, UnitRange{Int64}})\u001b[22m\u001b[0m\u001b[1m(\u001b[22m\u001b[0m\u001b[1m)\u001b[22m\n    \u001b[90m   @ \u001b[39m\u001b[35mDistributed\u001b[39m \u001b[90m./\u001b[39m\u001b[90;4mtask.jl:383\u001b[0m",
     "output_type": "error",
     "traceback": [
      "TaskFailedException\n\n\u001b[91m    nested task error: \u001b[39mDimensionMismatch(\"cannot broadcast array to have fewer dimensions\")\n    Stacktrace:\n      [1] \u001b[0m\u001b[1mcheck_broadcast_shape\u001b[22m\u001b[0m\u001b[1m(\u001b[22m\u001b[90m#unused#\u001b[39m::\u001b[0mTuple\u001b[90m{}\u001b[39m, \u001b[90mAshp\u001b[39m::\u001b[0mTuple\u001b[90m{Base.OneTo{Int64}}\u001b[39m\u001b[0m\u001b[1m)\u001b[22m\n    \u001b[90m    @ \u001b[39m\u001b[90mBase.Broadcast\u001b[39m \u001b[90m./\u001b[39m\u001b[90;4mbroadcast.jl:518\u001b[0m\n      [2] \u001b[0m\u001b[1mcheck_broadcast_axes\u001b[22m\n    \u001b[90m    @ \u001b[39m\u001b[90m./\u001b[39m\u001b[90;4mbroadcast.jl:523\u001b[0m\u001b[90m [inlined]\u001b[39m\n      [3] \u001b[0m\u001b[1mcheck_broadcast_axes\u001b[22m\n    \u001b[90m    @ \u001b[39m\u001b[90m./\u001b[39m\u001b[90;4mbroadcast.jl:527\u001b[0m\u001b[90m [inlined]\u001b[39m\n      [4] \u001b[0m\u001b[1minstantiate\u001b[22m\n    \u001b[90m    @ \u001b[39m\u001b[90m./\u001b[39m\u001b[90;4mbroadcast.jl:269\u001b[0m\u001b[90m [inlined]\u001b[39m\n      [5] \u001b[0m\u001b[1mmaterialize!\u001b[22m\n    \u001b[90m    @ \u001b[39m\u001b[90m./\u001b[39m\u001b[90;4mbroadcast.jl:894\u001b[0m\u001b[90m [inlined]\u001b[39m\n      [6] \u001b[0m\u001b[1mmaterialize!\u001b[22m\u001b[0m\u001b[1m(\u001b[22m\u001b[90mdest\u001b[39m::\u001b[0mComplexF64, \u001b[90mbc\u001b[39m::\u001b[0mBase.Broadcast.Broadcasted\u001b[90m{Base.Broadcast.DefaultArrayStyle{1}, Nothing, typeof(/), Tuple{ComplexF64, Vector{ComplexF64}}}\u001b[39m\u001b[0m\u001b[1m)\u001b[22m\n    \u001b[90m    @ \u001b[39m\u001b[90mBase.Broadcast\u001b[39m \u001b[90m./\u001b[39m\u001b[90;4mbroadcast.jl:891\u001b[0m\n      [7] \u001b[0m\u001b[1mmacro expansion\u001b[22m\n    \u001b[90m    @ \u001b[39m\u001b[90m~/Hamburg/LadderDGA.jl/src/\u001b[39m\u001b[90;4mladderDGATools.jl:56\u001b[0m\u001b[90m [inlined]\u001b[39m\n      [8] \u001b[0m\u001b[1m(::LadderDGA.var\"#114#116\"{SharedArrays.SharedArray{ComplexF64, 3}, SharedArrays.SharedArray{ComplexF64, 3}, Dispersions.ReducedKGrid_cP_3D, SeriesAcceleration.Richardson, Float64, ModelParameters, SimulationParameters, UnitRange{Int64}, Bool, SharedArrays.SharedVector{ComplexF64}, SharedArrays.SharedArray{ComplexF64, 3}, SharedArrays.SharedMatrix{ComplexF64}})\u001b[22m\u001b[0m\u001b[1m(\u001b[22m\u001b[90mR\u001b[39m::\u001b[0mUnitRange\u001b[90m{Int64}\u001b[39m, \u001b[90mlo\u001b[39m::\u001b[0mInt64, \u001b[90mhi\u001b[39m::\u001b[0mInt64\u001b[0m\u001b[1m)\u001b[22m\n    \u001b[90m    @ \u001b[39m\u001b[35mLadderDGA\u001b[39m \u001b[90m/buildworker/worker/package_linux64/build/usr/share/julia/stdlib/v1.6/Distributed/src/\u001b[39m\u001b[90;4mmacros.jl:306\u001b[0m\n      [9] \u001b[0m\u001b[1m#160\u001b[22m\n    \u001b[90m    @ \u001b[39m\u001b[90m/buildworker/worker/package_linux64/build/usr/share/julia/stdlib/v1.6/Distributed/src/\u001b[39m\u001b[90;4mmacros.jl:87\u001b[0m\u001b[90m [inlined]\u001b[39m\n     [10] \u001b[0m\u001b[1mrun_work_thunk\u001b[22m\u001b[0m\u001b[1m(\u001b[22m\u001b[90mthunk\u001b[39m::\u001b[0mDistributed.var\"#160#162\"\u001b[90m{UnitRange{Int64}, LadderDGA.var\"#114#116\"{SharedArrays.SharedArray{ComplexF64, 3}, SharedArrays.SharedArray{ComplexF64, 3}, Dispersions.ReducedKGrid_cP_3D, SeriesAcceleration.Richardson, Float64, ModelParameters, SimulationParameters, UnitRange{Int64}, Bool, SharedArrays.SharedVector{ComplexF64}, SharedArrays.SharedArray{ComplexF64, 3}, SharedArrays.SharedMatrix{ComplexF64}}, UnitRange{Int64}}\u001b[39m, \u001b[90mprint_error\u001b[39m::\u001b[0mBool\u001b[0m\u001b[1m)\u001b[22m\n    \u001b[90m    @ \u001b[39m\u001b[36mDistributed\u001b[39m \u001b[90m/buildworker/worker/package_linux64/build/usr/share/julia/stdlib/v1.6/Distributed/src/\u001b[39m\u001b[90;4mprocess_messages.jl:63\u001b[0m\n     [11] \u001b[0m\u001b[1mrun_work_thunk\u001b[22m\n    \u001b[90m    @ \u001b[39m\u001b[90m/buildworker/worker/package_linux64/build/usr/share/julia/stdlib/v1.6/Distributed/src/\u001b[39m\u001b[90;4mprocess_messages.jl:72\u001b[0m\u001b[90m [inlined]\u001b[39m\n     [12] \u001b[0m\u001b[1m(::Distributed.var\"#96#98\"{Distributed.RemoteValue, Distributed.var\"#160#162\"{UnitRange{Int64}, LadderDGA.var\"#114#116\"{SharedArrays.SharedArray{ComplexF64, 3}, SharedArrays.SharedArray{ComplexF64, 3}, Dispersions.ReducedKGrid_cP_3D, SeriesAcceleration.Richardson, Float64, ModelParameters, SimulationParameters, UnitRange{Int64}, Bool, SharedArrays.SharedVector{ComplexF64}, SharedArrays.SharedArray{ComplexF64, 3}, SharedArrays.SharedMatrix{ComplexF64}}, UnitRange{Int64}}})\u001b[22m\u001b[0m\u001b[1m(\u001b[22m\u001b[0m\u001b[1m)\u001b[22m\n    \u001b[90m    @ \u001b[39m\u001b[36mDistributed\u001b[39m \u001b[90m./\u001b[39m\u001b[90;4mtask.jl:406\u001b[0m\n    Stacktrace:\n     [1] \u001b[0m\u001b[1msync_end\u001b[22m\u001b[0m\u001b[1m(\u001b[22m\u001b[90mc\u001b[39m::\u001b[0mChannel\u001b[90m{Any}\u001b[39m\u001b[0m\u001b[1m)\u001b[22m\n    \u001b[90m   @ \u001b[39m\u001b[90mBase\u001b[39m \u001b[90m./\u001b[39m\u001b[90;4mtask.jl:364\u001b[0m\n     [2] \u001b[0m\u001b[1m(::Distributed.var\"#159#161\"{LadderDGA.var\"#114#116\"{SharedArrays.SharedArray{ComplexF64, 3}, SharedArrays.SharedArray{ComplexF64, 3}, Dispersions.ReducedKGrid_cP_3D, SeriesAcceleration.Richardson, Float64, ModelParameters, SimulationParameters, UnitRange{Int64}, Bool, SharedArrays.SharedVector{ComplexF64}, SharedArrays.SharedArray{ComplexF64, 3}, SharedArrays.SharedMatrix{ComplexF64}}, UnitRange{Int64}})\u001b[22m\u001b[0m\u001b[1m(\u001b[22m\u001b[0m\u001b[1m)\u001b[22m\n    \u001b[90m   @ \u001b[39m\u001b[35mDistributed\u001b[39m \u001b[90m./\u001b[39m\u001b[90;4mtask.jl:383\u001b[0m",
      "",
      "Stacktrace:",
      " [1] sync_end(c::Channel{Any})",
      "   @ Base ./task.jl:364",
      " [2] macro expansion",
      "   @ ./task.jl:383 [inlined]",
      " [3] calc_χ_trilex(Γr::SharedArrays.SharedArray{ComplexF64, 3}, bubble::SharedArrays.SharedArray{ComplexF64, 3}, kGrid::Dispersions.ReducedKGrid_cP_3D, νGrid::Vector{AbstractArray}, sumHelper::SeriesAcceleration.Richardson, U::Float64, mP::ModelParameters, sP::SimulationParameters)",
      "   @ LadderDGA ~/Hamburg/LadderDGA.jl/src/ladderDGATools.jl:44",
      " [4] top-level scope",
      "   @ In[3]:3",
      " [5] eval",
      "   @ ./boot.jl:360 [inlined]",
      " [6] include_string(mapexpr::typeof(REPL.softscope), mod::Module, code::String, filename::String)",
      "   @ Base ./loading.jl:1094"
     ]
    }
   ],
   "source": [
    "# \"local\" correction quantities\n",
    "bubbleLoc = calc_bubble(νGrid, GImp_fft, qGridLoc, mP, sP);\n",
    "locQ_sp = calc_χ_trilex(impQ_sp.Γ, bubbleLoc, qGridLoc, νGrid, sumHelper_f, mP.U, mP, sP);\n",
    "locQ_ch = calc_χ_trilex(impQ_ch.Γ, bubbleLoc, qGridLoc, νGrid, sumHelper_f, -mP.U, mP, sP);\n",
    "Σ_ladderLoc = calc_Σ(locQ_sp, locQ_ch, bubbleLoc, GImp_fft, FUpDo,\n",
    "                     qGridLoc, sumHelper_f, mP, sP)\n",
    "Σ_ladderLoc = Σ_ladderLoc .+ mP.n * mP.U/2.0;"
   ]
  },
  {
   "cell_type": "code",
   "execution_count": 4,
   "metadata": {},
   "outputs": [
    {
     "ename": "LoadError",
     "evalue": "TaskFailedException\n\n\u001b[91m    nested task error: \u001b[39mDimensionMismatch(\"cannot broadcast array to have fewer dimensions\")\n    Stacktrace:\n      [1] \u001b[0m\u001b[1mcheck_broadcast_shape\u001b[22m\u001b[0m\u001b[1m(\u001b[22m\u001b[90m#unused#\u001b[39m::\u001b[0mTuple\u001b[90m{}\u001b[39m, \u001b[90mAshp\u001b[39m::\u001b[0mTuple\u001b[90m{Base.OneTo{Int64}}\u001b[39m\u001b[0m\u001b[1m)\u001b[22m\n    \u001b[90m    @ \u001b[39m\u001b[90mBase.Broadcast\u001b[39m \u001b[90m./\u001b[39m\u001b[90;4mbroadcast.jl:518\u001b[0m\n      [2] \u001b[0m\u001b[1mcheck_broadcast_axes\u001b[22m\n    \u001b[90m    @ \u001b[39m\u001b[90m./\u001b[39m\u001b[90;4mbroadcast.jl:523\u001b[0m\u001b[90m [inlined]\u001b[39m\n      [3] \u001b[0m\u001b[1mcheck_broadcast_axes\u001b[22m\n    \u001b[90m    @ \u001b[39m\u001b[90m./\u001b[39m\u001b[90;4mbroadcast.jl:527\u001b[0m\u001b[90m [inlined]\u001b[39m\n      [4] \u001b[0m\u001b[1minstantiate\u001b[22m\n    \u001b[90m    @ \u001b[39m\u001b[90m./\u001b[39m\u001b[90;4mbroadcast.jl:269\u001b[0m\u001b[90m [inlined]\u001b[39m\n      [5] \u001b[0m\u001b[1mmaterialize!\u001b[22m\n    \u001b[90m    @ \u001b[39m\u001b[90m./\u001b[39m\u001b[90;4mbroadcast.jl:894\u001b[0m\u001b[90m [inlined]\u001b[39m\n      [6] \u001b[0m\u001b[1mmaterialize!\u001b[22m\u001b[0m\u001b[1m(\u001b[22m\u001b[90mdest\u001b[39m::\u001b[0mComplexF64, \u001b[90mbc\u001b[39m::\u001b[0mBase.Broadcast.Broadcasted\u001b[90m{Base.Broadcast.DefaultArrayStyle{1}, Nothing, typeof(/), Tuple{ComplexF64, Vector{ComplexF64}}}\u001b[39m\u001b[0m\u001b[1m)\u001b[22m\n    \u001b[90m    @ \u001b[39m\u001b[90mBase.Broadcast\u001b[39m \u001b[90m./\u001b[39m\u001b[90;4mbroadcast.jl:891\u001b[0m\n      [7] \u001b[0m\u001b[1mmacro expansion\u001b[22m\n    \u001b[90m    @ \u001b[39m\u001b[90m~/Hamburg/LadderDGA.jl/src/\u001b[39m\u001b[90;4mladderDGATools.jl:56\u001b[0m\u001b[90m [inlined]\u001b[39m\n      [8] \u001b[0m\u001b[1m(::LadderDGA.var\"#114#116\"{SharedArrays.SharedArray{ComplexF64, 3}, SharedArrays.SharedArray{ComplexF64, 3}, Dispersions.ReducedKGrid_cP_3D, SeriesAcceleration.Richardson, Float64, ModelParameters, SimulationParameters, UnitRange{Int64}, Bool, SharedArrays.SharedVector{ComplexF64}, SharedArrays.SharedArray{ComplexF64, 3}, SharedArrays.SharedMatrix{ComplexF64}})\u001b[22m\u001b[0m\u001b[1m(\u001b[22m\u001b[90mR\u001b[39m::\u001b[0mUnitRange\u001b[90m{Int64}\u001b[39m, \u001b[90mlo\u001b[39m::\u001b[0mInt64, \u001b[90mhi\u001b[39m::\u001b[0mInt64\u001b[0m\u001b[1m)\u001b[22m\n    \u001b[90m    @ \u001b[39m\u001b[35mLadderDGA\u001b[39m \u001b[90m/buildworker/worker/package_linux64/build/usr/share/julia/stdlib/v1.6/Distributed/src/\u001b[39m\u001b[90;4mmacros.jl:306\u001b[0m\n      [9] \u001b[0m\u001b[1m#160\u001b[22m\n    \u001b[90m    @ \u001b[39m\u001b[90m/buildworker/worker/package_linux64/build/usr/share/julia/stdlib/v1.6/Distributed/src/\u001b[39m\u001b[90;4mmacros.jl:87\u001b[0m\u001b[90m [inlined]\u001b[39m\n     [10] \u001b[0m\u001b[1mrun_work_thunk\u001b[22m\u001b[0m\u001b[1m(\u001b[22m\u001b[90mthunk\u001b[39m::\u001b[0mDistributed.var\"#160#162\"\u001b[90m{UnitRange{Int64}, LadderDGA.var\"#114#116\"{SharedArrays.SharedArray{ComplexF64, 3}, SharedArrays.SharedArray{ComplexF64, 3}, Dispersions.ReducedKGrid_cP_3D, SeriesAcceleration.Richardson, Float64, ModelParameters, SimulationParameters, UnitRange{Int64}, Bool, SharedArrays.SharedVector{ComplexF64}, SharedArrays.SharedArray{ComplexF64, 3}, SharedArrays.SharedMatrix{ComplexF64}}, UnitRange{Int64}}\u001b[39m, \u001b[90mprint_error\u001b[39m::\u001b[0mBool\u001b[0m\u001b[1m)\u001b[22m\n    \u001b[90m    @ \u001b[39m\u001b[36mDistributed\u001b[39m \u001b[90m/buildworker/worker/package_linux64/build/usr/share/julia/stdlib/v1.6/Distributed/src/\u001b[39m\u001b[90;4mprocess_messages.jl:63\u001b[0m\n     [11] \u001b[0m\u001b[1mrun_work_thunk\u001b[22m\n    \u001b[90m    @ \u001b[39m\u001b[90m/buildworker/worker/package_linux64/build/usr/share/julia/stdlib/v1.6/Distributed/src/\u001b[39m\u001b[90;4mprocess_messages.jl:72\u001b[0m\u001b[90m [inlined]\u001b[39m\n     [12] \u001b[0m\u001b[1m(::Distributed.var\"#96#98\"{Distributed.RemoteValue, Distributed.var\"#160#162\"{UnitRange{Int64}, LadderDGA.var\"#114#116\"{SharedArrays.SharedArray{ComplexF64, 3}, SharedArrays.SharedArray{ComplexF64, 3}, Dispersions.ReducedKGrid_cP_3D, SeriesAcceleration.Richardson, Float64, ModelParameters, SimulationParameters, UnitRange{Int64}, Bool, SharedArrays.SharedVector{ComplexF64}, SharedArrays.SharedArray{ComplexF64, 3}, SharedArrays.SharedMatrix{ComplexF64}}, UnitRange{Int64}}})\u001b[22m\u001b[0m\u001b[1m(\u001b[22m\u001b[0m\u001b[1m)\u001b[22m\n    \u001b[90m    @ \u001b[39m\u001b[36mDistributed\u001b[39m \u001b[90m./\u001b[39m\u001b[90;4mtask.jl:406\u001b[0m\n    Stacktrace:\n     [1] \u001b[0m\u001b[1msync_end\u001b[22m\u001b[0m\u001b[1m(\u001b[22m\u001b[90mc\u001b[39m::\u001b[0mChannel\u001b[90m{Any}\u001b[39m\u001b[0m\u001b[1m)\u001b[22m\n    \u001b[90m   @ \u001b[39m\u001b[90mBase\u001b[39m \u001b[90m./\u001b[39m\u001b[90;4mtask.jl:364\u001b[0m\n     [2] \u001b[0m\u001b[1m(::Distributed.var\"#159#161\"{LadderDGA.var\"#114#116\"{SharedArrays.SharedArray{ComplexF64, 3}, SharedArrays.SharedArray{ComplexF64, 3}, Dispersions.ReducedKGrid_cP_3D, SeriesAcceleration.Richardson, Float64, ModelParameters, SimulationParameters, UnitRange{Int64}, Bool, SharedArrays.SharedVector{ComplexF64}, SharedArrays.SharedArray{ComplexF64, 3}, SharedArrays.SharedMatrix{ComplexF64}}, UnitRange{Int64}})\u001b[22m\u001b[0m\u001b[1m(\u001b[22m\u001b[0m\u001b[1m)\u001b[22m\n    \u001b[90m   @ \u001b[39m\u001b[35mDistributed\u001b[39m \u001b[90m./\u001b[39m\u001b[90;4mtask.jl:383\u001b[0m",
     "output_type": "error",
     "traceback": [
      "TaskFailedException\n\n\u001b[91m    nested task error: \u001b[39mDimensionMismatch(\"cannot broadcast array to have fewer dimensions\")\n    Stacktrace:\n      [1] \u001b[0m\u001b[1mcheck_broadcast_shape\u001b[22m\u001b[0m\u001b[1m(\u001b[22m\u001b[90m#unused#\u001b[39m::\u001b[0mTuple\u001b[90m{}\u001b[39m, \u001b[90mAshp\u001b[39m::\u001b[0mTuple\u001b[90m{Base.OneTo{Int64}}\u001b[39m\u001b[0m\u001b[1m)\u001b[22m\n    \u001b[90m    @ \u001b[39m\u001b[90mBase.Broadcast\u001b[39m \u001b[90m./\u001b[39m\u001b[90;4mbroadcast.jl:518\u001b[0m\n      [2] \u001b[0m\u001b[1mcheck_broadcast_axes\u001b[22m\n    \u001b[90m    @ \u001b[39m\u001b[90m./\u001b[39m\u001b[90;4mbroadcast.jl:523\u001b[0m\u001b[90m [inlined]\u001b[39m\n      [3] \u001b[0m\u001b[1mcheck_broadcast_axes\u001b[22m\n    \u001b[90m    @ \u001b[39m\u001b[90m./\u001b[39m\u001b[90;4mbroadcast.jl:527\u001b[0m\u001b[90m [inlined]\u001b[39m\n      [4] \u001b[0m\u001b[1minstantiate\u001b[22m\n    \u001b[90m    @ \u001b[39m\u001b[90m./\u001b[39m\u001b[90;4mbroadcast.jl:269\u001b[0m\u001b[90m [inlined]\u001b[39m\n      [5] \u001b[0m\u001b[1mmaterialize!\u001b[22m\n    \u001b[90m    @ \u001b[39m\u001b[90m./\u001b[39m\u001b[90;4mbroadcast.jl:894\u001b[0m\u001b[90m [inlined]\u001b[39m\n      [6] \u001b[0m\u001b[1mmaterialize!\u001b[22m\u001b[0m\u001b[1m(\u001b[22m\u001b[90mdest\u001b[39m::\u001b[0mComplexF64, \u001b[90mbc\u001b[39m::\u001b[0mBase.Broadcast.Broadcasted\u001b[90m{Base.Broadcast.DefaultArrayStyle{1}, Nothing, typeof(/), Tuple{ComplexF64, Vector{ComplexF64}}}\u001b[39m\u001b[0m\u001b[1m)\u001b[22m\n    \u001b[90m    @ \u001b[39m\u001b[90mBase.Broadcast\u001b[39m \u001b[90m./\u001b[39m\u001b[90;4mbroadcast.jl:891\u001b[0m\n      [7] \u001b[0m\u001b[1mmacro expansion\u001b[22m\n    \u001b[90m    @ \u001b[39m\u001b[90m~/Hamburg/LadderDGA.jl/src/\u001b[39m\u001b[90;4mladderDGATools.jl:56\u001b[0m\u001b[90m [inlined]\u001b[39m\n      [8] \u001b[0m\u001b[1m(::LadderDGA.var\"#114#116\"{SharedArrays.SharedArray{ComplexF64, 3}, SharedArrays.SharedArray{ComplexF64, 3}, Dispersions.ReducedKGrid_cP_3D, SeriesAcceleration.Richardson, Float64, ModelParameters, SimulationParameters, UnitRange{Int64}, Bool, SharedArrays.SharedVector{ComplexF64}, SharedArrays.SharedArray{ComplexF64, 3}, SharedArrays.SharedMatrix{ComplexF64}})\u001b[22m\u001b[0m\u001b[1m(\u001b[22m\u001b[90mR\u001b[39m::\u001b[0mUnitRange\u001b[90m{Int64}\u001b[39m, \u001b[90mlo\u001b[39m::\u001b[0mInt64, \u001b[90mhi\u001b[39m::\u001b[0mInt64\u001b[0m\u001b[1m)\u001b[22m\n    \u001b[90m    @ \u001b[39m\u001b[35mLadderDGA\u001b[39m \u001b[90m/buildworker/worker/package_linux64/build/usr/share/julia/stdlib/v1.6/Distributed/src/\u001b[39m\u001b[90;4mmacros.jl:306\u001b[0m\n      [9] \u001b[0m\u001b[1m#160\u001b[22m\n    \u001b[90m    @ \u001b[39m\u001b[90m/buildworker/worker/package_linux64/build/usr/share/julia/stdlib/v1.6/Distributed/src/\u001b[39m\u001b[90;4mmacros.jl:87\u001b[0m\u001b[90m [inlined]\u001b[39m\n     [10] \u001b[0m\u001b[1mrun_work_thunk\u001b[22m\u001b[0m\u001b[1m(\u001b[22m\u001b[90mthunk\u001b[39m::\u001b[0mDistributed.var\"#160#162\"\u001b[90m{UnitRange{Int64}, LadderDGA.var\"#114#116\"{SharedArrays.SharedArray{ComplexF64, 3}, SharedArrays.SharedArray{ComplexF64, 3}, Dispersions.ReducedKGrid_cP_3D, SeriesAcceleration.Richardson, Float64, ModelParameters, SimulationParameters, UnitRange{Int64}, Bool, SharedArrays.SharedVector{ComplexF64}, SharedArrays.SharedArray{ComplexF64, 3}, SharedArrays.SharedMatrix{ComplexF64}}, UnitRange{Int64}}\u001b[39m, \u001b[90mprint_error\u001b[39m::\u001b[0mBool\u001b[0m\u001b[1m)\u001b[22m\n    \u001b[90m    @ \u001b[39m\u001b[36mDistributed\u001b[39m \u001b[90m/buildworker/worker/package_linux64/build/usr/share/julia/stdlib/v1.6/Distributed/src/\u001b[39m\u001b[90;4mprocess_messages.jl:63\u001b[0m\n     [11] \u001b[0m\u001b[1mrun_work_thunk\u001b[22m\n    \u001b[90m    @ \u001b[39m\u001b[90m/buildworker/worker/package_linux64/build/usr/share/julia/stdlib/v1.6/Distributed/src/\u001b[39m\u001b[90;4mprocess_messages.jl:72\u001b[0m\u001b[90m [inlined]\u001b[39m\n     [12] \u001b[0m\u001b[1m(::Distributed.var\"#96#98\"{Distributed.RemoteValue, Distributed.var\"#160#162\"{UnitRange{Int64}, LadderDGA.var\"#114#116\"{SharedArrays.SharedArray{ComplexF64, 3}, SharedArrays.SharedArray{ComplexF64, 3}, Dispersions.ReducedKGrid_cP_3D, SeriesAcceleration.Richardson, Float64, ModelParameters, SimulationParameters, UnitRange{Int64}, Bool, SharedArrays.SharedVector{ComplexF64}, SharedArrays.SharedArray{ComplexF64, 3}, SharedArrays.SharedMatrix{ComplexF64}}, UnitRange{Int64}}})\u001b[22m\u001b[0m\u001b[1m(\u001b[22m\u001b[0m\u001b[1m)\u001b[22m\n    \u001b[90m    @ \u001b[39m\u001b[36mDistributed\u001b[39m \u001b[90m./\u001b[39m\u001b[90;4mtask.jl:406\u001b[0m\n    Stacktrace:\n     [1] \u001b[0m\u001b[1msync_end\u001b[22m\u001b[0m\u001b[1m(\u001b[22m\u001b[90mc\u001b[39m::\u001b[0mChannel\u001b[90m{Any}\u001b[39m\u001b[0m\u001b[1m)\u001b[22m\n    \u001b[90m   @ \u001b[39m\u001b[90mBase\u001b[39m \u001b[90m./\u001b[39m\u001b[90;4mtask.jl:364\u001b[0m\n     [2] \u001b[0m\u001b[1m(::Distributed.var\"#159#161\"{LadderDGA.var\"#114#116\"{SharedArrays.SharedArray{ComplexF64, 3}, SharedArrays.SharedArray{ComplexF64, 3}, Dispersions.ReducedKGrid_cP_3D, SeriesAcceleration.Richardson, Float64, ModelParameters, SimulationParameters, UnitRange{Int64}, Bool, SharedArrays.SharedVector{ComplexF64}, SharedArrays.SharedArray{ComplexF64, 3}, SharedArrays.SharedMatrix{ComplexF64}}, UnitRange{Int64}})\u001b[22m\u001b[0m\u001b[1m(\u001b[22m\u001b[0m\u001b[1m)\u001b[22m\n    \u001b[90m   @ \u001b[39m\u001b[35mDistributed\u001b[39m \u001b[90m./\u001b[39m\u001b[90;4mtask.jl:383\u001b[0m",
      "",
      "Stacktrace:",
      " [1] sync_end(c::Channel{Any})",
      "   @ Base ./task.jl:364",
      " [2] macro expansion",
      "   @ ./task.jl:383 [inlined]",
      " [3] calc_χ_trilex(Γr::SharedArrays.SharedArray{ComplexF64, 3}, bubble::SharedArrays.SharedArray{ComplexF64, 3}, kGrid::Dispersions.ReducedKGrid_cP_3D, νGrid::Vector{AbstractArray}, sumHelper::SeriesAcceleration.Richardson, U::Float64, mP::ModelParameters, sP::SimulationParameters)",
      "   @ LadderDGA ~/Hamburg/LadderDGA.jl/src/ladderDGATools.jl:44",
      " [4] top-level scope",
      "   @ In[4]:3",
      " [5] eval",
      "   @ ./boot.jl:360 [inlined]",
      " [6] include_string(mapexpr::typeof(REPL.softscope), mod::Module, code::String, filename::String)",
      "   @ Base ./loading.jl:1094"
     ]
    }
   ],
   "source": [
    "# non local quantities \n",
    "bubble = calc_bubble(νGrid, GLoc_fft, qG, mP, sP);\n",
    "nlQ_sp = calc_χ_trilex(impQ_sp.Γ, bubble, qG, νGrid, sumHelper_f, mP.U, mP, sP);\n",
    "nlQ_ch = calc_χ_trilex(impQ_ch.Γ, bubble, qG, νGrid, sumHelper_f, -mP.U, mP, sP);"
   ]
  },
  {
   "cell_type": "code",
   "execution_count": 5,
   "metadata": {},
   "outputs": [
    {
     "ename": "LoadError",
     "evalue": "UndefVarError: nlQ_sp not defined",
     "output_type": "error",
     "traceback": [
      "UndefVarError: nlQ_sp not defined",
      "",
      "Stacktrace:",
      " [1] top-level scope",
      "   @ In[5]:1",
      " [2] eval",
      "   @ ./boot.jl:360 [inlined]",
      " [3] include_string(mapexpr::typeof(REPL.softscope), mod::Module, code::String, filename::String)",
      "   @ Base ./loading.jl:1094"
     ]
    }
   ],
   "source": [
    "Σ_ladder = calc_Σ(nlQ_sp, nlQ_ch, bubble, GLoc_fft, FUpDo, qG, sumHelper_f, mP, sP)\n",
    "Σ_ladder_corrected = Σ_ladder .- Σ_ladderLoc .+ Σ_loc[1:size(Σ_ladder,1)];"
   ]
  },
  {
   "cell_type": "code",
   "execution_count": 6,
   "metadata": {},
   "outputs": [
    {
     "ename": "LoadError",
     "evalue": "UndefVarError: Σ_ladder not defined",
     "output_type": "error",
     "traceback": [
      "UndefVarError: Σ_ladder not defined",
      "",
      "Stacktrace:",
      " [1] top-level scope",
      "   @ In[6]:1",
      " [2] eval",
      "   @ ./boot.jl:360 [inlined]",
      " [3] include_string(mapexpr::typeof(REPL.softscope), mod::Module, code::String, filename::String)",
      "   @ Base ./loading.jl:1094"
     ]
    }
   ],
   "source": [
    "plot(real(Σ_ladder[1:end-30,end]))\n",
    "plot!(real(Σ_ladder_corrected[1:end-30,end]))"
   ]
  },
  {
   "cell_type": "code",
   "execution_count": 7,
   "metadata": {},
   "outputs": [
    {
     "ename": "LoadError",
     "evalue": "UndefVarError: Σ_ladder not defined",
     "output_type": "error",
     "traceback": [
      "UndefVarError: Σ_ladder not defined",
      "",
      "Stacktrace:",
      " [1] top-level scope",
      "   @ In[7]:1",
      " [2] eval",
      "   @ ./boot.jl:360 [inlined]",
      " [3] include_string(mapexpr::typeof(REPL.softscope), mod::Module, code::String, filename::String)",
      "   @ Base ./loading.jl:1094"
     ]
    }
   ],
   "source": [
    "plot(imag(Σ_ladder[1:30,end]))\n",
    "plot!(imag(Σ_ladder_corrected[1:30,end]))"
   ]
  },
  {
   "cell_type": "code",
   "execution_count": 8,
   "metadata": {},
   "outputs": [
    {
     "data": {
      "text/plain": [
       "true"
      ]
     },
     "execution_count": 8,
     "metadata": {},
     "output_type": "execute_result"
    }
   ],
   "source": [
    "sP.shift"
   ]
  },
  {
   "cell_type": "code",
   "execution_count": 9,
   "metadata": {},
   "outputs": [
    {
     "ename": "LoadError",
     "evalue": "UndefVarError: nlQ_sp not defined",
     "output_type": "error",
     "traceback": [
      "UndefVarError: nlQ_sp not defined",
      "",
      "Stacktrace:",
      " [1] top-level scope",
      "   @ In[9]:1",
      " [2] eval",
      "   @ ./boot.jl:360 [inlined]",
      " [3] include_string(mapexpr::typeof(REPL.softscope), mod::Module, code::String, filename::String)",
      "   @ Base ./loading.jl:1094"
     ]
    }
   ],
   "source": [
    "sh_1 = LadderDGA.get_sum_helper(nlQ_sp.usable_ω, sP, :b)\n",
    "χspw = LadderDGA.sum_freq(LadderDGA.kintegrate(qG, nlQ_sp.χ[nlQ_sp.usable_ω,:], dim=2)[:,1], [1], sh_1, mP.β)[1]\n",
    "\n",
    "#plot(nlQ_sp.usable_ω, real(impQ_sp.χ_ω[impQ_sp.usable_ω]))\n",
    "#plot!(nlQ_sp2.usable_ω, real(impQ_sp2.χ_ω[impQ_sp2.usable_ω]))"
   ]
  },
  {
   "cell_type": "code",
   "execution_count": 10,
   "metadata": {},
   "outputs": [
    {
     "ename": "LoadError",
     "evalue": "UndefVarError: Σ_ladderLoc not defined",
     "output_type": "error",
     "traceback": [
      "UndefVarError: Σ_ladderLoc not defined",
      "",
      "Stacktrace:",
      " [1] top-level scope",
      "   @ In[10]:1",
      " [2] eval",
      "   @ ./boot.jl:360 [inlined]",
      " [3] include_string(mapexpr::typeof(REPL.softscope), mod::Module, code::String, filename::String)",
      "   @ Base ./loading.jl:1094"
     ]
    }
   ],
   "source": [
    "λ_sp, λ_spch  = λ_correction!(impQ_sp, impQ_ch, FUpDo, Σ_loc, Σ_ladderLoc, nlQ_sp, nlQ_ch, bubble, GLoc_fft, qG, νGrid, mP, sP)"
   ]
  },
  {
   "cell_type": "markdown",
   "metadata": {},
   "source": [
    "nothing: old=0.022919337508626597, new=[0.022919337508626434]\n",
    "\n",
    "richardson: old=0.010033740564731804, new=[0.010033740564730212]\n"
   ]
  },
  {
   "cell_type": "code",
   "execution_count": 11,
   "metadata": {},
   "outputs": [
    {
     "ename": "LoadError",
     "evalue": "UndefVarError: nlQ_ch not defined",
     "output_type": "error",
     "traceback": [
      "UndefVarError: nlQ_ch not defined",
      "",
      "Stacktrace:",
      " [1] top-level scope",
      "   @ In[11]:11",
      " [2] eval",
      "   @ ./boot.jl:360 [inlined]",
      " [3] include_string(mapexpr::typeof(REPL.softscope), mod::Module, code::String, filename::String)",
      "   @ Base ./loading.jl:1094"
     ]
    }
   ],
   "source": [
    "using Roots\n",
    "\n",
    "get_sum_helper = LadderDGA.get_sum_helper\n",
    "kintegrate = LadderDGA.kintegrate\n",
    "sum_freq = LadderDGA.sum_freq\n",
    "χ_λ(χ::AbstractArray, λ::Union{Float64}) = map(χi -> 1.0 / ((1.0 / χi) + λ), χ)\n",
    "kGrid = qG\n",
    "β = mP.β\n",
    "\n",
    "\n",
    "sh = get_sum_helper(nlQ_ch.usable_ω, sP, :b)\n",
    "χch_ω = kintegrate(kGrid, nlQ_ch.χ, dim=2)[:,1]\n",
    "χch_sum = real(sum_freq(χch_ω[nlQ_ch.usable_ω], [1], sh, mP.β)[1])\n",
    "rhs1 = mP.n * (1 - mP.n/2) - χch_sum\n",
    "rhs2 = real(impQ_ch.χ_loc + impQ_sp.χ_loc - χch_sum)\n",
    "usable_ω = intersect(nlQ_sp.usable_ω, nlQ_ch.usable_ω)\n",
    "sh = get_sum_helper(usable_ω, sP, :b)\n",
    "χupup_sum = sum_freq(kintegrate(kGrid, 0.5 .* (nlQ_ch.χ[usable_ω,:] .+ nlQ_sp.χ[usable_ω,:]), dim=2)[:,1], [1], sh, mP.β)[1]\n",
    "\n",
    "println(\"usable range: $usable_ω\\nχupup_nc=$χupup_sum\")\n",
    "\n",
    "χ_in = nlQ_sp.χ\n",
    "usable_ω_i = nlQ_sp.usable_ω\n",
    "χr    = real.(χ_in[usable_ω_i,:])\n",
    "sh = get_sum_helper(usable_ω_i, sP, :b)\n",
    "f(λint) = sum_freq(kintegrate(kGrid, χ_λ(χr, λint), dim=2)[:,1], [1], sh, β)[1] - rhs1\n",
    "df(λint) = sum_freq(kintegrate(kGrid, -χ_λ(χr, λint) .^ 2, dim=2)[:,1], [1], sh, β)[1]\n",
    "r2 = find_zeros(f, 0.02, 20.0, verbose=true)\n",
    "\n",
    "println(\"lambda $r2\")"
   ]
  },
  {
   "cell_type": "code",
   "execution_count": null,
   "metadata": {},
   "outputs": [],
   "source": []
  }
 ],
 "metadata": {
  "kernelspec": {
   "display_name": "Julia 1.6.0",
   "language": "julia",
   "name": "julia-1.6"
  },
  "language_info": {
   "file_extension": ".jl",
   "mimetype": "application/julia",
   "name": "julia",
   "version": "1.6.0"
  }
 },
 "nbformat": 4,
 "nbformat_minor": 4
}
