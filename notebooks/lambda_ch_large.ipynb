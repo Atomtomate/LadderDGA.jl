{
 "cells": [
  {
   "cell_type": "code",
   "execution_count": 1,
   "metadata": {},
   "outputs": [
    {
     "name": "stderr",
     "output_type": "stream",
     "text": [
      "┌ Info: Precompiling LadderDGA [78e40beb-bf89-4c0e-9d2b-bee278912f2b]\n",
      "└ @ Base loading.jl:1317\n"
     ]
    }
   ],
   "source": [
    "using HDF5\n",
    "using Plots\n",
    "using LadderDGA\n",
    "using Suppressor\n",
    "\n",
    "path_to_input = \"/home/julian/Hamburg/lDGA_shift_tests/data/50_100_s1_b12_u1.0\"\n",
    "path_to_output = \"$(@__DIR__)/../../lDGA_test_runs\"\n",
    "cfg_file = \"$(@__DIR__)/../../lDGA_test_runs/config_large.toml\"\n",
    "\n",
    "empty!(ARGS);\n",
    "#push!(ARGS,path_to_input);\n",
    "#push!(ARGS,path_to_output);\n",
    "#include(\"../scripts/triqs_conv.jl\");"
   ]
  },
  {
   "cell_type": "markdown",
   "metadata": {},
   "source": [
    "Loading impurity quantities and constructing k grids.\n",
    "removing the @supress block activates debugging output."
   ]
  },
  {
   "cell_type": "code",
   "execution_count": 2,
   "metadata": {},
   "outputs": [
    {
     "name": "stderr",
     "output_type": "stream",
     "text": [
      "┌ Info: Reading Inputs...\n",
      "└ @ LadderDGA /home/julian/Hamburg/LadderDGA.jl/src/IO.jl:7\n",
      "┌ Warning: TODO: check beta consistency, config <-> g0man, chi_dir <-> gamma dir\n",
      "└ @ LadderDGA /home/julian/Hamburg/LadderDGA.jl/src/helpers.jl:107\n",
      "┌ Info: Inputs Read. Starting Computation.\n",
      "│ Found usable intervals for local susceptibility of length \n",
      "│   sp: 99\n",
      "│   ch: 99 \n",
      "│   χLoc_sp = 0.344, χLoc_ch = 0.1412\n",
      "└ @ LadderDGA /home/julian/Hamburg/LadderDGA.jl/src/helpers.jl:149\n"
     ]
    }
   ],
   "source": [
    "mP, sP, env, kGrids, qGrids, qGridLoc, freqRed_map, freqList, freqList_min, parents, ops, nFermi, nBose, shift, base, offset = readConfig(cfg_file)\n",
    "kG = kGrids[1]\n",
    "qG = qGrids[1]\n",
    "νGrid, sumHelper_f, impQ_sp, impQ_ch, GImp_fft, GLoc_fft, Σ_loc, FUpDo, gImp, gLoc = setup_LDGA(kG, freqList, mP, sP, env);"
   ]
  },
  {
   "cell_type": "markdown",
   "metadata": {},
   "source": [
    "# Lambda charge solutions investigation"
   ]
  },
  {
   "cell_type": "code",
   "execution_count": 3,
   "metadata": {},
   "outputs": [],
   "source": [
    "# \"local\" correction quantities\n",
    "bubbleLoc = calc_bubble(νGrid, GImp_fft, qGridLoc, mP, sP);\n",
    "locQ_sp = calc_χ_trilex(impQ_sp.Γ, bubbleLoc, qGridLoc, νGrid, sumHelper_f, mP.U, mP, sP);\n",
    "locQ_ch = calc_χ_trilex(impQ_ch.Γ, bubbleLoc, qGridLoc, νGrid, sumHelper_f, -mP.U, mP, sP);\n",
    "Σ_ladderLoc = calc_Σ(locQ_sp, locQ_ch, bubbleLoc, GImp_fft, FUpDo,\n",
    "                     qGridLoc, sumHelper_f, mP, sP)\n",
    "Σ_ladderLoc = Σ_ladderLoc .+ mP.n * mP.U/2.0;"
   ]
  },
  {
   "cell_type": "code",
   "execution_count": 4,
   "metadata": {},
   "outputs": [],
   "source": [
    "# non local quantities \n",
    "bubble = calc_bubble(νGrid, GLoc_fft, qG, mP, sP);\n",
    "nlQ_sp = calc_χ_trilex(impQ_sp.Γ, bubble, qG, νGrid, sumHelper_f, mP.U, mP, sP);\n",
    "nlQ_ch = calc_χ_trilex(impQ_ch.Γ, bubble, qG, νGrid, sumHelper_f, -mP.U, mP, sP);"
   ]
  },
  {
   "cell_type": "code",
   "execution_count": 5,
   "metadata": {},
   "outputs": [
    {
     "data": {
      "text/plain": [
       "0.36056089574769484 - 1.2846924477839809e-9im"
      ]
     },
     "execution_count": 5,
     "metadata": {},
     "output_type": "execute_result"
    }
   ],
   "source": [
    "sh_1 = LadderDGA.get_sum_helper(nlQ_sp.usable_ω, sP, :b)\n",
    "χspw = LadderDGA.sum_freq(LadderDGA.kintegrate(qG, nlQ_sp.χ[nlQ_sp.usable_ω,:], dim=2)[:,1], [1], sh_1, mP.β)[1]\n",
    "\n",
    "#plot(nlQ_sp.usable_ω, real(impQ_sp.χ_ω[impQ_sp.usable_ω]))\n",
    "#plot!(nlQ_sp2.usable_ω, real(impQ_sp2.χ_ω[impQ_sp2.usable_ω]))"
   ]
  },
  {
   "cell_type": "code",
   "execution_count": 6,
   "metadata": {},
   "outputs": [
    {
     "name": "stderr",
     "output_type": "stream",
     "text": [
      "┌ Info: Computing λsp corrected χsp, using \n",
      "│   sP.χFillType = lambda_χ_fill\n",
      "│    as fill value outside usable ω range. =  as fill value outside usable ω range.\n",
      "└ @ LadderDGA /home/julian/Hamburg/LadderDGA.jl/src/lambdaCorrection.jl:142\n",
      "┌ Warning: currently using min(usable_sp, usable_ch) for all calculations. relax this?\n",
      "└ @ LadderDGA /home/julian/Hamburg/LadderDGA.jl/src/lambdaCorrection.jl:26\n",
      "┌ Info: Found usable intervals for non-local susceptibility of length \n",
      "│ sp: 7:95, length: 89\n",
      "│ ch: 7:95, length: 89\n",
      "│ usable: 7:95, length: 89\n",
      "│ χch sum = 0.14464465532741855, rhs = 0.35535534467258145\n",
      "└ @ LadderDGA /home/julian/Hamburg/LadderDGA.jl/src/lambdaCorrection.jl:34\n",
      "┌ Info: found \n",
      "│   χ_min = -0.08908315137729711\n",
      "│   \". Looking for roots in intervall $(int)\" = . Looking for roots in intervall [-0.08908315137729711, 1.7816630275459422]\n",
      "└ @ LadderDGA /home/julian/Hamburg/LadderDGA.jl/src/lambdaCorrection.jl:134\n",
      "┌ Info: Method 2 root:\n",
      "│   r2 = [0.010033740564730212]\n",
      "└ @ LadderDGA /home/julian/Hamburg/LadderDGA.jl/src/lambdaCorrection.jl:56\n",
      "┌ Info: Found λsp \n",
      "│   λsp_old = 0.010033740564731804\n",
      "└ @ LadderDGA /home/julian/Hamburg/LadderDGA.jl/src/lambdaCorrection.jl:71\n"
     ]
    },
    {
     "ename": "LoadError",
     "evalue": "UndefVarError: λ_new not defined",
     "output_type": "error",
     "traceback": [
      "UndefVarError: λ_new not defined",
      "",
      "Stacktrace:",
      " [1] macro expansion",
      "   @ ./logging.jl:340 [inlined]",
      " [2] λ_correction!(impQ_sp::LadderDGA.ImpurityQuantities, impQ_ch::LadderDGA.ImpurityQuantities, FUpDo::SharedArrays.SharedArray{ComplexF64, 3}, Σ_loc_pos::Vector{ComplexF64}, Σ_ladderLoc::Matrix{ComplexF64}, nlQ_sp::NonLocalQuantities{ComplexF64, ComplexF64}, nlQ_ch::NonLocalQuantities{ComplexF64, ComplexF64}, bubble::SharedArrays.SharedArray{ComplexF64, 3}, Gνω::SharedArrays.SharedMatrix{ComplexF64}, kGrid::Dispersions.ReducedKGrid_cP_3D, νGrid::Vector{AbstractArray}, mP::ModelParameters, sP::SimulationParameters; init_sp::Nothing, init_spch::Nothing)",
      "   @ LadderDGA ~/Hamburg/LadderDGA.jl/src/lambdaCorrection.jl:159",
      " [3] λ_correction!(impQ_sp::LadderDGA.ImpurityQuantities, impQ_ch::LadderDGA.ImpurityQuantities, FUpDo::SharedArrays.SharedArray{ComplexF64, 3}, Σ_loc_pos::Vector{ComplexF64}, Σ_ladderLoc::Matrix{ComplexF64}, nlQ_sp::NonLocalQuantities{ComplexF64, ComplexF64}, nlQ_ch::NonLocalQuantities{ComplexF64, ComplexF64}, bubble::SharedArrays.SharedArray{ComplexF64, 3}, Gνω::SharedArrays.SharedMatrix{ComplexF64}, kGrid::Dispersions.ReducedKGrid_cP_3D, νGrid::Vector{AbstractArray}, mP::ModelParameters, sP::SimulationParameters)",
      "   @ LadderDGA ~/Hamburg/LadderDGA.jl/src/lambdaCorrection.jl:142",
      " [4] top-level scope",
      "   @ In[6]:1",
      " [5] eval",
      "   @ ./boot.jl:360 [inlined]",
      " [6] include_string(mapexpr::typeof(REPL.softscope), mod::Module, code::String, filename::String)",
      "   @ Base ./loading.jl:1094"
     ]
    }
   ],
   "source": [
    "λ_sp, λ_spch  = λ_correction!(impQ_sp, impQ_ch, FUpDo, Σ_loc, Σ_ladderLoc, nlQ_sp, nlQ_ch, bubble, GLoc_fft, qG, νGrid, mP, sP)"
   ]
  },
  {
   "cell_type": "markdown",
   "metadata": {},
   "source": [
    "nothing: old=0.022919337508626597, new=[0.022919337508626434]\n",
    "\n",
    "richardson: old=0.010033740564731804, new=[0.010033740564730212]\n"
   ]
  },
  {
   "cell_type": "code",
   "execution_count": 7,
   "metadata": {},
   "outputs": [
    {
     "name": "stdout",
     "output_type": "stream",
     "text": [
      "usable range: 7:95\n",
      "χupup_nc=0.2500000000000018 - 4.812075368908292e-10im\n",
      "lambda Float64[]\n"
     ]
    }
   ],
   "source": [
    "using Roots\n",
    "\n",
    "get_sum_helper = LadderDGA.get_sum_helper\n",
    "kintegrate = LadderDGA.kintegrate\n",
    "sum_freq = LadderDGA.sum_freq\n",
    "χ_λ(χ::AbstractArray, λ::Union{Float64}) = map(χi -> 1.0 / ((1.0 / χi) + λ), χ)\n",
    "kGrid = qG\n",
    "β = mP.β\n",
    "\n",
    "\n",
    "sh = get_sum_helper(nlQ_ch.usable_ω, sP, :b)\n",
    "χch_ω = kintegrate(kGrid, nlQ_ch.χ, dim=2)[:,1]\n",
    "χch_sum = real(sum_freq(χch_ω[nlQ_ch.usable_ω], [1], sh, mP.β)[1])\n",
    "rhs1 = mP.n * (1 - mP.n/2) - χch_sum\n",
    "rhs2 = real(impQ_ch.χ_loc + impQ_sp.χ_loc - χch_sum)\n",
    "usable_ω = intersect(nlQ_sp.usable_ω, nlQ_ch.usable_ω)\n",
    "sh = get_sum_helper(usable_ω, sP, :b)\n",
    "χupup_sum = sum_freq(kintegrate(kGrid, 0.5 .* (nlQ_ch.χ[usable_ω,:] .+ nlQ_sp.χ[usable_ω,:]), dim=2)[:,1], [1], sh, mP.β)[1]\n",
    "\n",
    "println(\"usable range: $usable_ω\\nχupup_nc=$χupup_sum\")\n",
    "\n",
    "χ_in = nlQ_sp.χ\n",
    "usable_ω_i = nlQ_sp.usable_ω\n",
    "χr    = real.(χ_in[usable_ω_i,:])\n",
    "sh = get_sum_helper(usable_ω_i, sP, :b)\n",
    "f(λint) = sum_freq(kintegrate(kGrid, χ_λ(χr, λint), dim=2)[:,1], [1], sh, β)[1] - rhs1\n",
    "df(λint) = sum_freq(kintegrate(kGrid, -χ_λ(χr, λint) .^ 2, dim=2)[:,1], [1], sh, β)[1]\n",
    "r2 = find_zeros(f, 0.02, 20.0, verbose=true)\n",
    "\n",
    "println(\"lambda $r2\")"
   ]
  },
  {
   "cell_type": "code",
   "execution_count": null,
   "metadata": {},
   "outputs": [],
   "source": []
  }
 ],
 "metadata": {
  "kernelspec": {
   "display_name": "Julia 1.6.0",
   "language": "julia",
   "name": "julia-1.6"
  },
  "language_info": {
   "file_extension": ".jl",
   "mimetype": "application/julia",
   "name": "julia",
   "version": "1.6.0"
  }
 },
 "nbformat": 4,
 "nbformat_minor": 4
}
