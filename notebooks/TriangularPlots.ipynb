{
 "cells": [
  {
   "cell_type": "code",
   "execution_count": 2,
   "metadata": {},
   "outputs": [],
   "source": [
    "import matplotlib.path as mplPath\n",
    "import itertools\n",
    "from h5 import *\n",
    "import h5py\n",
    "\n",
    "def quantity_BZ(qx, qy, z):\n",
    "    \n",
    "    # Vertices of the hexagonal BZ\n",
    "    hex_verts = [(-2.*np.pi/3.,2.*np.pi/np.sqrt(3.)),\n",
    "                 (2.*np.pi/3.,2.*np.pi/np.sqrt(3.)),\n",
    "                 (4.*np.pi/3., 0.),\n",
    "                 (2.*np.pi/3.,-2.*np.pi/np.sqrt(3.)),\n",
    "                 (-2.*np.pi/3.,-2.*np.pi/np.sqrt(3.)),\n",
    "                 (-4.*np.pi/3., 0.)\n",
    "                ]\n",
    "    \n",
    "    # Creation of the BZ region\n",
    "    hexPath = mplPath.Path(np.array(hex_verts))\n",
    "\n",
    "    # Points lying inside BZ\n",
    "    qx_in = []\n",
    "    qy_in = []\n",
    "    quantity_in = []\n",
    "\n",
    "    # Points lying outside BZ\n",
    "    qx_out = []\n",
    "    qy_out = []\n",
    "    quantity_out = []\n",
    "\n",
    "    for j in range(len(qx)):\n",
    "        if hexPath.contains_point((qx[j],qy[j])) == True:\n",
    "            qx_in.append(qx[j])\n",
    "            qy_in.append(qy[j])\n",
    "            quantity_in.append(z[j])\n",
    "\n",
    "        else:\n",
    "            qx_out.append(qx[j])\n",
    "            qy_out.append(qy[j])\n",
    "            quantity_out.append(z[j])\n",
    "\n",
    "    # Reciprocal lattice translation vectors\n",
    "    b1 = np.array((2.*np.pi, -2.*np.pi/np.sqrt(3.)))\n",
    "    b2 = np.array((0., 4.*np.pi/np.sqrt(3.)))\n",
    "\n",
    "    # Set of integer coefficients\n",
    "    a1 = np.arange(-10, 11)\n",
    "    a2 = np.arange(-10, 11)\n",
    "    cartesian_product = list(itertools.product(a1, a2))\n",
    "\n",
    "    # Translated points\n",
    "    qx_new = []\n",
    "    qy_new = []\n",
    "    quantity_new = []\n",
    "\n",
    "    for j in range(len(qx_out)):\n",
    "    \n",
    "        vec_out = np.array((qx_out[j],qy_out[j]))\n",
    "\n",
    "        for coeffs in cartesian_product:\n",
    "    \n",
    "            T = coeffs[0] * b1 + coeffs[1] * b2\n",
    "        \n",
    "            vec_T = vec_out + T\n",
    "        \n",
    "            if hexPath.contains_point((vec_T[0],vec_T[1])) == True:\n",
    "            \n",
    "                qx_new.append(vec_T[0])\n",
    "                qy_new.append(vec_T[1])\n",
    "                quantity_new.append(quantity_out[j])\n",
    "            \n",
    "                break\n",
    "                \n",
    "    qx_final = qx_in + qx_new\n",
    "    qy_final = qy_in + qy_new\n",
    "    quantity = quantity_in + quantity_new\n",
    "    \n",
    "    return qx_final, qy_final, quantity    "
   ]
  },
  {
   "cell_type": "code",
   "execution_count": 3,
   "metadata": {},
   "outputs": [
    {
     "ename": "NameError",
     "evalue": "name 'np' is not defined",
     "output_type": "error",
     "traceback": [
      "\u001b[0;31m---------------------------------------------------------------------------\u001b[0m",
      "\u001b[0;31mNameError\u001b[0m                                 Traceback (most recent call last)",
      "\u001b[0;32m<ipython-input-3-03a555f78f06>\u001b[0m in \u001b[0;36m<module>\u001b[0;34m\u001b[0m\n\u001b[1;32m      1\u001b[0m \u001b[0mD\u001b[0m \u001b[0;34m=\u001b[0m \u001b[0mh5py\u001b[0m\u001b[0;34m.\u001b[0m\u001b[0mFile\u001b[0m\u001b[0;34m(\u001b[0m\u001b[0;34m\"/home/deoliveira/Desktop/PhD/triangular_lattice/ladderDGA/Gull_point/dmft_nonloc_suscep_U-6_beta-6_kx_50.h5\"\u001b[0m\u001b[0;34m,\u001b[0m \u001b[0;34m\"r\"\u001b[0m\u001b[0;34m)\u001b[0m\u001b[0;34m\u001b[0m\u001b[0;34m\u001b[0m\u001b[0m\n\u001b[0;32m----> 2\u001b[0;31m \u001b[0mim_chi_sp_BZ\u001b[0m \u001b[0;34m=\u001b[0m \u001b[0mquantity_BZ\u001b[0m\u001b[0;34m(\u001b[0m\u001b[0mqx\u001b[0m\u001b[0;34m=\u001b[0m\u001b[0mD\u001b[0m\u001b[0;34m[\u001b[0m\u001b[0;34m\"q_x\"\u001b[0m\u001b[0;34m]\u001b[0m\u001b[0;34m[\u001b[0m\u001b[0;34m:\u001b[0m\u001b[0;34m]\u001b[0m\u001b[0;34m,\u001b[0m\u001b[0mqy\u001b[0m\u001b[0;34m=\u001b[0m\u001b[0mD\u001b[0m\u001b[0;34m[\u001b[0m\u001b[0;34m\"q_y\"\u001b[0m\u001b[0;34m]\u001b[0m\u001b[0;34m[\u001b[0m\u001b[0;34m:\u001b[0m\u001b[0;34m]\u001b[0m\u001b[0;34m,\u001b[0m\u001b[0mz\u001b[0m\u001b[0;34m=\u001b[0m\u001b[0mD\u001b[0m\u001b[0;34m[\u001b[0m\u001b[0;34m\"chi_sp_real\"\u001b[0m\u001b[0;34m]\u001b[0m\u001b[0;34m[\u001b[0m\u001b[0;34m:\u001b[0m\u001b[0;34m]\u001b[0m\u001b[0;34m)\u001b[0m\u001b[0;34m\u001b[0m\u001b[0;34m\u001b[0m\u001b[0m\n\u001b[0m",
      "\u001b[0;32m<ipython-input-2-a349ede53736>\u001b[0m in \u001b[0;36mquantity_BZ\u001b[0;34m(qx, qy, z)\u001b[0m\n\u001b[1;32m      7\u001b[0m \u001b[0;34m\u001b[0m\u001b[0m\n\u001b[1;32m      8\u001b[0m     \u001b[0;31m# Vertices of the hexagonal BZ\u001b[0m\u001b[0;34m\u001b[0m\u001b[0;34m\u001b[0m\u001b[0;34m\u001b[0m\u001b[0m\n\u001b[0;32m----> 9\u001b[0;31m     hex_verts = [(-2.*np.pi/3.,2.*np.pi/np.sqrt(3.)),\n\u001b[0m\u001b[1;32m     10\u001b[0m                  \u001b[0;34m(\u001b[0m\u001b[0;36m2.\u001b[0m\u001b[0;34m*\u001b[0m\u001b[0mnp\u001b[0m\u001b[0;34m.\u001b[0m\u001b[0mpi\u001b[0m\u001b[0;34m/\u001b[0m\u001b[0;36m3.\u001b[0m\u001b[0;34m,\u001b[0m\u001b[0;36m2.\u001b[0m\u001b[0;34m*\u001b[0m\u001b[0mnp\u001b[0m\u001b[0;34m.\u001b[0m\u001b[0mpi\u001b[0m\u001b[0;34m/\u001b[0m\u001b[0mnp\u001b[0m\u001b[0;34m.\u001b[0m\u001b[0msqrt\u001b[0m\u001b[0;34m(\u001b[0m\u001b[0;36m3.\u001b[0m\u001b[0;34m)\u001b[0m\u001b[0;34m)\u001b[0m\u001b[0;34m,\u001b[0m\u001b[0;34m\u001b[0m\u001b[0;34m\u001b[0m\u001b[0m\n\u001b[1;32m     11\u001b[0m                  \u001b[0;34m(\u001b[0m\u001b[0;36m4.\u001b[0m\u001b[0;34m*\u001b[0m\u001b[0mnp\u001b[0m\u001b[0;34m.\u001b[0m\u001b[0mpi\u001b[0m\u001b[0;34m/\u001b[0m\u001b[0;36m3.\u001b[0m\u001b[0;34m,\u001b[0m \u001b[0;36m0.\u001b[0m\u001b[0;34m)\u001b[0m\u001b[0;34m,\u001b[0m\u001b[0;34m\u001b[0m\u001b[0;34m\u001b[0m\u001b[0m\n",
      "\u001b[0;31mNameError\u001b[0m: name 'np' is not defined"
     ]
    }
   ],
   "source": [
    "D = h5py.File(\"/home/deoliveira/Desktop/PhD/triangular_lattice/ladderDGA/Gull_point/dmft_nonloc_suscep_U-6_beta-6_kx_50.h5\", \"r\")\n",
    "im_chi_sp_BZ = quantity_BZ(qx=D[\"q_x\"][:],qy=D[\"q_y\"][:],z=D[\"chi_sp_real\"][:])"
   ]
  },
  {
   "cell_type": "code",
   "execution_count": null,
   "metadata": {},
   "outputs": [],
   "source": []
  }
 ],
 "metadata": {
  "kernelspec": {
   "display_name": "Python 3",
   "language": "python",
   "name": "python3"
  },
  "language_info": {
   "codemirror_mode": {
    "name": "ipython",
    "version": 3
   },
   "file_extension": ".py",
   "mimetype": "text/x-python",
   "name": "python",
   "nbconvert_exporter": "python",
   "pygments_lexer": "ipython3",
   "version": "3.8.5"
  }
 },
 "nbformat": 4,
 "nbformat_minor": 4
}
