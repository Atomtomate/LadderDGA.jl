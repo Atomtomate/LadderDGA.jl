{
 "cells": [
  {
   "cell_type": "markdown",
   "id": "34b6ddd1",
   "metadata": {},
   "source": [
    "# Introduction\n",
    "\n",
    "This notebook will go through the basic steps of preparing the input and calculating non-local quantities.\n",
    "\n",
    "# Input\n",
    "\n",
    "The first step will be the preparation of input data. For this tutorial we assume, that you have been provided with a file containing the DMFT output data. \n",
    "\n",
    "We will convert this file to an input file for the `LadderDGA.jl` code and generate a frequency mesh. \n",
    "\n",
    "You can also peak into HDF5 files using the Julia HDF5 package."
   ]
  },
  {
   "cell_type": "code",
   "execution_count": 4,
   "id": "aa382b44",
   "metadata": {},
   "outputs": [
    {
     "ename": "LoadError",
     "evalue": "unable to determine if /home/julian/Hamburg/lDGA_checks/triangular_test/U2_n1_b12.h5 is accessible in the HDF5 format (file may not exist)",
     "output_type": "error",
     "traceback": [
      "unable to determine if /home/julian/Hamburg/lDGA_checks/triangular_test/U2_n1_b12.h5 is accessible in the HDF5 format (file may not exist)",
      "",
      "Stacktrace:",
      " [1] error(s::String)",
      "   @ Base ./error.jl:33",
      " [2] h5open(filename::String, mode::String; swmr::Bool, pv::Base.Iterators.Pairs{Union{}, Union{}, Tuple{}, NamedTuple{(), Tuple{}}})",
      "   @ HDF5 ~/.julia/packages/HDF5/VJkAi/src/HDF5.jl:430",
      " [3] h5open (repeats 2 times)",
      "   @ ~/.julia/packages/HDF5/VJkAi/src/HDF5.jl:412 [inlined]",
      " [4] top-level scope",
      "   @ In[4]:3",
      " [5] eval",
      "   @ ./boot.jl:360 [inlined]",
      " [6] include_string(mapexpr::typeof(REPL.softscope), mod::Module, code::String, filename::String)",
      "   @ Base ./loading.jl:1094"
     ]
    }
   ],
   "source": [
    "using HDF5\n",
    "path_to_input = \"/home/julian/Hamburg/lDGA_checks/triangular_test/U2_n1_b12.h5\"\n",
    "f = h5open(path_to_input)"
   ]
  },
  {
   "cell_type": "markdown",
   "id": "4b0e05d3",
   "metadata": {},
   "source": [
    "## TRIQS Conversion\n",
    "\n",
    "If you are starting out with DMFT data from TRIQS, the `triqs_conv.jl` script in the scripts subdirectory of the `LadderDGA.jl` code will responsible for the conversion. This script also utilizes the `SparseVertex` and `EquivalencyClassesConstructor.jl` packages. \n",
    "\n",
    "Most of the conversion scripts are built to be called from the command line with the input given as parameters.\n",
    "In Julia call parameters are stored in the `ARGS` array. Thus, in order to emulate a call with parameters in jupyter notebooks, we will modify this array befor calls to scripts.\n",
    "\n",
    "We start by adding the path to a triqs output file and a directory for the script output (`@__DIR__` points to the directory the current script runs in) to the `ARGS` array and executing the `triqs_conv.jl` script for this input.\n",
    "The input file is NOT provided with this example!\n",
    "\n",
    "If you want to know more about a function, you can type `? function_name` in any cell to view the docstring."
   ]
  },
  {
   "cell_type": "code",
   "execution_count": 5,
   "id": "4a123e42",
   "metadata": {},
   "outputs": [
    {
     "name": "stderr",
     "output_type": "stream",
     "text": [
      "┌ Info: Precompiling SparseVertex [90e5b0d8-73d4-48d2-a116-5fd8650b07f2]\n",
      "└ @ Base loading.jl:1317\n"
     ]
    },
    {
     "name": "stdout",
     "output_type": "stream",
     "text": [
      "Generating freqency mesh with bosonic -59:59, fermionic -60:59 indices\n",
      "Constructing Array\n",
      "Starting Computation 3\n",
      "  1.485741 seconds (139.52 k allocations: 110.950 MiB, 2.76% gc time, 21.92% compilation time)\n",
      "  0.128148 seconds (60 allocations: 16.170 MiB)\n",
      "  0.497274 seconds (11 allocations: 78.148 MiB)\n"
     ]
    }
   ],
   "source": [
    "path_to_input = \"/home/julian/Hamburg/lDGA_checks/square_test/U2_n1_b12.h5\"\n",
    "path_to_output = \"/home/julian/Hamburg/lDGA_checks/square_test\"\n",
    "empty!(ARGS)\n",
    "push!(ARGS,path_to_input)\n",
    "push!(ARGS,path_to_output)\n",
    "include(\"../scripts/triqs_conv.jl\")"
   ]
  },
  {
   "cell_type": "markdown",
   "id": "b73f45c4",
   "metadata": {},
   "source": [
    "## Config File\n",
    "You will find two new files in the `path_to_output` directory. Before we can start the calculation we need to specify a configuration file which will point `LadderDGA.jl` to these files and provide all necessary parameters.\n",
    "\n",
    "You will find an example configuration named `config.toml` in the root directory of `LadderDGA.jl`.\n",
    "`U`, `mu`, `beta`, `nden` and `kGrid` should be set according to your DMFT calculation. The syntax for the `kGrid` parameter is as follows: The grid is given as a string starting with the grid name (see also `Dispersions.jl` for more information), followed by additional parameters, separated by `-`. Currently `2Dsc` and `3Dsc` are available with a single parameter for the hopping to neighbouring sites. Examples are `\"2Dsc-0.25\"` or `\"3Dsc-0.408248\"`\n",
    "\n",
    "Remember to set the `inputDir` and `freqFile` variables to the previously generated files."
   ]
  },
  {
   "cell_type": "markdown",
   "id": "f221d8ec",
   "metadata": {},
   "source": [
    "# Running the code\n",
    "\n",
    "The `LadderDGA.jl` code consists of a collection of functions but no linear program flow. This means one has to define a script which defines the actual program flow.\n",
    "Some examples can be found in the root directory of the project. Here we will go through a typical program flow, also giving us the opportunity to plot quantities at differnts steps of the calculation.\n",
    "First, point the `cfg_file` variable to your edited configuration file.\n",
    "We then also tell Julia to use `Plots` and `LadderDGA`.\n",
    "\n",
    "LadderDGA.jl can be run in parallel by specifying the `path_to_source` variable. If you want to run the single core version, comment out lines `4` to `10` and uncomment line `13`."
   ]
  },
  {
   "cell_type": "code",
   "execution_count": 6,
   "id": "94ab08c1",
   "metadata": {},
   "outputs": [],
   "source": [
    "cfg_file = \"/home/julian/Hamburg/lDGA_checks/square_test/config.toml\"\n",
    "path_to_source = \"/home/julian/Hamburg/LadderDGA.jl\"\n",
    "\n",
    "using Distributed\n",
    "if nprocs() == 1\n",
    "    addprocs(7)\n",
    "    @everywhere using Pkg\n",
    "    @everywhere Pkg.activate(path_to_source)\n",
    "    @everywhere using LadderDGA\n",
    "end\n",
    "\n",
    "using Plots\n",
    "#using LadderDGA"
   ]
  },
  {
   "cell_type": "markdown",
   "id": "aa601f68",
   "metadata": {},
   "source": [
    "The next step will read the config and input files and set up all variables for you.\n",
    "The `kGrids` (reduced k grid) arrays contain k grids of the sizes specified in the `Nk` array in your `config.toml`. \n",
    "This can be handy for finite size scaling, but for now we will stick with simple calculations and only use a single k grid size.\n",
    "Finally we will also need to read in the DMFT quantities. `setup_LDGA` will do just that.\n",
    "\n",
    "Note: the full grids (here stored in the kGrids array) are deprecated. They will be removed from future versions, together with most debug variables (all variables in the return list of `readConfig` after `qGridLoc`)."
   ]
  },
  {
   "cell_type": "code",
   "execution_count": 2,
   "id": "f2b15f4c",
   "metadata": {},
   "outputs": [
    {
     "name": "stderr",
     "output_type": "stream",
     "text": [
      "┌ Info: Reading Inputs...\n",
      "└ @ LadderDGA /home/julian/Hamburg/LadderDGA.jl/src/IO.jl:7\n",
      "┌ Warning: TODO: check beta consistency, config <-> g0man, chi_dir <-> gamma dir\n",
      "└ @ LadderDGA /home/julian/Hamburg/LadderDGA.jl/src/helpers.jl:83\n",
      "┌ Info: setting usable ranges of sp and ch channel from 44:56 and 44:56 to the same range of 44:56\n",
      "└ @ LadderDGA /home/julian/Hamburg/LadderDGA.jl/src/helpers.jl:135\n",
      "┌ Warning: Could not find hubb.andpar and gm_wim for kinetic energy. proceding without improved bosonic sums!\n",
      "└ @ LadderDGA /home/julian/Hamburg/LadderDGA.jl/src/helpers.jl:148\n",
      "┌ Info: Inputs Read. Starting Computation.\n",
      "│ Local susceptibilities with ranges are:\n",
      "│ χLoc_sp(44:56) = 0.2411, χLoc_ch(44:56) = 0.1911 \n",
      "│ sum χupup check (fit, tail sub, tail sub + fit, expected): 0.21609829006973458 ?≈? 0.22488273176943194 ?=? 0.21609829006973325 ?≈? 0.25\"\n",
      "└ @ LadderDGA /home/julian/Hamburg/LadderDGA.jl/src/helpers.jl:169\n"
     ]
    }
   ],
   "source": [
    "mP, sP, env, kGrids, qGridLoc, freqRed_map, freqList, freqList_min, parents, ops, nFermi, nBose, shift, base, offset = readConfig(cfg_file)\n",
    "qG = kGrids[1]\n",
    "νGrid, sumHelper_f, impQ_sp, impQ_ch, GImp_fft, GLoc_fft, Σ_loc, FUpDo, gImp, gLoc = setup_LDGA(qG, freqList, mP, sP, env);"
   ]
  },
  {
   "cell_type": "markdown",
   "id": "dfd1a816",
   "metadata": {},
   "source": [
    "We are now in the position to calculate the ladder DGA self energy. The first 5 lines compute all quantities on a lattice of size 1. The resulting self energy is used to cancel out discretization errors and finite size effects in the full self energy."
   ]
  },
  {
   "cell_type": "code",
   "execution_count": 3,
   "id": "8c5f72f9",
   "metadata": {},
   "outputs": [
    {
     "name": "stderr",
     "output_type": "stream",
     "text": [
      "┌ Info: Computing λsp corrected χsp, using \n",
      "│   sP.χFillType = lambda_χ_fill\n",
      "│    as fill value outside usable ω range. =  as fill value outside usable ω range.\n",
      "└ @ LadderDGA /home/julian/Hamburg/LadderDGA.jl/src/lambdaCorrection.jl:222\n",
      "┌ Warning: currently using min(usable_sp, usable_ch) = min(44:56,44:56) = 44:56 for all calculations. relax this?\n",
      "└ @ LadderDGA /home/julian/Hamburg/LadderDGA.jl/src/lambdaCorrection.jl:33\n",
      "┌ Info: Found usable intervals for non-local susceptibility of length \n",
      "│ sp: 44:56, length: 13\n",
      "│ ch: 44:56, length: 13\n",
      "│ usable: 44:56, length: 13\n",
      "│ χch sum = 0.19864789730366825, rhs = 0.3013521026963317\n",
      "└ @ LadderDGA /home/julian/Hamburg/LadderDGA.jl/src/lambdaCorrection.jl:47\n",
      "┌ Info: found \n",
      "│   χ_min = -4.93784005901441\n",
      "│   \". Looking for roots in intervall $(int)\" = . Looking for roots in intervall [-4.93784005901441, 16.72882660765226]\n",
      "└ @ LadderDGA /home/julian/Hamburg/LadderDGA.jl/src/lambdaCorrection.jl:214\n",
      "┌ Info: Method 2 root:\n",
      "│   r2 = Float64[]\n",
      "└ @ LadderDGA /home/julian/Hamburg/LadderDGA.jl/src/lambdaCorrection.jl:81\n",
      "┌ Info: Found λsp \n",
      "│   λsp_old = -1.1902183327643983\n",
      "└ @ LadderDGA /home/julian/Hamburg/LadderDGA.jl/src/lambdaCorrection.jl:96\n",
      "┌ Info: new lambda correction: λsp=0.0 and λch=0.0\n",
      "└ @ LadderDGA /home/julian/Hamburg/LadderDGA.jl/src/lambdaCorrection.jl:239\n"
     ]
    }
   ],
   "source": [
    "bubbleLoc = calc_bubble(νGrid, GImp_fft, qGridLoc, mP, sP)\n",
    "locQ_sp = calc_χ_trilex(impQ_sp.Γ, bubbleLoc, qGridLoc, νGrid, sumHelper_f, mP.U, mP, sP);\n",
    "locQ_ch = calc_χ_trilex(impQ_ch.Γ, bubbleLoc, qGridLoc, νGrid, sumHelper_f, -mP.U, mP, sP);\n",
    "Σ_ladderLoc = calc_Σ(locQ_sp, locQ_ch, bubbleLoc, GImp_fft, FUpDo, qGridLoc, sumHelper_f, mP, sP)\n",
    "Σ_ladderLoc = Σ_ladderLoc .+ mP.n * mP.U/2.0;\n",
    "\n",
    "\n",
    "bubble = calc_bubble(νGrid, GLoc_fft, qG, mP, sP);\n",
    "nlQ_sp = calc_χ_trilex(impQ_sp.Γ, bubble, qG, νGrid, sumHelper_f, mP.U, mP, sP);\n",
    "nlQ_ch = calc_χ_trilex(impQ_ch.Γ, bubble, qG, νGrid, sumHelper_f, -mP.U, mP, sP);\n",
    "nlQ_sp_nλ = deepcopy(nlQ_sp)\n",
    "nlQ_ch_nλ = deepcopy(nlQ_ch)\n",
    "λ_sp, λ_spch  = λ_correction!(impQ_sp, impQ_ch, FUpDo, Σ_loc, Σ_ladderLoc, nlQ_sp, nlQ_ch, bubble, GLoc_fft, qG, mP, sP)\n",
    "\n",
    "Σ_ladder = calc_Σ(nlQ_sp, nlQ_ch, bubble, GLoc_fft, FUpDo, qG, sumHelper_f, mP, sP)\n",
    "Σ_ladder_corrected = Σ_ladder .- Σ_ladderLoc .+ Σ_loc[1:size(Σ_ladder,1)];"
   ]
  },
  {
   "cell_type": "markdown",
   "id": "696a089b",
   "metadata": {},
   "source": [
    "# Visualization\n",
    "\n",
    "The main advantage of calculations in jupyter notebooks are the convenient options for data visualization. The following cells give examples for plotting in Julia"
   ]
  },
  {
   "cell_type": "code",
   "execution_count": 6,
   "id": "ec78e0da",
   "metadata": {},
   "outputs": [
    {
     "ename": "LoadError",
     "evalue": "UndefVarError: nlQ_ch not defined",
     "output_type": "error",
     "traceback": [
      "UndefVarError: nlQ_ch not defined",
      "",
      "Stacktrace:",
      " [1] top-level scope",
      "   @ In[6]:1",
      " [2] eval",
      "   @ ./boot.jl:360 [inlined]",
      " [3] include_string(mapexpr::typeof(REPL.softscope), mod::Module, code::String, filename::String)",
      "   @ Base ./loading.jl:1094"
     ]
    }
   ],
   "source": [
    "sh = LadderDGA.get_sum_helper(nlQ_ch.usable_ω, sP, :b)\n",
    "χch_ω = LadderDGA.kintegrate(qG, nlQ_ch.χ, dim=2)[:,1]\n",
    "χch_sum = real(LadderDGA.sum_freq(χch_ω[nlQ_ch.usable_ω], [1], sh, mP.β)[1])\n",
    "real(impQ_ch.χ_loc + impQ_sp.χ_loc - χch_sum)\n",
    "\n",
    "sh = LadderDGA.get_sum_helper(nlQ_sp.usable_ω, sP, :b)\n",
    "χsp_ω = LadderDGA.kintegrate(qG, nlQ_sp.χ, dim=2)[:,1]\n",
    "χsp_sum = real(LadderDGA.sum_freq(χsp_ω[nlQ_sp.usable_ω], [1], sh, mP.β)[1])"
   ]
  },
  {
   "cell_type": "code",
   "execution_count": 7,
   "id": "fa1cd4ee",
   "metadata": {},
   "outputs": [
    {
     "ename": "LoadError",
     "evalue": "UndefVarError: impQ_ch not defined",
     "output_type": "error",
     "traceback": [
      "UndefVarError: impQ_ch not defined",
      "",
      "Stacktrace:",
      " [1] top-level scope",
      "   @ In[7]:1",
      " [2] eval",
      "   @ ./boot.jl:360 [inlined]",
      " [3] include_string(mapexpr::typeof(REPL.softscope), mod::Module, code::String, filename::String)",
      "   @ Base ./loading.jl:1094"
     ]
    }
   ],
   "source": [
    "χchED_ω_naive = sum(impQ_ch.χ,dims=[2,3])[:,1,1]/(mP.β^2);\n",
    "χspED_ω_naive = sum(impQ_sp.χ,dims=[2,3])[:,1,1]/(mP.β^2);\n",
    "\n",
    "reduction_prct = -0.1\n",
    "χchED_ω_fit = [LadderDGA.sum_freq(impQ_ch.χ[i,:,:], [1,2], sumHelper_f, mP.β)[1,1] for i in 1:size(impQ_ch.χ,1)];\n",
    "χspED_ω_fit = [LadderDGA.sum_freq(impQ_sp.χ[i,:,:], [1,2], sumHelper_f, mP.β)[1,1] for i in 1:size(impQ_sp.χ,1)];\n",
    "usable_ch = LadderDGA.find_usable_interval(real(χchED_ω_fit), reduce_range_prct=reduction_prct)\n",
    "usable_sp = LadderDGA.find_usable_interval(real(χspED_ω_fit), reduce_range_prct=reduction_prct)\n",
    "usable_fit_DMFT = intersect(usable_ch, usable_sp)\n",
    "\n",
    "usable_naive_ch = LadderDGA.find_usable_interval(real(χchED_ω_naive), reduce_range_prct=reduction_prct)\n",
    "usable_naive_sp = LadderDGA.find_usable_interval(real(χspED_ω_naive), reduce_range_prct=reduction_prct)\n",
    "\n",
    "\n",
    "plot(usable_ch .- sP.n_iω .- 1, real(χchED_ω_fit[usable_ch]), label=\"richardson\", c=:green)\n",
    "plot!(usable_ch .- sP.n_iω .- 1, repeat([0], length(usable_ch)), fillrange=real(χchED_ω_fit[usable_ch]), fillalpha=0.06, c=:green, label=nothing)\n",
    "\n",
    "plot!(usable_naive_ch .- sP.n_iω .- 1, real(χchED_ω_naive[usable_naive_ch]), label=\"naive\", xlabel=\"ωₙ\", ylabel=\"χ_ch\", c=:orange, title=\"reduction: $(reduction_prct*100)%\")\n",
    "plot!(usable_naive_ch .- sP.n_iω .- 1, repeat([0], length(usable_naive_ch)), fillrange=real(χchED_ω_naive[usable_naive_ch]), fillalpha=0.3, c=:orange, label=nothing)\n"
   ]
  },
  {
   "cell_type": "markdown",
   "id": "17d0b4dd",
   "metadata": {},
   "source": [
    "### non-local quantities"
   ]
  },
  {
   "cell_type": "code",
   "execution_count": 8,
   "id": "10ef4d0e",
   "metadata": {},
   "outputs": [
    {
     "ename": "LoadError",
     "evalue": "UndefVarError: νGrid2 not defined",
     "output_type": "error",
     "traceback": [
      "UndefVarError: νGrid2 not defined",
      "",
      "Stacktrace:",
      " [1] top-level scope",
      "   @ In[8]:1",
      " [2] eval",
      "   @ ./boot.jl:360 [inlined]",
      " [3] include_string(mapexpr::typeof(REPL.softscope), mod::Module, code::String, filename::String)",
      "   @ Base ./loading.jl:1094"
     ]
    }
   ],
   "source": [
    "bubbleLoc2 = calc_bubble(νGrid2, GImp_fft2, qGridLoc, mP2, sP2)\n",
    "locQ_sp2 = calc_χ_trilex(impQ_sp2.Γ, bubbleLoc2, qGridLoc, νGrid2, sumHelper_f2, mP2.U, mP2, sP2);\n",
    "locQ_ch2 = calc_χ_trilex(impQ_ch2.Γ, bubbleLoc2, qGridLoc, νGrid2, sumHelper_f2, -mP2.U, mP2, sP2);\n",
    "Σ_ladderLoc2 = calc_Σ(locQ_sp2, locQ_ch2, bubbleLoc2, GImp_fft2, FUpDo2, qGridLoc, sumHelper_f2, mP2, sP2)\n",
    "Σ_ladderLoc2 = Σ_ladderLoc2 .+ mP2.n * mP2.U/2.0;\n",
    "\n",
    "\n",
    "bubble2 = calc_bubble(νGrid2, GLoc_fft2, qG, mP2, sP2);\n",
    "nlQ_sp2 = calc_χ_trilex(impQ_sp2.Γ, bubble2, qG, νGrid2, sumHelper_f2, mP2.U, mP2, sP2);\n",
    "nlQ_ch2 = calc_χ_trilex(impQ_ch2.Γ, bubble2, qG, νGrid2, sumHelper_f2, -mP2.U, mP2, sP2);\n",
    "\n",
    "nlQ_sp2_nλ = deepcopy(nlQ_sp2)\n",
    "nlQ_ch2_nλ = deepcopy(nlQ_ch2)\n",
    "λ_sp2, λ_spch2  = λ_correction!(impQ_sp2, impQ_ch2, FUpDo2, Σ_loc2, Σ_ladderLoc2, nlQ_sp2, nlQ_ch2, bubble2, GLoc_fft2, qG, mP2, sP2)\n",
    "\n",
    "Σ_ladder2 = calc_Σ(nlQ_sp2, nlQ_ch2, bubble2, GLoc_fft2, FUpDo2, qG, sumHelper_f2, mP2, sP2)\n",
    "Σ_ladder_corrected2 = Σ_ladder2 .- Σ_ladderLoc2 .+ Σ_loc[1:size(Σ_ladder2,1)];"
   ]
  },
  {
   "cell_type": "code",
   "execution_count": 9,
   "id": "6e42b0e7",
   "metadata": {},
   "outputs": [
    {
     "ename": "LoadError",
     "evalue": "UndefVarError: nlQ_ch not defined",
     "output_type": "error",
     "traceback": [
      "UndefVarError: nlQ_ch not defined",
      "",
      "Stacktrace:",
      " [1] top-level scope",
      "   @ In[9]:2",
      " [2] eval",
      "   @ ./boot.jl:360 [inlined]",
      " [3] include_string(mapexpr::typeof(REPL.softscope), mod::Module, code::String, filename::String)",
      "   @ Base ./loading.jl:1094"
     ]
    }
   ],
   "source": [
    "# naive:\n",
    "χch_ω = LadderDGA.kintegrate(qG, nlQ_ch.χ, dim=2)[:,1]\n",
    "χsp_ω = LadderDGA.kintegrate(qG, nlQ_sp.χ, dim=2)[:,1]\n",
    "xarr = sort(unique(union(nlQ_ch.usable_ω, nlQ_sp.usable_ω))) \n",
    "plot(xarr .- sP.n_iω .- 1, real(χch_ω[xarr]), label=\"nl χ_ch\", legend=:topleft, color=:red)\n",
    "plot!(twinx(), xarr .- sP.n_iω .- 1, real(χsp_ω[xarr]), label=\"nl χ_sp\")"
   ]
  },
  {
   "cell_type": "code",
   "execution_count": 10,
   "id": "28bd3cf7",
   "metadata": {},
   "outputs": [
    {
     "ename": "LoadError",
     "evalue": "UndefVarError: Σ_ladder_corrected not defined",
     "output_type": "error",
     "traceback": [
      "UndefVarError: Σ_ladder_corrected not defined",
      "",
      "Stacktrace:",
      " [1] top-level scope",
      "   @ In[10]:1",
      " [2] eval",
      "   @ ./boot.jl:360 [inlined]",
      " [3] include_string(mapexpr::typeof(REPL.softscope), mod::Module, code::String, filename::String)",
      "   @ Base ./loading.jl:1094"
     ]
    }
   ],
   "source": [
    "plot(imag.(Σ_ladder_corrected[1:10,1]))"
   ]
  },
  {
   "cell_type": "code",
   "execution_count": 11,
   "id": "f701cbda",
   "metadata": {},
   "outputs": [
    {
     "ename": "LoadError",
     "evalue": "UndefVarError: Σ_ladder_corrected not defined",
     "output_type": "error",
     "traceback": [
      "UndefVarError: Σ_ladder_corrected not defined",
      "",
      "Stacktrace:",
      " [1] top-level scope",
      "   @ In[11]:1",
      " [2] eval",
      "   @ ./boot.jl:360 [inlined]",
      " [3] include_string(mapexpr::typeof(REPL.softscope), mod::Module, code::String, filename::String)",
      "   @ Base ./loading.jl:1094"
     ]
    }
   ],
   "source": [
    "plot(real.(Σ_ladder_corrected[:,1]))"
   ]
  }
 ],
 "metadata": {
  "kernelspec": {
   "display_name": "Julia 1.6.0",
   "language": "julia",
   "name": "julia-1.6"
  },
  "language_info": {
   "file_extension": ".jl",
   "mimetype": "application/julia",
   "name": "julia",
   "version": "1.6.0"
  }
 },
 "nbformat": 4,
 "nbformat_minor": 5
}
