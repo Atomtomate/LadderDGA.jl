{
 "cells": [
  {
   "cell_type": "markdown",
   "id": "34b6ddd1",
   "metadata": {},
   "source": [
    "# Introduction\n",
    "\n",
    "This notebook will go through the basic steps of preparing the input and calculating non-local quantities.\n",
    "\n",
    "# Input\n",
    "\n",
    "The first step will be the preparation of input data. For this tutorial we assume, that you have been provided with a file containing the DMFT output data. \n",
    "\n",
    "We will convert this file to an input file for the `LadderDGA.jl` code and generate a frequency mesh. \n",
    "\n",
    "You can also peak into HDF5 files using the Julia HDF5 package."
   ]
  },
  {
   "cell_type": "code",
   "execution_count": null,
   "id": "aa382b44",
   "metadata": {},
   "outputs": [],
   "source": [
    "using HDF5\n",
    "path_to_input = \"/home/julian/Hamburg/lDGA_checks/triangular_test/U2_n1_b12.h5\"\n",
    "f = h5open(path_to_input)"
   ]
  },
  {
   "cell_type": "markdown",
   "id": "4b0e05d3",
   "metadata": {},
   "source": [
    "## TRIQS Conversion\n",
    "\n",
    "If you are starting out with DMFT data from TRIQS, the `triqs_conv.jl` script in the scripts subdirectory of the `LadderDGA.jl` code will responsible for the conversion. This script also utilizes the `SparseVertex` and `EquivalencyClassesConstructor.jl` packages. \n",
    "\n",
    "Most of the conversion scripts are built to be called from the command line with the input given as parameters.\n",
    "In Julia call parameters are stored in the `ARGS` array. Thus, in order to emulate a call with parameters in jupyter notebooks, we will modify this array befor calls to scripts.\n",
    "\n",
    "We start by adding the path to a triqs output file and a directory for the script output (`@__DIR__` points to the directory the current script runs in) to the `ARGS` array and executing the `triqs_conv.jl` script for this input.\n",
    "The input file is NOT provided with this example!\n",
    "\n",
    "If you want to know more about a function, you can type `? function_name` in any cell to view the docstring."
   ]
  },
  {
   "cell_type": "code",
   "execution_count": null,
   "id": "4a123e42",
   "metadata": {},
   "outputs": [],
   "source": [
    "path_to_input = \"/home/julian/Hamburg/lDGA_checks/square_test/U2_n1_b12.h5\"\n",
    "path_to_output = \"/home/julian/Hamburg/lDGA_checks/square_test\"\n",
    "empty!(ARGS)\n",
    "push!(ARGS,path_to_input)\n",
    "push!(ARGS,path_to_output)\n",
    "include(\"../scripts/triqs_conv.jl\")"
   ]
  },
  {
   "cell_type": "markdown",
   "id": "b73f45c4",
   "metadata": {},
   "source": [
    "## Config File\n",
    "You will find two new files in the `path_to_output` directory. Before we can start the calculation we need to specify a configuration file which will point `LadderDGA.jl` to these files and provide all necessary parameters.\n",
    "\n",
    "You will find an example configuration named `config.toml` in the root directory of `LadderDGA.jl`.\n",
    "`U`, `mu`, `beta`, `nden` and `kGrid` should be set according to your DMFT calculation. The syntax for the `kGrid` parameter is as follows: The grid is given as a string starting with the grid name (see also `Dispersions.jl` for more information), followed by additional parameters, separated by `-`. Currently `2Dsc` and `3Dsc` are available with a single parameter for the hopping to neighbouring sites. Examples are `\"2Dsc-0.25\"` or `\"3Dsc-0.408248\"`\n",
    "\n",
    "Remember to set the `inputDir` and `freqFile` variables to the previously generated files."
   ]
  },
  {
   "cell_type": "markdown",
   "id": "f221d8ec",
   "metadata": {},
   "source": [
    "# Running the code\n",
    "\n",
    "The `LadderDGA.jl` code consists of a collection of functions but no linear program flow. This means one has to define a script which defines the actual program flow.\n",
    "Some examples can be found in the root directory of the project. Here we will go through a typical program flow, also giving us the opportunity to plot quantities at differnts steps of the calculation.\n",
    "First, point the `cfg_file` variable to your edited configuration file.\n",
    "We then also tell Julia to use `Plots` and `LadderDGA`.\n",
    "\n",
    "LadderDGA.jl can be run in parallel by specifying the `path_to_source` variable. If you want to run the single core version, comment out lines `4` to `10` and uncomment line `13`."
   ]
  },
  {
   "cell_type": "code",
   "execution_count": 1,
   "id": "94ab08c1",
   "metadata": {},
   "outputs": [
    {
     "name": "stderr",
     "output_type": "stream",
     "text": [
      "┌ Info: Precompiling LadderDGA [78e40beb-bf89-4c0e-9d2b-bee278912f2b]\n",
      "└ @ Base loading.jl:1423\n"
     ]
    }
   ],
   "source": [
    "cfg_file = \"/home/julian/Hamburg/lDGA_checks/square_test/config.toml\"\n",
    "cfg_file = \"/home/julian/Hamburg/lDGA_shift_tests/configs/config_50_100_u1_b12.toml\"\n",
    "cfg_file = \"/home/julian/Hamburg/lDGA_checks/lDGA_150/config.toml\"\n",
    "path_to_source = \"/home/julian/Hamburg/LadderDGA.jl\"\n",
    "\n",
    "using Pkg\n",
    "Pkg.activate(path_to_source; io=devnull)\n",
    "using LadderDGA\n",
    "using Plots"
   ]
  },
  {
   "cell_type": "markdown",
   "id": "aa601f68",
   "metadata": {},
   "source": [
    "The next step will read the config and input files and set up all variables for you.\n",
    "The `kGrids` (reduced k grid) arrays contain k grids of the sizes specified in the `Nk` array in your `config.toml`. \n",
    "This can be handy for finite size scaling, but for now we will stick with simple calculations and only use a single k grid size.\n",
    "Finally we will also need to read in the DMFT quantities. `setup_LDGA` will do just that.\n",
    "\n",
    "Note: the full grids (here stored in the kGrids array) are deprecated. They will be removed from future versions, together with most debug variables (all variables in the return list of `readConfig` after `qGridLoc`)."
   ]
  },
  {
   "cell_type": "code",
   "execution_count": 2,
   "id": "cb1c4fbe",
   "metadata": {},
   "outputs": [
    {
     "name": "stdout",
     "output_type": "stream",
     "text": [
      "\u001b[36m\u001b[1m[ \u001b[22m\u001b[39m\u001b[36m\u001b[1mInfo: \u001b[22m\u001b[39mReading Inputs...\n",
      "\u001b[36m\u001b[1m[ \u001b[22m\u001b[39m\u001b[36m\u001b[1mInfo: \u001b[22m\u001b[39mSetting up calculation for kGrid 3Dsc-0.2041241452319315 of size 10\n",
      "\u001b[36m\u001b[1m[ \u001b[22m\u001b[39m\u001b[36m\u001b[1mInfo: \u001b[22m\u001b[39msetting usable ranges of sp and ch channel from 23:279 and 23:279 to the same range of 23:279\n",
      "\u001b[33m\u001b[1m[ \u001b[22m\u001b[39m\u001b[33m\u001b[1mWarning: \u001b[22m\u001b[39mTODO: update local omega sum with correction\n",
      "\u001b[33m\u001b[1m[ \u001b[22m\u001b[39m\u001b[33m\u001b[1mWarning: \u001b[22m\u001b[39musing unoptimized sum_freq\n",
      "\u001b[33m\u001b[1m[ \u001b[22m\u001b[39m\u001b[33m\u001b[1mWarning: \u001b[22m\u001b[39musing unoptimized sum_freq\n",
      "\u001b[33m\u001b[1m[ \u001b[22m\u001b[39m\u001b[33m\u001b[1mWarning: \u001b[22m\u001b[39musing unoptimized sum_freq\n",
      "\u001b[33m\u001b[1m[ \u001b[22m\u001b[39m\u001b[33m\u001b[1mWarning: \u001b[22m\u001b[39musing unoptimized sum_freq\n",
      "\u001b[36m\u001b[1m┌ \u001b[22m\u001b[39m\u001b[36m\u001b[1mInfo: \u001b[22m\u001b[39mInputs Read. Starting Computation.\n",
      "\u001b[36m\u001b[1m│ \u001b[22m\u001b[39mLocal susceptibilities with ranges are:\n",
      "\u001b[36m\u001b[1m│ \u001b[22m\u001b[39mχLoc_sp(23:279) = 0.2892, χLoc_ch(23:279) = 0.1967\n",
      "\u001b[36m\u001b[1m└ \u001b[22m\u001b[39msum χupup check (fit, tail sub, tail sub + fit, expected): 0.2429306178464849 ?≈? 0.24899005559610307 ?=? 0.24899005559610307 ?≈? 0.25\"\n"
     ]
    }
   ],
   "source": [
    "mP, sP, env, kGridStr = readConfig(cfg_file)\n",
    "kGStr = kGridStr[1]\n",
    "impQ_sp, impQ_ch, gImp, qGridLoc, qG, gLoc, GLoc_fft, Σ_loc, FUpDo = setup_LDGA(kGStr, mP, sP, env);"
   ]
  },
  {
   "cell_type": "markdown",
   "id": "dfd1a816",
   "metadata": {},
   "source": [
    "We are now in the position to calculate the ladder DGA self energy. The first 5 lines compute all quantities on a lattice of size 1. The resulting self energy is used to cancel out discretization errors and finite size effects in the full self energy."
   ]
  },
  {
   "cell_type": "code",
   "execution_count": null,
   "id": "8c5f72f9",
   "metadata": {},
   "outputs": [],
   "source": [
    "bubbleLoc = calc_bubble(gImp, qGridLoc, mP, sP)\n",
    "locQ_sp = calc_χ_trilex(impQ_sp.Γ, bubbleLoc, qGridLoc, mP.U, mP, sP);\n",
    "locQ_ch = calc_χ_trilex(impQ_ch.Γ, bubbleLoc, qGridLoc, -mP.U, mP, sP);\n",
    "Σ_ladderLoc = calc_Σ(locQ_sp, locQ_ch, bubbleLoc, gImp, FUpDo, qGridLoc, mP, sP)\n",
    "Σ_ladderLoc = Σ_ladderLoc .+ mP.n * mP.U/2.0;\n",
    "\n",
    "\n",
    "bubble = calc_bubble(GLoc_fft, qG, mP, sP);\n",
    "nlQ_sp = calc_χ_trilex(impQ_sp.Γ, bubble, qG, mP.U, mP, sP);\n",
    "nlQ_ch = calc_χ_trilex(impQ_ch.Γ, bubble, qG, -mP.U, mP, sP);\n",
    "#nlQ_sp_nλ = deepcopy(nlQ_sp)\n",
    "#nlQ_ch_nλ = deepcopy(nlQ_ch)\n",
    "#λ_correction!(:sp, impQ_sp, impQ_ch, FUpDo, Σ_loc, Σ_ladderLoc, nlQ_sp, nlQ_ch, bubble, GLoc_fft, qG, mP, sP)\n",
    "\n",
    "#Σ_ladder = calc_Σ(nlQ_sp, nlQ_ch, bubble, GLoc_fft, FUpDo, qG, mP, sP)\n",
    "#Σ_ladder_corrected = Σ_ladder .- Σ_ladderLoc .+ Σ_loc[1:size(Σ_ladder,1)];"
   ]
  },
  {
   "cell_type": "code",
   "execution_count": null,
   "id": "f58a36c0",
   "metadata": {},
   "outputs": [],
   "source": []
  },
  {
   "cell_type": "code",
   "execution_count": null,
   "id": "9ef686c9",
   "metadata": {},
   "outputs": [],
   "source": []
  },
  {
   "cell_type": "markdown",
   "id": "696a089b",
   "metadata": {},
   "source": [
    "# Visualization\n",
    "\n",
    "The main advantage of calculations in jupyter notebooks are the convenient options for data visualization. The following cells give examples for plotting in Julia"
   ]
  },
  {
   "cell_type": "code",
   "execution_count": 4,
   "id": "3e1718a4",
   "metadata": {},
   "outputs": [
    {
     "ename": "LoadError",
     "evalue": "UndefVarError: t2 not defined",
     "output_type": "error",
     "traceback": [
      "UndefVarError: t2 not defined",
      "",
      "Stacktrace:",
      " [1] top-level scope",
      "   @ In[4]:1",
      " [2] eval",
      "   @ ./boot.jl:373 [inlined]",
      " [3] include_string(mapexpr::typeof(REPL.softscope), mod::Module, code::String, filename::String)",
      "   @ Base ./loading.jl:1196"
     ]
    }
   ],
   "source": [
    "LadderDGA.sum_freq_full!(t2, sP.sh_f, 1.0, sP.fνmax_cache_r, sP.fνmax_lo, sP.fνmax_up)"
   ]
  },
  {
   "cell_type": "code",
   "execution_count": 5,
   "id": "ec78e0da",
   "metadata": {},
   "outputs": [
    {
     "ename": "LoadError",
     "evalue": "MethodError: no method matching sum_freq(::Vector{Float64}, ::Vector{Int64}, ::SeriesAcceleration.DirectSum, ::Float64)\n\u001b[0mClosest candidates are:\n\u001b[0m  sum_freq(::AbstractArray{T1}, ::Vector{Int64}, ::T2, ::Float64, \u001b[91m::Float64\u001b[39m) where {T1<:Real, T2<:SeriesAcceleration.SumHelper} at /home/julian/Hamburg/LadderDGA.jl/src/GFFit.jl:137\n\u001b[0m  sum_freq(\u001b[91m::AbstractArray{T1}\u001b[39m, ::Vector{Int64}, ::T2, ::Float64) where {T1<:Complex, T2<:SeriesAcceleration.SumHelper} at /home/julian/Hamburg/LadderDGA.jl/src/GFFit.jl:154\n\u001b[0m  sum_freq(\u001b[91m::AbstractArray{T1}\u001b[39m, ::Vector{Int64}, ::T2, ::Float64, \u001b[91m::Float64\u001b[39m) where {T1<:Complex, T2<:SeriesAcceleration.SumHelper} at /home/julian/Hamburg/LadderDGA.jl/src/GFFit.jl:145",
     "output_type": "error",
     "traceback": [
      "MethodError: no method matching sum_freq(::Vector{Float64}, ::Vector{Int64}, ::SeriesAcceleration.DirectSum, ::Float64)\n\u001b[0mClosest candidates are:\n\u001b[0m  sum_freq(::AbstractArray{T1}, ::Vector{Int64}, ::T2, ::Float64, \u001b[91m::Float64\u001b[39m) where {T1<:Real, T2<:SeriesAcceleration.SumHelper} at /home/julian/Hamburg/LadderDGA.jl/src/GFFit.jl:137\n\u001b[0m  sum_freq(\u001b[91m::AbstractArray{T1}\u001b[39m, ::Vector{Int64}, ::T2, ::Float64) where {T1<:Complex, T2<:SeriesAcceleration.SumHelper} at /home/julian/Hamburg/LadderDGA.jl/src/GFFit.jl:154\n\u001b[0m  sum_freq(\u001b[91m::AbstractArray{T1}\u001b[39m, ::Vector{Int64}, ::T2, ::Float64, \u001b[91m::Float64\u001b[39m) where {T1<:Complex, T2<:SeriesAcceleration.SumHelper} at /home/julian/Hamburg/LadderDGA.jl/src/GFFit.jl:145",
      "",
      "Stacktrace:",
      " [1] top-level scope",
      "   @ In[5]:3",
      " [2] eval",
      "   @ ./boot.jl:373 [inlined]",
      " [3] include_string(mapexpr::typeof(REPL.softscope), mod::Module, code::String, filename::String)",
      "   @ Base ./loading.jl:1196"
     ]
    }
   ],
   "source": [
    "sh = LadderDGA.get_sum_helper(nlQ_ch.usable_ω, sP, :b)\n",
    "χch_ω = LadderDGA.kintegrate(qG, nlQ_ch.χ, 1)[1,:]\n",
    "χch_sum = real(LadderDGA.sum_freq(χch_ω[nlQ_ch.usable_ω], [1], sh, mP.β)[1])\n",
    "real(impQ_ch.χ_loc + impQ_sp.χ_loc - χch_sum)\n",
    "\n",
    "sh = LadderDGA.get_sum_helper(nlQ_sp.usable_ω, sP, :b)\n",
    "χsp_ω = LadderDGA.kintegrate(qG, nlQ_sp.χ, 1)[1,:]\n",
    "χsp_sum = real(LadderDGA.sum_freq(χsp_ω[nlQ_sp.usable_ω], [1], sh, mP.β)[1])"
   ]
  },
  {
   "cell_type": "code",
   "execution_count": null,
   "id": "fa1cd4ee",
   "metadata": {},
   "outputs": [],
   "source": [
    "χchED_ω_naive = sum(impQ_ch.χ,dims=[1,2])[1,1,:]/(mP.β^2);\n",
    "χspED_ω_naive = sum(impQ_sp.χ,dims=[1,2])[1,1,:]/(mP.β^2);\n",
    "\n",
    "reduction_prct = -0.1\n",
    "χchED_ω_fit = [LadderDGA.sum_freq(impQ_ch.χ[:,:,i], [1,2], sP.sh_f, mP.β)[1,1] for i in 1:size(impQ_ch.χ,3)];\n",
    "χspED_ω_fit = [LadderDGA.sum_freq(impQ_sp.χ[:,:,i], [1,2], sP.sh_f, mP.β)[1,1] for i in 1:size(impQ_sp.χ,3)];\n",
    "usable_ch = LadderDGA.find_usable_interval(real(χchED_ω_fit), reduce_range_prct=reduction_prct)\n",
    "usable_sp = LadderDGA.find_usable_interval(real(χspED_ω_fit), reduce_range_prct=reduction_prct)\n",
    "usable_fit_DMFT = intersect(usable_ch, usable_sp)\n",
    "\n",
    "usable_naive_ch = LadderDGA.find_usable_interval(real(χchED_ω_naive), reduce_range_prct=reduction_prct)\n",
    "usable_naive_sp = LadderDGA.find_usable_interval(real(χspED_ω_naive), reduce_range_prct=reduction_prct)\n",
    "\n",
    "\n",
    "plot(usable_ch .- sP.n_iω .- 1, real(χchED_ω_fit[usable_ch]), markershape=:auto, label=\"richardson\", c=:green)\n",
    "plot!(usable_ch .- sP.n_iω .- 1, repeat([0], length(usable_ch)), fillrange=real(χchED_ω_fit[usable_ch]), fillalpha=0.06, c=:green, label=nothing)\n",
    "\n",
    "plot!(usable_naive_ch .- sP.n_iω .- 1, real(χchED_ω_naive[usable_naive_ch]), markershape=:auto, label=\"naive\", xlabel=\"ωₙ\", ylabel=\"χ_ch\", c=:orange, title=\"reduction: $(reduction_prct*100)%\")\n",
    "plot!(usable_naive_ch .- sP.n_iω .- 1, repeat([0], length(usable_naive_ch)), fillrange=real(χchED_ω_naive[usable_naive_ch]), fillalpha=0.3, c=:orange, label=nothing)\n",
    "\n",
    "plot!(usable_naive_ch .- sP.n_iω .- 1, real(χch_ω[usable_naive_ch]), markershape=:auto, label=\"Σ_q χ_ch^lDGA\", xlabel=\"ωₙ\", ylabel=\"χ_ch\", c=:orange, title=\"reduction: $(reduction_prct*100)%\")"
   ]
  },
  {
   "cell_type": "code",
   "execution_count": null,
   "id": "28bd3cf7",
   "metadata": {},
   "outputs": [],
   "source": [
    "plot(imag.(Σ_loc[1:6]), markershape=:auto, label=\"Σ DMFT\")\n",
    "plot!(imag.(Σ_ladderLoc[1:6]), markershape=:auto, label=\"Σ_loc lDGA\")"
   ]
  },
  {
   "cell_type": "code",
   "execution_count": null,
   "id": "38c75f06",
   "metadata": {},
   "outputs": [],
   "source": [
    "Σ_ladderLoc"
   ]
  },
  {
   "cell_type": "code",
   "execution_count": null,
   "id": "f0ecae0e",
   "metadata": {},
   "outputs": [],
   "source": [
    "plot(real.(impQ_sp.χ_ω),markershape=:auto, label=\"χ^sp_ω DMFT\")\n",
    "plot!(real.(χsp_ω),markershape=:auto, label=\"Σ_q χ^sp_ω lDGA\")"
   ]
  },
  {
   "cell_type": "code",
   "execution_count": null,
   "id": "631ef959",
   "metadata": {},
   "outputs": [],
   "source": [
    "plot(real.(impQ_ch.χ_ω),markershape=:auto, label=\"χ^ch_ω DMFT\")\n",
    "plot!(real.(χch_ω),markershape=:auto, label=\"Σ_q χ^ch_ω lDGA\")"
   ]
  },
  {
   "cell_type": "code",
   "execution_count": null,
   "id": "2b3cc55d",
   "metadata": {},
   "outputs": [],
   "source": [
    "corr = LadderDGA.Σ_correction(1:size(bubble,3), bubble, FUpDo, sP);\n",
    "corr_loc = LadderDGA.Σ_correction(1:size(bubbleLoc,3), bubbleLoc, FUpDo, sP);"
   ]
  },
  {
   "cell_type": "code",
   "execution_count": null,
   "id": "084d20fa",
   "metadata": {},
   "outputs": [],
   "source": [
    "ν_axis = LadderDGA.ν_axis\n",
    "q_axis = LadderDGA.q_axis\n",
    "ω_axis = LadderDGA.ω_axis"
   ]
  },
  {
   "cell_type": "code",
   "execution_count": null,
   "id": "e33c33ce",
   "metadata": {},
   "outputs": [],
   "source": [
    "using LaTeXStrings\n",
    "corrLoc = LadderDGA.Σ_correction(1:size(bubbleLoc,3), bubbleLoc, FUpDo, sP);\n",
    "corr = LadderDGA.Σ_correction(1:size(bubbleLoc,3), bubble, FUpDo, sP);\n",
    "t = [-sP.n_iν:sP.n_iν-1,-sP.n_iω:sP.n_iω]\n",
    "hms = [heatmap(transpose(real(corr[:,1,:])), ylabel=L\"\\omega_n\", xlabel=L\"\\nu_n\",title=L\"\\mathrm{tmp}_\\mathrm{loc}(\\omega,\\nu)\")\n",
    "    heatmap(transpose(real(corr_loc[:,1,:])),ylabel=L\"\\omega_n\", xlabel=L\"\\nu_n\", title=L\"\\mathrm{tmp}_\\mathrm{loc, shift}(\\omega,\\nu)\")]\n",
    "plot(hms..., layout=(1,2), size=(800,300))"
   ]
  }
 ],
 "metadata": {
  "kernelspec": {
   "display_name": "Julia 1.6.0",
   "language": "julia",
   "name": "julia-1.6"
  },
  "language_info": {
   "file_extension": ".jl",
   "mimetype": "application/julia",
   "name": "julia",
   "version": "1.7.0"
  }
 },
 "nbformat": 4,
 "nbformat_minor": 5
}
