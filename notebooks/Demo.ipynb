{
 "cells": [
  {
   "cell_type": "markdown",
   "id": "34b6ddd1",
   "metadata": {},
   "source": [
    "# Introduction\n",
    "\n",
    "This notebook will go through the basic steps of preparing the input and calculating non-local quantities.\n",
    "\n",
    "# Input\n",
    "\n",
    "The first step will be the preparation of input data. For this tutorial we assume, that you have been provided with a file containing the DMFT output data. \n",
    "\n",
    "We will convert this file to an input file for the `LadderDGA.jl` code and generate a frequency mesh. \n",
    "\n",
    "You can also peak into HDF5 files using the Julia HDF5 package."
   ]
  },
  {
   "cell_type": "code",
   "execution_count": 1,
   "id": "aa382b44",
   "metadata": {},
   "outputs": [
    {
     "ename": "LoadError",
     "evalue": "unable to determine if /home/julian/Hamburg/lDGA_checks/triangular_test/U2_n1_b12.h5 is accessible in the HDF5 format (file may not exist)",
     "output_type": "error",
     "traceback": [
      "unable to determine if /home/julian/Hamburg/lDGA_checks/triangular_test/U2_n1_b12.h5 is accessible in the HDF5 format (file may not exist)",
      "",
      "Stacktrace:",
      " [1] error(s::String)",
      "   @ Base ./error.jl:33",
      " [2] h5open(filename::String, mode::String; swmr::Bool, pv::Base.Pairs{Symbol, Union{}, Tuple{}, NamedTuple{(), Tuple{}}})",
      "   @ HDF5 ~/.julia/packages/HDF5/0iEnL/src/HDF5.jl:430",
      " [3] h5open (repeats 2 times)",
      "   @ ~/.julia/packages/HDF5/0iEnL/src/HDF5.jl:412 [inlined]",
      " [4] top-level scope",
      "   @ In[1]:3",
      " [5] eval",
      "   @ ./boot.jl:373 [inlined]",
      " [6] include_string(mapexpr::typeof(REPL.softscope), mod::Module, code::String, filename::String)",
      "   @ Base ./loading.jl:1196"
     ]
    }
   ],
   "source": [
    "using HDF5\n",
    "path_to_input = \"/home/julian/Hamburg/lDGA_checks/triangular_test/U2_n1_b12.h5\"\n",
    "f = h5open(path_to_input)"
   ]
  },
  {
   "cell_type": "markdown",
   "id": "4b0e05d3",
   "metadata": {},
   "source": [
    "## TRIQS Conversion\n",
    "\n",
    "If you are starting out with DMFT data from TRIQS, the `triqs_conv.jl` script in the scripts subdirectory of the `LadderDGA.jl` code will responsible for the conversion. This script also utilizes the `SparseVertex` and `EquivalencyClassesConstructor.jl` packages. \n",
    "\n",
    "Most of the conversion scripts are built to be called from the command line with the input given as parameters.\n",
    "In Julia call parameters are stored in the `ARGS` array. Thus, in order to emulate a call with parameters in jupyter notebooks, we will modify this array befor calls to scripts.\n",
    "\n",
    "We start by adding the path to a triqs output file and a directory for the script output (`@__DIR__` points to the directory the current script runs in) to the `ARGS` array and executing the `triqs_conv.jl` script for this input.\n",
    "The input file is NOT provided with this example!\n",
    "\n",
    "If you want to know more about a function, you can type `? function_name` in any cell to view the docstring."
   ]
  },
  {
   "cell_type": "code",
   "execution_count": 2,
   "id": "4a123e42",
   "metadata": {},
   "outputs": [
    {
     "name": "stdout",
     "output_type": "stream",
     "text": [
      "Generating freqency mesh with bosonic -59:59, fermionic -60:59 indices\n",
      "Constructing Array\n",
      "Starting Computation 3\n",
      "  1.501402 seconds (142.60 k allocations: 110.212 MiB, 23.20% compilation time)\n",
      "  0.120951 seconds (54 allocations: 16.165 MiB)\n",
      "  0.504203 seconds (11 allocations: 78.148 MiB, 2.23% gc time)\n"
     ]
    }
   ],
   "source": [
    "path_to_input = \"/home/julian/Hamburg/lDGA_checks/square_test/U2_n1_b12.h5\"\n",
    "path_to_output = \"/home/julian/Hamburg/lDGA_checks/square_test\"\n",
    "empty!(ARGS)\n",
    "push!(ARGS,path_to_input)\n",
    "push!(ARGS,path_to_output)\n",
    "include(\"../scripts/triqs_conv.jl\")"
   ]
  },
  {
   "cell_type": "markdown",
   "id": "b73f45c4",
   "metadata": {},
   "source": [
    "## Config File\n",
    "You will find two new files in the `path_to_output` directory. Before we can start the calculation we need to specify a configuration file which will point `LadderDGA.jl` to these files and provide all necessary parameters.\n",
    "\n",
    "You will find an example configuration named `config.toml` in the root directory of `LadderDGA.jl`.\n",
    "`U`, `mu`, `beta`, `nden` and `kGrid` should be set according to your DMFT calculation. The syntax for the `kGrid` parameter is as follows: The grid is given as a string starting with the grid name (see also `Dispersions.jl` for more information), followed by additional parameters, separated by `-`. Currently `2Dsc` and `3Dsc` are available with a single parameter for the hopping to neighbouring sites. Examples are `\"2Dsc-0.25\"` or `\"3Dsc-0.408248\"`\n",
    "\n",
    "Remember to set the `inputDir` and `freqFile` variables to the previously generated files."
   ]
  },
  {
   "cell_type": "markdown",
   "id": "f221d8ec",
   "metadata": {},
   "source": [
    "# Running the code\n",
    "\n",
    "The `LadderDGA.jl` code consists of a collection of functions but no linear program flow. This means one has to define a script which defines the actual program flow.\n",
    "Some examples can be found in the root directory of the project. Here we will go through a typical program flow, also giving us the opportunity to plot quantities at differnts steps of the calculation.\n",
    "First, point the `cfg_file` variable to your edited configuration file.\n",
    "We then also tell Julia to use `Plots` and `LadderDGA`.\n",
    "\n",
    "LadderDGA.jl can be run in parallel by specifying the `path_to_source` variable. If you want to run the single core version, comment out lines `4` to `10` and uncomment line `13`."
   ]
  },
  {
   "cell_type": "code",
   "execution_count": 3,
   "id": "94ab08c1",
   "metadata": {},
   "outputs": [
    {
     "name": "stderr",
     "output_type": "stream",
     "text": [
      "┌ Info: Precompiling LadderDGA [78e40beb-bf89-4c0e-9d2b-bee278912f2b]\n",
      "└ @ Base loading.jl:1423\n"
     ]
    }
   ],
   "source": [
    "cfg_file = \"/home/julian/Hamburg/lDGA_checks/square_test/config.toml\"\n",
    "cfg_file = \"/home/julian/Hamburg/lDGA_shift_tests/configs/config_50_100_u1_b12.toml\"\n",
    "path_to_source = \"/home/julian/Hamburg/LadderDGA.jl\"\n",
    "\n",
    "using Pkg\n",
    "Pkg.activate(path_to_source; io=devnull)\n",
    "using LadderDGA\n",
    "using Plots"
   ]
  },
  {
   "cell_type": "markdown",
   "id": "aa601f68",
   "metadata": {},
   "source": [
    "The next step will read the config and input files and set up all variables for you.\n",
    "The `kGrids` (reduced k grid) arrays contain k grids of the sizes specified in the `Nk` array in your `config.toml`. \n",
    "This can be handy for finite size scaling, but for now we will stick with simple calculations and only use a single k grid size.\n",
    "Finally we will also need to read in the DMFT quantities. `setup_LDGA` will do just that.\n",
    "\n",
    "Note: the full grids (here stored in the kGrids array) are deprecated. They will be removed from future versions, together with most debug variables (all variables in the return list of `readConfig` after `qGridLoc`)."
   ]
  },
  {
   "cell_type": "code",
   "execution_count": 4,
   "id": "f2b15f4c",
   "metadata": {},
   "outputs": [
    {
     "name": "stderr",
     "output_type": "stream",
     "text": [
      "┌ Info: Reading Inputs...\n",
      "└ @ LadderDGA /home/julian/Hamburg/LadderDGA.jl/src/IO.jl:7\n",
      "┌ Warning: Could not find E_kin_DMFT, E_pot_DMFT key in input\n",
      "└ @ LadderDGA /home/julian/Hamburg/LadderDGA.jl/src/IO.jl:77\n",
      "┌ Info: setting usable ranges of sp and ch channel from 37:65 and 37:65 to the same range of 37:65\n",
      "└ @ LadderDGA /home/julian/Hamburg/LadderDGA.jl/src/helpers.jl:147\n",
      "┌ Info: Inputs Read. Starting Computation.\n",
      "│ Local susceptibilities with ranges are:\n",
      "│ χLoc_sp(37:65) = 0.3182, χLoc_ch(37:65) = 0.1222\n",
      "│ sum χupup check (fit, tail sub, tail sub + fit, expected): 0.22019288623927488 ?≈? 0.22019288623927483 ?=? 0.22019288623927483 ?≈? 0.25\"\n",
      "└ @ LadderDGA /home/julian/Hamburg/LadderDGA.jl/src/helpers.jl:171\n"
     ]
    }
   ],
   "source": [
    "mP, sP, env, kGridStr = readConfig(cfg_file)\n",
    "kGStr = kGridStr[1]\n",
    "impQ_sp, impQ_ch, gImp, qGridLoc, qG, gLoc, GLoc_fft, Σ_loc, FUpDo = setup_LDGA(kGStr, mP, sP, env);"
   ]
  },
  {
   "cell_type": "code",
   "execution_count": 69,
   "id": "99264a05",
   "metadata": {},
   "outputs": [
    {
     "data": {
      "text/plain": [
       "1×1×1 Array{ComplexF64, 3}:\n",
       "[:, :, 1] =\n",
       " -4.2212572569493935e-5 + 0.0im"
      ]
     },
     "execution_count": 69,
     "metadata": {},
     "output_type": "execute_result"
    }
   ],
   "source": [
    "v1 = reshape(view(gImp, 1, :), LadderDGA.gridshape(qGridLoc))\n",
    "v2 = reshape(view(gImp, 12, :), LadderDGA.gridshape(qGridLoc))\n",
    "t = [0.0 + 0.0im, 0.0 + 0.0im]\n",
    "t2 = LadderDGA.conv_fft(qGridLoc,v1, v2)\n",
    "LadderDGA.conv_fft!(qGridLoc, t[1:2] ,v1, v2)"
   ]
  },
  {
   "cell_type": "code",
   "execution_count": 70,
   "id": "8b32a881",
   "metadata": {},
   "outputs": [
    {
     "data": {
      "text/plain": [
       "2-element Vector{ComplexF64}:\n",
       " 0.0 + 0.0im\n",
       " 0.0 + 0.0im"
      ]
     },
     "execution_count": 70,
     "metadata": {},
     "output_type": "execute_result"
    }
   ],
   "source": [
    "t"
   ]
  },
  {
   "cell_type": "code",
   "execution_count": 71,
   "id": "1e55ac35",
   "metadata": {},
   "outputs": [
    {
     "data": {
      "text/plain": [
       "1×1×1 Array{ComplexF64, 3}:\n",
       "[:, :, 1] =\n",
       " -4.2212572569493935e-5 + 0.0im"
      ]
     },
     "execution_count": 71,
     "metadata": {},
     "output_type": "execute_result"
    }
   ],
   "source": [
    "t2"
   ]
  },
  {
   "cell_type": "markdown",
   "id": "dfd1a816",
   "metadata": {},
   "source": [
    "We are now in the position to calculate the ladder DGA self energy. The first 5 lines compute all quantities on a lattice of size 1. The resulting self energy is used to cancel out discretization errors and finite size effects in the full self energy."
   ]
  },
  {
   "cell_type": "code",
   "execution_count": 23,
   "id": "8c5f72f9",
   "metadata": {},
   "outputs": [
    {
     "name": "stderr",
     "output_type": "stream",
     "text": [
      "┌ Warning: currently using min(usable_sp, usable_ch) = min(33:69,33:69) = 33:69 for all calculations. relax this?\n",
      "└ @ LadderDGA /home/julian/Hamburg/LadderDGA.jl/src/lambdaCorrection.jl:38\n",
      "┌ Info: Found usable intervals for non-local susceptibility of length \n",
      "│ sp: 33:69, length: 37\n",
      "│ ch: 33:69, length: 37\n",
      "│ usable: 33:69, length: 37\n",
      "│ χch sum = 0.1555378369636489, rhs = 0.28484793551490084\n",
      "└ @ LadderDGA /home/julian/Hamburg/LadderDGA.jl/src/lambdaCorrection.jl:47\n",
      "┌ Info: found \n",
      "│   χ_min = -0.09022526652199876\n",
      "│   \". Looking for roots in intervall $(int)\" = . Looking for roots in intervall [-0.09022526652199876, 1.8045053304399752]\n",
      "└ @ LadderDGA /home/julian/Hamburg/LadderDGA.jl/src/lambdaCorrection.jl:197\n",
      "┌ Info: Found λsp \n",
      "│   λsp = 0.505751390573883\n",
      "└ @ LadderDGA /home/julian/Hamburg/LadderDGA.jl/src/lambdaCorrection.jl:79\n"
     ]
    }
   ],
   "source": [
    "bubbleLoc = calc_bubble(gImp, qGridLoc, mP, sP)\n",
    "locQ_sp = calc_χ_trilex(impQ_sp.Γ, bubbleLoc, qGridLoc, mP.U, mP, sP);\n",
    "locQ_ch = calc_χ_trilex(impQ_ch.Γ, bubbleLoc, qGridLoc, -mP.U, mP, sP);\n",
    "Σ_ladderLoc = calc_Σ(locQ_sp, locQ_ch, bubbleLoc, gImp, FUpDo, qGridLoc, mP, sP)\n",
    "Σ_ladderLoc = Σ_ladderLoc .+ mP.n * mP.U/2.0;\n",
    "\n",
    "\n",
    "bubble = calc_bubble(GLoc_fft, qG, mP, sP);\n",
    "nlQ_sp = calc_χ_trilex(impQ_sp.Γ, bubble, qG, mP.U, mP, sP);\n",
    "nlQ_ch = calc_χ_trilex(impQ_ch.Γ, bubble, qG, -mP.U, mP, sP);\n",
    "nlQ_sp_nλ = deepcopy(nlQ_sp)\n",
    "nlQ_ch_nλ = deepcopy(nlQ_ch)\n",
    "λ_correction!(:sp, impQ_sp, impQ_ch, FUpDo, Σ_loc, Σ_ladderLoc, nlQ_sp, nlQ_ch, bubble, GLoc_fft, qG, mP, sP)\n",
    "\n",
    "Σ_ladder = calc_Σ(nlQ_sp, nlQ_ch, bubble, GLoc_fft, FUpDo, qG, mP, sP)\n",
    "Σ_ladder_corrected = Σ_ladder .- Σ_ladderLoc .+ Σ_loc[1:size(Σ_ladder,1)];"
   ]
  },
  {
   "cell_type": "markdown",
   "id": "696a089b",
   "metadata": {},
   "source": [
    "# Visualization\n",
    "\n",
    "The main advantage of calculations in jupyter notebooks are the convenient options for data visualization. The following cells give examples for plotting in Julia"
   ]
  },
  {
   "cell_type": "code",
   "execution_count": 13,
   "id": "ec78e0da",
   "metadata": {},
   "outputs": [
    {
     "data": {
      "text/plain": [
       "0.2848479355149009"
      ]
     },
     "execution_count": 13,
     "metadata": {},
     "output_type": "execute_result"
    }
   ],
   "source": [
    "sh = LadderDGA.get_sum_helper(nlQ_ch.usable_ω, sP, :b)\n",
    "χch_ω = LadderDGA.kintegrate(qG, nlQ_ch.χ, 2)[:,1]\n",
    "χch_sum = real(LadderDGA.sum_freq(χch_ω[nlQ_ch.usable_ω], [1], sh, mP.β)[1])\n",
    "real(impQ_ch.χ_loc + impQ_sp.χ_loc - χch_sum)\n",
    "\n",
    "sh = LadderDGA.get_sum_helper(nlQ_sp.usable_ω, sP, :b)\n",
    "χsp_ω = LadderDGA.kintegrate(qG, nlQ_sp.χ, 2)[:,1]\n",
    "χsp_sum = real(LadderDGA.sum_freq(χsp_ω[nlQ_sp.usable_ω], [1], sh, mP.β)[1])"
   ]
  },
  {
   "cell_type": "code",
   "execution_count": 44,
   "id": "fa1cd4ee",
   "metadata": {},
   "outputs": [
    {
     "data": {
      "image/svg+xml": [
       "<?xml version=\"1.0\" encoding=\"utf-8\"?>\n",
       "<svg xmlns=\"http://www.w3.org/2000/svg\" xmlns:xlink=\"http://www.w3.org/1999/xlink\" width=\"600\" height=\"400\" viewBox=\"0 0 2400 1600\">\n",
       "<defs>\n",
       "  <clipPath id=\"clip850\">\n",
       "    <rect x=\"0\" y=\"0\" width=\"2400\" height=\"1600\"/>\n",
       "  </clipPath>\n",
       "</defs>\n",
       "<path clip-path=\"url(#clip850)\" d=\"\n",
       "M0 1600 L2400 1600 L2400 0 L0 0  Z\n",
       "  \" fill=\"#ffffff\" fill-rule=\"evenodd\" fill-opacity=\"1\"/>\n",
       "<defs>\n",
       "  <clipPath id=\"clip851\">\n",
       "    <rect x=\"480\" y=\"0\" width=\"1681\" height=\"1600\"/>\n",
       "  </clipPath>\n",
       "</defs>\n",
       "<path clip-path=\"url(#clip850)\" d=\"\n",
       "M219.38 1423.18 L2352.76 1423.18 L2352.76 123.472 L219.38 123.472  Z\n",
       "  \" fill=\"#ffffff\" fill-rule=\"evenodd\" fill-opacity=\"1\"/>\n",
       "<defs>\n",
       "  <clipPath id=\"clip852\">\n",
       "    <rect x=\"219\" y=\"123\" width=\"2134\" height=\"1301\"/>\n",
       "  </clipPath>\n",
       "</defs>\n",
       "<polyline clip-path=\"url(#clip852)\" style=\"stroke:#000000; stroke-linecap:butt; stroke-linejoin:round; stroke-width:2; stroke-opacity:0.1; fill:none\" points=\"\n",
       "  342.653,1423.18 342.653,123.472 \n",
       "  \"/>\n",
       "<polyline clip-path=\"url(#clip852)\" style=\"stroke:#000000; stroke-linecap:butt; stroke-linejoin:round; stroke-width:2; stroke-opacity:0.1; fill:none\" points=\"\n",
       "  657.125,1423.18 657.125,123.472 \n",
       "  \"/>\n",
       "<polyline clip-path=\"url(#clip852)\" style=\"stroke:#000000; stroke-linecap:butt; stroke-linejoin:round; stroke-width:2; stroke-opacity:0.1; fill:none\" points=\"\n",
       "  971.596,1423.18 971.596,123.472 \n",
       "  \"/>\n",
       "<polyline clip-path=\"url(#clip852)\" style=\"stroke:#000000; stroke-linecap:butt; stroke-linejoin:round; stroke-width:2; stroke-opacity:0.1; fill:none\" points=\"\n",
       "  1286.07,1423.18 1286.07,123.472 \n",
       "  \"/>\n",
       "<polyline clip-path=\"url(#clip852)\" style=\"stroke:#000000; stroke-linecap:butt; stroke-linejoin:round; stroke-width:2; stroke-opacity:0.1; fill:none\" points=\"\n",
       "  1600.54,1423.18 1600.54,123.472 \n",
       "  \"/>\n",
       "<polyline clip-path=\"url(#clip852)\" style=\"stroke:#000000; stroke-linecap:butt; stroke-linejoin:round; stroke-width:2; stroke-opacity:0.1; fill:none\" points=\"\n",
       "  1915.01,1423.18 1915.01,123.472 \n",
       "  \"/>\n",
       "<polyline clip-path=\"url(#clip852)\" style=\"stroke:#000000; stroke-linecap:butt; stroke-linejoin:round; stroke-width:2; stroke-opacity:0.1; fill:none\" points=\"\n",
       "  2229.48,1423.18 2229.48,123.472 \n",
       "  \"/>\n",
       "<polyline clip-path=\"url(#clip850)\" style=\"stroke:#000000; stroke-linecap:butt; stroke-linejoin:round; stroke-width:4; stroke-opacity:1; fill:none\" points=\"\n",
       "  219.38,1423.18 2352.76,1423.18 \n",
       "  \"/>\n",
       "<polyline clip-path=\"url(#clip850)\" style=\"stroke:#000000; stroke-linecap:butt; stroke-linejoin:round; stroke-width:4; stroke-opacity:1; fill:none\" points=\"\n",
       "  342.653,1423.18 342.653,1404.28 \n",
       "  \"/>\n",
       "<polyline clip-path=\"url(#clip850)\" style=\"stroke:#000000; stroke-linecap:butt; stroke-linejoin:round; stroke-width:4; stroke-opacity:1; fill:none\" points=\"\n",
       "  657.125,1423.18 657.125,1404.28 \n",
       "  \"/>\n",
       "<polyline clip-path=\"url(#clip850)\" style=\"stroke:#000000; stroke-linecap:butt; stroke-linejoin:round; stroke-width:4; stroke-opacity:1; fill:none\" points=\"\n",
       "  971.596,1423.18 971.596,1404.28 \n",
       "  \"/>\n",
       "<polyline clip-path=\"url(#clip850)\" style=\"stroke:#000000; stroke-linecap:butt; stroke-linejoin:round; stroke-width:4; stroke-opacity:1; fill:none\" points=\"\n",
       "  1286.07,1423.18 1286.07,1404.28 \n",
       "  \"/>\n",
       "<polyline clip-path=\"url(#clip850)\" style=\"stroke:#000000; stroke-linecap:butt; stroke-linejoin:round; stroke-width:4; stroke-opacity:1; fill:none\" points=\"\n",
       "  1600.54,1423.18 1600.54,1404.28 \n",
       "  \"/>\n",
       "<polyline clip-path=\"url(#clip850)\" style=\"stroke:#000000; stroke-linecap:butt; stroke-linejoin:round; stroke-width:4; stroke-opacity:1; fill:none\" points=\"\n",
       "  1915.01,1423.18 1915.01,1404.28 \n",
       "  \"/>\n",
       "<polyline clip-path=\"url(#clip850)\" style=\"stroke:#000000; stroke-linecap:butt; stroke-linejoin:round; stroke-width:4; stroke-opacity:1; fill:none\" points=\"\n",
       "  2229.48,1423.18 2229.48,1404.28 \n",
       "  \"/>\n",
       "<path clip-path=\"url(#clip850)\" d=\"M297.213 1467.02 L326.889 1467.02 L326.889 1470.96 L297.213 1470.96 L297.213 1467.02 Z\" fill=\"#000000\" fill-rule=\"evenodd\" fill-opacity=\"1\" /><path clip-path=\"url(#clip850)\" d=\"M337.792 1479.92 L345.431 1479.92 L345.431 1453.55 L337.121 1455.22 L337.121 1450.96 L345.385 1449.29 L350.06 1449.29 L350.06 1479.92 L357.699 1479.92 L357.699 1483.85 L337.792 1483.85 L337.792 1479.92 Z\" fill=\"#000000\" fill-rule=\"evenodd\" fill-opacity=\"1\" /><path clip-path=\"url(#clip850)\" d=\"M367.19 1449.29 L385.546 1449.29 L385.546 1453.23 L371.472 1453.23 L371.472 1461.7 Q372.491 1461.35 373.509 1461.19 Q374.528 1461 375.546 1461 Q381.333 1461 384.713 1464.18 Q388.093 1467.35 388.093 1472.76 Q388.093 1478.34 384.62 1481.44 Q381.148 1484.52 374.829 1484.52 Q372.653 1484.52 370.384 1484.15 Q368.139 1483.78 365.732 1483.04 L365.732 1478.34 Q367.815 1479.48 370.037 1480.03 Q372.259 1480.59 374.736 1480.59 Q378.741 1480.59 381.079 1478.48 Q383.417 1476.38 383.417 1472.76 Q383.417 1469.15 381.079 1467.05 Q378.741 1464.94 374.736 1464.94 Q372.861 1464.94 370.986 1465.36 Q369.134 1465.77 367.19 1466.65 L367.19 1449.29 Z\" fill=\"#000000\" fill-rule=\"evenodd\" fill-opacity=\"1\" /><path clip-path=\"url(#clip850)\" d=\"M611.187 1467.02 L640.863 1467.02 L640.863 1470.96 L611.187 1470.96 L611.187 1467.02 Z\" fill=\"#000000\" fill-rule=\"evenodd\" fill-opacity=\"1\" /><path clip-path=\"url(#clip850)\" d=\"M651.766 1479.92 L659.405 1479.92 L659.405 1453.55 L651.095 1455.22 L651.095 1450.96 L659.358 1449.29 L664.034 1449.29 L664.034 1479.92 L671.673 1479.92 L671.673 1483.85 L651.766 1483.85 L651.766 1479.92 Z\" fill=\"#000000\" fill-rule=\"evenodd\" fill-opacity=\"1\" /><path clip-path=\"url(#clip850)\" d=\"M691.118 1452.37 Q687.506 1452.37 685.678 1455.94 Q683.872 1459.48 683.872 1466.61 Q683.872 1473.71 685.678 1477.28 Q687.506 1480.82 691.118 1480.82 Q694.752 1480.82 696.557 1477.28 Q698.386 1473.71 698.386 1466.61 Q698.386 1459.48 696.557 1455.94 Q694.752 1452.37 691.118 1452.37 M691.118 1448.67 Q696.928 1448.67 699.983 1453.27 Q703.062 1457.86 703.062 1466.61 Q703.062 1475.33 699.983 1479.94 Q696.928 1484.52 691.118 1484.52 Q685.307 1484.52 682.229 1479.94 Q679.173 1475.33 679.173 1466.61 Q679.173 1457.86 682.229 1453.27 Q685.307 1448.67 691.118 1448.67 Z\" fill=\"#000000\" fill-rule=\"evenodd\" fill-opacity=\"1\" /><path clip-path=\"url(#clip850)\" d=\"M941.238 1467.02 L970.914 1467.02 L970.914 1470.96 L941.238 1470.96 L941.238 1467.02 Z\" fill=\"#000000\" fill-rule=\"evenodd\" fill-opacity=\"1\" /><path clip-path=\"url(#clip850)\" d=\"M981.052 1449.29 L999.409 1449.29 L999.409 1453.23 L985.335 1453.23 L985.335 1461.7 Q986.353 1461.35 987.372 1461.19 Q988.39 1461 989.409 1461 Q995.196 1461 998.575 1464.18 Q1001.96 1467.35 1001.96 1472.76 Q1001.96 1478.34 998.483 1481.44 Q995.011 1484.52 988.691 1484.52 Q986.515 1484.52 984.247 1484.15 Q982.001 1483.78 979.594 1483.04 L979.594 1478.34 Q981.677 1479.48 983.9 1480.03 Q986.122 1480.59 988.599 1480.59 Q992.603 1480.59 994.941 1478.48 Q997.279 1476.38 997.279 1472.76 Q997.279 1469.15 994.941 1467.05 Q992.603 1464.94 988.599 1464.94 Q986.724 1464.94 984.849 1465.36 Q982.997 1465.77 981.052 1466.65 L981.052 1449.29 Z\" fill=\"#000000\" fill-rule=\"evenodd\" fill-opacity=\"1\" /><path clip-path=\"url(#clip850)\" d=\"M1286.07 1452.37 Q1282.46 1452.37 1280.63 1455.94 Q1278.82 1459.48 1278.82 1466.61 Q1278.82 1473.71 1280.63 1477.28 Q1282.46 1480.82 1286.07 1480.82 Q1289.7 1480.82 1291.51 1477.28 Q1293.34 1473.71 1293.34 1466.61 Q1293.34 1459.48 1291.51 1455.94 Q1289.7 1452.37 1286.07 1452.37 M1286.07 1448.67 Q1291.88 1448.67 1294.93 1453.27 Q1298.01 1457.86 1298.01 1466.61 Q1298.01 1475.33 1294.93 1479.94 Q1291.88 1484.52 1286.07 1484.52 Q1280.26 1484.52 1277.18 1479.94 Q1274.12 1475.33 1274.12 1466.61 Q1274.12 1457.86 1277.18 1453.27 Q1280.26 1448.67 1286.07 1448.67 Z\" fill=\"#000000\" fill-rule=\"evenodd\" fill-opacity=\"1\" /><path clip-path=\"url(#clip850)\" d=\"M1590.82 1449.29 L1609.17 1449.29 L1609.17 1453.23 L1595.1 1453.23 L1595.1 1461.7 Q1596.12 1461.35 1597.14 1461.19 Q1598.16 1461 1599.17 1461 Q1604.96 1461 1608.34 1464.18 Q1611.72 1467.35 1611.72 1472.76 Q1611.72 1478.34 1608.25 1481.44 Q1604.78 1484.52 1598.46 1484.52 Q1596.28 1484.52 1594.01 1484.15 Q1591.77 1483.78 1589.36 1483.04 L1589.36 1478.34 Q1591.44 1479.48 1593.66 1480.03 Q1595.89 1480.59 1598.36 1480.59 Q1602.37 1480.59 1604.71 1478.48 Q1607.04 1476.38 1607.04 1472.76 Q1607.04 1469.15 1604.71 1467.05 Q1602.37 1464.94 1598.36 1464.94 Q1596.49 1464.94 1594.61 1465.36 Q1592.76 1465.77 1590.82 1466.65 L1590.82 1449.29 Z\" fill=\"#000000\" fill-rule=\"evenodd\" fill-opacity=\"1\" /><path clip-path=\"url(#clip850)\" d=\"M1889.7 1479.92 L1897.34 1479.92 L1897.34 1453.55 L1889.03 1455.22 L1889.03 1450.96 L1897.29 1449.29 L1901.97 1449.29 L1901.97 1479.92 L1909.61 1479.92 L1909.61 1483.85 L1889.7 1483.85 L1889.7 1479.92 Z\" fill=\"#000000\" fill-rule=\"evenodd\" fill-opacity=\"1\" /><path clip-path=\"url(#clip850)\" d=\"M1929.05 1452.37 Q1925.44 1452.37 1923.61 1455.94 Q1921.81 1459.48 1921.81 1466.61 Q1921.81 1473.71 1923.61 1477.28 Q1925.44 1480.82 1929.05 1480.82 Q1932.68 1480.82 1934.49 1477.28 Q1936.32 1473.71 1936.32 1466.61 Q1936.32 1459.48 1934.49 1455.94 Q1932.68 1452.37 1929.05 1452.37 M1929.05 1448.67 Q1934.86 1448.67 1937.92 1453.27 Q1941 1457.86 1941 1466.61 Q1941 1475.33 1937.92 1479.94 Q1934.86 1484.52 1929.05 1484.52 Q1923.24 1484.52 1920.16 1479.94 Q1917.11 1475.33 1917.11 1466.61 Q1917.11 1457.86 1920.16 1453.27 Q1923.24 1448.67 1929.05 1448.67 Z\" fill=\"#000000\" fill-rule=\"evenodd\" fill-opacity=\"1\" /><path clip-path=\"url(#clip850)\" d=\"M2204.67 1479.92 L2212.31 1479.92 L2212.31 1453.55 L2204 1455.22 L2204 1450.96 L2212.26 1449.29 L2216.94 1449.29 L2216.94 1479.92 L2224.58 1479.92 L2224.58 1483.85 L2204.67 1483.85 L2204.67 1479.92 Z\" fill=\"#000000\" fill-rule=\"evenodd\" fill-opacity=\"1\" /><path clip-path=\"url(#clip850)\" d=\"M2234.07 1449.29 L2252.42 1449.29 L2252.42 1453.23 L2238.35 1453.23 L2238.35 1461.7 Q2239.37 1461.35 2240.39 1461.19 Q2241.4 1461 2242.42 1461 Q2248.21 1461 2251.59 1464.18 Q2254.97 1467.35 2254.97 1472.76 Q2254.97 1478.34 2251.5 1481.44 Q2248.02 1484.52 2241.71 1484.52 Q2239.53 1484.52 2237.26 1484.15 Q2235.02 1483.78 2232.61 1483.04 L2232.61 1478.34 Q2234.69 1479.48 2236.91 1480.03 Q2239.14 1480.59 2241.61 1480.59 Q2245.62 1480.59 2247.96 1478.48 Q2250.29 1476.38 2250.29 1472.76 Q2250.29 1469.15 2247.96 1467.05 Q2245.62 1464.94 2241.61 1464.94 Q2239.74 1464.94 2237.86 1465.36 Q2236.01 1465.77 2234.07 1466.65 L2234.07 1449.29 Z\" fill=\"#000000\" fill-rule=\"evenodd\" fill-opacity=\"1\" /><path clip-path=\"url(#clip850)\" d=\"M1262.87 1568.97 Q1249.66 1568.97 1249.66 1550.06 Q1249.66 1542.58 1254.59 1532.4 L1260.89 1532.4 Q1256.34 1542.58 1256.34 1550.22 Q1256.34 1564 1263.41 1564 Q1269.87 1564 1269.87 1546.88 L1275.28 1546.88 Q1275.28 1564 1281.74 1564 Q1288.81 1564 1288.81 1550.22 Q1288.81 1542.58 1284.25 1532.4 L1290.56 1532.4 Q1295.49 1542.58 1295.49 1550.06 Q1295.49 1568.97 1282.28 1568.97 Q1273.62 1568.97 1272.57 1559.45 Q1271.27 1568.97 1262.87 1568.97 Z\" fill=\"#000000\" fill-rule=\"evenodd\" fill-opacity=\"1\" /><path clip-path=\"url(#clip850)\" d=\"M1322.48 1555.98 L1322.48 1568.04 L1318.79 1568.04 L1318.79 1556.11 Q1318.79 1553.28 1317.55 1551.87 Q1316.31 1550.44 1313.82 1550.44 Q1310.83 1550.44 1309.11 1552.16 Q1307.39 1553.85 1307.39 1556.78 L1307.39 1568.04 L1303.67 1568.04 L1303.67 1548.09 L1307.39 1548.09 L1307.39 1551.17 Q1308.7 1549.39 1310.48 1548.5 Q1312.29 1547.61 1314.65 1547.61 Q1318.5 1547.61 1320.47 1549.74 Q1322.48 1551.87 1322.48 1555.98 Z\" fill=\"#000000\" fill-rule=\"evenodd\" fill-opacity=\"1\" /><polyline clip-path=\"url(#clip852)\" style=\"stroke:#000000; stroke-linecap:butt; stroke-linejoin:round; stroke-width:2; stroke-opacity:0.1; fill:none\" points=\"\n",
       "  219.38,1381.47 2352.76,1381.47 \n",
       "  \"/>\n",
       "<polyline clip-path=\"url(#clip852)\" style=\"stroke:#000000; stroke-linecap:butt; stroke-linejoin:round; stroke-width:2; stroke-opacity:0.1; fill:none\" points=\"\n",
       "  219.38,1037.54 2352.76,1037.54 \n",
       "  \"/>\n",
       "<polyline clip-path=\"url(#clip852)\" style=\"stroke:#000000; stroke-linecap:butt; stroke-linejoin:round; stroke-width:2; stroke-opacity:0.1; fill:none\" points=\"\n",
       "  219.38,693.603 2352.76,693.603 \n",
       "  \"/>\n",
       "<polyline clip-path=\"url(#clip852)\" style=\"stroke:#000000; stroke-linecap:butt; stroke-linejoin:round; stroke-width:2; stroke-opacity:0.1; fill:none\" points=\"\n",
       "  219.38,349.671 2352.76,349.671 \n",
       "  \"/>\n",
       "<polyline clip-path=\"url(#clip850)\" style=\"stroke:#000000; stroke-linecap:butt; stroke-linejoin:round; stroke-width:4; stroke-opacity:1; fill:none\" points=\"\n",
       "  219.38,1423.18 219.38,123.472 \n",
       "  \"/>\n",
       "<polyline clip-path=\"url(#clip850)\" style=\"stroke:#000000; stroke-linecap:butt; stroke-linejoin:round; stroke-width:4; stroke-opacity:1; fill:none\" points=\"\n",
       "  219.38,1381.47 238.278,1381.47 \n",
       "  \"/>\n",
       "<polyline clip-path=\"url(#clip850)\" style=\"stroke:#000000; stroke-linecap:butt; stroke-linejoin:round; stroke-width:4; stroke-opacity:1; fill:none\" points=\"\n",
       "  219.38,1037.54 238.278,1037.54 \n",
       "  \"/>\n",
       "<polyline clip-path=\"url(#clip850)\" style=\"stroke:#000000; stroke-linecap:butt; stroke-linejoin:round; stroke-width:4; stroke-opacity:1; fill:none\" points=\"\n",
       "  219.38,693.603 238.278,693.603 \n",
       "  \"/>\n",
       "<polyline clip-path=\"url(#clip850)\" style=\"stroke:#000000; stroke-linecap:butt; stroke-linejoin:round; stroke-width:4; stroke-opacity:1; fill:none\" points=\"\n",
       "  219.38,349.671 238.278,349.671 \n",
       "  \"/>\n",
       "<path clip-path=\"url(#clip850)\" d=\"M126.205 1367.27 Q122.593 1367.27 120.765 1370.83 Q118.959 1374.37 118.959 1381.5 Q118.959 1388.61 120.765 1392.18 Q122.593 1395.72 126.205 1395.72 Q129.839 1395.72 131.644 1392.18 Q133.473 1388.61 133.473 1381.5 Q133.473 1374.37 131.644 1370.83 Q129.839 1367.27 126.205 1367.27 M126.205 1363.56 Q132.015 1363.56 135.07 1368.17 Q138.149 1372.75 138.149 1381.5 Q138.149 1390.23 135.07 1394.84 Q132.015 1399.42 126.205 1399.42 Q120.394 1399.42 117.316 1394.84 Q114.26 1390.23 114.26 1381.5 Q114.26 1372.75 117.316 1368.17 Q120.394 1363.56 126.205 1363.56 Z\" fill=\"#000000\" fill-rule=\"evenodd\" fill-opacity=\"1\" /><path clip-path=\"url(#clip850)\" d=\"M146.366 1392.87 L151.251 1392.87 L151.251 1398.75 L146.366 1398.75 L146.366 1392.87 Z\" fill=\"#000000\" fill-rule=\"evenodd\" fill-opacity=\"1\" /><path clip-path=\"url(#clip850)\" d=\"M171.436 1367.27 Q167.825 1367.27 165.996 1370.83 Q164.19 1374.37 164.19 1381.5 Q164.19 1388.61 165.996 1392.18 Q167.825 1395.72 171.436 1395.72 Q175.07 1395.72 176.876 1392.18 Q178.704 1388.61 178.704 1381.5 Q178.704 1374.37 176.876 1370.83 Q175.07 1367.27 171.436 1367.27 M171.436 1363.56 Q177.246 1363.56 180.301 1368.17 Q183.38 1372.75 183.38 1381.5 Q183.38 1390.23 180.301 1394.84 Q177.246 1399.42 171.436 1399.42 Q165.626 1399.42 162.547 1394.84 Q159.491 1390.23 159.491 1381.5 Q159.491 1372.75 162.547 1368.17 Q165.626 1363.56 171.436 1363.56 Z\" fill=\"#000000\" fill-rule=\"evenodd\" fill-opacity=\"1\" /><path clip-path=\"url(#clip850)\" d=\"M127.431 1023.33 Q123.82 1023.33 121.992 1026.9 Q120.186 1030.44 120.186 1037.57 Q120.186 1044.68 121.992 1048.24 Q123.82 1051.78 127.431 1051.78 Q131.066 1051.78 132.871 1048.24 Q134.7 1044.68 134.7 1037.57 Q134.7 1030.44 132.871 1026.9 Q131.066 1023.33 127.431 1023.33 M127.431 1019.63 Q133.242 1019.63 136.297 1024.24 Q139.376 1028.82 139.376 1037.57 Q139.376 1046.3 136.297 1050.9 Q133.242 1055.49 127.431 1055.49 Q121.621 1055.49 118.543 1050.9 Q115.487 1046.3 115.487 1037.57 Q115.487 1028.82 118.543 1024.24 Q121.621 1019.63 127.431 1019.63 Z\" fill=\"#000000\" fill-rule=\"evenodd\" fill-opacity=\"1\" /><path clip-path=\"url(#clip850)\" d=\"M147.593 1048.94 L152.478 1048.94 L152.478 1054.82 L147.593 1054.82 L147.593 1048.94 Z\" fill=\"#000000\" fill-rule=\"evenodd\" fill-opacity=\"1\" /><path clip-path=\"url(#clip850)\" d=\"M163.473 1050.88 L171.112 1050.88 L171.112 1024.52 L162.802 1026.18 L162.802 1021.92 L171.065 1020.26 L175.741 1020.26 L175.741 1050.88 L183.38 1050.88 L183.38 1054.82 L163.473 1054.82 L163.473 1050.88 Z\" fill=\"#000000\" fill-rule=\"evenodd\" fill-opacity=\"1\" /><path clip-path=\"url(#clip850)\" d=\"M127.802 679.402 Q124.191 679.402 122.362 682.967 Q120.556 686.509 120.556 693.638 Q120.556 700.745 122.362 704.309 Q124.191 707.851 127.802 707.851 Q131.436 707.851 133.242 704.309 Q135.07 700.745 135.07 693.638 Q135.07 686.509 133.242 682.967 Q131.436 679.402 127.802 679.402 M127.802 675.698 Q133.612 675.698 136.667 680.305 Q139.746 684.888 139.746 693.638 Q139.746 702.365 136.667 706.971 Q133.612 711.555 127.802 711.555 Q121.992 711.555 118.913 706.971 Q115.857 702.365 115.857 693.638 Q115.857 684.888 118.913 680.305 Q121.992 675.698 127.802 675.698 Z\" fill=\"#000000\" fill-rule=\"evenodd\" fill-opacity=\"1\" /><path clip-path=\"url(#clip850)\" d=\"M147.964 705.004 L152.848 705.004 L152.848 710.883 L147.964 710.883 L147.964 705.004 Z\" fill=\"#000000\" fill-rule=\"evenodd\" fill-opacity=\"1\" /><path clip-path=\"url(#clip850)\" d=\"M167.061 706.948 L183.38 706.948 L183.38 710.883 L161.436 710.883 L161.436 706.948 Q164.098 704.194 168.681 699.564 Q173.288 694.911 174.468 693.569 Q176.714 691.046 177.593 689.31 Q178.496 687.55 178.496 685.86 Q178.496 683.106 176.551 681.37 Q174.63 679.634 171.528 679.634 Q169.329 679.634 166.876 680.398 Q164.445 681.161 161.667 682.712 L161.667 677.99 Q164.491 676.856 166.945 676.277 Q169.399 675.698 171.436 675.698 Q176.806 675.698 180.001 678.384 Q183.195 681.069 183.195 685.56 Q183.195 687.689 182.385 689.61 Q181.598 691.509 179.491 694.101 Q178.913 694.772 175.811 697.99 Q172.709 701.184 167.061 706.948 Z\" fill=\"#000000\" fill-rule=\"evenodd\" fill-opacity=\"1\" /><path clip-path=\"url(#clip850)\" d=\"M126.853 335.469 Q123.242 335.469 121.413 339.034 Q119.607 342.576 119.607 349.705 Q119.607 356.812 121.413 360.377 Q123.242 363.918 126.853 363.918 Q130.487 363.918 132.292 360.377 Q134.121 356.812 134.121 349.705 Q134.121 342.576 132.292 339.034 Q130.487 335.469 126.853 335.469 M126.853 331.766 Q132.663 331.766 135.718 336.372 Q138.797 340.955 138.797 349.705 Q138.797 358.432 135.718 363.039 Q132.663 367.622 126.853 367.622 Q121.043 367.622 117.964 363.039 Q114.908 358.432 114.908 349.705 Q114.908 340.955 117.964 336.372 Q121.043 331.766 126.853 331.766 Z\" fill=\"#000000\" fill-rule=\"evenodd\" fill-opacity=\"1\" /><path clip-path=\"url(#clip850)\" d=\"M147.015 361.071 L151.899 361.071 L151.899 366.951 L147.015 366.951 L147.015 361.071 Z\" fill=\"#000000\" fill-rule=\"evenodd\" fill-opacity=\"1\" /><path clip-path=\"url(#clip850)\" d=\"M176.251 348.316 Q179.607 349.034 181.482 351.303 Q183.38 353.571 183.38 356.904 Q183.38 362.02 179.862 364.821 Q176.343 367.622 169.862 367.622 Q167.686 367.622 165.371 367.182 Q163.079 366.765 160.626 365.909 L160.626 361.395 Q162.57 362.529 164.885 363.108 Q167.2 363.687 169.723 363.687 Q174.121 363.687 176.413 361.951 Q178.727 360.215 178.727 356.904 Q178.727 353.849 176.575 352.136 Q174.445 350.4 170.626 350.4 L166.598 350.4 L166.598 346.557 L170.811 346.557 Q174.26 346.557 176.089 345.192 Q177.917 343.803 177.917 341.21 Q177.917 338.548 176.019 337.136 Q174.144 335.701 170.626 335.701 Q168.704 335.701 166.505 336.117 Q164.306 336.534 161.667 337.414 L161.667 333.247 Q164.329 332.506 166.644 332.136 Q168.982 331.766 171.042 331.766 Q176.366 331.766 179.468 334.196 Q182.57 336.604 182.57 340.724 Q182.57 343.594 180.926 345.585 Q179.283 347.553 176.251 348.316 Z\" fill=\"#000000\" fill-rule=\"evenodd\" fill-opacity=\"1\" /><path clip-path=\"url(#clip850)\" d=\"M71.9613 821.896 L59.771 826.639 L77.5949 836.41 L77.5949 843.317 L52.3867 829.503 L37.3955 835.296 Q33.3851 836.856 33.3851 841.757 L33.3851 843.317 L28.3562 843.317 L28.4199 841.089 Q28.6427 832.877 33.958 830.808 L46.1484 826.098 L28.3244 816.326 L28.3244 809.42 L53.5326 823.233 L68.5238 817.44 Q72.5342 815.881 72.5342 810.979 L72.5342 809.42 L77.5631 809.42 L77.4995 811.648 Q77.2767 819.859 71.9613 821.896 Z\" fill=\"#000000\" fill-rule=\"evenodd\" fill-opacity=\"1\" /><path clip-path=\"url(#clip850)\" d=\"M74.8259 774.313 L79.3773 774.313 L79.3773 808.178 L74.8259 808.178 L74.8259 774.313 Z\" fill=\"#000000\" fill-rule=\"evenodd\" fill-opacity=\"1\" /><path clip-path=\"url(#clip850)\" d=\"M29.7248 743.153 L35.1993 743.153 Q33.8307 745.635 33.1623 748.15 Q32.4621 750.632 32.4621 753.179 Q32.4621 758.876 36.0905 762.027 Q39.6872 765.178 46.212 765.178 Q52.7369 765.178 56.3653 762.027 Q59.9619 758.876 59.9619 753.179 Q59.9619 750.632 59.2935 748.15 Q58.5933 745.635 57.2247 743.153 L62.6355 743.153 Q63.7814 745.603 64.3543 748.245 Q64.9272 750.855 64.9272 753.815 Q64.9272 761.868 59.8664 766.61 Q54.8057 771.353 46.212 771.353 Q37.491 771.353 32.4939 766.578 Q27.4968 761.772 27.4968 753.433 Q27.4968 750.728 28.0697 748.15 Q28.6108 745.572 29.7248 743.153 Z\" fill=\"#000000\" fill-rule=\"evenodd\" fill-opacity=\"1\" /><path clip-path=\"url(#clip850)\" d=\"M42.4881 703.335 L64.0042 703.335 L64.0042 709.191 L42.679 709.191 Q37.6183 709.191 35.1038 711.165 Q32.5894 713.138 32.5894 717.085 Q32.5894 721.827 35.6131 724.565 Q38.6368 727.302 43.8567 727.302 L64.0042 727.302 L64.0042 733.19 L14.479 733.19 L14.479 727.302 L33.8944 727.302 Q30.6797 725.201 29.0883 722.369 Q27.4968 719.504 27.4968 715.78 Q27.4968 709.637 31.3163 706.486 Q35.1038 703.335 42.4881 703.335 Z\" fill=\"#000000\" fill-rule=\"evenodd\" fill-opacity=\"1\" /><path clip-path=\"url(#clip850)\" d=\"M948.243 34.1734 Q946.987 33.4443 945.488 33.1202 Q944.03 32.7556 942.248 32.7556 Q935.928 32.7556 932.525 36.8875 Q929.163 40.9789 929.163 48.6757 L929.163 72.576 L921.669 72.576 L921.669 27.2059 L929.163 27.2059 L929.163 34.2544 Q931.513 30.1225 935.28 28.1376 Q939.047 26.1121 944.435 26.1121 Q945.205 26.1121 946.136 26.2337 Q947.068 26.3147 948.202 26.5172 L948.243 34.1734 Z\" fill=\"#000000\" fill-rule=\"evenodd\" fill-opacity=\"1\" /><path clip-path=\"url(#clip850)\" d=\"M993.046 48.0275 L993.046 51.6733 L958.775 51.6733 Q959.261 59.3701 963.393 63.421 Q967.566 67.4314 974.979 67.4314 Q979.273 67.4314 983.283 66.3781 Q987.334 65.3249 991.304 63.2184 L991.304 70.267 Q987.294 71.9684 983.081 72.8596 Q978.868 73.7508 974.533 73.7508 Q963.677 73.7508 957.317 67.4314 Q950.997 61.1119 950.997 50.3365 Q950.997 39.1965 956.993 32.6746 Q963.029 26.1121 973.237 26.1121 Q982.392 26.1121 987.699 32.0264 Q993.046 37.9003 993.046 48.0275 M985.592 45.84 Q985.511 39.7232 982.149 36.0774 Q978.827 32.4315 973.318 32.4315 Q967.08 32.4315 963.312 35.9558 Q959.585 39.4801 959.018 45.8805 L985.592 45.84 Z\" fill=\"#000000\" fill-rule=\"evenodd\" fill-opacity=\"1\" /><path clip-path=\"url(#clip850)\" d=\"M1035.13 34.0924 L1035.13 9.54393 L1042.59 9.54393 L1042.59 72.576 L1035.13 72.576 L1035.13 65.7705 Q1032.79 69.8214 1029.18 71.8063 Q1025.62 73.7508 1020.59 73.7508 Q1012.37 73.7508 1007.18 67.1883 Q1002.04 60.6258 1002.04 49.9314 Q1002.04 39.2371 1007.18 32.6746 Q1012.37 26.1121 1020.59 26.1121 Q1025.62 26.1121 1029.18 28.0971 Q1032.79 30.0415 1035.13 34.0924 M1009.74 49.9314 Q1009.74 58.1548 1013.1 62.8538 Q1016.5 67.5124 1022.41 67.5124 Q1028.33 67.5124 1031.73 62.8538 Q1035.13 58.1548 1035.13 49.9314 Q1035.13 41.7081 1031.73 37.0496 Q1028.33 32.3505 1022.41 32.3505 Q1016.5 32.3505 1013.1 37.0496 Q1009.74 41.7081 1009.74 49.9314 Z\" fill=\"#000000\" fill-rule=\"evenodd\" fill-opacity=\"1\" /><path clip-path=\"url(#clip850)\" d=\"M1057.17 54.671 L1057.17 27.2059 L1064.63 27.2059 L1064.63 54.3874 Q1064.63 60.8284 1067.14 64.0691 Q1069.65 67.2693 1074.67 67.2693 Q1080.71 67.2693 1084.19 63.421 Q1087.72 59.5726 1087.72 52.9291 L1087.72 27.2059 L1095.17 27.2059 L1095.17 72.576 L1087.72 72.576 L1087.72 65.6084 Q1085 69.7404 1081.4 71.7658 Q1077.83 73.7508 1073.09 73.7508 Q1065.27 73.7508 1061.22 68.8897 Q1057.17 64.0286 1057.17 54.671 M1075.93 26.1121 L1075.93 26.1121 Z\" fill=\"#000000\" fill-rule=\"evenodd\" fill-opacity=\"1\" /><path clip-path=\"url(#clip850)\" d=\"M1143.17 28.9478 L1143.17 35.9153 Q1140.01 34.1734 1136.81 33.3227 Q1133.65 32.4315 1130.41 32.4315 Q1123.16 32.4315 1119.15 37.0496 Q1115.14 41.6271 1115.14 49.9314 Q1115.14 58.2358 1119.15 62.8538 Q1123.16 67.4314 1130.41 67.4314 Q1133.65 67.4314 1136.81 66.5807 Q1140.01 65.6895 1143.17 63.9476 L1143.17 70.8341 Q1140.05 72.2924 1136.69 73.0216 Q1133.37 73.7508 1129.6 73.7508 Q1119.35 73.7508 1113.32 67.3098 Q1107.28 60.8689 1107.28 49.9314 Q1107.28 38.832 1113.36 32.472 Q1119.47 26.1121 1130.09 26.1121 Q1133.53 26.1121 1136.81 26.8413 Q1140.09 27.5299 1143.17 28.9478 Z\" fill=\"#000000\" fill-rule=\"evenodd\" fill-opacity=\"1\" /><path clip-path=\"url(#clip850)\" d=\"M1163.51 14.324 L1163.51 27.2059 L1178.86 27.2059 L1178.86 32.9987 L1163.51 32.9987 L1163.51 57.6282 Q1163.51 63.1779 1165.01 64.7578 Q1166.55 66.3376 1171.2 66.3376 L1178.86 66.3376 L1178.86 72.576 L1171.2 72.576 Q1162.58 72.576 1159.29 69.3758 Q1156.01 66.1351 1156.01 57.6282 L1156.01 32.9987 L1150.55 32.9987 L1150.55 27.2059 L1156.01 27.2059 L1156.01 14.324 L1163.51 14.324 Z\" fill=\"#000000\" fill-rule=\"evenodd\" fill-opacity=\"1\" /><path clip-path=\"url(#clip850)\" d=\"M1188.66 27.2059 L1196.12 27.2059 L1196.12 72.576 L1188.66 72.576 L1188.66 27.2059 M1188.66 9.54393 L1196.12 9.54393 L1196.12 18.9825 L1188.66 18.9825 L1188.66 9.54393 Z\" fill=\"#000000\" fill-rule=\"evenodd\" fill-opacity=\"1\" /><path clip-path=\"url(#clip850)\" d=\"M1229.29 32.4315 Q1223.3 32.4315 1219.82 37.1306 Q1216.33 41.7891 1216.33 49.9314 Q1216.33 58.0738 1219.77 62.7728 Q1223.26 67.4314 1229.29 67.4314 Q1235.25 67.4314 1238.73 62.7323 Q1242.22 58.0333 1242.22 49.9314 Q1242.22 41.8701 1238.73 37.1711 Q1235.25 32.4315 1229.29 32.4315 M1229.29 26.1121 Q1239.02 26.1121 1244.57 32.4315 Q1250.12 38.7509 1250.12 49.9314 Q1250.12 61.0714 1244.57 67.4314 Q1239.02 73.7508 1229.29 73.7508 Q1219.53 73.7508 1213.98 67.4314 Q1208.47 61.0714 1208.47 49.9314 Q1208.47 38.7509 1213.98 32.4315 Q1219.53 26.1121 1229.29 26.1121 Z\" fill=\"#000000\" fill-rule=\"evenodd\" fill-opacity=\"1\" /><path clip-path=\"url(#clip850)\" d=\"M1300.19 45.1919 L1300.19 72.576 L1292.73 72.576 L1292.73 45.4349 Q1292.73 38.994 1290.22 35.7938 Q1287.71 32.5936 1282.69 32.5936 Q1276.65 32.5936 1273.17 36.4419 Q1269.68 40.2903 1269.68 46.9338 L1269.68 72.576 L1262.19 72.576 L1262.19 27.2059 L1269.68 27.2059 L1269.68 34.2544 Q1272.36 30.163 1275.96 28.1376 Q1279.61 26.1121 1284.35 26.1121 Q1292.16 26.1121 1296.18 30.9732 Q1300.19 35.7938 1300.19 45.1919 Z\" fill=\"#000000\" fill-rule=\"evenodd\" fill-opacity=\"1\" /><path clip-path=\"url(#clip850)\" d=\"M1316.96 62.2867 L1325.5 62.2867 L1325.5 72.576 L1316.96 72.576 L1316.96 62.2867 M1316.96 29.6769 L1325.5 29.6769 L1325.5 39.9662 L1316.96 39.9662 L1316.96 29.6769 Z\" fill=\"#000000\" fill-rule=\"evenodd\" fill-opacity=\"1\" /><path clip-path=\"url(#clip850)\" d=\"M1365.61 46.5287 L1387.44 46.5287 L1387.44 53.1722 L1365.61 53.1722 L1365.61 46.5287 Z\" fill=\"#000000\" fill-rule=\"evenodd\" fill-opacity=\"1\" /><path clip-path=\"url(#clip850)\" d=\"M1401.78 65.6895 L1415.15 65.6895 L1415.15 19.5497 L1400.61 22.4663 L1400.61 15.0127 L1415.07 12.096 L1423.25 12.096 L1423.25 65.6895 L1436.62 65.6895 L1436.62 72.576 L1401.78 72.576 L1401.78 65.6895 Z\" fill=\"#000000\" fill-rule=\"evenodd\" fill-opacity=\"1\" /><path clip-path=\"url(#clip850)\" d=\"M1470.65 17.4837 Q1464.33 17.4837 1461.13 23.7221 Q1457.97 29.92 1457.97 42.3968 Q1457.97 54.833 1461.13 61.0714 Q1464.33 67.2693 1470.65 67.2693 Q1477.01 67.2693 1480.17 61.0714 Q1483.37 54.833 1483.37 42.3968 Q1483.37 29.92 1480.17 23.7221 Q1477.01 17.4837 1470.65 17.4837 M1470.65 11.0023 Q1480.82 11.0023 1486.16 19.0636 Q1491.55 27.0843 1491.55 42.3968 Q1491.55 57.6687 1486.16 65.73 Q1480.82 73.7508 1470.65 73.7508 Q1460.48 73.7508 1455.09 65.73 Q1449.74 57.6687 1449.74 42.3968 Q1449.74 27.0843 1455.09 19.0636 Q1460.48 11.0023 1470.65 11.0023 Z\" fill=\"#000000\" fill-rule=\"evenodd\" fill-opacity=\"1\" /><path clip-path=\"url(#clip850)\" d=\"M1505.93 62.2867 L1514.48 62.2867 L1514.48 72.576 L1505.93 72.576 L1505.93 62.2867 Z\" fill=\"#000000\" fill-rule=\"evenodd\" fill-opacity=\"1\" /><path clip-path=\"url(#clip850)\" d=\"M1549.8 17.4837 Q1543.48 17.4837 1540.28 23.7221 Q1537.12 29.92 1537.12 42.3968 Q1537.12 54.833 1540.28 61.0714 Q1543.48 67.2693 1549.8 67.2693 Q1556.16 67.2693 1559.32 61.0714 Q1562.52 54.833 1562.52 42.3968 Q1562.52 29.92 1559.32 23.7221 Q1556.16 17.4837 1549.8 17.4837 M1549.8 11.0023 Q1559.97 11.0023 1565.32 19.0636 Q1570.7 27.0843 1570.7 42.3968 Q1570.7 57.6687 1565.32 65.73 Q1559.97 73.7508 1549.8 73.7508 Q1539.63 73.7508 1534.25 65.73 Q1528.9 57.6687 1528.9 42.3968 Q1528.9 27.0843 1534.25 19.0636 Q1539.63 11.0023 1549.8 11.0023 Z\" fill=\"#000000\" fill-rule=\"evenodd\" fill-opacity=\"1\" /><path clip-path=\"url(#clip850)\" d=\"M1636.53 45.9616 Q1633.01 45.9616 1630.98 48.9592 Q1629 51.9569 1629 57.3041 Q1629 62.5703 1630.98 65.6084 Q1633.01 68.6061 1636.53 68.6061 Q1639.98 68.6061 1641.96 65.6084 Q1643.99 62.5703 1643.99 57.3041 Q1643.99 51.9974 1641.96 48.9997 Q1639.98 45.9616 1636.53 45.9616 M1636.53 40.8169 Q1642.93 40.8169 1646.7 45.2729 Q1650.47 49.7289 1650.47 57.3041 Q1650.47 64.8793 1646.66 69.3353 Q1642.89 73.7508 1636.53 73.7508 Q1630.05 73.7508 1626.28 69.3353 Q1622.52 64.8793 1622.52 57.3041 Q1622.52 49.6884 1626.28 45.2729 Q1630.09 40.8169 1636.53 40.8169 M1594.73 16.1469 Q1591.24 16.1469 1589.22 19.1851 Q1587.23 22.1828 1587.23 27.4489 Q1587.23 32.7961 1589.22 35.7938 Q1591.2 38.7915 1594.73 38.7915 Q1598.25 38.7915 1600.24 35.7938 Q1602.26 32.7961 1602.26 27.4489 Q1602.26 22.2233 1600.24 19.1851 Q1598.21 16.1469 1594.73 16.1469 M1631.31 11.0023 L1637.79 11.0023 L1599.95 73.7508 L1593.47 73.7508 L1631.31 11.0023 M1594.73 11.0023 Q1601.13 11.0023 1604.93 15.4583 Q1608.74 19.8737 1608.74 27.4489 Q1608.74 35.1051 1604.93 39.5206 Q1601.17 43.9361 1594.73 43.9361 Q1588.29 43.9361 1584.52 39.5206 Q1580.79 35.0646 1580.79 27.4489 Q1580.79 19.9142 1584.56 15.4583 Q1588.33 11.0023 1594.73 11.0023 Z\" fill=\"#000000\" fill-rule=\"evenodd\" fill-opacity=\"1\" /><polyline clip-path=\"url(#clip852)\" style=\"stroke:#008000; stroke-linecap:butt; stroke-linejoin:round; stroke-width:4; stroke-opacity:1; fill:none\" points=\"\n",
       "  279.759,1386.4 342.653,1384.23 405.547,1381.61 468.442,1378.39 531.336,1374.38 594.23,1369.31 657.125,1362.76 720.019,1354.13 782.913,1342.47 845.808,1326.21 \n",
       "  908.702,1302.74 971.596,1267.42 1034.49,1211.58 1097.39,1118.35 1160.28,954.212 1223.17,660.163 1286.07,210.406 1348.96,660.163 1411.86,954.212 1474.75,1118.35 \n",
       "  1537.65,1211.58 1600.54,1267.42 1663.43,1302.74 1726.33,1326.21 1789.22,1342.47 1852.12,1354.13 1915.01,1362.76 1977.91,1369.31 2040.8,1374.38 2103.69,1378.39 \n",
       "  2166.59,1381.61 2229.48,1384.23 2292.38,1386.4 \n",
       "  \"/>\n",
       "<circle clip-path=\"url(#clip852)\" cx=\"279.759\" cy=\"1386.4\" r=\"14\" fill=\"#008000\" fill-rule=\"evenodd\" fill-opacity=\"1\" stroke=\"#000000\" stroke-opacity=\"1\" stroke-width=\"3.2\"/>\n",
       "<circle clip-path=\"url(#clip852)\" cx=\"342.653\" cy=\"1384.23\" r=\"14\" fill=\"#008000\" fill-rule=\"evenodd\" fill-opacity=\"1\" stroke=\"#000000\" stroke-opacity=\"1\" stroke-width=\"3.2\"/>\n",
       "<circle clip-path=\"url(#clip852)\" cx=\"405.547\" cy=\"1381.61\" r=\"14\" fill=\"#008000\" fill-rule=\"evenodd\" fill-opacity=\"1\" stroke=\"#000000\" stroke-opacity=\"1\" stroke-width=\"3.2\"/>\n",
       "<circle clip-path=\"url(#clip852)\" cx=\"468.442\" cy=\"1378.39\" r=\"14\" fill=\"#008000\" fill-rule=\"evenodd\" fill-opacity=\"1\" stroke=\"#000000\" stroke-opacity=\"1\" stroke-width=\"3.2\"/>\n",
       "<circle clip-path=\"url(#clip852)\" cx=\"531.336\" cy=\"1374.38\" r=\"14\" fill=\"#008000\" fill-rule=\"evenodd\" fill-opacity=\"1\" stroke=\"#000000\" stroke-opacity=\"1\" stroke-width=\"3.2\"/>\n",
       "<circle clip-path=\"url(#clip852)\" cx=\"594.23\" cy=\"1369.31\" r=\"14\" fill=\"#008000\" fill-rule=\"evenodd\" fill-opacity=\"1\" stroke=\"#000000\" stroke-opacity=\"1\" stroke-width=\"3.2\"/>\n",
       "<circle clip-path=\"url(#clip852)\" cx=\"657.125\" cy=\"1362.76\" r=\"14\" fill=\"#008000\" fill-rule=\"evenodd\" fill-opacity=\"1\" stroke=\"#000000\" stroke-opacity=\"1\" stroke-width=\"3.2\"/>\n",
       "<circle clip-path=\"url(#clip852)\" cx=\"720.019\" cy=\"1354.13\" r=\"14\" fill=\"#008000\" fill-rule=\"evenodd\" fill-opacity=\"1\" stroke=\"#000000\" stroke-opacity=\"1\" stroke-width=\"3.2\"/>\n",
       "<circle clip-path=\"url(#clip852)\" cx=\"782.913\" cy=\"1342.47\" r=\"14\" fill=\"#008000\" fill-rule=\"evenodd\" fill-opacity=\"1\" stroke=\"#000000\" stroke-opacity=\"1\" stroke-width=\"3.2\"/>\n",
       "<circle clip-path=\"url(#clip852)\" cx=\"845.808\" cy=\"1326.21\" r=\"14\" fill=\"#008000\" fill-rule=\"evenodd\" fill-opacity=\"1\" stroke=\"#000000\" stroke-opacity=\"1\" stroke-width=\"3.2\"/>\n",
       "<circle clip-path=\"url(#clip852)\" cx=\"908.702\" cy=\"1302.74\" r=\"14\" fill=\"#008000\" fill-rule=\"evenodd\" fill-opacity=\"1\" stroke=\"#000000\" stroke-opacity=\"1\" stroke-width=\"3.2\"/>\n",
       "<circle clip-path=\"url(#clip852)\" cx=\"971.596\" cy=\"1267.42\" r=\"14\" fill=\"#008000\" fill-rule=\"evenodd\" fill-opacity=\"1\" stroke=\"#000000\" stroke-opacity=\"1\" stroke-width=\"3.2\"/>\n",
       "<circle clip-path=\"url(#clip852)\" cx=\"1034.49\" cy=\"1211.58\" r=\"14\" fill=\"#008000\" fill-rule=\"evenodd\" fill-opacity=\"1\" stroke=\"#000000\" stroke-opacity=\"1\" stroke-width=\"3.2\"/>\n",
       "<circle clip-path=\"url(#clip852)\" cx=\"1097.39\" cy=\"1118.35\" r=\"14\" fill=\"#008000\" fill-rule=\"evenodd\" fill-opacity=\"1\" stroke=\"#000000\" stroke-opacity=\"1\" stroke-width=\"3.2\"/>\n",
       "<circle clip-path=\"url(#clip852)\" cx=\"1160.28\" cy=\"954.212\" r=\"14\" fill=\"#008000\" fill-rule=\"evenodd\" fill-opacity=\"1\" stroke=\"#000000\" stroke-opacity=\"1\" stroke-width=\"3.2\"/>\n",
       "<circle clip-path=\"url(#clip852)\" cx=\"1223.17\" cy=\"660.163\" r=\"14\" fill=\"#008000\" fill-rule=\"evenodd\" fill-opacity=\"1\" stroke=\"#000000\" stroke-opacity=\"1\" stroke-width=\"3.2\"/>\n",
       "<circle clip-path=\"url(#clip852)\" cx=\"1286.07\" cy=\"210.406\" r=\"14\" fill=\"#008000\" fill-rule=\"evenodd\" fill-opacity=\"1\" stroke=\"#000000\" stroke-opacity=\"1\" stroke-width=\"3.2\"/>\n",
       "<circle clip-path=\"url(#clip852)\" cx=\"1348.96\" cy=\"660.163\" r=\"14\" fill=\"#008000\" fill-rule=\"evenodd\" fill-opacity=\"1\" stroke=\"#000000\" stroke-opacity=\"1\" stroke-width=\"3.2\"/>\n",
       "<circle clip-path=\"url(#clip852)\" cx=\"1411.86\" cy=\"954.212\" r=\"14\" fill=\"#008000\" fill-rule=\"evenodd\" fill-opacity=\"1\" stroke=\"#000000\" stroke-opacity=\"1\" stroke-width=\"3.2\"/>\n",
       "<circle clip-path=\"url(#clip852)\" cx=\"1474.75\" cy=\"1118.35\" r=\"14\" fill=\"#008000\" fill-rule=\"evenodd\" fill-opacity=\"1\" stroke=\"#000000\" stroke-opacity=\"1\" stroke-width=\"3.2\"/>\n",
       "<circle clip-path=\"url(#clip852)\" cx=\"1537.65\" cy=\"1211.58\" r=\"14\" fill=\"#008000\" fill-rule=\"evenodd\" fill-opacity=\"1\" stroke=\"#000000\" stroke-opacity=\"1\" stroke-width=\"3.2\"/>\n",
       "<circle clip-path=\"url(#clip852)\" cx=\"1600.54\" cy=\"1267.42\" r=\"14\" fill=\"#008000\" fill-rule=\"evenodd\" fill-opacity=\"1\" stroke=\"#000000\" stroke-opacity=\"1\" stroke-width=\"3.2\"/>\n",
       "<circle clip-path=\"url(#clip852)\" cx=\"1663.43\" cy=\"1302.74\" r=\"14\" fill=\"#008000\" fill-rule=\"evenodd\" fill-opacity=\"1\" stroke=\"#000000\" stroke-opacity=\"1\" stroke-width=\"3.2\"/>\n",
       "<circle clip-path=\"url(#clip852)\" cx=\"1726.33\" cy=\"1326.21\" r=\"14\" fill=\"#008000\" fill-rule=\"evenodd\" fill-opacity=\"1\" stroke=\"#000000\" stroke-opacity=\"1\" stroke-width=\"3.2\"/>\n",
       "<circle clip-path=\"url(#clip852)\" cx=\"1789.22\" cy=\"1342.47\" r=\"14\" fill=\"#008000\" fill-rule=\"evenodd\" fill-opacity=\"1\" stroke=\"#000000\" stroke-opacity=\"1\" stroke-width=\"3.2\"/>\n",
       "<circle clip-path=\"url(#clip852)\" cx=\"1852.12\" cy=\"1354.13\" r=\"14\" fill=\"#008000\" fill-rule=\"evenodd\" fill-opacity=\"1\" stroke=\"#000000\" stroke-opacity=\"1\" stroke-width=\"3.2\"/>\n",
       "<circle clip-path=\"url(#clip852)\" cx=\"1915.01\" cy=\"1362.76\" r=\"14\" fill=\"#008000\" fill-rule=\"evenodd\" fill-opacity=\"1\" stroke=\"#000000\" stroke-opacity=\"1\" stroke-width=\"3.2\"/>\n",
       "<circle clip-path=\"url(#clip852)\" cx=\"1977.91\" cy=\"1369.31\" r=\"14\" fill=\"#008000\" fill-rule=\"evenodd\" fill-opacity=\"1\" stroke=\"#000000\" stroke-opacity=\"1\" stroke-width=\"3.2\"/>\n",
       "<circle clip-path=\"url(#clip852)\" cx=\"2040.8\" cy=\"1374.38\" r=\"14\" fill=\"#008000\" fill-rule=\"evenodd\" fill-opacity=\"1\" stroke=\"#000000\" stroke-opacity=\"1\" stroke-width=\"3.2\"/>\n",
       "<circle clip-path=\"url(#clip852)\" cx=\"2103.69\" cy=\"1378.39\" r=\"14\" fill=\"#008000\" fill-rule=\"evenodd\" fill-opacity=\"1\" stroke=\"#000000\" stroke-opacity=\"1\" stroke-width=\"3.2\"/>\n",
       "<circle clip-path=\"url(#clip852)\" cx=\"2166.59\" cy=\"1381.61\" r=\"14\" fill=\"#008000\" fill-rule=\"evenodd\" fill-opacity=\"1\" stroke=\"#000000\" stroke-opacity=\"1\" stroke-width=\"3.2\"/>\n",
       "<circle clip-path=\"url(#clip852)\" cx=\"2229.48\" cy=\"1384.23\" r=\"14\" fill=\"#008000\" fill-rule=\"evenodd\" fill-opacity=\"1\" stroke=\"#000000\" stroke-opacity=\"1\" stroke-width=\"3.2\"/>\n",
       "<circle clip-path=\"url(#clip852)\" cx=\"2292.38\" cy=\"1386.4\" r=\"14\" fill=\"#008000\" fill-rule=\"evenodd\" fill-opacity=\"1\" stroke=\"#000000\" stroke-opacity=\"1\" stroke-width=\"3.2\"/>\n",
       "<path clip-path=\"url(#clip852)\" d=\"\n",
       "M279.759 1381.47 L342.653 1381.47 L405.547 1381.47 L468.442 1381.47 L531.336 1381.47 L594.23 1381.47 L657.125 1381.47 L720.019 1381.47 L782.913 1381.47 L845.808 1381.47 \n",
       "  L908.702 1381.47 L971.596 1381.47 L1034.49 1381.47 L1097.39 1381.47 L1160.28 1381.47 L1223.17 1381.47 L1286.07 1381.47 L1348.96 1381.47 L1411.86 1381.47 L1474.75 1381.47 \n",
       "  L1537.65 1381.47 L1600.54 1381.47 L1663.43 1381.47 L1726.33 1381.47 L1789.22 1381.47 L1852.12 1381.47 L1915.01 1381.47 L1977.91 1381.47 L2040.8 1381.47 L2103.69 1381.47 \n",
       "  L2166.59 1381.47 L2229.48 1381.47 L2292.38 1381.47 L2292.38 1386.4 L2229.48 1384.23 L2166.59 1381.61 L2103.69 1378.39 L2040.8 1374.38 L1977.91 1369.31 L1915.01 1362.76 \n",
       "  L1852.12 1354.13 L1789.22 1342.47 L1726.33 1326.21 L1663.43 1302.74 L1600.54 1267.42 L1537.65 1211.58 L1474.75 1118.35 L1411.86 954.212 L1348.96 660.163 L1286.07 210.406 \n",
       "  L1223.17 660.163 L1160.28 954.212 L1097.39 1118.35 L1034.49 1211.58 L971.596 1267.42 L908.702 1302.74 L845.808 1326.21 L782.913 1342.47 L720.019 1354.13 L657.125 1362.76 \n",
       "  L594.23 1369.31 L531.336 1374.38 L468.442 1378.39 L405.547 1381.61 L342.653 1384.23 L279.759 1386.4  Z\n",
       "  \" fill=\"#008000\" fill-rule=\"evenodd\" fill-opacity=\"0.06\"/>\n",
       "<polyline clip-path=\"url(#clip852)\" style=\"stroke:#008000; stroke-linecap:butt; stroke-linejoin:round; stroke-width:4; stroke-opacity:1; fill:none\" points=\"\n",
       "  279.759,1381.47 342.653,1381.47 405.547,1381.47 468.442,1381.47 531.336,1381.47 594.23,1381.47 657.125,1381.47 720.019,1381.47 782.913,1381.47 845.808,1381.47 \n",
       "  908.702,1381.47 971.596,1381.47 1034.49,1381.47 1097.39,1381.47 1160.28,1381.47 1223.17,1381.47 1286.07,1381.47 1348.96,1381.47 1411.86,1381.47 1474.75,1381.47 \n",
       "  1537.65,1381.47 1600.54,1381.47 1663.43,1381.47 1726.33,1381.47 1789.22,1381.47 1852.12,1381.47 1915.01,1381.47 1977.91,1381.47 2040.8,1381.47 2103.69,1381.47 \n",
       "  2166.59,1381.47 2229.48,1381.47 2292.38,1381.47 \n",
       "  \"/>\n",
       "<polyline clip-path=\"url(#clip852)\" style=\"stroke:#ffa500; stroke-linecap:butt; stroke-linejoin:round; stroke-width:4; stroke-opacity:1; fill:none\" points=\"\n",
       "  279.759,1386.4 342.653,1384.23 405.547,1381.61 468.442,1378.39 531.336,1374.38 594.23,1369.31 657.125,1362.76 720.019,1354.13 782.913,1342.47 845.808,1326.21 \n",
       "  908.702,1302.74 971.596,1267.42 1034.49,1211.58 1097.39,1118.35 1160.28,954.212 1223.17,660.163 1286.07,210.406 1348.96,660.163 1411.86,954.212 1474.75,1118.35 \n",
       "  1537.65,1211.58 1600.54,1267.42 1663.43,1302.74 1726.33,1326.21 1789.22,1342.47 1852.12,1354.13 1915.01,1362.76 1977.91,1369.31 2040.8,1374.38 2103.69,1378.39 \n",
       "  2166.59,1381.61 2229.48,1384.23 2292.38,1386.4 \n",
       "  \"/>\n",
       "<path clip-path=\"url(#clip852)\" d=\"M279.759 1370.4 L275.999 1381.21 L264.543 1381.45 L273.679 1388.38 L270.351 1399.34 L279.759 1392.8 L289.167 1399.34 L285.839 1388.38 L294.975 1381.45 L283.519 1381.21 L279.759 1370.4 Z\" fill=\"#ffa500\" fill-rule=\"evenodd\" fill-opacity=\"1\" stroke=\"#000000\" stroke-opacity=\"1\" stroke-width=\"3.2\"/>\n",
       "<path clip-path=\"url(#clip852)\" d=\"M342.653 1368.23 L338.893 1379.05 L327.437 1379.29 L336.573 1386.21 L333.245 1397.17 L342.653 1390.63 L352.061 1397.17 L348.733 1386.21 L357.869 1379.29 L346.413 1379.05 L342.653 1368.23 Z\" fill=\"#ffa500\" fill-rule=\"evenodd\" fill-opacity=\"1\" stroke=\"#000000\" stroke-opacity=\"1\" stroke-width=\"3.2\"/>\n",
       "<path clip-path=\"url(#clip852)\" d=\"M405.547 1365.61 L401.787 1376.42 L390.331 1376.66 L399.467 1383.59 L396.139 1394.55 L405.547 1388.01 L414.955 1394.55 L411.627 1383.59 L420.763 1376.66 L409.307 1376.42 L405.547 1365.61 Z\" fill=\"#ffa500\" fill-rule=\"evenodd\" fill-opacity=\"1\" stroke=\"#000000\" stroke-opacity=\"1\" stroke-width=\"3.2\"/>\n",
       "<path clip-path=\"url(#clip852)\" d=\"M468.442 1362.39 L464.682 1373.2 L453.226 1373.44 L462.362 1380.37 L459.034 1391.33 L468.442 1384.79 L477.85 1391.33 L474.522 1380.37 L483.658 1373.44 L472.202 1373.2 L468.442 1362.39 Z\" fill=\"#ffa500\" fill-rule=\"evenodd\" fill-opacity=\"1\" stroke=\"#000000\" stroke-opacity=\"1\" stroke-width=\"3.2\"/>\n",
       "<path clip-path=\"url(#clip852)\" d=\"M531.336 1358.38 L527.576 1369.19 L516.12 1369.43 L525.256 1376.36 L521.928 1387.32 L531.336 1380.78 L540.744 1387.32 L537.416 1376.36 L546.552 1369.43 L535.096 1369.19 L531.336 1358.38 Z\" fill=\"#ffa500\" fill-rule=\"evenodd\" fill-opacity=\"1\" stroke=\"#000000\" stroke-opacity=\"1\" stroke-width=\"3.2\"/>\n",
       "<path clip-path=\"url(#clip852)\" d=\"M594.23 1353.31 L590.47 1364.12 L579.014 1364.36 L588.15 1371.29 L584.822 1382.25 L594.23 1375.71 L603.638 1382.25 L600.31 1371.29 L609.446 1364.36 L597.99 1364.12 L594.23 1353.31 Z\" fill=\"#ffa500\" fill-rule=\"evenodd\" fill-opacity=\"1\" stroke=\"#000000\" stroke-opacity=\"1\" stroke-width=\"3.2\"/>\n",
       "<path clip-path=\"url(#clip852)\" d=\"M657.125 1346.76 L653.365 1357.58 L641.909 1357.82 L651.045 1364.74 L647.717 1375.7 L657.125 1369.16 L666.533 1375.7 L663.205 1364.74 L672.341 1357.82 L660.885 1357.58 L657.125 1346.76 Z\" fill=\"#ffa500\" fill-rule=\"evenodd\" fill-opacity=\"1\" stroke=\"#000000\" stroke-opacity=\"1\" stroke-width=\"3.2\"/>\n",
       "<path clip-path=\"url(#clip852)\" d=\"M720.019 1338.13 L716.259 1348.95 L704.803 1349.19 L713.939 1356.12 L710.611 1367.08 L720.019 1360.53 L729.427 1367.08 L726.099 1356.12 L735.235 1349.19 L723.779 1348.95 L720.019 1338.13 Z\" fill=\"#ffa500\" fill-rule=\"evenodd\" fill-opacity=\"1\" stroke=\"#000000\" stroke-opacity=\"1\" stroke-width=\"3.2\"/>\n",
       "<path clip-path=\"url(#clip852)\" d=\"M782.913 1326.47 L779.153 1337.28 L767.697 1337.52 L776.833 1344.45 L773.505 1355.41 L782.913 1348.87 L792.321 1355.41 L788.993 1344.45 L798.129 1337.52 L786.673 1337.28 L782.913 1326.47 Z\" fill=\"#ffa500\" fill-rule=\"evenodd\" fill-opacity=\"1\" stroke=\"#000000\" stroke-opacity=\"1\" stroke-width=\"3.2\"/>\n",
       "<path clip-path=\"url(#clip852)\" d=\"M845.808 1310.21 L842.048 1321.03 L830.592 1321.27 L839.728 1328.19 L836.4 1339.15 L845.808 1332.61 L855.216 1339.15 L851.888 1328.19 L861.024 1321.27 L849.568 1321.03 L845.808 1310.21 Z\" fill=\"#ffa500\" fill-rule=\"evenodd\" fill-opacity=\"1\" stroke=\"#000000\" stroke-opacity=\"1\" stroke-width=\"3.2\"/>\n",
       "<path clip-path=\"url(#clip852)\" d=\"M908.702 1286.74 L904.942 1297.56 L893.486 1297.8 L902.622 1304.72 L899.294 1315.68 L908.702 1309.14 L918.11 1315.68 L914.782 1304.72 L923.918 1297.8 L912.462 1297.56 L908.702 1286.74 Z\" fill=\"#ffa500\" fill-rule=\"evenodd\" fill-opacity=\"1\" stroke=\"#000000\" stroke-opacity=\"1\" stroke-width=\"3.2\"/>\n",
       "<path clip-path=\"url(#clip852)\" d=\"M971.596 1251.42 L967.836 1262.23 L956.38 1262.47 L965.516 1269.4 L962.188 1280.36 L971.596 1273.82 L981.004 1280.36 L977.676 1269.4 L986.812 1262.47 L975.356 1262.23 L971.596 1251.42 Z\" fill=\"#ffa500\" fill-rule=\"evenodd\" fill-opacity=\"1\" stroke=\"#000000\" stroke-opacity=\"1\" stroke-width=\"3.2\"/>\n",
       "<path clip-path=\"url(#clip852)\" d=\"M1034.49 1195.58 L1030.73 1206.39 L1019.27 1206.63 L1028.41 1213.56 L1025.08 1224.52 L1034.49 1217.98 L1043.9 1224.52 L1040.57 1213.56 L1049.71 1206.63 L1038.25 1206.39 L1034.49 1195.58 Z\" fill=\"#ffa500\" fill-rule=\"evenodd\" fill-opacity=\"1\" stroke=\"#000000\" stroke-opacity=\"1\" stroke-width=\"3.2\"/>\n",
       "<path clip-path=\"url(#clip852)\" d=\"M1097.39 1102.35 L1093.63 1113.17 L1082.17 1113.41 L1091.31 1120.34 L1087.98 1131.3 L1097.39 1124.75 L1106.79 1131.3 L1103.47 1120.34 L1112.6 1113.41 L1101.15 1113.17 L1097.39 1102.35 Z\" fill=\"#ffa500\" fill-rule=\"evenodd\" fill-opacity=\"1\" stroke=\"#000000\" stroke-opacity=\"1\" stroke-width=\"3.2\"/>\n",
       "<path clip-path=\"url(#clip852)\" d=\"M1160.28 938.212 L1156.52 949.028 L1145.06 949.268 L1154.2 956.196 L1150.87 967.156 L1160.28 960.612 L1169.69 967.156 L1166.36 956.196 L1175.5 949.268 L1164.04 949.028 L1160.28 938.212 Z\" fill=\"#ffa500\" fill-rule=\"evenodd\" fill-opacity=\"1\" stroke=\"#000000\" stroke-opacity=\"1\" stroke-width=\"3.2\"/>\n",
       "<path clip-path=\"url(#clip852)\" d=\"M1223.17 644.163 L1219.41 654.979 L1207.96 655.219 L1217.09 662.147 L1213.77 673.107 L1223.17 666.563 L1232.58 673.107 L1229.25 662.147 L1238.39 655.219 L1226.93 654.979 L1223.17 644.163 Z\" fill=\"#ffa500\" fill-rule=\"evenodd\" fill-opacity=\"1\" stroke=\"#000000\" stroke-opacity=\"1\" stroke-width=\"3.2\"/>\n",
       "<path clip-path=\"url(#clip852)\" d=\"M1286.07 194.406 L1282.31 205.222 L1270.85 205.462 L1279.99 212.39 L1276.66 223.35 L1286.07 216.806 L1295.48 223.35 L1292.15 212.39 L1301.28 205.462 L1289.83 205.222 L1286.07 194.406 Z\" fill=\"#ffa500\" fill-rule=\"evenodd\" fill-opacity=\"1\" stroke=\"#000000\" stroke-opacity=\"1\" stroke-width=\"3.2\"/>\n",
       "<path clip-path=\"url(#clip852)\" d=\"M1348.96 644.163 L1345.2 654.979 L1333.75 655.219 L1342.88 662.147 L1339.55 673.107 L1348.96 666.563 L1358.37 673.107 L1355.04 662.147 L1364.18 655.219 L1352.72 654.979 L1348.96 644.163 Z\" fill=\"#ffa500\" fill-rule=\"evenodd\" fill-opacity=\"1\" stroke=\"#000000\" stroke-opacity=\"1\" stroke-width=\"3.2\"/>\n",
       "<path clip-path=\"url(#clip852)\" d=\"M1411.86 938.212 L1408.1 949.028 L1396.64 949.268 L1405.78 956.196 L1402.45 967.156 L1411.86 960.612 L1421.26 967.156 L1417.94 956.196 L1427.07 949.268 L1415.62 949.028 L1411.86 938.212 Z\" fill=\"#ffa500\" fill-rule=\"evenodd\" fill-opacity=\"1\" stroke=\"#000000\" stroke-opacity=\"1\" stroke-width=\"3.2\"/>\n",
       "<path clip-path=\"url(#clip852)\" d=\"M1474.75 1102.35 L1470.99 1113.17 L1459.54 1113.41 L1468.67 1120.34 L1465.34 1131.3 L1474.75 1124.75 L1484.16 1131.3 L1480.83 1120.34 L1489.97 1113.41 L1478.51 1113.17 L1474.75 1102.35 Z\" fill=\"#ffa500\" fill-rule=\"evenodd\" fill-opacity=\"1\" stroke=\"#000000\" stroke-opacity=\"1\" stroke-width=\"3.2\"/>\n",
       "<path clip-path=\"url(#clip852)\" d=\"M1537.65 1195.58 L1533.89 1206.39 L1522.43 1206.63 L1531.57 1213.56 L1528.24 1224.52 L1537.65 1217.98 L1547.05 1224.52 L1543.73 1213.56 L1552.86 1206.63 L1541.41 1206.39 L1537.65 1195.58 Z\" fill=\"#ffa500\" fill-rule=\"evenodd\" fill-opacity=\"1\" stroke=\"#000000\" stroke-opacity=\"1\" stroke-width=\"3.2\"/>\n",
       "<path clip-path=\"url(#clip852)\" d=\"M1600.54 1251.42 L1596.78 1262.23 L1585.32 1262.47 L1594.46 1269.4 L1591.13 1280.36 L1600.54 1273.82 L1609.95 1280.36 L1606.62 1269.4 L1615.76 1262.47 L1604.3 1262.23 L1600.54 1251.42 Z\" fill=\"#ffa500\" fill-rule=\"evenodd\" fill-opacity=\"1\" stroke=\"#000000\" stroke-opacity=\"1\" stroke-width=\"3.2\"/>\n",
       "<path clip-path=\"url(#clip852)\" d=\"M1663.43 1286.74 L1659.67 1297.56 L1648.22 1297.8 L1657.35 1304.72 L1654.03 1315.68 L1663.43 1309.14 L1672.84 1315.68 L1669.51 1304.72 L1678.65 1297.8 L1667.19 1297.56 L1663.43 1286.74 Z\" fill=\"#ffa500\" fill-rule=\"evenodd\" fill-opacity=\"1\" stroke=\"#000000\" stroke-opacity=\"1\" stroke-width=\"3.2\"/>\n",
       "<path clip-path=\"url(#clip852)\" d=\"M1726.33 1310.21 L1722.57 1321.03 L1711.11 1321.27 L1720.25 1328.19 L1716.92 1339.15 L1726.33 1332.61 L1735.74 1339.15 L1732.41 1328.19 L1741.54 1321.27 L1730.09 1321.03 L1726.33 1310.21 Z\" fill=\"#ffa500\" fill-rule=\"evenodd\" fill-opacity=\"1\" stroke=\"#000000\" stroke-opacity=\"1\" stroke-width=\"3.2\"/>\n",
       "<path clip-path=\"url(#clip852)\" d=\"M1789.22 1326.47 L1785.46 1337.28 L1774.01 1337.52 L1783.14 1344.45 L1779.81 1355.41 L1789.22 1348.87 L1798.63 1355.41 L1795.3 1344.45 L1804.44 1337.52 L1792.98 1337.28 L1789.22 1326.47 Z\" fill=\"#ffa500\" fill-rule=\"evenodd\" fill-opacity=\"1\" stroke=\"#000000\" stroke-opacity=\"1\" stroke-width=\"3.2\"/>\n",
       "<path clip-path=\"url(#clip852)\" d=\"M1852.12 1338.13 L1848.36 1348.95 L1836.9 1349.19 L1846.04 1356.12 L1842.71 1367.08 L1852.12 1360.53 L1861.53 1367.08 L1858.2 1356.12 L1867.33 1349.19 L1855.88 1348.95 L1852.12 1338.13 Z\" fill=\"#ffa500\" fill-rule=\"evenodd\" fill-opacity=\"1\" stroke=\"#000000\" stroke-opacity=\"1\" stroke-width=\"3.2\"/>\n",
       "<path clip-path=\"url(#clip852)\" d=\"M1915.01 1346.76 L1911.25 1357.58 L1899.8 1357.82 L1908.93 1364.74 L1905.6 1375.7 L1915.01 1369.16 L1924.42 1375.7 L1921.09 1364.74 L1930.23 1357.82 L1918.77 1357.58 L1915.01 1346.76 Z\" fill=\"#ffa500\" fill-rule=\"evenodd\" fill-opacity=\"1\" stroke=\"#000000\" stroke-opacity=\"1\" stroke-width=\"3.2\"/>\n",
       "<path clip-path=\"url(#clip852)\" d=\"M1977.91 1353.31 L1974.15 1364.12 L1962.69 1364.36 L1971.83 1371.29 L1968.5 1382.25 L1977.91 1375.71 L1987.31 1382.25 L1983.99 1371.29 L1993.12 1364.36 L1981.67 1364.12 L1977.91 1353.31 Z\" fill=\"#ffa500\" fill-rule=\"evenodd\" fill-opacity=\"1\" stroke=\"#000000\" stroke-opacity=\"1\" stroke-width=\"3.2\"/>\n",
       "<path clip-path=\"url(#clip852)\" d=\"M2040.8 1358.38 L2037.04 1369.19 L2025.58 1369.43 L2034.72 1376.36 L2031.39 1387.32 L2040.8 1380.78 L2050.21 1387.32 L2046.88 1376.36 L2056.02 1369.43 L2044.56 1369.19 L2040.8 1358.38 Z\" fill=\"#ffa500\" fill-rule=\"evenodd\" fill-opacity=\"1\" stroke=\"#000000\" stroke-opacity=\"1\" stroke-width=\"3.2\"/>\n",
       "<path clip-path=\"url(#clip852)\" d=\"M2103.69 1362.39 L2099.93 1373.2 L2088.48 1373.44 L2097.61 1380.37 L2094.29 1391.33 L2103.69 1384.79 L2113.1 1391.33 L2109.77 1380.37 L2118.91 1373.44 L2107.45 1373.2 L2103.69 1362.39 Z\" fill=\"#ffa500\" fill-rule=\"evenodd\" fill-opacity=\"1\" stroke=\"#000000\" stroke-opacity=\"1\" stroke-width=\"3.2\"/>\n",
       "<path clip-path=\"url(#clip852)\" d=\"M2166.59 1365.61 L2162.83 1376.42 L2151.37 1376.66 L2160.51 1383.59 L2157.18 1394.55 L2166.59 1388.01 L2176 1394.55 L2172.67 1383.59 L2181.8 1376.66 L2170.35 1376.42 L2166.59 1365.61 Z\" fill=\"#ffa500\" fill-rule=\"evenodd\" fill-opacity=\"1\" stroke=\"#000000\" stroke-opacity=\"1\" stroke-width=\"3.2\"/>\n",
       "<path clip-path=\"url(#clip852)\" d=\"M2229.48 1368.23 L2225.72 1379.05 L2214.27 1379.29 L2223.4 1386.21 L2220.08 1397.17 L2229.48 1390.63 L2238.89 1397.17 L2235.56 1386.21 L2244.7 1379.29 L2233.24 1379.05 L2229.48 1368.23 Z\" fill=\"#ffa500\" fill-rule=\"evenodd\" fill-opacity=\"1\" stroke=\"#000000\" stroke-opacity=\"1\" stroke-width=\"3.2\"/>\n",
       "<path clip-path=\"url(#clip852)\" d=\"M2292.38 1370.4 L2288.62 1381.21 L2277.16 1381.45 L2286.3 1388.38 L2282.97 1399.34 L2292.38 1392.8 L2301.79 1399.34 L2298.46 1388.38 L2307.59 1381.45 L2296.14 1381.21 L2292.38 1370.4 Z\" fill=\"#ffa500\" fill-rule=\"evenodd\" fill-opacity=\"1\" stroke=\"#000000\" stroke-opacity=\"1\" stroke-width=\"3.2\"/>\n",
       "<path clip-path=\"url(#clip852)\" d=\"\n",
       "M279.759 1381.47 L342.653 1381.47 L405.547 1381.47 L468.442 1381.47 L531.336 1381.47 L594.23 1381.47 L657.125 1381.47 L720.019 1381.47 L782.913 1381.47 L845.808 1381.47 \n",
       "  L908.702 1381.47 L971.596 1381.47 L1034.49 1381.47 L1097.39 1381.47 L1160.28 1381.47 L1223.17 1381.47 L1286.07 1381.47 L1348.96 1381.47 L1411.86 1381.47 L1474.75 1381.47 \n",
       "  L1537.65 1381.47 L1600.54 1381.47 L1663.43 1381.47 L1726.33 1381.47 L1789.22 1381.47 L1852.12 1381.47 L1915.01 1381.47 L1977.91 1381.47 L2040.8 1381.47 L2103.69 1381.47 \n",
       "  L2166.59 1381.47 L2229.48 1381.47 L2292.38 1381.47 L2292.38 1386.4 L2229.48 1384.23 L2166.59 1381.61 L2103.69 1378.39 L2040.8 1374.38 L1977.91 1369.31 L1915.01 1362.76 \n",
       "  L1852.12 1354.13 L1789.22 1342.47 L1726.33 1326.21 L1663.43 1302.74 L1600.54 1267.42 L1537.65 1211.58 L1474.75 1118.35 L1411.86 954.212 L1348.96 660.163 L1286.07 210.406 \n",
       "  L1223.17 660.163 L1160.28 954.212 L1097.39 1118.35 L1034.49 1211.58 L971.596 1267.42 L908.702 1302.74 L845.808 1326.21 L782.913 1342.47 L720.019 1354.13 L657.125 1362.76 \n",
       "  L594.23 1369.31 L531.336 1374.38 L468.442 1378.39 L405.547 1381.61 L342.653 1384.23 L279.759 1386.4  Z\n",
       "  \" fill=\"#ffa500\" fill-rule=\"evenodd\" fill-opacity=\"0.3\"/>\n",
       "<polyline clip-path=\"url(#clip852)\" style=\"stroke:#ffa500; stroke-linecap:butt; stroke-linejoin:round; stroke-width:4; stroke-opacity:1; fill:none\" points=\"\n",
       "  279.759,1381.47 342.653,1381.47 405.547,1381.47 468.442,1381.47 531.336,1381.47 594.23,1381.47 657.125,1381.47 720.019,1381.47 782.913,1381.47 845.808,1381.47 \n",
       "  908.702,1381.47 971.596,1381.47 1034.49,1381.47 1097.39,1381.47 1160.28,1381.47 1223.17,1381.47 1286.07,1381.47 1348.96,1381.47 1411.86,1381.47 1474.75,1381.47 \n",
       "  1537.65,1381.47 1600.54,1381.47 1663.43,1381.47 1726.33,1381.47 1789.22,1381.47 1852.12,1381.47 1915.01,1381.47 1977.91,1381.47 2040.8,1381.47 2103.69,1381.47 \n",
       "  2166.59,1381.47 2229.48,1381.47 2292.38,1381.47 \n",
       "  \"/>\n",
       "<polyline clip-path=\"url(#clip852)\" style=\"stroke:#ffa500; stroke-linecap:butt; stroke-linejoin:round; stroke-width:4; stroke-opacity:1; fill:none\" points=\"\n",
       "  279.759,1378.47 342.653,1375.27 405.547,1371.41 468.442,1366.68 531.336,1360.82 594.23,1353.43 657.125,1343.96 720.019,1331.56 782.913,1314.94 845.808,1292.09 \n",
       "  908.702,1259.66 971.596,1212.01 1034.49,1139.29 1097.39,1024.1 1160.28,837.217 1223.17,541.948 1286.07,160.256 1348.96,541.948 1411.86,837.217 1474.75,1024.1 \n",
       "  1537.65,1139.29 1600.54,1212.01 1663.43,1259.66 1726.33,1292.09 1789.22,1314.94 1852.12,1331.56 1915.01,1343.96 1977.91,1353.43 2040.8,1360.82 2103.69,1366.68 \n",
       "  2166.59,1371.41 2229.48,1375.27 2292.38,1378.47 \n",
       "  \"/>\n",
       "<path clip-path=\"url(#clip852)\" d=\"M279.759 1394.47 L265.903 1386.47 L265.903 1370.47 L279.759 1362.47 L293.615 1370.47 L293.615 1386.47 Z\" fill=\"#ffa500\" fill-rule=\"evenodd\" fill-opacity=\"1\" stroke=\"#000000\" stroke-opacity=\"1\" stroke-width=\"3.2\"/>\n",
       "<path clip-path=\"url(#clip852)\" d=\"M342.653 1391.27 L328.797 1383.27 L328.797 1367.27 L342.653 1359.27 L356.509 1367.27 L356.509 1383.27 Z\" fill=\"#ffa500\" fill-rule=\"evenodd\" fill-opacity=\"1\" stroke=\"#000000\" stroke-opacity=\"1\" stroke-width=\"3.2\"/>\n",
       "<path clip-path=\"url(#clip852)\" d=\"M405.547 1387.41 L391.691 1379.41 L391.691 1363.41 L405.547 1355.41 L419.403 1363.41 L419.403 1379.41 Z\" fill=\"#ffa500\" fill-rule=\"evenodd\" fill-opacity=\"1\" stroke=\"#000000\" stroke-opacity=\"1\" stroke-width=\"3.2\"/>\n",
       "<path clip-path=\"url(#clip852)\" d=\"M468.442 1382.68 L454.586 1374.68 L454.586 1358.68 L468.442 1350.68 L482.298 1358.68 L482.298 1374.68 Z\" fill=\"#ffa500\" fill-rule=\"evenodd\" fill-opacity=\"1\" stroke=\"#000000\" stroke-opacity=\"1\" stroke-width=\"3.2\"/>\n",
       "<path clip-path=\"url(#clip852)\" d=\"M531.336 1376.82 L517.48 1368.82 L517.48 1352.82 L531.336 1344.82 L545.192 1352.82 L545.192 1368.82 Z\" fill=\"#ffa500\" fill-rule=\"evenodd\" fill-opacity=\"1\" stroke=\"#000000\" stroke-opacity=\"1\" stroke-width=\"3.2\"/>\n",
       "<path clip-path=\"url(#clip852)\" d=\"M594.23 1369.43 L580.374 1361.43 L580.374 1345.43 L594.23 1337.43 L608.086 1345.43 L608.086 1361.43 Z\" fill=\"#ffa500\" fill-rule=\"evenodd\" fill-opacity=\"1\" stroke=\"#000000\" stroke-opacity=\"1\" stroke-width=\"3.2\"/>\n",
       "<path clip-path=\"url(#clip852)\" d=\"M657.125 1359.96 L643.269 1351.96 L643.269 1335.96 L657.125 1327.96 L670.981 1335.96 L670.981 1351.96 Z\" fill=\"#ffa500\" fill-rule=\"evenodd\" fill-opacity=\"1\" stroke=\"#000000\" stroke-opacity=\"1\" stroke-width=\"3.2\"/>\n",
       "<path clip-path=\"url(#clip852)\" d=\"M720.019 1347.56 L706.163 1339.56 L706.163 1323.56 L720.019 1315.56 L733.875 1323.56 L733.875 1339.56 Z\" fill=\"#ffa500\" fill-rule=\"evenodd\" fill-opacity=\"1\" stroke=\"#000000\" stroke-opacity=\"1\" stroke-width=\"3.2\"/>\n",
       "<path clip-path=\"url(#clip852)\" d=\"M782.913 1330.94 L769.057 1322.94 L769.057 1306.94 L782.913 1298.94 L796.769 1306.94 L796.769 1322.94 Z\" fill=\"#ffa500\" fill-rule=\"evenodd\" fill-opacity=\"1\" stroke=\"#000000\" stroke-opacity=\"1\" stroke-width=\"3.2\"/>\n",
       "<path clip-path=\"url(#clip852)\" d=\"M845.808 1308.09 L831.952 1300.09 L831.952 1284.09 L845.808 1276.09 L859.664 1284.09 L859.664 1300.09 Z\" fill=\"#ffa500\" fill-rule=\"evenodd\" fill-opacity=\"1\" stroke=\"#000000\" stroke-opacity=\"1\" stroke-width=\"3.2\"/>\n",
       "<path clip-path=\"url(#clip852)\" d=\"M908.702 1275.66 L894.846 1267.66 L894.846 1251.66 L908.702 1243.66 L922.558 1251.66 L922.558 1267.66 Z\" fill=\"#ffa500\" fill-rule=\"evenodd\" fill-opacity=\"1\" stroke=\"#000000\" stroke-opacity=\"1\" stroke-width=\"3.2\"/>\n",
       "<path clip-path=\"url(#clip852)\" d=\"M971.596 1228.01 L957.74 1220.01 L957.74 1204.01 L971.596 1196.01 L985.452 1204.01 L985.452 1220.01 Z\" fill=\"#ffa500\" fill-rule=\"evenodd\" fill-opacity=\"1\" stroke=\"#000000\" stroke-opacity=\"1\" stroke-width=\"3.2\"/>\n",
       "<path clip-path=\"url(#clip852)\" d=\"M1034.49 1155.29 L1020.63 1147.29 L1020.63 1131.29 L1034.49 1123.29 L1048.35 1131.29 L1048.35 1147.29 Z\" fill=\"#ffa500\" fill-rule=\"evenodd\" fill-opacity=\"1\" stroke=\"#000000\" stroke-opacity=\"1\" stroke-width=\"3.2\"/>\n",
       "<path clip-path=\"url(#clip852)\" d=\"M1097.39 1040.1 L1083.53 1032.1 L1083.53 1016.1 L1097.39 1008.1 L1111.24 1016.1 L1111.24 1032.1 Z\" fill=\"#ffa500\" fill-rule=\"evenodd\" fill-opacity=\"1\" stroke=\"#000000\" stroke-opacity=\"1\" stroke-width=\"3.2\"/>\n",
       "<path clip-path=\"url(#clip852)\" d=\"M1160.28 853.217 L1146.42 845.217 L1146.42 829.217 L1160.28 821.217 L1174.14 829.217 L1174.14 845.217 Z\" fill=\"#ffa500\" fill-rule=\"evenodd\" fill-opacity=\"1\" stroke=\"#000000\" stroke-opacity=\"1\" stroke-width=\"3.2\"/>\n",
       "<path clip-path=\"url(#clip852)\" d=\"M1223.17 557.948 L1209.32 549.948 L1209.32 533.948 L1223.17 525.948 L1237.03 533.948 L1237.03 549.948 Z\" fill=\"#ffa500\" fill-rule=\"evenodd\" fill-opacity=\"1\" stroke=\"#000000\" stroke-opacity=\"1\" stroke-width=\"3.2\"/>\n",
       "<path clip-path=\"url(#clip852)\" d=\"M1286.07 176.256 L1272.21 168.256 L1272.21 152.256 L1286.07 144.256 L1299.92 152.256 L1299.92 168.256 Z\" fill=\"#ffa500\" fill-rule=\"evenodd\" fill-opacity=\"1\" stroke=\"#000000\" stroke-opacity=\"1\" stroke-width=\"3.2\"/>\n",
       "<path clip-path=\"url(#clip852)\" d=\"M1348.96 557.948 L1335.11 549.948 L1335.11 533.948 L1348.96 525.948 L1362.82 533.948 L1362.82 549.948 Z\" fill=\"#ffa500\" fill-rule=\"evenodd\" fill-opacity=\"1\" stroke=\"#000000\" stroke-opacity=\"1\" stroke-width=\"3.2\"/>\n",
       "<path clip-path=\"url(#clip852)\" d=\"M1411.86 853.217 L1398 845.217 L1398 829.217 L1411.86 821.217 L1425.71 829.217 L1425.71 845.217 Z\" fill=\"#ffa500\" fill-rule=\"evenodd\" fill-opacity=\"1\" stroke=\"#000000\" stroke-opacity=\"1\" stroke-width=\"3.2\"/>\n",
       "<path clip-path=\"url(#clip852)\" d=\"M1474.75 1040.1 L1460.9 1032.1 L1460.9 1016.1 L1474.75 1008.1 L1488.61 1016.1 L1488.61 1032.1 Z\" fill=\"#ffa500\" fill-rule=\"evenodd\" fill-opacity=\"1\" stroke=\"#000000\" stroke-opacity=\"1\" stroke-width=\"3.2\"/>\n",
       "<path clip-path=\"url(#clip852)\" d=\"M1537.65 1155.29 L1523.79 1147.29 L1523.79 1131.29 L1537.65 1123.29 L1551.5 1131.29 L1551.5 1147.29 Z\" fill=\"#ffa500\" fill-rule=\"evenodd\" fill-opacity=\"1\" stroke=\"#000000\" stroke-opacity=\"1\" stroke-width=\"3.2\"/>\n",
       "<path clip-path=\"url(#clip852)\" d=\"M1600.54 1228.01 L1586.68 1220.01 L1586.68 1204.01 L1600.54 1196.01 L1614.4 1204.01 L1614.4 1220.01 Z\" fill=\"#ffa500\" fill-rule=\"evenodd\" fill-opacity=\"1\" stroke=\"#000000\" stroke-opacity=\"1\" stroke-width=\"3.2\"/>\n",
       "<path clip-path=\"url(#clip852)\" d=\"M1663.43 1275.66 L1649.58 1267.66 L1649.58 1251.66 L1663.43 1243.66 L1677.29 1251.66 L1677.29 1267.66 Z\" fill=\"#ffa500\" fill-rule=\"evenodd\" fill-opacity=\"1\" stroke=\"#000000\" stroke-opacity=\"1\" stroke-width=\"3.2\"/>\n",
       "<path clip-path=\"url(#clip852)\" d=\"M1726.33 1308.09 L1712.47 1300.09 L1712.47 1284.09 L1726.33 1276.09 L1740.18 1284.09 L1740.18 1300.09 Z\" fill=\"#ffa500\" fill-rule=\"evenodd\" fill-opacity=\"1\" stroke=\"#000000\" stroke-opacity=\"1\" stroke-width=\"3.2\"/>\n",
       "<path clip-path=\"url(#clip852)\" d=\"M1789.22 1330.94 L1775.37 1322.94 L1775.37 1306.94 L1789.22 1298.94 L1803.08 1306.94 L1803.08 1322.94 Z\" fill=\"#ffa500\" fill-rule=\"evenodd\" fill-opacity=\"1\" stroke=\"#000000\" stroke-opacity=\"1\" stroke-width=\"3.2\"/>\n",
       "<path clip-path=\"url(#clip852)\" d=\"M1852.12 1347.56 L1838.26 1339.56 L1838.26 1323.56 L1852.12 1315.56 L1865.97 1323.56 L1865.97 1339.56 Z\" fill=\"#ffa500\" fill-rule=\"evenodd\" fill-opacity=\"1\" stroke=\"#000000\" stroke-opacity=\"1\" stroke-width=\"3.2\"/>\n",
       "<path clip-path=\"url(#clip852)\" d=\"M1915.01 1359.96 L1901.16 1351.96 L1901.16 1335.96 L1915.01 1327.96 L1928.87 1335.96 L1928.87 1351.96 Z\" fill=\"#ffa500\" fill-rule=\"evenodd\" fill-opacity=\"1\" stroke=\"#000000\" stroke-opacity=\"1\" stroke-width=\"3.2\"/>\n",
       "<path clip-path=\"url(#clip852)\" d=\"M1977.91 1369.43 L1964.05 1361.43 L1964.05 1345.43 L1977.91 1337.43 L1991.76 1345.43 L1991.76 1361.43 Z\" fill=\"#ffa500\" fill-rule=\"evenodd\" fill-opacity=\"1\" stroke=\"#000000\" stroke-opacity=\"1\" stroke-width=\"3.2\"/>\n",
       "<path clip-path=\"url(#clip852)\" d=\"M2040.8 1376.82 L2026.94 1368.82 L2026.94 1352.82 L2040.8 1344.82 L2054.66 1352.82 L2054.66 1368.82 Z\" fill=\"#ffa500\" fill-rule=\"evenodd\" fill-opacity=\"1\" stroke=\"#000000\" stroke-opacity=\"1\" stroke-width=\"3.2\"/>\n",
       "<path clip-path=\"url(#clip852)\" d=\"M2103.69 1382.68 L2089.84 1374.68 L2089.84 1358.68 L2103.69 1350.68 L2117.55 1358.68 L2117.55 1374.68 Z\" fill=\"#ffa500\" fill-rule=\"evenodd\" fill-opacity=\"1\" stroke=\"#000000\" stroke-opacity=\"1\" stroke-width=\"3.2\"/>\n",
       "<path clip-path=\"url(#clip852)\" d=\"M2166.59 1387.41 L2152.73 1379.41 L2152.73 1363.41 L2166.59 1355.41 L2180.44 1363.41 L2180.44 1379.41 Z\" fill=\"#ffa500\" fill-rule=\"evenodd\" fill-opacity=\"1\" stroke=\"#000000\" stroke-opacity=\"1\" stroke-width=\"3.2\"/>\n",
       "<path clip-path=\"url(#clip852)\" d=\"M2229.48 1391.27 L2215.63 1383.27 L2215.63 1367.27 L2229.48 1359.27 L2243.34 1367.27 L2243.34 1383.27 Z\" fill=\"#ffa500\" fill-rule=\"evenodd\" fill-opacity=\"1\" stroke=\"#000000\" stroke-opacity=\"1\" stroke-width=\"3.2\"/>\n",
       "<path clip-path=\"url(#clip852)\" d=\"M2292.38 1394.47 L2278.52 1386.47 L2278.52 1370.47 L2292.38 1362.47 L2306.23 1370.47 L2306.23 1386.47 Z\" fill=\"#ffa500\" fill-rule=\"evenodd\" fill-opacity=\"1\" stroke=\"#000000\" stroke-opacity=\"1\" stroke-width=\"3.2\"/>\n",
       "<path clip-path=\"url(#clip850)\" d=\"\n",
       "M1685.07 374.156 L2281.64 374.156 L2281.64 166.796 L1685.07 166.796  Z\n",
       "  \" fill=\"#ffffff\" fill-rule=\"evenodd\" fill-opacity=\"1\"/>\n",
       "<polyline clip-path=\"url(#clip850)\" style=\"stroke:#000000; stroke-linecap:butt; stroke-linejoin:round; stroke-width:4; stroke-opacity:1; fill:none\" points=\"\n",
       "  1685.07,374.156 2281.64,374.156 2281.64,166.796 1685.07,166.796 1685.07,374.156 \n",
       "  \"/>\n",
       "<polyline clip-path=\"url(#clip850)\" style=\"stroke:#008000; stroke-linecap:butt; stroke-linejoin:round; stroke-width:4; stroke-opacity:1; fill:none\" points=\"\n",
       "  1708.77,218.636 1851,218.636 \n",
       "  \"/>\n",
       "<circle clip-path=\"url(#clip850)\" cx=\"1779.88\" cy=\"218.636\" r=\"23\" fill=\"#008000\" fill-rule=\"evenodd\" fill-opacity=\"1\" stroke=\"#000000\" stroke-opacity=\"1\" stroke-width=\"5.12\"/>\n",
       "<path clip-path=\"url(#clip850)\" d=\"M1889.89 213.971 Q1889.17 213.555 1888.31 213.37 Q1887.48 213.161 1886.46 213.161 Q1882.85 213.161 1880.9 215.522 Q1878.98 217.86 1878.98 222.258 L1878.98 235.916 L1874.7 235.916 L1874.7 209.99 L1878.98 209.99 L1878.98 214.018 Q1880.32 211.657 1882.48 210.522 Q1884.63 209.365 1887.71 209.365 Q1888.15 209.365 1888.68 209.434 Q1889.21 209.481 1889.86 209.596 L1889.89 213.971 Z\" fill=\"#000000\" fill-rule=\"evenodd\" fill-opacity=\"1\" /><path clip-path=\"url(#clip850)\" d=\"M1894.35 209.99 L1898.61 209.99 L1898.61 235.916 L1894.35 235.916 L1894.35 209.99 M1894.35 199.897 L1898.61 199.897 L1898.61 205.291 L1894.35 205.291 L1894.35 199.897 Z\" fill=\"#000000\" fill-rule=\"evenodd\" fill-opacity=\"1\" /><path clip-path=\"url(#clip850)\" d=\"M1926.18 210.985 L1926.18 214.967 Q1924.38 213.971 1922.55 213.485 Q1920.74 212.976 1918.89 212.976 Q1914.75 212.976 1912.45 215.615 Q1910.16 218.231 1910.16 222.976 Q1910.16 227.721 1912.45 230.36 Q1914.75 232.976 1918.89 232.976 Q1920.74 232.976 1922.55 232.49 Q1924.38 231.981 1926.18 230.985 L1926.18 234.92 Q1924.4 235.754 1922.48 236.17 Q1920.58 236.587 1918.43 236.587 Q1912.57 236.587 1909.12 232.906 Q1905.67 229.226 1905.67 222.976 Q1905.67 216.633 1909.14 212.999 Q1912.64 209.365 1918.7 209.365 Q1920.67 209.365 1922.55 209.782 Q1924.42 210.175 1926.18 210.985 Z\" fill=\"#000000\" fill-rule=\"evenodd\" fill-opacity=\"1\" /><path clip-path=\"url(#clip850)\" d=\"M1955.14 220.268 L1955.14 235.916 L1950.88 235.916 L1950.88 220.407 Q1950.88 216.726 1949.44 214.897 Q1948.01 213.069 1945.14 213.069 Q1941.69 213.069 1939.7 215.268 Q1937.71 217.467 1937.71 221.263 L1937.71 235.916 L1933.43 235.916 L1933.43 199.897 L1937.71 199.897 L1937.71 214.018 Q1939.24 211.68 1941.3 210.522 Q1943.38 209.365 1946.09 209.365 Q1950.56 209.365 1952.85 212.143 Q1955.14 214.897 1955.14 220.268 Z\" fill=\"#000000\" fill-rule=\"evenodd\" fill-opacity=\"1\" /><path clip-path=\"url(#clip850)\" d=\"M1975.42 222.883 Q1970.25 222.883 1968.26 224.064 Q1966.27 225.244 1966.27 228.092 Q1966.27 230.36 1967.75 231.703 Q1969.26 233.022 1971.83 233.022 Q1975.37 233.022 1977.5 230.522 Q1979.65 227.999 1979.65 223.832 L1979.65 222.883 L1975.42 222.883 M1983.91 221.124 L1983.91 235.916 L1979.65 235.916 L1979.65 231.981 Q1978.19 234.342 1976.02 235.476 Q1973.84 236.587 1970.69 236.587 Q1966.71 236.587 1964.35 234.365 Q1962.01 232.119 1962.01 228.369 Q1962.01 223.994 1964.93 221.772 Q1967.87 219.55 1973.68 219.55 L1979.65 219.55 L1979.65 219.133 Q1979.65 216.194 1977.71 214.596 Q1975.79 212.976 1972.29 212.976 Q1970.07 212.976 1967.96 213.508 Q1965.86 214.041 1963.91 215.106 L1963.91 211.17 Q1966.25 210.268 1968.45 209.828 Q1970.65 209.365 1972.73 209.365 Q1978.36 209.365 1981.13 212.282 Q1983.91 215.198 1983.91 221.124 Z\" fill=\"#000000\" fill-rule=\"evenodd\" fill-opacity=\"1\" /><path clip-path=\"url(#clip850)\" d=\"M2007.71 213.971 Q2006.99 213.555 2006.13 213.37 Q2005.3 213.161 2004.28 213.161 Q2000.67 213.161 1998.73 215.522 Q1996.81 217.86 1996.81 222.258 L1996.81 235.916 L1992.52 235.916 L1992.52 209.99 L1996.81 209.99 L1996.81 214.018 Q1998.15 211.657 2000.3 210.522 Q2002.45 209.365 2005.53 209.365 Q2005.97 209.365 2006.5 209.434 Q2007.04 209.481 2007.69 209.596 L2007.71 213.971 Z\" fill=\"#000000\" fill-rule=\"evenodd\" fill-opacity=\"1\" /><path clip-path=\"url(#clip850)\" d=\"M2028.4 213.925 L2028.4 199.897 L2032.66 199.897 L2032.66 235.916 L2028.4 235.916 L2028.4 232.027 Q2027.06 234.342 2025 235.476 Q2022.96 236.587 2020.09 236.587 Q2015.39 236.587 2012.43 232.837 Q2009.49 229.087 2009.49 222.976 Q2009.49 216.865 2012.43 213.115 Q2015.39 209.365 2020.09 209.365 Q2022.96 209.365 2025 210.499 Q2027.06 211.61 2028.4 213.925 M2013.89 222.976 Q2013.89 227.675 2015.81 230.36 Q2017.75 233.022 2021.13 233.022 Q2024.51 233.022 2026.46 230.36 Q2028.4 227.675 2028.4 222.976 Q2028.4 218.277 2026.46 215.615 Q2024.51 212.93 2021.13 212.93 Q2017.75 212.93 2015.81 215.615 Q2013.89 218.277 2013.89 222.976 Z\" fill=\"#000000\" fill-rule=\"evenodd\" fill-opacity=\"1\" /><path clip-path=\"url(#clip850)\" d=\"M2057.96 210.754 L2057.96 214.782 Q2056.16 213.856 2054.21 213.393 Q2052.27 212.93 2050.19 212.93 Q2047.01 212.93 2045.42 213.902 Q2043.84 214.874 2043.84 216.819 Q2043.84 218.3 2044.98 219.157 Q2046.11 219.99 2049.54 220.754 L2051 221.078 Q2055.53 222.05 2057.43 223.832 Q2059.35 225.592 2059.35 228.763 Q2059.35 232.374 2056.48 234.481 Q2053.63 236.587 2048.63 236.587 Q2046.55 236.587 2044.28 236.17 Q2042.04 235.777 2039.54 234.967 L2039.54 230.569 Q2041.9 231.795 2044.19 232.42 Q2046.48 233.022 2048.73 233.022 Q2051.74 233.022 2053.36 232.004 Q2054.98 230.962 2054.98 229.087 Q2054.98 227.351 2053.8 226.425 Q2052.64 225.499 2048.68 224.643 L2047.2 224.295 Q2043.24 223.462 2041.48 221.749 Q2039.72 220.013 2039.72 217.004 Q2039.72 213.346 2042.31 211.356 Q2044.91 209.365 2049.68 209.365 Q2052.04 209.365 2054.12 209.712 Q2056.2 210.059 2057.96 210.754 Z\" fill=\"#000000\" fill-rule=\"evenodd\" fill-opacity=\"1\" /><path clip-path=\"url(#clip850)\" d=\"M2076.18 212.976 Q2072.75 212.976 2070.76 215.661 Q2068.77 218.323 2068.77 222.976 Q2068.77 227.629 2070.74 230.314 Q2072.73 232.976 2076.18 232.976 Q2079.58 232.976 2081.57 230.291 Q2083.56 227.606 2083.56 222.976 Q2083.56 218.37 2081.57 215.684 Q2079.58 212.976 2076.18 212.976 M2076.18 209.365 Q2081.74 209.365 2084.91 212.976 Q2088.08 216.587 2088.08 222.976 Q2088.08 229.342 2084.91 232.976 Q2081.74 236.587 2076.18 236.587 Q2070.6 236.587 2067.43 232.976 Q2064.28 229.342 2064.28 222.976 Q2064.28 216.587 2067.43 212.976 Q2070.6 209.365 2076.18 209.365 Z\" fill=\"#000000\" fill-rule=\"evenodd\" fill-opacity=\"1\" /><path clip-path=\"url(#clip850)\" d=\"M2116.69 220.268 L2116.69 235.916 L2112.43 235.916 L2112.43 220.407 Q2112.43 216.726 2110.99 214.897 Q2109.56 213.069 2106.69 213.069 Q2103.24 213.069 2101.25 215.268 Q2099.26 217.467 2099.26 221.263 L2099.26 235.916 L2094.98 235.916 L2094.98 209.99 L2099.26 209.99 L2099.26 214.018 Q2100.79 211.68 2102.85 210.522 Q2104.93 209.365 2107.64 209.365 Q2112.11 209.365 2114.4 212.143 Q2116.69 214.897 2116.69 220.268 Z\" fill=\"#000000\" fill-rule=\"evenodd\" fill-opacity=\"1\" /><polyline clip-path=\"url(#clip850)\" style=\"stroke:#ffa500; stroke-linecap:butt; stroke-linejoin:round; stroke-width:4; stroke-opacity:1; fill:none\" points=\"\n",
       "  1708.77,270.476 1851,270.476 \n",
       "  \"/>\n",
       "<path clip-path=\"url(#clip850)\" d=\"M1779.88 244.876 L1773.87 262.181 L1755.54 262.565 L1770.16 273.65 L1764.83 291.186 L1779.88 280.716 L1794.94 291.186 L1789.61 273.65 L1804.23 262.565 L1785.9 262.181 L1779.88 244.876 Z\" fill=\"#ffa500\" fill-rule=\"evenodd\" fill-opacity=\"1\" stroke=\"#000000\" stroke-opacity=\"1\" stroke-width=\"5.12\"/>\n",
       "<path clip-path=\"url(#clip850)\" d=\"M1896.41 272.108 L1896.41 287.756 L1892.15 287.756 L1892.15 272.247 Q1892.15 268.566 1890.72 266.737 Q1889.28 264.909 1886.41 264.909 Q1882.96 264.909 1880.97 267.108 Q1878.98 269.307 1878.98 273.103 L1878.98 287.756 L1874.7 287.756 L1874.7 261.83 L1878.98 261.83 L1878.98 265.858 Q1880.51 263.52 1882.57 262.362 Q1884.65 261.205 1887.36 261.205 Q1891.83 261.205 1894.12 263.983 Q1896.41 266.737 1896.41 272.108 Z\" fill=\"#000000\" fill-rule=\"evenodd\" fill-opacity=\"1\" /><path clip-path=\"url(#clip850)\" d=\"M1916.69 274.723 Q1911.53 274.723 1909.54 275.904 Q1907.55 277.084 1907.55 279.932 Q1907.55 282.2 1909.03 283.543 Q1910.53 284.862 1913.1 284.862 Q1916.64 284.862 1918.77 282.362 Q1920.93 279.839 1920.93 275.672 L1920.93 274.723 L1916.69 274.723 M1925.19 272.964 L1925.19 287.756 L1920.93 287.756 L1920.93 283.821 Q1919.47 286.182 1917.29 287.316 Q1915.12 288.427 1911.97 288.427 Q1907.99 288.427 1905.63 286.205 Q1903.29 283.959 1903.29 280.209 Q1903.29 275.834 1906.2 273.612 Q1909.14 271.39 1914.95 271.39 L1920.93 271.39 L1920.93 270.973 Q1920.93 268.034 1918.98 266.436 Q1917.06 264.816 1913.57 264.816 Q1911.34 264.816 1909.24 265.348 Q1907.13 265.881 1905.19 266.946 L1905.19 263.01 Q1907.52 262.108 1909.72 261.668 Q1911.92 261.205 1914.01 261.205 Q1919.63 261.205 1922.41 264.122 Q1925.19 267.038 1925.19 272.964 Z\" fill=\"#000000\" fill-rule=\"evenodd\" fill-opacity=\"1\" /><path clip-path=\"url(#clip850)\" d=\"M1933.96 261.83 L1938.22 261.83 L1938.22 287.756 L1933.96 287.756 L1933.96 261.83 M1933.96 251.737 L1938.22 251.737 L1938.22 257.131 L1933.96 257.131 L1933.96 251.737 Z\" fill=\"#000000\" fill-rule=\"evenodd\" fill-opacity=\"1\" /><path clip-path=\"url(#clip850)\" d=\"M1944.07 261.83 L1948.59 261.83 L1956.69 283.589 L1964.79 261.83 L1969.31 261.83 L1959.58 287.756 L1953.8 287.756 L1944.07 261.83 Z\" fill=\"#000000\" fill-rule=\"evenodd\" fill-opacity=\"1\" /><path clip-path=\"url(#clip850)\" d=\"M1997.36 273.728 L1997.36 275.811 L1977.78 275.811 Q1978.06 280.209 1980.42 282.524 Q1982.8 284.816 1987.04 284.816 Q1989.49 284.816 1991.78 284.214 Q1994.1 283.612 1996.37 282.409 L1996.37 286.436 Q1994.07 287.408 1991.67 287.918 Q1989.26 288.427 1986.78 288.427 Q1980.58 288.427 1976.94 284.816 Q1973.33 281.205 1973.33 275.047 Q1973.33 268.682 1976.76 264.955 Q1980.21 261.205 1986.04 261.205 Q1991.27 261.205 1994.31 264.585 Q1997.36 267.941 1997.36 273.728 M1993.1 272.478 Q1993.06 268.983 1991.13 266.899 Q1989.24 264.816 1986.09 264.816 Q1982.52 264.816 1980.37 266.83 Q1978.24 268.844 1977.92 272.501 L1993.1 272.478 Z\" fill=\"#000000\" fill-rule=\"evenodd\" fill-opacity=\"1\" /><polyline clip-path=\"url(#clip850)\" style=\"stroke:#ffa500; stroke-linecap:butt; stroke-linejoin:round; stroke-width:4; stroke-opacity:1; fill:none\" points=\"\n",
       "  1708.77,322.316 1851,322.316 \n",
       "  \"/>\n",
       "<path clip-path=\"url(#clip850)\" d=\"M1779.88 347.916 L1757.71 335.116 L1757.71 309.516 L1779.88 296.716 L1802.05 309.516 L1802.05 335.116 Z\" fill=\"#ffa500\" fill-rule=\"evenodd\" fill-opacity=\"1\" stroke=\"#000000\" stroke-opacity=\"1\" stroke-width=\"5.12\"/>\n",
       "<path clip-path=\"url(#clip850)\" d=\"M1880.07 335.661 L1896.97 335.661 L1896.97 339.596 L1874.7 339.596 L1874.7 335.661 L1885.79 321.216 L1874.7 308.971 L1874.7 305.036 L1896.55 305.036 L1896.55 308.971 L1880.07 308.971 L1891.16 321.124 L1880.07 335.661 Z\" fill=\"#000000\" fill-rule=\"evenodd\" fill-opacity=\"1\" /><path clip-path=\"url(#clip850)\" d=\"M1924.17 347.466 L1924.17 350.776 L1899.54 350.776 L1899.54 347.466 L1924.17 347.466 Z\" fill=\"#000000\" fill-rule=\"evenodd\" fill-opacity=\"1\" /><path clip-path=\"url(#clip850)\" d=\"M1930.72 326.656 Q1930.72 331.355 1932.64 334.04 Q1934.58 336.702 1937.96 336.702 Q1941.34 336.702 1943.29 334.04 Q1945.23 331.355 1945.23 326.656 Q1945.23 321.957 1943.29 319.295 Q1941.34 316.61 1937.96 316.61 Q1934.58 316.61 1932.64 319.295 Q1930.72 321.957 1930.72 326.656 M1945.23 335.707 Q1943.89 338.022 1941.83 339.156 Q1939.79 340.267 1936.92 340.267 Q1932.22 340.267 1929.26 336.517 Q1926.32 332.767 1926.32 326.656 Q1926.32 320.545 1929.26 316.795 Q1932.22 313.045 1936.92 313.045 Q1939.79 313.045 1941.83 314.179 Q1943.89 315.29 1945.23 317.605 L1945.23 313.67 L1949.49 313.67 L1949.49 349.457 L1945.23 349.457 L1945.23 335.707 Z\" fill=\"#000000\" fill-rule=\"evenodd\" fill-opacity=\"1\" /><path clip-path=\"url(#clip850)\" d=\"M1985.81 345.383 L1982.36 336.517 L1975.25 349.48 L1970.23 349.48 L1980.28 331.147 L1976.07 320.244 Q1974.93 317.327 1971.37 317.327 L1970.23 317.327 L1970.23 313.67 L1971.85 313.716 Q1977.82 313.878 1979.33 317.744 L1982.75 326.61 L1989.86 313.647 L1994.88 313.647 L1984.84 331.98 L1989.05 342.883 Q1990.19 345.799 1993.75 345.799 L1994.88 345.799 L1994.88 349.457 L1993.26 349.41 Q1987.29 349.248 1985.81 345.383 Z\" fill=\"#000000\" fill-rule=\"evenodd\" fill-opacity=\"1\" /><path clip-path=\"url(#clip850)\" d=\"M2020.42 347.466 L2020.42 350.776 L1995.79 350.776 L1995.79 347.466 L2020.42 347.466 Z\" fill=\"#000000\" fill-rule=\"evenodd\" fill-opacity=\"1\" /><path clip-path=\"url(#clip850)\" d=\"M2043.08 314.665 L2043.08 318.647 Q2041.27 317.651 2039.44 317.165 Q2037.64 316.656 2035.79 316.656 Q2031.64 316.656 2029.35 319.295 Q2027.06 321.911 2027.06 326.656 Q2027.06 331.401 2029.35 334.04 Q2031.64 336.656 2035.79 336.656 Q2037.64 336.656 2039.44 336.17 Q2041.27 335.661 2043.08 334.665 L2043.08 338.6 Q2041.3 339.434 2039.37 339.85 Q2037.48 340.267 2035.32 340.267 Q2029.47 340.267 2026.02 336.586 Q2022.57 332.906 2022.57 326.656 Q2022.57 320.313 2026.04 316.679 Q2029.54 313.045 2035.6 313.045 Q2037.57 313.045 2039.44 313.462 Q2041.32 313.855 2043.08 314.665 Z\" fill=\"#000000\" fill-rule=\"evenodd\" fill-opacity=\"1\" /><path clip-path=\"url(#clip850)\" d=\"M2072.04 323.948 L2072.04 339.596 L2067.78 339.596 L2067.78 324.087 Q2067.78 320.406 2066.34 318.577 Q2064.91 316.749 2062.04 316.749 Q2058.59 316.749 2056.6 318.948 Q2054.61 321.147 2054.61 324.943 L2054.61 339.596 L2050.32 339.596 L2050.32 303.577 L2054.61 303.577 L2054.61 317.698 Q2056.13 315.36 2058.19 314.202 Q2060.28 313.045 2062.99 313.045 Q2067.45 313.045 2069.75 315.823 Q2072.04 318.577 2072.04 323.948 Z\" fill=\"#000000\" fill-rule=\"evenodd\" fill-opacity=\"1\" /><path clip-path=\"url(#clip850)\" d=\"M2098.19 305.036 L2110.76 317.929 L2106.11 317.929 L2095.93 308.786 L2085.74 317.929 L2081.09 317.929 L2093.66 305.036 L2098.19 305.036 Z\" fill=\"#000000\" fill-rule=\"evenodd\" fill-opacity=\"1\" /><path clip-path=\"url(#clip850)\" d=\"M2120.25 303.577 L2124.51 303.577 L2124.51 339.596 L2120.25 339.596 L2120.25 303.577 Z\" fill=\"#000000\" fill-rule=\"evenodd\" fill-opacity=\"1\" /><path clip-path=\"url(#clip850)\" d=\"M2138.29 308.878 L2138.29 335.753 L2143.93 335.753 Q2151.09 335.753 2154.4 332.512 Q2157.73 329.272 2157.73 322.281 Q2157.73 315.337 2154.4 312.119 Q2151.09 308.878 2143.93 308.878 L2138.29 308.878 M2133.61 305.036 L2143.22 305.036 Q2153.26 305.036 2157.96 309.226 Q2162.66 313.392 2162.66 322.281 Q2162.66 331.216 2157.94 335.406 Q2153.22 339.596 2143.22 339.596 L2133.61 339.596 L2133.61 305.036 Z\" fill=\"#000000\" fill-rule=\"evenodd\" fill-opacity=\"1\" /><path clip-path=\"url(#clip850)\" d=\"M2193.68 334.665 L2193.68 325.383 L2186.04 325.383 L2186.04 321.54 L2198.31 321.54 L2198.31 336.378 Q2195.6 338.299 2192.34 339.295 Q2189.07 340.267 2185.37 340.267 Q2177.27 340.267 2172.68 335.545 Q2168.12 330.799 2168.12 322.35 Q2168.12 313.878 2172.68 309.156 Q2177.27 304.411 2185.37 304.411 Q2188.75 304.411 2191.78 305.244 Q2194.84 306.077 2197.41 307.698 L2197.41 312.675 Q2194.81 310.476 2191.9 309.364 Q2188.98 308.253 2185.76 308.253 Q2179.42 308.253 2176.23 311.795 Q2173.05 315.337 2173.05 322.35 Q2173.05 329.341 2176.23 332.883 Q2179.42 336.424 2185.76 336.424 Q2188.24 336.424 2190.18 336.008 Q2192.13 335.568 2193.68 334.665 Z\" fill=\"#000000\" fill-rule=\"evenodd\" fill-opacity=\"1\" /><path clip-path=\"url(#clip850)\" d=\"M2218.4 309.642 L2212.06 326.841 L2224.77 326.841 L2218.4 309.642 M2215.76 305.036 L2221.06 305.036 L2234.24 339.596 L2229.37 339.596 L2226.23 330.73 L2210.65 330.73 L2207.5 339.596 L2202.57 339.596 L2215.76 305.036 Z\" fill=\"#000000\" fill-rule=\"evenodd\" fill-opacity=\"1\" /></svg>\n"
      ]
     },
     "execution_count": 44,
     "metadata": {},
     "output_type": "execute_result"
    }
   ],
   "source": [
    "χchED_ω_naive = sum(impQ_ch.χ,dims=[2,3])[:,1,1]/(mP.β^2);\n",
    "χspED_ω_naive = sum(impQ_sp.χ,dims=[2,3])[:,1,1]/(mP.β^2);\n",
    "\n",
    "reduction_prct = -0.1\n",
    "χchED_ω_fit = [LadderDGA.sum_freq(impQ_ch.χ[i,:,:], [1,2], sP.sh_f, mP.β)[1,1] for i in 1:size(impQ_ch.χ,1)];\n",
    "χspED_ω_fit = [LadderDGA.sum_freq(impQ_sp.χ[i,:,:], [1,2], sP.sh_f, mP.β)[1,1] for i in 1:size(impQ_sp.χ,1)];\n",
    "usable_ch = LadderDGA.find_usable_interval(real(χchED_ω_fit), reduce_range_prct=reduction_prct)\n",
    "usable_sp = LadderDGA.find_usable_interval(real(χspED_ω_fit), reduce_range_prct=reduction_prct)\n",
    "usable_fit_DMFT = intersect(usable_ch, usable_sp)\n",
    "\n",
    "usable_naive_ch = LadderDGA.find_usable_interval(real(χchED_ω_naive), reduce_range_prct=reduction_prct)\n",
    "usable_naive_sp = LadderDGA.find_usable_interval(real(χspED_ω_naive), reduce_range_prct=reduction_prct)\n",
    "\n",
    "\n",
    "plot(usable_ch .- sP.n_iω .- 1, real(χchED_ω_fit[usable_ch]), markershape=:auto, label=\"richardson\", c=:green)\n",
    "plot!(usable_ch .- sP.n_iω .- 1, repeat([0], length(usable_ch)), fillrange=real(χchED_ω_fit[usable_ch]), fillalpha=0.06, c=:green, label=nothing)\n",
    "\n",
    "plot!(usable_naive_ch .- sP.n_iω .- 1, real(χchED_ω_naive[usable_naive_ch]), markershape=:auto, label=\"naive\", xlabel=\"ωₙ\", ylabel=\"χ_ch\", c=:orange, title=\"reduction: $(reduction_prct*100)%\")\n",
    "plot!(usable_naive_ch .- sP.n_iω .- 1, repeat([0], length(usable_naive_ch)), fillrange=real(χchED_ω_naive[usable_naive_ch]), fillalpha=0.3, c=:orange, label=nothing)\n",
    "\n",
    "plot!(usable_naive_ch .- sP.n_iω .- 1, real(χch_ω[usable_naive_ch]), markershape=:auto, label=\"Σ_q χ_ch^lDGA\", xlabel=\"ωₙ\", ylabel=\"χ_ch\", c=:orange, title=\"reduction: $(reduction_prct*100)%\")"
   ]
  },
  {
   "cell_type": "code",
   "execution_count": 30,
   "id": "28bd3cf7",
   "metadata": {},
   "outputs": [
    {
     "data": {
      "image/svg+xml": [
       "<?xml version=\"1.0\" encoding=\"utf-8\"?>\n",
       "<svg xmlns=\"http://www.w3.org/2000/svg\" xmlns:xlink=\"http://www.w3.org/1999/xlink\" width=\"600\" height=\"400\" viewBox=\"0 0 2400 1600\">\n",
       "<defs>\n",
       "  <clipPath id=\"clip690\">\n",
       "    <rect x=\"0\" y=\"0\" width=\"2400\" height=\"1600\"/>\n",
       "  </clipPath>\n",
       "</defs>\n",
       "<path clip-path=\"url(#clip690)\" d=\"\n",
       "M0 1600 L2400 1600 L2400 0 L0 0  Z\n",
       "  \" fill=\"#ffffff\" fill-rule=\"evenodd\" fill-opacity=\"1\"/>\n",
       "<defs>\n",
       "  <clipPath id=\"clip691\">\n",
       "    <rect x=\"480\" y=\"0\" width=\"1681\" height=\"1600\"/>\n",
       "  </clipPath>\n",
       "</defs>\n",
       "<path clip-path=\"url(#clip690)\" d=\"\n",
       "M224.26 1486.45 L2352.76 1486.45 L2352.76 47.2441 L224.26 47.2441  Z\n",
       "  \" fill=\"#ffffff\" fill-rule=\"evenodd\" fill-opacity=\"1\"/>\n",
       "<defs>\n",
       "  <clipPath id=\"clip692\">\n",
       "    <rect x=\"224\" y=\"47\" width=\"2129\" height=\"1440\"/>\n",
       "  </clipPath>\n",
       "</defs>\n",
       "<polyline clip-path=\"url(#clip692)\" style=\"stroke:#000000; stroke-linecap:butt; stroke-linejoin:round; stroke-width:2; stroke-opacity:0.1; fill:none\" points=\"\n",
       "  507.613,1486.45 507.613,47.2441 \n",
       "  \"/>\n",
       "<polyline clip-path=\"url(#clip692)\" style=\"stroke:#000000; stroke-linecap:butt; stroke-linejoin:round; stroke-width:2; stroke-opacity:0.1; fill:none\" points=\"\n",
       "  953.839,1486.45 953.839,47.2441 \n",
       "  \"/>\n",
       "<polyline clip-path=\"url(#clip692)\" style=\"stroke:#000000; stroke-linecap:butt; stroke-linejoin:round; stroke-width:2; stroke-opacity:0.1; fill:none\" points=\"\n",
       "  1400.06,1486.45 1400.06,47.2441 \n",
       "  \"/>\n",
       "<polyline clip-path=\"url(#clip692)\" style=\"stroke:#000000; stroke-linecap:butt; stroke-linejoin:round; stroke-width:2; stroke-opacity:0.1; fill:none\" points=\"\n",
       "  1846.29,1486.45 1846.29,47.2441 \n",
       "  \"/>\n",
       "<polyline clip-path=\"url(#clip692)\" style=\"stroke:#000000; stroke-linecap:butt; stroke-linejoin:round; stroke-width:2; stroke-opacity:0.1; fill:none\" points=\"\n",
       "  2292.52,1486.45 2292.52,47.2441 \n",
       "  \"/>\n",
       "<polyline clip-path=\"url(#clip690)\" style=\"stroke:#000000; stroke-linecap:butt; stroke-linejoin:round; stroke-width:4; stroke-opacity:1; fill:none\" points=\"\n",
       "  224.26,1486.45 2352.76,1486.45 \n",
       "  \"/>\n",
       "<polyline clip-path=\"url(#clip690)\" style=\"stroke:#000000; stroke-linecap:butt; stroke-linejoin:round; stroke-width:4; stroke-opacity:1; fill:none\" points=\"\n",
       "  507.613,1486.45 507.613,1467.55 \n",
       "  \"/>\n",
       "<polyline clip-path=\"url(#clip690)\" style=\"stroke:#000000; stroke-linecap:butt; stroke-linejoin:round; stroke-width:4; stroke-opacity:1; fill:none\" points=\"\n",
       "  953.839,1486.45 953.839,1467.55 \n",
       "  \"/>\n",
       "<polyline clip-path=\"url(#clip690)\" style=\"stroke:#000000; stroke-linecap:butt; stroke-linejoin:round; stroke-width:4; stroke-opacity:1; fill:none\" points=\"\n",
       "  1400.06,1486.45 1400.06,1467.55 \n",
       "  \"/>\n",
       "<polyline clip-path=\"url(#clip690)\" style=\"stroke:#000000; stroke-linecap:butt; stroke-linejoin:round; stroke-width:4; stroke-opacity:1; fill:none\" points=\"\n",
       "  1846.29,1486.45 1846.29,1467.55 \n",
       "  \"/>\n",
       "<polyline clip-path=\"url(#clip690)\" style=\"stroke:#000000; stroke-linecap:butt; stroke-linejoin:round; stroke-width:4; stroke-opacity:1; fill:none\" points=\"\n",
       "  2292.52,1486.45 2292.52,1467.55 \n",
       "  \"/>\n",
       "<path clip-path=\"url(#clip690)\" d=\"M502.266 1543.18 L518.585 1543.18 L518.585 1547.12 L496.641 1547.12 L496.641 1543.18 Q499.303 1540.43 503.886 1535.8 Q508.493 1531.15 509.673 1529.81 Q511.919 1527.28 512.798 1525.55 Q513.701 1523.79 513.701 1522.1 Q513.701 1519.34 511.757 1517.61 Q509.835 1515.87 506.734 1515.87 Q504.534 1515.87 502.081 1516.63 Q499.65 1517.4 496.872 1518.95 L496.872 1514.23 Q499.697 1513.09 502.15 1512.51 Q504.604 1511.93 506.641 1511.93 Q512.011 1511.93 515.206 1514.62 Q518.4 1517.31 518.4 1521.8 Q518.4 1523.93 517.59 1525.85 Q516.803 1527.74 514.696 1530.34 Q514.118 1531.01 511.016 1534.23 Q507.914 1537.42 502.266 1543.18 Z\" fill=\"#000000\" fill-rule=\"evenodd\" fill-opacity=\"1\" /><path clip-path=\"url(#clip690)\" d=\"M956.848 1516.63 L945.042 1535.08 L956.848 1535.08 L956.848 1516.63 M955.621 1512.56 L961.501 1512.56 L961.501 1535.08 L966.431 1535.08 L966.431 1538.97 L961.501 1538.97 L961.501 1547.12 L956.848 1547.12 L956.848 1538.97 L941.246 1538.97 L941.246 1534.46 L955.621 1512.56 Z\" fill=\"#000000\" fill-rule=\"evenodd\" fill-opacity=\"1\" /><path clip-path=\"url(#clip690)\" d=\"M1400.47 1527.98 Q1397.32 1527.98 1395.47 1530.13 Q1393.64 1532.28 1393.64 1536.03 Q1393.64 1539.76 1395.47 1541.93 Q1397.32 1544.09 1400.47 1544.09 Q1403.62 1544.09 1405.45 1541.93 Q1407.3 1539.76 1407.3 1536.03 Q1407.3 1532.28 1405.45 1530.13 Q1403.62 1527.98 1400.47 1527.98 M1409.75 1513.32 L1409.75 1517.58 Q1407.99 1516.75 1406.19 1516.31 Q1404.4 1515.87 1402.65 1515.87 Q1398.02 1515.87 1395.56 1519 Q1393.13 1522.12 1392.78 1528.44 Q1394.15 1526.43 1396.21 1525.36 Q1398.27 1524.27 1400.75 1524.27 Q1405.96 1524.27 1408.96 1527.44 Q1412 1530.59 1412 1536.03 Q1412 1541.36 1408.85 1544.57 Q1405.7 1547.79 1400.47 1547.79 Q1394.47 1547.79 1391.3 1543.21 Q1388.13 1538.6 1388.13 1529.87 Q1388.13 1521.68 1392.02 1516.82 Q1395.91 1511.93 1402.46 1511.93 Q1404.22 1511.93 1406 1512.28 Q1407.81 1512.63 1409.75 1513.32 Z\" fill=\"#000000\" fill-rule=\"evenodd\" fill-opacity=\"1\" /><path clip-path=\"url(#clip690)\" d=\"M1846.29 1530.71 Q1842.96 1530.71 1841.04 1532.49 Q1839.14 1534.27 1839.14 1537.4 Q1839.14 1540.52 1841.04 1542.31 Q1842.96 1544.09 1846.29 1544.09 Q1849.62 1544.09 1851.54 1542.31 Q1853.47 1540.5 1853.47 1537.4 Q1853.47 1534.27 1851.54 1532.49 Q1849.65 1530.71 1846.29 1530.71 M1841.61 1528.72 Q1838.6 1527.98 1836.91 1525.92 Q1835.25 1523.86 1835.25 1520.89 Q1835.25 1516.75 1838.19 1514.34 Q1841.15 1511.93 1846.29 1511.93 Q1851.45 1511.93 1854.39 1514.34 Q1857.33 1516.75 1857.33 1520.89 Q1857.33 1523.86 1855.64 1525.92 Q1853.98 1527.98 1850.99 1528.72 Q1854.37 1529.5 1856.24 1531.8 Q1858.14 1534.09 1858.14 1537.4 Q1858.14 1542.42 1855.06 1545.11 Q1852.01 1547.79 1846.29 1547.79 Q1840.57 1547.79 1837.49 1545.11 Q1834.44 1542.42 1834.44 1537.4 Q1834.44 1534.09 1836.34 1531.8 Q1838.23 1529.5 1841.61 1528.72 M1839.9 1521.33 Q1839.9 1524.02 1841.57 1525.52 Q1843.26 1527.03 1846.29 1527.03 Q1849.3 1527.03 1850.99 1525.52 Q1852.7 1524.02 1852.7 1521.33 Q1852.7 1518.65 1850.99 1517.14 Q1849.3 1515.64 1846.29 1515.64 Q1843.26 1515.64 1841.57 1517.14 Q1839.9 1518.65 1839.9 1521.33 Z\" fill=\"#000000\" fill-rule=\"evenodd\" fill-opacity=\"1\" /><path clip-path=\"url(#clip690)\" d=\"M2267.2 1543.18 L2274.84 1543.18 L2274.84 1516.82 L2266.53 1518.49 L2266.53 1514.23 L2274.8 1512.56 L2279.47 1512.56 L2279.47 1543.18 L2287.11 1543.18 L2287.11 1547.12 L2267.2 1547.12 L2267.2 1543.18 Z\" fill=\"#000000\" fill-rule=\"evenodd\" fill-opacity=\"1\" /><path clip-path=\"url(#clip690)\" d=\"M2306.55 1515.64 Q2302.94 1515.64 2301.11 1519.2 Q2299.31 1522.75 2299.31 1529.87 Q2299.31 1536.98 2301.11 1540.55 Q2302.94 1544.09 2306.55 1544.09 Q2310.19 1544.09 2311.99 1540.55 Q2313.82 1536.98 2313.82 1529.87 Q2313.82 1522.75 2311.99 1519.2 Q2310.19 1515.64 2306.55 1515.64 M2306.55 1511.93 Q2312.36 1511.93 2315.42 1516.54 Q2318.5 1521.12 2318.5 1529.87 Q2318.5 1538.6 2315.42 1543.21 Q2312.36 1547.79 2306.55 1547.79 Q2300.74 1547.79 2297.67 1543.21 Q2294.61 1538.6 2294.61 1529.87 Q2294.61 1521.12 2297.67 1516.54 Q2300.74 1511.93 2306.55 1511.93 Z\" fill=\"#000000\" fill-rule=\"evenodd\" fill-opacity=\"1\" /><polyline clip-path=\"url(#clip692)\" style=\"stroke:#000000; stroke-linecap:butt; stroke-linejoin:round; stroke-width:2; stroke-opacity:0.1; fill:none\" points=\"\n",
       "  224.26,1253.84 2352.76,1253.84 \n",
       "  \"/>\n",
       "<polyline clip-path=\"url(#clip692)\" style=\"stroke:#000000; stroke-linecap:butt; stroke-linejoin:round; stroke-width:2; stroke-opacity:0.1; fill:none\" points=\"\n",
       "  224.26,932.149 2352.76,932.149 \n",
       "  \"/>\n",
       "<polyline clip-path=\"url(#clip692)\" style=\"stroke:#000000; stroke-linecap:butt; stroke-linejoin:round; stroke-width:2; stroke-opacity:0.1; fill:none\" points=\"\n",
       "  224.26,610.462 2352.76,610.462 \n",
       "  \"/>\n",
       "<polyline clip-path=\"url(#clip692)\" style=\"stroke:#000000; stroke-linecap:butt; stroke-linejoin:round; stroke-width:2; stroke-opacity:0.1; fill:none\" points=\"\n",
       "  224.26,288.775 2352.76,288.775 \n",
       "  \"/>\n",
       "<polyline clip-path=\"url(#clip690)\" style=\"stroke:#000000; stroke-linecap:butt; stroke-linejoin:round; stroke-width:4; stroke-opacity:1; fill:none\" points=\"\n",
       "  224.26,1486.45 224.26,47.2441 \n",
       "  \"/>\n",
       "<polyline clip-path=\"url(#clip690)\" style=\"stroke:#000000; stroke-linecap:butt; stroke-linejoin:round; stroke-width:4; stroke-opacity:1; fill:none\" points=\"\n",
       "  224.26,1253.84 243.158,1253.84 \n",
       "  \"/>\n",
       "<polyline clip-path=\"url(#clip690)\" style=\"stroke:#000000; stroke-linecap:butt; stroke-linejoin:round; stroke-width:4; stroke-opacity:1; fill:none\" points=\"\n",
       "  224.26,932.149 243.158,932.149 \n",
       "  \"/>\n",
       "<polyline clip-path=\"url(#clip690)\" style=\"stroke:#000000; stroke-linecap:butt; stroke-linejoin:round; stroke-width:4; stroke-opacity:1; fill:none\" points=\"\n",
       "  224.26,610.462 243.158,610.462 \n",
       "  \"/>\n",
       "<polyline clip-path=\"url(#clip690)\" style=\"stroke:#000000; stroke-linecap:butt; stroke-linejoin:round; stroke-width:4; stroke-opacity:1; fill:none\" points=\"\n",
       "  224.26,288.775 243.158,288.775 \n",
       "  \"/>\n",
       "<path clip-path=\"url(#clip690)\" d=\"M52.7514 1254.29 L82.4271 1254.29 L82.4271 1258.22 L52.7514 1258.22 L52.7514 1254.29 Z\" fill=\"#000000\" fill-rule=\"evenodd\" fill-opacity=\"1\" /><path clip-path=\"url(#clip690)\" d=\"M102.52 1239.64 Q98.9085 1239.64 97.0798 1243.2 Q95.2743 1246.74 95.2743 1253.87 Q95.2743 1260.98 97.0798 1264.54 Q98.9085 1268.08 102.52 1268.08 Q106.154 1268.08 107.959 1264.54 Q109.788 1260.98 109.788 1253.87 Q109.788 1246.74 107.959 1243.2 Q106.154 1239.64 102.52 1239.64 M102.52 1235.93 Q108.33 1235.93 111.385 1240.54 Q114.464 1245.12 114.464 1253.87 Q114.464 1262.6 111.385 1267.2 Q108.33 1271.79 102.52 1271.79 Q96.7095 1271.79 93.6308 1267.2 Q90.5752 1262.6 90.5752 1253.87 Q90.5752 1245.12 93.6308 1240.54 Q96.7095 1235.93 102.52 1235.93 Z\" fill=\"#000000\" fill-rule=\"evenodd\" fill-opacity=\"1\" /><path clip-path=\"url(#clip690)\" d=\"M122.682 1265.24 L127.566 1265.24 L127.566 1271.12 L122.682 1271.12 L122.682 1265.24 Z\" fill=\"#000000\" fill-rule=\"evenodd\" fill-opacity=\"1\" /><path clip-path=\"url(#clip690)\" d=\"M138.561 1267.18 L146.2 1267.18 L146.2 1240.82 L137.89 1242.48 L137.89 1238.22 L146.154 1236.56 L150.83 1236.56 L150.83 1267.18 L158.468 1267.18 L158.468 1271.12 L138.561 1271.12 L138.561 1267.18 Z\" fill=\"#000000\" fill-rule=\"evenodd\" fill-opacity=\"1\" /><path clip-path=\"url(#clip690)\" d=\"M171.941 1267.18 L188.26 1267.18 L188.26 1271.12 L166.316 1271.12 L166.316 1267.18 Q168.978 1264.43 173.561 1259.8 Q178.167 1255.14 179.348 1253.8 Q181.593 1251.28 182.473 1249.54 Q183.376 1247.78 183.376 1246.09 Q183.376 1243.34 181.431 1241.6 Q179.51 1239.87 176.408 1239.87 Q174.209 1239.87 171.755 1240.63 Q169.325 1241.39 166.547 1242.95 L166.547 1238.22 Q169.371 1237.09 171.825 1236.51 Q174.279 1235.93 176.316 1235.93 Q181.686 1235.93 184.88 1238.62 Q188.075 1241.3 188.075 1245.79 Q188.075 1247.92 187.265 1249.84 Q186.478 1251.74 184.371 1254.33 Q183.792 1255.01 180.691 1258.22 Q177.589 1261.42 171.941 1267.18 Z\" fill=\"#000000\" fill-rule=\"evenodd\" fill-opacity=\"1\" /><path clip-path=\"url(#clip690)\" d=\"M51.1542 932.601 L80.8299 932.601 L80.8299 936.536 L51.1542 936.536 L51.1542 932.601 Z\" fill=\"#000000\" fill-rule=\"evenodd\" fill-opacity=\"1\" /><path clip-path=\"url(#clip690)\" d=\"M100.922 917.948 Q97.3113 917.948 95.4826 921.513 Q93.6771 925.054 93.6771 932.184 Q93.6771 939.29 95.4826 942.855 Q97.3113 946.397 100.922 946.397 Q104.557 946.397 106.362 942.855 Q108.191 939.29 108.191 932.184 Q108.191 925.054 106.362 921.513 Q104.557 917.948 100.922 917.948 M100.922 914.244 Q106.733 914.244 109.788 918.851 Q112.867 923.434 112.867 932.184 Q112.867 940.911 109.788 945.517 Q106.733 950.101 100.922 950.101 Q95.1123 950.101 92.0336 945.517 Q88.978 940.911 88.978 932.184 Q88.978 923.434 92.0336 918.851 Q95.1123 914.244 100.922 914.244 Z\" fill=\"#000000\" fill-rule=\"evenodd\" fill-opacity=\"1\" /><path clip-path=\"url(#clip690)\" d=\"M121.084 943.55 L125.969 943.55 L125.969 949.429 L121.084 949.429 L121.084 943.55 Z\" fill=\"#000000\" fill-rule=\"evenodd\" fill-opacity=\"1\" /><path clip-path=\"url(#clip690)\" d=\"M136.964 945.494 L144.603 945.494 L144.603 919.129 L136.293 920.795 L136.293 916.536 L144.556 914.869 L149.232 914.869 L149.232 945.494 L156.871 945.494 L156.871 949.429 L136.964 949.429 L136.964 945.494 Z\" fill=\"#000000\" fill-rule=\"evenodd\" fill-opacity=\"1\" /><path clip-path=\"url(#clip690)\" d=\"M176.316 917.948 Q172.704 917.948 170.876 921.513 Q169.07 925.054 169.07 932.184 Q169.07 939.29 170.876 942.855 Q172.704 946.397 176.316 946.397 Q179.95 946.397 181.755 942.855 Q183.584 939.29 183.584 932.184 Q183.584 925.054 181.755 921.513 Q179.95 917.948 176.316 917.948 M176.316 914.244 Q182.126 914.244 185.181 918.851 Q188.26 923.434 188.26 932.184 Q188.26 940.911 185.181 945.517 Q182.126 950.101 176.316 950.101 Q170.505 950.101 167.427 945.517 Q164.371 940.911 164.371 932.184 Q164.371 923.434 167.427 918.851 Q170.505 914.244 176.316 914.244 Z\" fill=\"#000000\" fill-rule=\"evenodd\" fill-opacity=\"1\" /><path clip-path=\"url(#clip690)\" d=\"M51.2468 610.914 L80.9225 610.914 L80.9225 614.849 L51.2468 614.849 L51.2468 610.914 Z\" fill=\"#000000\" fill-rule=\"evenodd\" fill-opacity=\"1\" /><path clip-path=\"url(#clip690)\" d=\"M101.015 596.261 Q97.4039 596.261 95.5752 599.826 Q93.7697 603.367 93.7697 610.497 Q93.7697 617.603 95.5752 621.168 Q97.4039 624.71 101.015 624.71 Q104.649 624.71 106.455 621.168 Q108.283 617.603 108.283 610.497 Q108.283 603.367 106.455 599.826 Q104.649 596.261 101.015 596.261 M101.015 592.557 Q106.825 592.557 109.881 597.164 Q112.959 601.747 112.959 610.497 Q112.959 619.224 109.881 623.83 Q106.825 628.413 101.015 628.413 Q95.2049 628.413 92.1262 623.83 Q89.0706 619.224 89.0706 610.497 Q89.0706 601.747 92.1262 597.164 Q95.2049 592.557 101.015 592.557 Z\" fill=\"#000000\" fill-rule=\"evenodd\" fill-opacity=\"1\" /><path clip-path=\"url(#clip690)\" d=\"M121.177 621.863 L126.061 621.863 L126.061 627.742 L121.177 627.742 L121.177 621.863 Z\" fill=\"#000000\" fill-rule=\"evenodd\" fill-opacity=\"1\" /><path clip-path=\"url(#clip690)\" d=\"M146.246 596.261 Q142.635 596.261 140.806 599.826 Q139.001 603.367 139.001 610.497 Q139.001 617.603 140.806 621.168 Q142.635 624.71 146.246 624.71 Q149.88 624.71 151.686 621.168 Q153.515 617.603 153.515 610.497 Q153.515 603.367 151.686 599.826 Q149.88 596.261 146.246 596.261 M146.246 592.557 Q152.056 592.557 155.112 597.164 Q158.191 601.747 158.191 610.497 Q158.191 619.224 155.112 623.83 Q152.056 628.413 146.246 628.413 Q140.436 628.413 137.357 623.83 Q134.302 619.224 134.302 610.497 Q134.302 601.747 137.357 597.164 Q140.436 592.557 146.246 592.557 Z\" fill=\"#000000\" fill-rule=\"evenodd\" fill-opacity=\"1\" /><path clip-path=\"url(#clip690)\" d=\"M176.408 611.33 Q173.075 611.33 171.154 613.113 Q169.255 614.895 169.255 618.02 Q169.255 621.145 171.154 622.927 Q173.075 624.71 176.408 624.71 Q179.741 624.71 181.663 622.927 Q183.584 621.122 183.584 618.02 Q183.584 614.895 181.663 613.113 Q179.765 611.33 176.408 611.33 M171.732 609.339 Q168.723 608.599 167.033 606.539 Q165.367 604.478 165.367 601.515 Q165.367 597.372 168.306 594.965 Q171.269 592.557 176.408 592.557 Q181.57 592.557 184.51 594.965 Q187.45 597.372 187.45 601.515 Q187.45 604.478 185.76 606.539 Q184.093 608.599 181.107 609.339 Q184.487 610.127 186.362 612.418 Q188.26 614.71 188.26 618.02 Q188.26 623.043 185.181 625.728 Q182.126 628.413 176.408 628.413 Q170.691 628.413 167.612 625.728 Q164.556 623.043 164.556 618.02 Q164.556 614.71 166.454 612.418 Q168.353 610.127 171.732 609.339 M170.019 601.955 Q170.019 604.64 171.686 606.145 Q173.376 607.65 176.408 607.65 Q179.417 607.65 181.107 606.145 Q182.82 604.64 182.82 601.955 Q182.82 599.27 181.107 597.765 Q179.417 596.261 176.408 596.261 Q173.376 596.261 171.686 597.765 Q170.019 599.27 170.019 601.955 Z\" fill=\"#000000\" fill-rule=\"evenodd\" fill-opacity=\"1\" /><path clip-path=\"url(#clip690)\" d=\"M50.9921 289.226 L80.6679 289.226 L80.6679 293.162 L50.9921 293.162 L50.9921 289.226 Z\" fill=\"#000000\" fill-rule=\"evenodd\" fill-opacity=\"1\" /><path clip-path=\"url(#clip690)\" d=\"M100.76 274.574 Q97.1493 274.574 95.3206 278.139 Q93.515 281.68 93.515 288.81 Q93.515 295.916 95.3206 299.481 Q97.1493 303.023 100.76 303.023 Q104.395 303.023 106.2 299.481 Q108.029 295.916 108.029 288.81 Q108.029 281.68 106.2 278.139 Q104.395 274.574 100.76 274.574 M100.76 270.87 Q106.571 270.87 109.626 275.477 Q112.705 280.06 112.705 288.81 Q112.705 297.537 109.626 302.143 Q106.571 306.726 100.76 306.726 Q94.9502 306.726 91.8715 302.143 Q88.816 297.537 88.816 288.81 Q88.816 280.06 91.8715 275.477 Q94.9502 270.87 100.76 270.87 Z\" fill=\"#000000\" fill-rule=\"evenodd\" fill-opacity=\"1\" /><path clip-path=\"url(#clip690)\" d=\"M120.922 300.175 L125.807 300.175 L125.807 306.055 L120.922 306.055 L120.922 300.175 Z\" fill=\"#000000\" fill-rule=\"evenodd\" fill-opacity=\"1\" /><path clip-path=\"url(#clip690)\" d=\"M145.992 274.574 Q142.381 274.574 140.552 278.139 Q138.746 281.68 138.746 288.81 Q138.746 295.916 140.552 299.481 Q142.381 303.023 145.992 303.023 Q149.626 303.023 151.431 299.481 Q153.26 295.916 153.26 288.81 Q153.26 281.68 151.431 278.139 Q149.626 274.574 145.992 274.574 M145.992 270.87 Q151.802 270.87 154.857 275.477 Q157.936 280.06 157.936 288.81 Q157.936 297.537 154.857 302.143 Q151.802 306.726 145.992 306.726 Q140.181 306.726 137.103 302.143 Q134.047 297.537 134.047 288.81 Q134.047 280.06 137.103 275.477 Q140.181 270.87 145.992 270.87 Z\" fill=\"#000000\" fill-rule=\"evenodd\" fill-opacity=\"1\" /><path clip-path=\"url(#clip690)\" d=\"M176.732 286.912 Q173.584 286.912 171.732 289.064 Q169.904 291.217 169.904 294.967 Q169.904 298.694 171.732 300.87 Q173.584 303.023 176.732 303.023 Q179.88 303.023 181.709 300.87 Q183.561 298.694 183.561 294.967 Q183.561 291.217 181.709 289.064 Q179.88 286.912 176.732 286.912 M186.015 272.259 L186.015 276.518 Q184.255 275.685 182.45 275.245 Q180.667 274.805 178.908 274.805 Q174.279 274.805 171.825 277.93 Q169.394 281.055 169.047 287.375 Q170.413 285.361 172.473 284.296 Q174.533 283.208 177.01 283.208 Q182.218 283.208 185.228 286.379 Q188.26 289.527 188.26 294.967 Q188.26 300.291 185.112 303.509 Q181.964 306.726 176.732 306.726 Q170.737 306.726 167.566 302.143 Q164.394 297.537 164.394 288.81 Q164.394 280.615 168.283 275.754 Q172.172 270.87 178.723 270.87 Q180.482 270.87 182.265 271.217 Q184.07 271.565 186.015 272.259 Z\" fill=\"#000000\" fill-rule=\"evenodd\" fill-opacity=\"1\" /><polyline clip-path=\"url(#clip692)\" style=\"stroke:#009af9; stroke-linecap:butt; stroke-linejoin:round; stroke-width:4; stroke-opacity:1; fill:none\" points=\"\n",
       "  284.5,1101.67 507.613,1445.72 730.726,1217.23 953.839,943.982 1176.95,712.448 1400.06,527.559 1623.18,380.689 1846.29,262.874 2069.4,167.047 2292.52,87.9763 \n",
       "  \n",
       "  \"/>\n",
       "<circle clip-path=\"url(#clip692)\" cx=\"284.5\" cy=\"1101.67\" r=\"14\" fill=\"#009af9\" fill-rule=\"evenodd\" fill-opacity=\"1\" stroke=\"#000000\" stroke-opacity=\"1\" stroke-width=\"3.2\"/>\n",
       "<circle clip-path=\"url(#clip692)\" cx=\"507.613\" cy=\"1445.72\" r=\"14\" fill=\"#009af9\" fill-rule=\"evenodd\" fill-opacity=\"1\" stroke=\"#000000\" stroke-opacity=\"1\" stroke-width=\"3.2\"/>\n",
       "<circle clip-path=\"url(#clip692)\" cx=\"730.726\" cy=\"1217.23\" r=\"14\" fill=\"#009af9\" fill-rule=\"evenodd\" fill-opacity=\"1\" stroke=\"#000000\" stroke-opacity=\"1\" stroke-width=\"3.2\"/>\n",
       "<circle clip-path=\"url(#clip692)\" cx=\"953.839\" cy=\"943.982\" r=\"14\" fill=\"#009af9\" fill-rule=\"evenodd\" fill-opacity=\"1\" stroke=\"#000000\" stroke-opacity=\"1\" stroke-width=\"3.2\"/>\n",
       "<circle clip-path=\"url(#clip692)\" cx=\"1176.95\" cy=\"712.448\" r=\"14\" fill=\"#009af9\" fill-rule=\"evenodd\" fill-opacity=\"1\" stroke=\"#000000\" stroke-opacity=\"1\" stroke-width=\"3.2\"/>\n",
       "<circle clip-path=\"url(#clip692)\" cx=\"1400.06\" cy=\"527.559\" r=\"14\" fill=\"#009af9\" fill-rule=\"evenodd\" fill-opacity=\"1\" stroke=\"#000000\" stroke-opacity=\"1\" stroke-width=\"3.2\"/>\n",
       "<circle clip-path=\"url(#clip692)\" cx=\"1623.18\" cy=\"380.689\" r=\"14\" fill=\"#009af9\" fill-rule=\"evenodd\" fill-opacity=\"1\" stroke=\"#000000\" stroke-opacity=\"1\" stroke-width=\"3.2\"/>\n",
       "<circle clip-path=\"url(#clip692)\" cx=\"1846.29\" cy=\"262.874\" r=\"14\" fill=\"#009af9\" fill-rule=\"evenodd\" fill-opacity=\"1\" stroke=\"#000000\" stroke-opacity=\"1\" stroke-width=\"3.2\"/>\n",
       "<circle clip-path=\"url(#clip692)\" cx=\"2069.4\" cy=\"167.047\" r=\"14\" fill=\"#009af9\" fill-rule=\"evenodd\" fill-opacity=\"1\" stroke=\"#000000\" stroke-opacity=\"1\" stroke-width=\"3.2\"/>\n",
       "<circle clip-path=\"url(#clip692)\" cx=\"2292.52\" cy=\"87.9763\" r=\"14\" fill=\"#009af9\" fill-rule=\"evenodd\" fill-opacity=\"1\" stroke=\"#000000\" stroke-opacity=\"1\" stroke-width=\"3.2\"/>\n",
       "<path clip-path=\"url(#clip690)\" d=\"\n",
       "M1794.54 250.738 L2281.81 250.738 L2281.81 95.2176 L1794.54 95.2176  Z\n",
       "  \" fill=\"#ffffff\" fill-rule=\"evenodd\" fill-opacity=\"1\"/>\n",
       "<polyline clip-path=\"url(#clip690)\" style=\"stroke:#000000; stroke-linecap:butt; stroke-linejoin:round; stroke-width:4; stroke-opacity:1; fill:none\" points=\"\n",
       "  1794.54,250.738 2281.81,250.738 2281.81,95.2176 1794.54,95.2176 1794.54,250.738 \n",
       "  \"/>\n",
       "<polyline clip-path=\"url(#clip690)\" style=\"stroke:#009af9; stroke-linecap:butt; stroke-linejoin:round; stroke-width:4; stroke-opacity:1; fill:none\" points=\"\n",
       "  1818.19,147.058 1960.09,147.058 \n",
       "  \"/>\n",
       "<circle clip-path=\"url(#clip690)\" cx=\"1889.14\" cy=\"147.058\" r=\"23\" fill=\"#009af9\" fill-rule=\"evenodd\" fill-opacity=\"1\" stroke=\"#000000\" stroke-opacity=\"1\" stroke-width=\"5.12\"/>\n",
       "<path clip-path=\"url(#clip690)\" d=\"M1989.11 160.402 L2006.01 160.402 L2006.01 164.338 L1983.74 164.338 L1983.74 160.402 L1994.83 145.958 L1983.74 133.713 L1983.74 129.778 L2005.6 129.778 L2005.6 133.713 L1989.11 133.713 L2000.2 145.865 L1989.11 160.402 Z\" fill=\"#000000\" fill-rule=\"evenodd\" fill-opacity=\"1\" /><path clip-path=\"url(#clip690)\" d=\"M2033.44 133.62 L2033.44 160.495 L2039.09 160.495 Q2046.24 160.495 2049.55 157.254 Q2052.89 154.014 2052.89 147.023 Q2052.89 140.078 2049.55 136.861 Q2046.24 133.62 2039.09 133.62 L2033.44 133.62 M2028.77 129.778 L2038.37 129.778 Q2048.42 129.778 2053.12 133.967 Q2057.82 138.134 2057.82 147.023 Q2057.82 155.958 2053.1 160.148 Q2048.37 164.338 2038.37 164.338 L2028.77 164.338 L2028.77 129.778 Z\" fill=\"#000000\" fill-rule=\"evenodd\" fill-opacity=\"1\" /><path clip-path=\"url(#clip690)\" d=\"M2065.27 129.778 L2072.24 129.778 L2081.06 153.296 L2089.92 129.778 L2096.89 129.778 L2096.89 164.338 L2092.33 164.338 L2092.33 133.99 L2083.42 157.694 L2078.72 157.694 L2069.81 133.99 L2069.81 164.338 L2065.27 164.338 L2065.27 129.778 Z\" fill=\"#000000\" fill-rule=\"evenodd\" fill-opacity=\"1\" /><path clip-path=\"url(#clip690)\" d=\"M2106.17 129.778 L2126.03 129.778 L2126.03 133.713 L2110.85 133.713 L2110.85 143.898 L2124.55 143.898 L2124.55 147.833 L2110.85 147.833 L2110.85 164.338 L2106.17 164.338 L2106.17 129.778 Z\" fill=\"#000000\" fill-rule=\"evenodd\" fill-opacity=\"1\" /><path clip-path=\"url(#clip690)\" d=\"M2127.82 129.778 L2157.05 129.778 L2157.05 133.713 L2144.78 133.713 L2144.78 164.338 L2140.09 164.338 L2140.09 133.713 L2127.82 133.713 L2127.82 129.778 Z\" fill=\"#000000\" fill-rule=\"evenodd\" fill-opacity=\"1\" /><polyline clip-path=\"url(#clip690)\" style=\"stroke:#e26f46; stroke-linecap:butt; stroke-linejoin:round; stroke-width:4; stroke-opacity:1; fill:none\" points=\"\n",
       "  1818.19,198.898 1960.09,198.898 \n",
       "  \"/>\n",
       "<path clip-path=\"url(#clip690)\" d=\"M1989.11 212.242 L2006.01 212.242 L2006.01 216.178 L1983.74 216.178 L1983.74 212.242 L1994.83 197.798 L1983.74 185.553 L1983.74 181.618 L2005.6 181.618 L2005.6 185.553 L1989.11 185.553 L2000.2 197.705 L1989.11 212.242 Z\" fill=\"#000000\" fill-rule=\"evenodd\" fill-opacity=\"1\" /><path clip-path=\"url(#clip690)\" d=\"M2033.21 224.048 L2033.21 227.358 L2008.58 227.358 L2008.58 224.048 L2033.21 224.048 Z\" fill=\"#000000\" fill-rule=\"evenodd\" fill-opacity=\"1\" /><path clip-path=\"url(#clip690)\" d=\"M2037.22 180.159 L2041.47 180.159 L2041.47 216.178 L2037.22 216.178 L2037.22 180.159 Z\" fill=\"#000000\" fill-rule=\"evenodd\" fill-opacity=\"1\" /><path clip-path=\"url(#clip690)\" d=\"M2060.43 193.238 Q2057.01 193.238 2055.02 195.923 Q2053.03 198.585 2053.03 203.238 Q2053.03 207.891 2054.99 210.576 Q2056.98 213.238 2060.43 213.238 Q2063.84 213.238 2065.83 210.553 Q2067.82 207.867 2067.82 203.238 Q2067.82 198.631 2065.83 195.946 Q2063.84 193.238 2060.43 193.238 M2060.43 189.627 Q2065.99 189.627 2069.16 193.238 Q2072.33 196.849 2072.33 203.238 Q2072.33 209.604 2069.16 213.238 Q2065.99 216.849 2060.43 216.849 Q2054.85 216.849 2051.68 213.238 Q2048.53 209.604 2048.53 203.238 Q2048.53 196.849 2051.68 193.238 Q2054.85 189.627 2060.43 189.627 Z\" fill=\"#000000\" fill-rule=\"evenodd\" fill-opacity=\"1\" /><path clip-path=\"url(#clip690)\" d=\"M2098.05 191.247 L2098.05 195.229 Q2096.24 194.233 2094.41 193.747 Q2092.61 193.238 2090.76 193.238 Q2086.61 193.238 2084.32 195.877 Q2082.03 198.492 2082.03 203.238 Q2082.03 207.983 2084.32 210.622 Q2086.61 213.238 2090.76 213.238 Q2092.61 213.238 2094.41 212.752 Q2096.24 212.242 2098.05 211.247 L2098.05 215.182 Q2096.27 216.016 2094.34 216.432 Q2092.45 216.849 2090.29 216.849 Q2084.44 216.849 2080.99 213.168 Q2077.54 209.488 2077.54 203.238 Q2077.54 196.895 2081.01 193.261 Q2084.51 189.627 2090.57 189.627 Q2092.54 189.627 2094.41 190.043 Q2096.29 190.437 2098.05 191.247 Z\" fill=\"#000000\" fill-rule=\"evenodd\" fill-opacity=\"1\" /><path clip-path=\"url(#clip690)\" d=\"M2120.53 180.159 L2124.78 180.159 L2124.78 216.178 L2120.53 216.178 L2120.53 180.159 Z\" fill=\"#000000\" fill-rule=\"evenodd\" fill-opacity=\"1\" /><path clip-path=\"url(#clip690)\" d=\"M2138.56 185.46 L2138.56 212.335 L2144.21 212.335 Q2151.36 212.335 2154.67 209.094 Q2158 205.854 2158 198.863 Q2158 191.918 2154.67 188.701 Q2151.36 185.46 2144.21 185.46 L2138.56 185.46 M2133.88 181.618 L2143.49 181.618 Q2153.53 181.618 2158.23 185.807 Q2162.93 189.974 2162.93 198.863 Q2162.93 207.798 2158.21 211.988 Q2153.49 216.178 2143.49 216.178 L2133.88 216.178 L2133.88 181.618 Z\" fill=\"#000000\" fill-rule=\"evenodd\" fill-opacity=\"1\" /><path clip-path=\"url(#clip690)\" d=\"M2193.95 211.247 L2193.95 201.965 L2186.31 201.965 L2186.31 198.122 L2198.58 198.122 L2198.58 212.96 Q2195.87 214.881 2192.61 215.877 Q2189.34 216.849 2185.64 216.849 Q2177.54 216.849 2172.96 212.127 Q2168.4 207.381 2168.4 198.932 Q2168.4 190.46 2172.96 185.738 Q2177.54 180.993 2185.64 180.993 Q2189.02 180.993 2192.05 181.826 Q2195.11 182.659 2197.68 184.28 L2197.68 189.256 Q2195.09 187.057 2192.17 185.946 Q2189.25 184.835 2186.03 184.835 Q2179.69 184.835 2176.5 188.377 Q2173.33 191.918 2173.33 198.932 Q2173.33 205.923 2176.5 209.465 Q2179.69 213.006 2186.03 213.006 Q2188.51 213.006 2190.46 212.59 Q2192.4 212.15 2193.95 211.247 Z\" fill=\"#000000\" fill-rule=\"evenodd\" fill-opacity=\"1\" /><path clip-path=\"url(#clip690)\" d=\"M2218.67 186.224 L2212.33 203.423 L2225.04 203.423 L2218.67 186.224 M2216.03 181.618 L2221.33 181.618 L2234.51 216.178 L2229.65 216.178 L2226.5 207.312 L2210.92 207.312 L2207.77 216.178 L2202.84 216.178 L2216.03 181.618 Z\" fill=\"#000000\" fill-rule=\"evenodd\" fill-opacity=\"1\" /></svg>\n"
      ]
     },
     "execution_count": 30,
     "metadata": {},
     "output_type": "execute_result"
    }
   ],
   "source": [
    "plot(imag.(Σ_loc[1:10]), markershape=:auto, label=\"Σ DMFT\")\n",
    "plot!(imag.(Σ_ladderLoc[1:10]), markershape=:auto, label=\"Σ_loc lDGA\")"
   ]
  },
  {
   "cell_type": "code",
   "execution_count": 31,
   "id": "51189ebd",
   "metadata": {},
   "outputs": [
    {
     "data": {
      "text/plain": [
       "1×100 Matrix{ComplexF64}:\n",
       " NaN+NaN*im  NaN+NaN*im  NaN+NaN*im  …  NaN+NaN*im  NaN+NaN*im  NaN+NaN*im"
      ]
     },
     "execution_count": 31,
     "metadata": {},
     "output_type": "execute_result"
    }
   ],
   "source": [
    "Σ_ladderLoc"
   ]
  },
  {
   "cell_type": "code",
   "execution_count": 20,
   "id": "30da2ad8",
   "metadata": {},
   "outputs": [
    {
     "data": {
      "text/plain": [
       "302-element SharedArrays.SharedVector{ComplexF64}:\n",
       "  0.4999999999999984 - 0.1105392694450873im\n",
       "   0.499999999999999 - 0.13192956136868228im\n",
       "  0.4999999999999994 - 0.11772434771219897im\n",
       " 0.49999999999999917 - 0.10073567126682703im\n",
       "  0.4999999999999993 - 0.0863406550302086im\n",
       " 0.49999999999999906 - 0.07484570528200374im\n",
       " 0.49999999999999883 - 0.06571446996234798im\n",
       "  0.4999999999999984 - 0.05838969915961156im\n",
       "                 0.5 - 0.05243190076964499im\n",
       "                 0.5 - 0.047515894987474105im\n",
       "  0.5000000000000001 - 0.04340409241476273im\n",
       "                 0.5 - 0.039922059652681696im\n",
       "                 0.5 - 0.03694026950184881im\n",
       "                     ⋮\n",
       "  0.5000000000000001 - 0.0016434898768977746im\n",
       "                 0.5 - 0.0016378525677396283im\n",
       "                 0.5 - 0.0016322537168775852im\n",
       "                 0.5 - 0.00162669313783681im\n",
       " 0.49999999999999994 - 0.0016211702565271935im\n",
       "  0.5000000000000001 - 0.0016156847067065883im\n",
       "                 0.5 - 0.0016102362372976131im\n",
       "                 0.5 - 0.0016048243023476516im\n",
       "                 0.5 - 0.0015994486720956047im\n",
       "                 0.5 - 0.0015941090155422444im\n",
       "                 0.5 - 0.001588804723468229im\n",
       "                 0.5 - 0.00158353569048586im"
      ]
     },
     "execution_count": 20,
     "metadata": {},
     "output_type": "execute_result"
    }
   ],
   "source": [
    "Σ_loc"
   ]
  },
  {
   "cell_type": "code",
   "execution_count": 33,
   "id": "f701cbda",
   "metadata": {},
   "outputs": [
    {
     "name": "stderr",
     "output_type": "stream",
     "text": [
      "┌ Warning: running out of data for νn = 99 to 99 at ωn = 2, 2\n",
      "└ @ LadderDGA /home/julian/Hamburg/LadderDGA.jl/src/ladderDGATools.jl:135\n",
      "┌ Warning: running out of data for νn = 99 to 99 at ωn = 3, 3\n",
      "└ @ LadderDGA /home/julian/Hamburg/LadderDGA.jl/src/ladderDGATools.jl:135\n",
      "┌ Warning: running out of data for νn = 98 to 99 at ωn = 4, 4\n",
      "└ @ LadderDGA /home/julian/Hamburg/LadderDGA.jl/src/ladderDGATools.jl:135\n",
      "┌ Warning: running out of data for νn = 98 to 99 at ωn = 5, 5\n",
      "└ @ LadderDGA /home/julian/Hamburg/LadderDGA.jl/src/ladderDGATools.jl:135\n",
      "┌ Warning: running out of data for νn = 97 to 99 at ωn = 6, 6\n",
      "└ @ LadderDGA /home/julian/Hamburg/LadderDGA.jl/src/ladderDGATools.jl:135\n",
      "┌ Warning: running out of data for νn = 97 to 99 at ωn = 7, 7\n",
      "└ @ LadderDGA /home/julian/Hamburg/LadderDGA.jl/src/ladderDGATools.jl:135\n",
      "┌ Warning: running out of data for νn = 96 to 99 at ωn = 8, 8\n",
      "└ @ LadderDGA /home/julian/Hamburg/LadderDGA.jl/src/ladderDGATools.jl:135\n",
      "┌ Warning: running out of data for νn = 96 to 99 at ωn = 9, 9\n",
      "└ @ LadderDGA /home/julian/Hamburg/LadderDGA.jl/src/ladderDGATools.jl:135\n",
      "┌ Warning: running out of data for νn = 95 to 99 at ωn = 10, 10\n",
      "└ @ LadderDGA /home/julian/Hamburg/LadderDGA.jl/src/ladderDGATools.jl:135\n",
      "┌ Warning: running out of data for νn = 95 to 99 at ωn = 11, 11\n",
      "└ @ LadderDGA /home/julian/Hamburg/LadderDGA.jl/src/ladderDGATools.jl:135\n",
      "┌ Warning: running out of data for νn = 94 to 99 at ωn = 12, 12\n",
      "└ @ LadderDGA /home/julian/Hamburg/LadderDGA.jl/src/ladderDGATools.jl:135\n",
      "┌ Warning: running out of data for νn = 94 to 99 at ωn = 13, 13\n",
      "└ @ LadderDGA /home/julian/Hamburg/LadderDGA.jl/src/ladderDGATools.jl:135\n",
      "┌ Warning: running out of data for νn = 93 to 99 at ωn = 14, 14\n",
      "└ @ LadderDGA /home/julian/Hamburg/LadderDGA.jl/src/ladderDGATools.jl:135\n",
      "┌ Warning: running out of data for νn = 93 to 99 at ωn = 15, 15\n",
      "└ @ LadderDGA /home/julian/Hamburg/LadderDGA.jl/src/ladderDGATools.jl:135\n",
      "┌ Warning: running out of data for νn = 92 to 99 at ωn = 16, 16\n",
      "└ @ LadderDGA /home/julian/Hamburg/LadderDGA.jl/src/ladderDGATools.jl:135\n",
      "┌ Warning: running out of data for νn = 92 to 99 at ωn = 17, 17\n",
      "└ @ LadderDGA /home/julian/Hamburg/LadderDGA.jl/src/ladderDGATools.jl:135\n",
      "┌ Warning: running out of data for νn = 91 to 99 at ωn = 18, 18\n",
      "└ @ LadderDGA /home/julian/Hamburg/LadderDGA.jl/src/ladderDGATools.jl:135\n",
      "┌ Warning: running out of data for νn = 91 to 99 at ωn = 19, 19\n",
      "└ @ LadderDGA /home/julian/Hamburg/LadderDGA.jl/src/ladderDGATools.jl:135\n",
      "┌ Warning: running out of data for νn = 90 to 99 at ωn = 20, 20\n",
      "└ @ LadderDGA /home/julian/Hamburg/LadderDGA.jl/src/ladderDGATools.jl:135\n",
      "┌ Warning: running out of data for νn = 90 to 99 at ωn = 21, 21\n",
      "└ @ LadderDGA /home/julian/Hamburg/LadderDGA.jl/src/ladderDGATools.jl:135\n",
      "┌ Warning: running out of data for νn = 89 to 99 at ωn = 22, 22\n",
      "└ @ LadderDGA /home/julian/Hamburg/LadderDGA.jl/src/ladderDGATools.jl:135\n",
      "┌ Warning: running out of data for νn = 89 to 99 at ωn = 23, 23\n",
      "└ @ LadderDGA /home/julian/Hamburg/LadderDGA.jl/src/ladderDGATools.jl:135\n",
      "┌ Warning: running out of data for νn = 88 to 99 at ωn = 24, 24\n",
      "└ @ LadderDGA /home/julian/Hamburg/LadderDGA.jl/src/ladderDGATools.jl:135\n",
      "┌ Warning: running out of data for νn = 88 to 99 at ωn = 25, 25\n",
      "└ @ LadderDGA /home/julian/Hamburg/LadderDGA.jl/src/ladderDGATools.jl:135\n",
      "┌ Warning: running out of data for νn = 87 to 99 at ωn = 26, 26\n",
      "└ @ LadderDGA /home/julian/Hamburg/LadderDGA.jl/src/ladderDGATools.jl:135\n",
      "┌ Warning: running out of data for νn = 87 to 99 at ωn = 27, 27\n",
      "└ @ LadderDGA /home/julian/Hamburg/LadderDGA.jl/src/ladderDGATools.jl:135\n",
      "┌ Warning: running out of data for νn = 86 to 99 at ωn = 28, 28\n",
      "└ @ LadderDGA /home/julian/Hamburg/LadderDGA.jl/src/ladderDGATools.jl:135\n",
      "┌ Warning: running out of data for νn = 86 to 99 at ωn = 29, 29\n",
      "└ @ LadderDGA /home/julian/Hamburg/LadderDGA.jl/src/ladderDGATools.jl:135\n",
      "┌ Warning: running out of data for νn = 85 to 99 at ωn = 30, 30\n",
      "└ @ LadderDGA /home/julian/Hamburg/LadderDGA.jl/src/ladderDGATools.jl:135\n",
      "┌ Warning: running out of data for νn = 85 to 99 at ωn = 31, 31\n",
      "└ @ LadderDGA /home/julian/Hamburg/LadderDGA.jl/src/ladderDGATools.jl:135\n",
      "┌ Warning: running out of data for νn = 84 to 99 at ωn = 32, 32\n",
      "└ @ LadderDGA /home/julian/Hamburg/LadderDGA.jl/src/ladderDGATools.jl:135\n",
      "┌ Warning: running out of data for νn = 84 to 99 at ωn = 33, 33\n",
      "└ @ LadderDGA /home/julian/Hamburg/LadderDGA.jl/src/ladderDGATools.jl:135\n",
      "┌ Warning: running out of data for νn = 83 to 99 at ωn = 34, 34\n",
      "└ @ LadderDGA /home/julian/Hamburg/LadderDGA.jl/src/ladderDGATools.jl:135\n",
      "┌ Warning: running out of data for νn = 83 to 99 at ωn = 35, 35\n",
      "└ @ LadderDGA /home/julian/Hamburg/LadderDGA.jl/src/ladderDGATools.jl:135\n",
      "┌ Warning: running out of data for νn = 82 to 99 at ωn = 36, 36\n",
      "└ @ LadderDGA /home/julian/Hamburg/LadderDGA.jl/src/ladderDGATools.jl:135\n",
      "┌ Warning: running out of data for νn = 82 to 99 at ωn = 37, 37\n",
      "└ @ LadderDGA /home/julian/Hamburg/LadderDGA.jl/src/ladderDGATools.jl:135\n",
      "┌ Warning: running out of data for νn = 81 to 99 at ωn = 38, 38\n",
      "└ @ LadderDGA /home/julian/Hamburg/LadderDGA.jl/src/ladderDGATools.jl:135\n",
      "┌ Warning: running out of data for νn = 81 to 99 at ωn = 39, 39\n",
      "└ @ LadderDGA /home/julian/Hamburg/LadderDGA.jl/src/ladderDGATools.jl:135\n",
      "┌ Warning: running out of data for νn = 80 to 99 at ωn = 40, 40\n",
      "└ @ LadderDGA /home/julian/Hamburg/LadderDGA.jl/src/ladderDGATools.jl:135\n",
      "┌ Warning: running out of data for νn = 80 to 99 at ωn = 41, 41\n",
      "└ @ LadderDGA /home/julian/Hamburg/LadderDGA.jl/src/ladderDGATools.jl:135\n",
      "┌ Warning: running out of data for νn = 79 to 99 at ωn = 42, 42\n",
      "└ @ LadderDGA /home/julian/Hamburg/LadderDGA.jl/src/ladderDGATools.jl:135\n",
      "┌ Warning: running out of data for νn = 79 to 99 at ωn = 43, 43\n",
      "└ @ LadderDGA /home/julian/Hamburg/LadderDGA.jl/src/ladderDGATools.jl:135\n",
      "┌ Warning: running out of data for νn = 78 to 99 at ωn = 44, 44\n",
      "└ @ LadderDGA /home/julian/Hamburg/LadderDGA.jl/src/ladderDGATools.jl:135\n",
      "┌ Warning: running out of data for νn = 78 to 99 at ωn = 45, 45\n",
      "└ @ LadderDGA /home/julian/Hamburg/LadderDGA.jl/src/ladderDGATools.jl:135\n",
      "┌ Warning: running out of data for νn = 77 to 99 at ωn = 46, 46\n",
      "└ @ LadderDGA /home/julian/Hamburg/LadderDGA.jl/src/ladderDGATools.jl:135\n",
      "┌ Warning: running out of data for νn = 77 to 99 at ωn = 47, 47\n",
      "└ @ LadderDGA /home/julian/Hamburg/LadderDGA.jl/src/ladderDGATools.jl:135\n",
      "┌ Warning: running out of data for νn = 76 to 99 at ωn = 48, 48\n",
      "└ @ LadderDGA /home/julian/Hamburg/LadderDGA.jl/src/ladderDGATools.jl:135\n",
      "┌ Warning: running out of data for νn = 76 to 99 at ωn = 49, 49\n",
      "└ @ LadderDGA /home/julian/Hamburg/LadderDGA.jl/src/ladderDGATools.jl:135\n",
      "┌ Warning: running out of data for νn = 75 to 99 at ωn = 50, 50\n",
      "└ @ LadderDGA /home/julian/Hamburg/LadderDGA.jl/src/ladderDGATools.jl:135\n"
     ]
    }
   ],
   "source": [
    "Σ_ladderLoc2,Σ_ladderLoc2_w,tmp = LadderDGA.calc_Σ_dbg(locQ_sp, locQ_ch, bubbleLoc, gImp, FUpDo, qGridLoc, mP, sP)\n",
    "#Σ_ladderLoc2 = Σ_ladderLoc2 .+ mP.n * mP.U/2.0;"
   ]
  },
  {
   "cell_type": "code",
   "execution_count": 34,
   "id": "1a27c783",
   "metadata": {},
   "outputs": [
    {
     "data": {
      "text/plain": [
       "101×100×1 Array{ComplexF64, 3}:\n",
       "[:, :, 1] =\n",
       " NaN+NaN*im  NaN+NaN*im  NaN+NaN*im  …  NaN+NaN*im  NaN+NaN*im  NaN+NaN*im\n",
       " NaN+NaN*im  NaN+NaN*im  NaN+NaN*im     NaN+NaN*im  NaN+NaN*im  NaN+NaN*im\n",
       " NaN+NaN*im  NaN+NaN*im  NaN+NaN*im     NaN+NaN*im  NaN+NaN*im  NaN+NaN*im\n",
       " NaN+NaN*im  NaN+NaN*im  NaN+NaN*im     NaN+NaN*im  NaN+NaN*im  NaN+NaN*im\n",
       " NaN+NaN*im  NaN+NaN*im  NaN+NaN*im     NaN+NaN*im  NaN+NaN*im  NaN+NaN*im\n",
       " NaN+NaN*im  NaN+NaN*im  NaN+NaN*im  …  NaN+NaN*im  NaN+NaN*im  NaN+NaN*im\n",
       " NaN+NaN*im  NaN+NaN*im  NaN+NaN*im     NaN+NaN*im  NaN+NaN*im  NaN+NaN*im\n",
       " NaN+NaN*im  NaN+NaN*im  NaN+NaN*im     NaN+NaN*im  NaN+NaN*im  NaN+NaN*im\n",
       " NaN+NaN*im  NaN+NaN*im  NaN+NaN*im     NaN+NaN*im  NaN+NaN*im  NaN+NaN*im\n",
       " NaN+NaN*im  NaN+NaN*im  NaN+NaN*im     NaN+NaN*im  NaN+NaN*im  NaN+NaN*im\n",
       " NaN+NaN*im  NaN+NaN*im  NaN+NaN*im  …  NaN+NaN*im  NaN+NaN*im  NaN+NaN*im\n",
       " NaN+NaN*im  NaN+NaN*im  NaN+NaN*im     NaN+NaN*im  NaN+NaN*im  NaN+NaN*im\n",
       " NaN+NaN*im  NaN+NaN*im  NaN+NaN*im     NaN+NaN*im  NaN+NaN*im  NaN+NaN*im\n",
       "    ⋮                                ⋱                          \n",
       " NaN+NaN*im  NaN+NaN*im  NaN+NaN*im     0.0+0.0im   0.0+0.0im   0.0+0.0im\n",
       " NaN+NaN*im  NaN+NaN*im  NaN+NaN*im  …  0.0+0.0im   0.0+0.0im   0.0+0.0im\n",
       " NaN+NaN*im  NaN+NaN*im  NaN+NaN*im     0.0+0.0im   0.0+0.0im   0.0+0.0im\n",
       " NaN+NaN*im  NaN+NaN*im  NaN+NaN*im     0.0+0.0im   0.0+0.0im   0.0+0.0im\n",
       " NaN+NaN*im  NaN+NaN*im  NaN+NaN*im     0.0+0.0im   0.0+0.0im   0.0+0.0im\n",
       " NaN+NaN*im  NaN+NaN*im  NaN+NaN*im     0.0+0.0im   0.0+0.0im   0.0+0.0im\n",
       " NaN+NaN*im  NaN+NaN*im  NaN+NaN*im  …  0.0+0.0im   0.0+0.0im   0.0+0.0im\n",
       " NaN+NaN*im  NaN+NaN*im  NaN+NaN*im     0.0+0.0im   0.0+0.0im   0.0+0.0im\n",
       " NaN+NaN*im  NaN+NaN*im  NaN+NaN*im     0.0+0.0im   0.0+0.0im   0.0+0.0im\n",
       " NaN+NaN*im  NaN+NaN*im  NaN+NaN*im     0.0+0.0im   0.0+0.0im   0.0+0.0im\n",
       " NaN+NaN*im  NaN+NaN*im  NaN+NaN*im     0.0+0.0im   0.0+0.0im   0.0+0.0im\n",
       " NaN+NaN*im  NaN+NaN*im  NaN+NaN*im  …  0.0+0.0im   0.0+0.0im   0.0+0.0im"
      ]
     },
     "execution_count": 34,
     "metadata": {},
     "output_type": "execute_result"
    }
   ],
   "source": [
    "Σ_ladderLoc2_w"
   ]
  },
  {
   "cell_type": "code",
   "execution_count": 35,
   "id": "f2b1bebb",
   "metadata": {},
   "outputs": [
    {
     "data": {
      "text/plain": [
       "100×1 Matrix{ComplexF64}:\n",
       " NaN + NaN*im\n",
       " NaN + NaN*im\n",
       " NaN + NaN*im\n",
       " NaN + NaN*im\n",
       " NaN + NaN*im\n",
       " NaN + NaN*im\n",
       " NaN + NaN*im\n",
       " NaN + NaN*im\n",
       " NaN + NaN*im\n",
       " NaN + NaN*im\n",
       " NaN + NaN*im\n",
       " NaN + NaN*im\n",
       " NaN + NaN*im\n",
       "     ⋮\n",
       " NaN + NaN*im\n",
       " NaN + NaN*im\n",
       " NaN + NaN*im\n",
       " NaN + NaN*im\n",
       " NaN + NaN*im\n",
       " NaN + NaN*im\n",
       " NaN + NaN*im\n",
       " NaN + NaN*im\n",
       " NaN + NaN*im\n",
       " NaN + NaN*im\n",
       " NaN + NaN*im\n",
       " NaN + NaN*im"
      ]
     },
     "execution_count": 35,
     "metadata": {},
     "output_type": "execute_result"
    }
   ],
   "source": [
    "Σ_ladderLoc2"
   ]
  },
  {
   "cell_type": "code",
   "execution_count": 37,
   "id": "f0ecae0e",
   "metadata": {},
   "outputs": [
    {
     "data": {
      "text/plain": [
       "0.0"
      ]
     },
     "execution_count": 37,
     "metadata": {},
     "output_type": "execute_result"
    }
   ],
   "source": [
    "maximum(tmp)"
   ]
  },
  {
   "cell_type": "code",
   "execution_count": 40,
   "id": "e33c33ce",
   "metadata": {},
   "outputs": [
    {
     "data": {
      "text/plain": [
       "-0.0"
      ]
     },
     "execution_count": 40,
     "metadata": {},
     "output_type": "execute_result"
    }
   ],
   "source": [
    "maximum(real.(bubbleLoc))"
   ]
  },
  {
   "cell_type": "code",
   "execution_count": null,
   "id": "8c9cbfa4",
   "metadata": {},
   "outputs": [],
   "source": []
  }
 ],
 "metadata": {
  "kernelspec": {
   "display_name": "Julia 1.6.0",
   "language": "julia",
   "name": "julia-1.6"
  },
  "language_info": {
   "file_extension": ".jl",
   "mimetype": "application/julia",
   "name": "julia",
   "version": "1.7.0"
  }
 },
 "nbformat": 4,
 "nbformat_minor": 5
}
