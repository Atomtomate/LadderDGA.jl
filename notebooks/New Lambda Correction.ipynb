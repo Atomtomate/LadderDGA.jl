{
 "cells": [
  {
   "cell_type": "code",
   "execution_count": 95,
   "metadata": {
    "scrolled": true
   },
   "outputs": [],
   "source": [
    "ENV[\"GKS_ENCODING\"] = \"utf-8\"\n",
    "using NLsolve\n",
    "using Plots\n",
    "using IntervalArithmetic, IntervalRootFinding\n",
    "using SharedArrays\n",
    "\n",
    "using HDF5\n",
    "using LadderDGA\n",
    "using Suppressor\n",
    "using Logging\n",
    "\n",
    "\n",
    "cfg_file = \"/home/julian/Hamburg/lDGA_shift_tests/configs/config_50_100_u1_b12.toml\"\n",
    "\n",
    "io = stdout\n",
    "metafmt(level::Logging.LogLevel, _module, group, id, file, line) = Logging.default_metafmt(level, nothing, group,     id, nothing, nothing)\n",
    "logger = ConsoleLogger(io, Logging.Info, meta_formatter=metafmt, show_limited=true, right_justify=0)\n",
    "global_logger(logger);"
   ]
  },
  {
   "cell_type": "code",
   "execution_count": 96,
   "metadata": {},
   "outputs": [
    {
     "name": "stdout",
     "output_type": "stream",
     "text": [
      "\u001b[36m\u001b[1m[ \u001b[22m\u001b[39m\u001b[36m\u001b[1mInfo: \u001b[22m\u001b[39mReading Inputs...\n",
      "\u001b[33m\u001b[1m[ \u001b[22m\u001b[39m\u001b[33m\u001b[1mWarning: \u001b[22m\u001b[39mTODO: check beta consistency, config <-> g0man, chi_dir <-> gamma dir\n",
      "\u001b[36m\u001b[1m[ \u001b[22m\u001b[39m\u001b[36m\u001b[1mInfo: \u001b[22m\u001b[39msetting usable ranges of sp and ch channel from 38:64 and 38:64 to the same range of 38:64\n",
      "\u001b[36m\u001b[1m┌ \u001b[22m\u001b[39m\u001b[36m\u001b[1mInfo: \u001b[22m\u001b[39mInputs Read. Starting Computation.\n",
      "\u001b[36m\u001b[1m│ \u001b[22m\u001b[39mLocal susceptibilities with ranges are:\n",
      "\u001b[36m\u001b[1m│ \u001b[22m\u001b[39mχLoc_sp(38:64) = 0.3182, χLoc_ch(38:64) = 0.1222 \n",
      "\u001b[36m\u001b[1m└ \u001b[22m\u001b[39msum χupup check (fit, tail sub, tail sub + fit, expected): 0.2201987037827738 ?≈? 0.22019870378277384 ?=? 0.22019870378277384 ?≈? 0.25\"\n"
     ]
    }
   ],
   "source": [
    "mP, sP, env, kGrids, qGridLoc, freqRed_map, freqList, freqList_min, parents, ops, nFermi, nBose, shift, base, offset = readConfig(cfg_file)\n",
    "kG = kGrids[1]\n",
    "νGrid, sumHelper_f, impQ_sp, impQ_ch, GImp_fft, GLoc_fft, Σ_loc, FUpDo, gImp, gLoc = setup_LDGA(kG, freqList, mP, sP, env);"
   ]
  },
  {
   "cell_type": "code",
   "execution_count": 97,
   "metadata": {},
   "outputs": [],
   "source": [
    "# ladder quantities\n",
    "bubble = calc_bubble(νGrid, GLoc_fft, kG, mP, sP);\n",
    "nlQ_sp = calc_χ_trilex(impQ_sp.Γ, bubble, kG, νGrid, sumHelper_f, mP.U, mP, sP);\n",
    "nlQ_ch = calc_χ_trilex(impQ_ch.Γ, bubble, kG, νGrid, sumHelper_f, -mP.U, mP, sP);\n",
    "\n",
    "# \"local\" correction quantities\n",
    "bubbleLoc = calc_bubble(νGrid, GImp_fft, qGridLoc, mP, sP);\n",
    "locQ_sp = calc_χ_trilex(impQ_sp.Γ, bubbleLoc, qGridLoc, νGrid, sumHelper_f, mP.U, mP, sP);\n",
    "locQ_ch = calc_χ_trilex(impQ_ch.Γ, bubbleLoc, qGridLoc, νGrid, sumHelper_f, -mP.U, mP, sP);\n",
    "Σ_ladderLoc = calc_Σ(locQ_sp, locQ_ch, bubbleLoc, GImp_fft, FUpDo,\n",
    "                     qGridLoc, sumHelper_f, mP, sP)\n",
    "\n",
    "Σ_ladderLoc = Σ_ladderLoc .+ mP.n * mP.U/2.0;\n",
    "\n",
    "nlQ_sp_nλ = deepcopy(nlQ_sp);\n",
    "nlQ_ch_nλ = deepcopy(nlQ_ch);"
   ]
  },
  {
   "cell_type": "code",
   "execution_count": 98,
   "metadata": {},
   "outputs": [
    {
     "data": {
      "text/plain": [
       "0.004716993502033563 - 0.0im"
      ]
     },
     "execution_count": 98,
     "metadata": {},
     "output_type": "execute_result"
    }
   ],
   "source": [
    "bubbleLoc[1,1,1]"
   ]
  },
  {
   "cell_type": "code",
   "execution_count": 73,
   "metadata": {},
   "outputs": [
    {
     "name": "stdout",
     "output_type": "stream",
     "text": [
      "\u001b[36m\u001b[1m┌ \u001b[22m\u001b[39m\u001b[36m\u001b[1mInfo: \u001b[22m\u001b[39mComputing λsp corrected χsp, using \n",
      "\u001b[36m\u001b[1m│ \u001b[22m\u001b[39m  sP.χFillType = lambda_χ_fill::ChiFillType = 1\n",
      "\u001b[36m\u001b[1m└ \u001b[22m\u001b[39m   as fill value outside usable ω range. = \" as fill value outside usable ω range.\"\n",
      "\u001b[33m\u001b[1m[ \u001b[22m\u001b[39m\u001b[33m\u001b[1mWarning: \u001b[22m\u001b[39mcurrently using min(usable_sp, usable_ch) = min(34:68,34:68) = 34:68 for all calculations. relax this?\n",
      "\u001b[36m\u001b[1m┌ \u001b[22m\u001b[39m\u001b[36m\u001b[1mInfo: \u001b[22m\u001b[39mFound usable intervals for non-local susceptibility of length \n",
      "\u001b[36m\u001b[1m│ \u001b[22m\u001b[39msp: 34:68, length: 35\n",
      "\u001b[36m\u001b[1m│ \u001b[22m\u001b[39mch: 34:68, length: 35\n",
      "\u001b[36m\u001b[1m│ \u001b[22m\u001b[39musable: 34:68, length: 35\n",
      "\u001b[36m\u001b[1m└ \u001b[22m\u001b[39mχch sum = 0.16076139077738255, rhs = 0.2796360167881651\n",
      "\u001b[36m\u001b[1m┌ \u001b[22m\u001b[39m\u001b[36m\u001b[1mInfo: \u001b[22m\u001b[39mfound \n",
      "\u001b[36m\u001b[1m│ \u001b[22m\u001b[39m  χ_min = -0.08768402270152302\n",
      "\u001b[36m\u001b[1m└ \u001b[22m\u001b[39m  \". Looking for roots in intervall $(int)\" = \". Looking for roots in intervall [-0.08768402270152302, 1.7536804540304605]\"\n",
      "\u001b[36m\u001b[1m┌ \u001b[22m\u001b[39m\u001b[36m\u001b[1mInfo: \u001b[22m\u001b[39mFound λsp \n",
      "\u001b[36m\u001b[1m└ \u001b[22m\u001b[39m  λsp = 0.608810706895889\n",
      "\u001b[36m\u001b[1m[ \u001b[22m\u001b[39m\u001b[36m\u001b[1mInfo: \u001b[22m\u001b[39mnew lambda correction: λsp=0.0 and λch=0.0\n"
     ]
    },
    {
     "data": {
      "text/plain": [
       "(0.608810706895889, [0.0, 0.0])"
      ]
     },
     "execution_count": 73,
     "metadata": {},
     "output_type": "execute_result"
    }
   ],
   "source": [
    "λ_sp, λ_spch  = λ_correction!(impQ_sp, impQ_ch, FUpDo, Σ_loc, Σ_ladderLoc, nlQ_sp, nlQ_ch, bubble, GLoc_fft, kG, mP, sP)"
   ]
  },
  {
   "cell_type": "code",
   "execution_count": 74,
   "metadata": {},
   "outputs": [],
   "source": [
    "Σ_ladder = calc_Σ(nlQ_sp, nlQ_ch, bubble, GLoc_fft, FUpDo, kG, sumHelper_f, mP, sP)\n",
    "Σ_ladder_corrected = Σ_ladder .- Σ_ladderLoc .+ Σ_loc[1:size(Σ_ladder,1)];"
   ]
  },
  {
   "cell_type": "markdown",
   "metadata": {},
   "source": [
    "# Preparation\n",
    "\n",
    "For the extended $\\lambda$ correction, we need to compute ladder kinetic and potential energy of the system and also compute the DMFT kinetic energy (for improved sums)"
   ]
  },
  {
   "cell_type": "code",
   "execution_count": 44,
   "metadata": {},
   "outputs": [],
   "source": [
    "# renaming to make code consistent with module\n",
    "kGrid = kG\n",
    "iν_array = LadderDGA.iν_array\n",
    "Σ_internal! = LadderDGA.Σ_internal!\n",
    "subtract_tail = LadderDGA.subtract_tail\n",
    "χ_λ! = LadderDGA.χ_λ!\n",
    "kintegrate = LadderDGA.kintegrate\n",
    "Naive = LadderDGA.Naive\n",
    "\n",
    "# DMFT Energies\n",
    "iνₙ, GImp    = LadderDGA.readGImp(env.inputDir * \"/gm_wim\", only_positive=true)\n",
    "ϵₖ, Vₖ, μ    = LadderDGA.read_anderson_parameters(env.inputDir * \"/hubb.andpar\");\n",
    "E_kin_ED, E_pot_ED  = LadderDGA.calc_E_ED(iνₙ[1:length(GImp)], ϵₖ, Vₖ, GImp, mP)\n",
    "\n",
    "\n",
    "\n",
    "# Ladder Energies\n",
    "Σ_hartree = mP.n * mP.U/2\n",
    "E_pot_tail_c = (mP.U^2 * 0.5 * mP.n * (1-0.5*mP.n) .+ Σ_hartree .* (kGrid.ϵkGrid .+ Σ_hartree .- mP.μ))\n",
    "E_pot_tail = E_pot_tail_c' ./ (iν_array(mP.β, 0:sP.n_iν-1) .^ 2)\n",
    "E_pot_tail_inv = sum((mP.β/2)  .* [Σ_hartree .* ones(size(kGrid.ϵkGrid)), (-mP.β/2) .* E_pot_tail_c]);"
   ]
  },
  {
   "cell_type": "code",
   "execution_count": 45,
   "metadata": {},
   "outputs": [
    {
     "data": {
      "text/plain": [
       "0.19161700186542138"
      ]
     },
     "execution_count": 45,
     "metadata": {},
     "output_type": "execute_result"
    }
   ],
   "source": [
    "function new_χ!(χ_λ::SharedArray, χ::SharedArray, λ::Float64)\n",
    "    for i in eachindex(χ_λ)\n",
    "        χ_λ[i] = 1.0 / ((1.0 / χ[i]) + λ)\n",
    "    end\n",
    "end\n",
    "\n",
    "νZero = sP.n_iν\n",
    "ωZero = sP.n_iω\n",
    "ωindices = intersect(nlQ_sp.usable_ω, nlQ_ch.usable_ω)\n",
    "iωn = 1im .* 2 .* (-sP.n_iω:sP.n_iω)[ωindices] .* π ./ mP.β\n",
    "sh_f = get_sum_helper(2*sP.n_iν, sP, :f)\n",
    "sh_b = LadderDGA.Naive() #get_sum_helper(length(ωindices), sP, :b)\n",
    "\n",
    "χch_ω = kintegrate(kGrid, nlQ_ch.χ[ωindices,:], dim=2)[:,1]\n",
    "χch_ω_sub = subtract_tail(χch_ω, impQ_ch.tailCoeffs[3], iωn)\n",
    "χch_sum = real(sum_freq(χch_ω_sub, [1], Naive(), mP.β, corr=-impQ_ch.tailCoeffs[3]*mP.β^2/12)[1])"
   ]
  },
  {
   "cell_type": "markdown",
   "metadata": {},
   "source": [
    "# Cond 1 Test\n",
    "## λsp(λch)"
   ]
  },
  {
   "cell_type": "code",
   "execution_count": 46,
   "metadata": {},
   "outputs": [
    {
     "name": "stdout",
     "output_type": "stream",
     "text": [
      "estimated smallest vaue for λ λsp ≈ -0.08658444558427382, λch ≈ -2.6221866389083575\n"
     ]
    }
   ],
   "source": [
    "nh = ceil(Int64, size(nlQ_ch.χ,1)/2)\n",
    "λch_min = -1 / maximum(real.(nlQ_ch_nλ.χ[nh,:]))\n",
    "λsp_min = -1 / maximum(real.(nlQ_sp_nλ.χ[nh,:]))\n",
    "println(\"estimated smallest vaue for λ λsp ≈ $(λsp_min), λch ≈ $(λch_min)\")"
   ]
  },
  {
   "cell_type": "code",
   "execution_count": 47,
   "metadata": {},
   "outputs": [],
   "source": [
    "χch_λ = Array{Complex{Float64},2}(undef,length(ωindices), size(nlQ_sp.χ,2))\n",
    "λch_range = λch_min:0.45:10\n",
    "spOfch_max_nl = zeros(length(λch_range))\n",
    "χupdo_ω = Array{eltype(nlQ_sp.χ),1}(undef, length(ωindices))\n",
    "χupup_ω = Array{eltype(nlQ_sp.χ),1}(undef, length(ωindices))\n",
    "\n",
    "for (λi,λchi) in enumerate(λch_range)\n",
    "    χsp_λ = real.(deepcopy(nlQ_sp_nλ.χ[ωindices,:]))\n",
    "    χ_λ!(χch_λ, nlQ_ch_nλ.χ[ωindices,:], λchi)\n",
    "    χch_ω = kintegrate(kGrid, χch_λ, dim=2)[:,1]\n",
    "    χch_ω_sub = subtract_tail(χch_ω, impQ_ch.tailCoeffs[3], iωn)\n",
    "    χch_sum = real(sum_freq(χch_ω_sub, [1], Naive(), mP.β, corr=-impQ_ch.tailCoeffs[3]*mP.β^2/12)[1])\n",
    "    rhs_val = (mP.n) * (1 - mP.n/2) - χch_sum\n",
    "    spOfch_max_nl[λi] = LadderDGA.λsp(χsp_λ, iωn, E_kin_ED, rhs_val, kGrid, mP)\n",
    "end"
   ]
  },
  {
   "cell_type": "code",
   "execution_count": 48,
   "metadata": {
    "scrolled": false
   },
   "outputs": [
    {
     "data": {
      "image/svg+xml": [
       "<?xml version=\"1.0\" encoding=\"utf-8\"?>\n",
       "<svg xmlns=\"http://www.w3.org/2000/svg\" xmlns:xlink=\"http://www.w3.org/1999/xlink\" width=\"600\" height=\"400\" viewBox=\"0 0 2400 1600\">\n",
       "<defs>\n",
       "  <clipPath id=\"clip560\">\n",
       "    <rect x=\"0\" y=\"0\" width=\"2400\" height=\"1600\"/>\n",
       "  </clipPath>\n",
       "</defs>\n",
       "<path clip-path=\"url(#clip560)\" d=\"\n",
       "M0 1600 L2400 1600 L2400 0 L0 0  Z\n",
       "  \" fill=\"#ffffff\" fill-rule=\"evenodd\" fill-opacity=\"1\"/>\n",
       "<defs>\n",
       "  <clipPath id=\"clip561\">\n",
       "    <rect x=\"480\" y=\"0\" width=\"1681\" height=\"1600\"/>\n",
       "  </clipPath>\n",
       "</defs>\n",
       "<path clip-path=\"url(#clip560)\" d=\"\n",
       "M175.445 1423.18 L2352.76 1423.18 L2352.76 47.2441 L175.445 47.2441  Z\n",
       "  \" fill=\"#ffffff\" fill-rule=\"evenodd\" fill-opacity=\"1\"/>\n",
       "<defs>\n",
       "  <clipPath id=\"clip562\">\n",
       "    <rect x=\"175\" y=\"47\" width=\"2178\" height=\"1377\"/>\n",
       "  </clipPath>\n",
       "</defs>\n",
       "<polyline clip-path=\"url(#clip562)\" style=\"stroke:#000000; stroke-linecap:butt; stroke-linejoin:round; stroke-width:2; stroke-opacity:0.1; fill:none\" points=\"\n",
       "  338.497,1423.18 338.497,47.2441 \n",
       "  \"/>\n",
       "<polyline clip-path=\"url(#clip562)\" style=\"stroke:#000000; stroke-linecap:butt; stroke-linejoin:round; stroke-width:2; stroke-opacity:0.1; fill:none\" points=\"\n",
       "  664.539,1423.18 664.539,47.2441 \n",
       "  \"/>\n",
       "<polyline clip-path=\"url(#clip562)\" style=\"stroke:#000000; stroke-linecap:butt; stroke-linejoin:round; stroke-width:2; stroke-opacity:0.1; fill:none\" points=\"\n",
       "  990.581,1423.18 990.581,47.2441 \n",
       "  \"/>\n",
       "<polyline clip-path=\"url(#clip562)\" style=\"stroke:#000000; stroke-linecap:butt; stroke-linejoin:round; stroke-width:2; stroke-opacity:0.1; fill:none\" points=\"\n",
       "  1316.62,1423.18 1316.62,47.2441 \n",
       "  \"/>\n",
       "<polyline clip-path=\"url(#clip562)\" style=\"stroke:#000000; stroke-linecap:butt; stroke-linejoin:round; stroke-width:2; stroke-opacity:0.1; fill:none\" points=\"\n",
       "  1642.67,1423.18 1642.67,47.2441 \n",
       "  \"/>\n",
       "<polyline clip-path=\"url(#clip562)\" style=\"stroke:#000000; stroke-linecap:butt; stroke-linejoin:round; stroke-width:2; stroke-opacity:0.1; fill:none\" points=\"\n",
       "  1968.71,1423.18 1968.71,47.2441 \n",
       "  \"/>\n",
       "<polyline clip-path=\"url(#clip562)\" style=\"stroke:#000000; stroke-linecap:butt; stroke-linejoin:round; stroke-width:2; stroke-opacity:0.1; fill:none\" points=\"\n",
       "  2294.75,1423.18 2294.75,47.2441 \n",
       "  \"/>\n",
       "<polyline clip-path=\"url(#clip560)\" style=\"stroke:#000000; stroke-linecap:butt; stroke-linejoin:round; stroke-width:4; stroke-opacity:1; fill:none\" points=\"\n",
       "  175.445,1423.18 2352.76,1423.18 \n",
       "  \"/>\n",
       "<polyline clip-path=\"url(#clip560)\" style=\"stroke:#000000; stroke-linecap:butt; stroke-linejoin:round; stroke-width:4; stroke-opacity:1; fill:none\" points=\"\n",
       "  338.497,1423.18 338.497,1406.67 \n",
       "  \"/>\n",
       "<polyline clip-path=\"url(#clip560)\" style=\"stroke:#000000; stroke-linecap:butt; stroke-linejoin:round; stroke-width:4; stroke-opacity:1; fill:none\" points=\"\n",
       "  664.539,1423.18 664.539,1406.67 \n",
       "  \"/>\n",
       "<polyline clip-path=\"url(#clip560)\" style=\"stroke:#000000; stroke-linecap:butt; stroke-linejoin:round; stroke-width:4; stroke-opacity:1; fill:none\" points=\"\n",
       "  990.581,1423.18 990.581,1406.67 \n",
       "  \"/>\n",
       "<polyline clip-path=\"url(#clip560)\" style=\"stroke:#000000; stroke-linecap:butt; stroke-linejoin:round; stroke-width:4; stroke-opacity:1; fill:none\" points=\"\n",
       "  1316.62,1423.18 1316.62,1406.67 \n",
       "  \"/>\n",
       "<polyline clip-path=\"url(#clip560)\" style=\"stroke:#000000; stroke-linecap:butt; stroke-linejoin:round; stroke-width:4; stroke-opacity:1; fill:none\" points=\"\n",
       "  1642.67,1423.18 1642.67,1406.67 \n",
       "  \"/>\n",
       "<polyline clip-path=\"url(#clip560)\" style=\"stroke:#000000; stroke-linecap:butt; stroke-linejoin:round; stroke-width:4; stroke-opacity:1; fill:none\" points=\"\n",
       "  1968.71,1423.18 1968.71,1406.67 \n",
       "  \"/>\n",
       "<polyline clip-path=\"url(#clip560)\" style=\"stroke:#000000; stroke-linecap:butt; stroke-linejoin:round; stroke-width:4; stroke-opacity:1; fill:none\" points=\"\n",
       "  2294.75,1423.18 2294.75,1406.67 \n",
       "  \"/>\n",
       "<path clip-path=\"url(#clip560)\" d=\"M308.439 1467.02 L338.115 1467.02 L338.115 1470.96 L308.439 1470.96 L308.439 1467.02 Z\" fill=\"#000000\" fill-rule=\"evenodd\" fill-opacity=\"1\" /><path clip-path=\"url(#clip560)\" d=\"M352.235 1479.92 L368.555 1479.92 L368.555 1483.85 L346.61 1483.85 L346.61 1479.92 Q349.272 1477.16 353.856 1472.53 Q358.462 1467.88 359.643 1466.54 Q361.888 1464.01 362.768 1462.28 Q363.67 1460.52 363.67 1458.83 Q363.67 1456.07 361.726 1454.34 Q359.805 1452.6 356.703 1452.6 Q354.504 1452.6 352.05 1453.37 Q349.619 1454.13 346.842 1455.68 L346.842 1450.96 Q349.666 1449.82 352.119 1449.25 Q354.573 1448.67 356.61 1448.67 Q361.98 1448.67 365.175 1451.35 Q368.369 1454.04 368.369 1458.53 Q368.369 1460.66 367.559 1462.58 Q366.772 1464.48 364.666 1467.07 Q364.087 1467.74 360.985 1470.96 Q357.883 1474.15 352.235 1479.92 Z\" fill=\"#000000\" fill-rule=\"evenodd\" fill-opacity=\"1\" /><path clip-path=\"url(#clip560)\" d=\"M664.539 1452.37 Q660.928 1452.37 659.099 1455.94 Q657.294 1459.48 657.294 1466.61 Q657.294 1473.71 659.099 1477.28 Q660.928 1480.82 664.539 1480.82 Q668.173 1480.82 669.979 1477.28 Q671.808 1473.71 671.808 1466.61 Q671.808 1459.48 669.979 1455.94 Q668.173 1452.37 664.539 1452.37 M664.539 1448.67 Q670.349 1448.67 673.405 1453.27 Q676.484 1457.86 676.484 1466.61 Q676.484 1475.33 673.405 1479.94 Q670.349 1484.52 664.539 1484.52 Q658.729 1484.52 655.65 1479.94 Q652.595 1475.33 652.595 1466.61 Q652.595 1457.86 655.65 1453.27 Q658.729 1448.67 664.539 1448.67 Z\" fill=\"#000000\" fill-rule=\"evenodd\" fill-opacity=\"1\" /><path clip-path=\"url(#clip560)\" d=\"M985.234 1479.92 L1001.55 1479.92 L1001.55 1483.85 L979.609 1483.85 L979.609 1479.92 Q982.271 1477.16 986.855 1472.53 Q991.461 1467.88 992.642 1466.54 Q994.887 1464.01 995.767 1462.28 Q996.669 1460.52 996.669 1458.83 Q996.669 1456.07 994.725 1454.34 Q992.804 1452.6 989.702 1452.6 Q987.503 1452.6 985.049 1453.37 Q982.619 1454.13 979.841 1455.68 L979.841 1450.96 Q982.665 1449.82 985.119 1449.25 Q987.572 1448.67 989.609 1448.67 Q994.98 1448.67 998.174 1451.35 Q1001.37 1454.04 1001.37 1458.53 Q1001.37 1460.66 1000.56 1462.58 Q999.771 1464.48 997.665 1467.07 Q997.086 1467.74 993.984 1470.96 Q990.882 1474.15 985.234 1479.92 Z\" fill=\"#000000\" fill-rule=\"evenodd\" fill-opacity=\"1\" /><path clip-path=\"url(#clip560)\" d=\"M1319.63 1453.37 L1307.83 1471.81 L1319.63 1471.81 L1319.63 1453.37 M1318.41 1449.29 L1324.29 1449.29 L1324.29 1471.81 L1329.22 1471.81 L1329.22 1475.7 L1324.29 1475.7 L1324.29 1483.85 L1319.63 1483.85 L1319.63 1475.7 L1304.03 1475.7 L1304.03 1471.19 L1318.41 1449.29 Z\" fill=\"#000000\" fill-rule=\"evenodd\" fill-opacity=\"1\" /><path clip-path=\"url(#clip560)\" d=\"M1643.07 1464.71 Q1639.92 1464.71 1638.07 1466.86 Q1636.24 1469.01 1636.24 1472.76 Q1636.24 1476.49 1638.07 1478.67 Q1639.92 1480.82 1643.07 1480.82 Q1646.22 1480.82 1648.05 1478.67 Q1649.9 1476.49 1649.9 1472.76 Q1649.9 1469.01 1648.05 1466.86 Q1646.22 1464.71 1643.07 1464.71 M1652.35 1450.06 L1652.35 1454.31 Q1650.59 1453.48 1648.79 1453.04 Q1647.01 1452.6 1645.25 1452.6 Q1640.62 1452.6 1638.16 1455.73 Q1635.73 1458.85 1635.39 1465.17 Q1636.75 1463.16 1638.81 1462.09 Q1640.87 1461 1643.35 1461 Q1648.56 1461 1651.57 1464.18 Q1654.6 1467.32 1654.6 1472.76 Q1654.6 1478.09 1651.45 1481.31 Q1648.3 1484.52 1643.07 1484.52 Q1637.08 1484.52 1633.9 1479.94 Q1630.73 1475.33 1630.73 1466.61 Q1630.73 1458.41 1634.62 1453.55 Q1638.51 1448.67 1645.06 1448.67 Q1646.82 1448.67 1648.6 1449.01 Q1650.41 1449.36 1652.35 1450.06 Z\" fill=\"#000000\" fill-rule=\"evenodd\" fill-opacity=\"1\" /><path clip-path=\"url(#clip560)\" d=\"M1968.71 1467.44 Q1965.38 1467.44 1963.45 1469.22 Q1961.56 1471 1961.56 1474.13 Q1961.56 1477.25 1963.45 1479.04 Q1965.38 1480.82 1968.71 1480.82 Q1972.04 1480.82 1973.96 1479.04 Q1975.88 1477.23 1975.88 1474.13 Q1975.88 1471 1973.96 1469.22 Q1972.06 1467.44 1968.71 1467.44 M1964.03 1465.45 Q1961.02 1464.71 1959.33 1462.65 Q1957.67 1460.59 1957.67 1457.63 Q1957.67 1453.48 1960.61 1451.07 Q1963.57 1448.67 1968.71 1448.67 Q1973.87 1448.67 1976.81 1451.07 Q1979.75 1453.48 1979.75 1457.63 Q1979.75 1460.59 1978.06 1462.65 Q1976.39 1464.71 1973.41 1465.45 Q1976.79 1466.24 1978.66 1468.53 Q1980.56 1470.82 1980.56 1474.13 Q1980.56 1479.15 1977.48 1481.84 Q1974.43 1484.52 1968.71 1484.52 Q1962.99 1484.52 1959.91 1481.84 Q1956.86 1479.15 1956.86 1474.13 Q1956.86 1470.82 1958.75 1468.53 Q1960.65 1466.24 1964.03 1465.45 M1962.32 1458.06 Q1962.32 1460.75 1963.99 1462.25 Q1965.68 1463.76 1968.71 1463.76 Q1971.72 1463.76 1973.41 1462.25 Q1975.12 1460.75 1975.12 1458.06 Q1975.12 1455.38 1973.41 1453.88 Q1971.72 1452.37 1968.71 1452.37 Q1965.68 1452.37 1963.99 1453.88 Q1962.32 1455.38 1962.32 1458.06 Z\" fill=\"#000000\" fill-rule=\"evenodd\" fill-opacity=\"1\" /><path clip-path=\"url(#clip560)\" d=\"M2269.44 1479.92 L2277.08 1479.92 L2277.08 1453.55 L2268.77 1455.22 L2268.77 1450.96 L2277.03 1449.29 L2281.71 1449.29 L2281.71 1479.92 L2289.35 1479.92 L2289.35 1483.85 L2269.44 1483.85 L2269.44 1479.92 Z\" fill=\"#000000\" fill-rule=\"evenodd\" fill-opacity=\"1\" /><path clip-path=\"url(#clip560)\" d=\"M2308.79 1452.37 Q2305.18 1452.37 2303.35 1455.94 Q2301.54 1459.48 2301.54 1466.61 Q2301.54 1473.71 2303.35 1477.28 Q2305.18 1480.82 2308.79 1480.82 Q2312.42 1480.82 2314.23 1477.28 Q2316.06 1473.71 2316.06 1466.61 Q2316.06 1459.48 2314.23 1455.94 Q2312.42 1452.37 2308.79 1452.37 M2308.79 1448.67 Q2314.6 1448.67 2317.66 1453.27 Q2320.73 1457.86 2320.73 1466.61 Q2320.73 1475.33 2317.66 1479.94 Q2314.6 1484.52 2308.79 1484.52 Q2302.98 1484.52 2299.9 1479.94 Q2296.85 1475.33 2296.85 1466.61 Q2296.85 1457.86 2299.9 1453.27 Q2302.98 1448.67 2308.79 1448.67 Z\" fill=\"#000000\" fill-rule=\"evenodd\" fill-opacity=\"1\" /><path clip-path=\"url(#clip560)\" d=\"M1228.21 1524.09 L1244.67 1568.04 L1238.46 1568.04 L1228.47 1541.69 L1216.18 1568.04 L1209.98 1568.04 L1225.6 1533.86 L1223.25 1527.56 Q1221.75 1523.55 1218.35 1523.55 L1215.29 1523.55 L1215.29 1518.52 L1219.02 1518.58 Q1226.21 1518.68 1228.21 1524.09 Z\" fill=\"#000000\" fill-rule=\"evenodd\" fill-opacity=\"1\" /><path clip-path=\"url(#clip560)\" d=\"M1278.41 1533.76 L1278.41 1539.24 Q1275.92 1537.87 1273.41 1537.2 Q1270.93 1536.5 1268.38 1536.5 Q1262.68 1536.5 1259.53 1540.13 Q1256.38 1543.73 1256.38 1550.25 Q1256.38 1556.78 1259.53 1560.4 Q1262.68 1564 1268.38 1564 Q1270.93 1564 1273.41 1563.33 Q1275.92 1562.63 1278.41 1561.26 L1278.41 1566.68 Q1275.96 1567.82 1273.31 1568.39 Q1270.7 1568.97 1267.74 1568.97 Q1259.69 1568.97 1254.95 1563.91 Q1250.21 1558.85 1250.21 1550.25 Q1250.21 1541.53 1254.98 1536.53 Q1259.79 1531.54 1268.13 1531.54 Q1270.83 1531.54 1273.41 1532.11 Q1275.99 1532.65 1278.41 1533.76 Z\" fill=\"#000000\" fill-rule=\"evenodd\" fill-opacity=\"1\" /><path clip-path=\"url(#clip560)\" d=\"M1318.22 1546.53 L1318.22 1568.04 L1312.37 1568.04 L1312.37 1546.72 Q1312.37 1541.66 1310.4 1539.14 Q1308.42 1536.63 1304.48 1536.63 Q1299.73 1536.63 1297 1539.65 Q1294.26 1542.68 1294.26 1547.9 L1294.26 1568.04 L1288.37 1568.04 L1288.37 1518.52 L1294.26 1518.52 L1294.26 1537.93 Q1296.36 1534.72 1299.19 1533.13 Q1302.06 1531.54 1305.78 1531.54 Q1311.92 1531.54 1315.07 1535.36 Q1318.22 1539.14 1318.22 1546.53 Z\" fill=\"#000000\" fill-rule=\"evenodd\" fill-opacity=\"1\" /><polyline clip-path=\"url(#clip562)\" style=\"stroke:#000000; stroke-linecap:butt; stroke-linejoin:round; stroke-width:2; stroke-opacity:0.1; fill:none\" points=\"\n",
       "  175.445,1285.59 2352.76,1285.59 \n",
       "  \"/>\n",
       "<polyline clip-path=\"url(#clip562)\" style=\"stroke:#000000; stroke-linecap:butt; stroke-linejoin:round; stroke-width:2; stroke-opacity:0.1; fill:none\" points=\"\n",
       "  175.445,1010.4 2352.76,1010.4 \n",
       "  \"/>\n",
       "<polyline clip-path=\"url(#clip562)\" style=\"stroke:#000000; stroke-linecap:butt; stroke-linejoin:round; stroke-width:2; stroke-opacity:0.1; fill:none\" points=\"\n",
       "  175.445,735.212 2352.76,735.212 \n",
       "  \"/>\n",
       "<polyline clip-path=\"url(#clip562)\" style=\"stroke:#000000; stroke-linecap:butt; stroke-linejoin:round; stroke-width:2; stroke-opacity:0.1; fill:none\" points=\"\n",
       "  175.445,460.025 2352.76,460.025 \n",
       "  \"/>\n",
       "<polyline clip-path=\"url(#clip562)\" style=\"stroke:#000000; stroke-linecap:butt; stroke-linejoin:round; stroke-width:2; stroke-opacity:0.1; fill:none\" points=\"\n",
       "  175.445,184.838 2352.76,184.838 \n",
       "  \"/>\n",
       "<polyline clip-path=\"url(#clip560)\" style=\"stroke:#000000; stroke-linecap:butt; stroke-linejoin:round; stroke-width:4; stroke-opacity:1; fill:none\" points=\"\n",
       "  175.445,1423.18 175.445,47.2441 \n",
       "  \"/>\n",
       "<polyline clip-path=\"url(#clip560)\" style=\"stroke:#000000; stroke-linecap:butt; stroke-linejoin:round; stroke-width:4; stroke-opacity:1; fill:none\" points=\"\n",
       "  175.445,1285.59 201.573,1285.59 \n",
       "  \"/>\n",
       "<polyline clip-path=\"url(#clip560)\" style=\"stroke:#000000; stroke-linecap:butt; stroke-linejoin:round; stroke-width:4; stroke-opacity:1; fill:none\" points=\"\n",
       "  175.445,1010.4 201.573,1010.4 \n",
       "  \"/>\n",
       "<polyline clip-path=\"url(#clip560)\" style=\"stroke:#000000; stroke-linecap:butt; stroke-linejoin:round; stroke-width:4; stroke-opacity:1; fill:none\" points=\"\n",
       "  175.445,735.212 201.573,735.212 \n",
       "  \"/>\n",
       "<polyline clip-path=\"url(#clip560)\" style=\"stroke:#000000; stroke-linecap:butt; stroke-linejoin:round; stroke-width:4; stroke-opacity:1; fill:none\" points=\"\n",
       "  175.445,460.025 201.573,460.025 \n",
       "  \"/>\n",
       "<polyline clip-path=\"url(#clip560)\" style=\"stroke:#000000; stroke-linecap:butt; stroke-linejoin:round; stroke-width:4; stroke-opacity:1; fill:none\" points=\"\n",
       "  175.445,184.838 201.573,184.838 \n",
       "  \"/>\n",
       "<path clip-path=\"url(#clip560)\" d=\"M127.501 1271.38 Q123.89 1271.38 122.061 1274.95 Q120.255 1278.49 120.255 1285.62 Q120.255 1292.73 122.061 1296.29 Q123.89 1299.83 127.501 1299.83 Q131.135 1299.83 132.941 1296.29 Q134.769 1292.73 134.769 1285.62 Q134.769 1278.49 132.941 1274.95 Q131.135 1271.38 127.501 1271.38 M127.501 1267.68 Q133.311 1267.68 136.367 1272.29 Q139.445 1276.87 139.445 1285.62 Q139.445 1294.35 136.367 1298.95 Q133.311 1303.54 127.501 1303.54 Q121.691 1303.54 118.612 1298.95 Q115.556 1294.35 115.556 1285.62 Q115.556 1276.87 118.612 1272.29 Q121.691 1267.68 127.501 1267.68 Z\" fill=\"#000000\" fill-rule=\"evenodd\" fill-opacity=\"1\" /><path clip-path=\"url(#clip560)\" d=\"M119.538 1023.74 L127.177 1023.74 L127.177 997.378 L118.867 999.045 L118.867 994.786 L127.13 993.119 L131.806 993.119 L131.806 1023.74 L139.445 1023.74 L139.445 1027.68 L119.538 1027.68 L119.538 1023.74 Z\" fill=\"#000000\" fill-rule=\"evenodd\" fill-opacity=\"1\" /><path clip-path=\"url(#clip560)\" d=\"M123.126 748.557 L139.445 748.557 L139.445 752.492 L117.501 752.492 L117.501 748.557 Q120.163 745.802 124.746 741.173 Q129.353 736.52 130.533 735.177 Q132.779 732.654 133.658 730.918 Q134.561 729.159 134.561 727.469 Q134.561 724.714 132.617 722.978 Q130.695 721.242 127.593 721.242 Q125.394 721.242 122.941 722.006 Q120.51 722.77 117.732 724.321 L117.732 719.599 Q120.556 718.464 123.01 717.886 Q125.464 717.307 127.501 717.307 Q132.871 717.307 136.066 719.992 Q139.26 722.677 139.26 727.168 Q139.26 729.298 138.45 731.219 Q137.663 733.117 135.556 735.71 Q134.978 736.381 131.876 739.599 Q128.774 742.793 123.126 748.557 Z\" fill=\"#000000\" fill-rule=\"evenodd\" fill-opacity=\"1\" /><path clip-path=\"url(#clip560)\" d=\"M132.316 458.671 Q135.672 459.388 137.547 461.657 Q139.445 463.925 139.445 467.259 Q139.445 472.374 135.927 475.175 Q132.408 477.976 125.927 477.976 Q123.751 477.976 121.436 477.536 Q119.144 477.12 116.691 476.263 L116.691 471.749 Q118.635 472.884 120.95 473.462 Q123.265 474.041 125.788 474.041 Q130.186 474.041 132.478 472.305 Q134.792 470.569 134.792 467.259 Q134.792 464.203 132.64 462.49 Q130.51 460.754 126.691 460.754 L122.663 460.754 L122.663 456.911 L126.876 456.911 Q130.325 456.911 132.154 455.546 Q133.982 454.157 133.982 451.564 Q133.982 448.902 132.084 447.49 Q130.209 446.055 126.691 446.055 Q124.769 446.055 122.57 446.472 Q120.371 446.888 117.732 447.768 L117.732 443.601 Q120.394 442.861 122.709 442.49 Q125.047 442.12 127.107 442.12 Q132.431 442.12 135.533 444.55 Q138.635 446.958 138.635 451.078 Q138.635 453.948 136.992 455.939 Q135.348 457.907 132.316 458.671 Z\" fill=\"#000000\" fill-rule=\"evenodd\" fill-opacity=\"1\" /><path clip-path=\"url(#clip560)\" d=\"M129.862 171.632 L118.056 190.081 L129.862 190.081 L129.862 171.632 M128.635 167.558 L134.515 167.558 L134.515 190.081 L139.445 190.081 L139.445 193.97 L134.515 193.97 L134.515 202.118 L129.862 202.118 L129.862 193.97 L114.26 193.97 L114.26 189.456 L128.635 167.558 Z\" fill=\"#000000\" fill-rule=\"evenodd\" fill-opacity=\"1\" /><path clip-path=\"url(#clip560)\" d=\"M20.049 771.178 L64.0042 754.723 L64.0042 760.929 L37.6501 770.924 L64.0042 783.209 L64.0042 789.416 L29.8203 773.788 L23.5183 776.143 Q19.5079 777.639 19.5079 781.045 L19.5079 784.101 L14.479 784.101 L14.5426 780.377 Q14.6381 773.183 20.049 771.178 Z\" fill=\"#000000\" fill-rule=\"evenodd\" fill-opacity=\"1\" /><path clip-path=\"url(#clip560)\" d=\"M29.4065 723.913 L34.9447 723.913 Q33.6716 726.395 33.035 729.069 Q32.3984 731.743 32.3984 734.607 Q32.3984 738.968 33.7352 741.164 Q35.072 743.328 37.7456 743.328 Q39.7826 743.328 40.9603 741.769 Q42.1061 740.209 43.1565 735.498 L43.6021 733.493 Q44.9389 727.255 47.3897 724.645 Q49.8086 722.003 54.1691 722.003 Q59.1344 722.003 62.0308 725.95 Q64.9272 729.865 64.9272 736.74 Q64.9272 739.604 64.3543 742.724 Q63.8132 745.811 62.6992 749.248 L56.6518 749.248 Q58.3387 746.002 59.198 742.851 Q60.0256 739.7 60.0256 736.612 Q60.0256 732.475 58.6251 730.247 Q57.1929 728.019 54.6147 728.019 Q52.2276 728.019 50.9545 729.642 Q49.6813 731.233 48.5037 736.676 L48.0262 738.713 Q46.8804 744.156 44.5251 746.575 Q42.138 748.994 38.0002 748.994 Q32.9713 748.994 30.2341 745.429 Q27.4968 741.864 27.4968 735.307 Q27.4968 732.061 27.9743 729.196 Q28.4517 726.332 29.4065 723.913 Z\" fill=\"#000000\" fill-rule=\"evenodd\" fill-opacity=\"1\" /><path clip-path=\"url(#clip560)\" d=\"M58.657 707.012 L77.5631 707.012 L77.5631 712.9 L28.3562 712.9 L28.3562 707.012 L33.7671 707.012 Q30.5842 705.166 29.0564 702.365 Q27.4968 699.532 27.4968 695.617 Q27.4968 689.124 32.6531 685.082 Q37.8093 681.008 46.212 681.008 Q54.6147 681.008 59.771 685.082 Q64.9272 689.124 64.9272 695.617 Q64.9272 699.532 63.3994 702.365 Q61.8398 705.166 58.657 707.012 M46.212 687.087 Q39.7508 687.087 36.0905 689.761 Q32.3984 692.403 32.3984 697.05 Q32.3984 701.697 36.0905 704.37 Q39.7508 707.012 46.212 707.012 Q52.6732 707.012 56.3653 704.37 Q60.0256 701.697 60.0256 697.05 Q60.0256 692.403 56.3653 689.761 Q52.6732 687.087 46.212 687.087 Z\" fill=\"#000000\" fill-rule=\"evenodd\" fill-opacity=\"1\" /><polyline clip-path=\"url(#clip562)\" style=\"stroke:#009af9; stroke-linecap:butt; stroke-linejoin:round; stroke-width:4; stroke-opacity:1; fill:none\" points=\"\n",
       "  310.427,-750.006 383.786,728.766 457.146,951.269 530.505,1038.32 603.865,1084.78 677.224,1113.8 750.584,1133.73 823.943,1148.33 897.303,1159.53 970.662,1168.41 \n",
       "  1044.02,1175.64 1117.38,1181.66 1190.74,1186.76 1264.1,1191.14 1337.46,1194.95 1410.82,1198.3 1484.18,1201.27 1557.54,1203.92 1630.9,1206.31 1704.26,1208.47 \n",
       "  1777.62,1210.44 1850.98,1212.24 1924.34,1213.9 1997.7,1215.43 2071.06,1216.84 2144.41,1218.15 2217.77,1219.38 2291.13,1220.52 \n",
       "  \"/>\n",
       "<circle clip-path=\"url(#clip562)\" cx=\"383.786\" cy=\"728.766\" r=\"7\" fill=\"#009af9\" fill-rule=\"evenodd\" fill-opacity=\"1\" stroke=\"#000000\" stroke-opacity=\"1\" stroke-width=\"3.2\"/>\n",
       "<circle clip-path=\"url(#clip562)\" cx=\"457.146\" cy=\"951.269\" r=\"7\" fill=\"#009af9\" fill-rule=\"evenodd\" fill-opacity=\"1\" stroke=\"#000000\" stroke-opacity=\"1\" stroke-width=\"3.2\"/>\n",
       "<circle clip-path=\"url(#clip562)\" cx=\"530.505\" cy=\"1038.32\" r=\"7\" fill=\"#009af9\" fill-rule=\"evenodd\" fill-opacity=\"1\" stroke=\"#000000\" stroke-opacity=\"1\" stroke-width=\"3.2\"/>\n",
       "<circle clip-path=\"url(#clip562)\" cx=\"603.865\" cy=\"1084.78\" r=\"7\" fill=\"#009af9\" fill-rule=\"evenodd\" fill-opacity=\"1\" stroke=\"#000000\" stroke-opacity=\"1\" stroke-width=\"3.2\"/>\n",
       "<circle clip-path=\"url(#clip562)\" cx=\"677.224\" cy=\"1113.8\" r=\"7\" fill=\"#009af9\" fill-rule=\"evenodd\" fill-opacity=\"1\" stroke=\"#000000\" stroke-opacity=\"1\" stroke-width=\"3.2\"/>\n",
       "<circle clip-path=\"url(#clip562)\" cx=\"750.584\" cy=\"1133.73\" r=\"7\" fill=\"#009af9\" fill-rule=\"evenodd\" fill-opacity=\"1\" stroke=\"#000000\" stroke-opacity=\"1\" stroke-width=\"3.2\"/>\n",
       "<circle clip-path=\"url(#clip562)\" cx=\"823.943\" cy=\"1148.33\" r=\"7\" fill=\"#009af9\" fill-rule=\"evenodd\" fill-opacity=\"1\" stroke=\"#000000\" stroke-opacity=\"1\" stroke-width=\"3.2\"/>\n",
       "<circle clip-path=\"url(#clip562)\" cx=\"897.303\" cy=\"1159.53\" r=\"7\" fill=\"#009af9\" fill-rule=\"evenodd\" fill-opacity=\"1\" stroke=\"#000000\" stroke-opacity=\"1\" stroke-width=\"3.2\"/>\n",
       "<circle clip-path=\"url(#clip562)\" cx=\"970.662\" cy=\"1168.41\" r=\"7\" fill=\"#009af9\" fill-rule=\"evenodd\" fill-opacity=\"1\" stroke=\"#000000\" stroke-opacity=\"1\" stroke-width=\"3.2\"/>\n",
       "<circle clip-path=\"url(#clip562)\" cx=\"1044.02\" cy=\"1175.64\" r=\"7\" fill=\"#009af9\" fill-rule=\"evenodd\" fill-opacity=\"1\" stroke=\"#000000\" stroke-opacity=\"1\" stroke-width=\"3.2\"/>\n",
       "<circle clip-path=\"url(#clip562)\" cx=\"1117.38\" cy=\"1181.66\" r=\"7\" fill=\"#009af9\" fill-rule=\"evenodd\" fill-opacity=\"1\" stroke=\"#000000\" stroke-opacity=\"1\" stroke-width=\"3.2\"/>\n",
       "<circle clip-path=\"url(#clip562)\" cx=\"1190.74\" cy=\"1186.76\" r=\"7\" fill=\"#009af9\" fill-rule=\"evenodd\" fill-opacity=\"1\" stroke=\"#000000\" stroke-opacity=\"1\" stroke-width=\"3.2\"/>\n",
       "<circle clip-path=\"url(#clip562)\" cx=\"1264.1\" cy=\"1191.14\" r=\"7\" fill=\"#009af9\" fill-rule=\"evenodd\" fill-opacity=\"1\" stroke=\"#000000\" stroke-opacity=\"1\" stroke-width=\"3.2\"/>\n",
       "<circle clip-path=\"url(#clip562)\" cx=\"1337.46\" cy=\"1194.95\" r=\"7\" fill=\"#009af9\" fill-rule=\"evenodd\" fill-opacity=\"1\" stroke=\"#000000\" stroke-opacity=\"1\" stroke-width=\"3.2\"/>\n",
       "<circle clip-path=\"url(#clip562)\" cx=\"1410.82\" cy=\"1198.3\" r=\"7\" fill=\"#009af9\" fill-rule=\"evenodd\" fill-opacity=\"1\" stroke=\"#000000\" stroke-opacity=\"1\" stroke-width=\"3.2\"/>\n",
       "<circle clip-path=\"url(#clip562)\" cx=\"1484.18\" cy=\"1201.27\" r=\"7\" fill=\"#009af9\" fill-rule=\"evenodd\" fill-opacity=\"1\" stroke=\"#000000\" stroke-opacity=\"1\" stroke-width=\"3.2\"/>\n",
       "<circle clip-path=\"url(#clip562)\" cx=\"1557.54\" cy=\"1203.92\" r=\"7\" fill=\"#009af9\" fill-rule=\"evenodd\" fill-opacity=\"1\" stroke=\"#000000\" stroke-opacity=\"1\" stroke-width=\"3.2\"/>\n",
       "<circle clip-path=\"url(#clip562)\" cx=\"1630.9\" cy=\"1206.31\" r=\"7\" fill=\"#009af9\" fill-rule=\"evenodd\" fill-opacity=\"1\" stroke=\"#000000\" stroke-opacity=\"1\" stroke-width=\"3.2\"/>\n",
       "<circle clip-path=\"url(#clip562)\" cx=\"1704.26\" cy=\"1208.47\" r=\"7\" fill=\"#009af9\" fill-rule=\"evenodd\" fill-opacity=\"1\" stroke=\"#000000\" stroke-opacity=\"1\" stroke-width=\"3.2\"/>\n",
       "<circle clip-path=\"url(#clip562)\" cx=\"1777.62\" cy=\"1210.44\" r=\"7\" fill=\"#009af9\" fill-rule=\"evenodd\" fill-opacity=\"1\" stroke=\"#000000\" stroke-opacity=\"1\" stroke-width=\"3.2\"/>\n",
       "<circle clip-path=\"url(#clip562)\" cx=\"1850.98\" cy=\"1212.24\" r=\"7\" fill=\"#009af9\" fill-rule=\"evenodd\" fill-opacity=\"1\" stroke=\"#000000\" stroke-opacity=\"1\" stroke-width=\"3.2\"/>\n",
       "<circle clip-path=\"url(#clip562)\" cx=\"1924.34\" cy=\"1213.9\" r=\"7\" fill=\"#009af9\" fill-rule=\"evenodd\" fill-opacity=\"1\" stroke=\"#000000\" stroke-opacity=\"1\" stroke-width=\"3.2\"/>\n",
       "<circle clip-path=\"url(#clip562)\" cx=\"1997.7\" cy=\"1215.43\" r=\"7\" fill=\"#009af9\" fill-rule=\"evenodd\" fill-opacity=\"1\" stroke=\"#000000\" stroke-opacity=\"1\" stroke-width=\"3.2\"/>\n",
       "<circle clip-path=\"url(#clip562)\" cx=\"2071.06\" cy=\"1216.84\" r=\"7\" fill=\"#009af9\" fill-rule=\"evenodd\" fill-opacity=\"1\" stroke=\"#000000\" stroke-opacity=\"1\" stroke-width=\"3.2\"/>\n",
       "<circle clip-path=\"url(#clip562)\" cx=\"2144.41\" cy=\"1218.15\" r=\"7\" fill=\"#009af9\" fill-rule=\"evenodd\" fill-opacity=\"1\" stroke=\"#000000\" stroke-opacity=\"1\" stroke-width=\"3.2\"/>\n",
       "<circle clip-path=\"url(#clip562)\" cx=\"2217.77\" cy=\"1219.38\" r=\"7\" fill=\"#009af9\" fill-rule=\"evenodd\" fill-opacity=\"1\" stroke=\"#000000\" stroke-opacity=\"1\" stroke-width=\"3.2\"/>\n",
       "<circle clip-path=\"url(#clip562)\" cx=\"2291.13\" cy=\"1220.52\" r=\"7\" fill=\"#009af9\" fill-rule=\"evenodd\" fill-opacity=\"1\" stroke=\"#000000\" stroke-opacity=\"1\" stroke-width=\"3.2\"/>\n",
       "</svg>\n"
      ]
     },
     "execution_count": 48,
     "metadata": {},
     "output_type": "execute_result"
    }
   ],
   "source": [
    "plot(λch_range, spOfch_max_nl, ylims=(-0.5,4.5), markershape=:circle, markersize=2, xlabel=\"λch\", ylabel=\"λsp\", label=\"\")"
   ]
  },
  {
   "cell_type": "markdown",
   "metadata": {},
   "source": [
    "# cond2\n",
    "## λsp(λch)"
   ]
  },
  {
   "cell_type": "code",
   "execution_count": 49,
   "metadata": {},
   "outputs": [
    {
     "data": {
      "text/plain": [
       "-2.6221866389083575"
      ]
     },
     "execution_count": 49,
     "metadata": {},
     "output_type": "execute_result"
    }
   ],
   "source": [
    "nh = ceil(Int64, size(nlQ_ch.χ,1)/2)\n",
    "λch_min = -1 / maximum(real.(nlQ_ch_nλ.χ[nh,:]))"
   ]
  },
  {
   "cell_type": "code",
   "execution_count": 50,
   "metadata": {},
   "outputs": [
    {
     "name": "stdout",
     "output_type": "stream",
     "text": [
      "29 of 29"
     ]
    }
   ],
   "source": [
    "using SharedArrays\n",
    "\n",
    "χupdo_ω = Array{eltype(nlQ_sp.χ),1}(undef, length(ωindices))\n",
    "χupup_ω = Array{eltype(nlQ_sp.χ),1}(undef, length(ωindices))\n",
    "res = Array{Float64, 2}(undef, length(λch_range), 6)\n",
    "nlQ_sp_i = deepcopy(nlQ_sp_nλ);\n",
    "nlQ_ch_i = deepcopy(nlQ_ch_nλ);\n",
    "iωn = 1im .* 2 .* (-sP.n_iω:sP.n_iω)[ωindices] .* π ./ mP.β\n",
    "\n",
    "for i in 1:length(λch_range)\n",
    "    print(\"\\r$i of $(length(λch_range))\")\n",
    "    λsp_i = spOfch_max_nl[i]\n",
    "    λch_i = λch_range[i]\n",
    "    nlQ_sp_i.χ = LadderDGA.new_χλ(nlQ_sp_nλ.χ, λsp_i, sP)\n",
    "    nlQ_sp_i.λ = λsp_i\n",
    "    nlQ_ch_i.χ = LadderDGA.new_χλ(nlQ_ch_nλ.χ, λch_i, sP)\n",
    "    nlQ_ch_i.λ = λch_i\n",
    "    # --> sc\n",
    "    Σ_ladder_i = calc_Σ(nlQ_sp_i, nlQ_ch_i, bubble, GLoc_fft, FUpDo, kG, sumHelper_f, mP, sP)\n",
    "    Σ_λ = Σ_ladder_i .- Σ_ladderLoc .+ Σ_loc[1:size(Σ_ladder_i,1)];\n",
    "    G_λ = LadderDGA.G_from_Σ(Σ_λ, kGrid.ϵkGrid, 0:size(Σ_ladder_i, 1)-1, mP)\n",
    "    # <-- sc\n",
    "    E_pot_DGA_i = LadderDGA.calc_E_pot(kGrid, LadderDGA.flatten_2D(G_λ), Σ_λ, view(E_pot_tail,1:size(Σ_ladder_i, 1),:), E_pot_tail_inv)\n",
    "    for (wi,w) in enumerate(ωindices)\n",
    "        χupup_ω[wi] = kintegrate(kGrid, nlQ_ch_i.χ[w,:] .+ nlQ_sp_i.χ[w,:])[1] / 2\n",
    "        χupdo_ω[wi] = kintegrate(kGrid, nlQ_ch_i.χ[w,:] .- nlQ_sp_i.χ[w,:])[1] / 2\n",
    "    end\n",
    "    χupup_ω = subtract_tail(χupup_ω, impQ_ch.tailCoeffs[3], iωn)\n",
    "    lhs_c1 = real(sum_freq(χupup_ω, [1], LadderDGA.Naive(), mP.β, corr=-impQ_sp.tailCoeffs[3]*mP.β^2/12)[1])\n",
    "    lhs_c2 = real(sum_freq(χupdo_ω, [1], LadderDGA.Naive(), mP.β)[1])\n",
    "    rhs_c1 = mP.n/2 * (1 - mP.n/2)\n",
    "    rhs_c2 = E_pot_DGA_i/mP.U - (mP.n/2) * (mP.n/2)\n",
    "    res[i,:] = [λsp_i λch_i lhs_c1 rhs_c1 lhs_c2 rhs_c2]\n",
    "end"
   ]
  },
  {
   "cell_type": "code",
   "execution_count": 15,
   "metadata": {},
   "outputs": [
    {
     "ename": "LoadError",
     "evalue": "UndefVarError: Σ_ladder_corrected not defined",
     "output_type": "error",
     "traceback": [
      "UndefVarError: Σ_ladder_corrected not defined",
      "",
      "Stacktrace:",
      " [1] top-level scope",
      "   @ In[15]:1",
      " [2] eval",
      "   @ ./boot.jl:360 [inlined]",
      " [3] include_string(mapexpr::typeof(REPL.softscope), mod::Module, code::String, filename::String)",
      "   @ Base ./loading.jl:1094"
     ]
    }
   ],
   "source": [
    "E_kin_DGA, E_pot_DGA = LadderDGA.calc_E(Σ_ladder_corrected, kGrid, mP, sP)"
   ]
  },
  {
   "cell_type": "code",
   "execution_count": 16,
   "metadata": {},
   "outputs": [
    {
     "ename": "LoadError",
     "evalue": "UndefVarError: kGrid not defined",
     "output_type": "error",
     "traceback": [
      "UndefVarError: kGrid not defined",
      "",
      "Stacktrace:",
      " [1] top-level scope",
      "   @ In[16]:1",
      " [2] eval",
      "   @ ./boot.jl:360 [inlined]",
      " [3] include_string(mapexpr::typeof(REPL.softscope), mod::Module, code::String, filename::String)",
      "   @ Base ./loading.jl:1094"
     ]
    }
   ],
   "source": [
    "G_λ = LadderDGA.G_from_Σ(Σ_ladder_corrected, kGrid.ϵkGrid, 0:size(Σ_ladder_corrected, 1)-1, mP)\n",
    "\n",
    "E_pot_DGA_i = LadderDGA.calc_E_pot_νn(kGrid, LadderDGA.flatten_2D(G_λ), Σ_ladder_corrected, view(E_pot_tail,1:size(Σ_ladder_corrected, 1),:), E_pot_tail_inv)\n"
   ]
  },
  {
   "cell_type": "code",
   "execution_count": 17,
   "metadata": {},
   "outputs": [
    {
     "ename": "LoadError",
     "evalue": "UndefVarError: mP not defined",
     "output_type": "error",
     "traceback": [
      "UndefVarError: mP not defined",
      "",
      "Stacktrace:",
      " [1] top-level scope",
      "   @ In[17]:1",
      " [2] eval",
      "   @ ./boot.jl:360 [inlined]",
      " [3] include_string(mapexpr::typeof(REPL.softscope), mod::Module, code::String, filename::String)",
      "   @ Base ./loading.jl:1094"
     ]
    }
   ],
   "source": [
    "Σ_in = Σ_ladder_corrected .+ mP.n * mP.U/2\n",
    "E_pot = LadderDGA.flatten_2D(LadderDGA.G_from_Σ(Σ_in, kGrid.ϵkGrid, 0:73, mP)) .* Σ_in\n",
    "E_pot_list = [kintegrate(kGrid, 2 .* sum(E_pot[1:i,:], dims=[1])[1,:] .+ E_pot_tail_inv) for i in 1:74]"
   ]
  },
  {
   "cell_type": "code",
   "execution_count": 57,
   "metadata": {},
   "outputs": [
    {
     "data": {
      "image/svg+xml": [
       "<?xml version=\"1.0\" encoding=\"utf-8\"?>\n",
       "<svg xmlns=\"http://www.w3.org/2000/svg\" xmlns:xlink=\"http://www.w3.org/1999/xlink\" width=\"600\" height=\"400\" viewBox=\"0 0 2400 1600\">\n",
       "<defs>\n",
       "  <clipPath id=\"clip760\">\n",
       "    <rect x=\"0\" y=\"0\" width=\"2400\" height=\"1600\"/>\n",
       "  </clipPath>\n",
       "</defs>\n",
       "<path clip-path=\"url(#clip760)\" d=\"\n",
       "M0 1600 L2400 1600 L2400 0 L0 0  Z\n",
       "  \" fill=\"#ffffff\" fill-rule=\"evenodd\" fill-opacity=\"1\"/>\n",
       "<defs>\n",
       "  <clipPath id=\"clip761\">\n",
       "    <rect x=\"480\" y=\"0\" width=\"1681\" height=\"1600\"/>\n",
       "  </clipPath>\n",
       "</defs>\n",
       "<path clip-path=\"url(#clip760)\" d=\"\n",
       "M254.26 1486.45 L2352.76 1486.45 L2352.76 47.2441 L254.26 47.2441  Z\n",
       "  \" fill=\"#ffffff\" fill-rule=\"evenodd\" fill-opacity=\"1\"/>\n",
       "<defs>\n",
       "  <clipPath id=\"clip762\">\n",
       "    <rect x=\"254\" y=\"47\" width=\"2099\" height=\"1440\"/>\n",
       "  </clipPath>\n",
       "</defs>\n",
       "<polyline clip-path=\"url(#clip762)\" style=\"stroke:#000000; stroke-linecap:butt; stroke-linejoin:round; stroke-width:2; stroke-opacity:0.1; fill:none\" points=\"\n",
       "  411.409,1486.45 411.409,47.2441 \n",
       "  \"/>\n",
       "<polyline clip-path=\"url(#clip762)\" style=\"stroke:#000000; stroke-linecap:butt; stroke-linejoin:round; stroke-width:2; stroke-opacity:0.1; fill:none\" points=\"\n",
       "  725.649,1486.45 725.649,47.2441 \n",
       "  \"/>\n",
       "<polyline clip-path=\"url(#clip762)\" style=\"stroke:#000000; stroke-linecap:butt; stroke-linejoin:round; stroke-width:2; stroke-opacity:0.1; fill:none\" points=\"\n",
       "  1039.89,1486.45 1039.89,47.2441 \n",
       "  \"/>\n",
       "<polyline clip-path=\"url(#clip762)\" style=\"stroke:#000000; stroke-linecap:butt; stroke-linejoin:round; stroke-width:2; stroke-opacity:0.1; fill:none\" points=\"\n",
       "  1354.13,1486.45 1354.13,47.2441 \n",
       "  \"/>\n",
       "<polyline clip-path=\"url(#clip762)\" style=\"stroke:#000000; stroke-linecap:butt; stroke-linejoin:round; stroke-width:2; stroke-opacity:0.1; fill:none\" points=\"\n",
       "  1668.37,1486.45 1668.37,47.2441 \n",
       "  \"/>\n",
       "<polyline clip-path=\"url(#clip762)\" style=\"stroke:#000000; stroke-linecap:butt; stroke-linejoin:round; stroke-width:2; stroke-opacity:0.1; fill:none\" points=\"\n",
       "  1982.61,1486.45 1982.61,47.2441 \n",
       "  \"/>\n",
       "<polyline clip-path=\"url(#clip762)\" style=\"stroke:#000000; stroke-linecap:butt; stroke-linejoin:round; stroke-width:2; stroke-opacity:0.1; fill:none\" points=\"\n",
       "  2296.85,1486.45 2296.85,47.2441 \n",
       "  \"/>\n",
       "<polyline clip-path=\"url(#clip760)\" style=\"stroke:#000000; stroke-linecap:butt; stroke-linejoin:round; stroke-width:4; stroke-opacity:1; fill:none\" points=\"\n",
       "  254.26,1486.45 2352.76,1486.45 \n",
       "  \"/>\n",
       "<polyline clip-path=\"url(#clip760)\" style=\"stroke:#000000; stroke-linecap:butt; stroke-linejoin:round; stroke-width:4; stroke-opacity:1; fill:none\" points=\"\n",
       "  411.409,1486.45 411.409,1469.18 \n",
       "  \"/>\n",
       "<polyline clip-path=\"url(#clip760)\" style=\"stroke:#000000; stroke-linecap:butt; stroke-linejoin:round; stroke-width:4; stroke-opacity:1; fill:none\" points=\"\n",
       "  725.649,1486.45 725.649,1469.18 \n",
       "  \"/>\n",
       "<polyline clip-path=\"url(#clip760)\" style=\"stroke:#000000; stroke-linecap:butt; stroke-linejoin:round; stroke-width:4; stroke-opacity:1; fill:none\" points=\"\n",
       "  1039.89,1486.45 1039.89,1469.18 \n",
       "  \"/>\n",
       "<polyline clip-path=\"url(#clip760)\" style=\"stroke:#000000; stroke-linecap:butt; stroke-linejoin:round; stroke-width:4; stroke-opacity:1; fill:none\" points=\"\n",
       "  1354.13,1486.45 1354.13,1469.18 \n",
       "  \"/>\n",
       "<polyline clip-path=\"url(#clip760)\" style=\"stroke:#000000; stroke-linecap:butt; stroke-linejoin:round; stroke-width:4; stroke-opacity:1; fill:none\" points=\"\n",
       "  1668.37,1486.45 1668.37,1469.18 \n",
       "  \"/>\n",
       "<polyline clip-path=\"url(#clip760)\" style=\"stroke:#000000; stroke-linecap:butt; stroke-linejoin:round; stroke-width:4; stroke-opacity:1; fill:none\" points=\"\n",
       "  1982.61,1486.45 1982.61,1469.18 \n",
       "  \"/>\n",
       "<polyline clip-path=\"url(#clip760)\" style=\"stroke:#000000; stroke-linecap:butt; stroke-linejoin:round; stroke-width:4; stroke-opacity:1; fill:none\" points=\"\n",
       "  2296.85,1486.45 2296.85,1469.18 \n",
       "  \"/>\n",
       "<path clip-path=\"url(#clip760)\" d=\"M381.351 1530.29 L411.027 1530.29 L411.027 1534.23 L381.351 1534.23 L381.351 1530.29 Z\" fill=\"#000000\" fill-rule=\"evenodd\" fill-opacity=\"1\" /><path clip-path=\"url(#clip760)\" d=\"M425.148 1543.18 L441.467 1543.18 L441.467 1547.12 L419.523 1547.12 L419.523 1543.18 Q422.185 1540.43 426.768 1535.8 Q431.374 1531.15 432.555 1529.81 Q434.8 1527.28 435.68 1525.55 Q436.583 1523.79 436.583 1522.1 Q436.583 1519.34 434.638 1517.61 Q432.717 1515.87 429.615 1515.87 Q427.416 1515.87 424.962 1516.63 Q422.532 1517.4 419.754 1518.95 L419.754 1514.23 Q422.578 1513.09 425.032 1512.51 Q427.485 1511.93 429.523 1511.93 Q434.893 1511.93 438.087 1514.62 Q441.282 1517.31 441.282 1521.8 Q441.282 1523.93 440.472 1525.85 Q439.684 1527.74 437.578 1530.34 Q436.999 1531.01 433.897 1534.23 Q430.796 1537.42 425.148 1543.18 Z\" fill=\"#000000\" fill-rule=\"evenodd\" fill-opacity=\"1\" /><path clip-path=\"url(#clip760)\" d=\"M725.649 1515.64 Q722.038 1515.64 720.21 1519.2 Q718.404 1522.75 718.404 1529.87 Q718.404 1536.98 720.21 1540.55 Q722.038 1544.09 725.649 1544.09 Q729.284 1544.09 731.089 1540.55 Q732.918 1536.98 732.918 1529.87 Q732.918 1522.75 731.089 1519.2 Q729.284 1515.64 725.649 1515.64 M725.649 1511.93 Q731.46 1511.93 734.515 1516.54 Q737.594 1521.12 737.594 1529.87 Q737.594 1538.6 734.515 1543.21 Q731.46 1547.79 725.649 1547.79 Q719.839 1547.79 716.761 1543.21 Q713.705 1538.6 713.705 1529.87 Q713.705 1521.12 716.761 1516.54 Q719.839 1511.93 725.649 1511.93 Z\" fill=\"#000000\" fill-rule=\"evenodd\" fill-opacity=\"1\" /><path clip-path=\"url(#clip760)\" d=\"M1034.54 1543.18 L1050.86 1543.18 L1050.86 1547.12 L1028.92 1547.12 L1028.92 1543.18 Q1031.58 1540.43 1036.16 1535.8 Q1040.77 1531.15 1041.95 1529.81 Q1044.2 1527.28 1045.07 1525.55 Q1045.98 1523.79 1045.98 1522.1 Q1045.98 1519.34 1044.03 1517.61 Q1042.11 1515.87 1039.01 1515.87 Q1036.81 1515.87 1034.36 1516.63 Q1031.93 1517.4 1029.15 1518.95 L1029.15 1514.23 Q1031.97 1513.09 1034.43 1512.51 Q1036.88 1511.93 1038.92 1511.93 Q1044.29 1511.93 1047.48 1514.62 Q1050.68 1517.31 1050.68 1521.8 Q1050.68 1523.93 1049.87 1525.85 Q1049.08 1527.74 1046.97 1530.34 Q1046.39 1531.01 1043.29 1534.23 Q1040.19 1537.42 1034.54 1543.18 Z\" fill=\"#000000\" fill-rule=\"evenodd\" fill-opacity=\"1\" /><path clip-path=\"url(#clip760)\" d=\"M1357.14 1516.63 L1345.33 1535.08 L1357.14 1535.08 L1357.14 1516.63 M1355.91 1512.56 L1361.79 1512.56 L1361.79 1535.08 L1366.72 1535.08 L1366.72 1538.97 L1361.79 1538.97 L1361.79 1547.12 L1357.14 1547.12 L1357.14 1538.97 L1341.54 1538.97 L1341.54 1534.46 L1355.91 1512.56 Z\" fill=\"#000000\" fill-rule=\"evenodd\" fill-opacity=\"1\" /><path clip-path=\"url(#clip760)\" d=\"M1668.78 1527.98 Q1665.63 1527.98 1663.78 1530.13 Q1661.95 1532.28 1661.95 1536.03 Q1661.95 1539.76 1663.78 1541.93 Q1665.63 1544.09 1668.78 1544.09 Q1671.92 1544.09 1673.75 1541.93 Q1675.6 1539.76 1675.6 1536.03 Q1675.6 1532.28 1673.75 1530.13 Q1671.92 1527.98 1668.78 1527.98 M1678.06 1513.32 L1678.06 1517.58 Q1676.3 1516.75 1674.49 1516.31 Q1672.71 1515.87 1670.95 1515.87 Q1666.32 1515.87 1663.87 1519 Q1661.44 1522.12 1661.09 1528.44 Q1662.46 1526.43 1664.52 1525.36 Q1666.58 1524.27 1669.05 1524.27 Q1674.26 1524.27 1677.27 1527.44 Q1680.3 1530.59 1680.3 1536.03 Q1680.3 1541.36 1677.15 1544.57 Q1674.01 1547.79 1668.78 1547.79 Q1662.78 1547.79 1659.61 1543.21 Q1656.44 1538.6 1656.44 1529.87 Q1656.44 1521.68 1660.33 1516.82 Q1664.21 1511.93 1670.77 1511.93 Q1672.53 1511.93 1674.31 1512.28 Q1676.11 1512.63 1678.06 1513.32 Z\" fill=\"#000000\" fill-rule=\"evenodd\" fill-opacity=\"1\" /><path clip-path=\"url(#clip760)\" d=\"M1982.61 1530.71 Q1979.28 1530.71 1977.36 1532.49 Q1975.46 1534.27 1975.46 1537.4 Q1975.46 1540.52 1977.36 1542.31 Q1979.28 1544.09 1982.61 1544.09 Q1985.94 1544.09 1987.86 1542.31 Q1989.79 1540.5 1989.79 1537.4 Q1989.79 1534.27 1987.86 1532.49 Q1985.97 1530.71 1982.61 1530.71 M1977.93 1528.72 Q1974.93 1527.98 1973.24 1525.92 Q1971.57 1523.86 1971.57 1520.89 Q1971.57 1516.75 1974.51 1514.34 Q1977.47 1511.93 1982.61 1511.93 Q1987.77 1511.93 1990.71 1514.34 Q1993.65 1516.75 1993.65 1520.89 Q1993.65 1523.86 1991.96 1525.92 Q1990.3 1527.98 1987.31 1528.72 Q1990.69 1529.5 1992.56 1531.8 Q1994.46 1534.09 1994.46 1537.4 Q1994.46 1542.42 1991.38 1545.11 Q1988.33 1547.79 1982.61 1547.79 Q1976.89 1547.79 1973.81 1545.11 Q1970.76 1542.42 1970.76 1537.4 Q1970.76 1534.09 1972.66 1531.8 Q1974.55 1529.5 1977.93 1528.72 M1976.22 1521.33 Q1976.22 1524.02 1977.89 1525.52 Q1979.58 1527.03 1982.61 1527.03 Q1985.62 1527.03 1987.31 1525.52 Q1989.02 1524.02 1989.02 1521.33 Q1989.02 1518.65 1987.31 1517.14 Q1985.62 1515.64 1982.61 1515.64 Q1979.58 1515.64 1977.89 1517.14 Q1976.22 1518.65 1976.22 1521.33 Z\" fill=\"#000000\" fill-rule=\"evenodd\" fill-opacity=\"1\" /><path clip-path=\"url(#clip760)\" d=\"M2271.54 1543.18 L2279.18 1543.18 L2279.18 1516.82 L2270.87 1518.49 L2270.87 1514.23 L2279.13 1512.56 L2283.81 1512.56 L2283.81 1543.18 L2291.45 1543.18 L2291.45 1547.12 L2271.54 1547.12 L2271.54 1543.18 Z\" fill=\"#000000\" fill-rule=\"evenodd\" fill-opacity=\"1\" /><path clip-path=\"url(#clip760)\" d=\"M2310.89 1515.64 Q2307.28 1515.64 2305.45 1519.2 Q2303.64 1522.75 2303.64 1529.87 Q2303.64 1536.98 2305.45 1540.55 Q2307.28 1544.09 2310.89 1544.09 Q2314.52 1544.09 2316.33 1540.55 Q2318.16 1536.98 2318.16 1529.87 Q2318.16 1522.75 2316.33 1519.2 Q2314.52 1515.64 2310.89 1515.64 M2310.89 1511.93 Q2316.7 1511.93 2319.76 1516.54 Q2322.83 1521.12 2322.83 1529.87 Q2322.83 1538.6 2319.76 1543.21 Q2316.7 1547.79 2310.89 1547.79 Q2305.08 1547.79 2302 1543.21 Q2298.95 1538.6 2298.95 1529.87 Q2298.95 1521.12 2302 1516.54 Q2305.08 1511.93 2310.89 1511.93 Z\" fill=\"#000000\" fill-rule=\"evenodd\" fill-opacity=\"1\" /><polyline clip-path=\"url(#clip762)\" style=\"stroke:#000000; stroke-linecap:butt; stroke-linejoin:round; stroke-width:2; stroke-opacity:0.1; fill:none\" points=\"\n",
       "  254.26,1284.58 2352.76,1284.58 \n",
       "  \"/>\n",
       "<polyline clip-path=\"url(#clip762)\" style=\"stroke:#000000; stroke-linecap:butt; stroke-linejoin:round; stroke-width:2; stroke-opacity:0.1; fill:none\" points=\"\n",
       "  254.26,1038.28 2352.76,1038.28 \n",
       "  \"/>\n",
       "<polyline clip-path=\"url(#clip762)\" style=\"stroke:#000000; stroke-linecap:butt; stroke-linejoin:round; stroke-width:2; stroke-opacity:0.1; fill:none\" points=\"\n",
       "  254.26,791.975 2352.76,791.975 \n",
       "  \"/>\n",
       "<polyline clip-path=\"url(#clip762)\" style=\"stroke:#000000; stroke-linecap:butt; stroke-linejoin:round; stroke-width:2; stroke-opacity:0.1; fill:none\" points=\"\n",
       "  254.26,545.673 2352.76,545.673 \n",
       "  \"/>\n",
       "<polyline clip-path=\"url(#clip762)\" style=\"stroke:#000000; stroke-linecap:butt; stroke-linejoin:round; stroke-width:2; stroke-opacity:0.1; fill:none\" points=\"\n",
       "  254.26,299.371 2352.76,299.371 \n",
       "  \"/>\n",
       "<polyline clip-path=\"url(#clip762)\" style=\"stroke:#000000; stroke-linecap:butt; stroke-linejoin:round; stroke-width:2; stroke-opacity:0.1; fill:none\" points=\"\n",
       "  254.26,53.0687 2352.76,53.0687 \n",
       "  \"/>\n",
       "<polyline clip-path=\"url(#clip760)\" style=\"stroke:#000000; stroke-linecap:butt; stroke-linejoin:round; stroke-width:4; stroke-opacity:1; fill:none\" points=\"\n",
       "  254.26,1486.45 254.26,47.2441 \n",
       "  \"/>\n",
       "<polyline clip-path=\"url(#clip760)\" style=\"stroke:#000000; stroke-linecap:butt; stroke-linejoin:round; stroke-width:4; stroke-opacity:1; fill:none\" points=\"\n",
       "  254.26,1284.58 279.442,1284.58 \n",
       "  \"/>\n",
       "<polyline clip-path=\"url(#clip760)\" style=\"stroke:#000000; stroke-linecap:butt; stroke-linejoin:round; stroke-width:4; stroke-opacity:1; fill:none\" points=\"\n",
       "  254.26,1038.28 279.442,1038.28 \n",
       "  \"/>\n",
       "<polyline clip-path=\"url(#clip760)\" style=\"stroke:#000000; stroke-linecap:butt; stroke-linejoin:round; stroke-width:4; stroke-opacity:1; fill:none\" points=\"\n",
       "  254.26,791.975 279.442,791.975 \n",
       "  \"/>\n",
       "<polyline clip-path=\"url(#clip760)\" style=\"stroke:#000000; stroke-linecap:butt; stroke-linejoin:round; stroke-width:4; stroke-opacity:1; fill:none\" points=\"\n",
       "  254.26,545.673 279.442,545.673 \n",
       "  \"/>\n",
       "<polyline clip-path=\"url(#clip760)\" style=\"stroke:#000000; stroke-linecap:butt; stroke-linejoin:round; stroke-width:4; stroke-opacity:1; fill:none\" points=\"\n",
       "  254.26,299.371 279.442,299.371 \n",
       "  \"/>\n",
       "<polyline clip-path=\"url(#clip760)\" style=\"stroke:#000000; stroke-linecap:butt; stroke-linejoin:round; stroke-width:4; stroke-opacity:1; fill:none\" points=\"\n",
       "  254.26,53.0687 279.442,53.0687 \n",
       "  \"/>\n",
       "<path clip-path=\"url(#clip760)\" d=\"M50.9921 1285.03 L80.6679 1285.03 L80.6679 1288.97 L50.9921 1288.97 L50.9921 1285.03 Z\" fill=\"#000000\" fill-rule=\"evenodd\" fill-opacity=\"1\" /><path clip-path=\"url(#clip760)\" d=\"M100.76 1270.38 Q97.1493 1270.38 95.3206 1273.94 Q93.515 1277.48 93.515 1284.61 Q93.515 1291.72 95.3206 1295.28 Q97.1493 1298.83 100.76 1298.83 Q104.395 1298.83 106.2 1295.28 Q108.029 1291.72 108.029 1284.61 Q108.029 1277.48 106.2 1273.94 Q104.395 1270.38 100.76 1270.38 M100.76 1266.67 Q106.571 1266.67 109.626 1271.28 Q112.705 1275.86 112.705 1284.61 Q112.705 1293.34 109.626 1297.95 Q106.571 1302.53 100.76 1302.53 Q94.9502 1302.53 91.8715 1297.95 Q88.816 1293.34 88.816 1284.61 Q88.816 1275.86 91.8715 1271.28 Q94.9502 1266.67 100.76 1266.67 Z\" fill=\"#000000\" fill-rule=\"evenodd\" fill-opacity=\"1\" /><path clip-path=\"url(#clip760)\" d=\"M120.922 1295.98 L125.807 1295.98 L125.807 1301.86 L120.922 1301.86 L120.922 1295.98 Z\" fill=\"#000000\" fill-rule=\"evenodd\" fill-opacity=\"1\" /><path clip-path=\"url(#clip760)\" d=\"M150.158 1283.22 Q153.515 1283.94 155.39 1286.21 Q157.288 1288.48 157.288 1291.81 Q157.288 1296.93 153.769 1299.73 Q150.251 1302.53 143.769 1302.53 Q141.593 1302.53 139.279 1302.09 Q136.987 1301.67 134.533 1300.82 L134.533 1296.3 Q136.478 1297.44 138.793 1298.02 Q141.107 1298.59 143.631 1298.59 Q148.029 1298.59 150.32 1296.86 Q152.635 1295.12 152.635 1291.81 Q152.635 1288.76 150.482 1287.04 Q148.353 1285.31 144.533 1285.31 L140.506 1285.31 L140.506 1281.47 L144.718 1281.47 Q148.168 1281.47 149.996 1280.1 Q151.825 1278.71 151.825 1276.12 Q151.825 1273.46 149.927 1272.04 Q148.052 1270.61 144.533 1270.61 Q142.612 1270.61 140.413 1271.03 Q138.214 1271.44 135.575 1272.32 L135.575 1268.16 Q138.237 1267.41 140.552 1267.04 Q142.89 1266.67 144.95 1266.67 Q150.274 1266.67 153.376 1269.1 Q156.478 1271.51 156.478 1275.63 Q156.478 1278.5 154.834 1280.49 Q153.191 1282.46 150.158 1283.22 Z\" fill=\"#000000\" fill-rule=\"evenodd\" fill-opacity=\"1\" /><path clip-path=\"url(#clip760)\" d=\"M176.153 1270.38 Q172.542 1270.38 170.714 1273.94 Q168.908 1277.48 168.908 1284.61 Q168.908 1291.72 170.714 1295.28 Q172.542 1298.83 176.153 1298.83 Q179.788 1298.83 181.593 1295.28 Q183.422 1291.72 183.422 1284.61 Q183.422 1277.48 181.593 1273.94 Q179.788 1270.38 176.153 1270.38 M176.153 1266.67 Q181.964 1266.67 185.019 1271.28 Q188.098 1275.86 188.098 1284.61 Q188.098 1293.34 185.019 1297.95 Q181.964 1302.53 176.153 1302.53 Q170.343 1302.53 167.265 1297.95 Q164.209 1293.34 164.209 1284.61 Q164.209 1275.86 167.265 1271.28 Q170.343 1266.67 176.153 1266.67 Z\" fill=\"#000000\" fill-rule=\"evenodd\" fill-opacity=\"1\" /><path clip-path=\"url(#clip760)\" d=\"M206.315 1270.38 Q202.704 1270.38 200.876 1273.94 Q199.07 1277.48 199.07 1284.61 Q199.07 1291.72 200.876 1295.28 Q202.704 1298.83 206.315 1298.83 Q209.95 1298.83 211.755 1295.28 Q213.584 1291.72 213.584 1284.61 Q213.584 1277.48 211.755 1273.94 Q209.95 1270.38 206.315 1270.38 M206.315 1266.67 Q212.126 1266.67 215.181 1271.28 Q218.26 1275.86 218.26 1284.61 Q218.26 1293.34 215.181 1297.95 Q212.126 1302.53 206.315 1302.53 Q200.505 1302.53 197.427 1297.95 Q194.371 1293.34 194.371 1284.61 Q194.371 1275.86 197.427 1271.28 Q200.505 1266.67 206.315 1266.67 Z\" fill=\"#000000\" fill-rule=\"evenodd\" fill-opacity=\"1\" /><path clip-path=\"url(#clip760)\" d=\"M51.9875 1038.73 L81.6633 1038.73 L81.6633 1042.66 L51.9875 1042.66 L51.9875 1038.73 Z\" fill=\"#000000\" fill-rule=\"evenodd\" fill-opacity=\"1\" /><path clip-path=\"url(#clip760)\" d=\"M101.756 1024.08 Q98.1447 1024.08 96.316 1027.64 Q94.5104 1031.18 94.5104 1038.31 Q94.5104 1045.42 96.316 1048.98 Q98.1447 1052.52 101.756 1052.52 Q105.39 1052.52 107.196 1048.98 Q109.024 1045.42 109.024 1038.31 Q109.024 1031.18 107.196 1027.64 Q105.39 1024.08 101.756 1024.08 M101.756 1020.37 Q107.566 1020.37 110.621 1024.98 Q113.7 1029.56 113.7 1038.31 Q113.7 1047.04 110.621 1051.64 Q107.566 1056.23 101.756 1056.23 Q95.9456 1056.23 92.8669 1051.64 Q89.8114 1047.04 89.8114 1038.31 Q89.8114 1029.56 92.8669 1024.98 Q95.9456 1020.37 101.756 1020.37 Z\" fill=\"#000000\" fill-rule=\"evenodd\" fill-opacity=\"1\" /><path clip-path=\"url(#clip760)\" d=\"M121.918 1049.68 L126.802 1049.68 L126.802 1055.56 L121.918 1055.56 L121.918 1049.68 Z\" fill=\"#000000\" fill-rule=\"evenodd\" fill-opacity=\"1\" /><path clip-path=\"url(#clip760)\" d=\"M141.015 1051.62 L157.334 1051.62 L157.334 1055.56 L135.39 1055.56 L135.39 1051.62 Q138.052 1048.87 142.635 1044.24 Q147.242 1039.58 148.422 1038.24 Q150.668 1035.72 151.547 1033.98 Q152.45 1032.22 152.45 1030.53 Q152.45 1027.78 150.505 1026.04 Q148.584 1024.31 145.482 1024.31 Q143.283 1024.31 140.83 1025.07 Q138.399 1025.83 135.621 1027.39 L135.621 1022.66 Q138.445 1021.53 140.899 1020.95 Q143.353 1020.37 145.39 1020.37 Q150.76 1020.37 153.955 1023.06 Q157.149 1025.74 157.149 1030.23 Q157.149 1032.36 156.339 1034.28 Q155.552 1036.18 153.445 1038.77 Q152.867 1039.45 149.765 1042.66 Q146.663 1045.86 141.015 1051.62 Z\" fill=\"#000000\" fill-rule=\"evenodd\" fill-opacity=\"1\" /><path clip-path=\"url(#clip760)\" d=\"M165.968 1021 L188.19 1021 L188.19 1022.99 L175.644 1055.56 L170.76 1055.56 L182.565 1024.93 L165.968 1024.93 L165.968 1021 Z\" fill=\"#000000\" fill-rule=\"evenodd\" fill-opacity=\"1\" /><path clip-path=\"url(#clip760)\" d=\"M197.357 1021 L215.713 1021 L215.713 1024.93 L201.639 1024.93 L201.639 1033.4 Q202.658 1033.06 203.676 1032.89 Q204.695 1032.71 205.714 1032.71 Q211.501 1032.71 214.88 1035.88 Q218.26 1039.05 218.26 1044.47 Q218.26 1050.05 214.788 1053.15 Q211.315 1056.23 204.996 1056.23 Q202.82 1056.23 200.552 1055.86 Q198.306 1055.49 195.899 1054.75 L195.899 1050.05 Q197.982 1051.18 200.204 1051.74 Q202.426 1052.29 204.903 1052.29 Q208.908 1052.29 211.246 1050.19 Q213.584 1048.08 213.584 1044.47 Q213.584 1040.86 211.246 1038.75 Q208.908 1036.64 204.903 1036.64 Q203.028 1036.64 201.153 1037.06 Q199.302 1037.48 197.357 1038.36 L197.357 1021 Z\" fill=\"#000000\" fill-rule=\"evenodd\" fill-opacity=\"1\" /><path clip-path=\"url(#clip760)\" d=\"M50.9921 792.426 L80.6679 792.426 L80.6679 796.361 L50.9921 796.361 L50.9921 792.426 Z\" fill=\"#000000\" fill-rule=\"evenodd\" fill-opacity=\"1\" /><path clip-path=\"url(#clip760)\" d=\"M100.76 777.773 Q97.1493 777.773 95.3206 781.338 Q93.515 784.88 93.515 792.009 Q93.515 799.116 95.3206 802.681 Q97.1493 806.222 100.76 806.222 Q104.395 806.222 106.2 802.681 Q108.029 799.116 108.029 792.009 Q108.029 784.88 106.2 781.338 Q104.395 777.773 100.76 777.773 M100.76 774.07 Q106.571 774.07 109.626 778.676 Q112.705 783.259 112.705 792.009 Q112.705 800.736 109.626 805.343 Q106.571 809.926 100.76 809.926 Q94.9502 809.926 91.8715 805.343 Q88.816 800.736 88.816 792.009 Q88.816 783.259 91.8715 778.676 Q94.9502 774.07 100.76 774.07 Z\" fill=\"#000000\" fill-rule=\"evenodd\" fill-opacity=\"1\" /><path clip-path=\"url(#clip760)\" d=\"M120.922 803.375 L125.807 803.375 L125.807 809.255 L120.922 809.255 L120.922 803.375 Z\" fill=\"#000000\" fill-rule=\"evenodd\" fill-opacity=\"1\" /><path clip-path=\"url(#clip760)\" d=\"M140.019 805.319 L156.339 805.319 L156.339 809.255 L134.394 809.255 L134.394 805.319 Q137.056 802.565 141.64 797.935 Q146.246 793.283 147.427 791.94 Q149.672 789.417 150.552 787.681 Q151.455 785.921 151.455 784.232 Q151.455 781.477 149.51 779.741 Q147.589 778.005 144.487 778.005 Q142.288 778.005 139.834 778.769 Q137.404 779.533 134.626 781.083 L134.626 776.361 Q137.45 775.227 139.904 774.648 Q142.357 774.07 144.394 774.07 Q149.765 774.07 152.959 776.755 Q156.154 779.44 156.154 783.931 Q156.154 786.06 155.343 787.982 Q154.556 789.88 152.45 792.472 Q151.871 793.144 148.769 796.361 Q145.668 799.556 140.019 805.319 Z\" fill=\"#000000\" fill-rule=\"evenodd\" fill-opacity=\"1\" /><path clip-path=\"url(#clip760)\" d=\"M166.2 774.695 L184.556 774.695 L184.556 778.63 L170.482 778.63 L170.482 787.102 Q171.501 786.755 172.519 786.593 Q173.538 786.408 174.556 786.408 Q180.343 786.408 183.723 789.579 Q187.103 792.75 187.103 798.167 Q187.103 803.745 183.63 806.847 Q180.158 809.926 173.839 809.926 Q171.663 809.926 169.394 809.556 Q167.149 809.185 164.742 808.444 L164.742 803.745 Q166.825 804.88 169.047 805.435 Q171.269 805.991 173.746 805.991 Q177.751 805.991 180.089 803.884 Q182.427 801.778 182.427 798.167 Q182.427 794.556 180.089 792.449 Q177.751 790.343 173.746 790.343 Q171.871 790.343 169.996 790.759 Q168.144 791.176 166.2 792.056 L166.2 774.695 Z\" fill=\"#000000\" fill-rule=\"evenodd\" fill-opacity=\"1\" /><path clip-path=\"url(#clip760)\" d=\"M206.315 777.773 Q202.704 777.773 200.876 781.338 Q199.07 784.88 199.07 792.009 Q199.07 799.116 200.876 802.681 Q202.704 806.222 206.315 806.222 Q209.95 806.222 211.755 802.681 Q213.584 799.116 213.584 792.009 Q213.584 784.88 211.755 781.338 Q209.95 777.773 206.315 777.773 M206.315 774.07 Q212.126 774.07 215.181 778.676 Q218.26 783.259 218.26 792.009 Q218.26 800.736 215.181 805.343 Q212.126 809.926 206.315 809.926 Q200.505 809.926 197.427 805.343 Q194.371 800.736 194.371 792.009 Q194.371 783.259 197.427 778.676 Q200.505 774.07 206.315 774.07 Z\" fill=\"#000000\" fill-rule=\"evenodd\" fill-opacity=\"1\" /><path clip-path=\"url(#clip760)\" d=\"M51.9875 546.124 L81.6633 546.124 L81.6633 550.059 L51.9875 550.059 L51.9875 546.124 Z\" fill=\"#000000\" fill-rule=\"evenodd\" fill-opacity=\"1\" /><path clip-path=\"url(#clip760)\" d=\"M101.756 531.471 Q98.1447 531.471 96.316 535.036 Q94.5104 538.578 94.5104 545.707 Q94.5104 552.814 96.316 556.379 Q98.1447 559.92 101.756 559.92 Q105.39 559.92 107.196 556.379 Q109.024 552.814 109.024 545.707 Q109.024 538.578 107.196 535.036 Q105.39 531.471 101.756 531.471 M101.756 527.768 Q107.566 527.768 110.621 532.374 Q113.7 536.957 113.7 545.707 Q113.7 554.434 110.621 559.041 Q107.566 563.624 101.756 563.624 Q95.9456 563.624 92.8669 559.041 Q89.8114 554.434 89.8114 545.707 Q89.8114 536.957 92.8669 532.374 Q95.9456 527.768 101.756 527.768 Z\" fill=\"#000000\" fill-rule=\"evenodd\" fill-opacity=\"1\" /><path clip-path=\"url(#clip760)\" d=\"M121.918 557.073 L126.802 557.073 L126.802 562.953 L121.918 562.953 L121.918 557.073 Z\" fill=\"#000000\" fill-rule=\"evenodd\" fill-opacity=\"1\" /><path clip-path=\"url(#clip760)\" d=\"M141.015 559.018 L157.334 559.018 L157.334 562.953 L135.39 562.953 L135.39 559.018 Q138.052 556.263 142.635 551.633 Q147.242 546.981 148.422 545.638 Q150.668 543.115 151.547 541.379 Q152.45 539.619 152.45 537.93 Q152.45 535.175 150.505 533.439 Q148.584 531.703 145.482 531.703 Q143.283 531.703 140.83 532.467 Q138.399 533.231 135.621 534.782 L135.621 530.059 Q138.445 528.925 140.899 528.346 Q143.353 527.768 145.39 527.768 Q150.76 527.768 153.955 530.453 Q157.149 533.138 157.149 537.629 Q157.149 539.758 156.339 541.68 Q155.552 543.578 153.445 546.17 Q152.867 546.842 149.765 550.059 Q146.663 553.254 141.015 559.018 Z\" fill=\"#000000\" fill-rule=\"evenodd\" fill-opacity=\"1\" /><path clip-path=\"url(#clip760)\" d=\"M171.177 559.018 L187.496 559.018 L187.496 562.953 L165.552 562.953 L165.552 559.018 Q168.214 556.263 172.797 551.633 Q177.403 546.981 178.584 545.638 Q180.829 543.115 181.709 541.379 Q182.612 539.619 182.612 537.93 Q182.612 535.175 180.667 533.439 Q178.746 531.703 175.644 531.703 Q173.445 531.703 170.991 532.467 Q168.561 533.231 165.783 534.782 L165.783 530.059 Q168.607 528.925 171.061 528.346 Q173.515 527.768 175.552 527.768 Q180.922 527.768 184.116 530.453 Q187.311 533.138 187.311 537.629 Q187.311 539.758 186.501 541.68 Q185.714 543.578 183.607 546.17 Q183.028 546.842 179.927 550.059 Q176.825 553.254 171.177 559.018 Z\" fill=\"#000000\" fill-rule=\"evenodd\" fill-opacity=\"1\" /><path clip-path=\"url(#clip760)\" d=\"M197.357 528.393 L215.713 528.393 L215.713 532.328 L201.639 532.328 L201.639 540.8 Q202.658 540.453 203.676 540.291 Q204.695 540.106 205.714 540.106 Q211.501 540.106 214.88 543.277 Q218.26 546.448 218.26 551.865 Q218.26 557.443 214.788 560.545 Q211.315 563.624 204.996 563.624 Q202.82 563.624 200.552 563.254 Q198.306 562.883 195.899 562.142 L195.899 557.443 Q197.982 558.578 200.204 559.133 Q202.426 559.689 204.903 559.689 Q208.908 559.689 211.246 557.582 Q213.584 555.476 213.584 551.865 Q213.584 548.254 211.246 546.147 Q208.908 544.041 204.903 544.041 Q203.028 544.041 201.153 544.457 Q199.302 544.874 197.357 545.754 L197.357 528.393 Z\" fill=\"#000000\" fill-rule=\"evenodd\" fill-opacity=\"1\" /><path clip-path=\"url(#clip760)\" d=\"M50.9921 299.822 L80.6679 299.822 L80.6679 303.757 L50.9921 303.757 L50.9921 299.822 Z\" fill=\"#000000\" fill-rule=\"evenodd\" fill-opacity=\"1\" /><path clip-path=\"url(#clip760)\" d=\"M100.76 285.169 Q97.1493 285.169 95.3206 288.734 Q93.515 292.276 93.515 299.405 Q93.515 306.512 95.3206 310.077 Q97.1493 313.618 100.76 313.618 Q104.395 313.618 106.2 310.077 Q108.029 306.512 108.029 299.405 Q108.029 292.276 106.2 288.734 Q104.395 285.169 100.76 285.169 M100.76 281.466 Q106.571 281.466 109.626 286.072 Q112.705 290.655 112.705 299.405 Q112.705 308.132 109.626 312.739 Q106.571 317.322 100.76 317.322 Q94.9502 317.322 91.8715 312.739 Q88.816 308.132 88.816 299.405 Q88.816 290.655 91.8715 286.072 Q94.9502 281.466 100.76 281.466 Z\" fill=\"#000000\" fill-rule=\"evenodd\" fill-opacity=\"1\" /><path clip-path=\"url(#clip760)\" d=\"M120.922 310.771 L125.807 310.771 L125.807 316.651 L120.922 316.651 L120.922 310.771 Z\" fill=\"#000000\" fill-rule=\"evenodd\" fill-opacity=\"1\" /><path clip-path=\"url(#clip760)\" d=\"M140.019 312.716 L156.339 312.716 L156.339 316.651 L134.394 316.651 L134.394 312.716 Q137.056 309.961 141.64 305.331 Q146.246 300.679 147.427 299.336 Q149.672 296.813 150.552 295.077 Q151.455 293.317 151.455 291.628 Q151.455 288.873 149.51 287.137 Q147.589 285.401 144.487 285.401 Q142.288 285.401 139.834 286.165 Q137.404 286.929 134.626 288.48 L134.626 283.757 Q137.45 282.623 139.904 282.044 Q142.357 281.466 144.394 281.466 Q149.765 281.466 152.959 284.151 Q156.154 286.836 156.154 291.327 Q156.154 293.456 155.343 295.378 Q154.556 297.276 152.45 299.868 Q151.871 300.54 148.769 303.757 Q145.668 306.952 140.019 312.716 Z\" fill=\"#000000\" fill-rule=\"evenodd\" fill-opacity=\"1\" /><path clip-path=\"url(#clip760)\" d=\"M176.153 285.169 Q172.542 285.169 170.714 288.734 Q168.908 292.276 168.908 299.405 Q168.908 306.512 170.714 310.077 Q172.542 313.618 176.153 313.618 Q179.788 313.618 181.593 310.077 Q183.422 306.512 183.422 299.405 Q183.422 292.276 181.593 288.734 Q179.788 285.169 176.153 285.169 M176.153 281.466 Q181.964 281.466 185.019 286.072 Q188.098 290.655 188.098 299.405 Q188.098 308.132 185.019 312.739 Q181.964 317.322 176.153 317.322 Q170.343 317.322 167.265 312.739 Q164.209 308.132 164.209 299.405 Q164.209 290.655 167.265 286.072 Q170.343 281.466 176.153 281.466 Z\" fill=\"#000000\" fill-rule=\"evenodd\" fill-opacity=\"1\" /><path clip-path=\"url(#clip760)\" d=\"M206.315 285.169 Q202.704 285.169 200.876 288.734 Q199.07 292.276 199.07 299.405 Q199.07 306.512 200.876 310.077 Q202.704 313.618 206.315 313.618 Q209.95 313.618 211.755 310.077 Q213.584 306.512 213.584 299.405 Q213.584 292.276 211.755 288.734 Q209.95 285.169 206.315 285.169 M206.315 281.466 Q212.126 281.466 215.181 286.072 Q218.26 290.655 218.26 299.405 Q218.26 308.132 215.181 312.739 Q212.126 317.322 206.315 317.322 Q200.505 317.322 197.427 312.739 Q194.371 308.132 194.371 299.405 Q194.371 290.655 197.427 286.072 Q200.505 281.466 206.315 281.466 Z\" fill=\"#000000\" fill-rule=\"evenodd\" fill-opacity=\"1\" /><path clip-path=\"url(#clip760)\" d=\"M51.9875 53.5201 L81.6633 53.5201 L81.6633 57.4553 L51.9875 57.4553 L51.9875 53.5201 Z\" fill=\"#000000\" fill-rule=\"evenodd\" fill-opacity=\"1\" /><path clip-path=\"url(#clip760)\" d=\"M101.756 38.8674 Q98.1447 38.8674 96.316 42.4322 Q94.5104 45.9739 94.5104 53.1034 Q94.5104 60.2099 96.316 63.7747 Q98.1447 67.3163 101.756 67.3163 Q105.39 67.3163 107.196 63.7747 Q109.024 60.2099 109.024 53.1034 Q109.024 45.9739 107.196 42.4322 Q105.39 38.8674 101.756 38.8674 M101.756 35.1637 Q107.566 35.1637 110.621 39.7702 Q113.7 44.3535 113.7 53.1034 Q113.7 61.8302 110.621 66.4367 Q107.566 71.02 101.756 71.02 Q95.9456 71.02 92.8669 66.4367 Q89.8114 61.8302 89.8114 53.1034 Q89.8114 44.3535 92.8669 39.7702 Q95.9456 35.1637 101.756 35.1637 Z\" fill=\"#000000\" fill-rule=\"evenodd\" fill-opacity=\"1\" /><path clip-path=\"url(#clip760)\" d=\"M121.918 64.4691 L126.802 64.4691 L126.802 70.3487 L121.918 70.3487 L121.918 64.4691 Z\" fill=\"#000000\" fill-rule=\"evenodd\" fill-opacity=\"1\" /><path clip-path=\"url(#clip760)\" d=\"M137.797 66.4136 L145.436 66.4136 L145.436 40.048 L137.126 41.7146 L137.126 37.4554 L145.39 35.7887 L150.066 35.7887 L150.066 66.4136 L157.705 66.4136 L157.705 70.3487 L137.797 70.3487 L137.797 66.4136 Z\" fill=\"#000000\" fill-rule=\"evenodd\" fill-opacity=\"1\" /><path clip-path=\"url(#clip760)\" d=\"M165.968 35.7887 L188.19 35.7887 L188.19 37.7795 L175.644 70.3487 L170.76 70.3487 L182.565 39.7239 L165.968 39.7239 L165.968 35.7887 Z\" fill=\"#000000\" fill-rule=\"evenodd\" fill-opacity=\"1\" /><path clip-path=\"url(#clip760)\" d=\"M197.357 35.7887 L215.713 35.7887 L215.713 39.7239 L201.639 39.7239 L201.639 48.1961 Q202.658 47.8488 203.676 47.6868 Q204.695 47.5016 205.714 47.5016 Q211.501 47.5016 214.88 50.6729 Q218.26 53.8442 218.26 59.2608 Q218.26 64.8395 214.788 67.9413 Q211.315 71.02 204.996 71.02 Q202.82 71.02 200.552 70.6496 Q198.306 70.2793 195.899 69.5385 L195.899 64.8395 Q197.982 65.9737 200.204 66.5293 Q202.426 67.0848 204.903 67.0848 Q208.908 67.0848 211.246 64.9784 Q213.584 62.8719 213.584 59.2608 Q213.584 55.6497 211.246 53.5433 Q208.908 51.4368 204.903 51.4368 Q203.028 51.4368 201.153 51.8534 Q199.302 52.2701 197.357 53.1497 L197.357 35.7887 Z\" fill=\"#000000\" fill-rule=\"evenodd\" fill-opacity=\"1\" /><polyline clip-path=\"url(#clip762)\" style=\"stroke:#009af9; stroke-linecap:butt; stroke-linejoin:round; stroke-width:4; stroke-opacity:1; fill:none\" points=\"\n",
       "  384.355,87.9763 455.059,681.292 525.763,907.542 596.467,1028.16 667.171,1104.51 737.875,1158.28 808.579,1198.87 879.284,1231.03 949.988,1257.39 1020.69,1279.56 \n",
       "  1091.4,1298.59 1162.1,1315.17 1232.8,1329.81 1303.51,1342.86 1374.21,1354.61 1444.92,1365.27 1515.62,1374.99 1586.32,1383.92 1657.03,1392.15 1727.73,1399.77 \n",
       "  1798.44,1406.87 1869.14,1413.49 1939.84,1419.69 2010.55,1425.52 2081.25,1431 2151.96,1436.18 2222.66,1441.07 2293.36,1445.72 \n",
       "  \"/>\n",
       "<path clip-path=\"url(#clip762)\" d=\"M376.355 79.9763 L376.355 95.9763 L392.355 95.9763 L392.355 79.9763 L376.355 79.9763 Z\" fill=\"#009af9\" fill-rule=\"evenodd\" fill-opacity=\"1\" stroke=\"#000000\" stroke-opacity=\"1\" stroke-width=\"3.2\"/>\n",
       "<path clip-path=\"url(#clip762)\" d=\"M447.059 673.292 L447.059 689.292 L463.059 689.292 L463.059 673.292 L447.059 673.292 Z\" fill=\"#009af9\" fill-rule=\"evenodd\" fill-opacity=\"1\" stroke=\"#000000\" stroke-opacity=\"1\" stroke-width=\"3.2\"/>\n",
       "<path clip-path=\"url(#clip762)\" d=\"M517.763 899.542 L517.763 915.542 L533.763 915.542 L533.763 899.542 L517.763 899.542 Z\" fill=\"#009af9\" fill-rule=\"evenodd\" fill-opacity=\"1\" stroke=\"#000000\" stroke-opacity=\"1\" stroke-width=\"3.2\"/>\n",
       "<path clip-path=\"url(#clip762)\" d=\"M588.467 1020.16 L588.467 1036.16 L604.467 1036.16 L604.467 1020.16 L588.467 1020.16 Z\" fill=\"#009af9\" fill-rule=\"evenodd\" fill-opacity=\"1\" stroke=\"#000000\" stroke-opacity=\"1\" stroke-width=\"3.2\"/>\n",
       "<path clip-path=\"url(#clip762)\" d=\"M659.171 1096.51 L659.171 1112.51 L675.171 1112.51 L675.171 1096.51 L659.171 1096.51 Z\" fill=\"#009af9\" fill-rule=\"evenodd\" fill-opacity=\"1\" stroke=\"#000000\" stroke-opacity=\"1\" stroke-width=\"3.2\"/>\n",
       "<path clip-path=\"url(#clip762)\" d=\"M729.875 1150.28 L729.875 1166.28 L745.875 1166.28 L745.875 1150.28 L729.875 1150.28 Z\" fill=\"#009af9\" fill-rule=\"evenodd\" fill-opacity=\"1\" stroke=\"#000000\" stroke-opacity=\"1\" stroke-width=\"3.2\"/>\n",
       "<path clip-path=\"url(#clip762)\" d=\"M800.579 1190.87 L800.579 1206.87 L816.579 1206.87 L816.579 1190.87 L800.579 1190.87 Z\" fill=\"#009af9\" fill-rule=\"evenodd\" fill-opacity=\"1\" stroke=\"#000000\" stroke-opacity=\"1\" stroke-width=\"3.2\"/>\n",
       "<path clip-path=\"url(#clip762)\" d=\"M871.284 1223.03 L871.284 1239.03 L887.284 1239.03 L887.284 1223.03 L871.284 1223.03 Z\" fill=\"#009af9\" fill-rule=\"evenodd\" fill-opacity=\"1\" stroke=\"#000000\" stroke-opacity=\"1\" stroke-width=\"3.2\"/>\n",
       "<path clip-path=\"url(#clip762)\" d=\"M941.988 1249.39 L941.988 1265.39 L957.988 1265.39 L957.988 1249.39 L941.988 1249.39 Z\" fill=\"#009af9\" fill-rule=\"evenodd\" fill-opacity=\"1\" stroke=\"#000000\" stroke-opacity=\"1\" stroke-width=\"3.2\"/>\n",
       "<path clip-path=\"url(#clip762)\" d=\"M1012.69 1271.56 L1012.69 1287.56 L1028.69 1287.56 L1028.69 1271.56 L1012.69 1271.56 Z\" fill=\"#009af9\" fill-rule=\"evenodd\" fill-opacity=\"1\" stroke=\"#000000\" stroke-opacity=\"1\" stroke-width=\"3.2\"/>\n",
       "<path clip-path=\"url(#clip762)\" d=\"M1083.4 1290.59 L1083.4 1306.59 L1099.4 1306.59 L1099.4 1290.59 L1083.4 1290.59 Z\" fill=\"#009af9\" fill-rule=\"evenodd\" fill-opacity=\"1\" stroke=\"#000000\" stroke-opacity=\"1\" stroke-width=\"3.2\"/>\n",
       "<path clip-path=\"url(#clip762)\" d=\"M1154.1 1307.17 L1154.1 1323.17 L1170.1 1323.17 L1170.1 1307.17 L1154.1 1307.17 Z\" fill=\"#009af9\" fill-rule=\"evenodd\" fill-opacity=\"1\" stroke=\"#000000\" stroke-opacity=\"1\" stroke-width=\"3.2\"/>\n",
       "<path clip-path=\"url(#clip762)\" d=\"M1224.8 1321.81 L1224.8 1337.81 L1240.8 1337.81 L1240.8 1321.81 L1224.8 1321.81 Z\" fill=\"#009af9\" fill-rule=\"evenodd\" fill-opacity=\"1\" stroke=\"#000000\" stroke-opacity=\"1\" stroke-width=\"3.2\"/>\n",
       "<path clip-path=\"url(#clip762)\" d=\"M1295.51 1334.86 L1295.51 1350.86 L1311.51 1350.86 L1311.51 1334.86 L1295.51 1334.86 Z\" fill=\"#009af9\" fill-rule=\"evenodd\" fill-opacity=\"1\" stroke=\"#000000\" stroke-opacity=\"1\" stroke-width=\"3.2\"/>\n",
       "<path clip-path=\"url(#clip762)\" d=\"M1366.21 1346.61 L1366.21 1362.61 L1382.21 1362.61 L1382.21 1346.61 L1366.21 1346.61 Z\" fill=\"#009af9\" fill-rule=\"evenodd\" fill-opacity=\"1\" stroke=\"#000000\" stroke-opacity=\"1\" stroke-width=\"3.2\"/>\n",
       "<path clip-path=\"url(#clip762)\" d=\"M1436.92 1357.27 L1436.92 1373.27 L1452.92 1373.27 L1452.92 1357.27 L1436.92 1357.27 Z\" fill=\"#009af9\" fill-rule=\"evenodd\" fill-opacity=\"1\" stroke=\"#000000\" stroke-opacity=\"1\" stroke-width=\"3.2\"/>\n",
       "<path clip-path=\"url(#clip762)\" d=\"M1507.62 1366.99 L1507.62 1382.99 L1523.62 1382.99 L1523.62 1366.99 L1507.62 1366.99 Z\" fill=\"#009af9\" fill-rule=\"evenodd\" fill-opacity=\"1\" stroke=\"#000000\" stroke-opacity=\"1\" stroke-width=\"3.2\"/>\n",
       "<path clip-path=\"url(#clip762)\" d=\"M1578.32 1375.92 L1578.32 1391.92 L1594.32 1391.92 L1594.32 1375.92 L1578.32 1375.92 Z\" fill=\"#009af9\" fill-rule=\"evenodd\" fill-opacity=\"1\" stroke=\"#000000\" stroke-opacity=\"1\" stroke-width=\"3.2\"/>\n",
       "<path clip-path=\"url(#clip762)\" d=\"M1649.03 1384.15 L1649.03 1400.15 L1665.03 1400.15 L1665.03 1384.15 L1649.03 1384.15 Z\" fill=\"#009af9\" fill-rule=\"evenodd\" fill-opacity=\"1\" stroke=\"#000000\" stroke-opacity=\"1\" stroke-width=\"3.2\"/>\n",
       "<path clip-path=\"url(#clip762)\" d=\"M1719.73 1391.77 L1719.73 1407.77 L1735.73 1407.77 L1735.73 1391.77 L1719.73 1391.77 Z\" fill=\"#009af9\" fill-rule=\"evenodd\" fill-opacity=\"1\" stroke=\"#000000\" stroke-opacity=\"1\" stroke-width=\"3.2\"/>\n",
       "<path clip-path=\"url(#clip762)\" d=\"M1790.44 1398.87 L1790.44 1414.87 L1806.44 1414.87 L1806.44 1398.87 L1790.44 1398.87 Z\" fill=\"#009af9\" fill-rule=\"evenodd\" fill-opacity=\"1\" stroke=\"#000000\" stroke-opacity=\"1\" stroke-width=\"3.2\"/>\n",
       "<path clip-path=\"url(#clip762)\" d=\"M1861.14 1405.49 L1861.14 1421.49 L1877.14 1421.49 L1877.14 1405.49 L1861.14 1405.49 Z\" fill=\"#009af9\" fill-rule=\"evenodd\" fill-opacity=\"1\" stroke=\"#000000\" stroke-opacity=\"1\" stroke-width=\"3.2\"/>\n",
       "<path clip-path=\"url(#clip762)\" d=\"M1931.84 1411.69 L1931.84 1427.69 L1947.84 1427.69 L1947.84 1411.69 L1931.84 1411.69 Z\" fill=\"#009af9\" fill-rule=\"evenodd\" fill-opacity=\"1\" stroke=\"#000000\" stroke-opacity=\"1\" stroke-width=\"3.2\"/>\n",
       "<path clip-path=\"url(#clip762)\" d=\"M2002.55 1417.52 L2002.55 1433.52 L2018.55 1433.52 L2018.55 1417.52 L2002.55 1417.52 Z\" fill=\"#009af9\" fill-rule=\"evenodd\" fill-opacity=\"1\" stroke=\"#000000\" stroke-opacity=\"1\" stroke-width=\"3.2\"/>\n",
       "<path clip-path=\"url(#clip762)\" d=\"M2073.25 1423 L2073.25 1439 L2089.25 1439 L2089.25 1423 L2073.25 1423 Z\" fill=\"#009af9\" fill-rule=\"evenodd\" fill-opacity=\"1\" stroke=\"#000000\" stroke-opacity=\"1\" stroke-width=\"3.2\"/>\n",
       "<path clip-path=\"url(#clip762)\" d=\"M2143.96 1428.18 L2143.96 1444.18 L2159.96 1444.18 L2159.96 1428.18 L2143.96 1428.18 Z\" fill=\"#009af9\" fill-rule=\"evenodd\" fill-opacity=\"1\" stroke=\"#000000\" stroke-opacity=\"1\" stroke-width=\"3.2\"/>\n",
       "<path clip-path=\"url(#clip762)\" d=\"M2214.66 1433.07 L2214.66 1449.07 L2230.66 1449.07 L2230.66 1433.07 L2214.66 1433.07 Z\" fill=\"#009af9\" fill-rule=\"evenodd\" fill-opacity=\"1\" stroke=\"#000000\" stroke-opacity=\"1\" stroke-width=\"3.2\"/>\n",
       "<path clip-path=\"url(#clip762)\" d=\"M2285.36 1437.72 L2285.36 1453.72 L2301.36 1453.72 L2301.36 1437.72 L2285.36 1437.72 Z\" fill=\"#009af9\" fill-rule=\"evenodd\" fill-opacity=\"1\" stroke=\"#000000\" stroke-opacity=\"1\" stroke-width=\"3.2\"/>\n",
       "<path clip-path=\"url(#clip760)\" d=\"\n",
       "M1844.11 216.178 L2282.81 216.178 L2282.81 95.2176 L1844.11 95.2176  Z\n",
       "  \" fill=\"#ffffff\" fill-rule=\"evenodd\" fill-opacity=\"1\"/>\n",
       "<polyline clip-path=\"url(#clip760)\" style=\"stroke:#000000; stroke-linecap:butt; stroke-linejoin:round; stroke-width:4; stroke-opacity:1; fill:none\" points=\"\n",
       "  1844.11,216.178 2282.81,216.178 2282.81,95.2176 1844.11,95.2176 1844.11,216.178 \n",
       "  \"/>\n",
       "<polyline clip-path=\"url(#clip760)\" style=\"stroke:#009af9; stroke-linecap:butt; stroke-linejoin:round; stroke-width:4; stroke-opacity:1; fill:none\" points=\"\n",
       "  1867.43,155.698 2007.32,155.698 \n",
       "  \"/>\n",
       "<path clip-path=\"url(#clip760)\" d=\"M2031.34 138.881 L2060.46 138.881 L2060.46 143.348 L2038.26 143.348 L2053.81 159.945 L2037.75 177.63 L2061.06 177.63 L2061.06 182.075 L2030.64 182.075 L2030.64 178.626 L2047.42 160.084 L2031.34 142.978 L2031.34 138.881 Z\" fill=\"#000000\" fill-rule=\"evenodd\" fill-opacity=\"1\" /><path clip-path=\"url(#clip760)\" d=\"M2094.02 178.765 L2090.57 169.899 L2083.47 182.862 L2078.44 182.862 L2088.49 164.529 L2084.28 153.626 Q2083.14 150.709 2079.58 150.709 L2078.44 150.709 L2078.44 147.052 L2080.06 147.098 Q2086.03 147.26 2087.54 151.126 L2090.97 159.992 L2098.07 147.029 L2103.09 147.029 L2093.05 165.362 L2097.26 176.265 Q2098.4 179.181 2101.96 179.181 L2103.09 179.181 L2103.09 182.839 L2101.47 182.792 Q2095.5 182.63 2094.02 178.765 Z\" fill=\"#000000\" fill-rule=\"evenodd\" fill-opacity=\"1\" /><path clip-path=\"url(#clip760)\" d=\"M2123.56 162.746 L2123.56 147.052 L2127.82 147.052 L2127.82 162.584 Q2127.82 166.265 2129.25 168.116 Q2130.69 169.945 2133.56 169.945 Q2137.01 169.945 2139 167.746 Q2141.01 165.547 2141.01 161.751 L2141.01 147.052 L2145.27 147.052 L2145.27 172.978 L2141.01 172.978 L2141.01 168.996 Q2139.46 171.357 2137.4 172.515 Q2135.36 173.649 2132.65 173.649 Q2128.19 173.649 2125.87 170.871 Q2123.56 168.093 2123.56 162.746 M2134.28 146.427 L2134.28 146.427 Z\" fill=\"#000000\" fill-rule=\"evenodd\" fill-opacity=\"1\" /><path clip-path=\"url(#clip760)\" d=\"M2158.16 169.089 L2158.16 182.839 L2153.88 182.839 L2153.88 147.052 L2158.16 147.052 L2158.16 150.987 Q2159.51 148.672 2161.54 147.561 Q2163.6 146.427 2166.45 146.427 Q2171.17 146.427 2174.11 150.177 Q2177.08 153.927 2177.08 160.038 Q2177.08 166.149 2174.11 169.899 Q2171.17 173.649 2166.45 173.649 Q2163.6 173.649 2161.54 172.538 Q2159.51 171.403 2158.16 169.089 M2172.65 160.038 Q2172.65 155.339 2170.71 152.677 Q2168.79 149.992 2165.41 149.992 Q2162.03 149.992 2160.09 152.677 Q2158.16 155.339 2158.16 160.038 Q2158.16 164.737 2160.09 167.422 Q2162.03 170.084 2165.41 170.084 Q2168.79 170.084 2170.71 167.422 Q2172.65 164.737 2172.65 160.038 Z\" fill=\"#000000\" fill-rule=\"evenodd\" fill-opacity=\"1\" /><path clip-path=\"url(#clip760)\" d=\"M2201.2 150.987 L2201.2 136.959 L2205.46 136.959 L2205.46 172.978 L2201.2 172.978 L2201.2 169.089 Q2199.85 171.403 2197.79 172.538 Q2195.76 173.649 2192.89 173.649 Q2188.19 173.649 2185.22 169.899 Q2182.28 166.149 2182.28 160.038 Q2182.28 153.927 2185.22 150.177 Q2188.19 146.427 2192.89 146.427 Q2195.76 146.427 2197.79 147.561 Q2199.85 148.672 2201.2 150.987 M2186.68 160.038 Q2186.68 164.737 2188.6 167.422 Q2190.55 170.084 2193.93 170.084 Q2197.31 170.084 2199.25 167.422 Q2201.2 164.737 2201.2 160.038 Q2201.2 155.339 2199.25 152.677 Q2197.31 149.992 2193.93 149.992 Q2190.55 149.992 2188.6 152.677 Q2186.68 155.339 2186.68 160.038 Z\" fill=\"#000000\" fill-rule=\"evenodd\" fill-opacity=\"1\" /><path clip-path=\"url(#clip760)\" d=\"M2224.27 150.038 Q2220.85 150.038 2218.86 152.723 Q2216.87 155.385 2216.87 160.038 Q2216.87 164.691 2218.83 167.376 Q2220.83 170.038 2224.27 170.038 Q2227.68 170.038 2229.67 167.353 Q2231.66 164.667 2231.66 160.038 Q2231.66 155.431 2229.67 152.746 Q2227.68 150.038 2224.27 150.038 M2224.27 146.427 Q2229.83 146.427 2233 150.038 Q2236.17 153.649 2236.17 160.038 Q2236.17 166.404 2233 170.038 Q2229.83 173.649 2224.27 173.649 Q2218.7 173.649 2215.52 170.038 Q2212.38 166.404 2212.38 160.038 Q2212.38 153.649 2215.52 150.038 Q2218.7 146.427 2224.27 146.427 Z\" fill=\"#000000\" fill-rule=\"evenodd\" fill-opacity=\"1\" /></svg>\n"
      ]
     },
     "execution_count": 57,
     "metadata": {},
     "output_type": "execute_result"
    }
   ],
   "source": [
    "plot(λch_range, res[:,5] .- (res[:,6]./mP.β), markershape=:square, markersize=2, label=\"∑ χ updo\")\n",
    "#plot!(λch_range,, markershape=:square, markersize=2, label=\"G ⋆ Σ\")\n",
    "#plot!(λch_range, spOfch_max_nl, ylims=(-5,5), markershape=:circle, markersize=2, xlabel=\"λch\", ylabel=\"λsp\", label=\"\")"
   ]
  },
  {
   "cell_type": "code",
   "execution_count": 81,
   "metadata": {},
   "outputs": [
    {
     "data": {
      "image/svg+xml": [
       "<?xml version=\"1.0\" encoding=\"utf-8\"?>\n",
       "<svg xmlns=\"http://www.w3.org/2000/svg\" xmlns:xlink=\"http://www.w3.org/1999/xlink\" width=\"600\" height=\"400\" viewBox=\"0 0 2400 1600\">\n",
       "<defs>\n",
       "  <clipPath id=\"clip360\">\n",
       "    <rect x=\"0\" y=\"0\" width=\"2400\" height=\"1600\"/>\n",
       "  </clipPath>\n",
       "</defs>\n",
       "<path clip-path=\"url(#clip360)\" d=\"\n",
       "M0 1600 L2400 1600 L2400 0 L0 0  Z\n",
       "  \" fill=\"#ffffff\" fill-rule=\"evenodd\" fill-opacity=\"1\"/>\n",
       "<defs>\n",
       "  <clipPath id=\"clip361\">\n",
       "    <rect x=\"480\" y=\"0\" width=\"1681\" height=\"1600\"/>\n",
       "  </clipPath>\n",
       "</defs>\n",
       "<path clip-path=\"url(#clip360)\" d=\"\n",
       "M224.098 1486.45 L2352.76 1486.45 L2352.76 47.2441 L224.098 47.2441  Z\n",
       "  \" fill=\"#ffffff\" fill-rule=\"evenodd\" fill-opacity=\"1\"/>\n",
       "<defs>\n",
       "  <clipPath id=\"clip362\">\n",
       "    <rect x=\"224\" y=\"47\" width=\"2130\" height=\"1440\"/>\n",
       "  </clipPath>\n",
       "</defs>\n",
       "<polyline clip-path=\"url(#clip362)\" style=\"stroke:#000000; stroke-linecap:butt; stroke-linejoin:round; stroke-width:2; stroke-opacity:0.1; fill:none\" points=\"\n",
       "  707.115,1486.45 707.115,47.2441 \n",
       "  \"/>\n",
       "<polyline clip-path=\"url(#clip362)\" style=\"stroke:#000000; stroke-linecap:butt; stroke-linejoin:round; stroke-width:2; stroke-opacity:0.1; fill:none\" points=\"\n",
       "  1235.58,1486.45 1235.58,47.2441 \n",
       "  \"/>\n",
       "<polyline clip-path=\"url(#clip362)\" style=\"stroke:#000000; stroke-linecap:butt; stroke-linejoin:round; stroke-width:2; stroke-opacity:0.1; fill:none\" points=\"\n",
       "  1764.05,1486.45 1764.05,47.2441 \n",
       "  \"/>\n",
       "<polyline clip-path=\"url(#clip362)\" style=\"stroke:#000000; stroke-linecap:butt; stroke-linejoin:round; stroke-width:2; stroke-opacity:0.1; fill:none\" points=\"\n",
       "  2292.51,1486.45 2292.51,47.2441 \n",
       "  \"/>\n",
       "<polyline clip-path=\"url(#clip360)\" style=\"stroke:#000000; stroke-linecap:butt; stroke-linejoin:round; stroke-width:4; stroke-opacity:1; fill:none\" points=\"\n",
       "  224.098,1486.45 2352.76,1486.45 \n",
       "  \"/>\n",
       "<polyline clip-path=\"url(#clip360)\" style=\"stroke:#000000; stroke-linecap:butt; stroke-linejoin:round; stroke-width:4; stroke-opacity:1; fill:none\" points=\"\n",
       "  707.115,1486.45 707.115,1469.18 \n",
       "  \"/>\n",
       "<polyline clip-path=\"url(#clip360)\" style=\"stroke:#000000; stroke-linecap:butt; stroke-linejoin:round; stroke-width:4; stroke-opacity:1; fill:none\" points=\"\n",
       "  1235.58,1486.45 1235.58,1469.18 \n",
       "  \"/>\n",
       "<polyline clip-path=\"url(#clip360)\" style=\"stroke:#000000; stroke-linecap:butt; stroke-linejoin:round; stroke-width:4; stroke-opacity:1; fill:none\" points=\"\n",
       "  1764.05,1486.45 1764.05,1469.18 \n",
       "  \"/>\n",
       "<polyline clip-path=\"url(#clip360)\" style=\"stroke:#000000; stroke-linecap:butt; stroke-linejoin:round; stroke-width:4; stroke-opacity:1; fill:none\" points=\"\n",
       "  2292.51,1486.45 2292.51,1469.18 \n",
       "  \"/>\n",
       "<path clip-path=\"url(#clip360)\" d=\"M697.393 1512.56 L715.749 1512.56 L715.749 1516.5 L701.675 1516.5 L701.675 1524.97 Q702.694 1524.62 703.712 1524.46 Q704.731 1524.27 705.749 1524.27 Q711.536 1524.27 714.916 1527.44 Q718.296 1530.62 718.296 1536.03 Q718.296 1541.61 714.823 1544.71 Q711.351 1547.79 705.032 1547.79 Q702.856 1547.79 700.587 1547.42 Q698.342 1547.05 695.935 1546.31 L695.935 1541.61 Q698.018 1542.74 700.24 1543.3 Q702.462 1543.86 704.939 1543.86 Q708.944 1543.86 711.282 1541.75 Q713.62 1539.64 713.62 1536.03 Q713.62 1532.42 711.282 1530.31 Q708.944 1528.21 704.939 1528.21 Q703.064 1528.21 701.189 1528.62 Q699.337 1529.04 697.393 1529.92 L697.393 1512.56 Z\" fill=\"#000000\" fill-rule=\"evenodd\" fill-opacity=\"1\" /><path clip-path=\"url(#clip360)\" d=\"M1210.27 1543.18 L1217.91 1543.18 L1217.91 1516.82 L1209.6 1518.49 L1209.6 1514.23 L1217.86 1512.56 L1222.54 1512.56 L1222.54 1543.18 L1230.18 1543.18 L1230.18 1547.12 L1210.27 1547.12 L1210.27 1543.18 Z\" fill=\"#000000\" fill-rule=\"evenodd\" fill-opacity=\"1\" /><path clip-path=\"url(#clip360)\" d=\"M1249.62 1515.64 Q1246.01 1515.64 1244.18 1519.2 Q1242.37 1522.75 1242.37 1529.87 Q1242.37 1536.98 1244.18 1540.55 Q1246.01 1544.09 1249.62 1544.09 Q1253.25 1544.09 1255.06 1540.55 Q1256.89 1536.98 1256.89 1529.87 Q1256.89 1522.75 1255.06 1519.2 Q1253.25 1515.64 1249.62 1515.64 M1249.62 1511.93 Q1255.43 1511.93 1258.49 1516.54 Q1261.56 1521.12 1261.56 1529.87 Q1261.56 1538.6 1258.49 1543.21 Q1255.43 1547.79 1249.62 1547.79 Q1243.81 1547.79 1240.73 1543.21 Q1237.68 1538.6 1237.68 1529.87 Q1237.68 1521.12 1240.73 1516.54 Q1243.81 1511.93 1249.62 1511.93 Z\" fill=\"#000000\" fill-rule=\"evenodd\" fill-opacity=\"1\" /><path clip-path=\"url(#clip360)\" d=\"M1739.23 1543.18 L1746.87 1543.18 L1746.87 1516.82 L1738.56 1518.49 L1738.56 1514.23 L1746.82 1512.56 L1751.5 1512.56 L1751.5 1543.18 L1759.14 1543.18 L1759.14 1547.12 L1739.23 1547.12 L1739.23 1543.18 Z\" fill=\"#000000\" fill-rule=\"evenodd\" fill-opacity=\"1\" /><path clip-path=\"url(#clip360)\" d=\"M1768.63 1512.56 L1786.99 1512.56 L1786.99 1516.5 L1772.91 1516.5 L1772.91 1524.97 Q1773.93 1524.62 1774.95 1524.46 Q1775.97 1524.27 1776.99 1524.27 Q1782.77 1524.27 1786.15 1527.44 Q1789.53 1530.62 1789.53 1536.03 Q1789.53 1541.61 1786.06 1544.71 Q1782.59 1547.79 1776.27 1547.79 Q1774.09 1547.79 1771.82 1547.42 Q1769.58 1547.05 1767.17 1546.31 L1767.17 1541.61 Q1769.25 1542.74 1771.48 1543.3 Q1773.7 1543.86 1776.18 1543.86 Q1780.18 1543.86 1782.52 1541.75 Q1784.86 1539.64 1784.86 1536.03 Q1784.86 1532.42 1782.52 1530.31 Q1780.18 1528.21 1776.18 1528.21 Q1774.3 1528.21 1772.43 1528.62 Q1770.57 1529.04 1768.63 1529.92 L1768.63 1512.56 Z\" fill=\"#000000\" fill-rule=\"evenodd\" fill-opacity=\"1\" /><path clip-path=\"url(#clip360)\" d=\"M2271.28 1543.18 L2287.6 1543.18 L2287.6 1547.12 L2265.66 1547.12 L2265.66 1543.18 Q2268.32 1540.43 2272.9 1535.8 Q2277.51 1531.15 2278.69 1529.81 Q2280.94 1527.28 2281.82 1525.55 Q2282.72 1523.79 2282.72 1522.1 Q2282.72 1519.34 2280.77 1517.61 Q2278.85 1515.87 2275.75 1515.87 Q2273.55 1515.87 2271.1 1516.63 Q2268.67 1517.4 2265.89 1518.95 L2265.89 1514.23 Q2268.71 1513.09 2271.17 1512.51 Q2273.62 1511.93 2275.66 1511.93 Q2281.03 1511.93 2284.22 1514.62 Q2287.42 1517.31 2287.42 1521.8 Q2287.42 1523.93 2286.61 1525.85 Q2285.82 1527.74 2283.71 1530.34 Q2283.14 1531.01 2280.03 1534.23 Q2276.93 1537.42 2271.28 1543.18 Z\" fill=\"#000000\" fill-rule=\"evenodd\" fill-opacity=\"1\" /><path clip-path=\"url(#clip360)\" d=\"M2307.42 1515.64 Q2303.81 1515.64 2301.98 1519.2 Q2300.17 1522.75 2300.17 1529.87 Q2300.17 1536.98 2301.98 1540.55 Q2303.81 1544.09 2307.42 1544.09 Q2311.05 1544.09 2312.86 1540.55 Q2314.69 1536.98 2314.69 1529.87 Q2314.69 1522.75 2312.86 1519.2 Q2311.05 1515.64 2307.42 1515.64 M2307.42 1511.93 Q2313.23 1511.93 2316.28 1516.54 Q2319.36 1521.12 2319.36 1529.87 Q2319.36 1538.6 2316.28 1543.21 Q2313.23 1547.79 2307.42 1547.79 Q2301.61 1547.79 2298.53 1543.21 Q2295.47 1538.6 2295.47 1529.87 Q2295.47 1521.12 2298.53 1516.54 Q2301.61 1511.93 2307.42 1511.93 Z\" fill=\"#000000\" fill-rule=\"evenodd\" fill-opacity=\"1\" /><polyline clip-path=\"url(#clip362)\" style=\"stroke:#000000; stroke-linecap:butt; stroke-linejoin:round; stroke-width:2; stroke-opacity:0.1; fill:none\" points=\"\n",
       "  224.098,1281.47 2352.76,1281.47 \n",
       "  \"/>\n",
       "<polyline clip-path=\"url(#clip362)\" style=\"stroke:#000000; stroke-linecap:butt; stroke-linejoin:round; stroke-width:2; stroke-opacity:0.1; fill:none\" points=\"\n",
       "  224.098,1065.14 2352.76,1065.14 \n",
       "  \"/>\n",
       "<polyline clip-path=\"url(#clip362)\" style=\"stroke:#000000; stroke-linecap:butt; stroke-linejoin:round; stroke-width:2; stroke-opacity:0.1; fill:none\" points=\"\n",
       "  224.098,848.821 2352.76,848.821 \n",
       "  \"/>\n",
       "<polyline clip-path=\"url(#clip362)\" style=\"stroke:#000000; stroke-linecap:butt; stroke-linejoin:round; stroke-width:2; stroke-opacity:0.1; fill:none\" points=\"\n",
       "  224.098,632.497 2352.76,632.497 \n",
       "  \"/>\n",
       "<polyline clip-path=\"url(#clip362)\" style=\"stroke:#000000; stroke-linecap:butt; stroke-linejoin:round; stroke-width:2; stroke-opacity:0.1; fill:none\" points=\"\n",
       "  224.098,416.174 2352.76,416.174 \n",
       "  \"/>\n",
       "<polyline clip-path=\"url(#clip362)\" style=\"stroke:#000000; stroke-linecap:butt; stroke-linejoin:round; stroke-width:2; stroke-opacity:0.1; fill:none\" points=\"\n",
       "  224.098,199.851 2352.76,199.851 \n",
       "  \"/>\n",
       "<polyline clip-path=\"url(#clip360)\" style=\"stroke:#000000; stroke-linecap:butt; stroke-linejoin:round; stroke-width:4; stroke-opacity:1; fill:none\" points=\"\n",
       "  224.098,1486.45 224.098,47.2441 \n",
       "  \"/>\n",
       "<polyline clip-path=\"url(#clip360)\" style=\"stroke:#000000; stroke-linecap:butt; stroke-linejoin:round; stroke-width:4; stroke-opacity:1; fill:none\" points=\"\n",
       "  224.098,1281.47 249.642,1281.47 \n",
       "  \"/>\n",
       "<polyline clip-path=\"url(#clip360)\" style=\"stroke:#000000; stroke-linecap:butt; stroke-linejoin:round; stroke-width:4; stroke-opacity:1; fill:none\" points=\"\n",
       "  224.098,1065.14 249.642,1065.14 \n",
       "  \"/>\n",
       "<polyline clip-path=\"url(#clip360)\" style=\"stroke:#000000; stroke-linecap:butt; stroke-linejoin:round; stroke-width:4; stroke-opacity:1; fill:none\" points=\"\n",
       "  224.098,848.821 249.642,848.821 \n",
       "  \"/>\n",
       "<polyline clip-path=\"url(#clip360)\" style=\"stroke:#000000; stroke-linecap:butt; stroke-linejoin:round; stroke-width:4; stroke-opacity:1; fill:none\" points=\"\n",
       "  224.098,632.497 249.642,632.497 \n",
       "  \"/>\n",
       "<polyline clip-path=\"url(#clip360)\" style=\"stroke:#000000; stroke-linecap:butt; stroke-linejoin:round; stroke-width:4; stroke-opacity:1; fill:none\" points=\"\n",
       "  224.098,416.174 249.642,416.174 \n",
       "  \"/>\n",
       "<polyline clip-path=\"url(#clip360)\" style=\"stroke:#000000; stroke-linecap:butt; stroke-linejoin:round; stroke-width:4; stroke-opacity:1; fill:none\" points=\"\n",
       "  224.098,199.851 249.642,199.851 \n",
       "  \"/>\n",
       "<path clip-path=\"url(#clip360)\" d=\"M50.9921 1281.92 L80.6679 1281.92 L80.6679 1285.85 L50.9921 1285.85 L50.9921 1281.92 Z\" fill=\"#000000\" fill-rule=\"evenodd\" fill-opacity=\"1\" /><path clip-path=\"url(#clip360)\" d=\"M100.76 1267.27 Q97.1493 1267.27 95.3206 1270.83 Q93.515 1274.37 93.515 1281.5 Q93.515 1288.61 95.3206 1292.17 Q97.1493 1295.71 100.76 1295.71 Q104.395 1295.71 106.2 1292.17 Q108.029 1288.61 108.029 1281.5 Q108.029 1274.37 106.2 1270.83 Q104.395 1267.27 100.76 1267.27 M100.76 1263.56 Q106.571 1263.56 109.626 1268.17 Q112.705 1272.75 112.705 1281.5 Q112.705 1290.23 109.626 1294.84 Q106.571 1299.42 100.76 1299.42 Q94.9502 1299.42 91.8715 1294.84 Q88.816 1290.23 88.816 1281.5 Q88.816 1272.75 91.8715 1268.17 Q94.9502 1263.56 100.76 1263.56 Z\" fill=\"#000000\" fill-rule=\"evenodd\" fill-opacity=\"1\" /><path clip-path=\"url(#clip360)\" d=\"M120.922 1292.87 L125.807 1292.87 L125.807 1298.75 L120.922 1298.75 L120.922 1292.87 Z\" fill=\"#000000\" fill-rule=\"evenodd\" fill-opacity=\"1\" /><path clip-path=\"url(#clip360)\" d=\"M150.158 1280.11 Q153.515 1280.83 155.39 1283.1 Q157.288 1285.37 157.288 1288.7 Q157.288 1293.82 153.769 1296.62 Q150.251 1299.42 143.769 1299.42 Q141.593 1299.42 139.279 1298.98 Q136.987 1298.56 134.533 1297.71 L134.533 1293.19 Q136.478 1294.33 138.793 1294.9 Q141.107 1295.48 143.631 1295.48 Q148.029 1295.48 150.32 1293.75 Q152.635 1292.01 152.635 1288.7 Q152.635 1285.65 150.482 1283.93 Q148.353 1282.2 144.533 1282.2 L140.506 1282.2 L140.506 1278.35 L144.718 1278.35 Q148.168 1278.35 149.996 1276.99 Q151.825 1275.6 151.825 1273.01 Q151.825 1270.34 149.927 1268.93 Q148.052 1267.5 144.533 1267.5 Q142.612 1267.5 140.413 1267.91 Q138.214 1268.33 135.575 1269.21 L135.575 1265.04 Q138.237 1264.3 140.552 1263.93 Q142.89 1263.56 144.95 1263.56 Q150.274 1263.56 153.376 1265.99 Q156.478 1268.4 156.478 1272.52 Q156.478 1275.39 154.834 1277.38 Q153.191 1279.35 150.158 1280.11 Z\" fill=\"#000000\" fill-rule=\"evenodd\" fill-opacity=\"1\" /><path clip-path=\"url(#clip360)\" d=\"M176.153 1267.27 Q172.542 1267.27 170.714 1270.83 Q168.908 1274.37 168.908 1281.5 Q168.908 1288.61 170.714 1292.17 Q172.542 1295.71 176.153 1295.71 Q179.788 1295.71 181.593 1292.17 Q183.422 1288.61 183.422 1281.5 Q183.422 1274.37 181.593 1270.83 Q179.788 1267.27 176.153 1267.27 M176.153 1263.56 Q181.964 1263.56 185.019 1268.17 Q188.098 1272.75 188.098 1281.5 Q188.098 1290.23 185.019 1294.84 Q181.964 1299.42 176.153 1299.42 Q170.343 1299.42 167.265 1294.84 Q164.209 1290.23 164.209 1281.5 Q164.209 1272.75 167.265 1268.17 Q170.343 1263.56 176.153 1263.56 Z\" fill=\"#000000\" fill-rule=\"evenodd\" fill-opacity=\"1\" /><path clip-path=\"url(#clip360)\" d=\"M51.9875 1065.6 L81.6633 1065.6 L81.6633 1069.53 L51.9875 1069.53 L51.9875 1065.6 Z\" fill=\"#000000\" fill-rule=\"evenodd\" fill-opacity=\"1\" /><path clip-path=\"url(#clip360)\" d=\"M101.756 1050.94 Q98.1447 1050.94 96.316 1054.51 Q94.5104 1058.05 94.5104 1065.18 Q94.5104 1072.29 96.316 1075.85 Q98.1447 1079.39 101.756 1079.39 Q105.39 1079.39 107.196 1075.85 Q109.024 1072.29 109.024 1065.18 Q109.024 1058.05 107.196 1054.51 Q105.39 1050.94 101.756 1050.94 M101.756 1047.24 Q107.566 1047.24 110.621 1051.85 Q113.7 1056.43 113.7 1065.18 Q113.7 1073.91 110.621 1078.51 Q107.566 1083.1 101.756 1083.1 Q95.9456 1083.1 92.8669 1078.51 Q89.8114 1073.91 89.8114 1065.18 Q89.8114 1056.43 92.8669 1051.85 Q95.9456 1047.24 101.756 1047.24 Z\" fill=\"#000000\" fill-rule=\"evenodd\" fill-opacity=\"1\" /><path clip-path=\"url(#clip360)\" d=\"M121.918 1076.54 L126.802 1076.54 L126.802 1082.42 L121.918 1082.42 L121.918 1076.54 Z\" fill=\"#000000\" fill-rule=\"evenodd\" fill-opacity=\"1\" /><path clip-path=\"url(#clip360)\" d=\"M141.015 1078.49 L157.334 1078.49 L157.334 1082.42 L135.39 1082.42 L135.39 1078.49 Q138.052 1075.73 142.635 1071.1 Q147.242 1066.45 148.422 1065.11 Q150.668 1062.59 151.547 1060.85 Q152.45 1059.09 152.45 1057.4 Q152.45 1054.65 150.505 1052.91 Q148.584 1051.17 145.482 1051.17 Q143.283 1051.17 140.83 1051.94 Q138.399 1052.7 135.621 1054.25 L135.621 1049.53 Q138.445 1048.4 140.899 1047.82 Q143.353 1047.24 145.39 1047.24 Q150.76 1047.24 153.955 1049.92 Q157.149 1052.61 157.149 1057.1 Q157.149 1059.23 156.339 1061.15 Q155.552 1063.05 153.445 1065.64 Q152.867 1066.31 149.765 1069.53 Q146.663 1072.72 141.015 1078.49 Z\" fill=\"#000000\" fill-rule=\"evenodd\" fill-opacity=\"1\" /><path clip-path=\"url(#clip360)\" d=\"M167.195 1047.86 L185.552 1047.86 L185.552 1051.8 L171.478 1051.8 L171.478 1060.27 Q172.496 1059.92 173.515 1059.76 Q174.533 1059.58 175.552 1059.58 Q181.339 1059.58 184.718 1062.75 Q188.098 1065.92 188.098 1071.34 Q188.098 1076.91 184.626 1080.02 Q181.153 1083.1 174.834 1083.1 Q172.658 1083.1 170.39 1082.72 Q168.144 1082.35 165.737 1081.61 L165.737 1076.91 Q167.82 1078.05 170.042 1078.6 Q172.265 1079.16 174.741 1079.16 Q178.746 1079.16 181.084 1077.05 Q183.422 1074.95 183.422 1071.34 Q183.422 1067.72 181.084 1065.62 Q178.746 1063.51 174.741 1063.51 Q172.866 1063.51 170.991 1063.93 Q169.14 1064.35 167.195 1065.22 L167.195 1047.86 Z\" fill=\"#000000\" fill-rule=\"evenodd\" fill-opacity=\"1\" /><path clip-path=\"url(#clip360)\" d=\"M50.9921 849.272 L80.6679 849.272 L80.6679 853.207 L50.9921 853.207 L50.9921 849.272 Z\" fill=\"#000000\" fill-rule=\"evenodd\" fill-opacity=\"1\" /><path clip-path=\"url(#clip360)\" d=\"M100.76 834.619 Q97.1493 834.619 95.3206 838.184 Q93.515 841.726 93.515 848.855 Q93.515 855.962 95.3206 859.527 Q97.1493 863.068 100.76 863.068 Q104.395 863.068 106.2 859.527 Q108.029 855.962 108.029 848.855 Q108.029 841.726 106.2 838.184 Q104.395 834.619 100.76 834.619 M100.76 830.916 Q106.571 830.916 109.626 835.522 Q112.705 840.105 112.705 848.855 Q112.705 857.582 109.626 862.189 Q106.571 866.772 100.76 866.772 Q94.9502 866.772 91.8715 862.189 Q88.816 857.582 88.816 848.855 Q88.816 840.105 91.8715 835.522 Q94.9502 830.916 100.76 830.916 Z\" fill=\"#000000\" fill-rule=\"evenodd\" fill-opacity=\"1\" /><path clip-path=\"url(#clip360)\" d=\"M120.922 860.221 L125.807 860.221 L125.807 866.101 L120.922 866.101 L120.922 860.221 Z\" fill=\"#000000\" fill-rule=\"evenodd\" fill-opacity=\"1\" /><path clip-path=\"url(#clip360)\" d=\"M140.019 862.166 L156.339 862.166 L156.339 866.101 L134.394 866.101 L134.394 862.166 Q137.056 859.411 141.64 854.781 Q146.246 850.129 147.427 848.786 Q149.672 846.263 150.552 844.527 Q151.455 842.768 151.455 841.078 Q151.455 838.323 149.51 836.587 Q147.589 834.851 144.487 834.851 Q142.288 834.851 139.834 835.615 Q137.404 836.379 134.626 837.93 L134.626 833.207 Q137.45 832.073 139.904 831.494 Q142.357 830.916 144.394 830.916 Q149.765 830.916 152.959 833.601 Q156.154 836.286 156.154 840.777 Q156.154 842.906 155.343 844.828 Q154.556 846.726 152.45 849.318 Q151.871 849.99 148.769 853.207 Q145.668 856.402 140.019 862.166 Z\" fill=\"#000000\" fill-rule=\"evenodd\" fill-opacity=\"1\" /><path clip-path=\"url(#clip360)\" d=\"M176.153 834.619 Q172.542 834.619 170.714 838.184 Q168.908 841.726 168.908 848.855 Q168.908 855.962 170.714 859.527 Q172.542 863.068 176.153 863.068 Q179.788 863.068 181.593 859.527 Q183.422 855.962 183.422 848.855 Q183.422 841.726 181.593 838.184 Q179.788 834.619 176.153 834.619 M176.153 830.916 Q181.964 830.916 185.019 835.522 Q188.098 840.105 188.098 848.855 Q188.098 857.582 185.019 862.189 Q181.964 866.772 176.153 866.772 Q170.343 866.772 167.265 862.189 Q164.209 857.582 164.209 848.855 Q164.209 840.105 167.265 835.522 Q170.343 830.916 176.153 830.916 Z\" fill=\"#000000\" fill-rule=\"evenodd\" fill-opacity=\"1\" /><path clip-path=\"url(#clip360)\" d=\"M51.9875 632.949 L81.6633 632.949 L81.6633 636.884 L51.9875 636.884 L51.9875 632.949 Z\" fill=\"#000000\" fill-rule=\"evenodd\" fill-opacity=\"1\" /><path clip-path=\"url(#clip360)\" d=\"M101.756 618.296 Q98.1447 618.296 96.316 621.861 Q94.5104 625.403 94.5104 632.532 Q94.5104 639.639 96.316 643.203 Q98.1447 646.745 101.756 646.745 Q105.39 646.745 107.196 643.203 Q109.024 639.639 109.024 632.532 Q109.024 625.403 107.196 621.861 Q105.39 618.296 101.756 618.296 M101.756 614.592 Q107.566 614.592 110.621 619.199 Q113.7 623.782 113.7 632.532 Q113.7 641.259 110.621 645.865 Q107.566 650.449 101.756 650.449 Q95.9456 650.449 92.8669 645.865 Q89.8114 641.259 89.8114 632.532 Q89.8114 623.782 92.8669 619.199 Q95.9456 614.592 101.756 614.592 Z\" fill=\"#000000\" fill-rule=\"evenodd\" fill-opacity=\"1\" /><path clip-path=\"url(#clip360)\" d=\"M121.918 643.898 L126.802 643.898 L126.802 649.777 L121.918 649.777 L121.918 643.898 Z\" fill=\"#000000\" fill-rule=\"evenodd\" fill-opacity=\"1\" /><path clip-path=\"url(#clip360)\" d=\"M137.797 645.842 L145.436 645.842 L145.436 619.477 L137.126 621.143 L137.126 616.884 L145.39 615.217 L150.066 615.217 L150.066 645.842 L157.705 645.842 L157.705 649.777 L137.797 649.777 L137.797 645.842 Z\" fill=\"#000000\" fill-rule=\"evenodd\" fill-opacity=\"1\" /><path clip-path=\"url(#clip360)\" d=\"M167.195 615.217 L185.552 615.217 L185.552 619.153 L171.478 619.153 L171.478 627.625 Q172.496 627.278 173.515 627.116 Q174.533 626.93 175.552 626.93 Q181.339 626.93 184.718 630.102 Q188.098 633.273 188.098 638.69 Q188.098 644.268 184.626 647.37 Q181.153 650.449 174.834 650.449 Q172.658 650.449 170.39 650.078 Q168.144 649.708 165.737 648.967 L165.737 644.268 Q167.82 645.402 170.042 645.958 Q172.265 646.514 174.741 646.514 Q178.746 646.514 181.084 644.407 Q183.422 642.301 183.422 638.69 Q183.422 635.078 181.084 632.972 Q178.746 630.866 174.741 630.866 Q172.866 630.866 170.991 631.282 Q169.14 631.699 167.195 632.578 L167.195 615.217 Z\" fill=\"#000000\" fill-rule=\"evenodd\" fill-opacity=\"1\" /><path clip-path=\"url(#clip360)\" d=\"M50.9921 416.626 L80.6679 416.626 L80.6679 420.561 L50.9921 420.561 L50.9921 416.626 Z\" fill=\"#000000\" fill-rule=\"evenodd\" fill-opacity=\"1\" /><path clip-path=\"url(#clip360)\" d=\"M100.76 401.973 Q97.1493 401.973 95.3206 405.538 Q93.515 409.079 93.515 416.209 Q93.515 423.315 95.3206 426.88 Q97.1493 430.422 100.76 430.422 Q104.395 430.422 106.2 426.88 Q108.029 423.315 108.029 416.209 Q108.029 409.079 106.2 405.538 Q104.395 401.973 100.76 401.973 M100.76 398.269 Q106.571 398.269 109.626 402.876 Q112.705 407.459 112.705 416.209 Q112.705 424.936 109.626 429.542 Q106.571 434.125 100.76 434.125 Q94.9502 434.125 91.8715 429.542 Q88.816 424.936 88.816 416.209 Q88.816 407.459 91.8715 402.876 Q94.9502 398.269 100.76 398.269 Z\" fill=\"#000000\" fill-rule=\"evenodd\" fill-opacity=\"1\" /><path clip-path=\"url(#clip360)\" d=\"M120.922 427.575 L125.807 427.575 L125.807 433.454 L120.922 433.454 L120.922 427.575 Z\" fill=\"#000000\" fill-rule=\"evenodd\" fill-opacity=\"1\" /><path clip-path=\"url(#clip360)\" d=\"M136.802 429.519 L144.441 429.519 L144.441 403.153 L136.131 404.82 L136.131 400.561 L144.394 398.894 L149.07 398.894 L149.07 429.519 L156.709 429.519 L156.709 433.454 L136.802 433.454 L136.802 429.519 Z\" fill=\"#000000\" fill-rule=\"evenodd\" fill-opacity=\"1\" /><path clip-path=\"url(#clip360)\" d=\"M176.153 401.973 Q172.542 401.973 170.714 405.538 Q168.908 409.079 168.908 416.209 Q168.908 423.315 170.714 426.88 Q172.542 430.422 176.153 430.422 Q179.788 430.422 181.593 426.88 Q183.422 423.315 183.422 416.209 Q183.422 409.079 181.593 405.538 Q179.788 401.973 176.153 401.973 M176.153 398.269 Q181.964 398.269 185.019 402.876 Q188.098 407.459 188.098 416.209 Q188.098 424.936 185.019 429.542 Q181.964 434.125 176.153 434.125 Q170.343 434.125 167.265 429.542 Q164.209 424.936 164.209 416.209 Q164.209 407.459 167.265 402.876 Q170.343 398.269 176.153 398.269 Z\" fill=\"#000000\" fill-rule=\"evenodd\" fill-opacity=\"1\" /><path clip-path=\"url(#clip360)\" d=\"M51.9875 200.302 L81.6633 200.302 L81.6633 204.237 L51.9875 204.237 L51.9875 200.302 Z\" fill=\"#000000\" fill-rule=\"evenodd\" fill-opacity=\"1\" /><path clip-path=\"url(#clip360)\" d=\"M101.756 185.65 Q98.1447 185.65 96.316 189.214 Q94.5104 192.756 94.5104 199.886 Q94.5104 206.992 96.316 210.557 Q98.1447 214.099 101.756 214.099 Q105.39 214.099 107.196 210.557 Q109.024 206.992 109.024 199.886 Q109.024 192.756 107.196 189.214 Q105.39 185.65 101.756 185.65 M101.756 181.946 Q107.566 181.946 110.621 186.552 Q113.7 191.136 113.7 199.886 Q113.7 208.612 110.621 213.219 Q107.566 217.802 101.756 217.802 Q95.9456 217.802 92.8669 213.219 Q89.8114 208.612 89.8114 199.886 Q89.8114 191.136 92.8669 186.552 Q95.9456 181.946 101.756 181.946 Z\" fill=\"#000000\" fill-rule=\"evenodd\" fill-opacity=\"1\" /><path clip-path=\"url(#clip360)\" d=\"M121.918 211.251 L126.802 211.251 L126.802 217.131 L121.918 217.131 L121.918 211.251 Z\" fill=\"#000000\" fill-rule=\"evenodd\" fill-opacity=\"1\" /><path clip-path=\"url(#clip360)\" d=\"M146.987 185.65 Q143.376 185.65 141.547 189.214 Q139.742 192.756 139.742 199.886 Q139.742 206.992 141.547 210.557 Q143.376 214.099 146.987 214.099 Q150.621 214.099 152.427 210.557 Q154.255 206.992 154.255 199.886 Q154.255 192.756 152.427 189.214 Q150.621 185.65 146.987 185.65 M146.987 181.946 Q152.797 181.946 155.853 186.552 Q158.931 191.136 158.931 199.886 Q158.931 208.612 155.853 213.219 Q152.797 217.802 146.987 217.802 Q141.177 217.802 138.098 213.219 Q135.043 208.612 135.043 199.886 Q135.043 191.136 138.098 186.552 Q141.177 181.946 146.987 181.946 Z\" fill=\"#000000\" fill-rule=\"evenodd\" fill-opacity=\"1\" /><path clip-path=\"url(#clip360)\" d=\"M167.195 182.571 L185.552 182.571 L185.552 186.506 L171.478 186.506 L171.478 194.978 Q172.496 194.631 173.515 194.469 Q174.533 194.284 175.552 194.284 Q181.339 194.284 184.718 197.455 Q188.098 200.626 188.098 206.043 Q188.098 211.622 184.626 214.724 Q181.153 217.802 174.834 217.802 Q172.658 217.802 170.39 217.432 Q168.144 217.061 165.737 216.321 L165.737 211.622 Q167.82 212.756 170.042 213.311 Q172.265 213.867 174.741 213.867 Q178.746 213.867 181.084 211.761 Q183.422 209.654 183.422 206.043 Q183.422 202.432 181.084 200.325 Q178.746 198.219 174.741 198.219 Q172.866 198.219 170.991 198.636 Q169.14 199.052 167.195 199.932 L167.195 182.571 Z\" fill=\"#000000\" fill-rule=\"evenodd\" fill-opacity=\"1\" /><polyline clip-path=\"url(#clip362)\" style=\"stroke:#009af9; stroke-linecap:butt; stroke-linejoin:round; stroke-width:4; stroke-opacity:1; fill:none\" points=\"\n",
       "  284.343,675.671 390.036,681.145 495.729,577.272 601.422,482.422 707.115,407.318 812.808,348.929 918.501,303.144 1024.19,266.674 1129.89,237.132 1235.58,212.813 \n",
       "  1341.27,192.499 1446.97,175.307 1552.66,160.584 1658.35,147.844 1764.05,136.717 1869.74,126.916 1975.43,118.218 2081.12,110.447 2186.82,103.46 2292.51,97.1434 \n",
       "  \n",
       "  \"/>\n",
       "<circle clip-path=\"url(#clip362)\" cx=\"284.343\" cy=\"675.671\" r=\"14\" fill=\"#009af9\" fill-rule=\"evenodd\" fill-opacity=\"1\" stroke=\"#000000\" stroke-opacity=\"1\" stroke-width=\"3.2\"/>\n",
       "<circle clip-path=\"url(#clip362)\" cx=\"390.036\" cy=\"681.145\" r=\"14\" fill=\"#009af9\" fill-rule=\"evenodd\" fill-opacity=\"1\" stroke=\"#000000\" stroke-opacity=\"1\" stroke-width=\"3.2\"/>\n",
       "<circle clip-path=\"url(#clip362)\" cx=\"495.729\" cy=\"577.272\" r=\"14\" fill=\"#009af9\" fill-rule=\"evenodd\" fill-opacity=\"1\" stroke=\"#000000\" stroke-opacity=\"1\" stroke-width=\"3.2\"/>\n",
       "<circle clip-path=\"url(#clip362)\" cx=\"601.422\" cy=\"482.422\" r=\"14\" fill=\"#009af9\" fill-rule=\"evenodd\" fill-opacity=\"1\" stroke=\"#000000\" stroke-opacity=\"1\" stroke-width=\"3.2\"/>\n",
       "<circle clip-path=\"url(#clip362)\" cx=\"707.115\" cy=\"407.318\" r=\"14\" fill=\"#009af9\" fill-rule=\"evenodd\" fill-opacity=\"1\" stroke=\"#000000\" stroke-opacity=\"1\" stroke-width=\"3.2\"/>\n",
       "<circle clip-path=\"url(#clip362)\" cx=\"812.808\" cy=\"348.929\" r=\"14\" fill=\"#009af9\" fill-rule=\"evenodd\" fill-opacity=\"1\" stroke=\"#000000\" stroke-opacity=\"1\" stroke-width=\"3.2\"/>\n",
       "<circle clip-path=\"url(#clip362)\" cx=\"918.501\" cy=\"303.144\" r=\"14\" fill=\"#009af9\" fill-rule=\"evenodd\" fill-opacity=\"1\" stroke=\"#000000\" stroke-opacity=\"1\" stroke-width=\"3.2\"/>\n",
       "<circle clip-path=\"url(#clip362)\" cx=\"1024.19\" cy=\"266.674\" r=\"14\" fill=\"#009af9\" fill-rule=\"evenodd\" fill-opacity=\"1\" stroke=\"#000000\" stroke-opacity=\"1\" stroke-width=\"3.2\"/>\n",
       "<circle clip-path=\"url(#clip362)\" cx=\"1129.89\" cy=\"237.132\" r=\"14\" fill=\"#009af9\" fill-rule=\"evenodd\" fill-opacity=\"1\" stroke=\"#000000\" stroke-opacity=\"1\" stroke-width=\"3.2\"/>\n",
       "<circle clip-path=\"url(#clip362)\" cx=\"1235.58\" cy=\"212.813\" r=\"14\" fill=\"#009af9\" fill-rule=\"evenodd\" fill-opacity=\"1\" stroke=\"#000000\" stroke-opacity=\"1\" stroke-width=\"3.2\"/>\n",
       "<circle clip-path=\"url(#clip362)\" cx=\"1341.27\" cy=\"192.499\" r=\"14\" fill=\"#009af9\" fill-rule=\"evenodd\" fill-opacity=\"1\" stroke=\"#000000\" stroke-opacity=\"1\" stroke-width=\"3.2\"/>\n",
       "<circle clip-path=\"url(#clip362)\" cx=\"1446.97\" cy=\"175.307\" r=\"14\" fill=\"#009af9\" fill-rule=\"evenodd\" fill-opacity=\"1\" stroke=\"#000000\" stroke-opacity=\"1\" stroke-width=\"3.2\"/>\n",
       "<circle clip-path=\"url(#clip362)\" cx=\"1552.66\" cy=\"160.584\" r=\"14\" fill=\"#009af9\" fill-rule=\"evenodd\" fill-opacity=\"1\" stroke=\"#000000\" stroke-opacity=\"1\" stroke-width=\"3.2\"/>\n",
       "<circle clip-path=\"url(#clip362)\" cx=\"1658.35\" cy=\"147.844\" r=\"14\" fill=\"#009af9\" fill-rule=\"evenodd\" fill-opacity=\"1\" stroke=\"#000000\" stroke-opacity=\"1\" stroke-width=\"3.2\"/>\n",
       "<circle clip-path=\"url(#clip362)\" cx=\"1764.05\" cy=\"136.717\" r=\"14\" fill=\"#009af9\" fill-rule=\"evenodd\" fill-opacity=\"1\" stroke=\"#000000\" stroke-opacity=\"1\" stroke-width=\"3.2\"/>\n",
       "<circle clip-path=\"url(#clip362)\" cx=\"1869.74\" cy=\"126.916\" r=\"14\" fill=\"#009af9\" fill-rule=\"evenodd\" fill-opacity=\"1\" stroke=\"#000000\" stroke-opacity=\"1\" stroke-width=\"3.2\"/>\n",
       "<circle clip-path=\"url(#clip362)\" cx=\"1975.43\" cy=\"118.218\" r=\"14\" fill=\"#009af9\" fill-rule=\"evenodd\" fill-opacity=\"1\" stroke=\"#000000\" stroke-opacity=\"1\" stroke-width=\"3.2\"/>\n",
       "<circle clip-path=\"url(#clip362)\" cx=\"2081.12\" cy=\"110.447\" r=\"14\" fill=\"#009af9\" fill-rule=\"evenodd\" fill-opacity=\"1\" stroke=\"#000000\" stroke-opacity=\"1\" stroke-width=\"3.2\"/>\n",
       "<circle clip-path=\"url(#clip362)\" cx=\"2186.82\" cy=\"103.46\" r=\"14\" fill=\"#009af9\" fill-rule=\"evenodd\" fill-opacity=\"1\" stroke=\"#000000\" stroke-opacity=\"1\" stroke-width=\"3.2\"/>\n",
       "<circle clip-path=\"url(#clip362)\" cx=\"2292.51\" cy=\"97.1434\" r=\"14\" fill=\"#009af9\" fill-rule=\"evenodd\" fill-opacity=\"1\" stroke=\"#000000\" stroke-opacity=\"1\" stroke-width=\"3.2\"/>\n",
       "<polyline clip-path=\"url(#clip362)\" style=\"stroke:#e26f46; stroke-linecap:butt; stroke-linejoin:round; stroke-width:4; stroke-opacity:1; fill:none\" points=\"\n",
       "  284.343,1445.72 390.036,1383.74 495.729,1160.71 601.422,967.387 707.115,817.223 812.808,701.71 918.501,611.721 1024.19,540.352 1129.89,482.719 1235.58,435.394 \n",
       "  1341.27,395.945 1446.97,362.621 1552.66,334.138 1658.35,309.537 1764.05,288.093 1869.74,269.245 1975.43,252.557 2081.12,237.684 2186.82,224.348 2292.51,212.326 \n",
       "  \n",
       "  \"/>\n",
       "<circle clip-path=\"url(#clip362)\" cx=\"284.343\" cy=\"1445.72\" r=\"14\" fill=\"#e26f46\" fill-rule=\"evenodd\" fill-opacity=\"1\" stroke=\"#000000\" stroke-opacity=\"1\" stroke-width=\"3.2\"/>\n",
       "<circle clip-path=\"url(#clip362)\" cx=\"390.036\" cy=\"1383.74\" r=\"14\" fill=\"#e26f46\" fill-rule=\"evenodd\" fill-opacity=\"1\" stroke=\"#000000\" stroke-opacity=\"1\" stroke-width=\"3.2\"/>\n",
       "<circle clip-path=\"url(#clip362)\" cx=\"495.729\" cy=\"1160.71\" r=\"14\" fill=\"#e26f46\" fill-rule=\"evenodd\" fill-opacity=\"1\" stroke=\"#000000\" stroke-opacity=\"1\" stroke-width=\"3.2\"/>\n",
       "<circle clip-path=\"url(#clip362)\" cx=\"601.422\" cy=\"967.387\" r=\"14\" fill=\"#e26f46\" fill-rule=\"evenodd\" fill-opacity=\"1\" stroke=\"#000000\" stroke-opacity=\"1\" stroke-width=\"3.2\"/>\n",
       "<circle clip-path=\"url(#clip362)\" cx=\"707.115\" cy=\"817.223\" r=\"14\" fill=\"#e26f46\" fill-rule=\"evenodd\" fill-opacity=\"1\" stroke=\"#000000\" stroke-opacity=\"1\" stroke-width=\"3.2\"/>\n",
       "<circle clip-path=\"url(#clip362)\" cx=\"812.808\" cy=\"701.71\" r=\"14\" fill=\"#e26f46\" fill-rule=\"evenodd\" fill-opacity=\"1\" stroke=\"#000000\" stroke-opacity=\"1\" stroke-width=\"3.2\"/>\n",
       "<circle clip-path=\"url(#clip362)\" cx=\"918.501\" cy=\"611.721\" r=\"14\" fill=\"#e26f46\" fill-rule=\"evenodd\" fill-opacity=\"1\" stroke=\"#000000\" stroke-opacity=\"1\" stroke-width=\"3.2\"/>\n",
       "<circle clip-path=\"url(#clip362)\" cx=\"1024.19\" cy=\"540.352\" r=\"14\" fill=\"#e26f46\" fill-rule=\"evenodd\" fill-opacity=\"1\" stroke=\"#000000\" stroke-opacity=\"1\" stroke-width=\"3.2\"/>\n",
       "<circle clip-path=\"url(#clip362)\" cx=\"1129.89\" cy=\"482.719\" r=\"14\" fill=\"#e26f46\" fill-rule=\"evenodd\" fill-opacity=\"1\" stroke=\"#000000\" stroke-opacity=\"1\" stroke-width=\"3.2\"/>\n",
       "<circle clip-path=\"url(#clip362)\" cx=\"1235.58\" cy=\"435.394\" r=\"14\" fill=\"#e26f46\" fill-rule=\"evenodd\" fill-opacity=\"1\" stroke=\"#000000\" stroke-opacity=\"1\" stroke-width=\"3.2\"/>\n",
       "<circle clip-path=\"url(#clip362)\" cx=\"1341.27\" cy=\"395.945\" r=\"14\" fill=\"#e26f46\" fill-rule=\"evenodd\" fill-opacity=\"1\" stroke=\"#000000\" stroke-opacity=\"1\" stroke-width=\"3.2\"/>\n",
       "<circle clip-path=\"url(#clip362)\" cx=\"1446.97\" cy=\"362.621\" r=\"14\" fill=\"#e26f46\" fill-rule=\"evenodd\" fill-opacity=\"1\" stroke=\"#000000\" stroke-opacity=\"1\" stroke-width=\"3.2\"/>\n",
       "<circle clip-path=\"url(#clip362)\" cx=\"1552.66\" cy=\"334.138\" r=\"14\" fill=\"#e26f46\" fill-rule=\"evenodd\" fill-opacity=\"1\" stroke=\"#000000\" stroke-opacity=\"1\" stroke-width=\"3.2\"/>\n",
       "<circle clip-path=\"url(#clip362)\" cx=\"1658.35\" cy=\"309.537\" r=\"14\" fill=\"#e26f46\" fill-rule=\"evenodd\" fill-opacity=\"1\" stroke=\"#000000\" stroke-opacity=\"1\" stroke-width=\"3.2\"/>\n",
       "<circle clip-path=\"url(#clip362)\" cx=\"1764.05\" cy=\"288.093\" r=\"14\" fill=\"#e26f46\" fill-rule=\"evenodd\" fill-opacity=\"1\" stroke=\"#000000\" stroke-opacity=\"1\" stroke-width=\"3.2\"/>\n",
       "<circle clip-path=\"url(#clip362)\" cx=\"1869.74\" cy=\"269.245\" r=\"14\" fill=\"#e26f46\" fill-rule=\"evenodd\" fill-opacity=\"1\" stroke=\"#000000\" stroke-opacity=\"1\" stroke-width=\"3.2\"/>\n",
       "<circle clip-path=\"url(#clip362)\" cx=\"1975.43\" cy=\"252.557\" r=\"14\" fill=\"#e26f46\" fill-rule=\"evenodd\" fill-opacity=\"1\" stroke=\"#000000\" stroke-opacity=\"1\" stroke-width=\"3.2\"/>\n",
       "<circle clip-path=\"url(#clip362)\" cx=\"2081.12\" cy=\"237.684\" r=\"14\" fill=\"#e26f46\" fill-rule=\"evenodd\" fill-opacity=\"1\" stroke=\"#000000\" stroke-opacity=\"1\" stroke-width=\"3.2\"/>\n",
       "<circle clip-path=\"url(#clip362)\" cx=\"2186.82\" cy=\"224.348\" r=\"14\" fill=\"#e26f46\" fill-rule=\"evenodd\" fill-opacity=\"1\" stroke=\"#000000\" stroke-opacity=\"1\" stroke-width=\"3.2\"/>\n",
       "<circle clip-path=\"url(#clip362)\" cx=\"2292.51\" cy=\"212.326\" r=\"14\" fill=\"#e26f46\" fill-rule=\"evenodd\" fill-opacity=\"1\" stroke=\"#000000\" stroke-opacity=\"1\" stroke-width=\"3.2\"/>\n",
       "<polyline clip-path=\"url(#clip362)\" style=\"stroke:#3da44d; stroke-linecap:butt; stroke-linejoin:round; stroke-width:4; stroke-opacity:1; fill:none\" points=\"\n",
       "  284.343,461.772 390.036,554.316 495.729,492.858 601.422,419.357 707.115,357.078 812.808,307.345 918.501,267.839 1024.19,236.149 1129.89,210.372 1235.58,189.104 \n",
       "  1341.27,171.314 1446.97,156.249 1552.66,143.348 1658.35,132.19 1764.05,122.453 1869.74,113.886 1975.43,106.296 2081.12,99.5262 2186.82,93.4533 2292.51,87.9763 \n",
       "  \n",
       "  \"/>\n",
       "<circle clip-path=\"url(#clip362)\" cx=\"284.343\" cy=\"461.772\" r=\"14\" fill=\"#3da44d\" fill-rule=\"evenodd\" fill-opacity=\"1\" stroke=\"#000000\" stroke-opacity=\"1\" stroke-width=\"3.2\"/>\n",
       "<circle clip-path=\"url(#clip362)\" cx=\"390.036\" cy=\"554.316\" r=\"14\" fill=\"#3da44d\" fill-rule=\"evenodd\" fill-opacity=\"1\" stroke=\"#000000\" stroke-opacity=\"1\" stroke-width=\"3.2\"/>\n",
       "<circle clip-path=\"url(#clip362)\" cx=\"495.729\" cy=\"492.858\" r=\"14\" fill=\"#3da44d\" fill-rule=\"evenodd\" fill-opacity=\"1\" stroke=\"#000000\" stroke-opacity=\"1\" stroke-width=\"3.2\"/>\n",
       "<circle clip-path=\"url(#clip362)\" cx=\"601.422\" cy=\"419.357\" r=\"14\" fill=\"#3da44d\" fill-rule=\"evenodd\" fill-opacity=\"1\" stroke=\"#000000\" stroke-opacity=\"1\" stroke-width=\"3.2\"/>\n",
       "<circle clip-path=\"url(#clip362)\" cx=\"707.115\" cy=\"357.078\" r=\"14\" fill=\"#3da44d\" fill-rule=\"evenodd\" fill-opacity=\"1\" stroke=\"#000000\" stroke-opacity=\"1\" stroke-width=\"3.2\"/>\n",
       "<circle clip-path=\"url(#clip362)\" cx=\"812.808\" cy=\"307.345\" r=\"14\" fill=\"#3da44d\" fill-rule=\"evenodd\" fill-opacity=\"1\" stroke=\"#000000\" stroke-opacity=\"1\" stroke-width=\"3.2\"/>\n",
       "<circle clip-path=\"url(#clip362)\" cx=\"918.501\" cy=\"267.839\" r=\"14\" fill=\"#3da44d\" fill-rule=\"evenodd\" fill-opacity=\"1\" stroke=\"#000000\" stroke-opacity=\"1\" stroke-width=\"3.2\"/>\n",
       "<circle clip-path=\"url(#clip362)\" cx=\"1024.19\" cy=\"236.149\" r=\"14\" fill=\"#3da44d\" fill-rule=\"evenodd\" fill-opacity=\"1\" stroke=\"#000000\" stroke-opacity=\"1\" stroke-width=\"3.2\"/>\n",
       "<circle clip-path=\"url(#clip362)\" cx=\"1129.89\" cy=\"210.372\" r=\"14\" fill=\"#3da44d\" fill-rule=\"evenodd\" fill-opacity=\"1\" stroke=\"#000000\" stroke-opacity=\"1\" stroke-width=\"3.2\"/>\n",
       "<circle clip-path=\"url(#clip362)\" cx=\"1235.58\" cy=\"189.104\" r=\"14\" fill=\"#3da44d\" fill-rule=\"evenodd\" fill-opacity=\"1\" stroke=\"#000000\" stroke-opacity=\"1\" stroke-width=\"3.2\"/>\n",
       "<circle clip-path=\"url(#clip362)\" cx=\"1341.27\" cy=\"171.314\" r=\"14\" fill=\"#3da44d\" fill-rule=\"evenodd\" fill-opacity=\"1\" stroke=\"#000000\" stroke-opacity=\"1\" stroke-width=\"3.2\"/>\n",
       "<circle clip-path=\"url(#clip362)\" cx=\"1446.97\" cy=\"156.249\" r=\"14\" fill=\"#3da44d\" fill-rule=\"evenodd\" fill-opacity=\"1\" stroke=\"#000000\" stroke-opacity=\"1\" stroke-width=\"3.2\"/>\n",
       "<circle clip-path=\"url(#clip362)\" cx=\"1552.66\" cy=\"143.348\" r=\"14\" fill=\"#3da44d\" fill-rule=\"evenodd\" fill-opacity=\"1\" stroke=\"#000000\" stroke-opacity=\"1\" stroke-width=\"3.2\"/>\n",
       "<circle clip-path=\"url(#clip362)\" cx=\"1658.35\" cy=\"132.19\" r=\"14\" fill=\"#3da44d\" fill-rule=\"evenodd\" fill-opacity=\"1\" stroke=\"#000000\" stroke-opacity=\"1\" stroke-width=\"3.2\"/>\n",
       "<circle clip-path=\"url(#clip362)\" cx=\"1764.05\" cy=\"122.453\" r=\"14\" fill=\"#3da44d\" fill-rule=\"evenodd\" fill-opacity=\"1\" stroke=\"#000000\" stroke-opacity=\"1\" stroke-width=\"3.2\"/>\n",
       "<circle clip-path=\"url(#clip362)\" cx=\"1869.74\" cy=\"113.886\" r=\"14\" fill=\"#3da44d\" fill-rule=\"evenodd\" fill-opacity=\"1\" stroke=\"#000000\" stroke-opacity=\"1\" stroke-width=\"3.2\"/>\n",
       "<circle clip-path=\"url(#clip362)\" cx=\"1975.43\" cy=\"106.296\" r=\"14\" fill=\"#3da44d\" fill-rule=\"evenodd\" fill-opacity=\"1\" stroke=\"#000000\" stroke-opacity=\"1\" stroke-width=\"3.2\"/>\n",
       "<circle clip-path=\"url(#clip362)\" cx=\"2081.12\" cy=\"99.5262\" r=\"14\" fill=\"#3da44d\" fill-rule=\"evenodd\" fill-opacity=\"1\" stroke=\"#000000\" stroke-opacity=\"1\" stroke-width=\"3.2\"/>\n",
       "<circle clip-path=\"url(#clip362)\" cx=\"2186.82\" cy=\"93.4533\" r=\"14\" fill=\"#3da44d\" fill-rule=\"evenodd\" fill-opacity=\"1\" stroke=\"#000000\" stroke-opacity=\"1\" stroke-width=\"3.2\"/>\n",
       "<circle clip-path=\"url(#clip362)\" cx=\"2292.51\" cy=\"87.9763\" r=\"14\" fill=\"#3da44d\" fill-rule=\"evenodd\" fill-opacity=\"1\" stroke=\"#000000\" stroke-opacity=\"1\" stroke-width=\"3.2\"/>\n",
       "<path clip-path=\"url(#clip360)\" d=\"\n",
       "M1792.85 337.138 L2281.8 337.138 L2281.8 95.2176 L1792.85 95.2176  Z\n",
       "  \" fill=\"#ffffff\" fill-rule=\"evenodd\" fill-opacity=\"1\"/>\n",
       "<polyline clip-path=\"url(#clip360)\" style=\"stroke:#000000; stroke-linecap:butt; stroke-linejoin:round; stroke-width:4; stroke-opacity:1; fill:none\" points=\"\n",
       "  1792.85,337.138 2281.8,337.138 2281.8,95.2176 1792.85,95.2176 1792.85,337.138 \n",
       "  \"/>\n",
       "<polyline clip-path=\"url(#clip360)\" style=\"stroke:#009af9; stroke-linecap:butt; stroke-linejoin:round; stroke-width:4; stroke-opacity:1; fill:none\" points=\"\n",
       "  1816.51,155.698 1958.42,155.698 \n",
       "  \"/>\n",
       "<circle clip-path=\"url(#clip360)\" cx=\"1887.46\" cy=\"155.698\" r=\"23\" fill=\"#009af9\" fill-rule=\"evenodd\" fill-opacity=\"1\" stroke=\"#000000\" stroke-opacity=\"1\" stroke-width=\"5.12\"/>\n",
       "<path clip-path=\"url(#clip360)\" d=\"M1982.07 138.418 L1986.74 138.418 L1986.74 169.042 L2003.57 169.042 L2003.57 172.978 L1982.07 172.978 L1982.07 138.418 Z\" fill=\"#000000\" fill-rule=\"evenodd\" fill-opacity=\"1\" /><path clip-path=\"url(#clip360)\" d=\"M2020.08 159.945 Q2014.91 159.945 2012.92 161.126 Q2010.93 162.306 2010.93 165.154 Q2010.93 167.422 2012.41 168.765 Q2013.92 170.084 2016.49 170.084 Q2020.03 170.084 2022.16 167.584 Q2024.31 165.061 2024.31 160.894 L2024.31 159.945 L2020.08 159.945 M2028.57 158.186 L2028.57 172.978 L2024.31 172.978 L2024.31 169.042 Q2022.85 171.403 2020.68 172.538 Q2018.5 173.649 2015.35 173.649 Q2011.37 173.649 2009.01 171.427 Q2006.67 169.181 2006.67 165.431 Q2006.67 161.056 2009.59 158.834 Q2012.53 156.612 2018.34 156.612 L2024.31 156.612 L2024.31 156.195 Q2024.31 153.255 2022.37 151.658 Q2020.45 150.038 2016.95 150.038 Q2014.73 150.038 2012.62 150.57 Q2010.52 151.103 2008.57 152.167 L2008.57 148.232 Q2010.91 147.33 2013.11 146.89 Q2015.31 146.427 2017.39 146.427 Q2023.02 146.427 2025.79 149.343 Q2028.57 152.26 2028.57 158.186 Z\" fill=\"#000000\" fill-rule=\"evenodd\" fill-opacity=\"1\" /><path clip-path=\"url(#clip360)\" d=\"M2054.41 150.987 L2054.41 136.959 L2058.66 136.959 L2058.66 172.978 L2054.41 172.978 L2054.41 169.089 Q2053.06 171.403 2051 172.538 Q2048.97 173.649 2046.1 173.649 Q2041.4 173.649 2038.43 169.899 Q2035.49 166.149 2035.49 160.038 Q2035.49 153.927 2038.43 150.177 Q2041.4 146.427 2046.1 146.427 Q2048.97 146.427 2051 147.561 Q2053.06 148.672 2054.41 150.987 M2039.89 160.038 Q2039.89 164.737 2041.81 167.422 Q2043.76 170.084 2047.14 170.084 Q2050.52 170.084 2052.46 167.422 Q2054.41 164.737 2054.41 160.038 Q2054.41 155.339 2052.46 152.677 Q2050.52 149.992 2047.14 149.992 Q2043.76 149.992 2041.81 152.677 Q2039.89 155.339 2039.89 160.038 Z\" fill=\"#000000\" fill-rule=\"evenodd\" fill-opacity=\"1\" /><path clip-path=\"url(#clip360)\" d=\"M2084.5 150.987 L2084.5 136.959 L2088.76 136.959 L2088.76 172.978 L2084.5 172.978 L2084.5 169.089 Q2083.16 171.403 2081.1 172.538 Q2079.06 173.649 2076.19 173.649 Q2071.49 173.649 2068.53 169.899 Q2065.59 166.149 2065.59 160.038 Q2065.59 153.927 2068.53 150.177 Q2071.49 146.427 2076.19 146.427 Q2079.06 146.427 2081.1 147.561 Q2083.16 148.672 2084.5 150.987 M2069.98 160.038 Q2069.98 164.737 2071.91 167.422 Q2073.85 170.084 2077.23 170.084 Q2080.61 170.084 2082.55 167.422 Q2084.5 164.737 2084.5 160.038 Q2084.5 155.339 2082.55 152.677 Q2080.61 149.992 2077.23 149.992 Q2073.85 149.992 2071.91 152.677 Q2069.98 155.339 2069.98 160.038 Z\" fill=\"#000000\" fill-rule=\"evenodd\" fill-opacity=\"1\" /><path clip-path=\"url(#clip360)\" d=\"M2119.71 158.95 L2119.71 161.033 L2100.12 161.033 Q2100.4 165.431 2102.76 167.746 Q2105.15 170.038 2109.38 170.038 Q2111.84 170.038 2114.13 169.436 Q2116.44 168.834 2118.71 167.63 L2118.71 171.658 Q2116.42 172.63 2114.01 173.14 Q2111.6 173.649 2109.13 173.649 Q2102.92 173.649 2099.29 170.038 Q2095.68 166.427 2095.68 160.269 Q2095.68 153.904 2099.1 150.177 Q2102.55 146.427 2108.39 146.427 Q2113.62 146.427 2116.65 149.806 Q2119.71 153.163 2119.71 158.95 M2115.45 157.7 Q2115.4 154.205 2113.48 152.121 Q2111.58 150.038 2108.43 150.038 Q2104.87 150.038 2102.72 152.052 Q2100.59 154.066 2100.26 157.723 L2115.45 157.7 Z\" fill=\"#000000\" fill-rule=\"evenodd\" fill-opacity=\"1\" /><path clip-path=\"url(#clip360)\" d=\"M2141.72 151.033 Q2141 150.617 2140.15 150.431 Q2139.31 150.223 2138.29 150.223 Q2134.68 150.223 2132.74 152.584 Q2130.82 154.922 2130.82 159.32 L2130.82 172.978 L2126.53 172.978 L2126.53 147.052 L2130.82 147.052 L2130.82 151.08 Q2132.16 148.718 2134.31 147.584 Q2136.47 146.427 2139.54 146.427 Q2139.98 146.427 2140.52 146.496 Q2141.05 146.543 2141.7 146.658 L2141.72 151.033 Z\" fill=\"#000000\" fill-rule=\"evenodd\" fill-opacity=\"1\" /><path clip-path=\"url(#clip360)\" d=\"M2161.44 138.418 L2166.12 138.418 L2166.12 169.042 L2182.95 169.042 L2182.95 172.978 L2161.44 172.978 L2161.44 138.418 Z\" fill=\"#000000\" fill-rule=\"evenodd\" fill-opacity=\"1\" /><path clip-path=\"url(#clip360)\" d=\"M2196.88 150.038 Q2193.46 150.038 2191.46 152.723 Q2189.47 155.385 2189.47 160.038 Q2189.47 164.691 2191.44 167.376 Q2193.43 170.038 2196.88 170.038 Q2200.28 170.038 2202.28 167.353 Q2204.27 164.667 2204.27 160.038 Q2204.27 155.431 2202.28 152.746 Q2200.28 150.038 2196.88 150.038 M2196.88 146.427 Q2202.44 146.427 2205.61 150.038 Q2208.78 153.649 2208.78 160.038 Q2208.78 166.404 2205.61 170.038 Q2202.44 173.649 2196.88 173.649 Q2191.3 173.649 2188.13 170.038 Q2184.98 166.404 2184.98 160.038 Q2184.98 153.649 2188.13 150.038 Q2191.3 146.427 2196.88 146.427 Z\" fill=\"#000000\" fill-rule=\"evenodd\" fill-opacity=\"1\" /><path clip-path=\"url(#clip360)\" d=\"M2234.5 148.047 L2234.5 152.029 Q2232.69 151.033 2230.86 150.547 Q2229.06 150.038 2227.21 150.038 Q2223.06 150.038 2220.77 152.677 Q2218.48 155.292 2218.48 160.038 Q2218.48 164.783 2220.77 167.422 Q2223.06 170.038 2227.21 170.038 Q2229.06 170.038 2230.86 169.552 Q2232.69 169.042 2234.5 168.047 L2234.5 171.982 Q2232.71 172.816 2230.79 173.232 Q2228.9 173.649 2226.74 173.649 Q2220.89 173.649 2217.44 169.968 Q2213.99 166.288 2213.99 160.038 Q2213.99 153.695 2217.46 150.061 Q2220.96 146.427 2227.02 146.427 Q2228.99 146.427 2230.86 146.843 Q2232.74 147.237 2234.5 148.047 Z\" fill=\"#000000\" fill-rule=\"evenodd\" fill-opacity=\"1\" /><polyline clip-path=\"url(#clip360)\" style=\"stroke:#e26f46; stroke-linecap:butt; stroke-linejoin:round; stroke-width:4; stroke-opacity:1; fill:none\" points=\"\n",
       "  1816.51,216.178 1958.42,216.178 \n",
       "  \"/>\n",
       "<circle clip-path=\"url(#clip360)\" cx=\"1887.46\" cy=\"216.178\" r=\"23\" fill=\"#e26f46\" fill-rule=\"evenodd\" fill-opacity=\"1\" stroke=\"#000000\" stroke-opacity=\"1\" stroke-width=\"5.12\"/>\n",
       "<path clip-path=\"url(#clip360)\" d=\"M1982.07 198.898 L1986.74 198.898 L1986.74 229.522 L2003.57 229.522 L2003.57 233.458 L1982.07 233.458 L1982.07 198.898 Z\" fill=\"#000000\" fill-rule=\"evenodd\" fill-opacity=\"1\" /><path clip-path=\"url(#clip360)\" d=\"M2020.08 220.425 Q2014.91 220.425 2012.92 221.606 Q2010.93 222.786 2010.93 225.634 Q2010.93 227.902 2012.41 229.245 Q2013.92 230.564 2016.49 230.564 Q2020.03 230.564 2022.16 228.064 Q2024.31 225.541 2024.31 221.374 L2024.31 220.425 L2020.08 220.425 M2028.57 218.666 L2028.57 233.458 L2024.31 233.458 L2024.31 229.522 Q2022.85 231.883 2020.68 233.018 Q2018.5 234.129 2015.35 234.129 Q2011.37 234.129 2009.01 231.907 Q2006.67 229.661 2006.67 225.911 Q2006.67 221.536 2009.59 219.314 Q2012.53 217.092 2018.34 217.092 L2024.31 217.092 L2024.31 216.675 Q2024.31 213.735 2022.37 212.138 Q2020.45 210.518 2016.95 210.518 Q2014.73 210.518 2012.62 211.05 Q2010.52 211.583 2008.57 212.647 L2008.57 208.712 Q2010.91 207.81 2013.11 207.37 Q2015.31 206.907 2017.39 206.907 Q2023.02 206.907 2025.79 209.823 Q2028.57 212.74 2028.57 218.666 Z\" fill=\"#000000\" fill-rule=\"evenodd\" fill-opacity=\"1\" /><path clip-path=\"url(#clip360)\" d=\"M2054.41 211.467 L2054.41 197.439 L2058.66 197.439 L2058.66 233.458 L2054.41 233.458 L2054.41 229.569 Q2053.06 231.883 2051 233.018 Q2048.97 234.129 2046.1 234.129 Q2041.4 234.129 2038.43 230.379 Q2035.49 226.629 2035.49 220.518 Q2035.49 214.407 2038.43 210.657 Q2041.4 206.907 2046.1 206.907 Q2048.97 206.907 2051 208.041 Q2053.06 209.152 2054.41 211.467 M2039.89 220.518 Q2039.89 225.217 2041.81 227.902 Q2043.76 230.564 2047.14 230.564 Q2050.52 230.564 2052.46 227.902 Q2054.41 225.217 2054.41 220.518 Q2054.41 215.819 2052.46 213.157 Q2050.52 210.472 2047.14 210.472 Q2043.76 210.472 2041.81 213.157 Q2039.89 215.819 2039.89 220.518 Z\" fill=\"#000000\" fill-rule=\"evenodd\" fill-opacity=\"1\" /><path clip-path=\"url(#clip360)\" d=\"M2084.5 211.467 L2084.5 197.439 L2088.76 197.439 L2088.76 233.458 L2084.5 233.458 L2084.5 229.569 Q2083.16 231.883 2081.1 233.018 Q2079.06 234.129 2076.19 234.129 Q2071.49 234.129 2068.53 230.379 Q2065.59 226.629 2065.59 220.518 Q2065.59 214.407 2068.53 210.657 Q2071.49 206.907 2076.19 206.907 Q2079.06 206.907 2081.1 208.041 Q2083.16 209.152 2084.5 211.467 M2069.98 220.518 Q2069.98 225.217 2071.91 227.902 Q2073.85 230.564 2077.23 230.564 Q2080.61 230.564 2082.55 227.902 Q2084.5 225.217 2084.5 220.518 Q2084.5 215.819 2082.55 213.157 Q2080.61 210.472 2077.23 210.472 Q2073.85 210.472 2071.91 213.157 Q2069.98 215.819 2069.98 220.518 Z\" fill=\"#000000\" fill-rule=\"evenodd\" fill-opacity=\"1\" /><path clip-path=\"url(#clip360)\" d=\"M2119.71 219.43 L2119.71 221.513 L2100.12 221.513 Q2100.4 225.911 2102.76 228.226 Q2105.15 230.518 2109.38 230.518 Q2111.84 230.518 2114.13 229.916 Q2116.44 229.314 2118.71 228.11 L2118.71 232.138 Q2116.42 233.11 2114.01 233.62 Q2111.6 234.129 2109.13 234.129 Q2102.92 234.129 2099.29 230.518 Q2095.68 226.907 2095.68 220.749 Q2095.68 214.384 2099.1 210.657 Q2102.55 206.907 2108.39 206.907 Q2113.62 206.907 2116.65 210.286 Q2119.71 213.643 2119.71 219.43 M2115.45 218.18 Q2115.4 214.685 2113.48 212.601 Q2111.58 210.518 2108.43 210.518 Q2104.87 210.518 2102.72 212.532 Q2100.59 214.546 2100.26 218.203 L2115.45 218.18 Z\" fill=\"#000000\" fill-rule=\"evenodd\" fill-opacity=\"1\" /><path clip-path=\"url(#clip360)\" d=\"M2141.72 211.513 Q2141 211.097 2140.15 210.911 Q2139.31 210.703 2138.29 210.703 Q2134.68 210.703 2132.74 213.064 Q2130.82 215.402 2130.82 219.8 L2130.82 233.458 L2126.53 233.458 L2126.53 207.532 L2130.82 207.532 L2130.82 211.56 Q2132.16 209.198 2134.31 208.064 Q2136.47 206.907 2139.54 206.907 Q2139.98 206.907 2140.52 206.976 Q2141.05 207.023 2141.7 207.138 L2141.72 211.513 Z\" fill=\"#000000\" fill-rule=\"evenodd\" fill-opacity=\"1\" /><polyline clip-path=\"url(#clip360)\" style=\"stroke:#3da44d; stroke-linecap:butt; stroke-linejoin:round; stroke-width:4; stroke-opacity:1; fill:none\" points=\"\n",
       "  1816.51,276.658 1958.42,276.658 \n",
       "  \"/>\n",
       "<circle clip-path=\"url(#clip360)\" cx=\"1887.46\" cy=\"276.658\" r=\"23\" fill=\"#3da44d\" fill-rule=\"evenodd\" fill-opacity=\"1\" stroke=\"#000000\" stroke-opacity=\"1\" stroke-width=\"5.12\"/>\n",
       "<path clip-path=\"url(#clip360)\" d=\"M1986.74 263.22 L1986.74 290.095 L1992.39 290.095 Q1999.54 290.095 2002.85 286.854 Q2006.19 283.614 2006.19 276.623 Q2006.19 269.678 2002.85 266.461 Q1999.54 263.22 1992.39 263.22 L1986.74 263.22 M1982.07 259.378 L1991.67 259.378 Q2001.72 259.378 2006.42 263.567 Q2011.12 267.734 2011.12 276.623 Q2011.12 285.558 2006.4 289.748 Q2001.67 293.938 1991.67 293.938 L1982.07 293.938 L1982.07 259.378 Z\" fill=\"#000000\" fill-rule=\"evenodd\" fill-opacity=\"1\" /><path clip-path=\"url(#clip360)\" d=\"M2018.57 259.378 L2025.54 259.378 L2034.36 282.896 L2043.23 259.378 L2050.19 259.378 L2050.19 293.938 L2045.63 293.938 L2045.63 263.59 L2036.72 287.294 L2032.02 287.294 L2023.11 263.59 L2023.11 293.938 L2018.57 293.938 L2018.57 259.378 Z\" fill=\"#000000\" fill-rule=\"evenodd\" fill-opacity=\"1\" /><path clip-path=\"url(#clip360)\" d=\"M2059.47 259.378 L2079.34 259.378 L2079.34 263.313 L2064.15 263.313 L2064.15 273.498 L2077.85 273.498 L2077.85 277.433 L2064.15 277.433 L2064.15 293.938 L2059.47 293.938 L2059.47 259.378 Z\" fill=\"#000000\" fill-rule=\"evenodd\" fill-opacity=\"1\" /><path clip-path=\"url(#clip360)\" d=\"M2081.12 259.378 L2110.35 259.378 L2110.35 263.313 L2098.09 263.313 L2098.09 293.938 L2093.39 293.938 L2093.39 263.313 L2081.12 263.313 L2081.12 259.378 Z\" fill=\"#000000\" fill-rule=\"evenodd\" fill-opacity=\"1\" /></svg>\n"
      ]
     },
     "execution_count": 81,
     "metadata": {},
     "output_type": "execute_result"
    }
   ],
   "source": [
    "plot(imag(Σ_ladderLoc[1:20]), label=\"Ladder Loc\",markershape=:circle)\n",
    "plot!(imag(Σ_ladder_corrected[1:20,1]), label=\"Ladder\",markershape=:circle)\n",
    "plot!(imag(Σ_loc[1:20]), label=\"DMFT\",markershape=:circle)"
   ]
  },
  {
   "cell_type": "code",
   "execution_count": 85,
   "metadata": {},
   "outputs": [
    {
     "data": {
      "text/plain": [
       "JLDFile /home/julian/Hamburg/lDGA_shift_tests/data/50_100_s1_b12_u1.0/ED_out.jld2 (read-only)\n",
       " ├─🔢 Γch\n",
       " ├─🔢 Γsp\n",
       " ├─🔢 χDMFTch\n",
       " ├─🔢 χDMFTsp\n",
       " ├─🔢 gImp\n",
       " └─🔢 g0"
      ]
     },
     "execution_count": 85,
     "metadata": {},
     "output_type": "execute_result"
    }
   ],
   "source": [
    "using JLD2\n",
    "f = jldopen(\"/home/julian/Hamburg/lDGA_shift_tests/data/50_100_s1_b12_u1.0/ED_out.jld2\")"
   ]
  },
  {
   "cell_type": "code",
   "execution_count": 86,
   "metadata": {},
   "outputs": [
    {
     "data": {
      "text/plain": [
       "302-element Vector{ComplexF64}:\n",
       "    0.8656991154798109 - 0.9909405998429446im\n",
       "   0.40615898770471254 - 0.8045824085301071im\n",
       "    0.2096225972106768 - 0.612620242205564im\n",
       "    0.1231571402358523 - 0.4807770785724203im\n",
       "   0.07975988468917723 - 0.3913542259548549im\n",
       "   0.05543624698070286 - 0.3283280622823767im\n",
       "  0.040601619278952325 - 0.28205451081277116im\n",
       "   0.03094713343816578 - 0.24685327992208636im\n",
       "   0.02433615018568519 - 0.2192716401304787im\n",
       "  0.019621579152238985 - 0.19712471163212997im\n",
       "  0.016146441227305536 - 0.17897534715793748im\n",
       "  0.013513879829660059 - 0.1638448495109615im\n",
       "  0.011473282882668231 - 0.15104611727956047im\n",
       "                       ⋮\n",
       " 2.1610582034917365e-5 - 0.006574244979659553im\n",
       "  2.146256953153116e-5 - 0.006551692790506239im\n",
       " 2.1316072444129563e-5 - 0.0065292947944869725im\n",
       " 2.1171070156056513e-5 - 0.0065070494156646355im\n",
       " 2.1027542399957675e-5 - 0.0064849550994880425im\n",
       " 2.0885469250865864e-5 - 0.006463010312455481im\n",
       " 2.0744831119256194e-5 - 0.006441213541755484im\n",
       " 2.0605608744186088e-5 - 0.0064195632949025794im\n",
       "  2.046778318686161e-5 - 0.006398058099421623im\n",
       "  2.033133582408887e-5 - 0.006376696502497304im\n",
       " 2.0196248341932865e-5 - 0.006355477070639043im\n",
       " 2.0062502729779303e-5 - 0.006334398389392857im"
      ]
     },
     "execution_count": 86,
     "metadata": {},
     "output_type": "execute_result"
    }
   ],
   "source": [
    "f[\"g0\"]"
   ]
  },
  {
   "cell_type": "code",
   "execution_count": 76,
   "metadata": {},
   "outputs": [
    {
     "data": {
      "image/svg+xml": [
       "<?xml version=\"1.0\" encoding=\"utf-8\"?>\n",
       "<svg xmlns=\"http://www.w3.org/2000/svg\" xmlns:xlink=\"http://www.w3.org/1999/xlink\" width=\"600\" height=\"400\" viewBox=\"0 0 2400 1600\">\n",
       "<defs>\n",
       "  <clipPath id=\"clip160\">\n",
       "    <rect x=\"0\" y=\"0\" width=\"2400\" height=\"1600\"/>\n",
       "  </clipPath>\n",
       "</defs>\n",
       "<path clip-path=\"url(#clip160)\" d=\"\n",
       "M0 1600 L2400 1600 L2400 0 L0 0  Z\n",
       "  \" fill=\"#ffffff\" fill-rule=\"evenodd\" fill-opacity=\"1\"/>\n",
       "<defs>\n",
       "  <clipPath id=\"clip161\">\n",
       "    <rect x=\"480\" y=\"0\" width=\"1681\" height=\"1600\"/>\n",
       "  </clipPath>\n",
       "</defs>\n",
       "<path clip-path=\"url(#clip160)\" d=\"\n",
       "M156.598 1486.45 L2352.76 1486.45 L2352.76 47.2441 L156.598 47.2441  Z\n",
       "  \" fill=\"#ffffff\" fill-rule=\"evenodd\" fill-opacity=\"1\"/>\n",
       "<defs>\n",
       "  <clipPath id=\"clip162\">\n",
       "    <rect x=\"156\" y=\"47\" width=\"2197\" height=\"1440\"/>\n",
       "  </clipPath>\n",
       "</defs>\n",
       "<polyline clip-path=\"url(#clip162)\" style=\"stroke:#000000; stroke-linecap:butt; stroke-linejoin:round; stroke-width:2; stroke-opacity:0.1; fill:none\" points=\"\n",
       "  211.87,1486.45 211.87,47.2441 \n",
       "  \"/>\n",
       "<polyline clip-path=\"url(#clip162)\" style=\"stroke:#000000; stroke-linecap:butt; stroke-linejoin:round; stroke-width:2; stroke-opacity:0.1; fill:none\" points=\"\n",
       "  900.192,1486.45 900.192,47.2441 \n",
       "  \"/>\n",
       "<polyline clip-path=\"url(#clip162)\" style=\"stroke:#000000; stroke-linecap:butt; stroke-linejoin:round; stroke-width:2; stroke-opacity:0.1; fill:none\" points=\"\n",
       "  1588.51,1486.45 1588.51,47.2441 \n",
       "  \"/>\n",
       "<polyline clip-path=\"url(#clip162)\" style=\"stroke:#000000; stroke-linecap:butt; stroke-linejoin:round; stroke-width:2; stroke-opacity:0.1; fill:none\" points=\"\n",
       "  2276.83,1486.45 2276.83,47.2441 \n",
       "  \"/>\n",
       "<polyline clip-path=\"url(#clip160)\" style=\"stroke:#000000; stroke-linecap:butt; stroke-linejoin:round; stroke-width:4; stroke-opacity:1; fill:none\" points=\"\n",
       "  156.598,1486.45 2352.76,1486.45 \n",
       "  \"/>\n",
       "<polyline clip-path=\"url(#clip160)\" style=\"stroke:#000000; stroke-linecap:butt; stroke-linejoin:round; stroke-width:4; stroke-opacity:1; fill:none\" points=\"\n",
       "  211.87,1486.45 211.87,1469.18 \n",
       "  \"/>\n",
       "<polyline clip-path=\"url(#clip160)\" style=\"stroke:#000000; stroke-linecap:butt; stroke-linejoin:round; stroke-width:4; stroke-opacity:1; fill:none\" points=\"\n",
       "  900.192,1486.45 900.192,1469.18 \n",
       "  \"/>\n",
       "<polyline clip-path=\"url(#clip160)\" style=\"stroke:#000000; stroke-linecap:butt; stroke-linejoin:round; stroke-width:4; stroke-opacity:1; fill:none\" points=\"\n",
       "  1588.51,1486.45 1588.51,1469.18 \n",
       "  \"/>\n",
       "<polyline clip-path=\"url(#clip160)\" style=\"stroke:#000000; stroke-linecap:butt; stroke-linejoin:round; stroke-width:4; stroke-opacity:1; fill:none\" points=\"\n",
       "  2276.83,1486.45 2276.83,1469.18 \n",
       "  \"/>\n",
       "<path clip-path=\"url(#clip160)\" d=\"M211.87 1515.64 Q208.259 1515.64 206.431 1519.2 Q204.625 1522.75 204.625 1529.87 Q204.625 1536.98 206.431 1540.55 Q208.259 1544.09 211.87 1544.09 Q215.505 1544.09 217.31 1540.55 Q219.139 1536.98 219.139 1529.87 Q219.139 1522.75 217.31 1519.2 Q215.505 1515.64 211.87 1515.64 M211.87 1511.93 Q217.681 1511.93 220.736 1516.54 Q223.815 1521.12 223.815 1529.87 Q223.815 1538.6 220.736 1543.21 Q217.681 1547.79 211.87 1547.79 Q206.06 1547.79 202.982 1543.21 Q199.926 1538.6 199.926 1529.87 Q199.926 1521.12 202.982 1516.54 Q206.06 1511.93 211.87 1511.93 Z\" fill=\"#000000\" fill-rule=\"evenodd\" fill-opacity=\"1\" /><path clip-path=\"url(#clip160)\" d=\"M859.798 1543.18 L867.437 1543.18 L867.437 1516.82 L859.127 1518.49 L859.127 1514.23 L867.391 1512.56 L872.067 1512.56 L872.067 1543.18 L879.706 1543.18 L879.706 1547.12 L859.798 1547.12 L859.798 1543.18 Z\" fill=\"#000000\" fill-rule=\"evenodd\" fill-opacity=\"1\" /><path clip-path=\"url(#clip160)\" d=\"M899.15 1515.64 Q895.539 1515.64 893.71 1519.2 Q891.905 1522.75 891.905 1529.87 Q891.905 1536.98 893.71 1540.55 Q895.539 1544.09 899.15 1544.09 Q902.784 1544.09 904.59 1540.55 Q906.418 1536.98 906.418 1529.87 Q906.418 1522.75 904.59 1519.2 Q902.784 1515.64 899.15 1515.64 M899.15 1511.93 Q904.96 1511.93 908.016 1516.54 Q911.094 1521.12 911.094 1529.87 Q911.094 1538.6 908.016 1543.21 Q904.96 1547.79 899.15 1547.79 Q893.34 1547.79 890.261 1543.21 Q887.206 1538.6 887.206 1529.87 Q887.206 1521.12 890.261 1516.54 Q893.34 1511.93 899.15 1511.93 Z\" fill=\"#000000\" fill-rule=\"evenodd\" fill-opacity=\"1\" /><path clip-path=\"url(#clip160)\" d=\"M929.312 1515.64 Q925.701 1515.64 923.872 1519.2 Q922.067 1522.75 922.067 1529.87 Q922.067 1536.98 923.872 1540.55 Q925.701 1544.09 929.312 1544.09 Q932.946 1544.09 934.752 1540.55 Q936.58 1536.98 936.58 1529.87 Q936.58 1522.75 934.752 1519.2 Q932.946 1515.64 929.312 1515.64 M929.312 1511.93 Q935.122 1511.93 938.178 1516.54 Q941.256 1521.12 941.256 1529.87 Q941.256 1538.6 938.178 1543.21 Q935.122 1547.79 929.312 1547.79 Q923.502 1547.79 920.423 1543.21 Q917.367 1538.6 917.367 1529.87 Q917.367 1521.12 920.423 1516.54 Q923.502 1511.93 929.312 1511.93 Z\" fill=\"#000000\" fill-rule=\"evenodd\" fill-opacity=\"1\" /><path clip-path=\"url(#clip160)\" d=\"M1552.21 1543.18 L1568.52 1543.18 L1568.52 1547.12 L1546.58 1547.12 L1546.58 1543.18 Q1549.24 1540.43 1553.83 1535.8 Q1558.43 1531.15 1559.61 1529.81 Q1561.86 1527.28 1562.74 1525.55 Q1563.64 1523.79 1563.64 1522.1 Q1563.64 1519.34 1561.7 1517.61 Q1559.77 1515.87 1556.67 1515.87 Q1554.47 1515.87 1552.02 1516.63 Q1549.59 1517.4 1546.81 1518.95 L1546.81 1514.23 Q1549.64 1513.09 1552.09 1512.51 Q1554.54 1511.93 1556.58 1511.93 Q1561.95 1511.93 1565.14 1514.62 Q1568.34 1517.31 1568.34 1521.8 Q1568.34 1523.93 1567.53 1525.85 Q1566.74 1527.74 1564.64 1530.34 Q1564.06 1531.01 1560.96 1534.23 Q1557.85 1537.42 1552.21 1543.18 Z\" fill=\"#000000\" fill-rule=\"evenodd\" fill-opacity=\"1\" /><path clip-path=\"url(#clip160)\" d=\"M1588.34 1515.64 Q1584.73 1515.64 1582.9 1519.2 Q1581.09 1522.75 1581.09 1529.87 Q1581.09 1536.98 1582.9 1540.55 Q1584.73 1544.09 1588.34 1544.09 Q1591.97 1544.09 1593.78 1540.55 Q1595.61 1536.98 1595.61 1529.87 Q1595.61 1522.75 1593.78 1519.2 Q1591.97 1515.64 1588.34 1515.64 M1588.34 1511.93 Q1594.15 1511.93 1597.2 1516.54 Q1600.28 1521.12 1600.28 1529.87 Q1600.28 1538.6 1597.2 1543.21 Q1594.15 1547.79 1588.34 1547.79 Q1582.53 1547.79 1579.45 1543.21 Q1576.39 1538.6 1576.39 1529.87 Q1576.39 1521.12 1579.45 1516.54 Q1582.53 1511.93 1588.34 1511.93 Z\" fill=\"#000000\" fill-rule=\"evenodd\" fill-opacity=\"1\" /><path clip-path=\"url(#clip160)\" d=\"M1618.5 1515.64 Q1614.89 1515.64 1613.06 1519.2 Q1611.26 1522.75 1611.26 1529.87 Q1611.26 1536.98 1613.06 1540.55 Q1614.89 1544.09 1618.5 1544.09 Q1622.14 1544.09 1623.94 1540.55 Q1625.77 1536.98 1625.77 1529.87 Q1625.77 1522.75 1623.94 1519.2 Q1622.14 1515.64 1618.5 1515.64 M1618.5 1511.93 Q1624.31 1511.93 1627.37 1516.54 Q1630.45 1521.12 1630.45 1529.87 Q1630.45 1538.6 1627.37 1543.21 Q1624.31 1547.79 1618.5 1547.79 Q1612.69 1547.79 1609.61 1543.21 Q1606.56 1538.6 1606.56 1529.87 Q1606.56 1521.12 1609.61 1516.54 Q1612.69 1511.93 1618.5 1511.93 Z\" fill=\"#000000\" fill-rule=\"evenodd\" fill-opacity=\"1\" /><path clip-path=\"url(#clip160)\" d=\"M2250.6 1528.49 Q2253.95 1529.2 2255.83 1531.47 Q2257.73 1533.74 2257.73 1537.07 Q2257.73 1542.19 2254.21 1544.99 Q2250.69 1547.79 2244.21 1547.79 Q2242.03 1547.79 2239.72 1547.35 Q2237.42 1546.93 2234.97 1546.08 L2234.97 1541.56 Q2236.92 1542.7 2239.23 1543.28 Q2241.54 1543.86 2244.07 1543.86 Q2248.47 1543.86 2250.76 1542.12 Q2253.07 1540.38 2253.07 1537.07 Q2253.07 1534.02 2250.92 1532.31 Q2248.79 1530.57 2244.97 1530.57 L2240.94 1530.57 L2240.94 1526.73 L2245.16 1526.73 Q2248.61 1526.73 2250.43 1525.36 Q2252.26 1523.97 2252.26 1521.38 Q2252.26 1518.72 2250.36 1517.31 Q2248.49 1515.87 2244.97 1515.87 Q2243.05 1515.87 2240.85 1516.29 Q2238.65 1516.7 2236.01 1517.58 L2236.01 1513.42 Q2238.67 1512.68 2240.99 1512.31 Q2243.33 1511.93 2245.39 1511.93 Q2250.71 1511.93 2253.81 1514.37 Q2256.92 1516.77 2256.92 1520.89 Q2256.92 1523.76 2255.27 1525.75 Q2253.63 1527.72 2250.6 1528.49 Z\" fill=\"#000000\" fill-rule=\"evenodd\" fill-opacity=\"1\" /><path clip-path=\"url(#clip160)\" d=\"M2276.59 1515.64 Q2272.98 1515.64 2271.15 1519.2 Q2269.35 1522.75 2269.35 1529.87 Q2269.35 1536.98 2271.15 1540.55 Q2272.98 1544.09 2276.59 1544.09 Q2280.23 1544.09 2282.03 1540.55 Q2283.86 1536.98 2283.86 1529.87 Q2283.86 1522.75 2282.03 1519.2 Q2280.23 1515.64 2276.59 1515.64 M2276.59 1511.93 Q2282.4 1511.93 2285.46 1516.54 Q2288.54 1521.12 2288.54 1529.87 Q2288.54 1538.6 2285.46 1543.21 Q2282.4 1547.79 2276.59 1547.79 Q2270.78 1547.79 2267.7 1543.21 Q2264.65 1538.6 2264.65 1529.87 Q2264.65 1521.12 2267.7 1516.54 Q2270.78 1511.93 2276.59 1511.93 Z\" fill=\"#000000\" fill-rule=\"evenodd\" fill-opacity=\"1\" /><path clip-path=\"url(#clip160)\" d=\"M2306.75 1515.64 Q2303.14 1515.64 2301.31 1519.2 Q2299.51 1522.75 2299.51 1529.87 Q2299.51 1536.98 2301.31 1540.55 Q2303.14 1544.09 2306.75 1544.09 Q2310.39 1544.09 2312.19 1540.55 Q2314.02 1536.98 2314.02 1529.87 Q2314.02 1522.75 2312.19 1519.2 Q2310.39 1515.64 2306.75 1515.64 M2306.75 1511.93 Q2312.56 1511.93 2315.62 1516.54 Q2318.7 1521.12 2318.7 1529.87 Q2318.7 1538.6 2315.62 1543.21 Q2312.56 1547.79 2306.75 1547.79 Q2300.94 1547.79 2297.86 1543.21 Q2294.81 1538.6 2294.81 1529.87 Q2294.81 1521.12 2297.86 1516.54 Q2300.94 1511.93 2306.75 1511.93 Z\" fill=\"#000000\" fill-rule=\"evenodd\" fill-opacity=\"1\" /><polyline clip-path=\"url(#clip162)\" style=\"stroke:#000000; stroke-linecap:butt; stroke-linejoin:round; stroke-width:2; stroke-opacity:0.1; fill:none\" points=\"\n",
       "  156.598,1398.64 2352.76,1398.64 \n",
       "  \"/>\n",
       "<polyline clip-path=\"url(#clip162)\" style=\"stroke:#000000; stroke-linecap:butt; stroke-linejoin:round; stroke-width:2; stroke-opacity:0.1; fill:none\" points=\"\n",
       "  156.598,1136.51 2352.76,1136.51 \n",
       "  \"/>\n",
       "<polyline clip-path=\"url(#clip162)\" style=\"stroke:#000000; stroke-linecap:butt; stroke-linejoin:round; stroke-width:2; stroke-opacity:0.1; fill:none\" points=\"\n",
       "  156.598,874.373 2352.76,874.373 \n",
       "  \"/>\n",
       "<polyline clip-path=\"url(#clip162)\" style=\"stroke:#000000; stroke-linecap:butt; stroke-linejoin:round; stroke-width:2; stroke-opacity:0.1; fill:none\" points=\"\n",
       "  156.598,612.241 2352.76,612.241 \n",
       "  \"/>\n",
       "<polyline clip-path=\"url(#clip162)\" style=\"stroke:#000000; stroke-linecap:butt; stroke-linejoin:round; stroke-width:2; stroke-opacity:0.1; fill:none\" points=\"\n",
       "  156.598,350.109 2352.76,350.109 \n",
       "  \"/>\n",
       "<polyline clip-path=\"url(#clip162)\" style=\"stroke:#000000; stroke-linecap:butt; stroke-linejoin:round; stroke-width:2; stroke-opacity:0.1; fill:none\" points=\"\n",
       "  156.598,87.9763 2352.76,87.9763 \n",
       "  \"/>\n",
       "<polyline clip-path=\"url(#clip160)\" style=\"stroke:#000000; stroke-linecap:butt; stroke-linejoin:round; stroke-width:4; stroke-opacity:1; fill:none\" points=\"\n",
       "  156.598,1486.45 156.598,47.2441 \n",
       "  \"/>\n",
       "<polyline clip-path=\"url(#clip160)\" style=\"stroke:#000000; stroke-linecap:butt; stroke-linejoin:round; stroke-width:4; stroke-opacity:1; fill:none\" points=\"\n",
       "  156.598,1398.64 182.952,1398.64 \n",
       "  \"/>\n",
       "<polyline clip-path=\"url(#clip160)\" style=\"stroke:#000000; stroke-linecap:butt; stroke-linejoin:round; stroke-width:4; stroke-opacity:1; fill:none\" points=\"\n",
       "  156.598,1136.51 182.952,1136.51 \n",
       "  \"/>\n",
       "<polyline clip-path=\"url(#clip160)\" style=\"stroke:#000000; stroke-linecap:butt; stroke-linejoin:round; stroke-width:4; stroke-opacity:1; fill:none\" points=\"\n",
       "  156.598,874.373 182.952,874.373 \n",
       "  \"/>\n",
       "<polyline clip-path=\"url(#clip160)\" style=\"stroke:#000000; stroke-linecap:butt; stroke-linejoin:round; stroke-width:4; stroke-opacity:1; fill:none\" points=\"\n",
       "  156.598,612.241 182.952,612.241 \n",
       "  \"/>\n",
       "<polyline clip-path=\"url(#clip160)\" style=\"stroke:#000000; stroke-linecap:butt; stroke-linejoin:round; stroke-width:4; stroke-opacity:1; fill:none\" points=\"\n",
       "  156.598,350.109 182.952,350.109 \n",
       "  \"/>\n",
       "<polyline clip-path=\"url(#clip160)\" style=\"stroke:#000000; stroke-linecap:butt; stroke-linejoin:round; stroke-width:4; stroke-opacity:1; fill:none\" points=\"\n",
       "  156.598,87.9763 182.952,87.9763 \n",
       "  \"/>\n",
       "<path clip-path=\"url(#clip160)\" d=\"M63.4226 1384.44 Q59.8115 1384.44 57.9828 1388 Q56.1773 1391.54 56.1773 1398.67 Q56.1773 1405.78 57.9828 1409.34 Q59.8115 1412.89 63.4226 1412.89 Q67.0569 1412.89 68.8624 1409.34 Q70.6911 1405.78 70.6911 1398.67 Q70.6911 1391.54 68.8624 1388 Q67.0569 1384.44 63.4226 1384.44 M63.4226 1380.73 Q69.2328 1380.73 72.2883 1385.34 Q75.367 1389.92 75.367 1398.67 Q75.367 1407.4 72.2883 1412.01 Q69.2328 1416.59 63.4226 1416.59 Q57.6125 1416.59 54.5338 1412.01 Q51.4782 1407.4 51.4782 1398.67 Q51.4782 1389.92 54.5338 1385.34 Q57.6125 1380.73 63.4226 1380.73 Z\" fill=\"#000000\" fill-rule=\"evenodd\" fill-opacity=\"1\" /><path clip-path=\"url(#clip160)\" d=\"M83.5845 1410.04 L88.4688 1410.04 L88.4688 1415.92 L83.5845 1415.92 L83.5845 1410.04 Z\" fill=\"#000000\" fill-rule=\"evenodd\" fill-opacity=\"1\" /><path clip-path=\"url(#clip160)\" d=\"M108.654 1384.44 Q105.043 1384.44 103.214 1388 Q101.409 1391.54 101.409 1398.67 Q101.409 1405.78 103.214 1409.34 Q105.043 1412.89 108.654 1412.89 Q112.288 1412.89 114.094 1409.34 Q115.922 1405.78 115.922 1398.67 Q115.922 1391.54 114.094 1388 Q112.288 1384.44 108.654 1384.44 M108.654 1380.73 Q114.464 1380.73 117.52 1385.34 Q120.598 1389.92 120.598 1398.67 Q120.598 1407.4 117.52 1412.01 Q114.464 1416.59 108.654 1416.59 Q102.844 1416.59 99.765 1412.01 Q96.7095 1407.4 96.7095 1398.67 Q96.7095 1389.92 99.765 1385.34 Q102.844 1380.73 108.654 1380.73 Z\" fill=\"#000000\" fill-rule=\"evenodd\" fill-opacity=\"1\" /><path clip-path=\"url(#clip160)\" d=\"M64.6495 1122.3 Q61.0384 1122.3 59.2097 1125.87 Q57.4041 1129.41 57.4041 1136.54 Q57.4041 1143.65 59.2097 1147.21 Q61.0384 1150.75 64.6495 1150.75 Q68.2837 1150.75 70.0892 1147.21 Q71.9179 1143.65 71.9179 1136.54 Q71.9179 1129.41 70.0892 1125.87 Q68.2837 1122.3 64.6495 1122.3 M64.6495 1118.6 Q70.4596 1118.6 73.5152 1123.21 Q76.5938 1127.79 76.5938 1136.54 Q76.5938 1145.27 73.5152 1149.87 Q70.4596 1154.46 64.6495 1154.46 Q58.8393 1154.46 55.7606 1149.87 Q52.7051 1145.27 52.7051 1136.54 Q52.7051 1127.79 55.7606 1123.21 Q58.8393 1118.6 64.6495 1118.6 Z\" fill=\"#000000\" fill-rule=\"evenodd\" fill-opacity=\"1\" /><path clip-path=\"url(#clip160)\" d=\"M84.8114 1147.91 L89.6956 1147.91 L89.6956 1153.79 L84.8114 1153.79 L84.8114 1147.91 Z\" fill=\"#000000\" fill-rule=\"evenodd\" fill-opacity=\"1\" /><path clip-path=\"url(#clip160)\" d=\"M100.691 1149.85 L108.33 1149.85 L108.33 1123.48 L100.02 1125.15 L100.02 1120.89 L108.283 1119.23 L112.959 1119.23 L112.959 1149.85 L120.598 1149.85 L120.598 1153.79 L100.691 1153.79 L100.691 1149.85 Z\" fill=\"#000000\" fill-rule=\"evenodd\" fill-opacity=\"1\" /><path clip-path=\"url(#clip160)\" d=\"M65.0198 860.172 Q61.4087 860.172 59.58 863.737 Q57.7745 867.278 57.7745 874.408 Q57.7745 881.514 59.58 885.079 Q61.4087 888.621 65.0198 888.621 Q68.6541 888.621 70.4596 885.079 Q72.2883 881.514 72.2883 874.408 Q72.2883 867.278 70.4596 863.737 Q68.6541 860.172 65.0198 860.172 M65.0198 856.468 Q70.83 856.468 73.8855 861.075 Q76.9642 865.658 76.9642 874.408 Q76.9642 883.135 73.8855 887.741 Q70.83 892.324 65.0198 892.324 Q59.2097 892.324 56.131 887.741 Q53.0754 883.135 53.0754 874.408 Q53.0754 865.658 56.131 861.075 Q59.2097 856.468 65.0198 856.468 Z\" fill=\"#000000\" fill-rule=\"evenodd\" fill-opacity=\"1\" /><path clip-path=\"url(#clip160)\" d=\"M85.1818 885.774 L90.066 885.774 L90.066 891.653 L85.1818 891.653 L85.1818 885.774 Z\" fill=\"#000000\" fill-rule=\"evenodd\" fill-opacity=\"1\" /><path clip-path=\"url(#clip160)\" d=\"M104.279 887.718 L120.598 887.718 L120.598 891.653 L98.6539 891.653 L98.6539 887.718 Q101.316 884.963 105.899 880.334 Q110.506 875.681 111.686 874.338 Q113.932 871.815 114.811 870.079 Q115.714 868.32 115.714 866.63 Q115.714 863.875 113.77 862.139 Q111.848 860.403 108.746 860.403 Q106.547 860.403 104.094 861.167 Q101.663 861.931 98.8854 863.482 L98.8854 858.76 Q101.709 857.626 104.163 857.047 Q106.617 856.468 108.654 856.468 Q114.024 856.468 117.219 859.153 Q120.413 861.838 120.413 866.329 Q120.413 868.459 119.603 870.38 Q118.816 872.278 116.709 874.871 Q116.131 875.542 113.029 878.76 Q109.927 881.954 104.279 887.718 Z\" fill=\"#000000\" fill-rule=\"evenodd\" fill-opacity=\"1\" /><path clip-path=\"url(#clip160)\" d=\"M64.0708 598.04 Q60.4597 598.04 58.631 601.604 Q56.8254 605.146 56.8254 612.276 Q56.8254 619.382 58.631 622.947 Q60.4597 626.488 64.0708 626.488 Q67.705 626.488 69.5105 622.947 Q71.3392 619.382 71.3392 612.276 Q71.3392 605.146 69.5105 601.604 Q67.705 598.04 64.0708 598.04 M64.0708 594.336 Q69.8809 594.336 72.9365 598.942 Q76.0151 603.526 76.0151 612.276 Q76.0151 621.002 72.9365 625.609 Q69.8809 630.192 64.0708 630.192 Q58.2606 630.192 55.1819 625.609 Q52.1264 621.002 52.1264 612.276 Q52.1264 603.526 55.1819 598.942 Q58.2606 594.336 64.0708 594.336 Z\" fill=\"#000000\" fill-rule=\"evenodd\" fill-opacity=\"1\" /><path clip-path=\"url(#clip160)\" d=\"M84.2327 623.641 L89.1169 623.641 L89.1169 629.521 L84.2327 629.521 L84.2327 623.641 Z\" fill=\"#000000\" fill-rule=\"evenodd\" fill-opacity=\"1\" /><path clip-path=\"url(#clip160)\" d=\"M113.469 610.887 Q116.825 611.604 118.7 613.873 Q120.598 616.141 120.598 619.475 Q120.598 624.59 117.08 627.391 Q113.561 630.192 107.08 630.192 Q104.904 630.192 102.589 629.752 Q100.297 629.336 97.8437 628.479 L97.8437 623.965 Q99.7882 625.1 102.103 625.678 Q104.418 626.257 106.941 626.257 Q111.339 626.257 113.631 624.521 Q115.945 622.785 115.945 619.475 Q115.945 616.419 113.793 614.706 Q111.663 612.97 107.844 612.97 L103.816 612.97 L103.816 609.127 L108.029 609.127 Q111.478 609.127 113.307 607.762 Q115.135 606.373 115.135 603.78 Q115.135 601.118 113.237 599.706 Q111.362 598.271 107.844 598.271 Q105.922 598.271 103.723 598.688 Q101.524 599.104 98.8854 599.984 L98.8854 595.817 Q101.547 595.077 103.862 594.706 Q106.2 594.336 108.26 594.336 Q113.584 594.336 116.686 596.766 Q119.788 599.174 119.788 603.294 Q119.788 606.164 118.145 608.155 Q116.501 610.123 113.469 610.887 Z\" fill=\"#000000\" fill-rule=\"evenodd\" fill-opacity=\"1\" /><path clip-path=\"url(#clip160)\" d=\"M62.9365 335.907 Q59.3254 335.907 57.4967 339.472 Q55.6912 343.014 55.6912 350.143 Q55.6912 357.25 57.4967 360.815 Q59.3254 364.356 62.9365 364.356 Q66.5707 364.356 68.3763 360.815 Q70.205 357.25 70.205 350.143 Q70.205 343.014 68.3763 339.472 Q66.5707 335.907 62.9365 335.907 M62.9365 332.204 Q68.7467 332.204 71.8022 336.81 Q74.8809 341.393 74.8809 350.143 Q74.8809 358.87 71.8022 363.477 Q68.7467 368.06 62.9365 368.06 Q57.1264 368.06 54.0477 363.477 Q50.9921 358.87 50.9921 350.143 Q50.9921 341.393 54.0477 336.81 Q57.1264 332.204 62.9365 332.204 Z\" fill=\"#000000\" fill-rule=\"evenodd\" fill-opacity=\"1\" /><path clip-path=\"url(#clip160)\" d=\"M83.0984 361.509 L87.9827 361.509 L87.9827 367.389 L83.0984 367.389 L83.0984 361.509 Z\" fill=\"#000000\" fill-rule=\"evenodd\" fill-opacity=\"1\" /><path clip-path=\"url(#clip160)\" d=\"M111.015 336.903 L99.2095 355.352 L111.015 355.352 L111.015 336.903 M109.788 332.829 L115.668 332.829 L115.668 355.352 L120.598 355.352 L120.598 359.24 L115.668 359.24 L115.668 367.389 L111.015 367.389 L111.015 359.24 L95.4132 359.24 L95.4132 354.727 L109.788 332.829 Z\" fill=\"#000000\" fill-rule=\"evenodd\" fill-opacity=\"1\" /><path clip-path=\"url(#clip160)\" d=\"M64.418 73.775 Q60.8069 73.775 58.9782 77.3398 Q57.1726 80.8814 57.1726 88.011 Q57.1726 95.1174 58.9782 98.6822 Q60.8069 102.224 64.418 102.224 Q68.0522 102.224 69.8578 98.6822 Q71.6865 95.1174 71.6865 88.011 Q71.6865 80.8814 69.8578 77.3398 Q68.0522 73.775 64.418 73.775 M64.418 70.0713 Q70.2281 70.0713 73.2837 74.6777 Q76.3624 79.261 76.3624 88.011 Q76.3624 96.7378 73.2837 101.344 Q70.2281 105.928 64.418 105.928 Q58.6078 105.928 55.5291 101.344 Q52.4736 96.7378 52.4736 88.011 Q52.4736 79.261 55.5291 74.6777 Q58.6078 70.0713 64.418 70.0713 Z\" fill=\"#000000\" fill-rule=\"evenodd\" fill-opacity=\"1\" /><path clip-path=\"url(#clip160)\" d=\"M84.5799 99.3767 L89.4641 99.3767 L89.4641 105.256 L84.5799 105.256 L84.5799 99.3767 Z\" fill=\"#000000\" fill-rule=\"evenodd\" fill-opacity=\"1\" /><path clip-path=\"url(#clip160)\" d=\"M99.6956 70.6963 L118.052 70.6963 L118.052 74.6314 L103.978 74.6314 L103.978 83.1036 Q104.996 82.7564 106.015 82.5944 Q107.033 82.4092 108.052 82.4092 Q113.839 82.4092 117.219 85.5805 Q120.598 88.7517 120.598 94.1684 Q120.598 99.747 117.126 102.849 Q113.654 105.928 107.334 105.928 Q105.159 105.928 102.89 105.557 Q100.645 105.187 98.2372 104.446 L98.2372 99.747 Q100.321 100.881 102.543 101.437 Q104.765 101.992 107.242 101.992 Q111.246 101.992 113.584 99.8859 Q115.922 97.7795 115.922 94.1684 Q115.922 90.5573 113.584 88.4508 Q111.246 86.3443 107.242 86.3443 Q105.367 86.3443 103.492 86.761 Q101.64 87.1777 99.6956 88.0573 L99.6956 70.6963 Z\" fill=\"#000000\" fill-rule=\"evenodd\" fill-opacity=\"1\" /><polyline clip-path=\"url(#clip162)\" style=\"stroke:#009af9; stroke-linecap:butt; stroke-linejoin:round; stroke-width:4; stroke-opacity:1; fill:none\" points=\"\n",
       "  218.754,87.9763 225.637,87.9763 232.52,87.9763 239.403,87.9763 246.286,87.9763 253.17,87.9763 260.053,87.9763 266.936,87.9763 273.819,87.9763 280.703,87.9763 \n",
       "  287.586,87.9763 294.469,87.9763 301.352,87.9763 308.235,87.9763 315.119,87.9763 322.002,87.9763 328.885,87.9763 335.768,87.9763 342.651,87.9763 349.535,87.9763 \n",
       "  356.418,87.9763 363.301,87.9763 370.184,87.9763 377.068,87.9763 383.951,87.9763 390.834,87.9763 397.717,87.9763 404.6,87.9763 411.484,87.9763 418.367,87.9763 \n",
       "  425.25,87.9763 432.133,87.9763 439.016,87.9763 445.9,87.9763 452.783,87.9763 459.666,87.9763 466.549,87.9763 473.432,87.9763 480.316,87.9763 487.199,87.9763 \n",
       "  494.082,87.9763 500.965,87.9763 507.849,87.9763 514.732,87.9763 521.615,87.9763 528.498,87.9763 535.381,87.9763 542.265,87.9763 549.148,87.9763 556.031,87.9763 \n",
       "  562.914,87.9763 569.797,87.9763 576.681,87.9763 583.564,87.9763 590.447,87.9763 597.33,87.9763 604.214,87.9763 611.097,87.9763 617.98,87.9763 624.863,87.9763 \n",
       "  631.746,87.9763 638.63,87.9763 645.513,87.9763 652.396,87.9763 659.279,87.9763 666.162,87.9763 673.046,87.9763 679.929,87.9763 686.812,87.9763 693.695,87.9763 \n",
       "  700.578,87.9763 707.462,87.9763 714.345,87.9763 721.228,87.9763 728.111,87.9763 734.995,87.9763 741.878,87.9763 748.761,87.9763 755.644,87.9763 762.527,87.9763 \n",
       "  769.411,87.9763 776.294,87.9763 783.177,87.9763 790.06,87.9763 796.943,87.9763 803.827,87.9763 810.71,87.9763 817.593,87.9763 824.476,87.9763 831.36,87.9763 \n",
       "  838.243,87.9763 845.126,87.9763 852.009,87.9763 858.892,87.9763 865.776,87.9763 872.659,87.9763 879.542,87.9763 886.425,87.9763 893.308,87.9763 900.192,87.9763 \n",
       "  907.075,87.9763 913.958,87.9763 920.841,87.9763 927.724,87.9763 934.608,87.9763 941.491,87.9763 948.374,87.9763 955.257,87.9763 962.141,87.9763 969.024,87.9763 \n",
       "  975.907,87.9763 982.79,87.9763 989.673,87.9763 996.557,87.9763 1003.44,87.9763 1010.32,87.9763 1017.21,87.9763 1024.09,87.9763 1030.97,87.9763 1037.86,87.9763 \n",
       "  1044.74,87.9763 1051.62,87.9763 1058.51,87.9763 1065.39,87.9763 1072.27,87.9763 1079.16,87.9763 1086.04,87.9763 1092.92,87.9763 1099.8,87.9763 1106.69,87.9763 \n",
       "  1113.57,87.9763 1120.45,87.9763 1127.34,87.9763 1134.22,87.9763 1141.1,87.9763 1147.99,87.9763 1154.87,87.9763 1161.75,87.9763 1168.64,87.9763 1175.52,87.9763 \n",
       "  1182.4,87.9763 1189.29,87.9763 1196.17,87.9763 1203.05,87.9763 1209.94,87.9763 1216.82,87.9763 1223.7,87.9763 1230.59,87.9763 1237.47,87.9763 1244.35,87.9763 \n",
       "  1251.24,87.9763 1258.12,87.9763 1265,87.9763 1271.89,87.9763 1278.77,87.9763 1285.65,87.9763 1292.53,87.9763 1299.42,87.9763 1306.3,87.9763 1313.18,87.9763 \n",
       "  1320.07,87.9763 1326.95,87.9763 1333.83,87.9763 1340.72,87.9763 1347.6,87.9763 1354.48,87.9763 1361.37,87.9763 1368.25,87.9763 1375.13,87.9763 1382.02,87.9763 \n",
       "  1388.9,87.9763 1395.78,87.9763 1402.67,87.9763 1409.55,87.9763 1416.43,87.9763 1423.32,87.9763 1430.2,87.9763 1437.08,87.9763 1443.97,87.9763 1450.85,87.9763 \n",
       "  1457.73,87.9763 1464.62,87.9763 1471.5,87.9763 1478.38,87.9763 1485.26,87.9763 1492.15,87.9763 1499.03,87.9763 1505.91,87.9763 1512.8,87.9763 1519.68,87.9763 \n",
       "  1526.56,87.9763 1533.45,87.9763 1540.33,87.9763 1547.21,87.9763 1554.1,87.9763 1560.98,87.9763 1567.86,87.9763 1574.75,87.9763 1581.63,87.9763 1588.51,87.9763 \n",
       "  1595.4,87.9763 1602.28,87.9763 1609.16,87.9763 1616.05,87.9763 1622.93,87.9763 1629.81,87.9763 1636.7,87.9763 1643.58,87.9763 1650.46,87.9763 1657.34,87.9763 \n",
       "  1664.23,87.9763 1671.11,87.9763 1677.99,87.9763 1684.88,87.9763 1691.76,87.9763 1698.64,87.9763 1705.53,87.9763 1712.41,87.9763 1719.29,87.9763 1726.18,87.9763 \n",
       "  1733.06,87.9763 1739.94,87.9763 1746.83,87.9763 1753.71,87.9763 1760.59,87.9763 1767.48,87.9763 1774.36,87.9763 1781.24,87.9763 1788.13,87.9763 1795.01,87.9763 \n",
       "  1801.89,87.9763 1808.78,87.9763 1815.66,87.9763 1822.54,87.9763 1829.43,87.9763 1836.31,87.9763 1843.19,87.9763 1850.07,87.9763 1856.96,87.9763 1863.84,87.9763 \n",
       "  1870.72,87.9763 1877.61,87.9763 1884.49,87.9763 1891.37,87.9763 1898.26,87.9763 1905.14,87.9763 1912.02,87.9763 1918.91,87.9763 1925.79,87.9763 1932.67,87.9763 \n",
       "  1939.56,87.9763 1946.44,87.9763 1953.32,87.9763 1960.21,87.9763 1967.09,87.9763 1973.97,87.9763 1980.86,87.9763 1987.74,87.9763 1994.62,87.9763 2001.51,87.9763 \n",
       "  2008.39,87.9763 2015.27,87.9763 2022.16,87.9763 2029.04,87.9763 2035.92,87.9763 2042.8,87.9763 2049.69,87.9763 2056.57,87.9763 2063.45,87.9763 2070.34,87.9763 \n",
       "  2077.22,87.9763 2084.1,87.9763 2090.99,87.9763 2097.87,87.9763 2104.75,87.9763 2111.64,87.9763 2118.52,87.9763 2125.4,87.9763 2132.29,87.9763 2139.17,87.9763 \n",
       "  2146.05,87.9763 2152.94,87.9763 2159.82,87.9763 2166.7,87.9763 2173.59,87.9763 2180.47,87.9763 2187.35,87.9763 2194.24,87.9763 2201.12,87.9763 2208,87.9763 \n",
       "  2214.89,87.9763 2221.77,87.9763 2228.65,87.9763 2235.53,87.9763 2242.42,87.9763 2249.3,87.9763 2256.18,87.9763 2263.07,87.9763 2269.95,87.9763 2276.83,87.9763 \n",
       "  2283.72,87.9763 2290.6,87.9763 \n",
       "  \"/>\n",
       "<polyline clip-path=\"url(#clip162)\" style=\"stroke:#e26f46; stroke-linecap:butt; stroke-linejoin:round; stroke-width:4; stroke-opacity:1; fill:none\" points=\"\n",
       "  218.754,1445.72 225.637,1425.12 232.52,1414.36 239.403,1408.8 246.286,1405.65 253.17,1403.73 260.053,1402.48 266.936,1401.63 273.819,1401.03 280.703,1400.59 \n",
       "  287.586,1400.26 294.469,1400 301.352,1399.8 308.235,1399.64 315.119,1399.51 322.002,1399.41 328.885,1399.32 335.768,1399.25 342.651,1399.18 349.535,1399.13 \n",
       "  356.418,1399.09 363.301,1399.05 370.184,1399.01 377.068,1398.98 383.951,1398.95 390.834,1398.93 397.717,1398.91 404.6,1398.89 411.484,1398.87 418.367,1398.86 \n",
       "  425.25,1398.84 432.133,1398.83 439.016,1398.82 445.9,1398.81 452.783,1398.8 459.666,1398.79 466.549,1398.78 473.432,1398.77 480.316,1398.77 487.199,1398.76 \n",
       "  494.082,1398.75 500.965,1398.75 507.849,1398.74 514.732,1398.74 521.615,1398.73 528.498,1398.73 535.381,1398.72 542.265,1398.72 549.148,1398.72 556.031,1398.71 \n",
       "  562.914,1398.71 569.797,1398.7 576.681,1398.7 583.564,1398.69 590.447,1398.69 597.33,1398.69 604.214,1398.69 611.097,1398.68 617.98,1398.68 624.863,1398.68 \n",
       "  631.746,1398.68 638.63,1398.68 645.513,1398.68 652.396,1398.68 659.279,1398.67 666.162,1398.67 673.046,1398.67 679.929,1398.67 686.812,1398.67 693.695,1398.67 \n",
       "  700.578,1398.67 707.462,1398.67 714.345,1398.67 721.228,1398.67 \n",
       "  \"/>\n",
       "<path clip-path=\"url(#clip160)\" d=\"\n",
       "M1983.1 276.658 L2279.55 276.658 L2279.55 95.2176 L1983.1 95.2176  Z\n",
       "  \" fill=\"#ffffff\" fill-rule=\"evenodd\" fill-opacity=\"1\"/>\n",
       "<polyline clip-path=\"url(#clip160)\" style=\"stroke:#000000; stroke-linecap:butt; stroke-linejoin:round; stroke-width:4; stroke-opacity:1; fill:none\" points=\"\n",
       "  1983.1,276.658 2279.55,276.658 2279.55,95.2176 1983.1,95.2176 1983.1,276.658 \n",
       "  \"/>\n",
       "<polyline clip-path=\"url(#clip160)\" style=\"stroke:#009af9; stroke-linecap:butt; stroke-linejoin:round; stroke-width:4; stroke-opacity:1; fill:none\" points=\"\n",
       "  2007.5,155.698 2153.92,155.698 \n",
       "  \"/>\n",
       "<path clip-path=\"url(#clip160)\" d=\"M2192.16 175.385 Q2190.35 180.015 2188.64 181.427 Q2186.93 182.839 2184.06 182.839 L2180.65 182.839 L2180.65 179.274 L2183.15 179.274 Q2184.91 179.274 2185.89 178.44 Q2186.86 177.607 2188.04 174.505 L2188.8 172.561 L2178.32 147.052 L2182.83 147.052 L2190.93 167.329 L2199.03 147.052 L2203.55 147.052 L2192.16 175.385 Z\" fill=\"#000000\" fill-rule=\"evenodd\" fill-opacity=\"1\" /><path clip-path=\"url(#clip160)\" d=\"M2210.84 169.042 L2218.48 169.042 L2218.48 142.677 L2210.17 144.343 L2210.17 140.084 L2218.43 138.418 L2223.11 138.418 L2223.11 169.042 L2230.75 169.042 L2230.75 172.978 L2210.84 172.978 L2210.84 169.042 Z\" fill=\"#000000\" fill-rule=\"evenodd\" fill-opacity=\"1\" /><polyline clip-path=\"url(#clip160)\" style=\"stroke:#e26f46; stroke-linecap:butt; stroke-linejoin:round; stroke-width:4; stroke-opacity:1; fill:none\" points=\"\n",
       "  2007.5,216.178 2153.92,216.178 \n",
       "  \"/>\n",
       "<path clip-path=\"url(#clip160)\" d=\"M2192.16 235.865 Q2190.35 240.495 2188.64 241.907 Q2186.93 243.319 2184.06 243.319 L2180.65 243.319 L2180.65 239.754 L2183.15 239.754 Q2184.91 239.754 2185.89 238.92 Q2186.86 238.087 2188.04 234.985 L2188.8 233.041 L2178.32 207.532 L2182.83 207.532 L2190.93 227.809 L2199.03 207.532 L2203.55 207.532 L2192.16 235.865 Z\" fill=\"#000000\" fill-rule=\"evenodd\" fill-opacity=\"1\" /><path clip-path=\"url(#clip160)\" d=\"M2214.06 229.522 L2230.38 229.522 L2230.38 233.458 L2208.43 233.458 L2208.43 229.522 Q2211.09 226.768 2215.68 222.138 Q2220.28 217.485 2221.46 216.143 Q2223.71 213.62 2224.59 211.884 Q2225.49 210.124 2225.49 208.435 Q2225.49 205.68 2223.55 203.944 Q2221.63 202.208 2218.52 202.208 Q2216.33 202.208 2213.87 202.972 Q2211.44 203.735 2208.66 205.286 L2208.66 200.564 Q2211.49 199.43 2213.94 198.851 Q2216.4 198.273 2218.43 198.273 Q2223.8 198.273 2227 200.958 Q2230.19 203.643 2230.19 208.134 Q2230.19 210.263 2229.38 212.185 Q2228.59 214.083 2226.49 216.675 Q2225.91 217.347 2222.81 220.564 Q2219.71 223.759 2214.06 229.522 Z\" fill=\"#000000\" fill-rule=\"evenodd\" fill-opacity=\"1\" /></svg>\n"
      ]
     },
     "execution_count": 76,
     "metadata": {},
     "output_type": "execute_result"
    }
   ],
   "source": [
    "plot(real(Σ_loc))\n",
    "plot!(real(Σ_ladder_corrected[:,1]))"
   ]
  },
  {
   "cell_type": "markdown",
   "metadata": {},
   "source": [
    "# extended Lambda test"
   ]
  },
  {
   "cell_type": "markdown",
   "metadata": {},
   "source": [
    "# Condition 2"
   ]
  },
  {
   "cell_type": "code",
   "execution_count": 20,
   "metadata": {},
   "outputs": [
    {
     "ename": "LoadError",
     "evalue": "UndefVarError: lhs_overview not defined",
     "output_type": "error",
     "traceback": [
      "UndefVarError: lhs_overview not defined",
      "",
      "Stacktrace:",
      " [1] top-level scope",
      "   @ In[20]:1",
      " [2] eval",
      "   @ ./boot.jl:360 [inlined]",
      " [3] include_string(mapexpr::typeof(REPL.softscope), mod::Module, code::String, filename::String)",
      "   @ Base ./loading.jl:1094"
     ]
    }
   ],
   "source": [
    "println(minimum((lhs_overview .- rhs_overview)))\n",
    "writedlm(\"cond2_lhs.csv\",  lhs_overview , ' ')\n",
    "writedlm(\"cond2_rhs.csv\",  rhs_overview , ' ')\n",
    "plot(heatmap(λch_range_c2, λsp_range_c2, (lhs_overview .- rhs_overview), xlabel=L\"\\lambda_\\mathrm{ch}\", ylabel=L\"\\mathrm{max}(\\lambda_\\mathrm{sp})\", title=L\"|\\sum \\chi_\\mathrm{m}(\\omega,q) -  U (G^\\lambda \\star \\Sigma^\\lambda + \\frac{n^2}{4})|\"), \n",
    "    heatmap(λch_range_c2, λsp_range_c2, rhs_overview, xlabel=L\"\\lambda_\\mathrm{ch}\", ylabel=L\"\\mathrm{max}(\\lambda_\\mathrm{sp})\", title=L\"U (G^\\lambda \\star \\Sigma^\\lambda + \\frac{n^2}{4})\"), \n",
    "    heatmap(λch_range_c2, λsp_range_c2, lhs_overview, xlabel=L\"\\lambda_\\mathrm{ch}\", ylabel=L\"\\mathrm{max}(\\lambda_\\mathrm{sp})\", title=L\"\\sum \\chi_\\mathrm{m}(\\omega,q)\"),\n",
    "    plot(λch_range[9:end-82], spOfch_max_nl[2,9:end-82], title=L\"\\sum \\chi_\\mathrm{d}(\\omega, q) \\stackrel{!}{=} \\frac{n}{2} (1 - \\frac{n}{2})\", label=L\"\\lambda_\\mathrm{sp}(\\lambda_\\mathrm{ch})\", xlabel=L\"\\lambda_\\mathrm{ch}\", ylabel=L\"\\mathrm{max}(\\lambda_\\mathrm{sp})\", markershape=:hexagon, markersize=2.8),\n",
    "    layout=(2,2),size=(900,800))\n"
   ]
  },
  {
   "cell_type": "code",
   "execution_count": 21,
   "metadata": {},
   "outputs": [
    {
     "ename": "LoadError",
     "evalue": "UndefVarError: lhs_overview2 not defined",
     "output_type": "error",
     "traceback": [
      "UndefVarError: lhs_overview2 not defined",
      "",
      "Stacktrace:",
      " [1] top-level scope",
      "   @ In[21]:1",
      " [2] eval",
      "   @ ./boot.jl:360 [inlined]",
      " [3] include_string(mapexpr::typeof(REPL.softscope), mod::Module, code::String, filename::String)",
      "   @ Base ./loading.jl:1094"
     ]
    }
   ],
   "source": [
    "println(minimum((lhs_overview2 .+ rhs_overview2)))\n",
    "writedlm(\"cond2_lhs2.csv\",  lhs_overview2, ' ')\n",
    "writedlm(\"cond2_rhs2.csv\",  rhs_overview2, ' ')\n",
    "plot(heatmap(λch_range_c22, λsp_range_c22, (lhs_overview2 .- rhs_overview2), xlabel=L\"\\lambda_\\mathrm{ch}\", ylabel=L\"\\mathrm{max}(\\lambda_\\mathrm{sp})\", title=L\"|\\sum \\chi_\\mathrm{m}(\\omega,q) - G^\\lambda \\star \\Sigma^\\lambda|\"), \n",
    "    heatmap(λch_range_c22, λsp_range_c22, rhs_overview2, xlabel=L\"\\lambda_\\mathrm{ch}\", ylabel=L\"\\mathrm{max}(\\lambda_\\mathrm{sp})\", title=L\"G^\\lambda \\star \\Sigma^\\lambda\"), \n",
    "    heatmap(λch_range_c22, λsp_range_c22, lhs_overview2, xlabel=L\"\\lambda_\\mathrm{ch}\", ylabel=L\"\\mathrm{max}(\\lambda_\\mathrm{sp})\", title=L\"\\sum \\chi_\\mathrm{m}(\\omega,q)\"),\n",
    "    plot(λch_range[9:end-82], spOfch_max_nl[2,9:end-82], title=L\"\\sum \\chi_\\mathrm{d}(\\omega, q) \\stackrel{!}{=} \\frac{n}{2} (1 - \\frac{n}{2})\", label=L\"\\lambda_\\mathrm{sp}(\\lambda_\\mathrm{ch})\", xlabel=L\"\\lambda_\\mathrm{ch}\", ylabel=L\"\\mathrm{max}(\\lambda_\\mathrm{sp})\", markershape=:hexagon, markersize=2.8),\n",
    "    layout=(2,2),size=(900,800))\n"
   ]
  },
  {
   "cell_type": "markdown",
   "metadata": {},
   "source": [
    "# Both conditions"
   ]
  },
  {
   "cell_type": "code",
   "execution_count": 22,
   "metadata": {},
   "outputs": [
    {
     "ename": "LoadError",
     "evalue": "UndefVarError: modelParams not defined",
     "output_type": "error",
     "traceback": [
      "UndefVarError: modelParams not defined",
      "",
      "Stacktrace:",
      " [1] getproperty(x::Module, f::Symbol)",
      "   @ Base ./Base.jl:26",
      " [2] top-level scope",
      "   @ In[22]:1",
      " [3] eval",
      "   @ ./boot.jl:360 [inlined]",
      " [4] include_string(mapexpr::typeof(REPL.softscope), mod::Module, code::String, filename::String)",
      "   @ Base ./loading.jl:1094"
     ]
    }
   ],
   "source": [
    "mP = LadderDGA.modelParams\n",
    "sP = LadderDGA.simParams\n",
    "nc = [0,1,2,3]\n",
    "NW = floor(Int64, length(usable_ω)/2)\n",
    "ωmin = 1\n",
    "ωmax = NW \n",
    "coeffs = collect(0:3)\n",
    "Wω = LadderDGA.build_weights(ωmin, ωmax, coeffs)\n",
    "println(\"building  weight matrix from $ωmin to $ωmax with coefficients $(coeffs)\")\n",
    "include(\"src/ConvergenceAcc.jl\")\n",
    "#Shanks.shanks(E_Pot, csum_inp=true) \n",
    "\n",
    "testf_c2(λspi , λchi) = LadderDGA.calc_E_pot_cond(λspi , λchi, nlQ_sp, nlQ_ch, bubble, \n",
    "                         LadderDGA.ϵkGrid, LadderDGA.FUpDo, \n",
    "                         LadderDGA.Σ_loc_pos,Σ_ladderLoc,\n",
    "                         LadderDGA.qIndices, LadderDGA.qMultiplicity, \n",
    "                         mP, sP, sP.tail_corrected);\n",
    "function cond_both_nc!(F, λ)\n",
    "    testf!(λ) = construct_f(λ[1],λchi, rχsp, rχch, mode=m, rhs=rhs_val)\n",
    "    testdf!(λ) = construct_df(λ[1], λchi, rχsp, rχch, mode=m, rhs=rhs_val);\n",
    "    Σ_ladder2, lhs_c2, E_pot_DGA = testf_c2(λ[1], λ[2])\n",
    "    χsp_λ = LadderDGA.χ_λ(real.(nlQ_sp.χ), λ[1])\n",
    "    χch_λ = LadderDGA.χ_λ(real.(nlQ_ch.χ), λ[2])\n",
    "    χupup = LadderDGA.sum_q(χch_λ[usable_ω,:].+ χsp_λ[usable_ω,:], LadderDGA.qMultiplicity, dims=2)[:,1] ./ 2\n",
    "    nwh = ceil(Int64, size(χsp_λ,1)/2)\n",
    "    penalty = sum(abs.(χsp_λ[nwh,(χsp_λ[nwh,:] .< 0)])) + sum(abs.(χch_λ[nwh,(χch_λ[nwh,:] .< 0)])) \n",
    "    #penalty2 = length(χch_λ[nwh,((χch_λ[nwh,:] .< 0.01) .& (χch_λ[nwh,:] .>= 0.0))])\n",
    "    tmp =  real(LadderDGA.sum_freq(χupup, [1], true, mP.β, weights=Wω)[1]) \n",
    "    #tmp += -penalty\n",
    "    lhs_c1 = (mP.n/2) * (1 - mP.n/2)\n",
    "    println(\"calling for λ=$λ, E_pot=$(E_pot_DGA), penalty = $penalty\")\n",
    "    F[1] = penalty > 0 ? penalty : tmp - lhs_c1\n",
    "    F[2] = (lhs_c2) - E_pot_DGA# - penalty\n",
    "end\n",
    "\n",
    "function cond_both_c!(F, λ)\n",
    "    Σ_ladder2, lhs_c2, E_pot_DGA = LadderDGA.calc_E_pot_cond(λ[1], λ[2], nlQ_sp, nlQ_ch, bubble, \n",
    "                     LadderDGA.ϵkGrid, LadderDGA.FUpDo, \n",
    "                     LadderDGA.Σ_loc_pos,Σ_ladderLoc,\n",
    "                     LadderDGA.qIndices, LadderDGA.qMultiplicity, \n",
    "                     mP, sP, sP.tail_corrected, E_pot_tail_corr=true);\n",
    "    χsp_λ = LadderDGA.χ_λ(real.(nlQ_sp.χ), λ[1])\n",
    "    χch_λ = LadderDGA.χ_λ(real.(nlQ_ch.χ), λ[2])\n",
    "    χupup = LadderDGA.sum_q(χch_λ[usable_ω,:].+ χsp_λ[usable_ω,:], LadderDGA.qMultiplicity, dims=2)[:,1] ./ 2\n",
    "    nwh = ceil(Int64, size(χsp_λ,1)/2)\n",
    "    penalty = sum(abs.(χsp_λ[nwh,(χsp_λ[nwh,:] .< 0)])) + sum(abs.(χch_λ[nwh,(χch_λ[nwh,:] .< 0)])) \n",
    "    #penalty2 = length(χch_λ[nwh,((χch_λ[nwh,:] .< 0.01) .& (χch_λ[nwh,:] .>= 0.0))])\n",
    "    tmp =  real(LadderDGA.sum_freq(χupup, [1], true, mP.β, weights=Wω)[1]) \n",
    "    #tmp += -penalty\n",
    "    lhs_c1 = mP.n/2 * (1 - mP.n/2)\n",
    "    println(\"calling for λ=$(round.(λ,digits=2)), E_pot=$(E_pot_DGA), res = $(abs(tmp - lhs_c1) + abs(E_pot_DGA + (lhs_c2))), penalty = $penalty\")\n",
    "    F[1] = penalty > 0 ? penalty : tmp - lhs_c1\n",
    "    F[2] = (lhs_c2) - E_pot_DGA\n",
    "    #F[3] = mP.n - sum(Gμλ)\n",
    "end"
   ]
  },
  {
   "cell_type": "code",
   "execution_count": 23,
   "metadata": {},
   "outputs": [
    {
     "ename": "LoadError",
     "evalue": "UndefVarError: nlQ_sp not defined",
     "output_type": "error",
     "traceback": [
      "UndefVarError: nlQ_sp not defined",
      "",
      "Stacktrace:",
      " [1] top-level scope",
      "   @ In[23]:2",
      " [2] eval",
      "   @ ./boot.jl:360 [inlined]",
      " [3] include_string(mapexpr::typeof(REPL.softscope), mod::Module, code::String, filename::String)",
      "   @ Base ./loading.jl:1094"
     ]
    }
   ],
   "source": [
    "using LaTeXStrings\n",
    "χsp_λ = LadderDGA.χ_λ(real.(nlQ_sp.χ[usable_ω,:]), res_nc.zero[1])\n",
    "χch_λ = LadderDGA.χ_λ(real.(nlQ_ch.χ[usable_ω,:]), res_nc.zero[2])\n",
    "χupup = LadderDGA.sum_q(χch_λ .+ χsp_λ, LadderDGA.qMultiplicity, dims=2)[:,1] ./ 2\n",
    "χupdo = LadderDGA.sum_q(χch_λ .- χsp_λ, LadderDGA.qMultiplicity, dims=2)[:,1] ./ 2\n",
    "rhs_c1 = real(LadderDGA.sum_freq(χupup, [1], true, mP.β, weights=Wω)[1])  \n",
    "rhs_c2 = mP.U * real(LadderDGA.sum_freq(χupdo, [1], true, mP.β, weights=Wω)[1])  + mP.n^2/4\n",
    "lhs_c1 = mP.n/2 * (1 - mP.n/2)\n",
    "Σ_ladder2, lhs_c2, E_pot_DGA = LadderDGA.calc_E_pot_cond(res_nc.zero[1], res_nc.zero[2], nlQ_sp, nlQ_ch, bubble, \n",
    "                     LadderDGA.ϵkGrid, LadderDGA.FUpDo, \n",
    "                     LadderDGA.Σ_loc_pos,Σ_ladderLoc,\n",
    "                     LadderDGA.qIndices, LadderDGA.qMultiplicity, \n",
    "                     mP, sP, sP.tail_corrected, E_pot_tail_corr=false);\n",
    "E_Kin, E_Pot = LadderDGA.calc_E(Σ_ladder2, LadderDGA.ϵqGrid, LadderDGA.qMultiplicity, sP.Nk, mP, sP);\n",
    "\n",
    "\n",
    "l = @layout [A{0.01h}; \n",
    "             [grid(1,2)\n",
    "              b{0.3h}]]\n",
    "nhi = 20\n",
    "xarr = usable_ω .- ceil(Int64, size(bubble,1)/2)\n",
    "title = plot(title = L\"U=%$(mP.U), \\beta=%$(mP.β)\", grid = false, showaxis = false, bottom_margin = -50Plots.px)\n",
    "p1 = plot(xarr, χsp_λ[:,1], legend = true, xlabel=L\"\\omega_n\", ylabel=L\"\\chi^\\lambda_{\\mathrm{sp}}\", label=\"q=$(round.(LadderDGA.qGrid[1],digits=2))\", markershape=:circle, markersize=2)\n",
    "plot!(xarr, χsp_λ[:,nhi], label=\"q=$(round.(LadderDGA.qGrid[nhi],digits=2))\", markershape=:circle, markersize=2)\n",
    "plot!(xarr, χsp_λ[:,end], label=\"q=$(round.(LadderDGA.qGrid[end],digits=2))\", markershape=:circle, markersize=2)\n",
    "annotate_y_pos = 0.7*maximum([maximum(χsp_λ[:,1]), maximum(χsp_λ[:,nhi]), maximum(χsp_λ[:,end])])\n",
    "annotate!(xarr[end-2], annotate_y_pos, text(L\"\\lambda_\\mathrm{sp} = %$(round(res_nc.zero[1],digits=3))\", :right, 10))\n",
    "\n",
    "    \n",
    "p2 = plot(xarr, χch_λ[:,1], legend = false, xlabel=L\"\\omega_n\", ylabel=L\"\\chi^\\lambda_{\\mathrm{ch}}\", label=\"q=$(round.(LadderDGA.qGrid[1],digits=2))\", markershape=:hexagon, markersize=2)\n",
    "plot!(xarr, χch_λ[:,nhi], label=\"q=$(round.(LadderDGA.qGrid[nhi],digits=2))\", markershape=:hexagon, markersize=2)\n",
    "plot!(xarr, χch_λ[:,end], label=\"q=$(round.(LadderDGA.qGrid[end],digits=2))\", markershape=:hexagon, markersize=2)\n",
    "annotate_y_pos = 0.75*maximum([maximum(χch_λ[:,1]), maximum(χch_λ[:,nhi]), maximum(χch_λ[:,end])])\n",
    "annotate!(xarr[end-2], annotate_y_pos, text(L\"\\lambda_\\mathrm{ch} = %$(round(res_nc.zero[2],digits=3))\", :right, 10))\n",
    "\n",
    "\n",
    "p3 = plot(E_Pot, xlabel=L\"\\nu_n\", label=L\"\\qquad\\qquad\\;\\;\\; G^\\lambda \\star \\Sigma^\\lambda = %$(round(E_Pot[end], digits=6))\", markershape=:hexagon, markersize=2,legend=:bottomright, legendfontsize=9)\n",
    "plot!([rhs_c2], seriestype = :hline, label=L\"\\frac{1}{\\beta N_k} \\sum_{\\omega,q} \\chi_\\mathrm{up, do}\\quad\\, = %$(round(rhs_c2, digits=6))\")\n",
    "plot!([E_Pot[end]], seriestype = :hline, linestyle=:dash, label=L\"\\mathrm{\\;\\;\\;naive\\;E}_\\mathrm{pot, LDGA} = %$(round(E_pot_DGA, digits=6))\")\n",
    "annotate_y_pos = (0.3*(maximum(E_Pot) - minimum(E_Pot)) + minimum(E_Pot))\n",
    "annotate!(0.2*length(E_Pot), annotate_y_pos, text(L\"\\frac{1}{\\beta N_k}\\sum_{\\omega,q} \\chi_\\mathrm{up, up} = %$(round(rhs_c1,digits=14)) \\stackrel{!}{=} \\frac{n}{2} (1-\\frac{n}{2}) = %$(mP.n/2 *(1 - mP.n/2))\", :left, 10))\n",
    "\n",
    "plot(title, p1, p2, p3, layout = l, size=(1000,800))\n",
    "#savefig(\"cond_solution_tc_test_b15U2.pdf\")"
   ]
  },
  {
   "cell_type": "code",
   "execution_count": 24,
   "metadata": {},
   "outputs": [
    {
     "ename": "LoadError",
     "evalue": "UndefVarError: nlQ_sp not defined",
     "output_type": "error",
     "traceback": [
      "UndefVarError: nlQ_sp not defined",
      "",
      "Stacktrace:",
      " [1] top-level scope",
      "   @ In[24]:3",
      " [2] eval",
      "   @ ./boot.jl:360 [inlined]",
      " [3] include_string(mapexpr::typeof(REPL.softscope), mod::Module, code::String, filename::String)",
      "   @ Base ./loading.jl:1094"
     ]
    }
   ],
   "source": [
    "using LaTeXStrings\n",
    "\n",
    "χsp_λ = LadderDGA.χ_λ(real.(nlQ_sp.χ[usable_ω,:]), res_nc.zero[1])\n",
    "χch_λ = LadderDGA.χ_λ(real.(nlQ_ch.χ[usable_ω,:]), res_nc.zero[2])\n",
    "χsp_λ_old = LadderDGA.χ_λ(real.(nlQ_sp.χ[usable_ω,:]),0.050817859568877091)\n",
    "χch_λ_old = LadderDGA.χ_λ(real.(nlQ_ch.χ[usable_ω,:]), 0.0)\n",
    "χupup = LadderDGA.sum_q(χch_λ .+ χsp_λ, LadderDGA.qMultiplicity, dims=2)[:,1] ./ 2\n",
    "χupdo = LadderDGA.sum_q(χch_λ .- χsp_λ, LadderDGA.qMultiplicity, dims=2)[:,1] ./ 2\n",
    "rhs_c1 = real(LadderDGA.sum_freq(χupup, [1], true, mP.β, weights=Wω)[1])  \n",
    "rhs_c2 = mP.U * real(LadderDGA.sum_freq(χupdo, [1], true, mP.β, weights=Wω)[1])  + mP.n^2/4\n",
    "lhs_c1 = mP.n/2 * (1 - mP.n/2)\n",
    "Σ_ladder2, lhs_c2, E_pot_DGA = LadderDGA.calc_E_pot_cond(res_nc.zero[1], res_nc.zero[2], nlQ_sp, nlQ_ch, bubble, \n",
    "                     LadderDGA.ϵkGrid, LadderDGA.FUpDo, \n",
    "                     LadderDGA.Σ_loc_pos,Σ_ladderLoc,\n",
    "                     LadderDGA.qIndices, LadderDGA.qMultiplicity, \n",
    "                     mP, sP, sP.tail_corrected, E_pot_tail_corr=false);\n",
    "E_Kin, E_Pot = LadderDGA.calc_E(Σ_ladder2, LadderDGA.ϵqGrid, LadderDGA.qMultiplicity, sP.Nk, mP, sP);\n",
    "E_Kin_naive, E_Pot_naive = calc_E_notail(Σ_ladder2, LadderDGA.ϵqGrid, LadderDGA.qMultiplicity, sP.Nk, mP, sP);\n",
    "l = @layout [A{0.025h}; \n",
    "             grid(1,2)]\n",
    "nhi = 20\n",
    "xarr = usable_ω .- ceil(Int64, size(bubble,1)/2)\n",
    "title = plot(title = L\"U=%$(mP.U), \\beta=%$(mP.β)\", grid = false, showaxis = false, bottom_margin = -50Plots.px, titlefontsize=18)\n",
    "p1 = plot(xarr, χsp_λ_old[:,end], label=L\"\\mathrm{Old\\;Method:}\\;\\; \\lambda_\\mathrm{sp} = 0.051\", markershape=:circle, markersize=3, markerstrokewidth=0.6)\n",
    "plot!(xarr, χsp_λ[:,end], color=:orange, legend = :outertop, xlabel=L\"\\omega_n\", ylabel=L\"\\chi^\\lambda_{\\mathrm{sp}}\", label=L\"\\mathrm{New\\;Method:}\\; \\lambda_\\mathrm{sp} = %$(round(res_nc.zero[1],digits=3))\", markershape=:hexagon, markerstrokewidth=0.6, markersize=3,\n",
    "    xtickfontsize=12,ytickfontsize=12,legendfontsize=12,xguidefontsize=16,yguidefontsize=16, margin=4Plots.mm)\n",
    "#plot!(xarr, χsp_λ[:,nhi], label=\"q=$(round.(LadderDGA.qGrid[nhi],digits=2))\", markershape=:circle, markersize=2)\n",
    "#p1 = plot(xarr, χsp_λ[:,end], label=L\"q=$(\\pi,\\pi,\\pi)\", markershape=:circle, markersize=2)\n",
    "annotate_y_pos = 0.7*maximum([maximum(χsp_λ[:,1]), maximum(χsp_λ[:,nhi]), maximum(χsp_λ[:,end])])\n",
    "#annotate!(xarr[end-2], annotate_y_pos, text(L\"\\lambda_\\mathrm{sp} = %$(round(res_nc.zero[1],digits=3))\", :right, 10))\n",
    "annotate!(xarr[end-2], annotate_y_pos, text(L\"\\vec{q}=(\\pi,\\pi,\\pi)\", :right, 16))\n",
    "    \n",
    "p2 = plot(xarr, χch_λ_old[:,end], label=L\"\\mathrm{Old\\;Method:}\\;\\; \\lambda_\\mathrm{ch} = 0\", markershape=:circle, markersize=3, markerstrokewidth=0.6)\n",
    "plot!(xarr, χch_λ[:,end], color=:orange, legend = :outertop, xlabel=L\"\\omega_n\", ylabel=L\"\\chi^\\lambda_{\\mathrm{ch}}\", label=L\"\\mathrm{New\\;Method:}\\; \\lambda_\\mathrm{ch} = %$(round(res_nc.zero[2],digits=3))\", markershape=:hexagon, markersize=3, markerstrokewidth=0.6,xtickfontsize=12,ytickfontsize=12,legendfontsize=12,xguidefontsize=16,yguidefontsize=16)\n",
    "#plot!(xarr, χch_λ[:,nhi], label=\"q=$(round.(LadderDGA.qGrid[nhi],digits=2))\", markershape=:hexagon, markersize=2)\n",
    "#plot!(xarr, χch_λ[:,end], label=\"q=$(round.(LadderDGA.qGrid[end],digits=2))\", markershape=:hexagon, markersize=2)\n",
    "annotate_y_pos = 0.75*maximum([maximum(χch_λ[:,1]), maximum(χch_λ[:,nhi]), maximum(χch_λ[:,end])])\n",
    "#annotate!(xarr[end-2], annotate_y_pos, text(L\"\\lambda_\\mathrm{ch} = %$(round(res_nc.zero[2],digits=3))\", :right, 10))\n",
    "annotate!(xarr[end-2], annotate_y_pos, text(L\"\\vec{q}=(\\pi,\\pi,\\pi)\", :right, 16))\n",
    "\n",
    "\n",
    "\n",
    "plot(title, p1, p2, layout = l, size=(1200,600))\n",
    "#savefig(\"cond_solution_tc_test_b25U1.pdf\")"
   ]
  },
  {
   "cell_type": "code",
   "execution_count": 25,
   "metadata": {},
   "outputs": [
    {
     "ename": "LoadError",
     "evalue": "UndefVarError: mP not defined",
     "output_type": "error",
     "traceback": [
      "UndefVarError: mP not defined",
      "",
      "Stacktrace:",
      " [1] (::var\"#1#2\")(i::Int64)",
      "   @ Main ./none:0",
      " [2] iterate",
      "   @ ./generator.jl:47 [inlined]",
      " [3] collect(itr::Base.Generator{StepRange{Int64, Int64}, var\"#1#2\"})",
      "   @ Base ./array.jl:678",
      " [4] top-level scope",
      "   @ In[25]:4",
      " [5] eval",
      "   @ ./boot.jl:360 [inlined]",
      " [6] include_string(mapexpr::typeof(REPL.softscope), mod::Module, code::String, filename::String)",
      "   @ Base ./loading.jl:1094"
     ]
    }
   ],
   "source": [
    "l2 = @layout [A{0.025h}; \n",
    "             grid(2,1)]\n",
    "\n",
    "t = [real(mP.U * real(LadderDGA.sum_freq(χupdo[i+1:(end-i)], [1], true, mP.β, weights=LadderDGA.build_weights(1, floor(Int64, size(χupup[i+1:(end-i)], 1)/2), collect(0:3)))[1])  + mP.n^2/4) for i in 8:-1:0]\n",
    "\n",
    "nanline = repeat([NaN], length(E_Pot))\n",
    "p3 = plot(E_Pot_naive, xlabel=L\"\\nu_\\mathrm{max}\", \n",
    "    label=L\"\\;\\;\\;\\frac{1}{\\beta N_k}\\sum_{\\nu,q} G^\\lambda \\star \\Sigma^\\lambda\\, = %$(round(E_Pot_naive[end], digits=6))\",\n",
    "    markershape=:hexagon, markersize=2, markerstrokewidth=0.4,legend=:bottomright, margin=1Plots.mm,\n",
    "    xtickfontsize=12,ytickfontsize=12, legendfontsize=12,xguidefontsize=16,yguidefontsize=16)\n",
    "plot!(nanline, label=\" \", alpha= 0.0)\n",
    "#[rhs_c2], seriestype = :hline\n",
    "plot!(nh-9:nh-1,t,markershape=:hexagon, color=:orange, markersize=4, markerstrokewidth=0.4, label=L\"\\quad\\;\\mathrm{SumFit}_{\\omega}[\\chi_\\mathrm{up, do}] = %$(round(rhs_c2, digits=6))\")\n",
    "plot!([rhs_c2], seriestype = :hline, label=nothing, color=:orange)\n",
    "plot!(nanline, label=\" \", alpha= 0.0)\n",
    "plot!([E_Pot], markershape=:hexagon, markersize=2, markerstrokewidth=0.4, \n",
    "    label=L\"{\\mathrm{SumFit}_{\\nu}[G^\\lambda \\star \\Sigma^\\lambda]\\, = %$(round(E_Pot[end], digits=6))}\")\n",
    "\n",
    "naive_chiupup_sum = (χupup[nh] .+ 2 .* cumsum(χupup[nh+1:end])) ./ mP.β\n",
    "tt = [real(LadderDGA.sum_freq(χupup[i+1:(end-i)], [1], true, mP.β, weights=LadderDGA.build_weights(1, floor(Int64, size(χupup[i+1:(end-i)], 1)/2), collect(0:3)))[1]) for i in 8:-1:0]\n",
    "real(LadderDGA.sum_freq(χupup, [1], true, mP.β, weights=Wω)[1]) \n",
    "\n",
    "nanline = repeat([NaN], length(tt))\n",
    "p4 = plot(1:nh-1,naive_chiupup_sum, xlabel=L\"\\omega_\\mathrm{max}\", \n",
    "    label=L\"\\;\\;\\;\\frac{1}{\\beta N_k}\\sum_{\\omega,q} \\chi_\\mathrm{up, up} =   %$(round(naive_chiupup_sum[end],digits=4))\", xticks=collect(1:nh-1), margin=5Plots.mm,\n",
    "    markershape=:hexagon, markersize=2, markerstrokewidth=0.4,legend=:bottomright,xtickfontsize=12,ytickfontsize=12, legendfontsize=12,xguidefontsize=16,yguidefontsize=16)\n",
    "plot!(nanline, label=\" \", alpha= 0.0)\n",
    "plot!(nh-9:nh-1,tt,markershape=:hexagon, markersize=2, markerstrokewidth=0.4, color=:orange, label=L\"\\mathrm{SumFit}_{\\omega}[\\chi_\\mathrm{up, up}] = %$(round(rhs_c1,digits=4))\")\n",
    "plot!(nanline, label=\" \", alpha= 0.0)\n",
    "\n",
    "plot!([0.25], seriestype = :hline, color=:green, label=L\"\\qquad\\;\\frac{n}{2}\\left({1-\\frac{n}{2}}\\right) = \\frac{1}{4}\")\n",
    "annotate_y_pos = (0.08*(maximum(χupup) - minimum(χupup)) + minimum(χupup))\n",
    "#annotate!(0.3*length(1:nh-1), annotate_y_pos, text(L\"\\frac{1}{\\beta N_k}\\sum_{\\omega,q} \\chi_\\mathrm{up, up} = %$(round(rhs_c1,digits=12)) \\stackrel{!}{=} \\frac{n}{2} (1-\\frac{n}{2}) = %$(mP.n/2 *(1 - mP.n/2))\", :left, 14))\n",
    "\n",
    "plot(title, p3, p4, layout = l2, size=(1200,600))\n",
    "#savefig(\"cond_solution_tc_test_b25U1_2.pdf\")"
   ]
  },
  {
   "cell_type": "code",
   "execution_count": 26,
   "metadata": {},
   "outputs": [
    {
     "ename": "LoadError",
     "evalue": "UndefVarError: ωindices not defined",
     "output_type": "error",
     "traceback": [
      "UndefVarError: ωindices not defined",
      "",
      "Stacktrace:",
      " [1] top-level scope",
      "   @ In[26]:2",
      " [2] eval",
      "   @ ./boot.jl:360 [inlined]",
      " [3] include_string(mapexpr::typeof(REPL.softscope), mod::Module, code::String, filename::String)",
      "   @ Base ./loading.jl:1094"
     ]
    }
   ],
   "source": [
    "using LaTeXStrings\n",
    "usable_ω = ωindices\n",
    "lsp_zero = 0.04856121321074435#res_c.zero[1]\n",
    "lch_zero = 0.1292099471786603#res_c.zero[2]\n",
    "χsp_λ = LadderDGA.χ_λ(real.(nlQ_sp.χ[usable_ω,:]), lsp_zero)\n",
    "χch_λ = LadderDGA.χ_λ(real.(nlQ_ch.χ[usable_ω,:]), lch_zero)\n",
    "χupup = LadderDGA.kintegrate(qG, χch_λ .+ χsp_λ, dim=2)[:,1] ./ 2\n",
    "χupdo = LadderDGA.kintegrate(qG, χch_λ .- χsp_λ, dim=2)[:,1] ./ 2\n",
    "rhs_c1 = real(LadderDGA.sum_freq(χupup, [1], Naive(), mP.β)[1])  \n",
    "rhs_c2 = mP.U * real(LadderDGA.sum_freq(χupdo, [1], Naive(), mP.β)[1])  + mP.n^2/4\n",
    "lhs_c1 = (mP.n/2) * (1 - mP.n/2)\n",
    "Σ_ladder2, lhs_c2, E_pot_DGA = LadderDGA.calc_E_pot_cond(lsp_zero, lch_zero, nlQ_sp, nlQ_ch, bubble, \n",
    "                     LadderDGA.ϵkGrid, LadderDGA.FUpDo, \n",
    "                     LadderDGA.Σ_loc_pos,Σ_ladderLoc,\n",
    "                     LadderDGA.qIndices, LadderDGA.qMultiplicity, \n",
    "                     mP, sP, sP.tail_corrected, E_pot_tail_corr=true);\n",
    "E_Kin, E_Pot = LadderDGA.calc_E(Σ_ladder2, LadderDGA.ϵqGrid, LadderDGA.qMultiplicity, sP.Nk, mP, sP);\n",
    "\n",
    "l = @layout [A{0.01h}; \n",
    "             [grid(1,2)\n",
    "              b{0.3h}]]\n",
    "nhi = 20\n",
    "xarr = usable_ω .- ceil(Int64, size(bubble,1)/2)\n",
    "title = plot(title = L\"U=%$(mP.U), \\beta=%$(mP.β), \\mathrm{E}_\\mathrm{pot} \\mathrm{\\;extrapolated}\", grid = false, showaxis = false, bottom_margin = -50Plots.px)\n",
    "p1 = plot(xarr, χsp_λ[:,1], legend = true, xlabel=L\"\\omega_n\", ylabel=L\"\\chi^\\lambda_{\\mathrm{sp}}\", label=\"q=$(round.(LadderDGA.qGrid[1],digits=2))\", markershape=:circle, markersize=2)\n",
    "plot!(xarr, χsp_λ[:,nhi], label=\"q=$(round.(LadderDGA.qGrid[nhi],digits=2))\", markershape=:circle, markersize=2)\n",
    "plot!(xarr, χsp_λ[:,end], label=\"q=$(round.(LadderDGA.qGrid[end],digits=2))\", markershape=:circle, markersize=2)\n",
    "annotate_y_pos = 0.7*maximum([maximum(χsp_λ[:,1]), maximum(χsp_λ[:,nhi]), maximum(χsp_λ[:,end])])\n",
    "annotate!(xarr[end-2], annotate_y_pos, text(L\"\\lambda_\\mathrm{sp} = %$(round(lsp_zero,digits=3))\", :right, 10))\n",
    "    \n",
    "p2 = plot(xarr, χch_λ[:,1], legend = false, xlabel=L\"\\omega_n\", ylabel=L\"\\chi^\\lambda_{\\mathrm{ch}}\", label=\"q=$(round.(LadderDGA.qGrid[1],digits=2))\", markershape=:hexagon, markersize=2)\n",
    "plot!(xarr, χch_λ[:,nhi], label=\"q=$(round.(LadderDGA.qGrid[nhi],digits=2))\", markershape=:hexagon, markersize=2)\n",
    "plot!(xarr, χch_λ[:,end], label=\"q=$(round.(LadderDGA.qGrid[end],digits=2))\", markershape=:hexagon, markersize=2)\n",
    "annotate_y_pos = 0.75*maximum([maximum(χch_λ[:,1]), maximum(χch_λ[:,nhi]), maximum(χch_λ[:,end])])\n",
    "annotate!(xarr[end-2], annotate_y_pos, text(L\"\\lambda_\\mathrm{ch} = %$(round(lch_zero,digits=3))\", :right, 10))\n",
    "\n",
    "\n",
    "p3 = plot(E_Pot, xlabel=L\"\\nu_n\", label=L\"\\qquad\\qquad\\;\\;\\; G^\\lambda \\star \\Sigma^\\lambda = %$(round(E_Pot[end], digits=6))\", markershape=:hexagon, markersize=2,legend=:bottomright, legendfontsize=10)\n",
    "plot!(repeat([rhs_c2], length(E_Pot)), label=L\"\\frac{1}{\\beta N_k} \\sum_{\\omega,q} \\chi_\\mathrm{up, do}\\quad\\, = %$(round(rhs_c2, digits=6))\")\n",
    "#plot!([E_pot_DGA[1]], seriestype = :hline, linestyle=:dash, label=L\"\\qquad\\qquad\\mathrm{E}_\\mathrm{pot, LDGA} = %$(round(E_pot_DGA[1], digits=6))\")\n",
    "plot!([E_Pot[end]], seriestype = :hline, linestyle=:dash, label=L\"\\mathrm{\\;\\;\\;naive\\;E}_\\mathrm{pot, LDGA} = %$(round(E_pot_DGA[1], digits=6))\")\n",
    "annotate_y_pos = (0.3*(maximum(E_Pot) - minimum(E_Pot)) + minimum(E_Pot))\n",
    "annotate!(0.2*length(E_Pot), annotate_y_pos, text(L\"\\frac{1}{\\beta N_k}\\sum_{\\omega,q} \\chi_\\mathrm{up, up} = %$(round(rhs_c1,digits=14)) \\stackrel{!}{=} \\frac{n}{2} (1-\\frac{n}{2}) = %$(mP.n/2 *(1 - mP.n/2))\", :left, 10))\n",
    "\n",
    "plot(title, p1, p2, p3, layout = l, size=(1000,800))\n",
    "savefig(\"cond_solution_tc_test_b25U1.pdf\")"
   ]
  },
  {
   "cell_type": "markdown",
   "metadata": {},
   "source": [
    "# q-dependent correction"
   ]
  },
  {
   "cell_type": "markdown",
   "metadata": {},
   "source": [
    "## Fit and subtract old $\\frac{1}{i\\omega^2}$ tail"
   ]
  },
  {
   "cell_type": "code",
   "execution_count": 27,
   "metadata": {},
   "outputs": [
    {
     "ename": "LoadError",
     "evalue": "UndefVarError: nlQ_sp_nλ not defined",
     "output_type": "error",
     "traceback": [
      "UndefVarError: nlQ_sp_nλ not defined",
      "",
      "Stacktrace:",
      " [1] top-level scope",
      "   @ In[27]:13",
      " [2] eval",
      "   @ ./boot.jl:360 [inlined]",
      " [3] include_string(mapexpr::typeof(REPL.softscope), mod::Module, code::String, filename::String)",
      "   @ Base ./loading.jl:1094"
     ]
    }
   ],
   "source": [
    "using LsqFit\n",
    "tail_func(iωn, c)  = sum([c[n] ./ (iωn .^ (n-1)) for n in 1:length(c)])\n",
    "tail_func_n0(iωn, c)  = sum([c[n] ./ (iωn .^ (n)) for n in 1:length(c)])\n",
    "tail_func_real(iωn, c)  = real(sum([c[n] ./ (iωn .^ (n-1)) for n in 1:length(c)]))\n",
    "tail_func_real_n0(iωn, c)  = real(sum([c[n] ./ (iωn .^ (n)) for n in 1:length(c)]))\n",
    "\n",
    "tail_func(iωn, c) = sum([c[n] ./ (iωn .^ (n-1)) for n in 1:length(c)])\n",
    "tail_func_r(iωn, c) = real(sum([c[n] ./ (iωn .^ (n-1)) for n in 1:length(c)]))\n",
    "tail_func_0(iωn, c) = c ./ (iωn .^ 0)\n",
    "tail_func_1(iωn, c) = c ./ (iωn .^ 1)\n",
    "tail_func_2(iωn, c) = real.(c ./ (iωn .^ 2))\n",
    "\n",
    "rχsp = real.(nlQ_sp_nλ.χ)\n",
    "rχch = real.(nlQ_ch_nλ.χ)\n",
    "rχupup = 0.5 .* real.(rχsp .+ rχch)\n",
    "\n",
    "nh   = ceil(Int64, size(rχsp,1)/2) + 20\n",
    "ωindices_q = nh:last(ωindices)\n",
    "min_ω = 1\n",
    "qind = 1\n",
    "p2 = [1.0]\n",
    "p0_2 = [0.0, 0.0, 1.0]\n",
    "p0_4 = [0.0, 0.0, 1.0, 0.0, 1.0]\n",
    "p1_2 = [0.0, 1.0]\n",
    "p1_4 = [0.0, 1.0, 0.0, 1.0]\n",
    "iω_arr = LadderDGA.iω_array(mP.β, -sP.n_iω:sP.n_iω)[ωindices_q];"
   ]
  },
  {
   "cell_type": "code",
   "execution_count": 28,
   "metadata": {},
   "outputs": [
    {
     "ename": "LoadError",
     "evalue": "UndefVarError: rχsp not defined",
     "output_type": "error",
     "traceback": [
      "UndefVarError: rχsp not defined",
      "",
      "Stacktrace:",
      " [1] top-level scope",
      "   @ In[28]:3",
      " [2] eval",
      "   @ ./boot.jl:360 [inlined]",
      " [3] include_string(mapexpr::typeof(REPL.softscope), mod::Module, code::String, filename::String)",
      "   @ Base ./loading.jl:1094"
     ]
    }
   ],
   "source": [
    "#Tests for setup below\n",
    "\n",
    "fit_only2 = curve_fit(tail_func_2, iω_arr, rχsp[ωindices_q,1], p2)   \n",
    "fit_0to2 = curve_fit(tail_func_real, iω_arr, rχsp[ωindices_q,1], p0_2); \n",
    "println(\"Results for fit of χsp(ω, q=(0,0,0)) fit:\")\n",
    "println(\"Fit only 2 converged = $(fit_only2.converged) with result $(round.(fit_only2.param,digits=5)).\\nFit 0 to 4 converged = $(fit_0to2.converged) with result $(round.(fit_0to2.param,digits=5))\")"
   ]
  },
  {
   "cell_type": "markdown",
   "metadata": {},
   "source": [
    "## Investigation of different tail coefficients\n",
    "\n",
    "TODO: investigate effect between real part fitting and full fit. For now only real parts are fitted!\n",
    "\n",
    "In the following we investigate the fitting tails of the form:\n",
    " - $\\frac{c_2}{i \\omega_n^2}$\n",
    " - $\\sum_{l=0}^2 \\frac{c_l}{i \\omega_n^l}$\n",
    " - $\\sum_{l=0}^4 \\frac{c_l}{i \\omega_n^l}$\n",
    " - $\\sum_{l=1}^2 \\frac{c_l}{i \\omega_n^l}$\n",
    " - $\\sum_{l=1}^4 \\frac{c_l}{i \\omega_n^l}$\n",
    " \n",
    "### Plots\n",
    "\n",
    "The plots show the fit coeffcient $c_2$ for all 5 different methods and for $\\chi_\\text{sp}$, $\\chi_\\text{ch}$, $\\chi_\\text{upup}$. Since the only contribution for the second tail coefficient comes from $\\chi_\\text{upup}$, all three solutions are supposed to be similar. \n",
    "\n",
    "### Remarks: numerics\n",
    "\n",
    "- When also fitting the $c_4$ coefficient, the tail behavior of $\\chi_\\text{updo}$ participates and we expect to see a difference between $\\chi_\\text{sp}$ and $\\chi_\\text{ch}$. Observing no difference between both suggests insufficient data. \n",
    "\n",
    "- A large difference between the $c_2$ and $c\\text{0-2}$ fits also suggests faulty input. This is due to the fact, that $c_0$ and $c_1$ must be 0 (since the sum over $\\chi_r$ is real and converges)\n",
    "\n",
    "- The solution will strongly depend on the first bosonic Matsubara frequency used (i.e. if hte fit starts are $i\\omega_1$ or $i\\omega_{10}$. Setting the `nh` parameter above will generate data for different starting values."
   ]
  },
  {
   "cell_type": "code",
   "execution_count": 29,
   "metadata": {},
   "outputs": [
    {
     "ename": "LoadError",
     "evalue": "UndefVarError: rχsp not defined",
     "output_type": "error",
     "traceback": [
      "UndefVarError: rχsp not defined",
      "",
      "Stacktrace:",
      " [1] top-level scope",
      "   @ In[29]:1",
      " [2] eval",
      "   @ ./boot.jl:360 [inlined]",
      " [3] include_string(mapexpr::typeof(REPL.softscope), mod::Module, code::String, filename::String)",
      "   @ Base ./loading.jl:1094"
     ]
    }
   ],
   "source": [
    "tail_sp = Array{Float64,2}(undef, size(rχsp,2),5)\n",
    "tail_ch = Array{Float64,2}(undef, size(rχsp,2),5)\n",
    "tail_upup = Array{Float64,2}(undef, size(rχsp,2),5)\n",
    "\n",
    "for qi in 1:size(tail_sp,1)\n",
    "    fit = curve_fit(tail_func_2, iω_arr, rχsp[ωindices_q,qi], p2);\n",
    "    tail_sp[qi,1] = fit.param[1]\n",
    "    fit = curve_fit(tail_func_2, iω_arr, rχch[ωindices_q,qi], p2);\n",
    "    tail_ch[qi,1] = fit.param[1]\n",
    "    fit = curve_fit(tail_func_2, iω_arr, rχupup[ωindices_q,qi], p2);\n",
    "    tail_upup[qi,1] = fit.param[1]\n",
    "    \n",
    "    fit = curve_fit(tail_func_real, iω_arr, rχsp[ωindices_q,qi], p0_2);\n",
    "    tail_sp[qi,2] = fit.param[3]\n",
    "    fit = curve_fit(tail_func_real, iω_arr, rχch[ωindices_q,qi], p0_2);\n",
    "    tail_ch[qi,2] = fit.param[3]\n",
    "    fit = curve_fit(tail_func_real, iω_arr, rχupup[ωindices_q,qi], p0_2);\n",
    "    tail_upup[qi,2] = fit.param[3]\n",
    "    \n",
    "    fit = curve_fit(tail_func_real, iω_arr, rχsp[ωindices_q,qi], p0_4);\n",
    "    tail_sp[qi,3] = fit.param[3]\n",
    "    fit = curve_fit(tail_func_real, iω_arr, rχch[ωindices_q,qi], p0_4);\n",
    "    tail_ch[qi,3] = fit.param[3]\n",
    "    fit = curve_fit(tail_func_real, iω_arr, rχupup[ωindices_q,qi], p0_4);\n",
    "    tail_upup[qi,3] = fit.param[3]\n",
    "    \n",
    "    fit = curve_fit(tail_func_real_n0, iω_arr, rχsp[ωindices_q,qi], p1_2);\n",
    "    tail_sp[qi,4] = fit.param[2]\n",
    "    fit = curve_fit(tail_func_real_n0, iω_arr, rχch[ωindices_q,qi], p1_2);\n",
    "    tail_ch[qi,4] = fit.param[2]\n",
    "    fit = curve_fit(tail_func_real_n0, iω_arr, rχupup[ωindices_q,qi], p1_2);\n",
    "    tail_upup[qi,4] = fit.param[2]\n",
    "    \n",
    "    fit = curve_fit(tail_func_real_n0, iω_arr, rχsp[ωindices_q,qi], p1_4);\n",
    "    tail_sp[qi,5] = fit.param[2]\n",
    "    fit = curve_fit(tail_func_real_n0, iω_arr, rχch[ωindices_q,qi], p1_4);\n",
    "    tail_ch[qi,5] = fit.param[2]\n",
    "    fit = curve_fit(tail_func_real_n0, iω_arr, rχupup[ωindices_q,qi], p1_4);\n",
    "    tail_upup[qi,5] = fit.param[2]\n",
    "end"
   ]
  },
  {
   "cell_type": "code",
   "execution_count": 30,
   "metadata": {
    "scrolled": true
   },
   "outputs": [
    {
     "ename": "LoadError",
     "evalue": "UndefVarError: tail_sp not defined",
     "output_type": "error",
     "traceback": [
      "UndefVarError: tail_sp not defined",
      "",
      "Stacktrace:",
      " [1] top-level scope",
      "   @ In[30]:1",
      " [2] eval",
      "   @ ./boot.jl:360 [inlined]",
      " [3] include_string(mapexpr::typeof(REPL.softscope), mod::Module, code::String, filename::String)",
      "   @ Base ./loading.jl:1094"
     ]
    }
   ],
   "source": [
    "plot(tail_sp[1,:], markershape=:square, markersize=2, label=\"χsp\", xticks = ([1,2,3,4,5],[\"c2\", \"c0-2\", \"c0-4\", \"c1-2\", \"c1-4\"]), ylabel=L\"c_2(q=(0,0,0))\")\n",
    "plot!(tail_ch[1,:], markershape=:circle, markersize=2, label=\"χch\")\n",
    "plot!(tail_upup[1,:], markershape=:hexagon, markersize=2, label=\"χupup\")"
   ]
  },
  {
   "cell_type": "code",
   "execution_count": 31,
   "metadata": {},
   "outputs": [
    {
     "ename": "LoadError",
     "evalue": "UndefVarError: tail_sp not defined",
     "output_type": "error",
     "traceback": [
      "UndefVarError: tail_sp not defined",
      "",
      "Stacktrace:",
      " [1] top-level scope",
      "   @ In[31]:1",
      " [2] eval",
      "   @ ./boot.jl:360 [inlined]",
      " [3] include_string(mapexpr::typeof(REPL.softscope), mod::Module, code::String, filename::String)",
      "   @ Base ./loading.jl:1094"
     ]
    }
   ],
   "source": [
    "plot(tail_sp[end,:], markershape=:square, markersize=2, label=\"χsp\", xticks = ([1,2,3,4,5],[\"c2\", \"c0-2\", \"c0-4\", \"c1-2\", \"c1-4\"]), ylabel=L\"c_2(q=(\\pi,\\pi\\,pi))\")\n",
    "plot!(tail_ch[end,:], markershape=:circle, markersize=2, label=\"χch\")\n",
    "plot!(tail_upup[end,:], markershape=:hexagon, markersize=2, label=\"χupup\")"
   ]
  },
  {
   "cell_type": "code",
   "execution_count": 32,
   "metadata": {},
   "outputs": [
    {
     "ename": "LoadError",
     "evalue": "UndefVarError: tail_sp not defined",
     "output_type": "error",
     "traceback": [
      "UndefVarError: tail_sp not defined",
      "",
      "Stacktrace:",
      " [1] top-level scope",
      "   @ In[32]:1",
      " [2] eval",
      "   @ ./boot.jl:360 [inlined]",
      " [3] include_string(mapexpr::typeof(REPL.softscope), mod::Module, code::String, filename::String)",
      "   @ Base ./loading.jl:1094"
     ]
    }
   ],
   "source": [
    "plot(tail_sp[:,1], markershape=:square, markersize=3, label=\"sp: c2\", ylabel=L\"c_2(q=(\\pi,\\pi\\,pi))\")\n",
    "plot!(tail_sp[:,2], markershape=:circle, markersize=3, label=\"sp: c0-2\", ylabel=L\"c_2(q=(\\pi,\\pi\\,pi))\")\n",
    "plot!(tail_sp[:,3], markershape=:hexagon, markersize=3, label=\"sp: c0-4\", ylabel=L\"c_2(q=(\\pi,\\pi\\,pi))\")\n",
    "plot!(tail_sp[:,5], markershape=:diamond, markersize=3, label=\"sp: c1-4\", ylabel=L\"c_2(q=(\\pi,\\pi\\,pi))\")\n",
    "plot!(tail_ch[:,5], markershape=:diamond, markersize=3, label=\"ch: c1-4\", ylabel=L\"c_2(q=(\\pi,\\pi\\,pi))\")"
   ]
  },
  {
   "cell_type": "code",
   "execution_count": null,
   "metadata": {},
   "outputs": [],
   "source": []
  },
  {
   "cell_type": "code",
   "execution_count": 33,
   "metadata": {},
   "outputs": [
    {
     "ename": "LoadError",
     "evalue": "UndefVarError: nlQ_sp_nλ not defined",
     "output_type": "error",
     "traceback": [
      "UndefVarError: nlQ_sp_nλ not defined",
      "",
      "Stacktrace:",
      " [1] top-level scope",
      "   @ In[33]:1",
      " [2] eval",
      "   @ ./boot.jl:360 [inlined]",
      " [3] include_string(mapexpr::typeof(REPL.softscope), mod::Module, code::String, filename::String)",
      "   @ Base ./loading.jl:1094"
     ]
    }
   ],
   "source": [
    "Σ_ladder = calc_Σ(nlQ_sp_nλ, nlQ_sp_nλ, bubble, GLoc_fft, FUpDo, qG, sumHelper_f, mP, sP)\n",
    "Σ_ladder_corrected = Σ_ladder .- Σ_ladderLoc .+ Σ_loc[1:size(Σ_ladder,1)]\n",
    "\n",
    "E_kin_lDGA, E_pot_lDGA = LadderDGA.calc_E(Σ_ladder_corrected, qG, mP, sP);"
   ]
  }
 ],
 "metadata": {
  "kernelspec": {
   "display_name": "Julia 1.6.0",
   "language": "julia",
   "name": "julia-1.6"
  },
  "language_info": {
   "file_extension": ".jl",
   "mimetype": "application/julia",
   "name": "julia",
   "version": "1.6.0"
  }
 },
 "nbformat": 4,
 "nbformat_minor": 4
}
