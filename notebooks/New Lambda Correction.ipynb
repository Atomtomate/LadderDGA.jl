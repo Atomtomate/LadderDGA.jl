{
 "cells": [
  {
   "cell_type": "code",
   "execution_count": 1,
   "metadata": {
    "scrolled": true
   },
   "outputs": [
    {
     "name": "stderr",
     "output_type": "stream",
     "text": [
      "┌ Info: Precompiling LadderDGA [78e40beb-bf89-4c0e-9d2b-bee278912f2b]\n",
      "└ @ Base loading.jl:1317\n"
     ]
    },
    {
     "name": "stdout",
     "output_type": "stream",
     "text": [
      "      From worker 6:\t\u001b[32m\u001b[1m  Activating\u001b[22m\u001b[39m environment at `~/Hamburg/LadderDGA.jl/Project.toml`\n"
     ]
    },
    {
     "name": "stderr",
     "output_type": "stream",
     "text": [
      "\u001b[32m\u001b[1m  Activating\u001b[22m\u001b[39m environment at `~/Hamburg/LadderDGA.jl/Project.toml`\n"
     ]
    },
    {
     "name": "stdout",
     "output_type": "stream",
     "text": [
      "      From worker 4:\t\u001b[32m\u001b[1m  Activating\u001b[22m\u001b[39m environment at `~/Hamburg/LadderDGA.jl/Project.toml`\n",
      "      From worker 8:\t\u001b[32m\u001b[1m  Activating\u001b[22m\u001b[39m environment at `~/Hamburg/LadderDGA.jl/Project.toml`\n",
      "      From worker 3:\t\u001b[32m\u001b[1m  Activating\u001b[22m\u001b[39m environment at `~/Hamburg/LadderDGA.jl/Project.toml`\n",
      "      From worker 7:\t\u001b[32m\u001b[1m  Activating\u001b[22m\u001b[39m environment at `~/Hamburg/LadderDGA.jl/Project.toml`\n",
      "      From worker 2:\t\u001b[32m\u001b[1m  Activating\u001b[22m\u001b[39m environment at `~/Hamburg/LadderDGA.jl/Project.toml`\n",
      "      From worker 5:\t\u001b[32m\u001b[1m  Activating\u001b[22m\u001b[39m environment at `~/Hamburg/LadderDGA.jl/Project.toml`\n"
     ]
    }
   ],
   "source": [
    "ENV[\"GKS_ENCODING\"] = \"utf-8\"\n",
    "using NLsolve\n",
    "using Plots\n",
    "using IntervalArithmetic, IntervalRootFinding\n",
    "using SharedArrays\n",
    "\n",
    "\n",
    "using HDF5\n",
    "using LadderDGA\n",
    "using Suppressor\n",
    "using Logging\n",
    "\n",
    "using Distributed\n",
    "if nprocs() == 1\n",
    "    addprocs(7)\n",
    "    @everywhere using Pkg\n",
    "    @everywhere Pkg.activate(\"/home/julian/Hamburg/LadderDGA.jl\")\n",
    "    @everywhere using LadderDGA\n",
    "end\n",
    "\n",
    "cfg_file = \"/home/julian/Hamburg/lDGA_shift_tests/configs/config_50_100_u1_b12.toml\"\n",
    "\n",
    "io = stdout\n",
    "metafmt(level::Logging.LogLevel, _module, group, id, file, line) = Logging.default_metafmt(level, nothing, group,     id, nothing, nothing)\n",
    "logger = ConsoleLogger(io, Logging.Info, meta_formatter=metafmt, show_limited=true, right_justify=0)\n",
    "global_logger(logger);"
   ]
  },
  {
   "cell_type": "code",
   "execution_count": 2,
   "metadata": {},
   "outputs": [
    {
     "name": "stdout",
     "output_type": "stream",
     "text": [
      "\u001b[36m\u001b[1m[ \u001b[22m\u001b[39m\u001b[36m\u001b[1mInfo: \u001b[22m\u001b[39mReading Inputs...\n",
      "\u001b[33m\u001b[1m[ \u001b[22m\u001b[39m\u001b[33m\u001b[1mWarning: \u001b[22m\u001b[39mTODO: check beta consistency, config <-> g0man, chi_dir <-> gamma dir\n",
      "\u001b[36m\u001b[1m[ \u001b[22m\u001b[39m\u001b[36m\u001b[1mInfo: \u001b[22m\u001b[39msetting usable ranges of sp and ch channel from 2:100 and 2:100 to the same range of 2:100\n",
      "\u001b[36m\u001b[1m[ \u001b[22m\u001b[39m\u001b[36m\u001b[1mInfo: \u001b[22m\u001b[39mComputing kinetic energie for improved bosonic sums.\n",
      "\u001b[36m\u001b[1m┌ \u001b[22m\u001b[39m\u001b[36m\u001b[1mInfo: \u001b[22m\u001b[39mInputs Read. Starting Computation.\n",
      "\u001b[36m\u001b[1m│ \u001b[22m\u001b[39mLocal susceptibilities with ranges are:\n",
      "\u001b[36m\u001b[1m│ \u001b[22m\u001b[39mχLoc_sp(2:100) = 0.3469, χLoc_ch(2:100) = 0.1454 \n",
      "\u001b[36m\u001b[1m└ \u001b[22m\u001b[39msum χupup check (fit, tail sub, tail sub + fit, expected): 0.24612360012256868 ?≈? 0.24953133196127666 ?=? 0.24942748274383794 ?≈? 0.25\"\n"
     ]
    }
   ],
   "source": [
    "mP, sP, env, kGrids, qGridLoc, freqList = readConfig(cfg_file)\n",
    "kG = kGrids[1]\n",
    "νGrid, sumHelper_f, impQ_sp, impQ_ch, GImp_fft, GLoc_fft, Σ_loc, FUpDo, gImp, gLoc = setup_LDGA(kG, freqList, mP, sP, env);"
   ]
  },
  {
   "cell_type": "code",
   "execution_count": null,
   "metadata": {},
   "outputs": [],
   "source": [
    "# ladder quantities\n",
    "bubble = calc_bubble(νGrid, GLoc_fft, kG, mP, sP);\n",
    "nlQ_sp = calc_χ_trilex(impQ_sp.Γ, bubble, kG, νGrid, sumHelper_f, mP.U, mP, sP);\n",
    "nlQ_ch = calc_χ_trilex(impQ_ch.Γ, bubble, kG, νGrid, sumHelper_f, -mP.U, mP, sP);\n",
    "\n",
    "# \"local\" correction quantities\n",
    "bubbleLoc = calc_bubble(νGrid, GImp_fft, qGridLoc, mP, sP);\n",
    "locQ_sp = calc_χ_trilex(impQ_sp.Γ, bubbleLoc, qGridLoc, νGrid, sumHelper_f, mP.U, mP, sP);\n",
    "locQ_ch = calc_χ_trilex(impQ_ch.Γ, bubbleLoc, qGridLoc, νGrid, sumHelper_f, -mP.U, mP, sP);\n",
    "Σ_ladderLoc = calc_Σ(locQ_sp, locQ_ch, bubbleLoc, GImp_fft, FUpDo,\n",
    "                     qGridLoc, sumHelper_f, mP, sP)\n",
    "\n",
    "Σ_ladderLoc = Σ_ladderLoc .+ mP.n * mP.U/2.0;\n",
    "\n",
    "nlQ_sp_nλ = deepcopy(nlQ_sp);\n",
    "nlQ_ch_nλ = deepcopy(nlQ_ch);"
   ]
  },
  {
   "cell_type": "code",
   "execution_count": null,
   "metadata": {},
   "outputs": [],
   "source": [
    "λ_sp, λ_spch  = λ_correction!(impQ_sp, impQ_ch, FUpDo, Σ_loc, Σ_ladderLoc, nlQ_sp, nlQ_ch, bubble, GLoc_fft, kG, mP, sP)"
   ]
  },
  {
   "cell_type": "code",
   "execution_count": null,
   "metadata": {},
   "outputs": [],
   "source": [
    "Σ_ladder = calc_Σ(nlQ_sp, nlQ_ch, bubble, GLoc_fft, FUpDo, kG, sumHelper_f, mP, sP)\n",
    "Σ_ladder_corrected = Σ_ladder .- Σ_ladderLoc .+ Σ_loc[1:size(Σ_ladder,1)];"
   ]
  },
  {
   "cell_type": "code",
   "execution_count": null,
   "metadata": {},
   "outputs": [],
   "source": [
    "plot(imag(Σ_ladderLoc), label=\"Ladder Loc\",markershape=:circle)\n",
    "#plot!(imag(Σ_ladder_corrected[1:40,1]), label=\"Ladder\",markershape=:circle)\n",
    "plot!(imag(Σ_loc[1:40]), label=\"DMFT\",markershape=:circle)"
   ]
  },
  {
   "cell_type": "code",
   "execution_count": null,
   "metadata": {},
   "outputs": [],
   "source": [
    "plot(imag(Σ_ladderLoc[(sP.n_iν+1):end-25]), markershape=:circle)"
   ]
  },
  {
   "cell_type": "markdown",
   "metadata": {},
   "source": [
    "# Preparation\n",
    "\n",
    "For the extended $\\lambda$ correction, we need to compute ladder kinetic and potential energy of the system and also compute the DMFT kinetic energy (for improved sums)"
   ]
  },
  {
   "cell_type": "code",
   "execution_count": null,
   "metadata": {},
   "outputs": [],
   "source": [
    "# renaming to make code consistent with module\n",
    "kGrid = kG\n",
    "iν_array = LadderDGA.iν_array\n",
    "Σ_internal! = LadderDGA.Σ_internal!\n",
    "subtract_tail = LadderDGA.subtract_tail\n",
    "χ_λ! = LadderDGA.χ_λ!\n",
    "kintegrate = LadderDGA.kintegrate\n",
    "Naive = LadderDGA.Naive\n",
    "\n",
    "# DMFT Energies\n",
    "iνₙ, GImp    = LadderDGA.readGImp(env.inputDir * \"/gm_wim\", only_positive=true)\n",
    "ϵₖ, Vₖ, μ    = LadderDGA.read_anderson_parameters(env.inputDir * \"/hubb.andpar\");\n",
    "E_kin_ED, E_pot_ED  = LadderDGA.calc_E_ED(iνₙ[1:length(GImp)], ϵₖ, Vₖ, GImp, mP)\n",
    "\n",
    "\n",
    "\n",
    "# Ladder Energies\n",
    "Σ_hartree = mP.n * mP.U/2\n",
    "E_pot_tail_c = (mP.U^2 * 0.5 * mP.n * (1-0.5*mP.n) .+ Σ_hartree .* (kGrid.ϵkGrid .+ Σ_hartree .- mP.μ))\n",
    "E_pot_tail = E_pot_tail_c' ./ (iν_array(mP.β, 0:sP.n_iν-1) .^ 2)\n",
    "E_pot_tail_inv = sum((mP.β/2)  .* [Σ_hartree .* ones(size(kGrid.ϵkGrid)), (-mP.β/2) .* E_pot_tail_c]);"
   ]
  },
  {
   "cell_type": "code",
   "execution_count": null,
   "metadata": {},
   "outputs": [],
   "source": [
    "function new_χ!(χ_λ::SharedArray, χ::SharedArray, λ::Float64)\n",
    "    for i in eachindex(χ_λ)\n",
    "        χ_λ[i] = 1.0 / ((1.0 / χ[i]) + λ)\n",
    "    end\n",
    "end\n",
    "\n",
    "νZero = sP.n_iν\n",
    "ωZero = sP.n_iω\n",
    "ωindices = intersect(nlQ_sp.usable_ω, nlQ_ch.usable_ω)\n",
    "iωn = 1im .* 2 .* (-sP.n_iω:sP.n_iω)[ωindices] .* π ./ mP.β\n",
    "sh_f = get_sum_helper(2*sP.n_iν, sP, :f)\n",
    "sh_b = LadderDGA.Naive() #get_sum_helper(length(ωindices), sP, :b)\n",
    "\n",
    "χch_ω = kintegrate(kGrid, nlQ_ch.χ[ωindices,:], dim=2)[:,1]\n",
    "χch_ω_sub = subtract_tail(χch_ω, impQ_ch.tailCoeffs[3], iωn)\n",
    "χch_sum = real(sum_freq(χch_ω_sub, [1], Naive(), mP.β, corr=-impQ_ch.tailCoeffs[3]*mP.β^2/12)[1])"
   ]
  },
  {
   "cell_type": "markdown",
   "metadata": {},
   "source": [
    "# Cond 1 Test\n",
    "## λsp(λch)"
   ]
  },
  {
   "cell_type": "code",
   "execution_count": null,
   "metadata": {},
   "outputs": [],
   "source": [
    "nh = ceil(Int64, size(nlQ_ch.χ,1)/2)\n",
    "λch_min = -1 / maximum(real.(nlQ_ch_nλ.χ[nh,:]))\n",
    "λsp_min = -1 / maximum(real.(nlQ_sp_nλ.χ[nh,:]))\n",
    "println(\"estimated smallest vaue for λ λsp ≈ $(λsp_min), λch ≈ $(λch_min)\")"
   ]
  },
  {
   "cell_type": "code",
   "execution_count": null,
   "metadata": {},
   "outputs": [],
   "source": [
    "χch_λ = Array{Complex{Float64},2}(undef,length(ωindices), size(nlQ_sp.χ,2))\n",
    "λch_range = λch_min:0.75:10\n",
    "spOfch_max_nl = zeros(length(λch_range))\n",
    "χupdo_ω = Array{eltype(nlQ_sp.χ),1}(undef, length(ωindices))\n",
    "χupup_ω = Array{eltype(nlQ_sp.χ),1}(undef, length(ωindices))\n",
    "\n",
    "for (λi,λchi) in enumerate(λch_range)\n",
    "    χsp_λ = real.(deepcopy(nlQ_sp_nλ.χ[ωindices,:]))\n",
    "    χ_λ!(χch_λ, nlQ_ch_nλ.χ[ωindices,:], λchi)\n",
    "    χch_ω = kintegrate(kGrid, χch_λ, dim=2)[:,1]\n",
    "    χch_ω_sub = subtract_tail(χch_ω, impQ_ch.tailCoeffs[3], iωn)\n",
    "    χch_sum = real(sum_freq(χch_ω_sub, [1], Naive(), mP.β, corr=-impQ_ch.tailCoeffs[3]*mP.β^2/12)[1])\n",
    "    rhs_val = (mP.n) * (1 - mP.n/2) - χch_sum\n",
    "    spOfch_max_nl[λi] = LadderDGA.λsp(χsp_λ, iωn, E_kin_ED, rhs_val, kGrid, mP)\n",
    "end"
   ]
  },
  {
   "cell_type": "code",
   "execution_count": null,
   "metadata": {
    "scrolled": false
   },
   "outputs": [],
   "source": [
    "plot(λch_range, spOfch_max_nl, ylims=(-0.5,4.5), markershape=:circle, markersize=2, xlabel=\"λch\", ylabel=\"λsp\", label=\"\")"
   ]
  },
  {
   "cell_type": "markdown",
   "metadata": {},
   "source": [
    "# cond2\n",
    "## λsp(λch)"
   ]
  },
  {
   "cell_type": "code",
   "execution_count": null,
   "metadata": {},
   "outputs": [],
   "source": [
    "nh = ceil(Int64, size(nlQ_ch.χ,1)/2)\n",
    "λch_min = -1 / maximum(real.(nlQ_ch_nλ.χ[nh,:]))"
   ]
  },
  {
   "cell_type": "code",
   "execution_count": null,
   "metadata": {},
   "outputs": [],
   "source": [
    "using SharedArrays\n",
    "\n",
    "χupdo_ω = Array{eltype(nlQ_sp.χ),1}(undef, length(ωindices))\n",
    "χupup_ω = Array{eltype(nlQ_sp.χ),1}(undef, length(ωindices))\n",
    "res = Array{Float64, 2}(undef, length(λch_range), 6)\n",
    "nlQ_sp_i = deepcopy(nlQ_sp_nλ);\n",
    "nlQ_ch_i = deepcopy(nlQ_ch_nλ);\n",
    "iωn = 1im .* 2 .* (-sP.n_iω:sP.n_iω)[ωindices] .* π ./ mP.β\n",
    "\n",
    "for i in 1:length(λch_range)\n",
    "    print(\"\\r$i of $(length(λch_range))\")\n",
    "    λsp_i = spOfch_max_nl[i]\n",
    "    λch_i = λch_range[i]\n",
    "    nlQ_sp_i.χ = LadderDGA.new_χλ(nlQ_sp_nλ.χ, λsp_i, sP)\n",
    "    nlQ_sp_i.λ = λsp_i\n",
    "    nlQ_ch_i.χ = LadderDGA.new_χλ(nlQ_ch_nλ.χ, λch_i, sP)\n",
    "    nlQ_ch_i.λ = λch_i\n",
    "    # --> sc\n",
    "    Σ_ladder_i = calc_Σ(nlQ_sp_i, nlQ_ch_i, bubble, GLoc_fft, FUpDo, kG, sumHelper_f, mP, sP)\n",
    "    Σ_λ = Σ_ladder_i .- Σ_ladderLoc .+ Σ_loc[1:size(Σ_ladder_i,1)];\n",
    "    #G_λ = LadderDGA.G_from_Σ(Σ_λ, kGrid.ϵkGrid, 0:size(Σ_ladder_i, 1)-1, mP)\n",
    "    # <-- sc\n",
    "    #E_pot_DGA_i = LadderDGA.calc_E_pot(kGrid, LadderDGA.flatten_2D(G_λ), Σ_λ, view(E_pot_tail,1:size(Σ_ladder_i, 1),:), E_pot_tail_inv)\n",
    "    E_kin_DGA, E_pot_DGA_i = LadderDGA.calc_E(Σ_λ, kGrid, mP, sP)\n",
    "    for (wi,w) in enumerate(ωindices)\n",
    "        χupup_ω[wi] = kintegrate(kGrid, nlQ_ch_i.χ[w,:] .+ nlQ_sp_i.χ[w,:])[1] / 2\n",
    "        χupdo_ω[wi] = kintegrate(kGrid, nlQ_ch_i.χ[w,:] .- nlQ_sp_i.χ[w,:])[1] / 2\n",
    "    end\n",
    "    χupup_ω = subtract_tail(χupup_ω, impQ_ch.tailCoeffs[3], iωn)\n",
    "    lhs_c1 = real(sum_freq(χupup_ω, [1], LadderDGA.Naive(), mP.β, corr=-impQ_sp.tailCoeffs[3]*mP.β^2/12)[1])\n",
    "    lhs_c2 = real(sum_freq(χupdo_ω, [1], LadderDGA.Naive(), mP.β)[1])\n",
    "    rhs_c1 = mP.n/2 * (1 - mP.n/2)\n",
    "    rhs_c2 = E_pot_DGA_i/mP.U - (mP.n/2) * (mP.n/2)\n",
    "    res[i,:] = [λsp_i λch_i lhs_c1 rhs_c1 lhs_c2 rhs_c2]\n",
    "end"
   ]
  },
  {
   "cell_type": "code",
   "execution_count": null,
   "metadata": {},
   "outputs": [],
   "source": [
    "E_kin_DGA, E_pot_DGA = LadderDGA.calc_E(Σ_ladder_corrected, kGrid, mP, sP)"
   ]
  },
  {
   "cell_type": "code",
   "execution_count": null,
   "metadata": {},
   "outputs": [],
   "source": [
    "xarr = 2:length(λch_range)\n",
    "plot(λch_range[xarr], res[xarr,5] .- res[xarr,6], markershape=:square, markersize=2, label=\"∑ χ updo\")\n",
    "plot!(λch_range[xarr],res[xarr,3] .- res[xarr,4], markershape=:square, markersize=2, label=\"G ⋆ Σ\")\n",
    "#plot!(λch_range, spOfch_max_nl, ylims=(-5,5), markershape=:circle, markersize=2, xlabel=\"λch\", ylabel=\"λsp\", label=\"\")"
   ]
  },
  {
   "cell_type": "code",
   "execution_count": null,
   "metadata": {},
   "outputs": [],
   "source": []
  },
  {
   "cell_type": "code",
   "execution_count": null,
   "metadata": {},
   "outputs": [],
   "source": [
    "plot(real(Σ_loc))\n",
    "plot!(real(Σ_ladder_corrected[:,1]))"
   ]
  },
  {
   "cell_type": "markdown",
   "metadata": {},
   "source": [
    "# extended Lambda test"
   ]
  },
  {
   "cell_type": "markdown",
   "metadata": {},
   "source": [
    "# Condition 2"
   ]
  },
  {
   "cell_type": "code",
   "execution_count": null,
   "metadata": {},
   "outputs": [],
   "source": [
    "println(minimum((lhs_overview .- rhs_overview)))\n",
    "writedlm(\"cond2_lhs.csv\",  lhs_overview , ' ')\n",
    "writedlm(\"cond2_rhs.csv\",  rhs_overview , ' ')\n",
    "plot(heatmap(λch_range_c2, λsp_range_c2, (lhs_overview .- rhs_overview), xlabel=L\"\\lambda_\\mathrm{ch}\", ylabel=L\"\\mathrm{max}(\\lambda_\\mathrm{sp})\", title=L\"|\\sum \\chi_\\mathrm{m}(\\omega,q) -  U (G^\\lambda \\star \\Sigma^\\lambda + \\frac{n^2}{4})|\"), \n",
    "    heatmap(λch_range_c2, λsp_range_c2, rhs_overview, xlabel=L\"\\lambda_\\mathrm{ch}\", ylabel=L\"\\mathrm{max}(\\lambda_\\mathrm{sp})\", title=L\"U (G^\\lambda \\star \\Sigma^\\lambda + \\frac{n^2}{4})\"), \n",
    "    heatmap(λch_range_c2, λsp_range_c2, lhs_overview, xlabel=L\"\\lambda_\\mathrm{ch}\", ylabel=L\"\\mathrm{max}(\\lambda_\\mathrm{sp})\", title=L\"\\sum \\chi_\\mathrm{m}(\\omega,q)\"),\n",
    "    plot(λch_range[9:end-82], spOfch_max_nl[2,9:end-82], title=L\"\\sum \\chi_\\mathrm{d}(\\omega, q) \\stackrel{!}{=} \\frac{n}{2} (1 - \\frac{n}{2})\", label=L\"\\lambda_\\mathrm{sp}(\\lambda_\\mathrm{ch})\", xlabel=L\"\\lambda_\\mathrm{ch}\", ylabel=L\"\\mathrm{max}(\\lambda_\\mathrm{sp})\", markershape=:hexagon, markersize=2.8),\n",
    "    layout=(2,2),size=(900,800))\n"
   ]
  },
  {
   "cell_type": "code",
   "execution_count": null,
   "metadata": {},
   "outputs": [],
   "source": [
    "println(minimum((lhs_overview2 .+ rhs_overview2)))\n",
    "writedlm(\"cond2_lhs2.csv\",  lhs_overview2, ' ')\n",
    "writedlm(\"cond2_rhs2.csv\",  rhs_overview2, ' ')\n",
    "plot(heatmap(λch_range_c22, λsp_range_c22, (lhs_overview2 .- rhs_overview2), xlabel=L\"\\lambda_\\mathrm{ch}\", ylabel=L\"\\mathrm{max}(\\lambda_\\mathrm{sp})\", title=L\"|\\sum \\chi_\\mathrm{m}(\\omega,q) - G^\\lambda \\star \\Sigma^\\lambda|\"), \n",
    "    heatmap(λch_range_c22, λsp_range_c22, rhs_overview2, xlabel=L\"\\lambda_\\mathrm{ch}\", ylabel=L\"\\mathrm{max}(\\lambda_\\mathrm{sp})\", title=L\"G^\\lambda \\star \\Sigma^\\lambda\"), \n",
    "    heatmap(λch_range_c22, λsp_range_c22, lhs_overview2, xlabel=L\"\\lambda_\\mathrm{ch}\", ylabel=L\"\\mathrm{max}(\\lambda_\\mathrm{sp})\", title=L\"\\sum \\chi_\\mathrm{m}(\\omega,q)\"),\n",
    "    plot(λch_range[9:end-82], spOfch_max_nl[2,9:end-82], title=L\"\\sum \\chi_\\mathrm{d}(\\omega, q) \\stackrel{!}{=} \\frac{n}{2} (1 - \\frac{n}{2})\", label=L\"\\lambda_\\mathrm{sp}(\\lambda_\\mathrm{ch})\", xlabel=L\"\\lambda_\\mathrm{ch}\", ylabel=L\"\\mathrm{max}(\\lambda_\\mathrm{sp})\", markershape=:hexagon, markersize=2.8),\n",
    "    layout=(2,2),size=(900,800))\n"
   ]
  },
  {
   "cell_type": "markdown",
   "metadata": {},
   "source": [
    "# Both conditions"
   ]
  },
  {
   "cell_type": "code",
   "execution_count": null,
   "metadata": {},
   "outputs": [],
   "source": [
    "mP = LadderDGA.modelParams\n",
    "sP = LadderDGA.simParams\n",
    "nc = [0,1,2,3]\n",
    "NW = floor(Int64, length(usable_ω)/2)\n",
    "ωmin = 1\n",
    "ωmax = NW \n",
    "coeffs = collect(0:3)\n",
    "Wω = LadderDGA.build_weights(ωmin, ωmax, coeffs)\n",
    "println(\"building  weight matrix from $ωmin to $ωmax with coefficients $(coeffs)\")\n",
    "include(\"src/ConvergenceAcc.jl\")\n",
    "#Shanks.shanks(E_Pot, csum_inp=true) \n",
    "\n",
    "testf_c2(λspi , λchi) = LadderDGA.calc_E_pot_cond(λspi , λchi, nlQ_sp, nlQ_ch, bubble, \n",
    "                         LadderDGA.ϵkGrid, LadderDGA.FUpDo, \n",
    "                         LadderDGA.Σ_loc_pos,Σ_ladderLoc,\n",
    "                         LadderDGA.qIndices, LadderDGA.qMultiplicity, \n",
    "                         mP, sP, sP.tail_corrected);\n",
    "function cond_both_nc!(F, λ)\n",
    "    testf!(λ) = construct_f(λ[1],λchi, rχsp, rχch, mode=m, rhs=rhs_val)\n",
    "    testdf!(λ) = construct_df(λ[1], λchi, rχsp, rχch, mode=m, rhs=rhs_val);\n",
    "    Σ_ladder2, lhs_c2, E_pot_DGA = testf_c2(λ[1], λ[2])\n",
    "    χsp_λ = LadderDGA.χ_λ(real.(nlQ_sp.χ), λ[1])\n",
    "    χch_λ = LadderDGA.χ_λ(real.(nlQ_ch.χ), λ[2])\n",
    "    χupup = LadderDGA.sum_q(χch_λ[usable_ω,:].+ χsp_λ[usable_ω,:], LadderDGA.qMultiplicity, dims=2)[:,1] ./ 2\n",
    "    nwh = ceil(Int64, size(χsp_λ,1)/2)\n",
    "    penalty = sum(abs.(χsp_λ[nwh,(χsp_λ[nwh,:] .< 0)])) + sum(abs.(χch_λ[nwh,(χch_λ[nwh,:] .< 0)])) \n",
    "    #penalty2 = length(χch_λ[nwh,((χch_λ[nwh,:] .< 0.01) .& (χch_λ[nwh,:] .>= 0.0))])\n",
    "    tmp =  real(LadderDGA.sum_freq(χupup, [1], true, mP.β, weights=Wω)[1]) \n",
    "    #tmp += -penalty\n",
    "    lhs_c1 = (mP.n/2) * (1 - mP.n/2)\n",
    "    println(\"calling for λ=$λ, E_pot=$(E_pot_DGA), penalty = $penalty\")\n",
    "    F[1] = penalty > 0 ? penalty : tmp - lhs_c1\n",
    "    F[2] = (lhs_c2) - E_pot_DGA# - penalty\n",
    "end\n",
    "\n",
    "function cond_both_c!(F, λ)\n",
    "    Σ_ladder2, lhs_c2, E_pot_DGA = LadderDGA.calc_E_pot_cond(λ[1], λ[2], nlQ_sp, nlQ_ch, bubble, \n",
    "                     LadderDGA.ϵkGrid, LadderDGA.FUpDo, \n",
    "                     LadderDGA.Σ_loc_pos,Σ_ladderLoc,\n",
    "                     LadderDGA.qIndices, LadderDGA.qMultiplicity, \n",
    "                     mP, sP, sP.tail_corrected, E_pot_tail_corr=true);\n",
    "    χsp_λ = LadderDGA.χ_λ(real.(nlQ_sp.χ), λ[1])\n",
    "    χch_λ = LadderDGA.χ_λ(real.(nlQ_ch.χ), λ[2])\n",
    "    χupup = LadderDGA.sum_q(χch_λ[usable_ω,:].+ χsp_λ[usable_ω,:], LadderDGA.qMultiplicity, dims=2)[:,1] ./ 2\n",
    "    nwh = ceil(Int64, size(χsp_λ,1)/2)\n",
    "    penalty = sum(abs.(χsp_λ[nwh,(χsp_λ[nwh,:] .< 0)])) + sum(abs.(χch_λ[nwh,(χch_λ[nwh,:] .< 0)])) \n",
    "    #penalty2 = length(χch_λ[nwh,((χch_λ[nwh,:] .< 0.01) .& (χch_λ[nwh,:] .>= 0.0))])\n",
    "    tmp =  real(LadderDGA.sum_freq(χupup, [1], true, mP.β, weights=Wω)[1]) \n",
    "    #tmp += -penalty\n",
    "    lhs_c1 = mP.n/2 * (1 - mP.n/2)\n",
    "    println(\"calling for λ=$(round.(λ,digits=2)), E_pot=$(E_pot_DGA), res = $(abs(tmp - lhs_c1) + abs(E_pot_DGA + (lhs_c2))), penalty = $penalty\")\n",
    "    F[1] = penalty > 0 ? penalty : tmp - lhs_c1\n",
    "    F[2] = (lhs_c2) - E_pot_DGA\n",
    "    #F[3] = mP.n - sum(Gμλ)\n",
    "end"
   ]
  },
  {
   "cell_type": "code",
   "execution_count": null,
   "metadata": {},
   "outputs": [],
   "source": [
    "using LaTeXStrings\n",
    "χsp_λ = LadderDGA.χ_λ(real.(nlQ_sp.χ[usable_ω,:]), res_nc.zero[1])\n",
    "χch_λ = LadderDGA.χ_λ(real.(nlQ_ch.χ[usable_ω,:]), res_nc.zero[2])\n",
    "χupup = LadderDGA.sum_q(χch_λ .+ χsp_λ, LadderDGA.qMultiplicity, dims=2)[:,1] ./ 2\n",
    "χupdo = LadderDGA.sum_q(χch_λ .- χsp_λ, LadderDGA.qMultiplicity, dims=2)[:,1] ./ 2\n",
    "rhs_c1 = real(LadderDGA.sum_freq(χupup, [1], true, mP.β, weights=Wω)[1])  \n",
    "rhs_c2 = mP.U * real(LadderDGA.sum_freq(χupdo, [1], true, mP.β, weights=Wω)[1])  + mP.n^2/4\n",
    "lhs_c1 = mP.n/2 * (1 - mP.n/2)\n",
    "Σ_ladder2, lhs_c2, E_pot_DGA = LadderDGA.calc_E_pot_cond(res_nc.zero[1], res_nc.zero[2], nlQ_sp, nlQ_ch, bubble, \n",
    "                     LadderDGA.ϵkGrid, LadderDGA.FUpDo, \n",
    "                     LadderDGA.Σ_loc_pos,Σ_ladderLoc,\n",
    "                     LadderDGA.qIndices, LadderDGA.qMultiplicity, \n",
    "                     mP, sP, sP.tail_corrected, E_pot_tail_corr=false);\n",
    "E_Kin, E_Pot = LadderDGA.calc_E(Σ_ladder2, LadderDGA.ϵqGrid, LadderDGA.qMultiplicity, sP.Nk, mP, sP);\n",
    "\n",
    "\n",
    "l = @layout [A{0.01h}; \n",
    "             [grid(1,2)\n",
    "              b{0.3h}]]\n",
    "nhi = 20\n",
    "xarr = usable_ω .- ceil(Int64, size(bubble,1)/2)\n",
    "title = plot(title = L\"U=%$(mP.U), \\beta=%$(mP.β)\", grid = false, showaxis = false, bottom_margin = -50Plots.px)\n",
    "p1 = plot(xarr, χsp_λ[:,1], legend = true, xlabel=L\"\\omega_n\", ylabel=L\"\\chi^\\lambda_{\\mathrm{sp}}\", label=\"q=$(round.(LadderDGA.qGrid[1],digits=2))\", markershape=:circle, markersize=2)\n",
    "plot!(xarr, χsp_λ[:,nhi], label=\"q=$(round.(LadderDGA.qGrid[nhi],digits=2))\", markershape=:circle, markersize=2)\n",
    "plot!(xarr, χsp_λ[:,end], label=\"q=$(round.(LadderDGA.qGrid[end],digits=2))\", markershape=:circle, markersize=2)\n",
    "annotate_y_pos = 0.7*maximum([maximum(χsp_λ[:,1]), maximum(χsp_λ[:,nhi]), maximum(χsp_λ[:,end])])\n",
    "annotate!(xarr[end-2], annotate_y_pos, text(L\"\\lambda_\\mathrm{sp} = %$(round(res_nc.zero[1],digits=3))\", :right, 10))\n",
    "\n",
    "    \n",
    "p2 = plot(xarr, χch_λ[:,1], legend = false, xlabel=L\"\\omega_n\", ylabel=L\"\\chi^\\lambda_{\\mathrm{ch}}\", label=\"q=$(round.(LadderDGA.qGrid[1],digits=2))\", markershape=:hexagon, markersize=2)\n",
    "plot!(xarr, χch_λ[:,nhi], label=\"q=$(round.(LadderDGA.qGrid[nhi],digits=2))\", markershape=:hexagon, markersize=2)\n",
    "plot!(xarr, χch_λ[:,end], label=\"q=$(round.(LadderDGA.qGrid[end],digits=2))\", markershape=:hexagon, markersize=2)\n",
    "annotate_y_pos = 0.75*maximum([maximum(χch_λ[:,1]), maximum(χch_λ[:,nhi]), maximum(χch_λ[:,end])])\n",
    "annotate!(xarr[end-2], annotate_y_pos, text(L\"\\lambda_\\mathrm{ch} = %$(round(res_nc.zero[2],digits=3))\", :right, 10))\n",
    "\n",
    "\n",
    "p3 = plot(E_Pot, xlabel=L\"\\nu_n\", label=L\"\\qquad\\qquad\\;\\;\\; G^\\lambda \\star \\Sigma^\\lambda = %$(round(E_Pot[end], digits=6))\", markershape=:hexagon, markersize=2,legend=:bottomright, legendfontsize=9)\n",
    "plot!([rhs_c2], seriestype = :hline, label=L\"\\frac{1}{\\beta N_k} \\sum_{\\omega,q} \\chi_\\mathrm{up, do}\\quad\\, = %$(round(rhs_c2, digits=6))\")\n",
    "plot!([E_Pot[end]], seriestype = :hline, linestyle=:dash, label=L\"\\mathrm{\\;\\;\\;naive\\;E}_\\mathrm{pot, LDGA} = %$(round(E_pot_DGA, digits=6))\")\n",
    "annotate_y_pos = (0.3*(maximum(E_Pot) - minimum(E_Pot)) + minimum(E_Pot))\n",
    "annotate!(0.2*length(E_Pot), annotate_y_pos, text(L\"\\frac{1}{\\beta N_k}\\sum_{\\omega,q} \\chi_\\mathrm{up, up} = %$(round(rhs_c1,digits=14)) \\stackrel{!}{=} \\frac{n}{2} (1-\\frac{n}{2}) = %$(mP.n/2 *(1 - mP.n/2))\", :left, 10))\n",
    "\n",
    "plot(title, p1, p2, p3, layout = l, size=(1000,800))\n",
    "#savefig(\"cond_solution_tc_test_b15U2.pdf\")"
   ]
  },
  {
   "cell_type": "code",
   "execution_count": null,
   "metadata": {},
   "outputs": [],
   "source": [
    "using LaTeXStrings\n",
    "\n",
    "χsp_λ = LadderDGA.χ_λ(real.(nlQ_sp.χ[usable_ω,:]), res_nc.zero[1])\n",
    "χch_λ = LadderDGA.χ_λ(real.(nlQ_ch.χ[usable_ω,:]), res_nc.zero[2])\n",
    "χsp_λ_old = LadderDGA.χ_λ(real.(nlQ_sp.χ[usable_ω,:]),0.050817859568877091)\n",
    "χch_λ_old = LadderDGA.χ_λ(real.(nlQ_ch.χ[usable_ω,:]), 0.0)\n",
    "χupup = LadderDGA.sum_q(χch_λ .+ χsp_λ, LadderDGA.qMultiplicity, dims=2)[:,1] ./ 2\n",
    "χupdo = LadderDGA.sum_q(χch_λ .- χsp_λ, LadderDGA.qMultiplicity, dims=2)[:,1] ./ 2\n",
    "rhs_c1 = real(LadderDGA.sum_freq(χupup, [1], true, mP.β, weights=Wω)[1])  \n",
    "rhs_c2 = mP.U * real(LadderDGA.sum_freq(χupdo, [1], true, mP.β, weights=Wω)[1])  + mP.n^2/4\n",
    "lhs_c1 = mP.n/2 * (1 - mP.n/2)\n",
    "Σ_ladder2, lhs_c2, E_pot_DGA = LadderDGA.calc_E_pot_cond(res_nc.zero[1], res_nc.zero[2], nlQ_sp, nlQ_ch, bubble, \n",
    "                     LadderDGA.ϵkGrid, LadderDGA.FUpDo, \n",
    "                     LadderDGA.Σ_loc_pos,Σ_ladderLoc,\n",
    "                     LadderDGA.qIndices, LadderDGA.qMultiplicity, \n",
    "                     mP, sP, sP.tail_corrected, E_pot_tail_corr=false);\n",
    "E_Kin, E_Pot = LadderDGA.calc_E(Σ_ladder2, LadderDGA.ϵqGrid, LadderDGA.qMultiplicity, sP.Nk, mP, sP);\n",
    "E_Kin_naive, E_Pot_naive = calc_E_notail(Σ_ladder2, LadderDGA.ϵqGrid, LadderDGA.qMultiplicity, sP.Nk, mP, sP);\n",
    "l = @layout [A{0.025h}; \n",
    "             grid(1,2)]\n",
    "nhi = 20\n",
    "xarr = usable_ω .- ceil(Int64, size(bubble,1)/2)\n",
    "title = plot(title = L\"U=%$(mP.U), \\beta=%$(mP.β)\", grid = false, showaxis = false, bottom_margin = -50Plots.px, titlefontsize=18)\n",
    "p1 = plot(xarr, χsp_λ_old[:,end], label=L\"\\mathrm{Old\\;Method:}\\;\\; \\lambda_\\mathrm{sp} = 0.051\", markershape=:circle, markersize=3, markerstrokewidth=0.6)\n",
    "plot!(xarr, χsp_λ[:,end], color=:orange, legend = :outertop, xlabel=L\"\\omega_n\", ylabel=L\"\\chi^\\lambda_{\\mathrm{sp}}\", label=L\"\\mathrm{New\\;Method:}\\; \\lambda_\\mathrm{sp} = %$(round(res_nc.zero[1],digits=3))\", markershape=:hexagon, markerstrokewidth=0.6, markersize=3,\n",
    "    xtickfontsize=12,ytickfontsize=12,legendfontsize=12,xguidefontsize=16,yguidefontsize=16, margin=4Plots.mm)\n",
    "#plot!(xarr, χsp_λ[:,nhi], label=\"q=$(round.(LadderDGA.qGrid[nhi],digits=2))\", markershape=:circle, markersize=2)\n",
    "#p1 = plot(xarr, χsp_λ[:,end], label=L\"q=$(\\pi,\\pi,\\pi)\", markershape=:circle, markersize=2)\n",
    "annotate_y_pos = 0.7*maximum([maximum(χsp_λ[:,1]), maximum(χsp_λ[:,nhi]), maximum(χsp_λ[:,end])])\n",
    "#annotate!(xarr[end-2], annotate_y_pos, text(L\"\\lambda_\\mathrm{sp} = %$(round(res_nc.zero[1],digits=3))\", :right, 10))\n",
    "annotate!(xarr[end-2], annotate_y_pos, text(L\"\\vec{q}=(\\pi,\\pi,\\pi)\", :right, 16))\n",
    "    \n",
    "p2 = plot(xarr, χch_λ_old[:,end], label=L\"\\mathrm{Old\\;Method:}\\;\\; \\lambda_\\mathrm{ch} = 0\", markershape=:circle, markersize=3, markerstrokewidth=0.6)\n",
    "plot!(xarr, χch_λ[:,end], color=:orange, legend = :outertop, xlabel=L\"\\omega_n\", ylabel=L\"\\chi^\\lambda_{\\mathrm{ch}}\", label=L\"\\mathrm{New\\;Method:}\\; \\lambda_\\mathrm{ch} = %$(round(res_nc.zero[2],digits=3))\", markershape=:hexagon, markersize=3, markerstrokewidth=0.6,xtickfontsize=12,ytickfontsize=12,legendfontsize=12,xguidefontsize=16,yguidefontsize=16)\n",
    "#plot!(xarr, χch_λ[:,nhi], label=\"q=$(round.(LadderDGA.qGrid[nhi],digits=2))\", markershape=:hexagon, markersize=2)\n",
    "#plot!(xarr, χch_λ[:,end], label=\"q=$(round.(LadderDGA.qGrid[end],digits=2))\", markershape=:hexagon, markersize=2)\n",
    "annotate_y_pos = 0.75*maximum([maximum(χch_λ[:,1]), maximum(χch_λ[:,nhi]), maximum(χch_λ[:,end])])\n",
    "#annotate!(xarr[end-2], annotate_y_pos, text(L\"\\lambda_\\mathrm{ch} = %$(round(res_nc.zero[2],digits=3))\", :right, 10))\n",
    "annotate!(xarr[end-2], annotate_y_pos, text(L\"\\vec{q}=(\\pi,\\pi,\\pi)\", :right, 16))\n",
    "\n",
    "\n",
    "\n",
    "plot(title, p1, p2, layout = l, size=(1200,600))\n",
    "#savefig(\"cond_solution_tc_test_b25U1.pdf\")"
   ]
  },
  {
   "cell_type": "code",
   "execution_count": null,
   "metadata": {},
   "outputs": [],
   "source": [
    "l2 = @layout [A{0.025h}; \n",
    "             grid(2,1)]\n",
    "\n",
    "t = [real(mP.U * real(LadderDGA.sum_freq(χupdo[i+1:(end-i)], [1], true, mP.β, weights=LadderDGA.build_weights(1, floor(Int64, size(χupup[i+1:(end-i)], 1)/2), collect(0:3)))[1])  + mP.n^2/4) for i in 8:-1:0]\n",
    "\n",
    "nanline = repeat([NaN], length(E_Pot))\n",
    "p3 = plot(E_Pot_naive, xlabel=L\"\\nu_\\mathrm{max}\", \n",
    "    label=L\"\\;\\;\\;\\frac{1}{\\beta N_k}\\sum_{\\nu,q} G^\\lambda \\star \\Sigma^\\lambda\\, = %$(round(E_Pot_naive[end], digits=6))\",\n",
    "    markershape=:hexagon, markersize=2, markerstrokewidth=0.4,legend=:bottomright, margin=1Plots.mm,\n",
    "    xtickfontsize=12,ytickfontsize=12, legendfontsize=12,xguidefontsize=16,yguidefontsize=16)\n",
    "plot!(nanline, label=\" \", alpha= 0.0)\n",
    "#[rhs_c2], seriestype = :hline\n",
    "plot!(nh-9:nh-1,t,markershape=:hexagon, color=:orange, markersize=4, markerstrokewidth=0.4, label=L\"\\quad\\;\\mathrm{SumFit}_{\\omega}[\\chi_\\mathrm{up, do}] = %$(round(rhs_c2, digits=6))\")\n",
    "plot!([rhs_c2], seriestype = :hline, label=nothing, color=:orange)\n",
    "plot!(nanline, label=\" \", alpha= 0.0)\n",
    "plot!([E_Pot], markershape=:hexagon, markersize=2, markerstrokewidth=0.4, \n",
    "    label=L\"{\\mathrm{SumFit}_{\\nu}[G^\\lambda \\star \\Sigma^\\lambda]\\, = %$(round(E_Pot[end], digits=6))}\")\n",
    "\n",
    "naive_chiupup_sum = (χupup[nh] .+ 2 .* cumsum(χupup[nh+1:end])) ./ mP.β\n",
    "tt = [real(LadderDGA.sum_freq(χupup[i+1:(end-i)], [1], true, mP.β, weights=LadderDGA.build_weights(1, floor(Int64, size(χupup[i+1:(end-i)], 1)/2), collect(0:3)))[1]) for i in 8:-1:0]\n",
    "real(LadderDGA.sum_freq(χupup, [1], true, mP.β, weights=Wω)[1]) \n",
    "\n",
    "nanline = repeat([NaN], length(tt))\n",
    "p4 = plot(1:nh-1,naive_chiupup_sum, xlabel=L\"\\omega_\\mathrm{max}\", \n",
    "    label=L\"\\;\\;\\;\\frac{1}{\\beta N_k}\\sum_{\\omega,q} \\chi_\\mathrm{up, up} =   %$(round(naive_chiupup_sum[end],digits=4))\", xticks=collect(1:nh-1), margin=5Plots.mm,\n",
    "    markershape=:hexagon, markersize=2, markerstrokewidth=0.4,legend=:bottomright,xtickfontsize=12,ytickfontsize=12, legendfontsize=12,xguidefontsize=16,yguidefontsize=16)\n",
    "plot!(nanline, label=\" \", alpha= 0.0)\n",
    "plot!(nh-9:nh-1,tt,markershape=:hexagon, markersize=2, markerstrokewidth=0.4, color=:orange, label=L\"\\mathrm{SumFit}_{\\omega}[\\chi_\\mathrm{up, up}] = %$(round(rhs_c1,digits=4))\")\n",
    "plot!(nanline, label=\" \", alpha= 0.0)\n",
    "\n",
    "plot!([0.25], seriestype = :hline, color=:green, label=L\"\\qquad\\;\\frac{n}{2}\\left({1-\\frac{n}{2}}\\right) = \\frac{1}{4}\")\n",
    "annotate_y_pos = (0.08*(maximum(χupup) - minimum(χupup)) + minimum(χupup))\n",
    "#annotate!(0.3*length(1:nh-1), annotate_y_pos, text(L\"\\frac{1}{\\beta N_k}\\sum_{\\omega,q} \\chi_\\mathrm{up, up} = %$(round(rhs_c1,digits=12)) \\stackrel{!}{=} \\frac{n}{2} (1-\\frac{n}{2}) = %$(mP.n/2 *(1 - mP.n/2))\", :left, 14))\n",
    "\n",
    "plot(title, p3, p4, layout = l2, size=(1200,600))\n",
    "#savefig(\"cond_solution_tc_test_b25U1_2.pdf\")"
   ]
  },
  {
   "cell_type": "code",
   "execution_count": null,
   "metadata": {},
   "outputs": [],
   "source": [
    "using LaTeXStrings\n",
    "usable_ω = ωindices\n",
    "lsp_zero = 0.04856121321074435#res_c.zero[1]\n",
    "lch_zero = 0.1292099471786603#res_c.zero[2]\n",
    "χsp_λ = LadderDGA.χ_λ(real.(nlQ_sp.χ[usable_ω,:]), lsp_zero)\n",
    "χch_λ = LadderDGA.χ_λ(real.(nlQ_ch.χ[usable_ω,:]), lch_zero)\n",
    "χupup = LadderDGA.kintegrate(qG, χch_λ .+ χsp_λ, dim=2)[:,1] ./ 2\n",
    "χupdo = LadderDGA.kintegrate(qG, χch_λ .- χsp_λ, dim=2)[:,1] ./ 2\n",
    "rhs_c1 = real(LadderDGA.sum_freq(χupup, [1], Naive(), mP.β)[1])  \n",
    "rhs_c2 = mP.U * real(LadderDGA.sum_freq(χupdo, [1], Naive(), mP.β)[1])  + mP.n^2/4\n",
    "lhs_c1 = (mP.n/2) * (1 - mP.n/2)\n",
    "Σ_ladder2, lhs_c2, E_pot_DGA = LadderDGA.calc_E_pot_cond(lsp_zero, lch_zero, nlQ_sp, nlQ_ch, bubble, \n",
    "                     LadderDGA.ϵkGrid, LadderDGA.FUpDo, \n",
    "                     LadderDGA.Σ_loc_pos,Σ_ladderLoc,\n",
    "                     LadderDGA.qIndices, LadderDGA.qMultiplicity, \n",
    "                     mP, sP, sP.tail_corrected, E_pot_tail_corr=true);\n",
    "E_Kin, E_Pot = LadderDGA.calc_E(Σ_ladder2, LadderDGA.ϵqGrid, LadderDGA.qMultiplicity, sP.Nk, mP, sP);\n",
    "\n",
    "l = @layout [A{0.01h}; \n",
    "             [grid(1,2)\n",
    "              b{0.3h}]]\n",
    "nhi = 20\n",
    "xarr = usable_ω .- ceil(Int64, size(bubble,1)/2)\n",
    "title = plot(title = L\"U=%$(mP.U), \\beta=%$(mP.β), \\mathrm{E}_\\mathrm{pot} \\mathrm{\\;extrapolated}\", grid = false, showaxis = false, bottom_margin = -50Plots.px)\n",
    "p1 = plot(xarr, χsp_λ[:,1], legend = true, xlabel=L\"\\omega_n\", ylabel=L\"\\chi^\\lambda_{\\mathrm{sp}}\", label=\"q=$(round.(LadderDGA.qGrid[1],digits=2))\", markershape=:circle, markersize=2)\n",
    "plot!(xarr, χsp_λ[:,nhi], label=\"q=$(round.(LadderDGA.qGrid[nhi],digits=2))\", markershape=:circle, markersize=2)\n",
    "plot!(xarr, χsp_λ[:,end], label=\"q=$(round.(LadderDGA.qGrid[end],digits=2))\", markershape=:circle, markersize=2)\n",
    "annotate_y_pos = 0.7*maximum([maximum(χsp_λ[:,1]), maximum(χsp_λ[:,nhi]), maximum(χsp_λ[:,end])])\n",
    "annotate!(xarr[end-2], annotate_y_pos, text(L\"\\lambda_\\mathrm{sp} = %$(round(lsp_zero,digits=3))\", :right, 10))\n",
    "    \n",
    "p2 = plot(xarr, χch_λ[:,1], legend = false, xlabel=L\"\\omega_n\", ylabel=L\"\\chi^\\lambda_{\\mathrm{ch}}\", label=\"q=$(round.(LadderDGA.qGrid[1],digits=2))\", markershape=:hexagon, markersize=2)\n",
    "plot!(xarr, χch_λ[:,nhi], label=\"q=$(round.(LadderDGA.qGrid[nhi],digits=2))\", markershape=:hexagon, markersize=2)\n",
    "plot!(xarr, χch_λ[:,end], label=\"q=$(round.(LadderDGA.qGrid[end],digits=2))\", markershape=:hexagon, markersize=2)\n",
    "annotate_y_pos = 0.75*maximum([maximum(χch_λ[:,1]), maximum(χch_λ[:,nhi]), maximum(χch_λ[:,end])])\n",
    "annotate!(xarr[end-2], annotate_y_pos, text(L\"\\lambda_\\mathrm{ch} = %$(round(lch_zero,digits=3))\", :right, 10))\n",
    "\n",
    "\n",
    "p3 = plot(E_Pot, xlabel=L\"\\nu_n\", label=L\"\\qquad\\qquad\\;\\;\\; G^\\lambda \\star \\Sigma^\\lambda = %$(round(E_Pot[end], digits=6))\", markershape=:hexagon, markersize=2,legend=:bottomright, legendfontsize=10)\n",
    "plot!(repeat([rhs_c2], length(E_Pot)), label=L\"\\frac{1}{\\beta N_k} \\sum_{\\omega,q} \\chi_\\mathrm{up, do}\\quad\\, = %$(round(rhs_c2, digits=6))\")\n",
    "#plot!([E_pot_DGA[1]], seriestype = :hline, linestyle=:dash, label=L\"\\qquad\\qquad\\mathrm{E}_\\mathrm{pot, LDGA} = %$(round(E_pot_DGA[1], digits=6))\")\n",
    "plot!([E_Pot[end]], seriestype = :hline, linestyle=:dash, label=L\"\\mathrm{\\;\\;\\;naive\\;E}_\\mathrm{pot, LDGA} = %$(round(E_pot_DGA[1], digits=6))\")\n",
    "annotate_y_pos = (0.3*(maximum(E_Pot) - minimum(E_Pot)) + minimum(E_Pot))\n",
    "annotate!(0.2*length(E_Pot), annotate_y_pos, text(L\"\\frac{1}{\\beta N_k}\\sum_{\\omega,q} \\chi_\\mathrm{up, up} = %$(round(rhs_c1,digits=14)) \\stackrel{!}{=} \\frac{n}{2} (1-\\frac{n}{2}) = %$(mP.n/2 *(1 - mP.n/2))\", :left, 10))\n",
    "\n",
    "plot(title, p1, p2, p3, layout = l, size=(1000,800))\n",
    "savefig(\"cond_solution_tc_test_b25U1.pdf\")"
   ]
  },
  {
   "cell_type": "markdown",
   "metadata": {},
   "source": [
    "# q-dependent correction"
   ]
  },
  {
   "cell_type": "markdown",
   "metadata": {},
   "source": [
    "## Fit and subtract old $\\frac{1}{i\\omega^2}$ tail"
   ]
  },
  {
   "cell_type": "code",
   "execution_count": null,
   "metadata": {},
   "outputs": [],
   "source": [
    "using LsqFit\n",
    "tail_func(iωn, c)  = sum([c[n] ./ (iωn .^ (n-1)) for n in 1:length(c)])\n",
    "tail_func_n0(iωn, c)  = sum([c[n] ./ (iωn .^ (n)) for n in 1:length(c)])\n",
    "tail_func_real(iωn, c)  = real(sum([c[n] ./ (iωn .^ (n-1)) for n in 1:length(c)]))\n",
    "tail_func_real_n0(iωn, c)  = real(sum([c[n] ./ (iωn .^ (n)) for n in 1:length(c)]))\n",
    "\n",
    "tail_func(iωn, c) = sum([c[n] ./ (iωn .^ (n-1)) for n in 1:length(c)])\n",
    "tail_func_r(iωn, c) = real(sum([c[n] ./ (iωn .^ (n-1)) for n in 1:length(c)]))\n",
    "tail_func_0(iωn, c) = c ./ (iωn .^ 0)\n",
    "tail_func_1(iωn, c) = c ./ (iωn .^ 1)\n",
    "tail_func_2(iωn, c) = real.(c ./ (iωn .^ 2))\n",
    "\n",
    "rχsp = real.(nlQ_sp_nλ.χ)\n",
    "rχch = real.(nlQ_ch_nλ.χ)\n",
    "rχupup = 0.5 .* real.(rχsp .+ rχch)\n",
    "\n",
    "nh   = ceil(Int64, size(rχsp,1)/2) + 20\n",
    "ωindices_q = nh:last(ωindices)\n",
    "min_ω = 1\n",
    "qind = 1\n",
    "p2 = [1.0]\n",
    "p0_2 = [0.0, 0.0, 1.0]\n",
    "p0_4 = [0.0, 0.0, 1.0, 0.0, 1.0]\n",
    "p1_2 = [0.0, 1.0]\n",
    "p1_4 = [0.0, 1.0, 0.0, 1.0]\n",
    "iω_arr = LadderDGA.iω_array(mP.β, -sP.n_iω:sP.n_iω)[ωindices_q];"
   ]
  },
  {
   "cell_type": "code",
   "execution_count": null,
   "metadata": {},
   "outputs": [],
   "source": [
    "#Tests for setup below\n",
    "\n",
    "fit_only2 = curve_fit(tail_func_2, iω_arr, rχsp[ωindices_q,1], p2)   \n",
    "fit_0to2 = curve_fit(tail_func_real, iω_arr, rχsp[ωindices_q,1], p0_2); \n",
    "println(\"Results for fit of χsp(ω, q=(0,0,0)) fit:\")\n",
    "println(\"Fit only 2 converged = $(fit_only2.converged) with result $(round.(fit_only2.param,digits=5)).\\nFit 0 to 4 converged = $(fit_0to2.converged) with result $(round.(fit_0to2.param,digits=5))\")"
   ]
  },
  {
   "cell_type": "markdown",
   "metadata": {},
   "source": [
    "## Investigation of different tail coefficients\n",
    "\n",
    "TODO: investigate effect between real part fitting and full fit. For now only real parts are fitted!\n",
    "\n",
    "In the following we investigate the fitting tails of the form:\n",
    " - $\\frac{c_2}{i \\omega_n^2}$\n",
    " - $\\sum_{l=0}^2 \\frac{c_l}{i \\omega_n^l}$\n",
    " - $\\sum_{l=0}^4 \\frac{c_l}{i \\omega_n^l}$\n",
    " - $\\sum_{l=1}^2 \\frac{c_l}{i \\omega_n^l}$\n",
    " - $\\sum_{l=1}^4 \\frac{c_l}{i \\omega_n^l}$\n",
    " \n",
    "### Plots\n",
    "\n",
    "The plots show the fit coeffcient $c_2$ for all 5 different methods and for $\\chi_\\text{sp}$, $\\chi_\\text{ch}$, $\\chi_\\text{upup}$. Since the only contribution for the second tail coefficient comes from $\\chi_\\text{upup}$, all three solutions are supposed to be similar. \n",
    "\n",
    "### Remarks: numerics\n",
    "\n",
    "- When also fitting the $c_4$ coefficient, the tail behavior of $\\chi_\\text{updo}$ participates and we expect to see a difference between $\\chi_\\text{sp}$ and $\\chi_\\text{ch}$. Observing no difference between both suggests insufficient data. \n",
    "\n",
    "- A large difference between the $c_2$ and $c\\text{0-2}$ fits also suggests faulty input. This is due to the fact, that $c_0$ and $c_1$ must be 0 (since the sum over $\\chi_r$ is real and converges)\n",
    "\n",
    "- The solution will strongly depend on the first bosonic Matsubara frequency used (i.e. if hte fit starts are $i\\omega_1$ or $i\\omega_{10}$. Setting the `nh` parameter above will generate data for different starting values."
   ]
  },
  {
   "cell_type": "code",
   "execution_count": null,
   "metadata": {},
   "outputs": [],
   "source": [
    "tail_sp = Array{Float64,2}(undef, size(rχsp,2),5)\n",
    "tail_ch = Array{Float64,2}(undef, size(rχsp,2),5)\n",
    "tail_upup = Array{Float64,2}(undef, size(rχsp,2),5)\n",
    "\n",
    "for qi in 1:size(tail_sp,1)\n",
    "    fit = curve_fit(tail_func_2, iω_arr, rχsp[ωindices_q,qi], p2);\n",
    "    tail_sp[qi,1] = fit.param[1]\n",
    "    fit = curve_fit(tail_func_2, iω_arr, rχch[ωindices_q,qi], p2);\n",
    "    tail_ch[qi,1] = fit.param[1]\n",
    "    fit = curve_fit(tail_func_2, iω_arr, rχupup[ωindices_q,qi], p2);\n",
    "    tail_upup[qi,1] = fit.param[1]\n",
    "    \n",
    "    fit = curve_fit(tail_func_real, iω_arr, rχsp[ωindices_q,qi], p0_2);\n",
    "    tail_sp[qi,2] = fit.param[3]\n",
    "    fit = curve_fit(tail_func_real, iω_arr, rχch[ωindices_q,qi], p0_2);\n",
    "    tail_ch[qi,2] = fit.param[3]\n",
    "    fit = curve_fit(tail_func_real, iω_arr, rχupup[ωindices_q,qi], p0_2);\n",
    "    tail_upup[qi,2] = fit.param[3]\n",
    "    \n",
    "    fit = curve_fit(tail_func_real, iω_arr, rχsp[ωindices_q,qi], p0_4);\n",
    "    tail_sp[qi,3] = fit.param[3]\n",
    "    fit = curve_fit(tail_func_real, iω_arr, rχch[ωindices_q,qi], p0_4);\n",
    "    tail_ch[qi,3] = fit.param[3]\n",
    "    fit = curve_fit(tail_func_real, iω_arr, rχupup[ωindices_q,qi], p0_4);\n",
    "    tail_upup[qi,3] = fit.param[3]\n",
    "    \n",
    "    fit = curve_fit(tail_func_real_n0, iω_arr, rχsp[ωindices_q,qi], p1_2);\n",
    "    tail_sp[qi,4] = fit.param[2]\n",
    "    fit = curve_fit(tail_func_real_n0, iω_arr, rχch[ωindices_q,qi], p1_2);\n",
    "    tail_ch[qi,4] = fit.param[2]\n",
    "    fit = curve_fit(tail_func_real_n0, iω_arr, rχupup[ωindices_q,qi], p1_2);\n",
    "    tail_upup[qi,4] = fit.param[2]\n",
    "    \n",
    "    fit = curve_fit(tail_func_real_n0, iω_arr, rχsp[ωindices_q,qi], p1_4);\n",
    "    tail_sp[qi,5] = fit.param[2]\n",
    "    fit = curve_fit(tail_func_real_n0, iω_arr, rχch[ωindices_q,qi], p1_4);\n",
    "    tail_ch[qi,5] = fit.param[2]\n",
    "    fit = curve_fit(tail_func_real_n0, iω_arr, rχupup[ωindices_q,qi], p1_4);\n",
    "    tail_upup[qi,5] = fit.param[2]\n",
    "end"
   ]
  },
  {
   "cell_type": "code",
   "execution_count": null,
   "metadata": {
    "scrolled": true
   },
   "outputs": [],
   "source": [
    "plot(tail_sp[1,:], markershape=:square, markersize=2, label=\"χsp\", xticks = ([1,2,3,4,5],[\"c2\", \"c0-2\", \"c0-4\", \"c1-2\", \"c1-4\"]), ylabel=L\"c_2(q=(0,0,0))\")\n",
    "plot!(tail_ch[1,:], markershape=:circle, markersize=2, label=\"χch\")\n",
    "plot!(tail_upup[1,:], markershape=:hexagon, markersize=2, label=\"χupup\")"
   ]
  },
  {
   "cell_type": "code",
   "execution_count": null,
   "metadata": {},
   "outputs": [],
   "source": [
    "plot(tail_sp[end,:], markershape=:square, markersize=2, label=\"χsp\", xticks = ([1,2,3,4,5],[\"c2\", \"c0-2\", \"c0-4\", \"c1-2\", \"c1-4\"]), ylabel=L\"c_2(q=(\\pi,\\pi\\,pi))\")\n",
    "plot!(tail_ch[end,:], markershape=:circle, markersize=2, label=\"χch\")\n",
    "plot!(tail_upup[end,:], markershape=:hexagon, markersize=2, label=\"χupup\")"
   ]
  },
  {
   "cell_type": "code",
   "execution_count": null,
   "metadata": {},
   "outputs": [],
   "source": [
    "plot(tail_sp[:,1], markershape=:square, markersize=3, label=\"sp: c2\", ylabel=L\"c_2(q=(\\pi,\\pi\\,pi))\")\n",
    "plot!(tail_sp[:,2], markershape=:circle, markersize=3, label=\"sp: c0-2\", ylabel=L\"c_2(q=(\\pi,\\pi\\,pi))\")\n",
    "plot!(tail_sp[:,3], markershape=:hexagon, markersize=3, label=\"sp: c0-4\", ylabel=L\"c_2(q=(\\pi,\\pi\\,pi))\")\n",
    "plot!(tail_sp[:,5], markershape=:diamond, markersize=3, label=\"sp: c1-4\", ylabel=L\"c_2(q=(\\pi,\\pi\\,pi))\")\n",
    "plot!(tail_ch[:,5], markershape=:diamond, markersize=3, label=\"ch: c1-4\", ylabel=L\"c_2(q=(\\pi,\\pi\\,pi))\")"
   ]
  },
  {
   "cell_type": "code",
   "execution_count": null,
   "metadata": {},
   "outputs": [],
   "source": []
  },
  {
   "cell_type": "code",
   "execution_count": null,
   "metadata": {},
   "outputs": [],
   "source": [
    "Σ_ladder = calc_Σ(nlQ_sp_nλ, nlQ_sp_nλ, bubble, GLoc_fft, FUpDo, qG, sumHelper_f, mP, sP)\n",
    "Σ_ladder_corrected = Σ_ladder .- Σ_ladderLoc .+ Σ_loc[1:size(Σ_ladder,1)]\n",
    "\n",
    "E_kin_lDGA, E_pot_lDGA = LadderDGA.calc_E(Σ_ladder_corrected, qG, mP, sP);"
   ]
  }
 ],
 "metadata": {
  "kernelspec": {
   "display_name": "Julia 1.6.0",
   "language": "julia",
   "name": "julia-1.6"
  },
  "language_info": {
   "file_extension": ".jl",
   "mimetype": "application/julia",
   "name": "julia",
   "version": "1.6.0"
  }
 },
 "nbformat": 4,
 "nbformat_minor": 4
}
