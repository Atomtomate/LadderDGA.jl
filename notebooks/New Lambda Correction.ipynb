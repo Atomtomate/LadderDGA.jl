{
 "cells": [
  {
   "cell_type": "code",
   "execution_count": 1,
   "metadata": {
    "scrolled": true
   },
   "outputs": [
    {
     "name": "stderr",
     "output_type": "stream",
     "text": [
      "\u001b[32m\u001b[1m  Activating\u001b[22m\u001b[39m project at `~/Hamburg/LadderDGA.jl`\n"
     ]
    }
   ],
   "source": [
    "ENV[\"GKS_ENCODING\"] = \"utf-8\"\n",
    "using NLsolve\n",
    "using Plots\n",
    "using SharedArrays\n",
    "\n",
    "using Pkg\n",
    "using HDF5\n",
    "Pkg.activate(\"/home/julian/Hamburg/LadderDGA.jl\")\n",
    "using LadderDGA\n",
    "using Logging\n",
    "\n",
    "cfg_file = \"/home/julian/Hamburg/lDGA_shift_tests/cutoff_tests/conf_40_40_s1.toml\";\n"
   ]
  },
  {
   "cell_type": "code",
   "execution_count": 3,
   "metadata": {},
   "outputs": [
    {
     "name": "stdout",
     "output_type": "stream",
     "text": [
      "\u001b[36m\u001b[1m[ \u001b[22m\u001b[39m\u001b[36m\u001b[1mInfo: \u001b[22m\u001b[39mReading Inputs...\n",
      "\u001b[36m\u001b[1m[ \u001b[22m\u001b[39m\u001b[36m\u001b[1mInfo: \u001b[22m\u001b[39mSetting up calculation for kGrid 3Dsc-0.40824829046386301636 of size 2\n",
      "\u001b[36m\u001b[1m[ \u001b[22m\u001b[39m\u001b[36m\u001b[1mInfo: \u001b[22m\u001b[39msetting usable ranges of sp and ch channel from 5:77 and 5:77 to the same range of 5:77\n",
      "\u001b[33m\u001b[1m[ \u001b[22m\u001b[39m\u001b[33m\u001b[1mWarning: \u001b[22m\u001b[39mTODO: update local omega sum with correction\n",
      "\u001b[33m\u001b[1m[ \u001b[22m\u001b[39m\u001b[33m\u001b[1mWarning: \u001b[22m\u001b[39musing unoptimized sum_freq\n",
      "\u001b[33m\u001b[1m[ \u001b[22m\u001b[39m\u001b[33m\u001b[1mWarning: \u001b[22m\u001b[39musing unoptimized sum_freq\n",
      "\u001b[33m\u001b[1m[ \u001b[22m\u001b[39m\u001b[33m\u001b[1mWarning: \u001b[22m\u001b[39musing unoptimized sum_freq\n",
      "\u001b[33m\u001b[1m[ \u001b[22m\u001b[39m\u001b[33m\u001b[1mWarning: \u001b[22m\u001b[39musing unoptimized sum_freq\n",
      "\u001b[36m\u001b[1m┌ \u001b[22m\u001b[39m\u001b[36m\u001b[1mInfo: \u001b[22m\u001b[39mInputs Read. Starting Computation.\n",
      "\u001b[36m\u001b[1m│ \u001b[22m\u001b[39mLocal susceptibilities with ranges are:\n",
      "\u001b[36m\u001b[1m│ \u001b[22m\u001b[39mχLoc_sp(5:77) = 0.2831, χLoc_ch(5:77) = 0.1905\n",
      "\u001b[36m\u001b[1m└ \u001b[22m\u001b[39msum χupup check (fit, tail sub, tail sub + fit, expected): 0.23682558326168696 ?≈? 0.24951420011426184 ?=? 0.24951420011426184 ?≈? 0.25\"\n"
     ]
    }
   ],
   "source": [
    "mP, sP, env, kGridsStr = readConfig(cfg_file)\n",
    "impQ_sp, impQ_ch, GImp, qGridLoc, kG, GLoc, GLoc_fft, Σ_loc, FUpDo = setup_LDGA(kGridsStr[1], mP, sP, env);"
   ]
  },
  {
   "cell_type": "code",
   "execution_count": 6,
   "metadata": {},
   "outputs": [],
   "source": [
    "# \"local\" correction quantities\n",
    "bubbleLoc = calc_bubble(GImp, qGridLoc, mP, sP);\n",
    "locQ_sp = calc_χ_trilex(impQ_sp.Γ, bubbleLoc, qGridLoc, mP.U, mP, sP);\n",
    "locQ_ch = calc_χ_trilex(impQ_ch.Γ, bubbleLoc, qGridLoc, -mP.U, mP, sP);\n",
    "Σ_ladderLoc = calc_Σ(locQ_sp, locQ_ch, bubbleLoc, GImp, FUpDo,\n",
    "    qGridLoc,  mP, sP)[:,1] .+ mP.n * mP.U/2.0;\n",
    "\n",
    "# ladder quantities\n",
    "bubble = calc_bubble(GLoc_fft, kG, mP, sP);\n",
    "nlQ_sp = calc_χ_trilex(impQ_sp.Γ, bubble, kG, mP.U, mP, sP);\n",
    "nlQ_ch = calc_χ_trilex(impQ_ch.Γ, bubble, kG, -mP.U, mP, sP);\n",
    "\n",
    "nlQ_sp_nλ = deepcopy(nlQ_sp)\n",
    "nlQ_ch_nλ = deepcopy(nlQ_ch);"
   ]
  },
  {
   "cell_type": "code",
   "execution_count": 8,
   "metadata": {},
   "outputs": [
    {
     "ename": "LoadError",
     "evalue": "BoundsError: attempt to access 4×81 Matrix{ComplexF64} at index [5:77, 1:81]",
     "output_type": "error",
     "traceback": [
      "BoundsError: attempt to access 4×81 Matrix{ComplexF64} at index [5:77, 1:81]",
      "",
      "Stacktrace:",
      "  [1] throw_boundserror(A::Matrix{ComplexF64}, I::Tuple{UnitRange{Int64}, Base.Slice{Base.OneTo{Int64}}})",
      "    @ Base ./abstractarray.jl:694",
      "  [2] checkbounds",
      "    @ ./abstractarray.jl:659 [inlined]",
      "  [3] _getindex",
      "    @ ./multidimensional.jl:838 [inlined]",
      "  [4] getindex(::Matrix{ComplexF64}, ::UnitRange{Int64}, ::Function)",
      "    @ Base ./abstractarray.jl:1221",
      "  [5] calc_λsp_rhs_usable(impQ_sp::LadderDGA.ImpurityQuantities, impQ_ch::LadderDGA.ImpurityQuantities, nlQ_sp::NonLocalQuantities{ComplexF64, ComplexF64}, nlQ_ch::NonLocalQuantities{ComplexF64, ComplexF64}, kGrid::Dispersions.ReducedKGrid_cP{3}, mP::ModelParameters, sP::SimulationParameters)",
      "    @ LadderDGA ~/Hamburg/LadderDGA.jl/src/lambdaCorrection.jl:37",
      "  [6] λ_correction(type::Symbol, impQ_sp::LadderDGA.ImpurityQuantities, impQ_ch::LadderDGA.ImpurityQuantities, FUpDo::Array{ComplexF64, 3}, Σ_loc_pos::Vector{ComplexF64}, Σ_ladderLoc::Vector{ComplexF64}, nlQ_sp::NonLocalQuantities{ComplexF64, ComplexF64}, nlQ_ch::NonLocalQuantities{ComplexF64, ComplexF64}, bubble::Array{ComplexF64, 3}, Gνω::Array{ComplexF64, 4}, kGrid::Dispersions.ReducedKGrid_cP{3}, mP::ModelParameters, sP::SimulationParameters; init_sp::Nothing, init_spch::Nothing)",
      "    @ LadderDGA ~/Hamburg/LadderDGA.jl/src/lambdaCorrection.jl:206",
      "  [7] λ_correction!(type::Symbol, impQ_sp::LadderDGA.ImpurityQuantities, impQ_ch::LadderDGA.ImpurityQuantities, FUpDo::Array{ComplexF64, 3}, Σ_loc_pos::Vector{ComplexF64}, Σ_ladderLoc::Vector{ComplexF64}, nlQ_sp::NonLocalQuantities{ComplexF64, ComplexF64}, nlQ_ch::NonLocalQuantities{ComplexF64, ComplexF64}, bubble::Array{ComplexF64, 3}, Gνω::Array{ComplexF64, 4}, kGrid::Dispersions.ReducedKGrid_cP{3}, mP::ModelParameters, sP::SimulationParameters; init_sp::Nothing, init_spch::Nothing)",
      "    @ LadderDGA ~/Hamburg/LadderDGA.jl/src/lambdaCorrection.jl:223",
      "  [8] λ_correction!(type::Symbol, impQ_sp::LadderDGA.ImpurityQuantities, impQ_ch::LadderDGA.ImpurityQuantities, FUpDo::Array{ComplexF64, 3}, Σ_loc_pos::Vector{ComplexF64}, Σ_ladderLoc::Vector{ComplexF64}, nlQ_sp::NonLocalQuantities{ComplexF64, ComplexF64}, nlQ_ch::NonLocalQuantities{ComplexF64, ComplexF64}, bubble::Array{ComplexF64, 3}, Gνω::Array{ComplexF64, 4}, kGrid::Dispersions.ReducedKGrid_cP{3}, mP::ModelParameters, sP::SimulationParameters)",
      "    @ LadderDGA ~/Hamburg/LadderDGA.jl/src/lambdaCorrection.jl:223",
      "  [9] top-level scope",
      "    @ In[8]:1",
      " [10] eval",
      "    @ ./boot.jl:373 [inlined]",
      " [11] include_string(mapexpr::typeof(REPL.softscope), mod::Module, code::String, filename::String)",
      "    @ Base ./loading.jl:1196"
     ]
    }
   ],
   "source": [
    "λ_sp, λ_spch  = λ_correction!(:sp,impQ_sp, impQ_ch, FUpDo, Σ_loc, Σ_ladderLoc, nlQ_sp, nlQ_ch, bubble, GLoc_fft, kG, mP, sP)\n",
    "\n",
    "Σ_ladder = calc_Σ(nlQ_sp, nlQ_ch, bubble, GLoc_fft, FUpDo, kG, mP, sP)\n",
    "Σ_ladder_corrected = Σ_ladder .- Σ_ladderLoc[1,:] .+ Σ_loc[1:size(Σ_ladder,1)];"
   ]
  },
  {
   "cell_type": "code",
   "execution_count": 5,
   "metadata": {
    "scrolled": true
   },
   "outputs": [
    {
     "ename": "LoadError",
     "evalue": "UndefVarError: nlQ_sp_nλ not defined",
     "output_type": "error",
     "traceback": [
      "UndefVarError: nlQ_sp_nλ not defined",
      "",
      "Stacktrace:",
      " [1] top-level scope",
      "   @ In[5]:1",
      " [2] eval",
      "   @ ./boot.jl:373 [inlined]",
      " [3] include_string(mapexpr::typeof(REPL.softscope), mod::Module, code::String, filename::String)",
      "   @ Base ./loading.jl:1196"
     ]
    }
   ],
   "source": [
    " r = LadderDGA.extended_λ(nlQ_sp_nλ, nlQ_ch_nλ, bubble, GLoc_fft, FUpDo, Σ_loc, Σ_ladderLoc, kG, mP, sP)"
   ]
  },
  {
   "cell_type": "markdown",
   "metadata": {},
   "source": [
    "## k-dependent behavior"
   ]
  },
  {
   "cell_type": "code",
   "execution_count": 6,
   "metadata": {},
   "outputs": [
    {
     "ename": "LoadError",
     "evalue": "UndefVarError: bubble not defined",
     "output_type": "error",
     "traceback": [
      "UndefVarError: bubble not defined",
      "",
      "Stacktrace:",
      " [1] top-level scope",
      "   @ In[6]:2",
      " [2] eval",
      "   @ ./boot.jl:373 [inlined]",
      " [3] include_string(mapexpr::typeof(REPL.softscope), mod::Module, code::String, filename::String)",
      "   @ Base ./loading.jl:1196"
     ]
    }
   ],
   "source": [
    "λsp_check_n = 50\n",
    "nh    = ceil(Int64, size(bubble,1)/2)\n",
    "λsp_of_k = Array{Float64}(undef, length(kGrids))\n",
    "χsp_of_k = Array{Float64}(undef, length(kGrids), size(bubble,1))\n",
    "χspλ_of_k = Array{Float64}(undef, length(kGrids), size(bubble,1))\n",
    "χch_of_k = Array{Float64}(undef, length(kGrids), size(bubble,1))\n",
    "λsp_check_of_k = Array{Float64}(undef, length(kGrids), size(bubble,1))\n",
    "sum_freq = LadderDGA.sum_freq\n",
    "subtract_tail = LadderDGA.subtract_tail\n",
    "kintegrate = LadderDGA.kintegrate\n",
    "χ_λ = LadderDGA.χ_λ\n",
    "\n",
    "\n",
    "for (i,kGi) in enumerate(kGrids)\n",
    "    νGrid, sumHelper_f, impQ_sp, impQ_ch, GImp, GLoc_i, GLoc_fft_i, Σ_loc, FUpDo  = setup_LDGA(kGi, freqList, mP, sP, env);\n",
    "    bubble_i = calc_bubble(νGrid, GLoc_fft_i, kGi, mP, sP);\n",
    "    nlQ_sp_i = calc_χ_trilex(impQ_sp.Γ, bubble_i, kGi, νGrid, sumHelper_f, mP.U, mP, sP);\n",
    "    nlQ_ch_i = calc_χ_trilex(impQ_ch.Γ, bubble_i, kGi, νGrid, sumHelper_f, -mP.U, mP, sP);\n",
    "    χsp_of_k[i,:] = real.(LadderDGA.kintegrate(kGi, nlQ_sp_i.χ, dim=2)[:,1])\n",
    "    λ_sp, λ_spch  = λ_correction!(impQ_sp, impQ_ch, FUpDo, Σ_loc, Σ_ladderLoc, nlQ_sp_i, nlQ_ch_i, bubble_i, GLoc_fft_i, kGi, mP, sP)\n",
    "    λsp_of_k[i] = λ_sp\n",
    "    \n",
    "    χspλ_of_k[i,:] = real.(LadderDGA.kintegrate(kGi, nlQ_sp_i.χ, dim=2)[:,1])\n",
    "    χch_of_k[i,:] = real.(LadderDGA.kintegrate(kGi, nlQ_ch_i.χ, dim=2)[:,1])\n",
    "    χsp_min    = -minimum(1 ./ real.(nlQ_sp_i.χ[nh,:])) .+ 0.01\n",
    "    usable_ω = intersect(nlQ_sp_i.usable_ω, nlQ_sp_i.usable_ω)\n",
    "    iωn = 1im .* 2 .* (-sP.n_iω:sP.n_iω)[usable_ω] .* π ./ mP.β\n",
    "    f(λint) = sum_freq(subtract_tail(kintegrate(kGi, χ_λ(real.(nlQ_sp_i.χ[usable_ω,:]), λint), dim=2)[:,1],mP.Ekin_DMFT, iωn), [1], Naive(), mP.β, corr=-mP.Ekin_DMFT*mP.β^2/12)[1] - mP.n * (1 - mP.n/2)\n",
    "\n",
    "    for j in range(χsp_min,stop=χsp_min+2,length=λsp_check_n)\n",
    "    end\n",
    "end\n",
    "plot(λsp_of_k, title=\"λsp(k)\")"
   ]
  },
  {
   "cell_type": "code",
   "execution_count": 7,
   "metadata": {},
   "outputs": [
    {
     "ename": "LoadError",
     "evalue": "UndefVarError: χch_of_k not defined",
     "output_type": "error",
     "traceback": [
      "UndefVarError: χch_of_k not defined",
      "",
      "Stacktrace:",
      " [1] top-level scope",
      "   @ In[7]:1",
      " [2] eval",
      "   @ ./boot.jl:373 [inlined]",
      " [3] include_string(mapexpr::typeof(REPL.softscope), mod::Module, code::String, filename::String)",
      "   @ Base ./loading.jl:1196"
     ]
    }
   ],
   "source": [
    "plot(χch_of_k[1,:], markershape=:auto, title=\"χch(k)\")\n",
    "plot!(χch_of_k[2,:], markershape=:auto)\n",
    "plot!(χch_of_k[3,:], markershape=:auto)\n",
    "plot!(χch_of_k[4,:], markershape=:auto)\n",
    "plot!(χch_of_k[5,:], markershape=:auto)\n",
    "plot!(χch_of_k[6,:], markershape=:auto)"
   ]
  },
  {
   "cell_type": "code",
   "execution_count": 8,
   "metadata": {},
   "outputs": [
    {
     "ename": "LoadError",
     "evalue": "UndefVarError: χsp_of_k not defined",
     "output_type": "error",
     "traceback": [
      "UndefVarError: χsp_of_k not defined",
      "",
      "Stacktrace:",
      " [1] top-level scope",
      "   @ In[8]:1",
      " [2] eval",
      "   @ ./boot.jl:373 [inlined]",
      " [3] include_string(mapexpr::typeof(REPL.softscope), mod::Module, code::String, filename::String)",
      "   @ Base ./loading.jl:1196"
     ]
    }
   ],
   "source": [
    "plot(χsp_of_k[1,:], markershape=:auto, title=\"χsp(k)\")\n",
    "plot!(χsp_of_k[2,:], markershape=:auto)\n",
    "plot!(χsp_of_k[3,:], markershape=:auto)\n",
    "plot!(χsp_of_k[4,:], markershape=:auto)\n",
    "plot!(χsp_of_k[5,:], markershape=:auto)\n",
    "plot!(χsp_of_k[6,:], markershape=:auto)"
   ]
  },
  {
   "cell_type": "code",
   "execution_count": 9,
   "metadata": {},
   "outputs": [
    {
     "ename": "LoadError",
     "evalue": "UndefVarError: nlQ_sp not defined",
     "output_type": "error",
     "traceback": [
      "UndefVarError: nlQ_sp not defined",
      "",
      "Stacktrace:",
      " [1] top-level scope",
      "   @ In[9]:2",
      " [2] eval",
      "   @ ./boot.jl:373 [inlined]",
      " [3] include_string(mapexpr::typeof(REPL.softscope), mod::Module, code::String, filename::String)",
      "   @ Base ./loading.jl:1196"
     ]
    }
   ],
   "source": [
    "Σ_νRange = sP.n_iν+1\n",
    "Σ_ladder_full = calc_Σ(nlQ_sp, nlQ_ch, bubble, GLoc_fft, FUpDo, kG, sumHelper_f, mP, sP)\n",
    "Σ_ladder = calc_Σ(nlQ_sp, nlQ_ch, bubble, GLoc_fft, FUpDo, kG, sumHelper_f, mP, sP)[sP.n_iν+1:end,:]\n",
    "Σ_ladder_corrected = Σ_ladder .- Σ_ladderLoc .+ Σ_loc[1:size(Σ_ladder,1)];\n",
    "plot(0:sP.n_iν-1, imag(Σ_ladder[:,1]), markershape=:auto)\n",
    "plot!(0:sP.n_iν-1, imag(Σ_ladder_corrected[:,1]), markershape=:auto)\n",
    "plot!(0:sP.n_iν-1, imag(Σ_loc[1:size(Σ_ladder,1)]), markershape=:auto)\n",
    "plot!(0:sP.n_iν-1, imag(Σ_ladderLoc[1:size(Σ_ladder,1)]), markershape=:auto)"
   ]
  },
  {
   "cell_type": "markdown",
   "metadata": {},
   "source": [
    "# Preparation\n",
    "\n",
    "For the extended $\\lambda$ correction, we need to compute ladder kinetic and potential energy of the system and also compute the DMFT kinetic energy (for improved sums)"
   ]
  },
  {
   "cell_type": "markdown",
   "metadata": {},
   "source": [
    "# Cond 1 Test\n",
    "## λsp(λch)"
   ]
  },
  {
   "cell_type": "code",
   "execution_count": 10,
   "metadata": {},
   "outputs": [
    {
     "ename": "LoadError",
     "evalue": "UndefVarError: nlQ_ch not defined",
     "output_type": "error",
     "traceback": [
      "UndefVarError: nlQ_ch not defined",
      "",
      "Stacktrace:",
      " [1] top-level scope",
      "   @ In[10]:1",
      " [2] eval",
      "   @ ./boot.jl:373 [inlined]",
      " [3] include_string(mapexpr::typeof(REPL.softscope), mod::Module, code::String, filename::String)",
      "   @ Base ./loading.jl:1196"
     ]
    }
   ],
   "source": [
    "nh = ceil(Int64, size(nlQ_ch.χ,1)/2)\n",
    "λch_min = -1 / maximum(real.(nlQ_ch_nλ.χ[nh,:]))\n",
    "λsp_min = -1 / maximum(real.(nlQ_sp_nλ.χ[nh,:]))\n",
    "println(\"estimated smallest vaue for λ λsp ≈ $(λsp_min), λch ≈ $(λch_min)\")"
   ]
  },
  {
   "cell_type": "code",
   "execution_count": 11,
   "metadata": {},
   "outputs": [
    {
     "ename": "LoadError",
     "evalue": "UndefVarError: Naive not defined",
     "output_type": "error",
     "traceback": [
      "UndefVarError: Naive not defined",
      "",
      "Stacktrace:",
      " [1] getproperty(x::Module, f::Symbol)",
      "   @ Base ./Base.jl:35",
      " [2] top-level scope",
      "   @ In[11]:4",
      " [3] eval",
      "   @ ./boot.jl:373 [inlined]",
      " [4] include_string(mapexpr::typeof(REPL.softscope), mod::Module, code::String, filename::String)",
      "   @ Base ./loading.jl:1196"
     ]
    }
   ],
   "source": [
    "χ_λ! = LadderDGA.χ_λ!\n",
    "kintegrate = LadderDGA.kintegrate\n",
    "subtract_tail = LadderDGA.subtract_tail\n",
    "Naive = LadderDGA.Naive\n",
    "kGrid = kG\n",
    "ωindices = intersect(nlQ_sp.usable_ω, nlQ_ch.usable_ω)\n",
    "iωn = 1im .* 2 .* (-sP.n_iω:sP.n_iω)[ωindices] .* π ./ mP.β\n",
    "χch_λ = Array{Complex{Float64},2}(undef,length(ωindices), size(nlQ_sp.χ,2))\n",
    "λch_range = λch_min+0.01:0.2:2\n",
    "spOfch_max_nl = zeros(length(λch_range))\n",
    "χupdo_ω = Array{eltype(nlQ_sp.χ),1}(undef, length(ωindices))\n",
    "χupup_ω = Array{eltype(nlQ_sp.χ),1}(undef, length(ωindices))\n",
    "\n",
    "for (λi,λchi) in enumerate(λch_range)\n",
    "    χsp_λ = real.(deepcopy(nlQ_sp_nλ.χ[ωindices,:]))\n",
    "    χ_λ!(χch_λ, nlQ_ch_nλ.χ[ωindices,:], λchi)\n",
    "    χch_ω = kintegrate(kGrid, χch_λ, dim=2)[:,1]\n",
    "    χch_ω_sub = subtract_tail(χch_ω, mP.Ekin_DMFT, iωn)\n",
    "    χch_sum = real(sum_freq(χch_ω_sub, [1], Naive(), mP.β, corr=-mP.Ekin_DMFT*mP.β^2/12)[1])\n",
    "    rhs_val = (mP.n) * (1 - mP.n/2) - χch_sum\n",
    "    spOfch_max_nl[λi] = LadderDGA.λsp(χsp_λ, iωn, mP.Ekin_DMFT, rhs_val, kGrid, mP)\n",
    "end"
   ]
  },
  {
   "cell_type": "code",
   "execution_count": 12,
   "metadata": {
    "scrolled": true
   },
   "outputs": [
    {
     "ename": "LoadError",
     "evalue": "UndefVarError: λch_range not defined",
     "output_type": "error",
     "traceback": [
      "UndefVarError: λch_range not defined",
      "",
      "Stacktrace:",
      " [1] top-level scope",
      "   @ In[12]:1",
      " [2] eval",
      "   @ ./boot.jl:373 [inlined]",
      " [3] include_string(mapexpr::typeof(REPL.softscope), mod::Module, code::String, filename::String)",
      "   @ Base ./loading.jl:1196"
     ]
    }
   ],
   "source": [
    "plot(λch_range, spOfch_max_nl, ylims=(-0.5,4.5), markershape=:circle, markersize=2, xlabel=\"λch\", ylabel=\"λsp\", label=\"\")"
   ]
  },
  {
   "cell_type": "markdown",
   "metadata": {},
   "source": [
    "# cond2\n",
    "## λsp(λch)"
   ]
  },
  {
   "cell_type": "code",
   "execution_count": 13,
   "metadata": {},
   "outputs": [
    {
     "ename": "LoadError",
     "evalue": "UndefVarError: Σ_internal! not defined",
     "output_type": "error",
     "traceback": [
      "UndefVarError: Σ_internal! not defined",
      "",
      "Stacktrace:",
      " [1] getproperty(x::Module, f::Symbol)",
      "   @ Base ./Base.jl:35",
      " [2] top-level scope",
      "   @ In[13]:1",
      " [3] eval",
      "   @ ./boot.jl:373 [inlined]",
      " [4] include_string(mapexpr::typeof(REPL.softscope), mod::Module, code::String, filename::String)",
      "   @ Base ./loading.jl:1196"
     ]
    }
   ],
   "source": [
    "Σ_internal! = LadderDGA.Σ_internal!\n",
    "iν_array = LadderDGA.iν_array\n",
    "calc_Σ_ω! = LadderDGA.calc_Σ_ω!\n",
    "G_from_Σ = LadderDGA.G_from_Σ\n",
    "flatten_2D = LadderDGA.flatten_2D\n",
    "Naive = LadderDGA.Naive\n",
    "extend_tmp! = LadderDGA.extend_tmp!\n",
    "\n",
    "nlQ_sp = deepcopy(nlQ_sp_nλ)\n",
    "nlQ_ch = deepcopy(nlQ_ch_nλ)\n",
    "Gνω = GLoc_fft\n",
    "kGrid = kG\n",
    "\n",
    "ωindices = (sP.dbg_full_eom_omega) ? (1:size(bubble,1)) : intersect(nlQ_sp.usable_ω, nlQ_ch.usable_ω)\n",
    "iωn = 1im .* 2 .* (-sP.n_iω:sP.n_iω)[ωindices] .* π ./ mP.β\n",
    "sh_f = get_sum_helper(2*sP.n_iν, sP, :f)\n",
    "sh_b = Naive() #get_sum_helper(length(ωindices), sP, :b)\n",
    "\n",
    "tmp = SharedArray{Float64,3}(length(ωindices), size(bubble,2), size(bubble,3))\n",
    "Σ_ladder_ω = SharedArray{Complex{Float64},3}( size(bubble,3), size(bubble,2), length(ωindices))\n",
    "χupdo_ω = SharedArray{eltype(nlQ_sp.χ),1}(length(ωindices))\n",
    "χupup_ω = SharedArray{eltype(nlQ_sp.χ),1}(length(ωindices))\n",
    "nlQ_ch_int = deepcopy(nlQ_ch)\n",
    "nlQ_sp_int = deepcopy(nlQ_sp)\n",
    "\n",
    "# Prepare data\n",
    "Σ_internal!(tmp, ωindices, bubble, FUpDo, sh_f)\n",
    "(sP.tc_type_f != :nothing) && extend_tmp!(tmp)\n",
    "nh    = ceil(Int64, size(nlQ_sp_nλ.χ,1)/2)\n",
    "χsp_min    = -minimum(1 ./ real.(nlQ_sp_nλ.χ[nh,:])) .+ 0.01\n",
    "χch_min    = -minimum(1 ./ real.(nlQ_ch_nλ.χ[nh,:])) .+ 0.01\n",
    "\n",
    "νmax = trunc(Int,size(bubble,3)/3)\n",
    "νG = 0:(νmax-1)\n",
    "iν_n = iν_array(mP.β, νG)\n",
    "Σ_hartree = mP.n * mP.U/2\n",
    "E_kin_tail_c = [zeros(size(kGrid.ϵkGrid)), (kGrid.ϵkGrid .+ Σ_hartree .- mP.μ)]\n",
    "E_pot_tail_c = [zeros(size(kGrid.ϵkGrid)),\n",
    "                (mP.U^2 * 0.5 * mP.n * (1-0.5*mP.n) .+ Σ_hartree .* (kGrid.ϵkGrid .+ Σ_hartree .- mP.μ))]\n",
    "tail = [1 ./ (iν_n .^ n) for n in 1:length(E_kin_tail_c)]\n",
    "E_pot_tail = sum(E_pot_tail_c[i]' .* tail[i] for i in 1:length(tail))\n",
    "E_kin_tail = sum(E_kin_tail_c[i]' .* tail[i] for i in 1:length(tail))\n",
    "E_pot_tail_inv = sum((mP.β/2)  .* [Σ_hartree .* ones(size(kGrid.ϵkGrid)), (-mP.β/2) .* E_pot_tail_c[2]])\n",
    "E_kin_tail_inv = sum(map(x->x .* (mP.β/2) .* kGrid.ϵkGrid , [1, -(mP.β) .* E_kin_tail_c[2]]));"
   ]
  },
  {
   "cell_type": "code",
   "execution_count": 14,
   "metadata": {},
   "outputs": [
    {
     "ename": "LoadError",
     "evalue": "UndefVarError: λch_range not defined",
     "output_type": "error",
     "traceback": [
      "UndefVarError: λch_range not defined",
      "",
      "Stacktrace:",
      " [1] top-level scope",
      "   @ In[14]:3",
      " [2] eval",
      "   @ ./boot.jl:373 [inlined]",
      " [3] include_string(mapexpr::typeof(REPL.softscope), mod::Module, code::String, filename::String)",
      "   @ Base ./loading.jl:1196"
     ]
    }
   ],
   "source": [
    "using SharedArrays\n",
    "\n",
    "res = Array{Float64, 2}(undef, length(λch_range), 7)\n",
    "nlQ_sp_i = deepcopy(nlQ_sp_nλ);\n",
    "nlQ_ch_i = deepcopy(nlQ_ch_nλ);\n",
    "Σ_list = Array{Complex{Float64},3}(undef, length(λch_range), length(Σ_ladderLoc), length(kG.kGrid))\n",
    "\n",
    "for i in 1:length(λch_range)\n",
    "    print(\"\\r$i of $(length(λch_range))\")\n",
    "    λsp_i = spOfch_max_nl[i]\n",
    "    λch_i = λch_range[i]\n",
    "    LadderDGA.χ_λ!(nlQ_sp_i.χ, nlQ_sp_nλ.χ, λsp_i, ωindices)\n",
    "    LadderDGA.χ_λ!(nlQ_ch_i.χ, nlQ_ch_nλ.χ, λch_i, ωindices)\n",
    "    Σ_ladder_i = calc_Σ(nlQ_sp_i, nlQ_ch_i, bubble, GLoc_fft, FUpDo, kG, sumHelper_f, mP, sP)[sP.n_iν+1:sP.n_iν+νmax,:]\n",
    "    Σ_λ = (Σ_ladder_i .- Σ_ladderLoc[1:size(Σ_ladder_i,1)] .+ Σ_loc[1:size(Σ_ladder_i,1)]) \n",
    "    E_kin_DGA, E_pot_DGA_i = LadderDGA.calc_E(Σ_λ, kG, mP, sP)\n",
    "    E3 = E_pot_DGA_i[end][1]#LadderDGA.calc_E_pot(kG, GLoc[0:νmax-1,:].parent, Σ_λ, E_pot_tail, E_pot_tail_inv, mP.β)\n",
    "    \n",
    "    Σ_λ = Σ_λ .+ Σ_hartree;\n",
    "    G_λ = flatten_2D(G_from_Σ(Σ_λ, kG.ϵkGrid, 0:νmax-1, mP));\n",
    "    E4 = LadderDGA.calc_E_pot(kG, G_λ, Σ_λ, E_pot_tail, E_pot_tail_inv, mP.β)\n",
    "    for (wi,w) in enumerate(ωindices)\n",
    "        χupup_ω[wi] = kintegrate(kGrid, nlQ_ch_i.χ[w,:] .+ nlQ_sp_i.χ[w,:])[1] / 2\n",
    "        χupdo_ω[wi] = kintegrate(kGrid, nlQ_ch_i.χ[w,:] .- nlQ_sp_i.χ[w,:])[1] / 2\n",
    "    end\n",
    "    χupup_ω = subtract_tail(χupup_ω, mP.Ekin_DMFT, iωn)\n",
    "    lhs_c1 = real(sum_freq(χupup_ω, [1], LadderDGA.Naive(), mP.β, corr=-mP.Ekin_DMFT*mP.β^2/12)[1])\n",
    "    lhs_c2 = real(sum_freq(χupdo_ω, [1], LadderDGA.Naive(), mP.β)[1])\n",
    "    rhs_c1 = mP.n/2 * (1 - mP.n/2)\n",
    "    rhs_c2 = E3/mP.U - (mP.n/2) * (mP.n/2)\n",
    "    rhs_c2_2 = E4/mP.U - (mP.n/2) * (mP.n/2)\n",
    "    res[i,:] = [λsp_i λch_i lhs_c1 rhs_c1 lhs_c2 rhs_c2 rhs_c2_2]\n",
    "end"
   ]
  },
  {
   "cell_type": "code",
   "execution_count": 15,
   "metadata": {},
   "outputs": [
    {
     "ename": "LoadError",
     "evalue": "UndefVarError: λch_range not defined",
     "output_type": "error",
     "traceback": [
      "UndefVarError: λch_range not defined",
      "",
      "Stacktrace:",
      " [1] top-level scope",
      "   @ In[15]:1",
      " [2] eval",
      "   @ ./boot.jl:373 [inlined]",
      " [3] include_string(mapexpr::typeof(REPL.softscope), mod::Module, code::String, filename::String)",
      "   @ Base ./loading.jl:1196"
     ]
    }
   ],
   "source": [
    "xarr = 1:length(λch_range)\n",
    "plot(λch_range[xarr], res[xarr,5] .- res[xarr,6], markershape=:square, markersize=2, label=\"∑ χ_updo - G^λ ⋆ Σ^λ\")\n",
    "plot!(λch_range[xarr], res[xarr,5] .- res[xarr,7], markershape=:square, markersize=2, label=\"fast comp. ∑ χ_updo - Gloc ⋆ Σ^λ\")\n",
    "plot!(λch_range[xarr],res[xarr,3] .- res[xarr,4], markershape=:square, markersize=2, label=\"c1\")\n",
    "#savefig(\"conditions_new.pdf\")\n",
    "#plot!(λch_range, spOfch_max_nl, ylims=(-5,5), markershape=:circle, markersize=2, xlabel=\"λch\", ylabel=\"λsp\", label=\"\")"
   ]
  },
  {
   "cell_type": "code",
   "execution_count": 16,
   "metadata": {},
   "outputs": [
    {
     "ename": "LoadError",
     "evalue": "UndefVarError: Σ_internal! not defined",
     "output_type": "error",
     "traceback": [
      "UndefVarError: Σ_internal! not defined",
      "",
      "Stacktrace:",
      " [1] getproperty(x::Module, f::Symbol)",
      "   @ Base ./Base.jl:35",
      " [2] top-level scope",
      "   @ In[16]:1",
      " [3] eval",
      "   @ ./boot.jl:373 [inlined]",
      " [4] include_string(mapexpr::typeof(REPL.softscope), mod::Module, code::String, filename::String)",
      "   @ Base ./loading.jl:1196"
     ]
    }
   ],
   "source": [
    "Σ_internal! = LadderDGA.Σ_internal!\n",
    "χ_λ! = LadderDGA.χ_λ!\n",
    "ν0Index_of_ωIndex = LadderDGA.ν0Index_of_ωIndex\n",
    "conv_fft1 = LadderDGA.conv_fft1\n",
    "kintegrate = LadderDGA.kintegrate\n",
    "subtract_tail! = LadderDGA.subtract_tail!\n",
    "expandKArr = LadderDGA.expandKArr\n",
    "reduceKArr = LadderDGA.reduceKArr\n",
    "fft = LadderDGA.fft\n",
    "ifft = LadderDGA.ifft\n",
    "fft! = LadderDGA.fft!\n",
    "ifft! = LadderDGA.ifft!\n",
    "iν_array = LadderDGA.iν_array\n",
    "Naive = LadderDGA.Naive\n",
    "extend_tmp! = LadderDGA.extend_tmp!\n",
    "G_from_Σ = LadderDGA.G_from_Σ\n",
    "gridshape = LadderDGA.gridshape\n",
    "Σ_loc_pos = Σ_loc\n",
    "Gνω = GLoc_fft\n",
    "\n",
    "ωindices = (sP.dbg_full_eom_omega) ? (1:size(bubble,1)) : intersect(nlQ_sp.usable_ω, nlQ_ch.usable_ω)\n",
    "\n",
    "νmax = trunc(Int,size(bubble,3)/3)\n",
    "νGrid = 0:(νmax-1)\n",
    "iν_n = iν_array(mP.β, νGrid)\n",
    "iωn = 1im .* 2 .* (-sP.n_iω:sP.n_iω)[ωindices] .* π ./ mP.β\n",
    "sh_f = get_sum_helper(2*sP.n_iν, sP, :f)\n",
    "sh_b = Naive() #get_sum_helper(length(ωindices), sP, :b)\n",
    "\n",
    "tmp = Array{Float64,3}(undef, length(ωindices), size(bubble,2), size(bubble,3))\n",
    "Σ_ladder_ω = SharedArray{Complex{Float64},3}(sP.n_iν, size(bubble,2), length(ωindices))\n",
    "χupdo_ω = Array{eltype(nlQ_sp.χ),1}(undef, length(ωindices))\n",
    "χupup_ω = Array{eltype(nlQ_sp.χ),1}(undef, length(ωindices))\n",
    "χsp_int2 = Array{eltype(nlQ_sp.χ),2}(undef, size(nlQ_sp.χ)...)\n",
    "χch_int2 = Array{eltype(nlQ_sp.χ),2}(undef, size(nlQ_sp.χ)...)\n",
    "\n",
    "\n",
    "# Prepare data\n",
    "Σ_internal!(tmp, ωindices, bubble, FUpDo, sh_f)\n",
    "(sP.tc_type_f != :nothing) && extend_tmp!(tmp)\n",
    "\n",
    "nh    = ceil(Int64, size(nlQ_sp.χ,1)/2)\n",
    "χsp_min    = -1 / maximum(real.(nlQ_sp.χ[nh,:])) .+ 0.1\n",
    "χch_min    = -1 / maximum(real.(nlQ_ch.χ[nh,:])) .+ 0.1\n",
    "\n",
    "Σ_hartree = mP.n * mP.U/2\n",
    "E_kin_tail_c = [zeros(size(kG.ϵkGrid)), (kG.ϵkGrid .+ Σ_hartree .- mP.μ)]\n",
    "E_pot_tail_c = [zeros(size(kG.ϵkGrid)),\n",
    "                (mP.U^2 * 0.5 * mP.n * (1-0.5*mP.n) .+ Σ_hartree .* (kG.ϵkGrid .+ Σ_hartree .- mP.μ))]\n",
    "tail = [1 ./ (iν_n .^ n) for n in 1:length(E_kin_tail_c)]\n",
    "E_pot_tail = sum(E_pot_tail_c[i]' .* tail[i] for i in 1:length(tail))\n",
    "E_pot_tail_inv = sum((mP.β/2)  .* [Σ_hartree .* ones(size(kG.ϵkGrid)), (-mP.β/2) .* E_pot_tail_c[2]])\n",
    "\n",
    "\n",
    "function cond_both_old!(F, λ)\n",
    "    χ_λ!(χsp_int2, nlQ_sp.χ, λ[1], ωindices)\n",
    "    χ_λ!(χch_int2, nlQ_ch.χ, λ[2], ωindices)\n",
    "\n",
    "    for ωii in 1:length(ωindices)\n",
    "        ωi = ωindices[ωii]\n",
    "        ωn = (ωi - sP.n_iω) - 1\n",
    "        fsp = 1.5 .* (1 .+ mP.U*χsp_int2[ωi, :])\n",
    "        fch = 0.5 .* (1 .- mP.U*χch_int2[ωi, :])\n",
    "        νZero = ν0Index_of_ωIndex(ωi, sP)\n",
    "        maxn = minimum([νZero + sP.n_iν-1, size(tmp,3)])\n",
    "        for (νn,νi) in enumerate(νZero:maxn)\n",
    "            Kνωq = nlQ_sp.γ[ωi, :, νi] .* fsp .- nlQ_ch.γ[ωi, :, νi] .* fch .- 1.5 .+ 0.5 .+ tmp[ωii,:,νi]\n",
    "            Σ_ladder_ω[νn,:, ωii] = conv_fft1(kG, Kνωq, view(Gνω, (νn-1) + ωn,:))\n",
    "        end\n",
    "    end\n",
    "    E_pot = 0.0\n",
    "    for qi in axes(bubble,2)\n",
    "        GΣ_λ = 0.0\n",
    "        for i in axes(νGrid,1)\n",
    "            Σ_λ = mP.U * sum(@view Σ_ladder_ω[i,qi,:])/mP.β - Σ_ladderLoc[i] + Σ_loc_pos[i] + Σ_hartree\n",
    "            GΣ_λ += 2 * real(Σ_λ * G_from_Σ(iν_n[i], mP.β, mP.μ, kG.ϵkGrid[qi], Σ_λ) - E_pot_tail[i,qi])\n",
    "        end\n",
    "        GΣ_λ += E_pot_tail_inv[qi]   # ν summation\n",
    "        E_pot += kG.kMult[qi]*GΣ_λ # k intgration\n",
    "    end\n",
    "    E_pot = E_pot / (kG.Nk * mP.β)\n",
    "    for (wi,w) in enumerate(ωindices)\n",
    "        χupup_ω[wi] = kintegrate(kG, χch_int2[w,:] .+ χsp_int2[w,:])[1] / 2\n",
    "        χupdo_ω[wi] = kintegrate(kG, χch_int2[w,:] .- χsp_int2[w,:])[1] / 2\n",
    "    end\n",
    "    subtract_tail!(χupup_ω, χupup_ω, mP.Ekin_DMFT, iωn)\n",
    "    lhs_c1 = real(sum_freq(χupup_ω, [1], sh_b, mP.β, corr=-mP.Ekin_DMFT*mP.β^2/12)[1])\n",
    "    lhs_c2 = real(sum_freq(χupdo_ω, [1], sh_b, mP.β)[1])\n",
    "    println(lhs_c1, \" \", lhs_c2)\n",
    "    rhs_c1 = mP.n/2 * (1 - mP.n/2)\n",
    "    rhs_c2 = E_pot/mP.U - (mP.n/2) * (mP.n/2)\n",
    "    F[1] = lhs_c1 - rhs_c1\n",
    "    F[2] = lhs_c2 - rhs_c2\n",
    "end"
   ]
  },
  {
   "cell_type": "code",
   "execution_count": 17,
   "metadata": {},
   "outputs": [
    {
     "ename": "LoadError",
     "evalue": "UndefVarError: nlQ_sp not defined",
     "output_type": "error",
     "traceback": [
      "UndefVarError: nlQ_sp not defined",
      "",
      "Stacktrace:",
      " [1] top-level scope",
      "   @ In[17]:1",
      " [2] eval",
      "   @ ./boot.jl:373 [inlined]",
      " [3] include_string(mapexpr::typeof(REPL.softscope), mod::Module, code::String, filename::String)",
      "   @ Base ./loading.jl:1196"
     ]
    }
   ],
   "source": [
    "ωindices = (sP.dbg_full_eom_omega) ? (1:size(bubble,1)) : intersect(nlQ_sp.usable_ω, nlQ_ch.usable_ω)\n",
    "\n",
    "νmax = trunc(Int,size(bubble,3)/3)\n",
    "νGrid = 0:(νmax-1)\n",
    "iν_n = iν_array(mP.β, νGrid)\n",
    "iωn = 1im .* 2 .* (-sP.n_iω:sP.n_iω)[ωindices] .* π ./ mP.β\n",
    "iωn2_sub = real.([i == 0 ? 0 : mP.Ekin_DMFT ./ (i).^2 for i in iωn])\n",
    "sh_f = get_sum_helper(2*sP.n_iν, sP, :f)\n",
    "sh_b = Naive() #get_sum_helper(length(ωindices), sP, :b)\n",
    "\n",
    "tmp = Array{Float64,3}(undef, length(ωindices), size(bubble,2), size(bubble,3))\n",
    "Σ_ladder_ω = SharedArray{Complex{Float64},3}(sP.n_iν, size(bubble,2), length(ωindices))\n",
    "\n",
    "χsp_int = SharedArray{eltype(nlQ_sp.χ),2}(length(ωindices), size(nlQ_sp.χ,2))\n",
    "χch_int = SharedArray{eltype(nlQ_sp.χ),2}(length(ωindices), size(nlQ_sp.χ,2))\n",
    "\n",
    "\n",
    "# Prepare data\n",
    "Σ_internal!(tmp, ωindices, bubble, FUpDo, sh_f)\n",
    "(sP.tc_type_f != :nothing) && extend_tmp!(tmp)\n",
    "\n",
    "nh    = ceil(Int64, size(nlQ_sp.χ,1)/2)\n",
    "χsp_min    = -1 / maximum(real.(nlQ_sp.χ[nh,:])) .+ 0.1\n",
    "χch_min    = -1 / maximum(real.(nlQ_ch.χ[nh,:])) .+ 0.1\n",
    "\n",
    "Σ_hartree = mP.n * mP.U/2\n",
    "E_kin_tail_c = [zeros(size(kG.ϵkGrid)), (kG.ϵkGrid .+ Σ_hartree .- mP.μ)]\n",
    "E_pot_tail_c = [zeros(size(kG.ϵkGrid)),\n",
    "                (mP.U^2 * 0.5 * mP.n * (1-0.5*mP.n) .+ Σ_hartree .* (kG.ϵkGrid .+ Σ_hartree .- mP.μ))]\n",
    "tail = [1 ./ (iν_n .^ n) for n in 1:length(E_kin_tail_c)]\n",
    "E_pot_tail = sum(E_pot_tail_c[i]' .* tail[i] for i in 1:length(tail))\n",
    "E_pot_tail_inv = sum((mP.β/2)  .* [Σ_hartree .* ones(size(kG.ϵkGrid)), (-mP.β/2) .* E_pot_tail_c[2]])\n",
    "\n",
    "\n",
    "function cond_both!(F, λ)\n",
    "    lhs_c1 = 0.0\n",
    "    lhs_c2 = 0.0\n",
    "    \n",
    "    for ωii in 1:length(ωindices)\n",
    "        ωi = ωindices[ωii]\n",
    "        ωn = (ωi - sP.n_iω) - 1\n",
    "        fsp = 1.5 .* (1 .+ mP.U ./ ((1.0 ./ view(nlQ_sp.χ, ωi,:)) .+ λ[1]))\n",
    "        fch = 0.5 .* (1 .- mP.U ./ ((1.0 ./ view(nlQ_ch.χ, ωi,:)) .+ λ[2]))\n",
    "        νZero = ν0Index_of_ωIndex(ωi, sP)\n",
    "        maxn = minimum([νZero + sP.n_iν-1, size(tmp,3)])\n",
    "        \n",
    "        for (νn,νi) in enumerate(νZero:maxn)\n",
    "            Kνωq = expandKArr(kG, view(nlQ_sp.γ,ωi, :, νi) .* fsp .- view(nlQ_ch.γ, ωi, :, νi) .* fch .- 1.5 .+ 0.5 .+ tmp[ωii,:,νi])\n",
    "            fft!(Kνωq)\n",
    "            Kνωq = Kνωq .* reshape(view(Gνω, (νn-1) + ωn,:), gridshape(kG))\n",
    "            ifft!(Kνωq)\n",
    "            Σ_ladder_ω[νn,:, ωii] = reduceKArr(kG, reverse(Kνωq))  ./ kG.Nk\n",
    "        end\n",
    "        t1 = 0.0\n",
    "        t2 = 0.0\n",
    "        for qi in axes(bubble,2)\n",
    "            t1 += kG.kMult[qi]*real( 1.0 / ((1.0 / nlQ_ch.χ[ωi,qi]) .+ λ[2]))\n",
    "            t2 += kG.kMult[qi]*real( 1.0 / ((1.0 / nlQ_sp.χ[ωi,qi]) .+ λ[1]))\n",
    "        end\n",
    "        lhs_c1 += (t1 + t2) / (2*kG.Nk) - iωn2_sub[ωii]\n",
    "        lhs_c2 += (t1 - t2) / (2*kG.Nk)\n",
    "    end\n",
    "    E_pot = 0.0\n",
    "    for qi in axes(bubble,2)\n",
    "        GΣ_λ = 0.0\n",
    "        for i in axes(νGrid,1)\n",
    "            Σ_λ = mP.U * sum(view(Σ_ladder_ω, i,qi,:))/mP.β - Σ_ladderLoc[i] + Σ_loc_pos[i] + Σ_hartree\n",
    "            GΣ_λ += 2 * real(Σ_λ * G_from_Σ(iν_n[i], mP.β, mP.μ, kG.ϵkGrid[qi], Σ_λ) - E_pot_tail[i,qi])\n",
    "        end\n",
    "        GΣ_λ += E_pot_tail_inv[qi]   # ν summation\n",
    "        E_pot += kG.kMult[qi]*GΣ_λ # k intgration\n",
    "    end\n",
    "    E_pot = E_pot / (kG.Nk * mP.β)\n",
    "    lhs_c1 = (lhs_c1 - mP.Ekin_DMFT*mP.β^2/12)/mP.β\n",
    "    lhs_c2 = (lhs_c2)/mP.β\n",
    "    println(lhs_c1, \" \", lhs_c2)\n",
    "\n",
    "    rhs_c1 = mP.n/2 * (1 - mP.n/2)\n",
    "    rhs_c2 = E_pot/mP.U - (mP.n/2) * (mP.n/2)\n",
    "    F[1] = lhs_c1 - rhs_c1\n",
    "    F[2] = lhs_c2 - rhs_c2\n",
    "    return F\n",
    "end"
   ]
  },
  {
   "cell_type": "code",
   "execution_count": 18,
   "metadata": {},
   "outputs": [
    {
     "ename": "LoadError",
     "evalue": "UndefVarError: cond_both_old! not defined",
     "output_type": "error",
     "traceback": [
      "UndefVarError: cond_both_old! not defined",
      "",
      "Stacktrace:",
      " [1] top-level scope",
      "   @ ./timing.jl:210 [inlined]",
      " [2] top-level scope",
      "   @ ./In[18]:0",
      " [3] eval",
      "   @ ./boot.jl:373 [inlined]",
      " [4] include_string(mapexpr::typeof(REPL.softscope), mod::Module, code::String, filename::String)",
      "   @ Base ./loading.jl:1196"
     ]
    }
   ],
   "source": [
    "f1 = [1.0 3.1]\n",
    "f2 = [1.0 3.1]\n",
    "λttt = [0.1 3.2]\n",
    "@time cond_both_old!(f1, λttt)\n",
    "@time cond_both!(f2, λttt)\n",
    "println(\"$f1 vs $f2 <=> $(f1 ≈ f2)\")"
   ]
  },
  {
   "cell_type": "code",
   "execution_count": 19,
   "metadata": {},
   "outputs": [
    {
     "ename": "LoadError",
     "evalue": "UndefVarError: λsp_min not defined",
     "output_type": "error",
     "traceback": [
      "UndefVarError: λsp_min not defined",
      "",
      "Stacktrace:",
      " [1] top-level scope",
      "   @ In[19]:1",
      " [2] eval",
      "   @ ./boot.jl:373 [inlined]",
      " [3] include_string(mapexpr::typeof(REPL.softscope), mod::Module, code::String, filename::String)",
      "   @ Base ./loading.jl:1196"
     ]
    }
   ],
   "source": [
    "x0 = [λsp_min, λch_min]\n",
    "\n",
    "function cond_both(λ)\n",
    "    F = zeros(size(λ)...)\n",
    "    cond_both!(F,λ)\n",
    "    return F\n",
    "end\n",
    "@time LadderDGA.newton_2d_right(cond_both, x0, nsteps=100, atol=1e-6)"
   ]
  },
  {
   "cell_type": "code",
   "execution_count": 20,
   "metadata": {},
   "outputs": [
    {
     "ename": "LoadError",
     "evalue": "UndefVarError: cond_both not defined",
     "output_type": "error",
     "traceback": [
      "UndefVarError: cond_both not defined",
      "",
      "Stacktrace:",
      " [1] top-level scope",
      "   @ In[20]:1",
      " [2] eval",
      "   @ ./boot.jl:373 [inlined]",
      " [3] include_string(mapexpr::typeof(REPL.softscope), mod::Module, code::String, filename::String)",
      "   @ Base ./loading.jl:1196"
     ]
    }
   ],
   "source": [
    "cond_both([-0.001809180794405985, 1.0140624318248035])"
   ]
  },
  {
   "cell_type": "code",
   "execution_count": 21,
   "metadata": {},
   "outputs": [
    {
     "ename": "LoadError",
     "evalue": "UndefVarError: nlQ_sp_nλ not defined",
     "output_type": "error",
     "traceback": [
      "UndefVarError: nlQ_sp_nλ not defined",
      "",
      "Stacktrace:",
      " [1] top-level scope",
      "   @ ./timing.jl:210 [inlined]",
      " [2] top-level scope",
      "   @ ./In[21]:0",
      " [3] eval",
      "   @ ./boot.jl:373 [inlined]",
      " [4] include_string(mapexpr::typeof(REPL.softscope), mod::Module, code::String, filename::String)",
      "   @ Base ./loading.jl:1196"
     ]
    }
   ],
   "source": [
    "@time r = LadderDGA.extended_λ(nlQ_sp_nλ, nlQ_ch_nλ, bubble, GLoc_fft, FUpDo, Σ_loc, Σ_ladderLoc, kG, mP, sP)"
   ]
  },
  {
   "cell_type": "code",
   "execution_count": 22,
   "metadata": {},
   "outputs": [
    {
     "ename": "LoadError",
     "evalue": "UndefVarError: cond_both! not defined",
     "output_type": "error",
     "traceback": [
      "UndefVarError: cond_both! not defined",
      "",
      "Stacktrace:",
      " [1] macro expansion",
      "   @ /buildworker/worker/package_linux64/build/usr/share/julia/stdlib/v1.7/Profile/src/Profile.jl:28 [inlined]",
      " [2] top-level scope",
      "   @ ~/.julia/packages/ProfileSVG/ecSyU/src/ProfileSVG.jl:17",
      " [3] eval",
      "   @ ./boot.jl:373 [inlined]",
      " [4] include_string(mapexpr::typeof(REPL.softscope), mod::Module, code::String, filename::String)",
      "   @ Base ./loading.jl:1196"
     ]
    }
   ],
   "source": [
    "using Profile\n",
    "using ProfileSVG\n",
    "@profview cond_both!(f2, λttt)"
   ]
  },
  {
   "cell_type": "code",
   "execution_count": 23,
   "metadata": {},
   "outputs": [
    {
     "ename": "LoadError",
     "evalue": "UndefVarError: νmax not defined",
     "output_type": "error",
     "traceback": [
      "UndefVarError: νmax not defined",
      "",
      "Stacktrace:",
      " [1] top-level scope",
      "   @ In[23]:1",
      " [2] eval",
      "   @ ./boot.jl:373 [inlined]",
      " [3] include_string(mapexpr::typeof(REPL.softscope), mod::Module, code::String, filename::String)",
      "   @ Base ./loading.jl:1196"
     ]
    }
   ],
   "source": [
    "Σ_λ = Σ_ladder_corrected[1:νmax,:]\n",
    "#Σ_λ = (Σ_ladder_i .- Σ_ladderLoc[1:size(Σ_ladder_i,1)] .+ Σ_loc[1:size(Σ_ladder_i,1)]);\n",
    "E_kin_DGA, E_pot_DGA_i = LadderDGA.calc_E(Σ_λ, kGrid, mP, sP)\n",
    "#E3 = LadderDGA.calc_E_pot(kG, GLoc[0:νmax-1,:].parent, Σ_λ, E_pot_tail, E_pot_tail_inv, mP.β)\n",
    "Σ_λ .= Σ_λ .+ Σ_hartree\n",
    "G_λ = flatten_2D(G_from_Σ(Σ_λ, kG.ϵkGrid, 0:νmax-1, mP));\n",
    "E3_h = real.(G_λ .* Σ_λ .- E_pot_tail);\n",
    "E3 = kintegrate(kG, 2 .* sum(E3_h[1:size(Σ_λ,1),:], dims=[1])[1,:] .+ E_pot_tail_inv)[1] / mP.β\n",
    "E4 = LadderDGA.calc_E_pot(kG, G_λ, Σ_λ, E_pot_tail, E_pot_tail_inv, mP.β);"
   ]
  },
  {
   "cell_type": "code",
   "execution_count": 24,
   "metadata": {},
   "outputs": [
    {
     "ename": "LoadError",
     "evalue": "UndefVarError: E_pot_DGA_i not defined",
     "output_type": "error",
     "traceback": [
      "UndefVarError: E_pot_DGA_i not defined",
      "",
      "Stacktrace:",
      " [1] top-level scope",
      "   @ In[24]:1",
      " [2] eval",
      "   @ ./boot.jl:373 [inlined]",
      " [3] include_string(mapexpr::typeof(REPL.softscope), mod::Module, code::String, filename::String)",
      "   @ Base ./loading.jl:1196"
     ]
    }
   ],
   "source": [
    "ep1 = map(x-> x[1], E_pot_DGA_i)\n",
    "ep2 = map(x-> x[1], E3)\n",
    "ep3 = map(x-> x[1], E4)\n",
    "plot(ep1,markershape=:auto, markersize=6, label=\"full\")\n",
    "hline!([E3], label=\"fast 1\")\n",
    "hline!([E4], label=\"fast\")"
   ]
  },
  {
   "cell_type": "markdown",
   "metadata": {},
   "source": [
    "322.476980 seconds (1.13 G allocations: 254.027 GiB, 16.14% gc time, 0.06% compilation time)\n"
   ]
  },
  {
   "cell_type": "markdown",
   "metadata": {},
   "source": [
    "# extended Lambda test\n",
    "TODO: reactivate plots"
   ]
  },
  {
   "cell_type": "code",
   "execution_count": 25,
   "metadata": {},
   "outputs": [
    {
     "ename": "LoadError",
     "evalue": "UndefVarError: modelParams not defined",
     "output_type": "error",
     "traceback": [
      "UndefVarError: modelParams not defined",
      "",
      "Stacktrace:",
      " [1] getproperty(x::Module, f::Symbol)",
      "   @ Base ./Base.jl:35",
      " [2] top-level scope",
      "   @ In[25]:1",
      " [3] eval",
      "   @ ./boot.jl:373 [inlined]",
      " [4] include_string(mapexpr::typeof(REPL.softscope), mod::Module, code::String, filename::String)",
      "   @ Base ./loading.jl:1196"
     ]
    }
   ],
   "source": [
    "mP = LadderDGA.modelParams\n",
    "sP = LadderDGA.simParams\n",
    "nc = [0,1,2,3]\n",
    "NW = floor(Int64, length(usable_ω)/2)\n",
    "ωmin = 1\n",
    "ωmax = NW \n",
    "coeffs = collect(0:3)\n",
    "Wω = LadderDGA.build_weights(ωmin, ωmax, coeffs)\n",
    "println(\"building  weight matrix from $ωmin to $ωmax with coefficients $(coeffs)\")\n",
    "include(\"src/ConvergenceAcc.jl\")\n",
    "#Shanks.shanks(E_Pot, csum_inp=true) \n",
    "\n",
    "testf_c2(λspi , λchi) = LadderDGA.calc_E_pot_cond(λspi , λchi, nlQ_sp, nlQ_ch, bubble, \n",
    "                         LadderDGA.ϵkGrid, LadderDGA.FUpDo, \n",
    "                         LadderDGA.Σ_loc_pos,Σ_ladderLoc,\n",
    "                         LadderDGA.qIndices, LadderDGA.qMultiplicity, \n",
    "                         mP, sP, sP.tail_corrected);\n",
    "function cond_both_nc!(F, λ)\n",
    "    testf!(λ) = construct_f(λ[1],λchi, rχsp, rχch, mode=m, rhs=rhs_val)\n",
    "    testdf!(λ) = construct_df(λ[1], λchi, rχsp, rχch, mode=m, rhs=rhs_val);\n",
    "    Σ_ladder2, lhs_c2, E_pot_DGA = testf_c2(λ[1], λ[2])\n",
    "    χsp_λ = LadderDGA.χ_λ(real.(nlQ_sp.χ), λ[1])\n",
    "    χch_λ = LadderDGA.χ_λ(real.(nlQ_ch.χ), λ[2])\n",
    "    χupup = LadderDGA.sum_q(χch_λ[usable_ω,:].+ χsp_λ[usable_ω,:], LadderDGA.qMultiplicity, dims=2)[:,1] ./ 2\n",
    "    nwh = ceil(Int64, size(χsp_λ,1)/2)\n",
    "    penalty = sum(abs.(χsp_λ[nwh,(χsp_λ[nwh,:] .< 0)])) + sum(abs.(χch_λ[nwh,(χch_λ[nwh,:] .< 0)])) \n",
    "    #penalty2 = length(χch_λ[nwh,((χch_λ[nwh,:] .< 0.01) .& (χch_λ[nwh,:] .>= 0.0))])\n",
    "    tmp =  real(LadderDGA.sum_freq(χupup, [1], true, mP.β, weights=Wω)[1]) \n",
    "    #tmp += -penalty\n",
    "    lhs_c1 = (mP.n/2) * (1 - mP.n/2)\n",
    "    println(\"calling for λ=$λ, E_pot=$(E_pot_DGA), penalty = $penalty\")\n",
    "    F[1] = penalty > 0 ? penalty : tmp - lhs_c1\n",
    "    F[2] = (lhs_c2) - E_pot_DGA# - penalty\n",
    "end\n",
    "\n",
    "function cond_both_c!(F, λ)\n",
    "    Σ_ladder2, lhs_c2, E_pot_DGA = LadderDGA.calc_E_pot_cond(λ[1], λ[2], nlQ_sp, nlQ_ch, bubble, \n",
    "                     LadderDGA.ϵkGrid, LadderDGA.FUpDo, \n",
    "                     LadderDGA.Σ_loc_pos,Σ_ladderLoc,\n",
    "                     LadderDGA.qIndices, LadderDGA.qMultiplicity, \n",
    "                     mP, sP, sP.tail_corrected, E_pot_tail_corr=true);\n",
    "    χsp_λ = LadderDGA.χ_λ(real.(nlQ_sp.χ), λ[1])\n",
    "    χch_λ = LadderDGA.χ_λ(real.(nlQ_ch.χ), λ[2])\n",
    "    χupup = LadderDGA.sum_q(χch_λ[usable_ω,:].+ χsp_λ[usable_ω,:], LadderDGA.qMultiplicity, dims=2)[:,1] ./ 2\n",
    "    nwh = ceil(Int64, size(χsp_λ,1)/2)\n",
    "    penalty = sum(abs.(χsp_λ[nwh,(χsp_λ[nwh,:] .< 0)])) + sum(abs.(χch_λ[nwh,(χch_λ[nwh,:] .< 0)])) \n",
    "    #penalty2 = length(χch_λ[nwh,((χch_λ[nwh,:] .< 0.01) .& (χch_λ[nwh,:] .>= 0.0))])\n",
    "    tmp =  real(LadderDGA.sum_freq(χupup, [1], true, mP.β, weights=Wω)[1]) \n",
    "    #tmp += -penalty\n",
    "    lhs_c1 = mP.n/2 * (1 - mP.n/2)\n",
    "    println(\"calling for λ=$(round.(λ,digits=2)), E_pot=$(E_pot_DGA), res = $(abs(tmp - lhs_c1) + abs(E_pot_DGA + (lhs_c2))), penalty = $penalty\")\n",
    "    F[1] = penalty > 0 ? penalty : tmp - lhs_c1\n",
    "    F[2] = (lhs_c2) - E_pot_DGA\n",
    "    #F[3] = mP.n - sum(Gμλ)\n",
    "end"
   ]
  },
  {
   "cell_type": "code",
   "execution_count": 26,
   "metadata": {},
   "outputs": [
    {
     "ename": "LoadError",
     "evalue": "UndefVarError: nlQ_sp not defined",
     "output_type": "error",
     "traceback": [
      "UndefVarError: nlQ_sp not defined",
      "",
      "Stacktrace:",
      " [1] top-level scope",
      "   @ In[26]:2",
      " [2] eval",
      "   @ ./boot.jl:373 [inlined]",
      " [3] include_string(mapexpr::typeof(REPL.softscope), mod::Module, code::String, filename::String)",
      "   @ Base ./loading.jl:1196"
     ]
    }
   ],
   "source": [
    "using LaTeXStrings\n",
    "χsp_λ = LadderDGA.χ_λ(real.(nlQ_sp.χ[usable_ω,:]), res_nc.zero[1])\n",
    "χch_λ = LadderDGA.χ_λ(real.(nlQ_ch.χ[usable_ω,:]), res_nc.zero[2])\n",
    "χupup = LadderDGA.sum_q(χch_λ .+ χsp_λ, LadderDGA.qMultiplicity, dims=2)[:,1] ./ 2\n",
    "χupdo = LadderDGA.sum_q(χch_λ .- χsp_λ, LadderDGA.qMultiplicity, dims=2)[:,1] ./ 2\n",
    "rhs_c1 = real(LadderDGA.sum_freq(χupup, [1], true, mP.β, weights=Wω)[1])  \n",
    "rhs_c2 = mP.U * real(LadderDGA.sum_freq(χupdo, [1], true, mP.β, weights=Wω)[1])  + mP.n^2/4\n",
    "lhs_c1 = mP.n/2 * (1 - mP.n/2)\n",
    "Σ_ladder2, lhs_c2, E_pot_DGA = LadderDGA.calc_E_pot_cond(res_nc.zero[1], res_nc.zero[2], nlQ_sp, nlQ_ch, bubble, \n",
    "                     LadderDGA.ϵkGrid, LadderDGA.FUpDo, \n",
    "                     LadderDGA.Σ_loc_pos,Σ_ladderLoc,\n",
    "                     LadderDGA.qIndices, LadderDGA.qMultiplicity, \n",
    "                     mP, sP, sP.tail_corrected, E_pot_tail_corr=false);\n",
    "E_Kin, E_Pot = LadderDGA.calc_E(Σ_ladder2, LadderDGA.ϵqGrid, LadderDGA.qMultiplicity, sP.Nk, mP, sP);\n",
    "\n",
    "\n",
    "l = @layout [A{0.01h}; \n",
    "             [grid(1,2)\n",
    "              b{0.3h}]]\n",
    "nhi = 20\n",
    "xarr = usable_ω .- ceil(Int64, size(bubble,1)/2)\n",
    "title = plot(title = L\"U=%$(mP.U), \\beta=%$(mP.β)\", grid = false, showaxis = false, bottom_margin = -50Plots.px)\n",
    "p1 = plot(xarr, χsp_λ[:,1], legend = true, xlabel=L\"\\omega_n\", ylabel=L\"\\chi^\\lambda_{\\mathrm{sp}}\", label=\"q=$(round.(LadderDGA.qGrid[1],digits=2))\", markershape=:circle, markersize=2)\n",
    "plot!(xarr, χsp_λ[:,nhi], label=\"q=$(round.(LadderDGA.qGrid[nhi],digits=2))\", markershape=:circle, markersize=2)\n",
    "plot!(xarr, χsp_λ[:,end], label=\"q=$(round.(LadderDGA.qGrid[end],digits=2))\", markershape=:circle, markersize=2)\n",
    "annotate_y_pos = 0.7*maximum([maximum(χsp_λ[:,1]), maximum(χsp_λ[:,nhi]), maximum(χsp_λ[:,end])])\n",
    "annotate!(xarr[end-2], annotate_y_pos, text(L\"\\lambda_\\mathrm{sp} = %$(round(res_nc.zero[1],digits=3))\", :right, 10))\n",
    "\n",
    "    \n",
    "p2 = plot(xarr, χch_λ[:,1], legend = false, xlabel=L\"\\omega_n\", ylabel=L\"\\chi^\\lambda_{\\mathrm{ch}}\", label=\"q=$(round.(LadderDGA.qGrid[1],digits=2))\", markershape=:hexagon, markersize=2)\n",
    "plot!(xarr, χch_λ[:,nhi], label=\"q=$(round.(LadderDGA.qGrid[nhi],digits=2))\", markershape=:hexagon, markersize=2)\n",
    "plot!(xarr, χch_λ[:,end], label=\"q=$(round.(LadderDGA.qGrid[end],digits=2))\", markershape=:hexagon, markersize=2)\n",
    "annotate_y_pos = 0.75*maximum([maximum(χch_λ[:,1]), maximum(χch_λ[:,nhi]), maximum(χch_λ[:,end])])\n",
    "annotate!(xarr[end-2], annotate_y_pos, text(L\"\\lambda_\\mathrm{ch} = %$(round(res_nc.zero[2],digits=3))\", :right, 10))\n",
    "\n",
    "\n",
    "p3 = plot(E_Pot, xlabel=L\"\\nu_n\", label=L\"\\qquad\\qquad\\;\\;\\; G^\\lambda \\star \\Sigma^\\lambda = %$(round(E_Pot[end], digits=6))\", markershape=:hexagon, markersize=2,legend=:bottomright, legendfontsize=9)\n",
    "plot!([rhs_c2], seriestype = :hline, label=L\"\\frac{1}{\\beta N_k} \\sum_{\\omega,q} \\chi_\\mathrm{up, do}\\quad\\, = %$(round(rhs_c2, digits=6))\")\n",
    "plot!([E_Pot[end]], seriestype = :hline, linestyle=:dash, label=L\"\\mathrm{\\;\\;\\;naive\\;E}_\\mathrm{pot, LDGA} = %$(round(E_pot_DGA, digits=6))\")\n",
    "annotate_y_pos = (0.3*(maximum(E_Pot) - minimum(E_Pot)) + minimum(E_Pot))\n",
    "annotate!(0.2*length(E_Pot), annotate_y_pos, text(L\"\\frac{1}{\\beta N_k}\\sum_{\\omega,q} \\chi_\\mathrm{up, up} = %$(round(rhs_c1,digits=14)) \\stackrel{!}{=} \\frac{n}{2} (1-\\frac{n}{2}) = %$(mP.n/2 *(1 - mP.n/2))\", :left, 10))\n",
    "\n",
    "plot(title, p1, p2, p3, layout = l, size=(1000,800))\n",
    "#savefig(\"cond_solution_tc_test_b15U2.pdf\")"
   ]
  },
  {
   "cell_type": "code",
   "execution_count": 27,
   "metadata": {},
   "outputs": [
    {
     "ename": "LoadError",
     "evalue": "UndefVarError: nlQ_sp not defined",
     "output_type": "error",
     "traceback": [
      "UndefVarError: nlQ_sp not defined",
      "",
      "Stacktrace:",
      " [1] top-level scope",
      "   @ In[27]:3",
      " [2] eval",
      "   @ ./boot.jl:373 [inlined]",
      " [3] include_string(mapexpr::typeof(REPL.softscope), mod::Module, code::String, filename::String)",
      "   @ Base ./loading.jl:1196"
     ]
    }
   ],
   "source": [
    "using LaTeXStrings\n",
    "\n",
    "χsp_λ = LadderDGA.χ_λ(real.(nlQ_sp.χ[usable_ω,:]), res_nc.zero[1])\n",
    "χch_λ = LadderDGA.χ_λ(real.(nlQ_ch.χ[usable_ω,:]), res_nc.zero[2])\n",
    "χsp_λ_old = LadderDGA.χ_λ(real.(nlQ_sp.χ[usable_ω,:]),0.050817859568877091)\n",
    "χch_λ_old = LadderDGA.χ_λ(real.(nlQ_ch.χ[usable_ω,:]), 0.0)\n",
    "χupup = LadderDGA.sum_q(χch_λ .+ χsp_λ, LadderDGA.qMultiplicity, dims=2)[:,1] ./ 2\n",
    "χupdo = LadderDGA.sum_q(χch_λ .- χsp_λ, LadderDGA.qMultiplicity, dims=2)[:,1] ./ 2\n",
    "rhs_c1 = real(LadderDGA.sum_freq(χupup, [1], true, mP.β, weights=Wω)[1])  \n",
    "rhs_c2 = mP.U * real(LadderDGA.sum_freq(χupdo, [1], true, mP.β, weights=Wω)[1])  + mP.n^2/4\n",
    "lhs_c1 = mP.n/2 * (1 - mP.n/2)\n",
    "Σ_ladder2, lhs_c2, E_pot_DGA = LadderDGA.calc_E_pot_cond(res_nc.zero[1], res_nc.zero[2], nlQ_sp, nlQ_ch, bubble, \n",
    "                     LadderDGA.ϵkGrid, LadderDGA.FUpDo, \n",
    "                     LadderDGA.Σ_loc_pos,Σ_ladderLoc,\n",
    "                     LadderDGA.qIndices, LadderDGA.qMultiplicity, \n",
    "                     mP, sP, sP.tail_corrected, E_pot_tail_corr=false);\n",
    "E_Kin, E_Pot = LadderDGA.calc_E(Σ_ladder2, LadderDGA.ϵqGrid, LadderDGA.qMultiplicity, sP.Nk, mP, sP);\n",
    "E_Kin_naive, E_Pot_naive = calc_E_notail(Σ_ladder2, LadderDGA.ϵqGrid, LadderDGA.qMultiplicity, sP.Nk, mP, sP);\n",
    "l = @layout [A{0.025h}; \n",
    "             grid(1,2)]\n",
    "nhi = 20\n",
    "xarr = usable_ω .- ceil(Int64, size(bubble,1)/2)\n",
    "title = plot(title = L\"U=%$(mP.U), \\beta=%$(mP.β)\", grid = false, showaxis = false, bottom_margin = -50Plots.px, titlefontsize=18)\n",
    "p1 = plot(xarr, χsp_λ_old[:,end], label=L\"\\mathrm{Old\\;Method:}\\;\\; \\lambda_\\mathrm{sp} = 0.051\", markershape=:circle, markersize=3, markerstrokewidth=0.6)\n",
    "plot!(xarr, χsp_λ[:,end], color=:orange, legend = :outertop, xlabel=L\"\\omega_n\", ylabel=L\"\\chi^\\lambda_{\\mathrm{sp}}\", label=L\"\\mathrm{New\\;Method:}\\; \\lambda_\\mathrm{sp} = %$(round(res_nc.zero[1],digits=3))\", markershape=:hexagon, markerstrokewidth=0.6, markersize=3,\n",
    "    xtickfontsize=12,ytickfontsize=12,legendfontsize=12,xguidefontsize=16,yguidefontsize=16, margin=4Plots.mm)\n",
    "#plot!(xarr, χsp_λ[:,nhi], label=\"q=$(round.(LadderDGA.qGrid[nhi],digits=2))\", markershape=:circle, markersize=2)\n",
    "#p1 = plot(xarr, χsp_λ[:,end], label=L\"q=$(\\pi,\\pi,\\pi)\", markershape=:circle, markersize=2)\n",
    "annotate_y_pos = 0.7*maximum([maximum(χsp_λ[:,1]), maximum(χsp_λ[:,nhi]), maximum(χsp_λ[:,end])])\n",
    "#annotate!(xarr[end-2], annotate_y_pos, text(L\"\\lambda_\\mathrm{sp} = %$(round(res_nc.zero[1],digits=3))\", :right, 10))\n",
    "annotate!(xarr[end-2], annotate_y_pos, text(L\"\\vec{q}=(\\pi,\\pi,\\pi)\", :right, 16))\n",
    "    \n",
    "p2 = plot(xarr, χch_λ_old[:,end], label=L\"\\mathrm{Old\\;Method:}\\;\\; \\lambda_\\mathrm{ch} = 0\", markershape=:circle, markersize=3, markerstrokewidth=0.6)\n",
    "plot!(xarr, χch_λ[:,end], color=:orange, legend = :outertop, xlabel=L\"\\omega_n\", ylabel=L\"\\chi^\\lambda_{\\mathrm{ch}}\", label=L\"\\mathrm{New\\;Method:}\\; \\lambda_\\mathrm{ch} = %$(round(res_nc.zero[2],digits=3))\", markershape=:hexagon, markersize=3, markerstrokewidth=0.6,xtickfontsize=12,ytickfontsize=12,legendfontsize=12,xguidefontsize=16,yguidefontsize=16)\n",
    "#plot!(xarr, χch_λ[:,nhi], label=\"q=$(round.(LadderDGA.qGrid[nhi],digits=2))\", markershape=:hexagon, markersize=2)\n",
    "#plot!(xarr, χch_λ[:,end], label=\"q=$(round.(LadderDGA.qGrid[end],digits=2))\", markershape=:hexagon, markersize=2)\n",
    "annotate_y_pos = 0.75*maximum([maximum(χch_λ[:,1]), maximum(χch_λ[:,nhi]), maximum(χch_λ[:,end])])\n",
    "#annotate!(xarr[end-2], annotate_y_pos, text(L\"\\lambda_\\mathrm{ch} = %$(round(res_nc.zero[2],digits=3))\", :right, 10))\n",
    "annotate!(xarr[end-2], annotate_y_pos, text(L\"\\vec{q}=(\\pi,\\pi,\\pi)\", :right, 16))\n",
    "\n",
    "\n",
    "\n",
    "plot(title, p1, p2, layout = l, size=(1200,600))\n",
    "#savefig(\"cond_solution_tc_test_b25U1.pdf\")"
   ]
  },
  {
   "cell_type": "code",
   "execution_count": 28,
   "metadata": {},
   "outputs": [
    {
     "ename": "LoadError",
     "evalue": "UndefVarError: χupdo not defined",
     "output_type": "error",
     "traceback": [
      "UndefVarError: χupdo not defined",
      "",
      "Stacktrace:",
      " [1] (::var\"#3#4\")(i::Int64)",
      "   @ Main ./none:0",
      " [2] iterate",
      "   @ ./generator.jl:47 [inlined]",
      " [3] collect(itr::Base.Generator{StepRange{Int64, Int64}, var\"#3#4\"})",
      "   @ Base ./array.jl:710",
      " [4] top-level scope",
      "   @ In[28]:4",
      " [5] eval",
      "   @ ./boot.jl:373 [inlined]",
      " [6] include_string(mapexpr::typeof(REPL.softscope), mod::Module, code::String, filename::String)",
      "   @ Base ./loading.jl:1196"
     ]
    }
   ],
   "source": [
    "l2 = @layout [A{0.025h}; \n",
    "             grid(2,1)]\n",
    "\n",
    "t = [real(mP.U * real(LadderDGA.sum_freq(χupdo[i+1:(end-i)], [1], true, mP.β, weights=LadderDGA.build_weights(1, floor(Int64, size(χupup[i+1:(end-i)], 1)/2), collect(0:3)))[1])  + mP.n^2/4) for i in 8:-1:0]\n",
    "\n",
    "nanline = repeat([NaN], length(E_Pot))\n",
    "p3 = plot(E_Pot_naive, xlabel=L\"\\nu_\\mathrm{max}\", \n",
    "    label=L\"\\;\\;\\;\\frac{1}{\\beta N_k}\\sum_{\\nu,q} G^\\lambda \\star \\Sigma^\\lambda\\, = %$(round(E_Pot_naive[end], digits=6))\",\n",
    "    markershape=:hexagon, markersize=2, markerstrokewidth=0.4,legend=:bottomright, margin=1Plots.mm,\n",
    "    xtickfontsize=12,ytickfontsize=12, legendfontsize=12,xguidefontsize=16,yguidefontsize=16)\n",
    "plot!(nanline, label=\" \", alpha= 0.0)\n",
    "#[rhs_c2], seriestype = :hline\n",
    "plot!(nh-9:nh-1,t,markershape=:hexagon, color=:orange, markersize=4, markerstrokewidth=0.4, label=L\"\\quad\\;\\mathrm{SumFit}_{\\omega}[\\chi_\\mathrm{up, do}] = %$(round(rhs_c2, digits=6))\")\n",
    "plot!([rhs_c2], seriestype = :hline, label=nothing, color=:orange)\n",
    "plot!(nanline, label=\" \", alpha= 0.0)\n",
    "plot!([E_Pot], markershape=:hexagon, markersize=2, markerstrokewidth=0.4, \n",
    "    label=L\"{\\mathrm{SumFit}_{\\nu}[G^\\lambda \\star \\Sigma^\\lambda]\\, = %$(round(E_Pot[end], digits=6))}\")\n",
    "\n",
    "naive_chiupup_sum = (χupup[nh] .+ 2 .* cumsum(χupup[nh+1:end])) ./ mP.β\n",
    "tt = [real(LadderDGA.sum_freq(χupup[i+1:(end-i)], [1], true, mP.β, weights=LadderDGA.build_weights(1, floor(Int64, size(χupup[i+1:(end-i)], 1)/2), collect(0:3)))[1]) for i in 8:-1:0]\n",
    "real(LadderDGA.sum_freq(χupup, [1], true, mP.β, weights=Wω)[1]) \n",
    "\n",
    "nanline = repeat([NaN], length(tt))\n",
    "p4 = plot(1:nh-1,naive_chiupup_sum, xlabel=L\"\\omega_\\mathrm{max}\", \n",
    "    label=L\"\\;\\;\\;\\frac{1}{\\beta N_k}\\sum_{\\omega,q} \\chi_\\mathrm{up, up} =   %$(round(naive_chiupup_sum[end],digits=4))\", xticks=collect(1:nh-1), margin=5Plots.mm,\n",
    "    markershape=:hexagon, markersize=2, markerstrokewidth=0.4,legend=:bottomright,xtickfontsize=12,ytickfontsize=12, legendfontsize=12,xguidefontsize=16,yguidefontsize=16)\n",
    "plot!(nanline, label=\" \", alpha= 0.0)\n",
    "plot!(nh-9:nh-1,tt,markershape=:hexagon, markersize=2, markerstrokewidth=0.4, color=:orange, label=L\"\\mathrm{SumFit}_{\\omega}[\\chi_\\mathrm{up, up}] = %$(round(rhs_c1,digits=4))\")\n",
    "plot!(nanline, label=\" \", alpha= 0.0)\n",
    "\n",
    "plot!([0.25], seriestype = :hline, color=:green, label=L\"\\qquad\\;\\frac{n}{2}\\left({1-\\frac{n}{2}}\\right) = \\frac{1}{4}\")\n",
    "annotate_y_pos = (0.08*(maximum(χupup) - minimum(χupup)) + minimum(χupup))\n",
    "#annotate!(0.3*length(1:nh-1), annotate_y_pos, text(L\"\\frac{1}{\\beta N_k}\\sum_{\\omega,q} \\chi_\\mathrm{up, up} = %$(round(rhs_c1,digits=12)) \\stackrel{!}{=} \\frac{n}{2} (1-\\frac{n}{2}) = %$(mP.n/2 *(1 - mP.n/2))\", :left, 14))\n",
    "\n",
    "plot(title, p3, p4, layout = l2, size=(1200,600))\n",
    "#savefig(\"cond_solution_tc_test_b25U1_2.pdf\")"
   ]
  },
  {
   "cell_type": "code",
   "execution_count": 29,
   "metadata": {},
   "outputs": [
    {
     "ename": "LoadError",
     "evalue": "UndefVarError: ωindices not defined",
     "output_type": "error",
     "traceback": [
      "UndefVarError: ωindices not defined",
      "",
      "Stacktrace:",
      " [1] top-level scope",
      "   @ In[29]:2",
      " [2] eval",
      "   @ ./boot.jl:373 [inlined]",
      " [3] include_string(mapexpr::typeof(REPL.softscope), mod::Module, code::String, filename::String)",
      "   @ Base ./loading.jl:1196"
     ]
    }
   ],
   "source": [
    "using LaTeXStrings\n",
    "usable_ω = ωindices\n",
    "lsp_zero = 0.04856121321074435#res_c.zero[1]\n",
    "lch_zero = 0.1292099471786603#res_c.zero[2]\n",
    "χsp_λ = LadderDGA.χ_λ(real.(nlQ_sp.χ[usable_ω,:]), lsp_zero)\n",
    "χch_λ = LadderDGA.χ_λ(real.(nlQ_ch.χ[usable_ω,:]), lch_zero)\n",
    "χupup = LadderDGA.kintegrate(qG, χch_λ .+ χsp_λ, dim=2)[:,1] ./ 2\n",
    "χupdo = LadderDGA.kintegrate(qG, χch_λ .- χsp_λ, dim=2)[:,1] ./ 2\n",
    "rhs_c1 = real(LadderDGA.sum_freq(χupup, [1], Naive(), mP.β)[1])  \n",
    "rhs_c2 = mP.U * real(LadderDGA.sum_freq(χupdo, [1], Naive(), mP.β)[1])  + mP.n^2/4\n",
    "lhs_c1 = (mP.n/2) * (1 - mP.n/2)\n",
    "Σ_ladder2, lhs_c2, E_pot_DGA = LadderDGA.calc_E_pot_cond(lsp_zero, lch_zero, nlQ_sp, nlQ_ch, bubble, \n",
    "                     LadderDGA.ϵkGrid, LadderDGA.FUpDo, \n",
    "                     LadderDGA.Σ_loc_pos,Σ_ladderLoc,\n",
    "                     LadderDGA.qIndices, LadderDGA.qMultiplicity, \n",
    "                     mP, sP, sP.tail_corrected, E_pot_tail_corr=true);\n",
    "E_Kin, E_Pot = LadderDGA.calc_E(Σ_ladder2, LadderDGA.ϵqGrid, LadderDGA.qMultiplicity, sP.Nk, mP, sP);\n",
    "\n",
    "l = @layout [A{0.01h}; \n",
    "             [grid(1,2)\n",
    "              b{0.3h}]]\n",
    "nhi = 20\n",
    "xarr = usable_ω .- ceil(Int64, size(bubble,1)/2)\n",
    "title = plot(title = L\"U=%$(mP.U), \\beta=%$(mP.β), \\mathrm{E}_\\mathrm{pot} \\mathrm{\\;extrapolated}\", grid = false, showaxis = false, bottom_margin = -50Plots.px)\n",
    "p1 = plot(xarr, χsp_λ[:,1], legend = true, xlabel=L\"\\omega_n\", ylabel=L\"\\chi^\\lambda_{\\mathrm{sp}}\", label=\"q=$(round.(LadderDGA.qGrid[1],digits=2))\", markershape=:circle, markersize=2)\n",
    "plot!(xarr, χsp_λ[:,nhi], label=\"q=$(round.(LadderDGA.qGrid[nhi],digits=2))\", markershape=:circle, markersize=2)\n",
    "plot!(xarr, χsp_λ[:,end], label=\"q=$(round.(LadderDGA.qGrid[end],digits=2))\", markershape=:circle, markersize=2)\n",
    "annotate_y_pos = 0.7*maximum([maximum(χsp_λ[:,1]), maximum(χsp_λ[:,nhi]), maximum(χsp_λ[:,end])])\n",
    "annotate!(xarr[end-2], annotate_y_pos, text(L\"\\lambda_\\mathrm{sp} = %$(round(lsp_zero,digits=3))\", :right, 10))\n",
    "    \n",
    "p2 = plot(xarr, χch_λ[:,1], legend = false, xlabel=L\"\\omega_n\", ylabel=L\"\\chi^\\lambda_{\\mathrm{ch}}\", label=\"q=$(round.(LadderDGA.qGrid[1],digits=2))\", markershape=:hexagon, markersize=2)\n",
    "plot!(xarr, χch_λ[:,nhi], label=\"q=$(round.(LadderDGA.qGrid[nhi],digits=2))\", markershape=:hexagon, markersize=2)\n",
    "plot!(xarr, χch_λ[:,end], label=\"q=$(round.(LadderDGA.qGrid[end],digits=2))\", markershape=:hexagon, markersize=2)\n",
    "annotate_y_pos = 0.75*maximum([maximum(χch_λ[:,1]), maximum(χch_λ[:,nhi]), maximum(χch_λ[:,end])])\n",
    "annotate!(xarr[end-2], annotate_y_pos, text(L\"\\lambda_\\mathrm{ch} = %$(round(lch_zero,digits=3))\", :right, 10))\n",
    "\n",
    "\n",
    "p3 = plot(E_Pot, xlabel=L\"\\nu_n\", label=L\"\\qquad\\qquad\\;\\;\\; G^\\lambda \\star \\Sigma^\\lambda = %$(round(E_Pot[end], digits=6))\", markershape=:hexagon, markersize=2,legend=:bottomright, legendfontsize=10)\n",
    "plot!(repeat([rhs_c2], length(E_Pot)), label=L\"\\frac{1}{\\beta N_k} \\sum_{\\omega,q} \\chi_\\mathrm{up, do}\\quad\\, = %$(round(rhs_c2, digits=6))\")\n",
    "#plot!([E_pot_DGA[1]], seriestype = :hline, linestyle=:dash, label=L\"\\qquad\\qquad\\mathrm{E}_\\mathrm{pot, LDGA} = %$(round(E_pot_DGA[1], digits=6))\")\n",
    "plot!([E_Pot[end]], seriestype = :hline, linestyle=:dash, label=L\"\\mathrm{\\;\\;\\;naive\\;E}_\\mathrm{pot, LDGA} = %$(round(E_pot_DGA[1], digits=6))\")\n",
    "annotate_y_pos = (0.3*(maximum(E_Pot) - minimum(E_Pot)) + minimum(E_Pot))\n",
    "annotate!(0.2*length(E_Pot), annotate_y_pos, text(L\"\\frac{1}{\\beta N_k}\\sum_{\\omega,q} \\chi_\\mathrm{up, up} = %$(round(rhs_c1,digits=14)) \\stackrel{!}{=} \\frac{n}{2} (1-\\frac{n}{2}) = %$(mP.n/2 *(1 - mP.n/2))\", :left, 10))\n",
    "\n",
    "plot(title, p1, p2, p3, layout = l, size=(1000,800))\n",
    "savefig(\"cond_solution_tc_test_b25U1.pdf\")"
   ]
  },
  {
   "cell_type": "markdown",
   "metadata": {},
   "source": [
    "# q-dependent correction"
   ]
  },
  {
   "cell_type": "markdown",
   "metadata": {},
   "source": [
    "- compute $E_\\text{kin,lDGA}$\n",
    "- subtract $\\frac{E_\\text{kin,DMFT}}{i\\omega^2}$ tail to $\\chi_{\\uparrow\\downarrow}$\n",
    "- add $\\frac{E_\\text{kin,lDGA}}{i\\omega^2}$\n",
    "- compute $E_\\text{kin,lDGA}$, if not convergd, start over"
   ]
  },
  {
   "cell_type": "code",
   "execution_count": 30,
   "metadata": {},
   "outputs": [
    {
     "ename": "LoadError",
     "evalue": "ArgumentError: Package LsqFit not found in current path:\n- Run `import Pkg; Pkg.add(\"LsqFit\")` to install the LsqFit package.\n",
     "output_type": "error",
     "traceback": [
      "ArgumentError: Package LsqFit not found in current path:\n- Run `import Pkg; Pkg.add(\"LsqFit\")` to install the LsqFit package.\n",
      "",
      "Stacktrace:",
      " [1] require(into::Module, mod::Symbol)",
      "   @ Base ./loading.jl:967",
      " [2] eval",
      "   @ ./boot.jl:373 [inlined]",
      " [3] include_string(mapexpr::typeof(REPL.softscope), mod::Module, code::String, filename::String)",
      "   @ Base ./loading.jl:1196"
     ]
    }
   ],
   "source": [
    "using LsqFit\n",
    "tail_func(iωn, c)  = sum([c[n] ./ (iωn .^ (n-1)) for n in 1:length(c)])\n",
    "tail_func_n0(iωn, c)  = sum([c[n] ./ (iωn .^ (n)) for n in 1:length(c)])\n",
    "tail_func_real(iωn, c)  = real(sum([c[n] ./ (iωn .^ (n-1)) for n in 1:length(c)]))\n",
    "tail_func_real_n0(iωn, c)  = real(sum([c[n] ./ (iωn .^ (n)) for n in 1:length(c)]))\n",
    "\n",
    "tail_func(iωn, c) = sum([c[n] ./ (iωn .^ (n-1)) for n in 1:length(c)])\n",
    "tail_func_r(iωn, c) = real(sum([c[n] ./ (iωn .^ (n-1)) for n in 1:length(c)]))\n",
    "tail_func_0(iωn, c) = c ./ (iωn .^ 0)\n",
    "tail_func_1(iωn, c) = c ./ (iωn .^ 1)\n",
    "tail_func_2(iωn, c) = real.(c ./ (iωn .^ 2))\n",
    "\n",
    "rχsp = real.(nlQ_sp_nλ.χ)\n",
    "rχch = real.(nlQ_ch_nλ.χ)\n",
    "rχupup = 0.5 .* real.(rχsp .+ rχch)\n",
    "\n",
    "nh   = ceil(Int64, size(rχsp,1)/2) + 20\n",
    "ωindices_q = nh:last(ωindices)\n",
    "min_ω = 1\n",
    "qind = 1\n",
    "p2 = [1.0]\n",
    "p0_2 = [0.0, 0.0, 1.0]\n",
    "p0_4 = [0.0, 0.0, 1.0, 0.0, 1.0]\n",
    "p1_2 = [0.0, 1.0]\n",
    "p1_4 = [0.0, 1.0, 0.0, 1.0]\n",
    "iω_arr = LadderDGA.iω_array(mP.β, -sP.n_iω:sP.n_iω)[ωindices_q];"
   ]
  },
  {
   "cell_type": "code",
   "execution_count": 31,
   "metadata": {},
   "outputs": [
    {
     "ename": "LoadError",
     "evalue": "UndefVarError: rχsp not defined",
     "output_type": "error",
     "traceback": [
      "UndefVarError: rχsp not defined",
      "",
      "Stacktrace:",
      " [1] top-level scope",
      "   @ In[31]:3",
      " [2] eval",
      "   @ ./boot.jl:373 [inlined]",
      " [3] include_string(mapexpr::typeof(REPL.softscope), mod::Module, code::String, filename::String)",
      "   @ Base ./loading.jl:1196"
     ]
    }
   ],
   "source": [
    "#Tests for setup below\n",
    "\n",
    "fit_only2 = curve_fit(tail_func_2, iω_arr, rχsp[ωindices_q,1], p2)   \n",
    "fit_0to2 = curve_fit(tail_func_real, iω_arr, rχsp[ωindices_q,1], p0_2); \n",
    "println(\"Results for fit of χsp(ω, q=(0,0,0)) fit:\")\n",
    "println(\"Fit only 2 converged = $(fit_only2.converged) with result $(round.(fit_only2.param,digits=5)).\\nFit 0 to 4 converged = $(fit_0to2.converged) with result $(round.(fit_0to2.param,digits=5))\")"
   ]
  }
 ],
 "metadata": {
  "kernelspec": {
   "display_name": "Julia 1.7.0-beta3",
   "language": "julia",
   "name": "julia-1.7"
  },
  "language_info": {
   "file_extension": ".jl",
   "mimetype": "application/julia",
   "name": "julia",
   "version": "1.7.0"
  }
 },
 "nbformat": 4,
 "nbformat_minor": 4
}
