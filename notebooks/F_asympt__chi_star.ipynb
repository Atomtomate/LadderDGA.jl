{
 "cells": [
  {
   "cell_type": "code",
   "execution_count": 2,
   "id": "08fe9303",
   "metadata": {},
   "outputs": [
    {
     "name": "stderr",
     "output_type": "stream",
     "text": [
      "\u001b[32m\u001b[1m  Activating\u001b[22m\u001b[39m project at `~/Codes/LadderDGA.jl`\n",
      "\u001b[36m\u001b[1m[ \u001b[22m\u001b[39m\u001b[36m\u001b[1mInfo: \u001b[22m\u001b[39mPrecompiling LadderDGA [78e40beb-bf89-4c0e-9d2b-bee278912f2b]\n"
     ]
    }
   ],
   "source": [
    "using Pkg\n",
    "Pkg.activate(\"/home/julisn/Codes/LadderDGA.jl/\")\n",
    "using LadderDGA\n",
    "using Plots, LaTeXStrings"
   ]
  },
  {
   "cell_type": "code",
   "execution_count": 13,
   "id": "eaf68993",
   "metadata": {},
   "outputs": [
    {
     "name": "stdout",
     "output_type": "stream",
     "text": [
      "\u001b[36m\u001b[1m[ \u001b[22m\u001b[39m\u001b[36m\u001b[1mInfo: \u001b[22m\u001b[39mReading Inputs...\n",
      "\u001b[36m\u001b[1m[ \u001b[22m\u001b[39m\u001b[36m\u001b[1mInfo: \u001b[22m\u001b[39mSetting up calculation for kGrid 2Dsc-0.25-0.125-0.0 of size 4\n",
      "DBG: NOT using diagonal terms in λ₀\n",
      "\u001b[36m\u001b[1m┌ \u001b[22m\u001b[39m\u001b[36m\u001b[1mInfo: \u001b[22m\u001b[39mInputs Read. Starting Computation.\n",
      "\u001b[36m\u001b[1m│ \u001b[22m\u001b[39mLocal susceptibilities with ranges are:\n",
      "\u001b[36m\u001b[1m│ \u001b[22m\u001b[39mχLoc_m(1:201) = 0.4049, χLoc_d(1:201) = 0.0892\n",
      "\u001b[36m\u001b[1m└ \u001b[22m\u001b[39msum χupup check (plain ?≈? tail sub ?≈? imp_dens ?≈? n/2 (1-n/2)): 0.24643718038936174 ?=? 0.2470212600205763 ?≈? 0.24702126002057628 ≟ 0.24702998215472974\"\n"
     ]
    }
   ],
   "source": [
    "cfg = \"/home/julisn/Hamburg/ED_data/asympt_tests/b5.0_mu1.4_tp0_5.toml\"\n",
    "wp, mP, sP, env, kGridsStr = readConfig(cfg)\n",
    "lDGAhelper = setup_LDGA(kGridsStr[1], mP, sP, env)\n",
    "lDGAhelper_Ur = deepcopy(lDGAhelper)\n",
    "lDGAhelper_Ur.Γ_m[:,:,:] = lDGAhelper_Ur.Γ_m[:,:,:] .- (-lDGAhelper_Ur.mP.U)\n",
    "lDGAhelper_Ur.Γ_d[:,:,:] = lDGAhelper_Ur.Γ_d[:,:,:] .- ( lDGAhelper_Ur.mP.U)\n",
    "\n",
    "bubble     = calc_bubble(lDGAhelper);"
   ]
  },
  {
   "cell_type": "code",
   "execution_count": 4,
   "id": "f51d6a63",
   "metadata": {},
   "outputs": [],
   "source": [
    "#χm, γm = calc_χγ(:m, lDGAhelper, bubble)\n",
    "#χd, γd = calc_χγ(:d, lDGAhelper, bubble)\n",
    "#λ₀ = calc_λ0(bubble, lDGAhelper)\n",
    "#Σ_ladder = calc_Σ(χm, γm, χd, γd, λ₀, lDGAhelper);"
   ]
  },
  {
   "cell_type": "code",
   "execution_count": 5,
   "id": "329abc94",
   "metadata": {},
   "outputs": [],
   "source": [
    "#χm_star, γm_star = calc_χγ(:m, lDGAhelper_Ur, bubble)\n",
    "#χd_star, γd_star = calc_χγ(:d, lDGAhelper_Ur, bubble);"
   ]
  },
  {
   "cell_type": "code",
   "execution_count": 12,
   "id": "79dda2ea",
   "metadata": {},
   "outputs": [
    {
     "ename": "LoadError",
     "evalue": "UndefVarError: `bubble` not defined",
     "output_type": "error",
     "traceback": [
      "UndefVarError: `bubble` not defined",
      "",
      "Stacktrace:",
      " [1] calc_gen_χ(Γr::Array{ComplexF64, 3}, χ₀::χ₀T, kG::Dispersions.KGrid{Dispersions.cPnn, 2})",
      "   @ LadderDGA ~/Codes/LadderDGA.jl/src/BSETools.jl:219",
      " [2] top-level scope",
      "   @ In[12]:1"
     ]
    }
   ],
   "source": [
    "χm_gen      = calc_gen_χ(lDGAhelper.Γ_m, bubble, lDGAhelper.kG);\n",
    "χm_star_gen = calc_gen_χ(lDGAhelper_Ur.Γ_m, bubble, lDGAhelper.kG);"
   ]
  },
  {
   "cell_type": "code",
   "execution_count": 7,
   "id": "f99aff38",
   "metadata": {},
   "outputs": [
    {
     "ename": "LoadError",
     "evalue": "UndefVarError: `χm_gen` not defined",
     "output_type": "error",
     "traceback": [
      "UndefVarError: `χm_gen` not defined",
      "",
      "Stacktrace:",
      " [1] top-level scope",
      "   @ In[7]:1"
     ]
    }
   ],
   "source": [
    "p1 = heatmap(real.(χm_gen[:,:,1,51]), \n",
    "    title=L\"\\Re(\\chi^{\\nu\\nu'\\omega_0}_{\\mathrm{m},q=0})\")\n",
    "p2 = heatmap(imag.(χm_gen[:,:,1,51]), \n",
    "    title=L\"\\Im(\\chi^{\\nu\\nu'\\omega_0}_{\\mathrm{m},q=0})\")\n",
    "p3 = heatmap(real.(χm_star_gen[:,:,1,51]), \n",
    "    title=L\"\\Re(\\chi^{\\star,\\nu\\nu'\\omega_0}_{\\mathrm{m},q=0})\")\n",
    "p4 = heatmap(imag.(χm_star_gen[:,:,1,51]), \n",
    "    title=L\"\\Im(\\chi^{\\star,\\nu\\nu'\\omega_0}_{\\mathrm{m},q=0})\")\n",
    "\n",
    "plot(p1, p2, p3, p4)"
   ]
  },
  {
   "cell_type": "markdown",
   "id": "6b93d446",
   "metadata": {},
   "source": [
    "# Matrix identity for difference between chi and chi^star\n",
    "\n",
    "\n",
    "Let A and (A+B) be invertible matrices and rank(B) = 1. Then (see lDGA numerics):\n",
    "\n",
    "$(A+B)^{-1} = A^{-1} - \\frac{1}{1+g} A^{-1} B A^{-1}$ and $g = Tr(B A^{1}) \\neq 1$\n",
    "\n"
   ]
  },
  {
   "cell_type": "code",
   "execution_count": 8,
   "id": "2526e590",
   "metadata": {},
   "outputs": [],
   "source": [
    "using LinearAlgebra\n",
    "\n",
    "ωi = 31\n",
    "qi = 1\n",
    "β  = lDGAhelper.mP.β\n",
    "A  = deepcopy(lDGAhelper.Γ_m[:,:,ωi]) + Diagonal(1.0 ./ bubble.data[qi,bubble.ν_shell_size+1:end-bubble.ν_shell_size,ωi])   \n",
    "Γ_m_inv = inv(A) \n",
    "U_M     = lDGAhelper.mP.U .* ones(size(Γ_m_inv));\n",
    "g = tr(U_M * Γ_m_inv)\n",
    "\n",
    "diff_test = (Γ_m_inv * (U_M * Γ_m_inv)) ./ (1+g) ;"
   ]
  },
  {
   "cell_type": "code",
   "execution_count": 9,
   "id": "920c48de",
   "metadata": {},
   "outputs": [
    {
     "ename": "LoadError",
     "evalue": "UndefVarError: `χm_gen` not defined",
     "output_type": "error",
     "traceback": [
      "UndefVarError: `χm_gen` not defined",
      "",
      "Stacktrace:",
      " [1] top-level scope",
      "   @ In[9]:1"
     ]
    }
   ],
   "source": [
    "t1 = χm_gen[:,:,1,ωi];\n",
    "t2 = χm_star_gen[:,:,1,ωi];\n",
    "diff_q0 = t1 .- t2 \n",
    "\n",
    "t1 = χm_gen[:,:,1,ωi];\n",
    "t2 = χm_star_gen[:,:,1,ωi];\n",
    "diff_q1 = t1 .- t2 \n",
    "\n",
    "println(\"q-diff = \", maximum(abs.(diff_q0 .- diff_q1)), \" // inversion vs. formula: \", maximum(abs.(diff_q1 .- diff_test))"
   ]
  },
  {
   "cell_type": "code",
   "execution_count": null,
   "id": "1b3eb296",
   "metadata": {},
   "outputs": [],
   "source": []
  },
  {
   "cell_type": "code",
   "execution_count": null,
   "id": "33393e9d",
   "metadata": {},
   "outputs": [],
   "source": []
  }
 ],
 "metadata": {
  "@webio": {
   "lastCommId": null,
   "lastKernelId": null
  },
  "kernelspec": {
   "display_name": "Julia 1.9.0",
   "language": "julia",
   "name": "julia-1.9"
  },
  "language_info": {
   "file_extension": ".jl",
   "mimetype": "application/julia",
   "name": "julia",
   "version": "1.9.0"
  }
 },
 "nbformat": 4,
 "nbformat_minor": 5
}
