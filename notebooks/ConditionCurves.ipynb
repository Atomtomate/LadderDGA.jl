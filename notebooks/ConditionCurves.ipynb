{
 "cells": [
  {
   "cell_type": "code",
   "execution_count": null,
   "id": "50e01c09-3658-4866-b27b-a1e93bd4b93f",
   "metadata": {},
   "outputs": [],
   "source": [
    "using Plots, LaTeXStrings\n",
    "using Plots.PlotMeasures\n",
    "empty!(ARGS)\n",
    "push!(ARGS, \"G:/Hamburg/b20.0_mu1.0/lDGAConfig.toml\")\n",
    "include(joinpath(@__DIR__,\"../examples/example00_lDGA.jl\"))\n",
    "\n",
    "using LaTeXStrings"
   ]
  },
  {
   "cell_type": "code",
   "execution_count": null,
   "id": "d87cc674-5274-4ec7-b356-7d32e4b0a0c4",
   "metadata": {},
   "outputs": [],
   "source": [
    "mP = lDGAhelper.mP\n",
    "kG = lDGAhelper.kG\n",
    "U = mP.U\n",
    "nden = mP.n\n",
    "beta = mP.β\n",
    "lim_se = U^2 * (nden/2) * (1 - nden/2)\n",
    "se_tmp = calc_Σ(χm, γm, χd, γd, λ₀, lDGAhelper);\n",
    "\n",
    "xr = collect(axes(se_tmp,2))\n",
    "iν_arr = LadderDGA.iν_array(beta, xr)\n",
    "gimp = lDGAhelper.gImp[1,xr];"
   ]
  },
  {
   "cell_type": "code",
   "execution_count": null,
   "id": "8c32031a-fdf0-4aef-9b12-3171e6629412",
   "metadata": {},
   "outputs": [],
   "source": [
    "λd_min_sample = -3.0# -4.42876699766992 #LadderDGA.LambdaCorrection.get_λ_min(χd)\n",
    "λd_max = 10.0\n",
    "Nit = 20\n",
    "xr_dm_01, fr_dm_01 = LadderDGA.LambdaCorrection.EPotCond_curve(χm,γm,χd,γd,λ₀, lDGAhelper; maxit=Nit, λmin=λd_min_sample, λmax=λd_max, tc=ΣTail_Plain)\n",
    "xr_dm_02, fr_dm_02 = LadderDGA.LambdaCorrection.EPotCond_curve(χm,γm,χd,γd,λ₀, lDGAhelper; maxit=Nit, λmin=λd_min_sample, λmax=λd_max, tc=ΣTail_Full)\n",
    "xr_dm_03, fr_dm_03 = LadderDGA.LambdaCorrection.EPotCond_curve(χm,γm,χd,γd,λ₀, lDGAhelper;maxit=Nit, λmin=λd_min_sample, tc=ΣTail_ExpStep{0.01}, λmax=λd_max);\n",
    "xr_dm_04, fr_dm_04 = LadderDGA.LambdaCorrection.EPotCond_curve(χm,γm,χd,γd,λ₀, lDGAhelper;maxit=Nit, λmin=λd_min_sample, tc=ΣTail_ExpStep{0.1}, λmax=λd_max);\n",
    "#xr_dm_05, fr_dm_05 = LadderDGA.LambdaCorrection.EPotCond_curve(χm,γm,χd,γd,λ₀, lDGAhelper;maxit=40, λmin=λd_min_sample, tc=ΣTail_ExpStep{0.15}, λmax=λd_max);\n",
    "#xr_dm_06, fr_dm_06 = LadderDGA.LambdaCorrection.EPotCond_curve(χm,γm,χd,γd,λ₀, lDGAhelper;maxit=40, λmin=λd_min_sample, tc=ΣTail_ExpStep{0.2}, λmax=λd_max);\n",
    "xr_dm_07, fr_dm_07 = LadderDGA.LambdaCorrection.EPotCond_curve(χm,γm,χd,γd,λ₀, lDGAhelper;maxit=Nit, λmin=λd_min_sample, tc=ΣTail_ExpStep{1.0}, λmax=λd_max);\n",
    "xr_dm_08, fr_dm_08 = LadderDGA.LambdaCorrection.EPotCond_curve(χm,γm,χd,γd,λ₀, lDGAhelper; maxit=Nit, λmin=λd_min_sample, λmax=λd_max, tc=ΣTail_EoM);"
   ]
  },
  {
   "cell_type": "code",
   "execution_count": null,
   "id": "d210d9b5-07de-4e15-8b81-14e3ac52816a",
   "metadata": {},
   "outputs": [],
   "source": [
    "λd_min_sample = -3.0# -4.42876699766992 #LadderDGA.LambdaCorrection.get_λ_min(χd)\n",
    "λd_max = 10.0\n",
    "Nit = 20\n",
    "xr_dm_sc_01, fr_dm_sc_01 = LadderDGA.LambdaCorrection.EPotCond_sc_curve(χm,γm,χd,γd,λ₀, lDGAhelper; maxit=Nit, λmin=λd_min_sample, λmax=λd_max, tc=ΣTail_Plain)\n",
    "println(\"01 done\")\n",
    "xr_dm_sc_02, fr_dm_sc_02 = LadderDGA.LambdaCorrection.EPotCond_sc_curve(χm,γm,χd,γd,λ₀, lDGAhelper; maxit=Nit, λmin=λd_min_sample, λmax=λd_max, tc=ΣTail_Full)\n",
    "println(\"02 done\")\n",
    "#xr_dm_sc_03, fr_dm_sc_03 = LadderDGA.LambdaCorrection.EPotCond_sc_curve(χm,γm,χd,γd,λ₀, lDGAhelper;maxit=Nit, λmin=λd_min_sample, tc=ΣTail_ExpStep{0.01}, λmax=λd_max);\n",
    "println(\"03 done\")\n",
    "#xr_dm_sc_04, fr_dm_sc_04 = LadderDGA.LambdaCorrection.EPotCond_sc_curve(χm,γm,χd,γd,λ₀, lDGAhelper;maxit=Nit, λmin=λd_min_sample, tc=ΣTail_ExpStep{0.1}, λmax=λd_max);\n",
    "println(\"04 done\")\n",
    "#xr_dm_sc_07, fr_dm_sc_07 = LadderDGA.LambdaCorrection.EPotCond_sc_curve(χm,γm,χd,γd,λ₀, lDGAhelper;maxit=Nit, λmin=λd_min_sample, tc=ΣTail_ExpStep{1.0}, λmax=λd_max);\n",
    "println(\"07 done\")\n",
    "xr_dm_sc_08, fr_dm_sc_08 = LadderDGA.LambdaCorrection.EPotCond_sc_curve(χm,γm,χd,γd,λ₀, lDGAhelper; maxit=Nit, λmin=λd_min_sample, λmax=λd_max, tc=ΣTail_EoM);"
   ]
  },
  {
   "cell_type": "code",
   "execution_count": null,
   "id": "3b6699ab-22fc-4dc7-a9aa-2103aa7c2a09",
   "metadata": {},
   "outputs": [],
   "source": [
    "\n",
    "p1 = plot(xr_dm_sc_01, fr_dm_sc_01, size=(800,500), linewidth=2, ylims=(-.05,.05), xlims=(λd_min_sample,λd_max), legend=:outerright, ylabel=L\"\\Delta E_\\mathrm{pot}\", xlabel=L\"\\lambda_d\", label=L\"\\mathrm{plain}\",\n",
    "    xtickfontsize=12,ytickfontsize=12,xguidefontsize=20,yguidefontsize=20,legendfontsize=12, markershape=:auto, left_margin = 10mm, bottom_margin=10mm)\n",
    "plot!(p1, xr_dm_sc_02, fr_dm_sc_02, label=L\"\\mathrm{full}\", markershape=:auto)\n",
    "plot!(p1, xr_dm_sc_03, fr_dm_sc_03, label=L\"\\mathrm{step}, \\delta=0.01\", markershape=:auto)\n",
    "#plot!(p1, xr_dm_sc_04, fr_dm_sc_04, label=L\"\\mathrm{step}, \\delta=0.1\", markershape=:auto)\n",
    "plot!(p1, xr_dm_sc_07, fr_dm_sc_07, label=L\"\\mathrm{step}, \\delta=1.0\", markershape=:auto)\n",
    "plot!(p1, xr_dm_sc_08, fr_dm_sc_08, label=L\"\\mathrm{EoM}\", markershape=:auto)\n",
    "hline!([0.0], label=nothing, ls=:dash, lw=2)\n",
    "\n",
    "p2 = plot(xr_dm_sc_01, fr_dm_sc_01, size=(800,500), linewidth=2, ylims=(-.05,.05), xlims=(1.9599,1.960), legend=:outerright, ylabel=L\"\\Delta E_\\mathrm{pot}\", xlabel=L\"\\lambda_d\", label=L\"\\mathrm{plain}\",\n",
    "    xtickfontsize=12,ytickfontsize=12,xguidefontsize=20,yguidefontsize=20,legendfontsize=12, markershape=:auto, left_margin = 10mm, bottom_margin=10mm)\n",
    "plot!(p2, xr_dm_sc_02, fr_dm_sc_02, label=L\"\\mathrm{full}\", markershape=:auto)\n",
    "plot!(p2, xr_dm_sc_03, fr_dm_sc_03, label=L\"\\mathrm{step}, \\delta=0.01\", markershape=:auto)\n",
    "plot!(p2, xr_dm_sc_04, fr_dm_sc_04, label=L\"\\mathrm{step}, \\delta=0.1\", markershape=:auto)\n",
    "plot!(p2, xr_dm_sc_07, fr_dm_sc_07, label=L\"\\mathrm{step}, \\delta=1.0\", markershape=:auto)\n",
    "plot!(p2, xr_dm_sc_08, fr_dm_sc_08, label=L\"\\mathrm{EoM}\", markershape=:auto)\n",
    "hline!([0.0], label=nothing, ls=:dash, lw=2)\n",
    "p = plot(p1, size=(700,400), left_margin=8mm, bottom_margin=10mm)\n",
    "savefig(\"delta_expstep_comparison_mu04_sc.pdf\")\n",
    "display(p)"
   ]
  },
  {
   "cell_type": "code",
   "execution_count": null,
   "id": "842c0c75-5d18-4e10-a908-39e69bbe9896",
   "metadata": {},
   "outputs": [],
   "source": [
    "p1 = plot(xr_dm_sc_01, fr_dm_sc_01, size=(800,500), linewidth=2, ylims=(-.2,.2), xlims=(λd_min_sample,λd_max), legend=:outerright, ylabel=L\"\\Delta E_\\mathrm{pot}\", xlabel=L\"\\lambda_d\", label=L\"\\mathrm{plain,sc}\",\n",
    "    xtickfontsize=12,ytickfontsize=12,xguidefontsize=20,yguidefontsize=20,legendfontsize=12, markershape=:auto, left_margin = 10mm, bottom_margin=10mm)\n",
    "plot!(p1, xr_dm_01, fr_dm_01, label=L\"\\mathrm{plain}\", markershape=:auto)\n",
    "plot!(p1, xr_dm_sc_02, fr_dm_sc_02, label=L\"\\mathrm{full,sc}\", markershape=:auto)\n",
    "plot!(p1, xr_dm_02, fr_dm_02, label=L\"\\mathrm{full}\", markershape=:auto)\n",
    "plot!(p1, xr_dm_sc_08, fr_dm_sc_08, label=L\"\\mathrm{EoM,sc}\", markershape=:auto)\n",
    "plot!(p1, xr_dm_08, fr_dm_08, label=L\"\\mathrm{EoM}\", markershape=:auto)\n",
    "hline!([0.0], label=nothing, ls=:dash, lw=2)\n",
    "savefig(\"cmp_mu04_sc_nonsc.pdf\")\n",
    "display(p1)"
   ]
  },
  {
   "cell_type": "code",
   "execution_count": null,
   "id": "0370233b-9ed7-49a8-a9bb-69cee16f76b7",
   "metadata": {},
   "outputs": [],
   "source": [
    "\n",
    "p1 = plot(xr_dm_01, fr_dm_01, size=(800,500), linewidth=2, ylims=(-.05,.05), xlims=(λd_min_sample,λd_max), legend=nothing, ylabel=L\"\\Delta E_\\mathrm{pot}\", xlabel=L\"\\lambda_d\", label=L\"\\mathrm{plain}\",\n",
    "    xtickfontsize=12,ytickfontsize=12,xguidefontsize=20,yguidefontsize=20,legendfontsize=12, markershape=:auto, left_margin = 10mm, bottom_margin=10mm)\n",
    "plot!(p1, xr_dm_02, fr_dm_02, label=L\"\\mathrm{full}\", markershape=:auto)\n",
    "plot!(p1, xr_dm_03, fr_dm_03, label=L\"\\mathrm{step}, \\delta=0.01\", markershape=:auto)\n",
    "plot!(p1, xr_dm_04, fr_dm_04, label=L\"\\mathrm{step}, \\delta=0.1\", markershape=:auto)\n",
    "plot!(p1, xr_dm_07, fr_dm_07, label=L\"\\mathrm{step}, \\delta=1.0\", markershape=:auto)\n",
    "plot!(p1, xr_dm_08, fr_dm_08, label=L\"\\mathrm{EoM}\", markershape=:auto)\n",
    "hline!([0.0], label=nothing, ls=:dash, lw=2)\n",
    "\n",
    "p2 = plot(xr_dm_01, fr_dm_01, size=(800,500), linewidth=2, ylims=(-.05,.05), xlims=(1.9599,1.960), legend=:outerright, ylabel=L\"\\Delta E_\\mathrm{pot}\", xlabel=L\"\\lambda_d\", label=L\"\\mathrm{plain}\",\n",
    "    xtickfontsize=12,ytickfontsize=12,xguidefontsize=20,yguidefontsize=20,legendfontsize=12, markershape=:auto, left_margin = 10mm, bottom_margin=10mm)\n",
    "plot!(p2, xr_dm_02, fr_dm_02, label=L\"\\mathrm{full}\", markershape=:auto)\n",
    "plot!(p2, xr_dm_03, fr_dm_03, label=L\"\\mathrm{step}, \\delta=0.01\", markershape=:auto)\n",
    "plot!(p2, xr_dm_04, fr_dm_04, label=L\"\\mathrm{step}, \\delta=0.1\", markershape=:auto)\n",
    "plot!(p2, xr_dm_07, fr_dm_07, label=L\"\\mathrm{step}, \\delta=1.0\", markershape=:auto)\n",
    "plot!(p2, xr_dm_08, fr_dm_08, label=L\"\\mathrm{EoM}\", markershape=:auto)\n",
    "hline!([0.0], label=nothing, ls=:dash, lw=2)\n",
    "p = plot(p1, p2, size=(1400,400), left_margin=8mm, bottom_margin=10mm)\n",
    "savefig(\"delta_expstep_comparison_mu04.pdf\")\n",
    "display(p)"
   ]
  },
  {
   "cell_type": "code",
   "execution_count": null,
   "id": "01657bb2-70cb-4ee7-a2e7-b61db73e4fa9",
   "metadata": {},
   "outputs": [],
   "source": [
    "se_full_list = []\n",
    "se_eom_list = []\n",
    "se_plain_list = []\n",
    "se_delta_list = []\n",
    "for λd in xr_dm_01  \n",
    "    rhs,PP_p1 = LadderDGA.LambdaCorrection.λm_rhs(χm, χd, lDGAhelper, λd=λd)\n",
    "    λm  = LadderDGA.LambdaCorrection.λm_correction_val(χm, rhs, lDGAhelper)\n",
    "    se_tmp = calc_Σ(χm, γm, χd, γd, λ₀, lDGAhelper;λm=λm,λd=λd, tc=ΣTail_Full);\n",
    "    push!(se_full_list,se_tmp)\n",
    "    se_tmp = calc_Σ(χm, γm, χd, γd, λ₀, lDGAhelper;λm=λm,λd=λd, tc=ΣTail_Plain);\n",
    "    push!(se_plain_list,se_tmp)\n",
    "    se_tmp = calc_Σ(χm, γm, χd, γd, λ₀, lDGAhelper;λm=λm,λd=λd, tc=ΣTail_EoM);\n",
    "    push!(se_eom_list,se_tmp)\n",
    "    se_tmp = calc_Σ(χm, γm, χd, γd, λ₀, lDGAhelper;λm=λm,λd=λd, tc=ΣTail_ExpStep{0.5});\n",
    "    push!(se_delta_list,se_tmp)\n",
    "end"
   ]
  },
  {
   "cell_type": "code",
   "execution_count": null,
   "id": "471d3c92-286a-493f-9fd9-50811bd2962c",
   "metadata": {},
   "outputs": [],
   "source": [
    "p = plot(xr_dm_01, map(x->imag(x[1,0]), se_full_list),ylims=(-1,1),markershape=:auto, label=\"Full\", legend=:top,\n",
    "        xlabel=L\"\\lambda_\\mathrm{d}\", ylabel=L\"\\mathrm{Im} [\\Sigma^{i\\nu_0}_{\\mathbf{k}=\\mathbf{0}}]\",\n",
    "        xtickfontsize=12,ytickfontsize=12,xguidefontsize=20,yguidefontsize=20,legendfontsize=12)\n",
    "plot!(xr_dm_01, map(x->imag(x[1,0]), se_eom_list),ylims=(-1,1),markershape=:auto, label=\"EoM\")\n",
    "plot!(xr_dm_01, map(x->imag(x[1,0]), se_plain_list),ylims=(-1,1),markershape=:auto, label=\"Plain\")\n",
    "plot!(xr_dm_01, map(x->imag(x[1,0]), se_delta_list),ylims=(-1,1),markershape=:auto, label=\"ExpStep{0.5}\")\n",
    "savefig(\"im_sig_mu04.pdf\")\n",
    "display(p)"
   ]
  },
  {
   "cell_type": "code",
   "execution_count": null,
   "id": "ba347bb7-da31-48a7-a39f-dde70a44311c",
   "metadata": {},
   "outputs": [],
   "source": [
    "λd_min_sample = -0.15\n",
    "λd_max_sample = 0.05\n",
    "m1b = LadderDGA.LambdaCorrection.get_λ_min(χm)\n",
    "xr_lm_01, fr_lm_01 = LadderDGA.LambdaCorrection.PPCond_curve(χm,γm,χd,γd,λ₀, lDGAhelper; maxit=1000, λmin=λd_min_sample, λmax=λd_max_sample, tc=ΣTail_Plain)\n",
    "p1 = plot(xr_lm_01, fr_lm_01, size=(800,500), linewidth=2, ylims=(-2,2), xlims=(λd_min_sample,λd_max_sample), legend=nothing, ylabel=L\"\\sum_{\\bq}\\chi^{\\lambda_\\mathrm{m},\\omega_0}_{\\mathrm{m},\\mathbf{q}}\", xlabel=L\"\\lambda_m\", label=L\"\\mathrm{plain}\",\n",
    "    xtickfontsize=12,ytickfontsize=12,xguidefontsize=20,yguidefontsize=20,legendfontsize=12, left_margin = 10mm, bottom_margin=10mm)\n",
    "vline!([m1b], lw=4)\n",
    "savefig(\"chim_of_lm_div.pdf\")\n",
    "display(p1)"
   ]
  },
  {
   "cell_type": "code",
   "execution_count": null,
   "id": "66764a1a-30dc-472f-a839-abddd5a06cd3",
   "metadata": {},
   "outputs": [],
   "source": [
    "p1 = plot(xr_lm_02, fr_lm_02, size=(800,500),  linewidth=2, ylims=(-.5,1.5), xlims=(-1,3), legend=nothing, ylabel=L\"\\Delta PP\", xlabel=L\"\\lambda_d\", label=L\"\\mathrm{plain}\",\n",
    "    xtickfontsize=12,ytickfontsize=12,xguidefontsize=20,yguidefontsize=20,legendfontsize=12, left_margin = 10mm, bottom_margin=10mm)\n",
    "vline!([m1b], lw=4)\n",
    "savefig(\"lm_of_ld_div.pdf\")"
   ]
  },
  {
   "cell_type": "code",
   "execution_count": null,
   "id": "db767939-555c-42a1-bc1c-92dc59828065",
   "metadata": {},
   "outputs": [],
   "source": []
  }
 ],
 "metadata": {
  "kernelspec": {
   "display_name": "Julia 1.11.1",
   "language": "julia",
   "name": "julia-1.11"
  },
  "language_info": {
   "file_extension": ".jl",
   "mimetype": "application/julia",
   "name": "julia",
   "version": "1.11.1"
  }
 },
 "nbformat": 4,
 "nbformat_minor": 5
}
