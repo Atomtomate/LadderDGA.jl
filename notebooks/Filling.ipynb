{
 "cells": [
  {
   "cell_type": "code",
   "execution_count": 1,
   "id": "7128fa56",
   "metadata": {},
   "outputs": [
    {
     "name": "stderr",
     "output_type": "stream",
     "text": [
      "\u001b[32m\u001b[1m  Activating\u001b[22m\u001b[39m project at `~/Codes/LadderDGA.jl`\n",
      "\u001b[36m\u001b[1m[ \u001b[22m\u001b[39m\u001b[36m\u001b[1mInfo: \u001b[22m\u001b[39mPrecompiling LadderDGA [78e40beb-bf89-4c0e-9d2b-bee278912f2b]\n"
     ]
    }
   ],
   "source": [
    "using Pkg\n",
    "Pkg.activate(\"/home/julisn/Codes/LadderDGA.jl/\")\n",
    "using LadderDGA"
   ]
  },
  {
   "cell_type": "code",
   "execution_count": 2,
   "id": "0f13af85",
   "metadata": {},
   "outputs": [
    {
     "name": "stdout",
     "output_type": "stream",
     "text": [
      "\u001b[36m\u001b[1m[ \u001b[22m\u001b[39m\u001b[36m\u001b[1mInfo: \u001b[22m\u001b[39mReading Inputs...\n",
      "\u001b[36m\u001b[1m[ \u001b[22m\u001b[39m\u001b[36m\u001b[1mInfo: \u001b[22m\u001b[39mSetting up calculation for kGrid 2Dsc-0.25-0.05-0.025 of size 10\n",
      "DBG: NOT using diagonal terms in λ₀\n",
      "\u001b[36m\u001b[1m┌ \u001b[22m\u001b[39m\u001b[36m\u001b[1mInfo: \u001b[22m\u001b[39mInputs Read. Starting Computation.\n",
      "\u001b[36m\u001b[1m│ \u001b[22m\u001b[39mLocal susceptibilities with ranges are:\n",
      "\u001b[36m\u001b[1m│ \u001b[22m\u001b[39mχLoc_m(1:301) = 0.4139, χLoc_d(1:301) = 0.0816\n",
      "\u001b[36m\u001b[1m└ \u001b[22m\u001b[39msum χupup check (plain ?≈? tail sub ?≈? imp_dens ?≈? n/2 (1-n/2)): 0.24617007087985904 ?=? 0.24774873522361843 ?≈? 0.2477487352236184 ≟ 0.24774243548640137\"\n"
     ]
    }
   ],
   "source": [
    "cfg = \"/home/julisn/Hamburg/cuprates_test_data/b20m0.60.toml\"\n",
    "wp, mP, sP, env, kGridsStr = readConfig(cfg);\n",
    "lDGAhelper = setup_LDGA(kGridsStr[1], mP, sP, env);"
   ]
  },
  {
   "cell_type": "code",
   "execution_count": 3,
   "id": "6f4faa99",
   "metadata": {},
   "outputs": [
    {
     "data": {
      "text/plain": [
       "1×1200 OffsetArray(::Matrix{ComplexF64}, 1:1, -600:599) with eltype ComplexF64 with indices 1:1×-600:599:\n",
       " -8.59645e-6+0.00530939im  …  -8.59645e-6-0.00530939im"
      ]
     },
     "execution_count": 3,
     "metadata": {},
     "output_type": "execute_result"
    }
   ],
   "source": [
    "lDGAhelper.gImp"
   ]
  },
  {
   "cell_type": "code",
   "execution_count": 4,
   "id": "60123042",
   "metadata": {},
   "outputs": [
    {
     "name": "stdout",
     "output_type": "stream",
     "text": [
      "\n",
      "DMFT:    : 0.904972330059111\n",
      "naive    : 0.9060022852079663\n",
      "impr.    : 0.9049722803655676\n",
      "pos_naive: 0.9060022852079663\n",
      "pos_impr.: 0.9049722803655676\n"
     ]
    }
   ],
   "source": [
    "n_full_naive = filling(lDGAhelper.gImp[1,:], lDGAhelper.mP.β)\n",
    "n_full_impr  = filling(lDGAhelper.gImp[1,:], lDGAhelper.mP.U, lDGAhelper.mP.μ, lDGAhelper.mP.β)\n",
    "n_pos_naive  = filling_pos(lDGAhelper.gImp[1,0:end], lDGAhelper.mP.U, lDGAhelper.mP.μ, lDGAhelper.mP.β; improved_sum=false)\n",
    "n_pos_impr   = filling_pos(lDGAhelper.gImp[1,0:end], lDGAhelper.mP.U, lDGAhelper.mP.μ, lDGAhelper.mP.β)\n",
    "println(\"\n",
    "DMFT:    : $(lDGAhelper.mP.n)\n",
    "naive    : $n_full_naive\n",
    "impr.    : $n_full_impr\n",
    "pos_naive: $n_pos_naive\n",
    "pos_impr.: $n_pos_impr\")"
   ]
  },
  {
   "cell_type": "code",
   "execution_count": null,
   "id": "ce6aa419",
   "metadata": {},
   "outputs": [],
   "source": []
  }
 ],
 "metadata": {
  "@webio": {
   "lastCommId": null,
   "lastKernelId": null
  },
  "kernelspec": {
   "display_name": "Julia 1.9.0",
   "language": "julia",
   "name": "julia-1.9"
  },
  "language_info": {
   "file_extension": ".jl",
   "mimetype": "application/julia",
   "name": "julia",
   "version": "1.9.0"
  }
 },
 "nbformat": 4,
 "nbformat_minor": 5
}
