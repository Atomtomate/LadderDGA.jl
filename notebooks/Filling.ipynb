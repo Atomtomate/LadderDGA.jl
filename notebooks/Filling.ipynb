{
 "cells": [
  {
   "cell_type": "code",
   "execution_count": 4,
   "id": "7128fa56",
   "metadata": {},
   "outputs": [
    {
     "name": "stderr",
     "output_type": "stream",
     "text": [
      "\u001b[32m\u001b[1m  Activating\u001b[22m\u001b[39m project at `G:\\Codes\\LadderDGA.jl`\n",
      "\u001b[36m\u001b[1m[ \u001b[22m\u001b[39m\u001b[36m\u001b[1mInfo: \u001b[22m\u001b[39mPrecompiling LadderDGA [78e40beb-bf89-4c0e-9d2b-bee278912f2b] (cache misses: include_dependency fsize change (18))\n"
     ]
    }
   ],
   "source": [
    "using Pkg\n",
    "Pkg.activate(joinpath(@__DIR__,\"..\"))\n",
    "using LadderDGA"
   ]
  },
  {
   "cell_type": "code",
   "execution_count": 5,
   "id": "0f13af85",
   "metadata": {},
   "outputs": [
    {
     "name": "stdout",
     "output_type": "stream",
     "text": [
      "\u001b[36m\u001b[1m[ \u001b[22m\u001b[39m\u001b[36m\u001b[1mInfo: \u001b[22m\u001b[39mReading Inputs...\n",
      "\u001b[36m\u001b[1m[ \u001b[22m\u001b[39m\u001b[36m\u001b[1mInfo: \u001b[22m\u001b[39mSetting up calculation for kGrid 2Dsc-0.25-0.2-0.1 of size 20\n",
      "\u001b[36m\u001b[1m┌ \u001b[22m\u001b[39m\u001b[36m\u001b[1mInfo: \u001b[22m\u001b[39mInputs Read. Starting Computation.\n",
      "\u001b[36m\u001b[1m│ \u001b[22m\u001b[39mLocal susceptibilities with ranges are:\n",
      "\u001b[36m\u001b[1m│ \u001b[22m\u001b[39mχLoc_m(1:301) = 0.3838, χLoc_d(1:301) = 0.1017\n",
      "\u001b[36m\u001b[1m└ \u001b[22m\u001b[39msum χupup check (plain ?≈? tail sub ?≈? imp_dens ?≈? n/2 (1-n/2)): 0.2401531297823682 ?=? 0.2427835212727256 ?≈? 0.2427835212727254 ≟ 0.24275850716113093\"\n"
     ]
    }
   ],
   "source": [
    "cfg = \"/home/julisn/Hamburg/cuprates_test_data/b20m0.60.toml\"\n",
    "cfg = \"G:/Hamburg/b20.0_m0.4/lDGAConfig.toml\"\n",
    "wp, mP, sP, env, kGridsStr = readConfig(cfg);\n",
    "lDGAhelper = setup_LDGA(kGridsStr[1], mP, sP, env);"
   ]
  },
  {
   "cell_type": "code",
   "execution_count": 6,
   "id": "6f4faa99",
   "metadata": {},
   "outputs": [
    {
     "data": {
      "text/plain": [
       "1×2408 OffsetArray(::Matrix{ComplexF64}, 1:1, -1204:1203) with eltype ComplexF64 with indices 1:1×-1204:1203:\n",
       " -6.76437e-6+0.00396721im  …  -6.76437e-6-0.00396721im"
      ]
     },
     "execution_count": 6,
     "metadata": {},
     "output_type": "execute_result"
    }
   ],
   "source": [
    "lDGAhelper.gImp"
   ]
  },
  {
   "cell_type": "code",
   "execution_count": 7,
   "id": "60123042",
   "metadata": {},
   "outputs": [
    {
     "name": "stdout",
     "output_type": "stream",
     "text": [
      "\n",
      "DMFT:    : 0.8298060772075676\n",
      "naive    : 0.8308911417231446\n",
      "impr.    : 0.9167501655978485\n",
      "pos_naive: 0.8308911417231444\n",
      "pos_impr.: 0.83198082153152\n"
     ]
    }
   ],
   "source": [
    "n_full_naive = filling(lDGAhelper.gImp[1,:], lDGAhelper.mP.β)\n",
    "n_full_impr  = filling(lDGAhelper.gImp[1,:], lDGAhelper.mP.U, lDGAhelper.mP.μ, lDGAhelper.mP.β)\n",
    "n_pos_naive  = filling_pos(lDGAhelper.gImp[1,0:end], lDGAhelper.mP.U, lDGAhelper.mP.μ, lDGAhelper.mP.β; improved_sum=false)\n",
    "n_pos_impr   = filling_pos(lDGAhelper.gImp[1,0:end], lDGAhelper.mP.U, lDGAhelper.mP.μ, lDGAhelper.mP.β)\n",
    "println(\"\n",
    "DMFT:    : $(lDGAhelper.mP.n)\n",
    "naive    : $n_full_naive\n",
    "impr.    : $n_full_impr\n",
    "pos_naive: $n_pos_naive\n",
    "pos_impr.: $n_pos_impr\")"
   ]
  },
  {
   "cell_type": "code",
   "execution_count": 8,
   "id": "ce6aa419",
   "metadata": {},
   "outputs": [],
   "source": [
    "for Ncut in 10:500\n",
    "    n_full_naive = filling(lDGAhelper.gImp[1,:], lDGAhelper.mP.β)\n",
    "    n_full_impr  = filling(lDGAhelper.gImp[1,:], lDGAhelper.mP.U, lDGAhelper.mP.μ, lDGAhelper.mP.β)\n",
    "    n_pos_naive  = filling_pos(lDGAhelper.gImp[1,0:end], lDGAhelper.mP.U, lDGAhelper.mP.μ, lDGAhelper.mP.β; improved_sum=false)\n",
    "    n_pos_impr   = filling_pos(lDGAhelper.gImp[1,0:end], lDGAhelper.mP.U, lDGAhelper.mP.μ, lDGAhelper.mP.β)\n",
    "end"
   ]
  },
  {
   "cell_type": "code",
   "execution_count": 10,
   "id": "683adbb2-05a6-4f6e-915f-196865b2072e",
   "metadata": {},
   "outputs": [
    {
     "data": {
      "text/plain": [
       "1204"
      ]
     },
     "execution_count": 10,
     "metadata": {},
     "output_type": "execute_result"
    }
   ],
   "source": [
    "length(lDGAhelper.gImp[1,0:end])"
   ]
  },
  {
   "cell_type": "code",
   "execution_count": 11,
   "id": "c0e9d940-e1aa-450f-b623-da50c0452e7e",
   "metadata": {},
   "outputs": [
    {
     "data": {
      "text/plain": [
       "1204-element Vector{ComplexF64}:\n",
       "   -0.06696252663889724 - 1.5684061547619033im\n",
       "   -0.05190248755601725 - 1.088988794518448im\n",
       "   -0.05281035689334327 - 0.8820699542174061im\n",
       "   -0.05423566792122824 - 0.7496946014234425im\n",
       "    -0.0557597795204892 - 0.6549470111635349im\n",
       "   -0.05578906796191436 - 0.5828668933207012im\n",
       "   -0.05426503002809015 - 0.5256661774357321im\n",
       "  -0.051651552402835324 - 0.47887299024298097im\n",
       "   -0.04842982947849954 - 0.4397204490818861im\n",
       "   -0.04496116812874398 - 0.4063900366023979im\n",
       "   -0.04148241905799166 - 0.3776270616159527im\n",
       "   -0.03813497960899376 - 0.35253100729544934im\n",
       "   -0.03499498943714575 - 0.33043422430115776im\n",
       "                        ⋮\n",
       " -6.8897250048218514e-6 - 0.0040038077178586595im\n",
       "  -6.878185401482885e-6 - 0.004000453191245331im\n",
       "  -6.866674764601607e-6 - 0.003997104280873838im\n",
       "  -6.855192997313977e-6 - 0.003993760972651999im\n",
       "  -6.843740003160194e-6 - 0.0039904232525347074im\n",
       "  -6.832315686083205e-6 - 0.00398709110652381im\n",
       "   -6.82091995042649e-6 - 0.003983764520667822im\n",
       " -6.8095527009317624e-6 - 0.003980443481061836im\n",
       " -6.7982138427375425e-6 - 0.003977127973847199im\n",
       "  -6.786903281376687e-6 - 0.003973817985211452im\n",
       "  -6.775620922774728e-6 - 0.00397051350138804im\n",
       "  -6.764366673247752e-6 - 0.003967214508656176im"
      ]
     },
     "execution_count": 11,
     "metadata": {},
     "output_type": "execute_result"
    }
   ],
   "source": [
    "lDGAhelper.gImp[1,0:end]"
   ]
  },
  {
   "cell_type": "code",
   "execution_count": null,
   "id": "ccbd40a0-7229-4bcd-98a3-7e0635add820",
   "metadata": {},
   "outputs": [],
   "source": []
  }
 ],
 "metadata": {
  "@webio": {
   "lastCommId": null,
   "lastKernelId": null
  },
  "kernelspec": {
   "display_name": "Julia 1.11.1",
   "language": "julia",
   "name": "julia-1.11"
  },
  "language_info": {
   "file_extension": ".jl",
   "mimetype": "application/julia",
   "name": "julia",
   "version": "1.11.1"
  }
 },
 "nbformat": 4,
 "nbformat_minor": 5
}
