{
 "cells": [
  {
   "cell_type": "code",
   "execution_count": 1,
   "id": "7128fa56",
   "metadata": {},
   "outputs": [
    {
     "name": "stderr",
     "output_type": "stream",
     "text": [
      "\u001b[32m\u001b[1m  Activating\u001b[22m\u001b[39m project at `G:\\Codes\\LadderDGA.jl`\n",
      "\u001b[36m\u001b[1m[ \u001b[22m\u001b[39m\u001b[36m\u001b[1mInfo: \u001b[22m\u001b[39mPrecompiling LadderDGA [78e40beb-bf89-4c0e-9d2b-bee278912f2b] (cache misses: include_dependency fsize change (16), mismatched flags (2))\n"
     ]
    }
   ],
   "source": [
    "using Pkg\n",
    "Pkg.activate(joinpath(@__DIR__,\"..\"))\n",
    "using LadderDGA"
   ]
  },
  {
   "cell_type": "code",
   "execution_count": 2,
   "id": "0f13af85",
   "metadata": {},
   "outputs": [
    {
     "name": "stdout",
     "output_type": "stream",
     "text": [
      "\u001b[36m\u001b[1m[ \u001b[22m\u001b[39m\u001b[36m\u001b[1mInfo: \u001b[22m\u001b[39mReading Inputs...\n",
      "\u001b[36m\u001b[1m[ \u001b[22m\u001b[39m\u001b[36m\u001b[1mInfo: \u001b[22m\u001b[39mSetting up calculation for kGrid 2Dsc-0.25-0.05-0.025 of size 10\n"
     ]
    },
    {
     "name": "stderr",
     "output_type": "stream",
     "text": [
      "DBG: NOT using diagonal terms in λ₀\n"
     ]
    },
    {
     "name": "stdout",
     "output_type": "stream",
     "text": [
      "\u001b[36m\u001b[1m┌ \u001b[22m\u001b[39m\u001b[36m\u001b[1mInfo: \u001b[22m\u001b[39mInputs Read. Starting Computation.\n",
      "\u001b[36m\u001b[1m│ \u001b[22m\u001b[39m    Local susceptibilities with ranges are:\n",
      "\u001b[36m\u001b[1m│ \u001b[22m\u001b[39m    χLoc_m(1:301) = 0.3838, χLoc_d(1:301) = 0.1017\n",
      "\u001b[36m\u001b[1m│ \u001b[22m\u001b[39m    sum χupup check (plain ?≈? tail sub ?≈? imp_dens ?≈? n/2 (1-n/2)): 0.2401531297823682 ?=? 0.2427835212727256 ?≈? 0.2427835212727254 ≟ 0.24275850716113093\"\n",
      "\u001b[36m\u001b[1m│ \u001b[22m\u001b[39mLocal EoM check for the first 5 frequencies: 0.0033, 0.0033, 0.0033, 0.0033, 0.0033  \n",
      "\u001b[36m\u001b[1m└ \u001b[22m\u001b[39m    \n"
     ]
    }
   ],
   "source": [
    "cfg = \"/home/julisn/Hamburg/cuprates_test_data/b20m0.60.toml\"\n",
    "cfg = \"G:/Hamburg/b20.0_mu0.4/lDGAConfig.toml\"\n",
    "wp, mP, sP, env, kGridsStr = readConfig(cfg);\n",
    "lDGAhelper = setup_LDGA(kGridsStr[1], mP, sP, env);"
   ]
  },
  {
   "cell_type": "code",
   "execution_count": 3,
   "id": "60123042",
   "metadata": {},
   "outputs": [
    {
     "name": "stdout",
     "output_type": "stream",
     "text": [
      "\n",
      "DMFT:    : 0.8298060772075676\n",
      "naive    : 0.8308911417231446\n",
      "impr.    : 0.9167501655978485\n",
      "pos_naive: 0.8308911417231444\n",
      "pos_impr.: 0.83198082153152\n"
     ]
    }
   ],
   "source": [
    "n_full_naive = filling(lDGAhelper.gImp[1,:], lDGAhelper.mP.β)\n",
    "n_full_impr  = filling(lDGAhelper.gImp[1,:], lDGAhelper.mP.U, lDGAhelper.mP.μ, lDGAhelper.mP.β)\n",
    "n_pos_naive  = filling_pos(lDGAhelper.gImp[1,0:end], lDGAhelper.mP.U, lDGAhelper.mP.μ, lDGAhelper.mP.β; improved_sum=false)\n",
    "n_pos_impr   = filling_pos(lDGAhelper.gImp[1,0:end], lDGAhelper.mP.U, lDGAhelper.mP.μ, lDGAhelper.mP.β)\n",
    "println(\"\n",
    "DMFT:    : $(lDGAhelper.mP.n)\n",
    "naive    : $n_full_naive\n",
    "impr.    : $n_full_impr\n",
    "pos_naive: $n_pos_naive\n",
    "pos_impr.: $n_pos_impr\")"
   ]
  },
  {
   "cell_type": "code",
   "execution_count": 4,
   "id": "ce6aa419",
   "metadata": {},
   "outputs": [],
   "source": [
    "for Ncut in 10:500\n",
    "    n_full_naive = filling(lDGAhelper.gImp[1,:], lDGAhelper.mP.β)\n",
    "    n_full_impr  = filling(lDGAhelper.gImp[1,:], lDGAhelper.mP.U, lDGAhelper.mP.μ, lDGAhelper.mP.β)\n",
    "    n_pos_naive  = filling_pos(lDGAhelper.gImp[1,0:end], lDGAhelper.mP.U, lDGAhelper.mP.μ, lDGAhelper.mP.β; improved_sum=false)\n",
    "    n_pos_impr   = filling_pos(lDGAhelper.gImp[1,0:end], lDGAhelper.mP.U, lDGAhelper.mP.μ, lDGAhelper.mP.β)\n",
    "end"
   ]
  },
  {
   "cell_type": "code",
   "execution_count": 5,
   "id": "683adbb2-05a6-4f6e-915f-196865b2072e",
   "metadata": {},
   "outputs": [
    {
     "name": "stderr",
     "output_type": "stream",
     "text": [
      "\u001b[32m\u001b[1m  Activating\u001b[22m\u001b[39m project at `G:\\Codes\\LadderDGA.jl`\n"
     ]
    },
    {
     "name": "stdout",
     "output_type": "stream",
     "text": [
      "\u001b[36m\u001b[1m[ \u001b[22m\u001b[39m\u001b[36m\u001b[1mInfo: \u001b[22m\u001b[39mReading Inputs...\n",
      "\u001b[36m\u001b[1m[ \u001b[22m\u001b[39m\u001b[36m\u001b[1mInfo: \u001b[22m\u001b[39mSetting up calculation for kGrid 2Dsc-0.25-0.05-0.025 of size 10\n",
      "\u001b[36m\u001b[1m┌ \u001b[22m\u001b[39m\u001b[36m\u001b[1mInfo: \u001b[22m\u001b[39mInputs Read. Starting Computation.\n",
      "\u001b[36m\u001b[1m│ \u001b[22m\u001b[39m    Local susceptibilities with ranges are:\n",
      "\u001b[36m\u001b[1m│ \u001b[22m\u001b[39m    χLoc_m(1:301) = 0.3838, χLoc_d(1:301) = 0.1017\n",
      "\u001b[36m\u001b[1m│ \u001b[22m\u001b[39m    sum χupup check (plain ?≈? tail sub ?≈? imp_dens ?≈? n/2 (1-n/2)): 0.2401531297823682 ?=? 0.2427835212727256 ?≈? 0.2427835212727254 ≟ 0.24275850716113093\"\n",
      "\u001b[36m\u001b[1m│ \u001b[22m\u001b[39mLocal EoM check for the first 5 frequencies: 0.0033, 0.0033, 0.0033, 0.0033, 0.0033  \n",
      "\u001b[36m\u001b[1m└ \u001b[22m\u001b[39m    \n"
     ]
    },
    {
     "name": "stderr",
     "output_type": "stream",
     "text": [
      "DBG: NOT using diagonal terms in λ₀\n"
     ]
    },
    {
     "name": "stdout",
     "output_type": "stream",
     "text": [
      "\u001b[36m\u001b[1m[ \u001b[22m\u001b[39m\u001b[36m\u001b[1mInfo: \u001b[22m\u001b[39mm channel: |∑χ(q=0,ω≠0)| = 0.005219445084 ≟ 0\n",
      "\u001b[36m\u001b[1m[ \u001b[22m\u001b[39m\u001b[36m\u001b[1mInfo: \u001b[22m\u001b[39md channel: |∑χ(q=0,ω≠0)| = 0.004454577569 ≟ 0\n"
     ]
    },
    {
     "name": "stderr",
     "output_type": "stream",
     "text": [
      "DBG: NOT using diagonal terms in λ₀\n"
     ]
    },
    {
     "data": {
      "text/plain": [
       "21×300×301 Array{ComplexF64, 3}:\n",
       "[:, :, 1] =\n",
       "  0.00158934+6.77785e-5im  …   0.00158952-6.56395e-5im\n",
       "  0.00153489+6.70096e-5im      0.00153507-6.48704e-5im\n",
       "  0.00148074+6.62444e-5im      0.00148092-6.41051e-5im\n",
       "  0.00139672+6.50609e-5im      0.00139691-6.29212e-5im\n",
       "  0.00134335+6.43056e-5im      0.00134354-6.21658e-5im\n",
       "  0.00120801+6.23925e-5im  …   0.00120819-6.02523e-5im\n",
       "  0.00123471+6.27807e-5im      0.00123489-6.06405e-5im\n",
       "   0.0011823+6.20376e-5im      0.00118248-5.98973e-5im\n",
       "  0.00104946+6.01559e-5im      0.00104964-5.80152e-5im\n",
       " 0.000893988+5.79574e-5im     0.000894169-5.58164e-5im\n",
       "  0.00111071+6.10397e-5im  …   0.00111089-5.88991e-5im\n",
       "  0.00105908+6.03063e-5im      0.00105926-5.81655e-5im\n",
       " 0.000928258+5.84497e-5im     0.000928439-5.63087e-5im\n",
       " 0.000775261+5.62819e-5im     0.000775441-5.41405e-5im\n",
       " 0.000658521+5.46306e-5im     0.000658702-5.2489e-5im\n",
       "  0.00106502+6.03991e-5im  …    0.0010652-5.82583e-5im\n",
       "  0.00101368+5.96694e-5im      0.00101386-5.75285e-5im\n",
       " 0.000883629+5.78224e-5im      0.00088381-5.56812e-5im\n",
       " 0.000731574+5.56661e-5im     0.000731755-5.35246e-5im\n",
       " 0.000615591+5.40241e-5im     0.000615772-5.18824e-5im\n",
       " 0.000572949+5.34211e-5im  …   0.00057313-5.12793e-5im\n",
       "\n",
       "[:, :, 2] =\n",
       "  0.00154386+6.94187e-5im  …   0.00162221-6.10256e-5im\n",
       "  0.00148867+6.86469e-5im      0.00156702-6.02449e-5im\n",
       "  0.00143379+6.7879e-5im       0.00151215-5.94682e-5im\n",
       "  0.00134865+6.66913e-5im      0.00142701-5.82667e-5im\n",
       "  0.00129456+6.59333e-5im      0.00137292-5.75e-5im\n",
       "   0.0011574+6.40134e-5im  …   0.00123576-5.55581e-5im\n",
       "  0.00118446+6.44029e-5im      0.00126282-5.59519e-5im\n",
       "  0.00113135+6.36571e-5im      0.00120971-5.51976e-5im\n",
       " 0.000996721+6.17687e-5im      0.00107509-5.32876e-5im\n",
       " 0.000839162+5.95625e-5im     0.000917539-5.10562e-5im\n",
       "   0.0010588+6.26556e-5im  …   0.00113717-5.41843e-5im\n",
       "  0.00100647+6.19196e-5im      0.00108484-5.344e-5im\n",
       " 0.000873891+6.00565e-5im     0.000952267-5.15557e-5im\n",
       " 0.000718841+5.78809e-5im     0.000797223-4.93554e-5im\n",
       " 0.000600535+5.62238e-5im     0.000678923-4.76795e-5im\n",
       "  0.00101249+6.20127e-5im  …   0.00109086-5.35339e-5im\n",
       " 0.000960463+6.12804e-5im      0.00103883-5.27933e-5im\n",
       " 0.000828664+5.94269e-5im     0.000907041-5.09188e-5im\n",
       " 0.000674568+5.7263e-5im      0.000752953-4.87304e-5im\n",
       " 0.000557029+5.56151e-5im      0.00063542-4.70638e-5im\n",
       " 0.000513815+5.50099e-5im  …  0.000592208-4.64518e-5im\n",
       "\n",
       "[:, :, 3] =\n",
       "  0.00157953+6.47778e-5im  …   0.00157971-6.26589e-5im\n",
       "   0.0015236+6.39945e-5im      0.00152378-6.18754e-5im\n",
       "  0.00146798+6.32151e-5im      0.00146816-6.10958e-5im\n",
       "  0.00138169+6.20094e-5im      0.00138187-5.98898e-5im\n",
       "  0.00132687+6.12401e-5im      0.00132705-5.91203e-5im\n",
       "  0.00118785+5.92914e-5im  …   0.00118804-5.71713e-5im\n",
       "  0.00121528+5.96866e-5im      0.00121546-5.75664e-5im\n",
       "  0.00116145+5.89297e-5im      0.00116163-5.68094e-5im\n",
       "  0.00102501+5.70131e-5im      0.00102519-5.48925e-5im\n",
       " 0.000865327+5.47739e-5im      0.00086551-5.26529e-5im\n",
       "  0.00108792+5.7913e-5im   …   0.00108811-5.57923e-5im\n",
       "  0.00103489+5.7166e-5im       0.00103507-5.50453e-5im\n",
       " 0.000900525+5.52752e-5im     0.000900708-5.31541e-5im\n",
       " 0.000743387+5.30672e-5im     0.000743569-5.09458e-5im\n",
       " 0.000623489+5.13854e-5im     0.000623672-4.92637e-5im\n",
       "  0.00104099+5.72603e-5im  …   0.00104117-5.51395e-5im\n",
       " 0.000988263+5.65172e-5im     0.000988446-5.43962e-5im\n",
       " 0.000854688+5.46361e-5im     0.000854871-5.25149e-5im\n",
       " 0.000698518+5.244e-5im       0.000698701-5.03185e-5im\n",
       " 0.000579398+5.07676e-5im     0.000579581-4.86458e-5im\n",
       " 0.000535603+5.01534e-5im  …  0.000535785-4.80315e-5im\n",
       "\n",
       ";;; … \n",
       "\n",
       "[:, :, 299] =\n",
       "  0.00157976+6.45945e-5im  …   0.00157947-6.28422e-5im\n",
       "  0.00152383+6.3811e-5im       0.00152355-6.20589e-5im\n",
       "  0.00146821+6.30314e-5im      0.00146793-6.12794e-5im\n",
       "  0.00138192+6.18255e-5im      0.00138163-6.00737e-5im\n",
       "   0.0013271+6.10561e-5im      0.00132682-5.93044e-5im\n",
       "  0.00118809+5.9107e-5im   …    0.0011878-5.73556e-5im\n",
       "  0.00121551+5.95022e-5im      0.00121523-5.77509e-5im\n",
       "  0.00116168+5.87452e-5im       0.0011614-5.69939e-5im\n",
       "  0.00102524+5.68283e-5im      0.00102496-5.50773e-5im\n",
       " 0.000865562+5.45888e-5im     0.000865276-5.2838e-5im\n",
       "  0.00108816+5.77281e-5im  …   0.00108787-5.59772e-5im\n",
       "  0.00103512+5.69811e-5im      0.00103484-5.52302e-5im\n",
       "  0.00090076+5.509e-5im       0.000900474-5.33393e-5im\n",
       " 0.000743621+5.28818e-5im     0.000743335-5.11312e-5im\n",
       " 0.000623724+5.11997e-5im     0.000623437-4.94494e-5im\n",
       "  0.00104123+5.70753e-5im  …   0.00104094-5.53245e-5im\n",
       " 0.000988497+5.63321e-5im     0.000988211-5.45813e-5im\n",
       " 0.000854923+5.44508e-5im     0.000854637-5.27002e-5im\n",
       " 0.000698753+5.22545e-5im     0.000698467-5.0504e-5im\n",
       " 0.000579633+5.05819e-5im     0.000579346-4.88316e-5im\n",
       " 0.000535837+4.99676e-5im  …  0.000535551-4.82173e-5im\n",
       "\n",
       "[:, :, 300] =\n",
       "  0.00162226+6.3212e-5im   …   0.00154381-6.77361e-5im\n",
       "  0.00156708+6.24314e-5im      0.00148863-6.69643e-5im\n",
       "  0.00151221+6.16547e-5im      0.00143375-6.61964e-5im\n",
       "  0.00142707+6.04532e-5im      0.00134861-6.50086e-5im\n",
       "  0.00137298+5.96866e-5im      0.00129452-6.42506e-5im\n",
       "  0.00123582+5.77447e-5im  …   0.00115736-6.23306e-5im\n",
       "  0.00126288+5.81385e-5im      0.00118441-6.27202e-5im\n",
       "  0.00120977+5.73842e-5im       0.0011313-6.19744e-5im\n",
       "  0.00107515+5.54743e-5im     0.000996677-6.00859e-5im\n",
       " 0.000917598+5.3243e-5im      0.000839118-5.78797e-5im\n",
       "  0.00113723+5.6371e-5im   …   0.00105875-6.09728e-5im\n",
       "   0.0010849+5.56267e-5im      0.00100643-6.02368e-5im\n",
       " 0.000952327+5.37425e-5im     0.000873848-5.83736e-5im\n",
       " 0.000797283+5.15423e-5im     0.000718797-5.6198e-5im\n",
       " 0.000678983+4.98663e-5im     0.000600491-5.45409e-5im\n",
       "  0.00109092+5.57206e-5im  …   0.00101245-6.03299e-5im\n",
       "  0.00103889+5.49801e-5im     0.000960419-5.95976e-5im\n",
       " 0.000907101+5.31056e-5im      0.00082862-5.7744e-5im\n",
       " 0.000753012+5.09173e-5im     0.000674524-5.55801e-5im\n",
       " 0.000635479+4.92507e-5im     0.000556986-5.39322e-5im\n",
       " 0.000592267+4.86387e-5im  …  0.000513771-5.3327e-5im\n",
       "\n",
       "[:, :, 301] =\n",
       "  0.00158957+6.75959e-5im  …   0.00158929-6.58222e-5im\n",
       "  0.00153512+6.68268e-5im      0.00153484-6.50532e-5im\n",
       "  0.00148097+6.60615e-5im      0.00148068-6.4288e-5im\n",
       "  0.00139696+6.48777e-5im      0.00139667-6.31044e-5im\n",
       "  0.00134359+6.41223e-5im       0.0013433-6.23491e-5im\n",
       "  0.00120824+6.22089e-5im  …   0.00120796-6.04359e-5im\n",
       "  0.00123494+6.25971e-5im      0.00123466-6.08242e-5im\n",
       "  0.00118253+6.18538e-5im      0.00118225-6.0081e-5im\n",
       "  0.00104969+5.99718e-5im      0.00104941-5.81992e-5im\n",
       " 0.000894222+5.77731e-5im     0.000893936-5.60008e-5im\n",
       "  0.00111095+6.08557e-5im  …   0.00111066-5.90831e-5im\n",
       "  0.00105931+6.01222e-5im      0.00105903-5.83497e-5im\n",
       " 0.000928491+5.82654e-5im     0.000928205-5.64931e-5im\n",
       " 0.000775494+5.60972e-5im     0.000775208-5.43251e-5im\n",
       " 0.000658755+5.44458e-5im     0.000658469-5.26738e-5im\n",
       "  0.00106525+6.02149e-5im  …   0.00106497-5.84425e-5im\n",
       "  0.00101392+5.94851e-5im      0.00101363-5.77127e-5im\n",
       " 0.000883862+5.76379e-5im     0.000883576-5.58657e-5im\n",
       " 0.000731807+5.54814e-5im     0.000731521-5.37094e-5im\n",
       " 0.000615825+5.38392e-5im     0.000615539-5.20673e-5im\n",
       " 0.000573183+5.32361e-5im  …  0.000572897-5.14642e-5im"
      ]
     },
     "execution_count": 5,
     "metadata": {},
     "output_type": "execute_result"
    }
   ],
   "source": [
    "empty!(ARGS)\n",
    "push!(ARGS, \"G:/Hamburg/b20.0_mu0.4/lDGAConfig.toml\")\n",
    "include(joinpath(@__DIR__,\"../examples/example00_lDGA.jl\"))"
   ]
  },
  {
   "cell_type": "code",
   "execution_count": 203,
   "id": "12511a48-fe59-4898-9d49-2bf4d50b6875",
   "metadata": {},
   "outputs": [
    {
     "name": "stdout",
     "output_type": "stream",
     "text": [
      "\u001b[22m╭──── \u001b[0mλ-correction (type: LadderDGA.LambdaCorrection.mCorrection),...\u001b[22m ─────────╮\u001b[22m\u001b[0m\u001b[22m\n",
      "\u001b[22m│\u001b[22m  λm = 0.02371568, λd = 0.00000000, μ = 0.22269302                            \u001b[22m│\u001b[22m\n",
      "\u001b[22m│\u001b[22m  n      =  0.82980608,  n DMFT  =  0.82980608,  \u001b[32mΔ = 0.0000%\u001b[39m                  \u001b[22m│\u001b[22m\n",
      "\u001b[22m│\u001b[22m  PP_1   =  0.24275851,  PP_2    =  0.24275851,  \u001b[32mΔ = 0.0000%\u001b[39m                  \u001b[22m│\u001b[22m\n",
      "\u001b[22m│\u001b[22m  Epot_1 =  0.06695451,  Epot_2  =  0.05669002,  \u001b[31mΔ = 8.3016%\u001b[39m                  \u001b[22m│\u001b[22m\n",
      "\u001b[22m│\u001b[22m  Ekin_1 =  -0.27849941,  Ekin_2  = -0.26047556,  \u001b[31mΔ = 3.3441%\u001b[39m                 \u001b[22m│\u001b[22m\n",
      "\u001b[22m│\u001b[22m  χ_m    =  0.38655803,  χ_m_loc = 0.38383441,  \u001b[31mΔ = 0.3535%\u001b[39m                   \u001b[22m│\u001b[22m\n",
      "\u001b[22m│\u001b[22m                                                                              \u001b[22m│\u001b[22m\n",
      "\u001b[0m\u001b[22m╰──────────────────────────────────────────────────────────────────────────────╯\u001b[22m\u001b[0m\u001b[0m\n"
     ]
    },
    {
     "data": {
      "text/plain": [
       "(0.2226930221230158, ComplexF64[1.8579865207859065e-5 + 0.007963850335962579im 1.864201065492786e-5 + 0.007977154897749065im … 1.8579865207859065e-5 - 0.007963850335962579im 1.8518030006914892e-5 - 0.007950590076895754im; 1.2754852967806146e-5 + 0.007963873255226177im 1.2797519418932527e-5 + 0.007977177932093168im … 1.2754852967806146e-5 - 0.007963873255226177im 1.271239954741303e-5 - 0.007950612881844175im; … ; -0.00010196277002535733 + 0.007962588026552085im -0.00010230367069000879 + 0.007975886252306563im … -0.00010196277002535733 - 0.007962588026552085im -0.00010162357028749584 - 0.007949334061398253im; -0.0001082472328696831 + 0.007962422087897108im -0.00010860913816928121 + 0.007975719480807173im … -0.0001082472328696831 - 0.007962422087897108im -0.00010788713325512772 - 0.007949168950051882im])"
      ]
     },
     "execution_count": 203,
     "metadata": {},
     "output_type": "execute_result"
    }
   ],
   "source": [
    "res_m      = λm_correction(χm, γm, χd, γd, λ₀, lDGAhelper); print(res_m)\n",
    "sl = calc_Σ(χm, γm, χd, γd, λ₀, lDGAhelper, λm=res_m.λm);\n",
    "\n",
    "\n",
    "LadderDGA.@timeit LadderDGA.to \"new\" μ_new, G_ladder_new = G_from_Σladder_test(sl, lDGAhelper.Σ_loc, lDGAhelper.kG, lDGAhelper.mP, lDGAhelper.sP, fix_n=true, μ=1.0)\n",
    "LadderDGA.@timeit LadderDGA.to \"old\" μ_old, G_ladder_old = G_from_Σladder(sl, lDGAhelper.Σ_loc, lDGAhelper.kG, lDGAhelper.mP, lDGAhelper.sP, fix_n=true, μ=1.0)"
   ]
  },
  {
   "cell_type": "code",
   "execution_count": null,
   "id": "f640a112-d45a-47b9-8e1f-80e940e799f8",
   "metadata": {},
   "outputs": [],
   "source": []
  },
  {
   "cell_type": "code",
   "execution_count": null,
   "id": "0e2578d5-3ecb-4b3b-8bb0-a045d0d82f77",
   "metadata": {},
   "outputs": [],
   "source": []
  }
 ],
 "metadata": {
  "@webio": {
   "lastCommId": null,
   "lastKernelId": null
  },
  "kernelspec": {
   "display_name": "Julia 1.11.1",
   "language": "julia",
   "name": "julia-1.11"
  },
  "language_info": {
   "file_extension": ".jl",
   "mimetype": "application/julia",
   "name": "julia",
   "version": "1.11.1"
  }
 },
 "nbformat": 4,
 "nbformat_minor": 5
}
