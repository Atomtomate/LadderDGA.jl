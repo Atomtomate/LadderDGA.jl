{
 "cells": [
  {
   "cell_type": "code",
   "execution_count": 1,
   "metadata": {},
   "outputs": [
    {
     "name": "stderr",
     "output_type": "stream",
     "text": [
      "┌ Info: Precompiling LadderDGA [78e40beb-bf89-4c0e-9d2b-bee278912f2b]\n",
      "└ @ Base loading.jl:1423\n"
     ]
    }
   ],
   "source": [
    "ENV[\"GKS_ENCODING\"] = \"utf-8\"\n",
    "using Plots\n",
    "using LadderDGA\n",
    "using Logging\n",
    "\n",
    "io = stdout\n",
    "metafmt(level::Logging.LogLevel, _module, group, id, file, line) = Logging.default_metafmt(level, nothing, group,     id, nothing, nothing)\n",
    "logger = ConsoleLogger(io, Logging.Info, meta_formatter=metafmt, show_limited=true, right_justify=0)\n",
    "global_logger(logger);"
   ]
  },
  {
   "cell_type": "markdown",
   "metadata": {},
   "source": [
    "# Setup and read DMFT quantities"
   ]
  },
  {
   "cell_type": "code",
   "execution_count": 51,
   "metadata": {},
   "outputs": [
    {
     "name": "stdout",
     "output_type": "stream",
     "text": [
      "\u001b[36m\u001b[1m[ \u001b[22m\u001b[39m\u001b[36m\u001b[1mInfo: \u001b[22m\u001b[39mReading Inputs...\n",
      "\u001b[36m\u001b[1m[ \u001b[22m\u001b[39m\u001b[36m\u001b[1mInfo: \u001b[22m\u001b[39mSetting up calculation for kGrid 3Dsc-0.2041241452319315 of size 4\n",
      "\u001b[36m\u001b[1m[ \u001b[22m\u001b[39m\u001b[36m\u001b[1mInfo: \u001b[22m\u001b[39msetting usable ranges of sp and ch channel from 28:54 and 28:54 to the same range of 28:54\n",
      "\u001b[33m\u001b[1m[ \u001b[22m\u001b[39m\u001b[33m\u001b[1mWarning: \u001b[22m\u001b[39mTODO: update local omega sum with correction\n",
      "\u001b[33m\u001b[1m[ \u001b[22m\u001b[39m\u001b[33m\u001b[1mWarning: \u001b[22m\u001b[39musing unoptimized sum_freq\n",
      "\u001b[33m\u001b[1m[ \u001b[22m\u001b[39m\u001b[33m\u001b[1mWarning: \u001b[22m\u001b[39musing unoptimized sum_freq\n",
      "\u001b[36m\u001b[1m┌ \u001b[22m\u001b[39m\u001b[36m\u001b[1mInfo: \u001b[22m\u001b[39mInputs Read. Starting Computation.\n",
      "\u001b[36m\u001b[1m│ \u001b[22m\u001b[39mLocal susceptibilities with ranges are:\n",
      "\u001b[36m\u001b[1m│ \u001b[22m\u001b[39mχLoc_sp(28:54) = 0.2147, χLoc_ch(28:54) = 0.1365\n",
      "\u001b[36m\u001b[1m└ \u001b[22m\u001b[39msum χupup check (fit, tail sub, tail sub + fit, expected): 0.1755788445327572 ?≈? 0.21520636358989342 ?=? 0.21520636358989342 ?≈? 0.25\"\n",
      "\u001b[36m\u001b[1m[ \u001b[22m\u001b[39m\u001b[36m\u001b[1mInfo: \u001b[22m\u001b[39mlocal\n",
      "\u001b[36m\u001b[1m[ \u001b[22m\u001b[39m\u001b[36m\u001b[1mInfo: \u001b[22m\u001b[39mbubble\n",
      "\u001b[36m\u001b[1m[ \u001b[22m\u001b[39m\u001b[36m\u001b[1mInfo: \u001b[22m\u001b[39mchi\n",
      "\u001b[36m\u001b[1m[ \u001b[22m\u001b[39m\u001b[36m\u001b[1mInfo: \u001b[22m\u001b[39mΣ\n"
     ]
    },
    {
     "name": "stderr",
     "output_type": "stream",
     "text": [
      "\u001b[32m\u001b[1m  Activating\u001b[22m\u001b[39m project at `~/Hamburg/Julia_lDGA/LadderDGA.jl`\n"
     ]
    }
   ],
   "source": [
    "using TimerOutputs\n",
    "\n",
    "using Pkg\n",
    "Pkg.activate(\"/home/julian/Hamburg/Julia_lDGA/LadderDGA.jl\")\n",
    "using LadderDGA\n",
    "\n",
    "cfg_file =  \"/home/julian/Hamburg/Julia_lDGA/lDGA_shift_tests/data/40_40_s0_b14_u1.0/config_j.toml\";\n",
    "mP, sP, env, kGridsStr = readConfig(cfg_file);\n",
    "\n",
    "impQ_sp, impQ_ch, gImp, kGridLoc, kG, gLoc, gLoc_fft, Σ_loc, FUpDo = setup_LDGA(kGridsStr[1], mP, sP, env);\n",
    "@info \"local\"\n",
    "bubbleLoc = calc_bubble(gImp, kGridLoc, mP, sP);\n",
    "locQ_sp = calc_χ_trilex(impQ_sp.Γ, bubbleLoc, kGridLoc, mP.U, mP, sP);\n",
    "locQ_ch = calc_χ_trilex(impQ_ch.Γ, bubbleLoc, kGridLoc, -mP.U, mP, sP);\n",
    "\n",
    "\n",
    "Σ_ladderLoc = calc_Σ(locQ_sp, locQ_ch, bubbleLoc, gImp, FUpDo, kGridLoc, mP, sP)\n",
    "Σ_ladderLoc = Σ_ladderLoc .+ mP.n * mP.U/2.0;\n",
    "\n",
    "# ladder quantities\n",
    "@info \"bubble\"\n",
    "bubble = calc_bubble(gLoc_fft, kG, mP, sP);\n",
    "@info \"chi\"\n",
    "nlQ_sp = calc_χ_trilex(impQ_sp.Γ, bubble, kG, mP.U, mP, sP);\n",
    "nlQ_ch = calc_χ_trilex(impQ_ch.Γ, bubble, kG, -mP.U, mP, sP);\n",
    "@info \"Σ\"\n",
    "Σ_ladder = calc_Σ(nlQ_sp, nlQ_ch, bubble, gLoc_fft, FUpDo, kG, mP, sP)\n",
    "Σ_ladder = Σ_loc_correction(Σ_ladder,Σ_ladderLoc,Σ_loc);"
   ]
  },
  {
   "cell_type": "code",
   "execution_count": 52,
   "metadata": {},
   "outputs": [
    {
     "name": "stdout",
     "output_type": "stream",
     "text": [
      "Compare with energies_dmft_nusum.dat, column 3 and 5, last line\n"
     ]
    },
    {
     "data": {
      "text/plain": [
       "(-0.7546239818666916, 0.20374739512350937)"
      ]
     },
     "execution_count": 52,
     "metadata": {},
     "output_type": "execute_result"
    }
   ],
   "source": [
    "println(\"Compare with energies_dmft_nusum.dat, column 3 and 5, last line\")\n",
    "iνₙ = LadderDGA.iν_array(mP.β, 0:(sP.n_iν-1))\n",
    "iνₙ, GImp    = LadderDGA.readGImp(env.inputDir * \"/gm_wim\", only_positive=true)\n",
    "ϵₖ, Vₖ, μ    = LadderDGA.read_anderson_parameters(env.inputDir * \"/hubb.andpar\");\n",
    "E_kin_ED, E_pot_ED  = LadderDGA.calc_E_ED(iνₙ[1:20], ϵₖ, Vₖ, GImp[1:20], mP)\n",
    "E_kin_ED_large, E_pot_ED_large  = LadderDGA.calc_E_ED(iνₙ[1:5000], ϵₖ, Vₖ, GImp[1:5000], mP)"
   ]
  },
  {
   "cell_type": "code",
   "execution_count": 53,
   "metadata": {},
   "outputs": [
    {
     "ename": "LoadError",
     "evalue": "BoundsError: attempt to access 162-element Vector{ComplexF64} at index [1:162, 1:40]",
     "output_type": "error",
     "traceback": [
      "BoundsError: attempt to access 162-element Vector{ComplexF64} at index [1:162, 1:40]",
      "",
      "Stacktrace:",
      " [1] throw_boundserror(A::Vector{ComplexF64}, I::Tuple{Base.Slice{Base.OneTo{Int64}}, UnitRange{Int64}})",
      "   @ Base ./abstractarray.jl:694",
      " [2] checkbounds",
      "   @ ./abstractarray.jl:659 [inlined]",
      " [3] _getindex",
      "   @ ./multidimensional.jl:838 [inlined]",
      " [4] getindex(::Vector{ComplexF64}, ::Function, ::UnitRange{Int64})",
      "   @ Base ./abstractarray.jl:1221",
      " [5] top-level scope",
      "   @ In[53]:1",
      " [6] eval",
      "   @ ./boot.jl:373 [inlined]",
      " [7] include_string(mapexpr::typeof(REPL.softscope), mod::Module, code::String, filename::String)",
      "   @ Base ./loading.jl:1196"
     ]
    }
   ],
   "source": [
    "ep_loc, ek_loc = LadderDGA.calc_E(Σ_loc[:,1:sP.n_iν], kG, mP, sP);"
   ]
  },
  {
   "cell_type": "code",
   "execution_count": null,
   "metadata": {},
   "outputs": [],
   "source": []
  },
  {
   "cell_type": "code",
   "execution_count": 54,
   "metadata": {},
   "outputs": [
    {
     "data": {
      "text/plain": [
       "calc_E (generic function with 1 method)"
      ]
     },
     "execution_count": 54,
     "metadata": {},
     "output_type": "execute_result"
    }
   ],
   "source": [
    "iν_array = LadderDGA.iν_array\n",
    "G_from_Σ = LadderDGA.G_from_Σ\n",
    "flatten_2D = LadderDGA.flatten_2D\n",
    "\n",
    "function calc_E(Σ, kG, mP::ModelParameters, sP::SimulationParameters)\n",
    "    #println(\"TODO: E_pot function has to be tested\")\n",
    "    #println(\"TODO: use GNew/GLoc/GImp instead of Sigma\")\n",
    "    #println(\"TODO: make frequency summation with sum_freq optional\")\n",
    "    νmax = size(Σ,2)\n",
    "    νGrid = 0:(νmax-1)\n",
    "    iν_n = iν_array(mP.β, νGrid)\n",
    "    Σ_hartree = mP.n * mP.U/2\n",
    "    Σ_corr = Σ .+ Σ_hartree\n",
    "\n",
    "    E_kin_tail_c = [zeros(size(kG.ϵkGrid)), (kG.ϵkGrid .+ Σ_hartree .- mP.μ)]\n",
    "    E_pot_tail_c = [zeros(size(kG.ϵkGrid)),\n",
    "                    (mP.U^2 * 0.5 * mP.n * (1-0.5*mP.n) .+ Σ_hartree .* (kG.ϵkGrid .+ Σ_hartree .- mP.μ))]\n",
    "    tail = [1 ./ (iν_n .^ n) for n in 1:length(E_kin_tail_c)]\n",
    "    E_pot_tail = sum(E_pot_tail_c[i] .* tail[i]' for i in 1:length(tail))\n",
    "    E_kin_tail = sum(E_kin_tail_c[i] .* tail[i]' for i in 1:length(tail))\n",
    "    E_pot_tail_inv = sum((mP.β/2)  .* [Σ_hartree .* ones(size(kG.ϵkGrid)), (-mP.β/2) .* E_pot_tail_c[2]])\n",
    "    E_kin_tail_inv = sum(map(x->x .* (mP.β/2) .* kG.ϵkGrid , [1, -(mP.β) .* E_kin_tail_c[2]]))\n",
    "\n",
    "    @warn \"possible bug in flatten_2D with new axis, use calc_E_pot, calc_E_kin instead\"\n",
    "    G_corr = flatten_2D(G_from_Σ(Σ_corr, kG.ϵkGrid, νGrid, mP))';\n",
    "    E_pot = real.(G_corr .* Σ_corr .- 0.0); #E_pot_tail\n",
    "    E_kin = kG.ϵkGrid .* real.(G_corr .- 0.0); #E_kin_tail\n",
    "#E_pot_tail_inv\n",
    "#E_kin_tail_inv\n",
    "    E_pot = [kintegrate(kG, 2 .* sum(E_pot[:,1:i], dims=[2])[:,1] .+ 0.0) for i in 1:νmax] ./ mP.β\n",
    "    E_kin = [kintegrate(kG, 4 .* sum(E_kin[:,1:i], dims=[2])[:,1] .+ 0.0) for i in 1:νmax] ./ mP.β\n",
    "    return E_kin, E_pot\n",
    "end"
   ]
  },
  {
   "cell_type": "code",
   "execution_count": null,
   "metadata": {},
   "outputs": [],
   "source": []
  },
  {
   "cell_type": "code",
   "execution_count": 134,
   "metadata": {},
   "outputs": [
    {
     "name": "stdout",
     "output_type": "stream",
     "text": [
      "\u001b[33m\u001b[1m[ \u001b[22m\u001b[39m\u001b[33m\u001b[1mWarning: \u001b[22m\u001b[39mpossible bug in flatten_2D with new axis, use calc_E_pot, calc_E_kin instead\n"
     ]
    }
   ],
   "source": [
    "iν_array = LadderDGA.iν_array\n",
    "G_from_Σ = LadderDGA.G_from_Σ\n",
    "flatten_2D = LadderDGA.flatten_2D\n",
    "\n",
    "Σ = Σ_ladder\n",
    "νmax = size(Σ,2)\n",
    "νGrid = 0:(νmax-1)\n",
    "iν_n = iν_array(mP.β, νGrid)\n",
    "Σ_hartree = mP.n * mP.U/2\n",
    "Σ_corr = Σ .+ Σ_hartree\n",
    "\n",
    "E_kin_tail_c = [zeros(size(kG.ϵkGrid)), (kG.ϵkGrid .+ Σ_hartree .- mP.μ)]\n",
    "E_pot_tail_c = [zeros(size(kG.ϵkGrid)),\n",
    "                (mP.U^2 * 0.5 * mP.n * (1-0.5*mP.n) .+ Σ_hartree .* (kG.ϵkGrid .+ Σ_hartree .- mP.μ))]\n",
    "tail = [1 ./ (iν_n .^ n) for n in 1:length(E_kin_tail_c)]\n",
    "E_pot_tail = sum(E_pot_tail_c[i] .* transpose(tail[i]) for i in 1:length(tail))\n",
    "E_kin_tail = sum(E_kin_tail_c[i] .* transpose(tail[i]) for i in 1:length(tail))\n",
    "E_pot_tail_inv = sum((mP.β/2)  .* [Σ_hartree .* ones(size(kG.ϵkGrid)), (-mP.β/2) .* E_pot_tail_c[2]])\n",
    "E_kin_tail_inv = sum(map(x->x .* (mP.β/2) .* kG.ϵkGrid , [1, -(mP.β) .* E_kin_tail_c[2]]))\n",
    "\n",
    "@warn \"possible bug in flatten_2D with new axis, use calc_E_pot, calc_E_kin instead\"\n",
    "G_corr = transpose(flatten_2D(G_from_Σ(Σ_corr, kG.ϵkGrid, νGrid, mP)));\n",
    "E_pot_full = real.(G_corr .* Σ_corr .- E_pot_tail);\n",
    "E_kin_full = kG.ϵkGrid .* real.(G_corr .- E_kin_tail);\n",
    "#E_pot_tail_inv\n",
    "#E_kin_tail_inv\n",
    "t = 0.5*kintegrate(kG, Σ_hartree .* ones(length(kG.kMult)))\n",
    "E_pot = [kintegrate(kG, 2 .* sum(E_pot_full[:,1:i], dims=[2])[:,1] .+ E_pot_tail_inv) for i in 1:νmax] ./ mP.β\n",
    "E_kin = [kintegrate(kG, 4 .* sum(E_kin_full[:,1:i], dims=[2])[:,1] .+ E_kin_tail_inv) for i in 1:νmax] ./ mP.β;"
   ]
  },
  {
   "cell_type": "code",
   "execution_count": 135,
   "metadata": {},
   "outputs": [
    {
     "data": {
      "text/plain": [
       "40-element Vector{Float64}:\n",
       " -0.40386947986245864\n",
       " -0.2892353809165824\n",
       " -0.25989552844586755\n",
       " -0.24925155300043317\n",
       " -0.2445641952409264\n",
       " -0.242213429138388\n",
       " -0.24091720351281704\n",
       " -0.2401486745466213\n",
       " -0.23966614725843596\n",
       " -0.23934881953609533\n",
       " -0.23913200654808128\n",
       " -0.23897905292547067\n",
       " -0.23886817812079905\n",
       "  ⋮\n",
       " -0.23848518465319662\n",
       " -0.23848138858891232\n",
       " -0.23847806120695234\n",
       " -0.23847513190915048\n",
       " -0.23847254243651128\n",
       " -0.23847024445374543\n",
       " -0.23846819770384142\n",
       " -0.23846636864173837\n",
       " -0.2384647295680617\n",
       " -0.2384632584673579\n",
       " -0.23846194031458007\n",
       " -0.238460772693047"
      ]
     },
     "execution_count": 135,
     "metadata": {},
     "output_type": "execute_result"
    }
   ],
   "source": [
    "E_kin"
   ]
  },
  {
   "cell_type": "code",
   "execution_count": 124,
   "metadata": {},
   "outputs": [
    {
     "data": {
      "text/plain": [
       "10-element Vector{ComplexF64}:\n",
       "       24.3221496057386 + 0.0im\n",
       "      16.21476640382573 + 0.0im\n",
       "      8.107383201912869 + 0.0im\n",
       " 1.1023932874275725e-15 + 0.0im\n",
       "      8.107383201912866 + 0.0im\n",
       " 1.1023932874275725e-15 + 0.0im\n",
       "     -8.107383201912864 - 0.0im\n",
       "     -8.107383201912866 - 0.0im\n",
       "     -16.21476640382573 - 0.0im\n",
       "      -24.3221496057386 - 0.0im"
      ]
     },
     "execution_count": 124,
     "metadata": {},
     "output_type": "execute_result"
    }
   ],
   "source": [
    "E_kin_tail[:,1]"
   ]
  },
  {
   "cell_type": "code",
   "execution_count": 132,
   "metadata": {},
   "outputs": [
    {
     "data": {
      "text/plain": [
       "10-element Vector{Float64}:\n",
       " -1.224744871391589\n",
       " -0.816496580927726\n",
       " -0.40824829046386313\n",
       " -5.551115123125783e-17\n",
       " -0.408248290463863\n",
       " -5.551115123125783e-17\n",
       "  0.4082482904638629\n",
       "  0.408248290463863\n",
       "  0.816496580927726\n",
       "  1.224744871391589"
      ]
     },
     "execution_count": 132,
     "metadata": {},
     "output_type": "execute_result"
    }
   ],
   "source": [
    "E_kin_tail_c[2]"
   ]
  },
  {
   "cell_type": "code",
   "execution_count": 131,
   "metadata": {},
   "outputs": [
    {
     "data": {
      "text/plain": [
       "10-element Vector{Float64}:\n",
       " -0.36237243569579447\n",
       " -0.15824829046386302\n",
       "  0.045875854768068436\n",
       "  0.24999999999999997\n",
       "  0.04587585476806849\n",
       "  0.24999999999999997\n",
       "  0.45412414523193145\n",
       "  0.4541241452319315\n",
       "  0.658248290463863\n",
       "  0.8623724356957945"
      ]
     },
     "execution_count": 131,
     "metadata": {},
     "output_type": "execute_result"
    }
   ],
   "source": [
    "E_pot_tail_c[2]"
   ]
  },
  {
   "cell_type": "code",
   "execution_count": 83,
   "metadata": {},
   "outputs": [
    {
     "data": {
      "text/plain": [
       "10-element Vector{ComplexF64}:\n",
       "   0.5981358381302362 - 0.2628210052630989im\n",
       "   0.5887170462258846 - 0.5653143426740675im\n",
       "   0.7329398154167804 - 1.095667239180746im\n",
       " 1.258885768325216e-7 - 1.280614227876605im\n",
       "   0.7329398154167802 - 1.095667239180746im\n",
       " 1.258885768325216e-7 - 1.280614227876605im\n",
       "  -0.7329397404682071 - 1.095667394931361im\n",
       "  -0.7329397404682074 - 1.095667394931361im\n",
       "  -0.5887170402739587 - 0.565314452151864im\n",
       "  -0.5981358505100658 - 0.2628210484007997im"
      ]
     },
     "execution_count": 83,
     "metadata": {},
     "output_type": "execute_result"
    }
   ],
   "source": [
    "G_corr[:,1]"
   ]
  },
  {
   "cell_type": "code",
   "execution_count": 92,
   "metadata": {},
   "outputs": [
    {
     "data": {
      "text/plain": [
       "10-element Vector{ComplexF64}:\n",
       " 0.32343775391944485 - 0.39133514858361995im\n",
       " 0.43276006489382857 - 0.6242067114703185im\n",
       "  0.4864579356323736 - 0.4061323417775565im\n",
       "  0.4999999232373996 - 0.5564758096122363im\n",
       "  0.4864579356323735 - 0.40613234177755675im\n",
       "  0.4999999232373996 - 0.5564758096122363im\n",
       "  0.5135419650597346 - 0.40613234743033755im\n",
       "  0.5135419650597346 - 0.40613234743033744im\n",
       "  0.5672397712639117 - 0.6242067270601005im\n",
       "  0.6765621520230242 - 0.3913351955732436im"
      ]
     },
     "execution_count": 92,
     "metadata": {},
     "output_type": "execute_result"
    }
   ],
   "source": [
    "Σ_corr[:,1] "
   ]
  },
  {
   "cell_type": "code",
   "execution_count": 93,
   "metadata": {},
   "outputs": [
    {
     "data": {
      "text/plain": [
       "40-element Vector{Float64}:\n",
       " -1.1131177653588231\n",
       " -1.0772890314680985\n",
       " -1.0763191104172383\n",
       " -1.0801495897778521\n",
       " -1.0842183836911399\n",
       " -1.0877291736670835\n",
       " -1.0906296834586513\n",
       " -1.0930133690946615\n",
       " -1.0949849881230724\n",
       " -1.0966323370918576\n",
       " -1.0980237968600712\n",
       " -1.0992115772365085\n",
       " -1.100235499688631\n",
       "  ⋮\n",
       " -1.1073715808907119\n",
       " -1.1075715332566192\n",
       " -1.1077588127775067\n",
       " -1.107934580452619\n",
       " -1.1080998603966652\n",
       " -1.108255559358764\n",
       " -1.1084024830531987\n",
       " -1.1085413499414023\n",
       " -1.1086728030586614\n",
       " -1.1087974205420454\n",
       " -1.1089157259827065\n",
       " -1.1090282017333086"
      ]
     },
     "execution_count": 93,
     "metadata": {},
     "output_type": "execute_result"
    }
   ],
   "source": [
    "E_kin"
   ]
  },
  {
   "cell_type": "code",
   "execution_count": 90,
   "metadata": {},
   "outputs": [
    {
     "data": {
      "text/plain": [
       "40-element Vector{Float64}:\n",
       " 0.010528697147643111\n",
       " 0.04472763295057478\n",
       " 0.04480609550804776\n",
       " 0.040311877621191816\n",
       " 0.035693511890049275\n",
       " 0.03171730797006362\n",
       " 0.02842117405418523\n",
       " 0.025700387148712842\n",
       " 0.023440373741583507\n",
       " 0.021544945071441834\n",
       " 0.019938736439657788\n",
       " 0.018563825773061364\n",
       " 0.01737575944840381\n",
       " ⋮\n",
       " 0.00901649309747796\n",
       " 0.008779103292173305\n",
       " 0.008556326648568369\n",
       " 0.008346782984566354\n",
       " 0.008149252691348252\n",
       " 0.00796266232696774\n",
       " 0.007786084985654977\n",
       " 0.007618768434481663\n",
       " 0.007460230698234914\n",
       " 0.007310523368650825\n",
       " 0.0071709623912072406\n",
       " 0.007046383640062969"
      ]
     },
     "execution_count": 90,
     "metadata": {},
     "output_type": "execute_result"
    }
   ],
   "source": [
    "E_pot"
   ]
  },
  {
   "cell_type": "code",
   "execution_count": 91,
   "metadata": {},
   "outputs": [
    {
     "data": {
      "text/plain": [
       "40-element Vector{Float64}:\n",
       " -1.1131177653588231\n",
       " -1.0772890314680985\n",
       " -1.0763191104172383\n",
       " -1.0801495897778521\n",
       " -1.0842183836911399\n",
       " -1.0877291736670835\n",
       " -1.0906296834586513\n",
       " -1.0930133690946615\n",
       " -1.0949849881230724\n",
       " -1.0966323370918576\n",
       " -1.0980237968600712\n",
       " -1.0992115772365085\n",
       " -1.100235499688631\n",
       "  ⋮\n",
       " -1.1073715808907119\n",
       " -1.1075715332566192\n",
       " -1.1077588127775067\n",
       " -1.107934580452619\n",
       " -1.1080998603966652\n",
       " -1.108255559358764\n",
       " -1.1084024830531987\n",
       " -1.1085413499414023\n",
       " -1.1086728030586614\n",
       " -1.1087974205420454\n",
       " -1.1089157259827065\n",
       " -1.1090282017333086"
      ]
     },
     "execution_count": 91,
     "metadata": {},
     "output_type": "execute_result"
    }
   ],
   "source": []
  },
  {
   "cell_type": "code",
   "execution_count": 34,
   "metadata": {},
   "outputs": [
    {
     "data": {
      "text/plain": [
       "10-element Vector{ComplexF64}:\n",
       " 0.7488039540800255 - 5.6199551715752806e-9im\n",
       " 0.8181748064351114 - 3.589513281450801e-9im\n",
       " 0.7582653432147911 - 6.369175004909619e-9im\n",
       " 0.7931039823162078 - 6.08530122879078e-9im\n",
       "  0.758265343214791 - 6.3691750103849e-9im\n",
       " 0.7931039823162077 - 6.085301232067452e-9im\n",
       " 0.7262271996435677 - 9.10207003172385e-9im\n",
       " 0.7262271996435676 - 9.102070029276389e-9im\n",
       " 0.7507683892807774 - 9.623841523436265e-9im\n",
       " 0.6236329353752598 - 1.444101633047643e-8im"
      ]
     },
     "execution_count": 34,
     "metadata": {},
     "output_type": "execute_result"
    }
   ],
   "source": [
    "nlQ_ch.γ[:,40,41]"
   ]
  },
  {
   "cell_type": "code",
   "execution_count": 35,
   "metadata": {},
   "outputs": [
    {
     "ename": "LoadError",
     "evalue": "UndefVarError: E_kin_full not defined",
     "output_type": "error",
     "traceback": [
      "UndefVarError: E_kin_full not defined",
      "",
      "Stacktrace:",
      " [1] top-level scope",
      "   @ In[35]:1",
      " [2] eval",
      "   @ ./boot.jl:373 [inlined]",
      " [3] include_string(mapexpr::typeof(REPL.softscope), mod::Module, code::String, filename::String)",
      "   @ Base ./loading.jl:1196"
     ]
    }
   ],
   "source": [
    "E_kin_full .* 2"
   ]
  },
  {
   "cell_type": "code",
   "execution_count": null,
   "metadata": {},
   "outputs": [],
   "source": []
  },
  {
   "cell_type": "code",
   "execution_count": 36,
   "metadata": {},
   "outputs": [
    {
     "name": "stdout",
     "output_type": "stream",
     "text": [
      "\u001b[33m\u001b[1m[ \u001b[22m\u001b[39m\u001b[33m\u001b[1mWarning: \u001b[22m\u001b[39mpossible bug in flatten_2D with new axis, use calc_E_pot, calc_E_kin instead\n"
     ]
    }
   ],
   "source": [
    "E_kin, E_pot = calc_E(Σ_ladder, kG, mP, sP);"
   ]
  },
  {
   "cell_type": "code",
   "execution_count": 37,
   "metadata": {},
   "outputs": [
    {
     "data": {
      "text/plain": [
       "40-element Vector{Float64}:\n",
       " -0.07236920080087601\n",
       " -0.11535037255924395\n",
       " -0.14275456493572541\n",
       " -0.1610628950789639\n",
       " -0.17389052000352964\n",
       " -0.1832649859404447\n",
       " -0.1903639310771406\n",
       " -0.1959012169477909\n",
       " -0.2003281303549566\n",
       " -0.20394112192377714\n",
       " -0.20694167853929765\n",
       " -0.20947090494601403\n",
       " -0.2116302469202535\n",
       "  ⋮\n",
       " -0.22629040807463932\n",
       " -0.22669430480896846\n",
       " -0.22707238478156813\n",
       " -0.2274270420703907\n",
       " -0.22776038478996274\n",
       " -0.22807427663865312\n",
       " -0.2283703715376558\n",
       " -0.2286501427556977\n",
       " -0.22891490772874332\n",
       " -0.22916584976730095\n",
       " -0.22940403835745146\n",
       " -0.22963045200116264"
      ]
     },
     "execution_count": 37,
     "metadata": {},
     "output_type": "execute_result"
    }
   ],
   "source": [
    "E_kin"
   ]
  },
  {
   "cell_type": "code",
   "execution_count": 38,
   "metadata": {},
   "outputs": [
    {
     "data": {
      "text/plain": [
       "40-element Vector{Float64}:\n",
       " 0.27729726674885735\n",
       " 0.44766074869990585\n",
       " 0.5573017890193098\n",
       " 0.6314892884123589\n",
       " 0.6840910775143723\n",
       " 0.7229154916130645\n",
       " 0.7525466265869046\n",
       " 0.7757983531607603\n",
       " 0.7944713560165078\n",
       " 0.8097615750372078\n",
       " 0.8224896637319123\n",
       " 0.8332350665748544\n",
       " 0.8424172721092917\n",
       " ⋮\n",
       " 0.9041804814795137\n",
       " 0.9058055040479215\n",
       " 0.9073119644003903\n",
       " 0.9087090218318147\n",
       " 0.9100042581083475\n",
       " 0.9112036915476888\n",
       " 0.9123116525093761\n",
       " 0.9133304312040195\n",
       " 0.9142594697301759\n",
       " 0.9150935616979805\n",
       " 0.9158185176867547\n",
       " 0.9163992408028572"
      ]
     },
     "execution_count": 38,
     "metadata": {},
     "output_type": "execute_result"
    }
   ],
   "source": [
    "E_pot .* 4"
   ]
  },
  {
   "cell_type": "code",
   "execution_count": 39,
   "metadata": {},
   "outputs": [
    {
     "ename": "LoadError",
     "evalue": "UndefVarError: usable_ω not defined",
     "output_type": "error",
     "traceback": [
      "UndefVarError: usable_ω not defined",
      "",
      "Stacktrace:",
      " [1] top-level scope",
      "   @ In[39]:2",
      " [2] eval",
      "   @ ./boot.jl:373 [inlined]",
      " [3] include_string(mapexpr::typeof(REPL.softscope), mod::Module, code::String, filename::String)",
      "   @ Base ./loading.jl:1196"
     ]
    }
   ],
   "source": [
    "subtract_tail = LadderDGA.subtract_tail\n",
    "iωn = 1im .* 2 .* (-sP.n_iω:sP.n_iω)[usable_ω] .* π ./ mP.β\n",
    "plot(real(subtract_tail(impQ_sp.χ_ω[usable_ω], E_kin_ED_large,iωn)), markershape=:circle)\n",
    "plot!(real(subtract_tail(impQ_ch.χ_ω[usable_ω], E_kin_ED_large, iωn )), markershape=:hexagon)\n",
    "plot!(real(subtract_tail(0.5*(impQ_sp.χ_ω .+ impQ_ch.χ_ω )[usable_ω], E_kin_ED_large, iωn)))"
   ]
  }
 ],
 "metadata": {
  "kernelspec": {
   "display_name": "Julia 1.6.0",
   "language": "julia",
   "name": "julia-1.6"
  },
  "language_info": {
   "file_extension": ".jl",
   "mimetype": "application/julia",
   "name": "julia",
   "version": "1.7.0"
  }
 },
 "nbformat": 4,
 "nbformat_minor": 4
}
