{
 "cells": [
  {
   "cell_type": "code",
   "execution_count": 1,
   "metadata": {},
   "outputs": [
    {
     "name": "stderr",
     "output_type": "stream",
     "text": [
      "┌ Info: Precompiling LadderDGA [78e40beb-bf89-4c0e-9d2b-bee278912f2b]\n",
      "└ @ Base loading.jl:1317\n"
     ]
    }
   ],
   "source": [
    "ENV[\"GKS_ENCODING\"] = \"utf-8\"\n",
    "using Plots\n",
    "using LadderDGA\n",
    "using Logging\n",
    "\n",
    "io = stdout\n",
    "metafmt(level::Logging.LogLevel, _module, group, id, file, line) = Logging.default_metafmt(level, nothing, group,     id, nothing, nothing)\n",
    "logger = ConsoleLogger(io, Logging.Info, meta_formatter=metafmt, show_limited=true, right_justify=0)\n",
    "global_logger(logger);"
   ]
  },
  {
   "cell_type": "markdown",
   "metadata": {},
   "source": [
    "# Setup and read DMFT quantities"
   ]
  },
  {
   "cell_type": "code",
   "execution_count": 2,
   "metadata": {},
   "outputs": [
    {
     "name": "stdout",
     "output_type": "stream",
     "text": [
      "\u001b[36m\u001b[1m[ \u001b[22m\u001b[39m\u001b[36m\u001b[1mInfo: \u001b[22m\u001b[39mReading Inputs...\n",
      "\u001b[33m\u001b[1m[ \u001b[22m\u001b[39m\u001b[33m\u001b[1mWarning: \u001b[22m\u001b[39mTODO: check beta consistency, config <-> g0man, chi_dir <-> gamma dir\n",
      "\u001b[36m\u001b[1m[ \u001b[22m\u001b[39m\u001b[36m\u001b[1mInfo: \u001b[22m\u001b[39msetting usable ranges of sp and ch channel from 13:29 and 13:29 to the same range of 13:29\n",
      "\u001b[36m\u001b[1m┌ \u001b[22m\u001b[39m\u001b[36m\u001b[1mInfo: \u001b[22m\u001b[39mInputs Read. Starting Computation.\n",
      "\u001b[36m\u001b[1m│ \u001b[22m\u001b[39mLocal susceptibilities with ranges are:\n",
      "\u001b[36m\u001b[1m│ \u001b[22m\u001b[39mχLoc_sp(13:29) = 0.1878, χLoc_ch(13:29) = 0.1175 \n",
      "\u001b[36m\u001b[1m└ \u001b[22m\u001b[39msum χupup check (fit, tail sub, tail sub + fit, expected): 0.1526666253073471 ?≈? 0.15266662530734712 ?=? 0.15266662530734712 ?≈? 0.25\"\n",
      "\u001b[36m\u001b[1m[ \u001b[22m\u001b[39m\u001b[36m\u001b[1mInfo: \u001b[22m\u001b[39mReading Inputs...\n",
      "\u001b[33m\u001b[1m[ \u001b[22m\u001b[39m\u001b[33m\u001b[1mWarning: \u001b[22m\u001b[39mTODO: check beta consistency, config <-> g0man, chi_dir <-> gamma dir\n",
      "\u001b[36m\u001b[1m[ \u001b[22m\u001b[39m\u001b[36m\u001b[1mInfo: \u001b[22m\u001b[39msetting usable ranges of sp and ch channel from 16:26 and 16:26 to the same range of 16:26\n",
      "\u001b[36m\u001b[1m┌ \u001b[22m\u001b[39m\u001b[36m\u001b[1mInfo: \u001b[22m\u001b[39mInputs Read. Starting Computation.\n",
      "\u001b[36m\u001b[1m│ \u001b[22m\u001b[39mLocal susceptibilities with ranges are:\n",
      "\u001b[36m\u001b[1m│ \u001b[22m\u001b[39mχLoc_sp(16:26) = 0.2696, χLoc_ch(16:26) = 0.0932 \n",
      "\u001b[36m\u001b[1m└ \u001b[22m\u001b[39msum χupup check (fit, tail sub, tail sub + fit, expected): 0.1813620894231569 ?≈? 0.1813620894231569 ?=? 0.1813620894231569 ?≈? 0.25\"\n"
     ]
    }
   ],
   "source": [
    "cfg_file = \"/home/julian/Hamburg/lDGA_shift_tests/data/20_20_s0_b12_u1.0/config_j.toml\";\n",
    "cfg_file2 = \"/home/julian/Hamburg/lDGA_shift_tests/data/20_20_s1_b12_u1.0/config_j.toml\";\n",
    "\n",
    "mP, sP, env, kGrids, qGridLoc, freqList = readConfig(cfg_file)\n",
    "kG = kGrids[1]\n",
    "νGrid, sumHelper_f, impQ_sp, impQ_ch, GImp_fft, GLoc_fft, Σ_loc, FUpDo, gImp, gLoc = setup_LDGA(kG, freqList, mP, sP, env);\n",
    "\n",
    "mP2, sP2, env2, kGrids2, qGridLoc2, freqList2 = readConfig(cfg_file2)\n",
    "kG2 = kGrids2[1]\n",
    "νGrid2, sumHelper_f2, impQ_sp2, impQ_ch2, GImp_fft2, GLoc_fft2, Σ_loc2, FUpDo2, gImp2, gLoc2 = setup_LDGA(kG2, freqList2, mP2, sP2, env2);"
   ]
  },
  {
   "cell_type": "code",
   "execution_count": 3,
   "metadata": {},
   "outputs": [
    {
     "name": "stdout",
     "output_type": "stream",
     "text": [
      "\u001b[36m\u001b[1m┌ \u001b[22m\u001b[39m\u001b[36m\u001b[1mInfo: \u001b[22m\u001b[39mComputing λsp corrected χsp, using \n",
      "\u001b[36m\u001b[1m│ \u001b[22m\u001b[39m  sP.χFillType = lambda_χ_fill::ChiFillType = 1\n",
      "\u001b[36m\u001b[1m└ \u001b[22m\u001b[39m   as fill value outside usable ω range. = \" as fill value outside usable ω range.\"\n",
      "\u001b[33m\u001b[1m[ \u001b[22m\u001b[39m\u001b[33m\u001b[1mWarning: \u001b[22m\u001b[39mcurrently using min(usable_sp, usable_ch) = min(14:28,14:28) = 14:28 for all calculations. relax this?\n",
      "\u001b[36m\u001b[1m┌ \u001b[22m\u001b[39m\u001b[36m\u001b[1mInfo: \u001b[22m\u001b[39mFound usable intervals for non-local susceptibility of length \n",
      "\u001b[36m\u001b[1m│ \u001b[22m\u001b[39msp: 14:28, length: 15\n",
      "\u001b[36m\u001b[1m│ \u001b[22m\u001b[39mch: 14:28, length: 15\n",
      "\u001b[36m\u001b[1m│ \u001b[22m\u001b[39musable: 14:28, length: 15\n",
      "\u001b[36m\u001b[1m└ \u001b[22m\u001b[39mχch sum = 0.1129179164891966, rhs = 0.1924153341254976\n",
      "\u001b[36m\u001b[1m┌ \u001b[22m\u001b[39m\u001b[36m\u001b[1mInfo: \u001b[22m\u001b[39mfound \n",
      "\u001b[36m\u001b[1m│ \u001b[22m\u001b[39m  χ_min = -0.24463037517440542\n",
      "\u001b[36m\u001b[1m└ \u001b[22m\u001b[39m  \". Looking for roots in intervall $(int)\" = \". Looking for roots in intervall [-0.24463037517440542, 4.892607503488108]\"\n",
      "\u001b[36m\u001b[1m┌ \u001b[22m\u001b[39m\u001b[36m\u001b[1mInfo: \u001b[22m\u001b[39mFound λsp \n",
      "\u001b[36m\u001b[1m└ \u001b[22m\u001b[39m  λsp = 0.38061071388605944\n",
      "\u001b[36m\u001b[1m[ \u001b[22m\u001b[39m\u001b[36m\u001b[1mInfo: \u001b[22m\u001b[39mnew lambda correction: λsp=0.0 and λch=0.0\n"
     ]
    }
   ],
   "source": [
    "# \"local\" correction quantities\n",
    "bubbleLoc = calc_bubble(νGrid, GImp_fft, qGridLoc, mP, sP);\n",
    "locQ_sp = calc_χ_trilex(impQ_sp.Γ, bubbleLoc, qGridLoc, νGrid, sumHelper_f, mP.U, mP, sP);\n",
    "locQ_ch = calc_χ_trilex(impQ_ch.Γ, bubbleLoc, qGridLoc, νGrid, sumHelper_f, -mP.U, mP, sP);\n",
    "Σ_ladderLoc = calc_Σ(locQ_sp, locQ_ch, bubbleLoc, GImp_fft, FUpDo,\n",
    "                     qGridLoc, sumHelper_f, mP, sP)\n",
    "Σ_ladderLoc = Σ_ladderLoc .+ mP.n * mP.U/2.0;\n",
    "\n",
    "# ladder quantities\n",
    "bubble = calc_bubble(νGrid, GLoc_fft, kG, mP, sP);\n",
    "nlQ_sp = calc_χ_trilex(impQ_sp.Γ, bubble, kG, νGrid, sumHelper_f, mP.U, mP, sP);\n",
    "nlQ_ch = calc_χ_trilex(impQ_ch.Γ, bubble, kG, νGrid, sumHelper_f, -mP.U, mP, sP);\n",
    "nlQ_sp_nλ = deepcopy(nlQ_sp)\n",
    "nlQ_ch_nλ = deepcopy(nlQ_ch)\n",
    "\n",
    "λ_sp, λ_spch  = λ_correction!(impQ_sp, impQ_ch, FUpDo, Σ_loc, Σ_ladderLoc, nlQ_sp, nlQ_ch, bubble, GLoc_fft, kG, mP, sP)\n",
    "\n",
    "Σ_ladder = calc_Σ(nlQ_sp, nlQ_ch, bubble, GLoc_fft, FUpDo, kG, sumHelper_f, mP, sP)\n",
    "Σ_ladder_corrected = Σ_ladder .- Σ_ladderLoc .+ Σ_loc[1:size(Σ_ladder,1)];"
   ]
  },
  {
   "cell_type": "code",
   "execution_count": 4,
   "metadata": {},
   "outputs": [
    {
     "name": "stdout",
     "output_type": "stream",
     "text": [
      "\u001b[36m\u001b[1m┌ \u001b[22m\u001b[39m\u001b[36m\u001b[1mInfo: \u001b[22m\u001b[39mComputing λsp corrected χsp, using \n",
      "\u001b[36m\u001b[1m│ \u001b[22m\u001b[39m  sP.χFillType = lambda_χ_fill::ChiFillType = 1\n",
      "\u001b[36m\u001b[1m└ \u001b[22m\u001b[39m   as fill value outside usable ω range. = \" as fill value outside usable ω range.\"\n",
      "\u001b[33m\u001b[1m[ \u001b[22m\u001b[39m\u001b[33m\u001b[1mWarning: \u001b[22m\u001b[39mcurrently using min(usable_sp, usable_ch) = min(14:28,14:28) = 14:28 for all calculations. relax this?\n",
      "\u001b[36m\u001b[1m┌ \u001b[22m\u001b[39m\u001b[36m\u001b[1mInfo: \u001b[22m\u001b[39mFound usable intervals for non-local susceptibility of length \n",
      "\u001b[36m\u001b[1m│ \u001b[22m\u001b[39msp: 14:28, length: 15\n",
      "\u001b[36m\u001b[1m│ \u001b[22m\u001b[39mch: 14:28, length: 15\n",
      "\u001b[36m\u001b[1m│ \u001b[22m\u001b[39musable: 14:28, length: 15\n",
      "\u001b[36m\u001b[1m└ \u001b[22m\u001b[39mχch sum = 0.10358334302580711, rhs = 0.2591408358205067\n",
      "\u001b[36m\u001b[1m┌ \u001b[22m\u001b[39m\u001b[36m\u001b[1mInfo: \u001b[22m\u001b[39mfound \n",
      "\u001b[36m\u001b[1m│ \u001b[22m\u001b[39m  χ_min = -0.36454074695890964\n",
      "\u001b[36m\u001b[1m└ \u001b[22m\u001b[39m  \". Looking for roots in intervall $(int)\" = \". Looking for roots in intervall [-0.36454074695890964, 6.302125919707757]\"\n",
      "\u001b[36m\u001b[1m┌ \u001b[22m\u001b[39m\u001b[36m\u001b[1mInfo: \u001b[22m\u001b[39mFound λsp \n",
      "\u001b[36m\u001b[1m└ \u001b[22m\u001b[39m  λsp = -0.1469610916070909\n",
      "\u001b[36m\u001b[1m[ \u001b[22m\u001b[39m\u001b[36m\u001b[1mInfo: \u001b[22m\u001b[39mnew lambda correction: λsp=0.0 and λch=0.0\n"
     ]
    }
   ],
   "source": [
    "# \"local\" correction quantities\n",
    "bubbleLoc2 = calc_bubble(νGrid2, GImp_fft2, qGridLoc2, mP2, sP2);\n",
    "locQ_sp2 = calc_χ_trilex(impQ_sp2.Γ, bubbleLoc2, qGridLoc2, νGrid2, sumHelper_f2, mP2.U, mP2, sP2);\n",
    "locQ_ch2 = calc_χ_trilex(impQ_ch2.Γ, bubbleLoc2, qGridLoc2, νGrid2, sumHelper_f2, -mP2.U, mP2, sP2);\n",
    "Σ_ladderLoc2 = calc_Σ(locQ_sp2, locQ_ch2, bubbleLoc2, GImp_fft2, FUpDo2,\n",
    "                     qGridLoc2, sumHelper_f2, mP2, sP2)\n",
    "Σ_ladderLoc2 = Σ_ladderLoc2 .+ mP2.n * mP2.U/2.0;\n",
    "\n",
    "# ladder quantities\n",
    "bubble2 = calc_bubble(νGrid2, GLoc_fft2, kG2, mP2, sP2);\n",
    "nlQ_sp2 = calc_χ_trilex(impQ_sp2.Γ, bubble2, kG2, νGrid2, sumHelper_f2, mP2.U, mP2, sP2);\n",
    "nlQ_ch2 = calc_χ_trilex(impQ_ch2.Γ, bubble2, kG2, νGrid2, sumHelper_f2, -mP2.U, mP2, sP2);\n",
    "nlQ_sp_nλ2 = deepcopy(nlQ_sp2)\n",
    "nlQ_ch_nλ2 = deepcopy(nlQ_ch2)\n",
    "\n",
    "λ_sp2, λ_spch2  = λ_correction!(impQ_sp2, impQ_ch2, FUpDo2, Σ_loc2, Σ_ladderLoc2, nlQ_sp2, nlQ_ch2, bubble2, GLoc_fft2, kG2, mP2, sP2)\n",
    "\n",
    "Σ_ladder2 = calc_Σ(nlQ_sp2, nlQ_ch2, bubble2, GLoc_fft2, FUpDo2, kG2, sumHelper_f2, mP2, sP2)\n",
    "Σ_ladder_corrected2 = Σ_ladder2 .- Σ_ladderLoc2 .+ Σ_loc2[1:size(Σ_ladder2,1)];"
   ]
  },
  {
   "cell_type": "code",
   "execution_count": null,
   "metadata": {},
   "outputs": [],
   "source": []
  },
  {
   "cell_type": "code",
   "execution_count": 4,
   "metadata": {},
   "outputs": [
    {
     "data": {
      "text/plain": [
       "(-0.7618733847649715, 0.2035812924974587)"
      ]
     },
     "execution_count": 4,
     "metadata": {},
     "output_type": "execute_result"
    }
   ],
   "source": [
    "iνₙ = LadderDGA.iν_array(mP.β, 0:(sP.n_iν-1))\n",
    "iνₙ, GImp    = LadderDGA.readGImp(env.inputDir * \"/gm_wim\", only_positive=true)\n",
    "ϵₖ, Vₖ, μ    = LadderDGA.read_anderson_parameters(env.inputDir * \"/hubb.andpar\");\n",
    "E_kin_ED, E_pot_ED  = LadderDGA.calc_E_ED(iνₙ[1:20], ϵₖ, Vₖ, GImp[1:20], mP)\n",
    "E_kin_ED_large, E_pot_ED_large  = LadderDGA.calc_E_ED(iνₙ[1:5000], ϵₖ, Vₖ, GImp[1:5000], mP)"
   ]
  },
  {
   "cell_type": "code",
   "execution_count": 5,
   "metadata": {},
   "outputs": [],
   "source": [
    "ep_loc, ek_loc = LadderDGA.calc_E(Σ_loc[1:sP.n_iν], kG, mP, sP);"
   ]
  },
  {
   "cell_type": "code",
   "execution_count": 11,
   "metadata": {},
   "outputs": [],
   "source": [
    "usable_ω = intersect(impQ_sp.usable_ω, impQ_ch.usable_ω);"
   ]
  },
  {
   "cell_type": "code",
   "execution_count": 12,
   "metadata": {},
   "outputs": [
    {
     "data": {
      "image/svg+xml": [
       "<?xml version=\"1.0\" encoding=\"utf-8\"?>\n",
       "<svg xmlns=\"http://www.w3.org/2000/svg\" xmlns:xlink=\"http://www.w3.org/1999/xlink\" width=\"600\" height=\"400\" viewBox=\"0 0 2400 1600\">\n",
       "<defs>\n",
       "  <clipPath id=\"clip550\">\n",
       "    <rect x=\"0\" y=\"0\" width=\"2400\" height=\"1600\"/>\n",
       "  </clipPath>\n",
       "</defs>\n",
       "<path clip-path=\"url(#clip550)\" d=\"\n",
       "M0 1600 L2400 1600 L2400 0 L0 0  Z\n",
       "  \" fill=\"#ffffff\" fill-rule=\"evenodd\" fill-opacity=\"1\"/>\n",
       "<defs>\n",
       "  <clipPath id=\"clip551\">\n",
       "    <rect x=\"480\" y=\"0\" width=\"1681\" height=\"1600\"/>\n",
       "  </clipPath>\n",
       "</defs>\n",
       "<path clip-path=\"url(#clip550)\" d=\"\n",
       "M193.936 1486.45 L2352.76 1486.45 L2352.76 47.2441 L193.936 47.2441  Z\n",
       "  \" fill=\"#ffffff\" fill-rule=\"evenodd\" fill-opacity=\"1\"/>\n",
       "<defs>\n",
       "  <clipPath id=\"clip552\">\n",
       "    <rect x=\"193\" y=\"47\" width=\"2160\" height=\"1440\"/>\n",
       "  </clipPath>\n",
       "</defs>\n",
       "<polyline clip-path=\"url(#clip552)\" style=\"stroke:#000000; stroke-linecap:butt; stroke-linejoin:round; stroke-width:2; stroke-opacity:0.1; fill:none\" points=\"\n",
       "  509.612,1486.45 509.612,47.2441 \n",
       "  \"/>\n",
       "<polyline clip-path=\"url(#clip552)\" style=\"stroke:#000000; stroke-linecap:butt; stroke-linejoin:round; stroke-width:2; stroke-opacity:0.1; fill:none\" points=\"\n",
       "  891.479,1486.45 891.479,47.2441 \n",
       "  \"/>\n",
       "<polyline clip-path=\"url(#clip552)\" style=\"stroke:#000000; stroke-linecap:butt; stroke-linejoin:round; stroke-width:2; stroke-opacity:0.1; fill:none\" points=\"\n",
       "  1273.35,1486.45 1273.35,47.2441 \n",
       "  \"/>\n",
       "<polyline clip-path=\"url(#clip552)\" style=\"stroke:#000000; stroke-linecap:butt; stroke-linejoin:round; stroke-width:2; stroke-opacity:0.1; fill:none\" points=\"\n",
       "  1655.21,1486.45 1655.21,47.2441 \n",
       "  \"/>\n",
       "<polyline clip-path=\"url(#clip552)\" style=\"stroke:#000000; stroke-linecap:butt; stroke-linejoin:round; stroke-width:2; stroke-opacity:0.1; fill:none\" points=\"\n",
       "  2037.08,1486.45 2037.08,47.2441 \n",
       "  \"/>\n",
       "<polyline clip-path=\"url(#clip550)\" style=\"stroke:#000000; stroke-linecap:butt; stroke-linejoin:round; stroke-width:4; stroke-opacity:1; fill:none\" points=\"\n",
       "  193.936,1486.45 2352.76,1486.45 \n",
       "  \"/>\n",
       "<polyline clip-path=\"url(#clip550)\" style=\"stroke:#000000; stroke-linecap:butt; stroke-linejoin:round; stroke-width:4; stroke-opacity:1; fill:none\" points=\"\n",
       "  509.612,1486.45 509.612,1469.18 \n",
       "  \"/>\n",
       "<polyline clip-path=\"url(#clip550)\" style=\"stroke:#000000; stroke-linecap:butt; stroke-linejoin:round; stroke-width:4; stroke-opacity:1; fill:none\" points=\"\n",
       "  891.479,1486.45 891.479,1469.18 \n",
       "  \"/>\n",
       "<polyline clip-path=\"url(#clip550)\" style=\"stroke:#000000; stroke-linecap:butt; stroke-linejoin:round; stroke-width:4; stroke-opacity:1; fill:none\" points=\"\n",
       "  1273.35,1486.45 1273.35,1469.18 \n",
       "  \"/>\n",
       "<polyline clip-path=\"url(#clip550)\" style=\"stroke:#000000; stroke-linecap:butt; stroke-linejoin:round; stroke-width:4; stroke-opacity:1; fill:none\" points=\"\n",
       "  1655.21,1486.45 1655.21,1469.18 \n",
       "  \"/>\n",
       "<polyline clip-path=\"url(#clip550)\" style=\"stroke:#000000; stroke-linecap:butt; stroke-linejoin:round; stroke-width:4; stroke-opacity:1; fill:none\" points=\"\n",
       "  2037.08,1486.45 2037.08,1469.18 \n",
       "  \"/>\n",
       "<path clip-path=\"url(#clip550)\" d=\"M513.86 1528.49 Q517.217 1529.2 519.092 1531.47 Q520.99 1533.74 520.99 1537.07 Q520.99 1542.19 517.471 1544.99 Q513.953 1547.79 507.471 1547.79 Q505.295 1547.79 502.981 1547.35 Q500.689 1546.93 498.235 1546.08 L498.235 1541.56 Q500.18 1542.7 502.494 1543.28 Q504.809 1543.86 507.332 1543.86 Q511.731 1543.86 514.022 1542.12 Q516.337 1540.38 516.337 1537.07 Q516.337 1534.02 514.184 1532.31 Q512.055 1530.57 508.235 1530.57 L504.207 1530.57 L504.207 1526.73 L508.42 1526.73 Q511.869 1526.73 513.698 1525.36 Q515.527 1523.97 515.527 1521.38 Q515.527 1518.72 513.629 1517.31 Q511.754 1515.87 508.235 1515.87 Q506.314 1515.87 504.115 1516.29 Q501.916 1516.7 499.277 1517.58 L499.277 1513.42 Q501.939 1512.68 504.254 1512.31 Q506.592 1511.93 508.652 1511.93 Q513.976 1511.93 517.078 1514.37 Q520.18 1516.77 520.18 1520.89 Q520.18 1523.76 518.536 1525.75 Q516.893 1527.72 513.86 1528.49 Z\" fill=\"#000000\" fill-rule=\"evenodd\" fill-opacity=\"1\" /><path clip-path=\"url(#clip550)\" d=\"M891.884 1527.98 Q888.736 1527.98 886.884 1530.13 Q885.056 1532.28 885.056 1536.03 Q885.056 1539.76 886.884 1541.93 Q888.736 1544.09 891.884 1544.09 Q895.032 1544.09 896.861 1541.93 Q898.713 1539.76 898.713 1536.03 Q898.713 1532.28 896.861 1530.13 Q895.032 1527.98 891.884 1527.98 M901.167 1513.32 L901.167 1517.58 Q899.407 1516.75 897.602 1516.31 Q895.819 1515.87 894.06 1515.87 Q889.431 1515.87 886.977 1519 Q884.546 1522.12 884.199 1528.44 Q885.565 1526.43 887.625 1525.36 Q889.685 1524.27 892.162 1524.27 Q897.37 1524.27 900.38 1527.44 Q903.412 1530.59 903.412 1536.03 Q903.412 1541.36 900.264 1544.57 Q897.116 1547.79 891.884 1547.79 Q885.889 1547.79 882.718 1543.21 Q879.546 1538.6 879.546 1529.87 Q879.546 1521.68 883.435 1516.82 Q887.324 1511.93 893.875 1511.93 Q895.634 1511.93 897.417 1512.28 Q899.222 1512.63 901.167 1513.32 Z\" fill=\"#000000\" fill-rule=\"evenodd\" fill-opacity=\"1\" /><path clip-path=\"url(#clip550)\" d=\"M1263.65 1546.4 L1263.65 1542.14 Q1265.41 1542.98 1267.21 1543.42 Q1269.02 1543.86 1270.75 1543.86 Q1275.38 1543.86 1277.81 1540.75 Q1280.27 1537.63 1280.61 1531.29 Q1279.27 1533.28 1277.21 1534.34 Q1275.15 1535.41 1272.65 1535.41 Q1267.47 1535.41 1264.43 1532.28 Q1261.42 1529.13 1261.42 1523.69 Q1261.42 1518.37 1264.57 1515.15 Q1267.72 1511.93 1272.95 1511.93 Q1278.95 1511.93 1282.1 1516.54 Q1285.27 1521.12 1285.27 1529.87 Q1285.27 1538.05 1281.38 1542.93 Q1277.51 1547.79 1270.96 1547.79 Q1269.2 1547.79 1267.4 1547.44 Q1265.59 1547.1 1263.65 1546.4 M1272.95 1531.75 Q1276.1 1531.75 1277.93 1529.6 Q1279.78 1527.44 1279.78 1523.69 Q1279.78 1519.97 1277.93 1517.81 Q1276.1 1515.64 1272.95 1515.64 Q1269.8 1515.64 1267.95 1517.81 Q1266.12 1519.97 1266.12 1523.69 Q1266.12 1527.44 1267.95 1529.6 Q1269.8 1531.75 1272.95 1531.75 Z\" fill=\"#000000\" fill-rule=\"evenodd\" fill-opacity=\"1\" /><path clip-path=\"url(#clip550)\" d=\"M1630.7 1543.18 L1638.34 1543.18 L1638.34 1516.82 L1630.03 1518.49 L1630.03 1514.23 L1638.29 1512.56 L1642.97 1512.56 L1642.97 1543.18 L1650.61 1543.18 L1650.61 1547.12 L1630.7 1547.12 L1630.7 1543.18 Z\" fill=\"#000000\" fill-rule=\"evenodd\" fill-opacity=\"1\" /><path clip-path=\"url(#clip550)\" d=\"M1664.08 1543.18 L1680.4 1543.18 L1680.4 1547.12 L1658.45 1547.12 L1658.45 1543.18 Q1661.12 1540.43 1665.7 1535.8 Q1670.31 1531.15 1671.49 1529.81 Q1673.73 1527.28 1674.61 1525.55 Q1675.51 1523.79 1675.51 1522.1 Q1675.51 1519.34 1673.57 1517.61 Q1671.65 1515.87 1668.55 1515.87 Q1666.35 1515.87 1663.89 1516.63 Q1661.46 1517.4 1658.68 1518.95 L1658.68 1514.23 Q1661.51 1513.09 1663.96 1512.51 Q1666.42 1511.93 1668.45 1511.93 Q1673.82 1511.93 1677.02 1514.62 Q1680.21 1517.31 1680.21 1521.8 Q1680.21 1523.93 1679.4 1525.85 Q1678.62 1527.74 1676.51 1530.34 Q1675.93 1531.01 1672.83 1534.23 Q1669.73 1537.42 1664.08 1543.18 Z\" fill=\"#000000\" fill-rule=\"evenodd\" fill-opacity=\"1\" /><path clip-path=\"url(#clip550)\" d=\"M2012.26 1543.18 L2019.9 1543.18 L2019.9 1516.82 L2011.59 1518.49 L2011.59 1514.23 L2019.86 1512.56 L2024.53 1512.56 L2024.53 1543.18 L2032.17 1543.18 L2032.17 1547.12 L2012.26 1547.12 L2012.26 1543.18 Z\" fill=\"#000000\" fill-rule=\"evenodd\" fill-opacity=\"1\" /><path clip-path=\"url(#clip550)\" d=\"M2041.66 1512.56 L2060.02 1512.56 L2060.02 1516.5 L2045.95 1516.5 L2045.95 1524.97 Q2046.96 1524.62 2047.98 1524.46 Q2049 1524.27 2050.02 1524.27 Q2055.81 1524.27 2059.19 1527.44 Q2062.57 1530.62 2062.57 1536.03 Q2062.57 1541.61 2059.09 1544.71 Q2055.62 1547.79 2049.3 1547.79 Q2047.13 1547.79 2044.86 1547.42 Q2042.61 1547.05 2040.2 1546.31 L2040.2 1541.61 Q2042.29 1542.74 2044.51 1543.3 Q2046.73 1543.86 2049.21 1543.86 Q2053.21 1543.86 2055.55 1541.75 Q2057.89 1539.64 2057.89 1536.03 Q2057.89 1532.42 2055.55 1530.31 Q2053.21 1528.21 2049.21 1528.21 Q2047.33 1528.21 2045.46 1528.62 Q2043.61 1529.04 2041.66 1529.92 L2041.66 1512.56 Z\" fill=\"#000000\" fill-rule=\"evenodd\" fill-opacity=\"1\" /><polyline clip-path=\"url(#clip552)\" style=\"stroke:#000000; stroke-linecap:butt; stroke-linejoin:round; stroke-width:2; stroke-opacity:0.1; fill:none\" points=\"\n",
       "  193.936,1411.3 2352.76,1411.3 \n",
       "  \"/>\n",
       "<polyline clip-path=\"url(#clip552)\" style=\"stroke:#000000; stroke-linecap:butt; stroke-linejoin:round; stroke-width:2; stroke-opacity:0.1; fill:none\" points=\"\n",
       "  193.936,1201.77 2352.76,1201.77 \n",
       "  \"/>\n",
       "<polyline clip-path=\"url(#clip552)\" style=\"stroke:#000000; stroke-linecap:butt; stroke-linejoin:round; stroke-width:2; stroke-opacity:0.1; fill:none\" points=\"\n",
       "  193.936,992.249 2352.76,992.249 \n",
       "  \"/>\n",
       "<polyline clip-path=\"url(#clip552)\" style=\"stroke:#000000; stroke-linecap:butt; stroke-linejoin:round; stroke-width:2; stroke-opacity:0.1; fill:none\" points=\"\n",
       "  193.936,782.725 2352.76,782.725 \n",
       "  \"/>\n",
       "<polyline clip-path=\"url(#clip552)\" style=\"stroke:#000000; stroke-linecap:butt; stroke-linejoin:round; stroke-width:2; stroke-opacity:0.1; fill:none\" points=\"\n",
       "  193.936,573.202 2352.76,573.202 \n",
       "  \"/>\n",
       "<polyline clip-path=\"url(#clip552)\" style=\"stroke:#000000; stroke-linecap:butt; stroke-linejoin:round; stroke-width:2; stroke-opacity:0.1; fill:none\" points=\"\n",
       "  193.936,363.678 2352.76,363.678 \n",
       "  \"/>\n",
       "<polyline clip-path=\"url(#clip552)\" style=\"stroke:#000000; stroke-linecap:butt; stroke-linejoin:round; stroke-width:2; stroke-opacity:0.1; fill:none\" points=\"\n",
       "  193.936,154.155 2352.76,154.155 \n",
       "  \"/>\n",
       "<polyline clip-path=\"url(#clip550)\" style=\"stroke:#000000; stroke-linecap:butt; stroke-linejoin:round; stroke-width:4; stroke-opacity:1; fill:none\" points=\"\n",
       "  193.936,1486.45 193.936,47.2441 \n",
       "  \"/>\n",
       "<polyline clip-path=\"url(#clip550)\" style=\"stroke:#000000; stroke-linecap:butt; stroke-linejoin:round; stroke-width:4; stroke-opacity:1; fill:none\" points=\"\n",
       "  193.936,1411.3 219.842,1411.3 \n",
       "  \"/>\n",
       "<polyline clip-path=\"url(#clip550)\" style=\"stroke:#000000; stroke-linecap:butt; stroke-linejoin:round; stroke-width:4; stroke-opacity:1; fill:none\" points=\"\n",
       "  193.936,1201.77 219.842,1201.77 \n",
       "  \"/>\n",
       "<polyline clip-path=\"url(#clip550)\" style=\"stroke:#000000; stroke-linecap:butt; stroke-linejoin:round; stroke-width:4; stroke-opacity:1; fill:none\" points=\"\n",
       "  193.936,992.249 219.842,992.249 \n",
       "  \"/>\n",
       "<polyline clip-path=\"url(#clip550)\" style=\"stroke:#000000; stroke-linecap:butt; stroke-linejoin:round; stroke-width:4; stroke-opacity:1; fill:none\" points=\"\n",
       "  193.936,782.725 219.842,782.725 \n",
       "  \"/>\n",
       "<polyline clip-path=\"url(#clip550)\" style=\"stroke:#000000; stroke-linecap:butt; stroke-linejoin:round; stroke-width:4; stroke-opacity:1; fill:none\" points=\"\n",
       "  193.936,573.202 219.842,573.202 \n",
       "  \"/>\n",
       "<polyline clip-path=\"url(#clip550)\" style=\"stroke:#000000; stroke-linecap:butt; stroke-linejoin:round; stroke-width:4; stroke-opacity:1; fill:none\" points=\"\n",
       "  193.936,363.678 219.842,363.678 \n",
       "  \"/>\n",
       "<polyline clip-path=\"url(#clip550)\" style=\"stroke:#000000; stroke-linecap:butt; stroke-linejoin:round; stroke-width:4; stroke-opacity:1; fill:none\" points=\"\n",
       "  193.936,154.155 219.842,154.155 \n",
       "  \"/>\n",
       "<path clip-path=\"url(#clip550)\" d=\"M51.9875 1411.75 L81.6633 1411.75 L81.6633 1415.68 L51.9875 1415.68 L51.9875 1411.75 Z\" fill=\"#000000\" fill-rule=\"evenodd\" fill-opacity=\"1\" /><path clip-path=\"url(#clip550)\" d=\"M95.7836 1424.64 L112.103 1424.64 L112.103 1428.58 L90.1586 1428.58 L90.1586 1424.64 Q92.8206 1421.89 97.4039 1417.26 Q102.01 1412.6 103.191 1411.26 Q105.436 1408.74 106.316 1407 Q107.219 1405.24 107.219 1403.55 Q107.219 1400.8 105.274 1399.06 Q103.353 1397.33 100.251 1397.33 Q98.0521 1397.33 95.5984 1398.09 Q93.1678 1398.85 90.3901 1400.4 L90.3901 1395.68 Q93.2141 1394.55 95.6678 1393.97 Q98.1215 1393.39 100.159 1393.39 Q105.529 1393.39 108.723 1396.08 Q111.918 1398.76 111.918 1403.25 Q111.918 1405.38 111.108 1407.3 Q110.321 1409.2 108.214 1411.79 Q107.635 1412.46 104.534 1415.68 Q101.432 1418.88 95.7836 1424.64 Z\" fill=\"#000000\" fill-rule=\"evenodd\" fill-opacity=\"1\" /><path clip-path=\"url(#clip550)\" d=\"M121.918 1422.7 L126.802 1422.7 L126.802 1428.58 L121.918 1428.58 L121.918 1422.7 Z\" fill=\"#000000\" fill-rule=\"evenodd\" fill-opacity=\"1\" /><path clip-path=\"url(#clip550)\" d=\"M137.033 1394.02 L155.39 1394.02 L155.39 1397.95 L141.316 1397.95 L141.316 1406.42 Q142.334 1406.08 143.353 1405.91 Q144.371 1405.73 145.39 1405.73 Q151.177 1405.73 154.556 1408.9 Q157.936 1412.07 157.936 1417.49 Q157.936 1423.07 154.464 1426.17 Q150.992 1429.25 144.672 1429.25 Q142.496 1429.25 140.228 1428.88 Q137.982 1428.51 135.575 1427.77 L135.575 1423.07 Q137.658 1424.2 139.881 1424.76 Q142.103 1425.31 144.58 1425.31 Q148.584 1425.31 150.922 1423.21 Q153.26 1421.1 153.26 1417.49 Q153.26 1413.88 150.922 1411.77 Q148.584 1409.66 144.58 1409.66 Q142.705 1409.66 140.83 1410.08 Q138.978 1410.5 137.033 1411.38 L137.033 1394.02 Z\" fill=\"#000000\" fill-rule=\"evenodd\" fill-opacity=\"1\" /><path clip-path=\"url(#clip550)\" d=\"M50.9921 1202.22 L80.6679 1202.22 L80.6679 1206.16 L50.9921 1206.16 L50.9921 1202.22 Z\" fill=\"#000000\" fill-rule=\"evenodd\" fill-opacity=\"1\" /><path clip-path=\"url(#clip550)\" d=\"M94.7882 1215.12 L111.108 1215.12 L111.108 1219.05 L89.1632 1219.05 L89.1632 1215.12 Q91.8252 1212.36 96.4085 1207.73 Q101.015 1203.08 102.196 1201.74 Q104.441 1199.21 105.321 1197.48 Q106.223 1195.72 106.223 1194.03 Q106.223 1191.27 104.279 1189.54 Q102.358 1187.8 99.2558 1187.8 Q97.0567 1187.8 94.603 1188.57 Q92.1725 1189.33 89.3947 1190.88 L89.3947 1186.16 Q92.2188 1185.02 94.6724 1184.45 Q97.1261 1183.87 99.1632 1183.87 Q104.534 1183.87 107.728 1186.55 Q110.922 1189.24 110.922 1193.73 Q110.922 1195.86 110.112 1197.78 Q109.325 1199.68 107.219 1202.27 Q106.64 1202.94 103.538 1206.16 Q100.436 1209.35 94.7882 1215.12 Z\" fill=\"#000000\" fill-rule=\"evenodd\" fill-opacity=\"1\" /><path clip-path=\"url(#clip550)\" d=\"M120.922 1213.17 L125.807 1213.17 L125.807 1219.05 L120.922 1219.05 L120.922 1213.17 Z\" fill=\"#000000\" fill-rule=\"evenodd\" fill-opacity=\"1\" /><path clip-path=\"url(#clip550)\" d=\"M145.992 1187.57 Q142.381 1187.57 140.552 1191.14 Q138.746 1194.68 138.746 1201.81 Q138.746 1208.91 140.552 1212.48 Q142.381 1216.02 145.992 1216.02 Q149.626 1216.02 151.431 1212.48 Q153.26 1208.91 153.26 1201.81 Q153.26 1194.68 151.431 1191.14 Q149.626 1187.57 145.992 1187.57 M145.992 1183.87 Q151.802 1183.87 154.857 1188.47 Q157.936 1193.06 157.936 1201.81 Q157.936 1210.53 154.857 1215.14 Q151.802 1219.72 145.992 1219.72 Q140.181 1219.72 137.103 1215.14 Q134.047 1210.53 134.047 1201.81 Q134.047 1193.06 137.103 1188.47 Q140.181 1183.87 145.992 1183.87 Z\" fill=\"#000000\" fill-rule=\"evenodd\" fill-opacity=\"1\" /><path clip-path=\"url(#clip550)\" d=\"M51.9875 992.7 L81.6633 992.7 L81.6633 996.635 L51.9875 996.635 L51.9875 992.7 Z\" fill=\"#000000\" fill-rule=\"evenodd\" fill-opacity=\"1\" /><path clip-path=\"url(#clip550)\" d=\"M92.566 1005.59 L100.205 1005.59 L100.205 979.228 L91.8947 980.895 L91.8947 976.635 L100.159 974.969 L104.834 974.969 L104.834 1005.59 L112.473 1005.59 L112.473 1009.53 L92.566 1009.53 L92.566 1005.59 Z\" fill=\"#000000\" fill-rule=\"evenodd\" fill-opacity=\"1\" /><path clip-path=\"url(#clip550)\" d=\"M121.918 1003.65 L126.802 1003.65 L126.802 1009.53 L121.918 1009.53 L121.918 1003.65 Z\" fill=\"#000000\" fill-rule=\"evenodd\" fill-opacity=\"1\" /><path clip-path=\"url(#clip550)\" d=\"M137.033 974.969 L155.39 974.969 L155.39 978.904 L141.316 978.904 L141.316 987.376 Q142.334 987.029 143.353 986.867 Q144.371 986.682 145.39 986.682 Q151.177 986.682 154.556 989.853 Q157.936 993.024 157.936 998.441 Q157.936 1004.02 154.464 1007.12 Q150.992 1010.2 144.672 1010.2 Q142.496 1010.2 140.228 1009.83 Q137.982 1009.46 135.575 1008.72 L135.575 1004.02 Q137.658 1005.15 139.881 1005.71 Q142.103 1006.26 144.58 1006.26 Q148.584 1006.26 150.922 1004.16 Q153.26 1002.05 153.26 998.441 Q153.26 994.83 150.922 992.723 Q148.584 990.617 144.58 990.617 Q142.705 990.617 140.83 991.033 Q138.978 991.45 137.033 992.33 L137.033 974.969 Z\" fill=\"#000000\" fill-rule=\"evenodd\" fill-opacity=\"1\" /><path clip-path=\"url(#clip550)\" d=\"M50.9921 783.177 L80.6679 783.177 L80.6679 787.112 L50.9921 787.112 L50.9921 783.177 Z\" fill=\"#000000\" fill-rule=\"evenodd\" fill-opacity=\"1\" /><path clip-path=\"url(#clip550)\" d=\"M91.5706 796.07 L99.2095 796.07 L99.2095 769.704 L90.8993 771.371 L90.8993 767.112 L99.1632 765.445 L103.839 765.445 L103.839 796.07 L111.478 796.07 L111.478 800.005 L91.5706 800.005 L91.5706 796.07 Z\" fill=\"#000000\" fill-rule=\"evenodd\" fill-opacity=\"1\" /><path clip-path=\"url(#clip550)\" d=\"M120.922 794.126 L125.807 794.126 L125.807 800.005 L120.922 800.005 L120.922 794.126 Z\" fill=\"#000000\" fill-rule=\"evenodd\" fill-opacity=\"1\" /><path clip-path=\"url(#clip550)\" d=\"M145.992 768.524 Q142.381 768.524 140.552 772.089 Q138.746 775.63 138.746 782.76 Q138.746 789.866 140.552 793.431 Q142.381 796.973 145.992 796.973 Q149.626 796.973 151.431 793.431 Q153.26 789.866 153.26 782.76 Q153.26 775.63 151.431 772.089 Q149.626 768.524 145.992 768.524 M145.992 764.82 Q151.802 764.82 154.857 769.427 Q157.936 774.01 157.936 782.76 Q157.936 791.487 154.857 796.093 Q151.802 800.676 145.992 800.676 Q140.181 800.676 137.103 796.093 Q134.047 791.487 134.047 782.76 Q134.047 774.01 137.103 769.427 Q140.181 764.82 145.992 764.82 Z\" fill=\"#000000\" fill-rule=\"evenodd\" fill-opacity=\"1\" /><path clip-path=\"url(#clip550)\" d=\"M51.9875 573.653 L81.6633 573.653 L81.6633 577.588 L51.9875 577.588 L51.9875 573.653 Z\" fill=\"#000000\" fill-rule=\"evenodd\" fill-opacity=\"1\" /><path clip-path=\"url(#clip550)\" d=\"M101.756 559 Q98.1447 559 96.316 562.565 Q94.5104 566.107 94.5104 573.236 Q94.5104 580.343 96.316 583.908 Q98.1447 587.449 101.756 587.449 Q105.39 587.449 107.196 583.908 Q109.024 580.343 109.024 573.236 Q109.024 566.107 107.196 562.565 Q105.39 559 101.756 559 M101.756 555.297 Q107.566 555.297 110.621 559.903 Q113.7 564.486 113.7 573.236 Q113.7 581.963 110.621 586.57 Q107.566 591.153 101.756 591.153 Q95.9456 591.153 92.8669 586.57 Q89.8114 581.963 89.8114 573.236 Q89.8114 564.486 92.8669 559.903 Q95.9456 555.297 101.756 555.297 Z\" fill=\"#000000\" fill-rule=\"evenodd\" fill-opacity=\"1\" /><path clip-path=\"url(#clip550)\" d=\"M121.918 584.602 L126.802 584.602 L126.802 590.482 L121.918 590.482 L121.918 584.602 Z\" fill=\"#000000\" fill-rule=\"evenodd\" fill-opacity=\"1\" /><path clip-path=\"url(#clip550)\" d=\"M137.033 555.922 L155.39 555.922 L155.39 559.857 L141.316 559.857 L141.316 568.329 Q142.334 567.982 143.353 567.82 Q144.371 567.635 145.39 567.635 Q151.177 567.635 154.556 570.806 Q157.936 573.977 157.936 579.394 Q157.936 584.972 154.464 588.074 Q150.992 591.153 144.672 591.153 Q142.496 591.153 140.228 590.783 Q137.982 590.412 135.575 589.672 L135.575 584.972 Q137.658 586.107 139.881 586.662 Q142.103 587.218 144.58 587.218 Q148.584 587.218 150.922 585.111 Q153.26 583.005 153.26 579.394 Q153.26 575.783 150.922 573.676 Q148.584 571.57 144.58 571.57 Q142.705 571.57 140.83 571.986 Q138.978 572.403 137.033 573.283 L137.033 555.922 Z\" fill=\"#000000\" fill-rule=\"evenodd\" fill-opacity=\"1\" /><path clip-path=\"url(#clip550)\" d=\"M100.76 349.477 Q97.1493 349.477 95.3206 353.042 Q93.515 356.583 93.515 363.713 Q93.515 370.819 95.3206 374.384 Q97.1493 377.926 100.76 377.926 Q104.395 377.926 106.2 374.384 Q108.029 370.819 108.029 363.713 Q108.029 356.583 106.2 353.042 Q104.395 349.477 100.76 349.477 M100.76 345.773 Q106.571 345.773 109.626 350.38 Q112.705 354.963 112.705 363.713 Q112.705 372.44 109.626 377.046 Q106.571 381.63 100.76 381.63 Q94.9502 381.63 91.8715 377.046 Q88.816 372.44 88.816 363.713 Q88.816 354.963 91.8715 350.38 Q94.9502 345.773 100.76 345.773 Z\" fill=\"#000000\" fill-rule=\"evenodd\" fill-opacity=\"1\" /><path clip-path=\"url(#clip550)\" d=\"M120.922 375.079 L125.807 375.079 L125.807 380.958 L120.922 380.958 L120.922 375.079 Z\" fill=\"#000000\" fill-rule=\"evenodd\" fill-opacity=\"1\" /><path clip-path=\"url(#clip550)\" d=\"M145.992 349.477 Q142.381 349.477 140.552 353.042 Q138.746 356.583 138.746 363.713 Q138.746 370.819 140.552 374.384 Q142.381 377.926 145.992 377.926 Q149.626 377.926 151.431 374.384 Q153.26 370.819 153.26 363.713 Q153.26 356.583 151.431 353.042 Q149.626 349.477 145.992 349.477 M145.992 345.773 Q151.802 345.773 154.857 350.38 Q157.936 354.963 157.936 363.713 Q157.936 372.44 154.857 377.046 Q151.802 381.63 145.992 381.63 Q140.181 381.63 137.103 377.046 Q134.047 372.44 134.047 363.713 Q134.047 354.963 137.103 350.38 Q140.181 345.773 145.992 345.773 Z\" fill=\"#000000\" fill-rule=\"evenodd\" fill-opacity=\"1\" /><path clip-path=\"url(#clip550)\" d=\"M101.756 139.954 Q98.1447 139.954 96.316 143.518 Q94.5104 147.06 94.5104 154.19 Q94.5104 161.296 96.316 164.861 Q98.1447 168.402 101.756 168.402 Q105.39 168.402 107.196 164.861 Q109.024 161.296 109.024 154.19 Q109.024 147.06 107.196 143.518 Q105.39 139.954 101.756 139.954 M101.756 136.25 Q107.566 136.25 110.621 140.856 Q113.7 145.44 113.7 154.19 Q113.7 162.916 110.621 167.523 Q107.566 172.106 101.756 172.106 Q95.9456 172.106 92.8669 167.523 Q89.8114 162.916 89.8114 154.19 Q89.8114 145.44 92.8669 140.856 Q95.9456 136.25 101.756 136.25 Z\" fill=\"#000000\" fill-rule=\"evenodd\" fill-opacity=\"1\" /><path clip-path=\"url(#clip550)\" d=\"M121.918 165.555 L126.802 165.555 L126.802 171.435 L121.918 171.435 L121.918 165.555 Z\" fill=\"#000000\" fill-rule=\"evenodd\" fill-opacity=\"1\" /><path clip-path=\"url(#clip550)\" d=\"M137.033 136.875 L155.39 136.875 L155.39 140.81 L141.316 140.81 L141.316 149.282 Q142.334 148.935 143.353 148.773 Q144.371 148.588 145.39 148.588 Q151.177 148.588 154.556 151.759 Q157.936 154.93 157.936 160.347 Q157.936 165.926 154.464 169.027 Q150.992 172.106 144.672 172.106 Q142.496 172.106 140.228 171.736 Q137.982 171.365 135.575 170.625 L135.575 165.926 Q137.658 167.06 139.881 167.615 Q142.103 168.171 144.58 168.171 Q148.584 168.171 150.922 166.064 Q153.26 163.958 153.26 160.347 Q153.26 156.736 150.922 154.629 Q148.584 152.523 144.58 152.523 Q142.705 152.523 140.83 152.94 Q138.978 153.356 137.033 154.236 L137.033 136.875 Z\" fill=\"#000000\" fill-rule=\"evenodd\" fill-opacity=\"1\" /><polyline clip-path=\"url(#clip552)\" style=\"stroke:#009af9; stroke-linecap:butt; stroke-linejoin:round; stroke-width:4; stroke-opacity:1; fill:none\" points=\"\n",
       "  255.035,380.313 382.324,382.035 509.612,385.307 636.901,391.901 764.19,406.592 891.479,444.872 1018.77,575.184 1146.06,1387.63 1273.35,87.9763 1400.63,1387.63 \n",
       "  1527.92,575.184 1655.21,444.872 1782.5,406.592 1909.79,391.901 2037.08,385.307 2164.37,382.035 2291.66,380.313 \n",
       "  \"/>\n",
       "<polyline clip-path=\"url(#clip552)\" style=\"stroke:#e26f46; stroke-linecap:butt; stroke-linejoin:round; stroke-width:4; stroke-opacity:1; fill:none\" points=\"\n",
       "  255.035,380.368 382.324,382.231 509.612,385.919 636.901,393.527 764.19,410.572 891.479,454.344 1018.77,597.971 1146.06,1445.72 1273.35,247.619 1400.63,1445.72 \n",
       "  1527.92,597.971 1655.21,454.344 1782.5,410.572 1909.79,393.527 2037.08,385.919 2164.37,382.231 2291.66,380.368 \n",
       "  \"/>\n",
       "<polyline clip-path=\"url(#clip552)\" style=\"stroke:#3da44d; stroke-linecap:butt; stroke-linejoin:round; stroke-width:4; stroke-opacity:1; fill:none\" points=\"\n",
       "  255.035,380.34 382.324,382.133 509.612,385.613 636.901,392.714 764.19,408.582 891.479,449.608 1018.77,586.577 1146.06,1416.67 1273.35,167.798 1400.63,1416.67 \n",
       "  1527.92,586.577 1655.21,449.608 1782.5,408.582 1909.79,392.714 2037.08,385.613 2164.37,382.133 2291.66,380.34 \n",
       "  \"/>\n",
       "<path clip-path=\"url(#clip550)\" d=\"\n",
       "M1987.92 337.138 L2280.8 337.138 L2280.8 95.2176 L1987.92 95.2176  Z\n",
       "  \" fill=\"#ffffff\" fill-rule=\"evenodd\" fill-opacity=\"1\"/>\n",
       "<polyline clip-path=\"url(#clip550)\" style=\"stroke:#000000; stroke-linecap:butt; stroke-linejoin:round; stroke-width:4; stroke-opacity:1; fill:none\" points=\"\n",
       "  1987.92,337.138 2280.8,337.138 2280.8,95.2176 1987.92,95.2176 1987.92,337.138 \n",
       "  \"/>\n",
       "<polyline clip-path=\"url(#clip550)\" style=\"stroke:#009af9; stroke-linecap:butt; stroke-linejoin:round; stroke-width:4; stroke-opacity:1; fill:none\" points=\"\n",
       "  2011.9,155.698 2155.83,155.698 \n",
       "  \"/>\n",
       "<path clip-path=\"url(#clip550)\" d=\"M2193.66 175.385 Q2191.85 180.015 2190.14 181.427 Q2188.42 182.839 2185.55 182.839 L2182.15 182.839 L2182.15 179.274 L2184.65 179.274 Q2186.41 179.274 2187.38 178.44 Q2188.35 177.607 2189.53 174.505 L2190.3 172.561 L2179.81 147.052 L2184.33 147.052 L2192.43 167.329 L2200.53 147.052 L2205.04 147.052 L2193.66 175.385 Z\" fill=\"#000000\" fill-rule=\"evenodd\" fill-opacity=\"1\" /><path clip-path=\"url(#clip550)\" d=\"M2212.34 169.042 L2219.97 169.042 L2219.97 142.677 L2211.66 144.343 L2211.66 140.084 L2219.93 138.418 L2224.6 138.418 L2224.6 169.042 L2232.24 169.042 L2232.24 172.978 L2212.34 172.978 L2212.34 169.042 Z\" fill=\"#000000\" fill-rule=\"evenodd\" fill-opacity=\"1\" /><polyline clip-path=\"url(#clip550)\" style=\"stroke:#e26f46; stroke-linecap:butt; stroke-linejoin:round; stroke-width:4; stroke-opacity:1; fill:none\" points=\"\n",
       "  2011.9,216.178 2155.83,216.178 \n",
       "  \"/>\n",
       "<path clip-path=\"url(#clip550)\" d=\"M2193.66 235.865 Q2191.85 240.495 2190.14 241.907 Q2188.42 243.319 2185.55 243.319 L2182.15 243.319 L2182.15 239.754 L2184.65 239.754 Q2186.41 239.754 2187.38 238.92 Q2188.35 238.087 2189.53 234.985 L2190.3 233.041 L2179.81 207.532 L2184.33 207.532 L2192.43 227.809 L2200.53 207.532 L2205.04 207.532 L2193.66 235.865 Z\" fill=\"#000000\" fill-rule=\"evenodd\" fill-opacity=\"1\" /><path clip-path=\"url(#clip550)\" d=\"M2215.55 229.522 L2231.87 229.522 L2231.87 233.458 L2209.93 233.458 L2209.93 229.522 Q2212.59 226.768 2217.17 222.138 Q2221.78 217.485 2222.96 216.143 Q2225.21 213.62 2226.09 211.884 Q2226.99 210.124 2226.99 208.435 Q2226.99 205.68 2225.04 203.944 Q2223.12 202.208 2220.02 202.208 Q2217.82 202.208 2215.37 202.972 Q2212.94 203.735 2210.16 205.286 L2210.16 200.564 Q2212.98 199.43 2215.44 198.851 Q2217.89 198.273 2219.93 198.273 Q2225.3 198.273 2228.49 200.958 Q2231.69 203.643 2231.69 208.134 Q2231.69 210.263 2230.88 212.185 Q2230.09 214.083 2227.98 216.675 Q2227.4 217.347 2224.3 220.564 Q2221.2 223.759 2215.55 229.522 Z\" fill=\"#000000\" fill-rule=\"evenodd\" fill-opacity=\"1\" /><polyline clip-path=\"url(#clip550)\" style=\"stroke:#3da44d; stroke-linecap:butt; stroke-linejoin:round; stroke-width:4; stroke-opacity:1; fill:none\" points=\"\n",
       "  2011.9,276.658 2155.83,276.658 \n",
       "  \"/>\n",
       "<path clip-path=\"url(#clip550)\" d=\"M2193.66 296.345 Q2191.85 300.975 2190.14 302.387 Q2188.42 303.799 2185.55 303.799 L2182.15 303.799 L2182.15 300.234 L2184.65 300.234 Q2186.41 300.234 2187.38 299.4 Q2188.35 298.567 2189.53 295.465 L2190.3 293.521 L2179.81 268.012 L2184.33 268.012 L2192.43 288.289 L2200.53 268.012 L2205.04 268.012 L2193.66 296.345 Z\" fill=\"#000000\" fill-rule=\"evenodd\" fill-opacity=\"1\" /><path clip-path=\"url(#clip550)\" d=\"M2225.69 275.303 Q2229.05 276.021 2230.92 278.289 Q2232.82 280.558 2232.82 283.891 Q2232.82 289.007 2229.3 291.808 Q2225.78 294.609 2219.3 294.609 Q2217.13 294.609 2214.81 294.169 Q2212.52 293.752 2210.07 292.896 L2210.07 288.382 Q2212.01 289.516 2214.33 290.095 Q2216.64 290.674 2219.16 290.674 Q2223.56 290.674 2225.85 288.938 Q2228.17 287.201 2228.17 283.891 Q2228.17 280.836 2226.02 279.123 Q2223.89 277.387 2220.07 277.387 L2216.04 277.387 L2216.04 273.544 L2220.25 273.544 Q2223.7 273.544 2225.53 272.178 Q2227.36 270.79 2227.36 268.197 Q2227.36 265.535 2225.46 264.123 Q2223.59 262.688 2220.07 262.688 Q2218.15 262.688 2215.95 263.104 Q2213.75 263.521 2211.11 264.401 L2211.11 260.234 Q2213.77 259.493 2216.09 259.123 Q2218.42 258.753 2220.48 258.753 Q2225.81 258.753 2228.91 261.183 Q2232.01 263.59 2232.01 267.711 Q2232.01 270.581 2230.37 272.572 Q2228.72 274.54 2225.69 275.303 Z\" fill=\"#000000\" fill-rule=\"evenodd\" fill-opacity=\"1\" /></svg>\n"
      ]
     },
     "execution_count": 12,
     "metadata": {},
     "output_type": "execute_result"
    }
   ],
   "source": [
    "subtract_tail = LadderDGA.subtract_tail\n",
    "iωn = 1im .* 2 .* (-sP.n_iω:sP.n_iω)[usable_ω] .* π ./ mP.β\n",
    "plot(real(subtract_tail(impQ_sp.χ_ω[usable_ω], E_kin_ED_large,iωn)))\n",
    "plot!(real(subtract_tail(impQ_ch.χ_ω[usable_ω], E_kin_ED_large, iωn )))\n",
    "plot!(real(subtract_tail(0.5*(impQ_sp.χ_ω .+ impQ_ch.χ_ω )[usable_ω], E_kin_ED_large, iωn)))"
   ]
  },
  {
   "cell_type": "code",
   "execution_count": 13,
   "metadata": {},
   "outputs": [],
   "source": [
    "function Base.show(io::IO, m::SimulationParameters)\n",
    "    compact = get(io, :compact, false)\n",
    "    if !compact\n",
    "        println(io, \"B/F range    : $(m.n_iω)/$(m.n_iν) $(m.shift ? \"with\" : \"without\") shifted fermionic frequencies\")\n",
    "        println(io, \"   ωsum type = $(m.ωsum_type) $(m.fullChi ? \"with\" : \"without\") full χ(ω) range computation (filled as $(m.χFillType), $(m.dbg_full_eom_omega ? \"with\" : \"without\") full ω range in EoM.\")\n",
    "        println(io, \"B/F sum type : $(m.tc_type_b)/$(m.tc_type_f)\")\n",
    "        println(io, \"   $(100*m.usable_prct_reduction) % reduction of usable range and ω smoothing $(m.usable_prct_reduction)\")\n",
    "        println(io, \"λ-Correction : $(m.λc_type) with rhs $(m.λ_rhs)\")\n",
    "    else\n",
    "        print(io, \"SimulationParams[nB=$m.n_iω, nF=m.n_iν, shift=m.shift]\")\n",
    "    end\n",
    "    #show(io, sP)\n",
    "end\n",
    "\n",
    "function Base.show(io::IO, ::MIME\"text/plain\", m::SimulationParameters)\n",
    " \n",
    "    println(io, \"LadderDGA.jl SimulationParameters:\")\n",
    "    show(io, m)\n",
    "end\n",
    "\n",
    "function Base.show(io::IO, m::ModelParameters)\n",
    "    compact = get(io, :compact, false)\n",
    "\n",
    "    if !compact\n",
    "        println(io, \"ModelParameters[U=$m.U, μ=$m.μ, β=$m.β, n=$m.n]\")\n",
    "    else\n",
    "        println(io, \"ModelParameters[U=$m.U, μ=$m.μ, β=$m.β, n=$m.n]\")\n",
    "    end\n",
    "    #show(io, sP)\n",
    "end\n",
    "\n",
    "function Base.show(io::IO, ::MIME\"text/plain\", m::ModelParameters)\n",
    " \n",
    "    println(io, \"LadderDGA.jl ModelParameters:\")\n",
    "    #show(io, m)\n",
    "end\n",
    "\n",
    "#mP"
   ]
  },
  {
   "cell_type": "code",
   "execution_count": 14,
   "metadata": {
    "scrolled": true
   },
   "outputs": [
    {
     "data": {
      "image/svg+xml": [
       "<?xml version=\"1.0\" encoding=\"utf-8\"?>\n",
       "<svg xmlns=\"http://www.w3.org/2000/svg\" xmlns:xlink=\"http://www.w3.org/1999/xlink\" width=\"600\" height=\"400\" viewBox=\"0 0 2400 1600\">\n",
       "<defs>\n",
       "  <clipPath id=\"clip590\">\n",
       "    <rect x=\"0\" y=\"0\" width=\"2400\" height=\"1600\"/>\n",
       "  </clipPath>\n",
       "</defs>\n",
       "<path clip-path=\"url(#clip590)\" d=\"\n",
       "M0 1600 L2400 1600 L2400 0 L0 0  Z\n",
       "  \" fill=\"#ffffff\" fill-rule=\"evenodd\" fill-opacity=\"1\"/>\n",
       "<defs>\n",
       "  <clipPath id=\"clip591\">\n",
       "    <rect x=\"480\" y=\"0\" width=\"1681\" height=\"1600\"/>\n",
       "  </clipPath>\n",
       "</defs>\n",
       "<path clip-path=\"url(#clip590)\" d=\"\n",
       "M156.598 1486.45 L2352.76 1486.45 L2352.76 47.2441 L156.598 47.2441  Z\n",
       "  \" fill=\"#ffffff\" fill-rule=\"evenodd\" fill-opacity=\"1\"/>\n",
       "<defs>\n",
       "  <clipPath id=\"clip592\">\n",
       "    <rect x=\"156\" y=\"47\" width=\"2197\" height=\"1440\"/>\n",
       "  </clipPath>\n",
       "</defs>\n",
       "<polyline clip-path=\"url(#clip592)\" style=\"stroke:#000000; stroke-linecap:butt; stroke-linejoin:round; stroke-width:2; stroke-opacity:0.1; fill:none\" points=\"\n",
       "  166.957,1486.45 166.957,47.2441 \n",
       "  \"/>\n",
       "<polyline clip-path=\"url(#clip592)\" style=\"stroke:#000000; stroke-linecap:butt; stroke-linejoin:round; stroke-width:2; stroke-opacity:0.1; fill:none\" points=\"\n",
       "  684.919,1486.45 684.919,47.2441 \n",
       "  \"/>\n",
       "<polyline clip-path=\"url(#clip592)\" style=\"stroke:#000000; stroke-linecap:butt; stroke-linejoin:round; stroke-width:2; stroke-opacity:0.1; fill:none\" points=\"\n",
       "  1202.88,1486.45 1202.88,47.2441 \n",
       "  \"/>\n",
       "<polyline clip-path=\"url(#clip592)\" style=\"stroke:#000000; stroke-linecap:butt; stroke-linejoin:round; stroke-width:2; stroke-opacity:0.1; fill:none\" points=\"\n",
       "  1720.84,1486.45 1720.84,47.2441 \n",
       "  \"/>\n",
       "<polyline clip-path=\"url(#clip592)\" style=\"stroke:#000000; stroke-linecap:butt; stroke-linejoin:round; stroke-width:2; stroke-opacity:0.1; fill:none\" points=\"\n",
       "  2238.8,1486.45 2238.8,47.2441 \n",
       "  \"/>\n",
       "<polyline clip-path=\"url(#clip590)\" style=\"stroke:#000000; stroke-linecap:butt; stroke-linejoin:round; stroke-width:4; stroke-opacity:1; fill:none\" points=\"\n",
       "  156.598,1486.45 2352.76,1486.45 \n",
       "  \"/>\n",
       "<polyline clip-path=\"url(#clip590)\" style=\"stroke:#000000; stroke-linecap:butt; stroke-linejoin:round; stroke-width:4; stroke-opacity:1; fill:none\" points=\"\n",
       "  166.957,1486.45 166.957,1469.18 \n",
       "  \"/>\n",
       "<polyline clip-path=\"url(#clip590)\" style=\"stroke:#000000; stroke-linecap:butt; stroke-linejoin:round; stroke-width:4; stroke-opacity:1; fill:none\" points=\"\n",
       "  684.919,1486.45 684.919,1469.18 \n",
       "  \"/>\n",
       "<polyline clip-path=\"url(#clip590)\" style=\"stroke:#000000; stroke-linecap:butt; stroke-linejoin:round; stroke-width:4; stroke-opacity:1; fill:none\" points=\"\n",
       "  1202.88,1486.45 1202.88,1469.18 \n",
       "  \"/>\n",
       "<polyline clip-path=\"url(#clip590)\" style=\"stroke:#000000; stroke-linecap:butt; stroke-linejoin:round; stroke-width:4; stroke-opacity:1; fill:none\" points=\"\n",
       "  1720.84,1486.45 1720.84,1469.18 \n",
       "  \"/>\n",
       "<polyline clip-path=\"url(#clip590)\" style=\"stroke:#000000; stroke-linecap:butt; stroke-linejoin:round; stroke-width:4; stroke-opacity:1; fill:none\" points=\"\n",
       "  2238.8,1486.45 2238.8,1469.18 \n",
       "  \"/>\n",
       "<path clip-path=\"url(#clip590)\" d=\"M166.957 1515.64 Q163.346 1515.64 161.518 1519.2 Q159.712 1522.75 159.712 1529.87 Q159.712 1536.98 161.518 1540.55 Q163.346 1544.09 166.957 1544.09 Q170.592 1544.09 172.397 1540.55 Q174.226 1536.98 174.226 1529.87 Q174.226 1522.75 172.397 1519.2 Q170.592 1515.64 166.957 1515.64 M166.957 1511.93 Q172.768 1511.93 175.823 1516.54 Q178.902 1521.12 178.902 1529.87 Q178.902 1538.6 175.823 1543.21 Q172.768 1547.79 166.957 1547.79 Q161.147 1547.79 158.069 1543.21 Q155.013 1538.6 155.013 1529.87 Q155.013 1521.12 158.069 1516.54 Q161.147 1511.93 166.957 1511.93 Z\" fill=\"#000000\" fill-rule=\"evenodd\" fill-opacity=\"1\" /><path clip-path=\"url(#clip590)\" d=\"M659.607 1543.18 L667.246 1543.18 L667.246 1516.82 L658.936 1518.49 L658.936 1514.23 L667.199 1512.56 L671.875 1512.56 L671.875 1543.18 L679.514 1543.18 L679.514 1547.12 L659.607 1547.12 L659.607 1543.18 Z\" fill=\"#000000\" fill-rule=\"evenodd\" fill-opacity=\"1\" /><path clip-path=\"url(#clip590)\" d=\"M698.958 1515.64 Q695.347 1515.64 693.519 1519.2 Q691.713 1522.75 691.713 1529.87 Q691.713 1536.98 693.519 1540.55 Q695.347 1544.09 698.958 1544.09 Q702.593 1544.09 704.398 1540.55 Q706.227 1536.98 706.227 1529.87 Q706.227 1522.75 704.398 1519.2 Q702.593 1515.64 698.958 1515.64 M698.958 1511.93 Q704.769 1511.93 707.824 1516.54 Q710.903 1521.12 710.903 1529.87 Q710.903 1538.6 707.824 1543.21 Q704.769 1547.79 698.958 1547.79 Q693.148 1547.79 690.07 1543.21 Q687.014 1538.6 687.014 1529.87 Q687.014 1521.12 690.07 1516.54 Q693.148 1511.93 698.958 1511.93 Z\" fill=\"#000000\" fill-rule=\"evenodd\" fill-opacity=\"1\" /><path clip-path=\"url(#clip590)\" d=\"M1181.65 1543.18 L1197.97 1543.18 L1197.97 1547.12 L1176.03 1547.12 L1176.03 1543.18 Q1178.69 1540.43 1183.27 1535.8 Q1187.88 1531.15 1189.06 1529.81 Q1191.31 1527.28 1192.19 1525.55 Q1193.09 1523.79 1193.09 1522.1 Q1193.09 1519.34 1191.14 1517.61 Q1189.22 1515.87 1186.12 1515.87 Q1183.92 1515.87 1181.47 1516.63 Q1179.04 1517.4 1176.26 1518.95 L1176.26 1514.23 Q1179.08 1513.09 1181.54 1512.51 Q1183.99 1511.93 1186.03 1511.93 Q1191.4 1511.93 1194.59 1514.62 Q1197.79 1517.31 1197.79 1521.8 Q1197.79 1523.93 1196.98 1525.85 Q1196.19 1527.74 1194.08 1530.34 Q1193.51 1531.01 1190.4 1534.23 Q1187.3 1537.42 1181.65 1543.18 Z\" fill=\"#000000\" fill-rule=\"evenodd\" fill-opacity=\"1\" /><path clip-path=\"url(#clip590)\" d=\"M1217.79 1515.64 Q1214.18 1515.64 1212.35 1519.2 Q1210.54 1522.75 1210.54 1529.87 Q1210.54 1536.98 1212.35 1540.55 Q1214.18 1544.09 1217.79 1544.09 Q1221.42 1544.09 1223.23 1540.55 Q1225.06 1536.98 1225.06 1529.87 Q1225.06 1522.75 1223.23 1519.2 Q1221.42 1515.64 1217.79 1515.64 M1217.79 1511.93 Q1223.6 1511.93 1226.65 1516.54 Q1229.73 1521.12 1229.73 1529.87 Q1229.73 1538.6 1226.65 1543.21 Q1223.6 1547.79 1217.79 1547.79 Q1211.98 1547.79 1208.9 1543.21 Q1205.84 1538.6 1205.84 1529.87 Q1205.84 1521.12 1208.9 1516.54 Q1211.98 1511.93 1217.79 1511.93 Z\" fill=\"#000000\" fill-rule=\"evenodd\" fill-opacity=\"1\" /><path clip-path=\"url(#clip590)\" d=\"M1709.69 1528.49 Q1713.04 1529.2 1714.92 1531.47 Q1716.81 1533.74 1716.81 1537.07 Q1716.81 1542.19 1713.3 1544.99 Q1709.78 1547.79 1703.3 1547.79 Q1701.12 1547.79 1698.81 1547.35 Q1696.51 1546.93 1694.06 1546.08 L1694.06 1541.56 Q1696 1542.7 1698.32 1543.28 Q1700.63 1543.86 1703.16 1543.86 Q1707.56 1543.86 1709.85 1542.12 Q1712.16 1540.38 1712.16 1537.07 Q1712.16 1534.02 1710.01 1532.31 Q1707.88 1530.57 1704.06 1530.57 L1700.03 1530.57 L1700.03 1526.73 L1704.25 1526.73 Q1707.69 1526.73 1709.52 1525.36 Q1711.35 1523.97 1711.35 1521.38 Q1711.35 1518.72 1709.45 1517.31 Q1707.58 1515.87 1704.06 1515.87 Q1702.14 1515.87 1699.94 1516.29 Q1697.74 1516.7 1695.1 1517.58 L1695.1 1513.42 Q1697.76 1512.68 1700.08 1512.31 Q1702.42 1511.93 1704.48 1511.93 Q1709.8 1511.93 1712.9 1514.37 Q1716 1516.77 1716 1520.89 Q1716 1523.76 1714.36 1525.75 Q1712.72 1527.72 1709.69 1528.49 Z\" fill=\"#000000\" fill-rule=\"evenodd\" fill-opacity=\"1\" /><path clip-path=\"url(#clip590)\" d=\"M1735.68 1515.64 Q1732.07 1515.64 1730.24 1519.2 Q1728.44 1522.75 1728.44 1529.87 Q1728.44 1536.98 1730.24 1540.55 Q1732.07 1544.09 1735.68 1544.09 Q1739.31 1544.09 1741.12 1540.55 Q1742.95 1536.98 1742.95 1529.87 Q1742.95 1522.75 1741.12 1519.2 Q1739.31 1515.64 1735.68 1515.64 M1735.68 1511.93 Q1741.49 1511.93 1744.55 1516.54 Q1747.62 1521.12 1747.62 1529.87 Q1747.62 1538.6 1744.55 1543.21 Q1741.49 1547.79 1735.68 1547.79 Q1729.87 1547.79 1726.79 1543.21 Q1723.74 1538.6 1723.74 1529.87 Q1723.74 1521.12 1726.79 1516.54 Q1729.87 1511.93 1735.68 1511.93 Z\" fill=\"#000000\" fill-rule=\"evenodd\" fill-opacity=\"1\" /><path clip-path=\"url(#clip590)\" d=\"M2226.98 1516.63 L2215.17 1535.08 L2226.98 1535.08 L2226.98 1516.63 M2225.75 1512.56 L2231.63 1512.56 L2231.63 1535.08 L2236.56 1535.08 L2236.56 1538.97 L2231.63 1538.97 L2231.63 1547.12 L2226.98 1547.12 L2226.98 1538.97 L2211.37 1538.97 L2211.37 1534.46 L2225.75 1512.56 Z\" fill=\"#000000\" fill-rule=\"evenodd\" fill-opacity=\"1\" /><path clip-path=\"url(#clip590)\" d=\"M2254.29 1515.64 Q2250.68 1515.64 2248.85 1519.2 Q2247.05 1522.75 2247.05 1529.87 Q2247.05 1536.98 2248.85 1540.55 Q2250.68 1544.09 2254.29 1544.09 Q2257.92 1544.09 2259.73 1540.55 Q2261.56 1536.98 2261.56 1529.87 Q2261.56 1522.75 2259.73 1519.2 Q2257.92 1515.64 2254.29 1515.64 M2254.29 1511.93 Q2260.1 1511.93 2263.16 1516.54 Q2266.23 1521.12 2266.23 1529.87 Q2266.23 1538.6 2263.16 1543.21 Q2260.1 1547.79 2254.29 1547.79 Q2248.48 1547.79 2245.4 1543.21 Q2242.35 1538.6 2242.35 1529.87 Q2242.35 1521.12 2245.4 1516.54 Q2248.48 1511.93 2254.29 1511.93 Z\" fill=\"#000000\" fill-rule=\"evenodd\" fill-opacity=\"1\" /><polyline clip-path=\"url(#clip592)\" style=\"stroke:#000000; stroke-linecap:butt; stroke-linejoin:round; stroke-width:2; stroke-opacity:0.1; fill:none\" points=\"\n",
       "  156.598,1339.28 2352.76,1339.28 \n",
       "  \"/>\n",
       "<polyline clip-path=\"url(#clip592)\" style=\"stroke:#000000; stroke-linecap:butt; stroke-linejoin:round; stroke-width:2; stroke-opacity:0.1; fill:none\" points=\"\n",
       "  156.598,1146.53 2352.76,1146.53 \n",
       "  \"/>\n",
       "<polyline clip-path=\"url(#clip592)\" style=\"stroke:#000000; stroke-linecap:butt; stroke-linejoin:round; stroke-width:2; stroke-opacity:0.1; fill:none\" points=\"\n",
       "  156.598,953.788 2352.76,953.788 \n",
       "  \"/>\n",
       "<polyline clip-path=\"url(#clip592)\" style=\"stroke:#000000; stroke-linecap:butt; stroke-linejoin:round; stroke-width:2; stroke-opacity:0.1; fill:none\" points=\"\n",
       "  156.598,761.043 2352.76,761.043 \n",
       "  \"/>\n",
       "<polyline clip-path=\"url(#clip592)\" style=\"stroke:#000000; stroke-linecap:butt; stroke-linejoin:round; stroke-width:2; stroke-opacity:0.1; fill:none\" points=\"\n",
       "  156.598,568.298 2352.76,568.298 \n",
       "  \"/>\n",
       "<polyline clip-path=\"url(#clip592)\" style=\"stroke:#000000; stroke-linecap:butt; stroke-linejoin:round; stroke-width:2; stroke-opacity:0.1; fill:none\" points=\"\n",
       "  156.598,375.553 2352.76,375.553 \n",
       "  \"/>\n",
       "<polyline clip-path=\"url(#clip592)\" style=\"stroke:#000000; stroke-linecap:butt; stroke-linejoin:round; stroke-width:2; stroke-opacity:0.1; fill:none\" points=\"\n",
       "  156.598,182.808 2352.76,182.808 \n",
       "  \"/>\n",
       "<polyline clip-path=\"url(#clip590)\" style=\"stroke:#000000; stroke-linecap:butt; stroke-linejoin:round; stroke-width:4; stroke-opacity:1; fill:none\" points=\"\n",
       "  156.598,1486.45 156.598,47.2441 \n",
       "  \"/>\n",
       "<polyline clip-path=\"url(#clip590)\" style=\"stroke:#000000; stroke-linecap:butt; stroke-linejoin:round; stroke-width:4; stroke-opacity:1; fill:none\" points=\"\n",
       "  156.598,1339.28 182.952,1339.28 \n",
       "  \"/>\n",
       "<polyline clip-path=\"url(#clip590)\" style=\"stroke:#000000; stroke-linecap:butt; stroke-linejoin:round; stroke-width:4; stroke-opacity:1; fill:none\" points=\"\n",
       "  156.598,1146.53 182.952,1146.53 \n",
       "  \"/>\n",
       "<polyline clip-path=\"url(#clip590)\" style=\"stroke:#000000; stroke-linecap:butt; stroke-linejoin:round; stroke-width:4; stroke-opacity:1; fill:none\" points=\"\n",
       "  156.598,953.788 182.952,953.788 \n",
       "  \"/>\n",
       "<polyline clip-path=\"url(#clip590)\" style=\"stroke:#000000; stroke-linecap:butt; stroke-linejoin:round; stroke-width:4; stroke-opacity:1; fill:none\" points=\"\n",
       "  156.598,761.043 182.952,761.043 \n",
       "  \"/>\n",
       "<polyline clip-path=\"url(#clip590)\" style=\"stroke:#000000; stroke-linecap:butt; stroke-linejoin:round; stroke-width:4; stroke-opacity:1; fill:none\" points=\"\n",
       "  156.598,568.298 182.952,568.298 \n",
       "  \"/>\n",
       "<polyline clip-path=\"url(#clip590)\" style=\"stroke:#000000; stroke-linecap:butt; stroke-linejoin:round; stroke-width:4; stroke-opacity:1; fill:none\" points=\"\n",
       "  156.598,375.553 182.952,375.553 \n",
       "  \"/>\n",
       "<polyline clip-path=\"url(#clip590)\" style=\"stroke:#000000; stroke-linecap:butt; stroke-linejoin:round; stroke-width:4; stroke-opacity:1; fill:none\" points=\"\n",
       "  156.598,182.808 182.952,182.808 \n",
       "  \"/>\n",
       "<path clip-path=\"url(#clip590)\" d=\"M63.4226 1325.08 Q59.8115 1325.08 57.9828 1328.64 Q56.1773 1332.18 56.1773 1339.31 Q56.1773 1346.42 57.9828 1349.98 Q59.8115 1353.53 63.4226 1353.53 Q67.0569 1353.53 68.8624 1349.98 Q70.6911 1346.42 70.6911 1339.31 Q70.6911 1332.18 68.8624 1328.64 Q67.0569 1325.08 63.4226 1325.08 M63.4226 1321.37 Q69.2328 1321.37 72.2883 1325.98 Q75.367 1330.56 75.367 1339.31 Q75.367 1348.04 72.2883 1352.65 Q69.2328 1357.23 63.4226 1357.23 Q57.6125 1357.23 54.5338 1352.65 Q51.4782 1348.04 51.4782 1339.31 Q51.4782 1330.56 54.5338 1325.98 Q57.6125 1321.37 63.4226 1321.37 Z\" fill=\"#000000\" fill-rule=\"evenodd\" fill-opacity=\"1\" /><path clip-path=\"url(#clip590)\" d=\"M83.5845 1350.68 L88.4688 1350.68 L88.4688 1356.56 L83.5845 1356.56 L83.5845 1350.68 Z\" fill=\"#000000\" fill-rule=\"evenodd\" fill-opacity=\"1\" /><path clip-path=\"url(#clip590)\" d=\"M108.654 1325.08 Q105.043 1325.08 103.214 1328.64 Q101.409 1332.18 101.409 1339.31 Q101.409 1346.42 103.214 1349.98 Q105.043 1353.53 108.654 1353.53 Q112.288 1353.53 114.094 1349.98 Q115.922 1346.42 115.922 1339.31 Q115.922 1332.18 114.094 1328.64 Q112.288 1325.08 108.654 1325.08 M108.654 1321.37 Q114.464 1321.37 117.52 1325.98 Q120.598 1330.56 120.598 1339.31 Q120.598 1348.04 117.52 1352.65 Q114.464 1357.23 108.654 1357.23 Q102.844 1357.23 99.765 1352.65 Q96.7095 1348.04 96.7095 1339.31 Q96.7095 1330.56 99.765 1325.98 Q102.844 1321.37 108.654 1321.37 Z\" fill=\"#000000\" fill-rule=\"evenodd\" fill-opacity=\"1\" /><path clip-path=\"url(#clip590)\" d=\"M64.6495 1132.33 Q61.0384 1132.33 59.2097 1135.9 Q57.4041 1139.44 57.4041 1146.57 Q57.4041 1153.67 59.2097 1157.24 Q61.0384 1160.78 64.6495 1160.78 Q68.2837 1160.78 70.0892 1157.24 Q71.9179 1153.67 71.9179 1146.57 Q71.9179 1139.44 70.0892 1135.9 Q68.2837 1132.33 64.6495 1132.33 M64.6495 1128.63 Q70.4596 1128.63 73.5152 1133.23 Q76.5938 1137.82 76.5938 1146.57 Q76.5938 1155.29 73.5152 1159.9 Q70.4596 1164.48 64.6495 1164.48 Q58.8393 1164.48 55.7606 1159.9 Q52.7051 1155.29 52.7051 1146.57 Q52.7051 1137.82 55.7606 1133.23 Q58.8393 1128.63 64.6495 1128.63 Z\" fill=\"#000000\" fill-rule=\"evenodd\" fill-opacity=\"1\" /><path clip-path=\"url(#clip590)\" d=\"M84.8114 1157.93 L89.6956 1157.93 L89.6956 1163.81 L84.8114 1163.81 L84.8114 1157.93 Z\" fill=\"#000000\" fill-rule=\"evenodd\" fill-opacity=\"1\" /><path clip-path=\"url(#clip590)\" d=\"M100.691 1159.88 L108.33 1159.88 L108.33 1133.51 L100.02 1135.18 L100.02 1130.92 L108.283 1129.25 L112.959 1129.25 L112.959 1159.88 L120.598 1159.88 L120.598 1163.81 L100.691 1163.81 L100.691 1159.88 Z\" fill=\"#000000\" fill-rule=\"evenodd\" fill-opacity=\"1\" /><path clip-path=\"url(#clip590)\" d=\"M65.0198 939.587 Q61.4087 939.587 59.58 943.152 Q57.7745 946.693 57.7745 953.823 Q57.7745 960.929 59.58 964.494 Q61.4087 968.036 65.0198 968.036 Q68.6541 968.036 70.4596 964.494 Q72.2883 960.929 72.2883 953.823 Q72.2883 946.693 70.4596 943.152 Q68.6541 939.587 65.0198 939.587 M65.0198 935.883 Q70.83 935.883 73.8855 940.49 Q76.9642 945.073 76.9642 953.823 Q76.9642 962.55 73.8855 967.156 Q70.83 971.739 65.0198 971.739 Q59.2097 971.739 56.131 967.156 Q53.0754 962.55 53.0754 953.823 Q53.0754 945.073 56.131 940.49 Q59.2097 935.883 65.0198 935.883 Z\" fill=\"#000000\" fill-rule=\"evenodd\" fill-opacity=\"1\" /><path clip-path=\"url(#clip590)\" d=\"M85.1818 965.189 L90.066 965.189 L90.066 971.068 L85.1818 971.068 L85.1818 965.189 Z\" fill=\"#000000\" fill-rule=\"evenodd\" fill-opacity=\"1\" /><path clip-path=\"url(#clip590)\" d=\"M104.279 967.133 L120.598 967.133 L120.598 971.068 L98.6539 971.068 L98.6539 967.133 Q101.316 964.378 105.899 959.749 Q110.506 955.096 111.686 953.753 Q113.932 951.23 114.811 949.494 Q115.714 947.735 115.714 946.045 Q115.714 943.291 113.77 941.554 Q111.848 939.818 108.746 939.818 Q106.547 939.818 104.094 940.582 Q101.663 941.346 98.8854 942.897 L98.8854 938.175 Q101.709 937.041 104.163 936.462 Q106.617 935.883 108.654 935.883 Q114.024 935.883 117.219 938.568 Q120.413 941.254 120.413 945.744 Q120.413 947.874 119.603 949.795 Q118.816 951.693 116.709 954.286 Q116.131 954.957 113.029 958.175 Q109.927 961.369 104.279 967.133 Z\" fill=\"#000000\" fill-rule=\"evenodd\" fill-opacity=\"1\" /><path clip-path=\"url(#clip590)\" d=\"M64.0708 746.842 Q60.4597 746.842 58.631 750.406 Q56.8254 753.948 56.8254 761.078 Q56.8254 768.184 58.631 771.749 Q60.4597 775.291 64.0708 775.291 Q67.705 775.291 69.5105 771.749 Q71.3392 768.184 71.3392 761.078 Q71.3392 753.948 69.5105 750.406 Q67.705 746.842 64.0708 746.842 M64.0708 743.138 Q69.8809 743.138 72.9365 747.744 Q76.0151 752.328 76.0151 761.078 Q76.0151 769.805 72.9365 774.411 Q69.8809 778.994 64.0708 778.994 Q58.2606 778.994 55.1819 774.411 Q52.1264 769.805 52.1264 761.078 Q52.1264 752.328 55.1819 747.744 Q58.2606 743.138 64.0708 743.138 Z\" fill=\"#000000\" fill-rule=\"evenodd\" fill-opacity=\"1\" /><path clip-path=\"url(#clip590)\" d=\"M84.2327 772.443 L89.1169 772.443 L89.1169 778.323 L84.2327 778.323 L84.2327 772.443 Z\" fill=\"#000000\" fill-rule=\"evenodd\" fill-opacity=\"1\" /><path clip-path=\"url(#clip590)\" d=\"M113.469 759.689 Q116.825 760.406 118.7 762.675 Q120.598 764.943 120.598 768.277 Q120.598 773.392 117.08 776.193 Q113.561 778.994 107.08 778.994 Q104.904 778.994 102.589 778.554 Q100.297 778.138 97.8437 777.281 L97.8437 772.767 Q99.7882 773.902 102.103 774.48 Q104.418 775.059 106.941 775.059 Q111.339 775.059 113.631 773.323 Q115.945 771.587 115.945 768.277 Q115.945 765.221 113.793 763.508 Q111.663 761.772 107.844 761.772 L103.816 761.772 L103.816 757.93 L108.029 757.93 Q111.478 757.93 113.307 756.564 Q115.135 755.175 115.135 752.582 Q115.135 749.92 113.237 748.508 Q111.362 747.073 107.844 747.073 Q105.922 747.073 103.723 747.49 Q101.524 747.906 98.8854 748.786 L98.8854 744.619 Q101.547 743.879 103.862 743.508 Q106.2 743.138 108.26 743.138 Q113.584 743.138 116.686 745.569 Q119.788 747.976 119.788 752.096 Q119.788 754.967 118.145 756.957 Q116.501 758.925 113.469 759.689 Z\" fill=\"#000000\" fill-rule=\"evenodd\" fill-opacity=\"1\" /><path clip-path=\"url(#clip590)\" d=\"M62.9365 554.097 Q59.3254 554.097 57.4967 557.661 Q55.6912 561.203 55.6912 568.333 Q55.6912 575.439 57.4967 579.004 Q59.3254 582.545 62.9365 582.545 Q66.5707 582.545 68.3763 579.004 Q70.205 575.439 70.205 568.333 Q70.205 561.203 68.3763 557.661 Q66.5707 554.097 62.9365 554.097 M62.9365 550.393 Q68.7467 550.393 71.8022 554.999 Q74.8809 559.583 74.8809 568.333 Q74.8809 577.059 71.8022 581.666 Q68.7467 586.249 62.9365 586.249 Q57.1264 586.249 54.0477 581.666 Q50.9921 577.059 50.9921 568.333 Q50.9921 559.583 54.0477 554.999 Q57.1264 550.393 62.9365 550.393 Z\" fill=\"#000000\" fill-rule=\"evenodd\" fill-opacity=\"1\" /><path clip-path=\"url(#clip590)\" d=\"M83.0984 579.698 L87.9827 579.698 L87.9827 585.578 L83.0984 585.578 L83.0984 579.698 Z\" fill=\"#000000\" fill-rule=\"evenodd\" fill-opacity=\"1\" /><path clip-path=\"url(#clip590)\" d=\"M111.015 555.092 L99.2095 573.541 L111.015 573.541 L111.015 555.092 M109.788 551.018 L115.668 551.018 L115.668 573.541 L120.598 573.541 L120.598 577.43 L115.668 577.43 L115.668 585.578 L111.015 585.578 L111.015 577.43 L95.4132 577.43 L95.4132 572.916 L109.788 551.018 Z\" fill=\"#000000\" fill-rule=\"evenodd\" fill-opacity=\"1\" /><path clip-path=\"url(#clip590)\" d=\"M64.418 361.351 Q60.8069 361.351 58.9782 364.916 Q57.1726 368.458 57.1726 375.587 Q57.1726 382.694 58.9782 386.259 Q60.8069 389.8 64.418 389.8 Q68.0522 389.8 69.8578 386.259 Q71.6865 382.694 71.6865 375.587 Q71.6865 368.458 69.8578 364.916 Q68.0522 361.351 64.418 361.351 M64.418 357.648 Q70.2281 357.648 73.2837 362.254 Q76.3624 366.837 76.3624 375.587 Q76.3624 384.314 73.2837 388.921 Q70.2281 393.504 64.418 393.504 Q58.6078 393.504 55.5291 388.921 Q52.4736 384.314 52.4736 375.587 Q52.4736 366.837 55.5291 362.254 Q58.6078 357.648 64.418 357.648 Z\" fill=\"#000000\" fill-rule=\"evenodd\" fill-opacity=\"1\" /><path clip-path=\"url(#clip590)\" d=\"M84.5799 386.953 L89.4641 386.953 L89.4641 392.833 L84.5799 392.833 L84.5799 386.953 Z\" fill=\"#000000\" fill-rule=\"evenodd\" fill-opacity=\"1\" /><path clip-path=\"url(#clip590)\" d=\"M99.6956 358.273 L118.052 358.273 L118.052 362.208 L103.978 362.208 L103.978 370.68 Q104.996 370.333 106.015 370.171 Q107.033 369.986 108.052 369.986 Q113.839 369.986 117.219 373.157 Q120.598 376.328 120.598 381.745 Q120.598 387.323 117.126 390.425 Q113.654 393.504 107.334 393.504 Q105.159 393.504 102.89 393.134 Q100.645 392.763 98.2372 392.023 L98.2372 387.323 Q100.321 388.458 102.543 389.013 Q104.765 389.569 107.242 389.569 Q111.246 389.569 113.584 387.462 Q115.922 385.356 115.922 381.745 Q115.922 378.134 113.584 376.027 Q111.246 373.921 107.242 373.921 Q105.367 373.921 103.492 374.337 Q101.64 374.754 99.6956 375.634 L99.6956 358.273 Z\" fill=\"#000000\" fill-rule=\"evenodd\" fill-opacity=\"1\" /><path clip-path=\"url(#clip590)\" d=\"M63.2606 168.606 Q59.6495 168.606 57.8208 172.171 Q56.0152 175.713 56.0152 182.842 Q56.0152 189.949 57.8208 193.513 Q59.6495 197.055 63.2606 197.055 Q66.8948 197.055 68.7004 193.513 Q70.5291 189.949 70.5291 182.842 Q70.5291 175.713 68.7004 172.171 Q66.8948 168.606 63.2606 168.606 M63.2606 164.903 Q69.0707 164.903 72.1263 169.509 Q75.205 174.092 75.205 182.842 Q75.205 191.569 72.1263 196.176 Q69.0707 200.759 63.2606 200.759 Q57.4504 200.759 54.3717 196.176 Q51.3162 191.569 51.3162 182.842 Q51.3162 174.092 54.3717 169.509 Q57.4504 164.903 63.2606 164.903 Z\" fill=\"#000000\" fill-rule=\"evenodd\" fill-opacity=\"1\" /><path clip-path=\"url(#clip590)\" d=\"M83.4225 194.208 L88.3067 194.208 L88.3067 200.088 L83.4225 200.088 L83.4225 194.208 Z\" fill=\"#000000\" fill-rule=\"evenodd\" fill-opacity=\"1\" /><path clip-path=\"url(#clip590)\" d=\"M109.071 180.944 Q105.922 180.944 104.071 183.097 Q102.242 185.25 102.242 189 Q102.242 192.726 104.071 194.902 Q105.922 197.055 109.071 197.055 Q112.219 197.055 114.047 194.902 Q115.899 192.726 115.899 189 Q115.899 185.25 114.047 183.097 Q112.219 180.944 109.071 180.944 M118.353 166.291 L118.353 170.551 Q116.594 169.717 114.788 169.278 Q113.006 168.838 111.246 168.838 Q106.617 168.838 104.163 171.963 Q101.733 175.088 101.385 181.407 Q102.751 179.393 104.811 178.328 Q106.871 177.24 109.348 177.24 Q114.557 177.24 117.566 180.412 Q120.598 183.56 120.598 189 Q120.598 194.324 117.45 197.541 Q114.302 200.759 109.071 200.759 Q103.075 200.759 99.9039 196.176 Q96.7326 191.569 96.7326 182.842 Q96.7326 174.648 100.621 169.787 Q104.51 164.903 111.061 164.903 Q112.82 164.903 114.603 165.25 Q116.408 165.597 118.353 166.291 Z\" fill=\"#000000\" fill-rule=\"evenodd\" fill-opacity=\"1\" /><polyline clip-path=\"url(#clip592)\" style=\"stroke:#009af9; stroke-linecap:butt; stroke-linejoin:round; stroke-width:4; stroke-opacity:1; fill:none\" points=\"\n",
       "  218.754,1445.72 270.55,1432.59 322.346,1420.58 374.142,1411.68 425.938,1404.51 477.734,1398.27 529.531,1392.47 581.327,1386.73 633.123,1380.74 684.919,1374.14 \n",
       "  736.715,1366.53 788.512,1357.32 840.308,1345.73 892.104,1330.52 943.9,1309.76 995.696,1280.31 1047.49,1236.91 1099.29,1170.88 1151.08,1070.27 1202.88,936.129 \n",
       "  1254.68,807.889 1306.47,936.129 1358.27,1070.27 1410.07,1170.88 1461.86,1236.91 1513.66,1280.31 1565.45,1309.76 1617.25,1330.52 1669.05,1345.73 1720.84,1357.32 \n",
       "  1772.64,1366.53 1824.43,1374.14 1876.23,1380.74 1928.03,1386.73 1979.82,1392.47 2031.62,1398.27 2083.42,1404.51 2135.21,1411.68 2187.01,1420.58 2238.8,1432.59 \n",
       "  2290.6,1445.72 \n",
       "  \"/>\n",
       "<polyline clip-path=\"url(#clip592)\" style=\"stroke:#e26f46; stroke-linecap:butt; stroke-linejoin:round; stroke-width:4; stroke-opacity:1; fill:none\" points=\"\n",
       "  218.754,1436.1 270.55,1425.17 322.346,1414.91 374.142,1407.16 425.938,1400.8 477.734,1395.19 529.531,1389.9 581.327,1384.61 633.123,1379 684.919,1372.74 \n",
       "  736.715,1365.39 788.512,1356.34 840.308,1344.66 892.104,1328.87 943.9,1306.46 995.696,1272.81 1047.49,1218.97 1099.29,1125.65 1151.08,946.68 1202.88,575.935 \n",
       "  1254.68,87.9763 1306.47,575.935 1358.27,946.68 1410.07,1125.65 1461.86,1218.97 1513.66,1272.81 1565.45,1306.46 1617.25,1328.87 1669.05,1344.66 1720.84,1356.34 \n",
       "  1772.64,1365.39 1824.43,1372.74 1876.23,1379 1928.03,1384.61 1979.82,1389.9 2031.62,1395.19 2083.42,1400.8 2135.21,1407.16 2187.01,1414.91 2238.8,1425.17 \n",
       "  2290.6,1436.1 \n",
       "  \"/>\n",
       "<path clip-path=\"url(#clip590)\" d=\"\n",
       "M1933.61 276.658 L2279.55 276.658 L2279.55 95.2176 L1933.61 95.2176  Z\n",
       "  \" fill=\"#ffffff\" fill-rule=\"evenodd\" fill-opacity=\"1\"/>\n",
       "<polyline clip-path=\"url(#clip590)\" style=\"stroke:#000000; stroke-linecap:butt; stroke-linejoin:round; stroke-width:4; stroke-opacity:1; fill:none\" points=\"\n",
       "  1933.61,276.658 2279.55,276.658 2279.55,95.2176 1933.61,95.2176 1933.61,276.658 \n",
       "  \"/>\n",
       "<polyline clip-path=\"url(#clip590)\" style=\"stroke:#009af9; stroke-linecap:butt; stroke-linejoin:round; stroke-width:4; stroke-opacity:1; fill:none\" points=\"\n",
       "  1958.01,155.698 2104.42,155.698 \n",
       "  \"/>\n",
       "<path clip-path=\"url(#clip590)\" d=\"M2144.41 178.765 L2140.96 169.899 L2133.85 182.862 L2128.83 182.862 L2138.87 164.529 L2134.66 153.626 Q2133.53 150.709 2129.96 150.709 L2128.83 150.709 L2128.83 147.052 L2130.45 147.098 Q2136.42 147.26 2137.92 151.126 L2141.35 159.992 L2148.46 147.029 L2153.48 147.029 L2143.43 165.362 L2147.65 176.265 Q2148.78 179.181 2152.34 179.181 L2153.48 179.181 L2153.48 182.839 L2151.86 182.792 Q2145.89 182.63 2144.41 178.765 Z\" fill=\"#000000\" fill-rule=\"evenodd\" fill-opacity=\"1\" /><path clip-path=\"url(#clip590)\" d=\"M2179.01 180.848 L2179.01 184.158 L2154.38 184.158 L2154.38 180.848 L2179.01 180.848 Z\" fill=\"#000000\" fill-rule=\"evenodd\" fill-opacity=\"1\" /><path clip-path=\"url(#clip590)\" d=\"M2201.67 148.047 L2201.67 152.029 Q2199.87 151.033 2198.04 150.547 Q2196.23 150.038 2194.38 150.038 Q2190.24 150.038 2187.95 152.677 Q2185.65 155.292 2185.65 160.038 Q2185.65 164.783 2187.95 167.422 Q2190.24 170.038 2194.38 170.038 Q2196.23 170.038 2198.04 169.552 Q2199.87 169.042 2201.67 168.047 L2201.67 171.982 Q2199.89 172.816 2197.97 173.232 Q2196.07 173.649 2193.92 173.649 Q2188.06 173.649 2184.61 169.968 Q2181.16 166.288 2181.16 160.038 Q2181.16 153.695 2184.64 150.061 Q2188.13 146.427 2194.2 146.427 Q2196.16 146.427 2198.04 146.843 Q2199.91 147.237 2201.67 148.047 Z\" fill=\"#000000\" fill-rule=\"evenodd\" fill-opacity=\"1\" /><path clip-path=\"url(#clip590)\" d=\"M2230.63 157.329 L2230.63 172.978 L2226.37 172.978 L2226.37 157.468 Q2226.37 153.788 2224.94 151.959 Q2223.5 150.13 2220.63 150.13 Q2217.18 150.13 2215.19 152.33 Q2213.2 154.529 2213.2 158.325 L2213.2 172.978 L2208.92 172.978 L2208.92 136.959 L2213.2 136.959 L2213.2 151.08 Q2214.73 148.742 2216.79 147.584 Q2218.87 146.427 2221.58 146.427 Q2226.05 146.427 2228.34 149.205 Q2230.63 151.959 2230.63 157.329 Z\" fill=\"#000000\" fill-rule=\"evenodd\" fill-opacity=\"1\" /><polyline clip-path=\"url(#clip590)\" style=\"stroke:#e26f46; stroke-linecap:butt; stroke-linejoin:round; stroke-width:4; stroke-opacity:1; fill:none\" points=\"\n",
       "  1958.01,216.178 2104.42,216.178 \n",
       "  \"/>\n",
       "<path clip-path=\"url(#clip590)\" d=\"M2144.41 239.245 L2140.96 230.379 L2133.85 243.342 L2128.83 243.342 L2138.87 225.009 L2134.66 214.106 Q2133.53 211.189 2129.96 211.189 L2128.83 211.189 L2128.83 207.532 L2130.45 207.578 Q2136.42 207.74 2137.92 211.606 L2141.35 220.472 L2148.46 207.509 L2153.48 207.509 L2143.43 225.842 L2147.65 236.745 Q2148.78 239.661 2152.34 239.661 L2153.48 239.661 L2153.48 243.319 L2151.86 243.272 Q2145.89 243.11 2144.41 239.245 Z\" fill=\"#000000\" fill-rule=\"evenodd\" fill-opacity=\"1\" /><path clip-path=\"url(#clip590)\" d=\"M2179.01 241.328 L2179.01 244.638 L2154.38 244.638 L2154.38 241.328 L2179.01 241.328 Z\" fill=\"#000000\" fill-rule=\"evenodd\" fill-opacity=\"1\" /><path clip-path=\"url(#clip590)\" d=\"M2199.54 208.296 L2199.54 212.323 Q2197.74 211.397 2195.79 210.935 Q2193.85 210.472 2191.77 210.472 Q2188.59 210.472 2187 211.444 Q2185.42 212.416 2185.42 214.36 Q2185.42 215.842 2186.56 216.698 Q2187.69 217.532 2191.12 218.296 L2192.58 218.62 Q2197.11 219.592 2199.01 221.374 Q2200.93 223.134 2200.93 226.305 Q2200.93 229.916 2198.06 232.022 Q2195.21 234.129 2190.21 234.129 Q2188.13 234.129 2185.86 233.712 Q2183.62 233.319 2181.12 232.508 L2181.12 228.11 Q2183.48 229.337 2185.77 229.962 Q2188.06 230.564 2190.31 230.564 Q2193.32 230.564 2194.94 229.546 Q2196.56 228.504 2196.56 226.629 Q2196.56 224.893 2195.38 223.967 Q2194.22 223.041 2190.26 222.184 L2188.78 221.837 Q2184.82 221.004 2183.06 219.291 Q2181.3 217.555 2181.3 214.546 Q2181.3 210.888 2183.9 208.898 Q2186.49 206.907 2191.26 206.907 Q2193.62 206.907 2195.7 207.254 Q2197.78 207.601 2199.54 208.296 Z\" fill=\"#000000\" fill-rule=\"evenodd\" fill-opacity=\"1\" /><path clip-path=\"url(#clip590)\" d=\"M2211.84 229.569 L2211.84 243.319 L2207.55 243.319 L2207.55 207.532 L2211.84 207.532 L2211.84 211.467 Q2213.18 209.152 2215.21 208.041 Q2217.27 206.907 2220.12 206.907 Q2224.84 206.907 2227.78 210.657 Q2230.75 214.407 2230.75 220.518 Q2230.75 226.629 2227.78 230.379 Q2224.84 234.129 2220.12 234.129 Q2217.27 234.129 2215.21 233.018 Q2213.18 231.883 2211.84 229.569 M2226.33 220.518 Q2226.33 215.819 2224.38 213.157 Q2222.46 210.472 2219.08 210.472 Q2215.7 210.472 2213.76 213.157 Q2211.84 215.819 2211.84 220.518 Q2211.84 225.217 2213.76 227.902 Q2215.7 230.564 2219.08 230.564 Q2222.46 230.564 2224.38 227.902 Q2226.33 225.217 2226.33 220.518 Z\" fill=\"#000000\" fill-rule=\"evenodd\" fill-opacity=\"1\" /></svg>\n"
      ]
     },
     "execution_count": 14,
     "metadata": {},
     "output_type": "execute_result"
    }
   ],
   "source": [
    "χch_ω = LadderDGA.kintegrate(kG,nlQ_ch.χ, dim=2)[:,1]\n",
    "χsp_ω = LadderDGA.kintegrate(kG,nlQ_sp.χ, dim=2)[:,1]\n",
    "plot(real.(χch_ω), label=\"χ_ch\")\n",
    "plot!(real.(χsp_ω), label=\"χ_sp\")"
   ]
  },
  {
   "cell_type": "code",
   "execution_count": 15,
   "metadata": {},
   "outputs": [
    {
     "ename": "LoadError",
     "evalue": "UndefVarError: kintegrate not defined",
     "output_type": "error",
     "traceback": [
      "UndefVarError: kintegrate not defined",
      "",
      "Stacktrace:",
      " [1] top-level scope",
      "   @ In[15]:3",
      " [2] eval",
      "   @ ./boot.jl:360 [inlined]",
      " [3] include_string(mapexpr::typeof(REPL.softscope), mod::Module, code::String, filename::String)",
      "   @ Base ./loading.jl:1094"
     ]
    }
   ],
   "source": [
    "plot(imag(Σ_loc), markershape=:circle)\n",
    "plot!(imag(Σ_ladderLoc), markershape=:circle)\n",
    "plot!(imag(kintegrate(kG, Σ_ladder_corrected, dim=2)[:,1]), markershape=:circle)"
   ]
  },
  {
   "cell_type": "code",
   "execution_count": 16,
   "metadata": {},
   "outputs": [],
   "source": [
    "Σ = Σ_ladder_corrected\n",
    "iν_array = LadderDGA.iν_array\n",
    "G_from_Σ = LadderDGA.G_from_Σ\n",
    "flatten_2D = LadderDGA.flatten_2D\n",
    "kintegrate = LadderDGA.kintegrate\n",
    "kGrid = kG\n",
    "# = LadderDGA.\n",
    "\n",
    "νmax = size(Σ,1)\n",
    "νGrid = 0:(νmax-1)\n",
    "iν_n = iν_array(mP.β, νGrid)\n",
    "Σ_hartree = mP.n * mP.U/2\n",
    "Σ_corr = Σ .+ Σ_hartree\n",
    "\n",
    "E_kin_tail_c = [zeros(size(kGrid.ϵkGrid)), (kGrid.ϵkGrid .+ Σ_hartree .- mP.μ)]\n",
    "E_pot_tail_c = [zeros(size(kGrid.ϵkGrid)),\n",
    "                (mP.U^2 * 0.5 * mP.n * (1-0.5*mP.n) .+ Σ_hartree .* (kGrid.ϵkGrid .+ Σ_hartree .- mP.μ))]\n",
    "tail = [1 ./ (iν_n .^ n) for n in 1:length(E_kin_tail_c)]\n",
    "E_pot_tail = sum(E_pot_tail_c[i]' .* tail[i] for i in 1:length(tail))\n",
    "E_kin_tail = sum(E_kin_tail_c[i]' .* tail[i] for i in 1:length(tail))\n",
    "E_pot_tail_inv = sum((mP.β/2)  .* [Σ_hartree .* ones(size(kGrid.ϵkGrid)), (-mP.β/2) .* E_pot_tail_c[2]])\n",
    "E_kin_tail_inv = sum(map(x->x .* (mP.β/2) .* kGrid.ϵkGrid , [1, -(mP.β) .* E_kin_tail_c[2]]))\n",
    "\n",
    "G_corr = flatten_2D(G_from_Σ(Σ_corr, kGrid.ϵkGrid, νGrid, mP));\n",
    "E_pot = real.(G_corr .* Σ_corr .- E_pot_tail);\n",
    "E_kin = kGrid.ϵkGrid' .* real.(G_corr .- E_kin_tail);\n",
    "\n",
    "E_pot = [kintegrate(kGrid, 2 .* sum(E_pot[1:i,:], dims=[1])[1,:] .+ E_pot_tail_inv) for i in 1:νmax]\n",
    "E_kin = [kintegrate(kGrid, 4 .* sum(E_kin[1:i,:], dims=[1])[1,:] .+ E_kin_tail_inv) for i in 1:νmax];"
   ]
  },
  {
   "cell_type": "code",
   "execution_count": 17,
   "metadata": {},
   "outputs": [
    {
     "data": {
      "text/plain": [
       "20-element Vector{ComplexF64}:\n",
       "  -0.008395741247312738 - 0.016842484378948783im\n",
       "  -0.013342743508095112 - 0.046004465531926005im\n",
       "  -0.017896736234623734 - 0.05883578615776278im\n",
       "    -0.0180352452353999 - 0.061133185203339636im\n",
       "  -0.016078628232113312 - 0.05883893955275246im\n",
       "  -0.013678737481016112 - 0.05494561927376339im\n",
       "  -0.011466388076250666 - 0.050738307819143284im\n",
       "  -0.009602177442620152 - 0.04672286212736094im\n",
       "  -0.008080372997402718 - 0.043070920567971835im\n",
       " -0.0068489300682794685 - 0.039815646230871665im\n",
       "  -0.005850961638751873 - 0.03693589437139781im\n",
       "  -0.005036992716235589 - 0.034391977237371786im\n",
       "  -0.004367081845855547 - 0.03214034338989531im\n",
       "  -0.003809776008777299 - 0.03013881599758595im\n",
       " -0.0033403067722183044 - 0.02834705792336268im\n",
       " -0.0029387551096466957 - 0.026723364584719442im\n",
       "  -0.002588292347636467 - 0.025215738705671453im\n",
       " -0.0022732279817406775 - 0.023739623406930387im\n",
       " -0.0019761415408250382 - 0.022124859797189003im\n",
       " -0.0016717385627540438 - 0.020082300201795668im"
      ]
     },
     "execution_count": 17,
     "metadata": {},
     "output_type": "execute_result"
    }
   ],
   "source": [
    "Σ_ladder_corrected[:,1]"
   ]
  },
  {
   "cell_type": "code",
   "execution_count": 18,
   "metadata": {},
   "outputs": [
    {
     "data": {
      "text/plain": [
       "4-element Vector{ComplexF64}:\n",
       " -0.050770128359629435 + 6.208934188784006e-11im\n",
       "  -0.05368985428170499 + 5.985382951195317e-11im\n",
       "   -0.0566868214992087 + 5.787636491036125e-11im\n",
       "  -0.05987372584325439 + 5.6088660590884805e-11im"
      ]
     },
     "execution_count": 18,
     "metadata": {},
     "output_type": "execute_result"
    }
   ],
   "source": [
    "nlQ_ch.χ[1,:]"
   ]
  },
  {
   "cell_type": "code",
   "execution_count": 19,
   "metadata": {},
   "outputs": [
    {
     "data": {
      "text/plain": [
       "4-element Vector{Float64}:\n",
       " -1.224744871391589\n",
       " -0.408248290463863\n",
       "  0.408248290463863\n",
       "  1.224744871391589"
      ]
     },
     "execution_count": 19,
     "metadata": {},
     "output_type": "execute_result"
    }
   ],
   "source": [
    "kGrid.ϵkGrid"
   ]
  },
  {
   "cell_type": "code",
   "execution_count": 20,
   "metadata": {},
   "outputs": [
    {
     "data": {
      "text/plain": [
       "4-element Vector{ComplexF64}:\n",
       "  0.7715437084239739 - 0.17433890440314473im\n",
       "  1.5978537776204147 - 1.0010788142557532im\n",
       "  -1.597853872798753 - 1.0010787965998353im\n",
       " -0.7715437095147765 - 0.17433890929473977im"
      ]
     },
     "execution_count": 20,
     "metadata": {},
     "output_type": "execute_result"
    }
   ],
   "source": [
    "G_corr[1,:]"
   ]
  },
  {
   "cell_type": "code",
   "execution_count": 21,
   "metadata": {},
   "outputs": [
    {
     "data": {
      "text/plain": [
       "20-element Vector{Vector{Float64}}:\n",
       " [1.162022562697737]\n",
       " [1.866577311419566]\n",
       " [2.0761207565772386]\n",
       " [2.1624356419507804]\n",
       " [2.2048091254343305]\n",
       " [2.2282129667588837]\n",
       " [2.2423159423909924]\n",
       " [2.2514086215484452]\n",
       " [2.2575961954200596]\n",
       " [2.26199602632821]\n",
       " [2.2652402291286835]\n",
       " [2.2677059531007613]\n",
       " [2.2696287637871393]\n",
       " [2.2711620333369664]\n",
       " [2.272409973535496]\n",
       " [2.2734474997397807]\n",
       " [2.2743341626790237]\n",
       " [2.2751277205916276]\n",
       " [2.275904183546047]\n",
       " [2.276778862557835]"
      ]
     },
     "execution_count": 21,
     "metadata": {},
     "output_type": "execute_result"
    }
   ],
   "source": [
    "E_pot"
   ]
  },
  {
   "cell_type": "code",
   "execution_count": null,
   "metadata": {},
   "outputs": [],
   "source": []
  }
 ],
 "metadata": {
  "kernelspec": {
   "display_name": "Julia 1.6.0",
   "language": "julia",
   "name": "julia-1.6"
  },
  "language_info": {
   "file_extension": ".jl",
   "mimetype": "application/julia",
   "name": "julia",
   "version": "1.6.0"
  }
 },
 "nbformat": 4,
 "nbformat_minor": 4
}
