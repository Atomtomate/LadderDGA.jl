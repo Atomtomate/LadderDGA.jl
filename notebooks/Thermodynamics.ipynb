{
 "cells": [
  {
   "cell_type": "code",
   "execution_count": 1,
   "metadata": {},
   "outputs": [],
   "source": [
    "ENV[\"GKS_ENCODING\"] = \"utf-8\"\n",
    "using Plots\n",
    "using LadderDGA\n",
    "using Logging\n",
    "\n",
    "io = stdout\n",
    "metafmt(level::Logging.LogLevel, _module, group, id, file, line) = Logging.default_metafmt(level, nothing, group,     id, nothing, nothing)\n",
    "logger = ConsoleLogger(io, Logging.Info, meta_formatter=metafmt, show_limited=true, right_justify=0)\n",
    "global_logger(logger);"
   ]
  },
  {
   "cell_type": "markdown",
   "metadata": {},
   "source": [
    "# Setup and read DMFT quantities"
   ]
  },
  {
   "cell_type": "code",
   "execution_count": 12,
   "metadata": {},
   "outputs": [
    {
     "name": "stdout",
     "output_type": "stream",
     "text": [
      "\u001b[36m\u001b[1m[ \u001b[22m\u001b[39m\u001b[36m\u001b[1mInfo: \u001b[22m\u001b[39mReading Inputs...\n",
      "\u001b[33m\u001b[1m[ \u001b[22m\u001b[39m\u001b[33m\u001b[1mWarning: \u001b[22m\u001b[39mTODO: check beta consistency, config <-> g0man, chi_dir <-> gamma dir\n",
      "\u001b[33m\u001b[1m[ \u001b[22m\u001b[39m\u001b[33m\u001b[1mWarning: \u001b[22m\u001b[39massuming ED calculation for E_kin!! gm_wim and hubb.andpar need to be present\n",
      "Kin = -0.3343847189145077\n",
      "\u001b[36m\u001b[1m┌ \u001b[22m\u001b[39m\u001b[36m\u001b[1mInfo: \u001b[22m\u001b[39mInputs Read. Starting Computation.\n",
      "\u001b[36m\u001b[1m│ \u001b[22m\u001b[39mLocal susceptibilities iwth ranges are:\n",
      "\u001b[36m\u001b[1m│ \u001b[22m\u001b[39mχLoc_sp(2:100) = 0.315, χLoc_ch(2:100) = 0.1071 \n",
      "\u001b[36m\u001b[1m└ \u001b[22m\u001b[39msum χupup check: with freq sum 0.2110262772585306, with tail subtraction: 0.24968657884709472, with both 0.21102627594363335\"\n"
     ]
    }
   ],
   "source": [
    "cfg_file = \"$(@__DIR__)/../../lDGA_test_runs/config_large2.toml\";\n",
    "\n",
    "mP, sP, env, kGrids, qGrids, qGridLoc, freqRed_map, freqList, freqList_min, parents, ops, nFermi, nBose, shift, base, offset = readConfig(cfg_file)\n",
    "kG = kGrids[1]\n",
    "qG = qGrids[1]\n",
    "νGrid, sumHelper_f, impQ_sp, impQ_ch, GImp_fft, GLoc_fft, Σ_loc, FUpDo, gImp, gLoc = setup_LDGA(kG, freqList, mP, sP, env);"
   ]
  },
  {
   "cell_type": "code",
   "execution_count": 3,
   "metadata": {},
   "outputs": [
    {
     "data": {
      "text/plain": [
       "(-0.3343843498552166, 0.1492328122417026)"
      ]
     },
     "execution_count": 3,
     "metadata": {},
     "output_type": "execute_result"
    }
   ],
   "source": [
    "iνₙ = LadderDGA.iν_array(mP.β, 0:(sP.n_iν-1))\n",
    "iνₙ, GImp    = LadderDGA.readGImp(env.inputDir * \"/gm_wim\", only_positive=true)\n",
    "ϵₖ, Vₖ, μ    = LadderDGA.read_anderson_parameters(env.inputDir * \"/hubb.andpar\");\n",
    "E_kin_ED, E_pot_ED  = LadderDGA.calc_E_ED(iνₙ[1:20], ϵₖ, Vₖ, GImp[1:20], mP)\n",
    "E_kin_ED_large, E_pot_ED_large  = LadderDGA.calc_E_ED(iνₙ[1:5000], ϵₖ, Vₖ, GImp[1:5000], mP)"
   ]
  },
  {
   "cell_type": "code",
   "execution_count": 4,
   "metadata": {},
   "outputs": [],
   "source": [
    "ep, ek = LadderDGA.calc_E(Σ_loc[1:sP.n_iν], qG, mP, sP);"
   ]
  },
  {
   "cell_type": "code",
   "execution_count": 5,
   "metadata": {},
   "outputs": [
    {
     "data": {
      "text/plain": [
       "100-element Vector{Vector{Float64}}:\n",
       " [-4.313983636232984]\n",
       " [-3.2000003749647843]\n",
       " [-2.9233549522338413]\n",
       " [-2.825128042754548]\n",
       " [-2.782542006623294]\n",
       " [-2.7614277443544184]\n",
       " [-2.7498835677226263]\n",
       " [-2.74308257594021]\n",
       " [-2.738833292223379]\n",
       " [-2.7360493860730433]\n",
       " [-2.7341529892566636]\n",
       " [-2.732818371745949]\n",
       " [-2.7318528199358636]\n",
       " ⋮\n",
       " [-2.7282082042935976]\n",
       " [-2.7282078159499266]\n",
       " [-2.728207444478853]\n",
       " [-2.728207088974003]\n",
       " [-2.728206748586802]\n",
       " [-2.728206422522217]\n",
       " [-2.7282061100348622]\n",
       " [-2.7282058104254165]\n",
       " [-2.7282055230373325]\n",
       " [-2.7282052472538254]\n",
       " [-2.728204982495081]\n",
       " [-2.7282047282157063]"
      ]
     },
     "execution_count": 5,
     "metadata": {},
     "output_type": "execute_result"
    }
   ],
   "source": [
    "ep"
   ]
  },
  {
   "cell_type": "code",
   "execution_count": 6,
   "metadata": {},
   "outputs": [
    {
     "data": {
      "text/plain": [
       "100-element Vector{Vector{Float64}}:\n",
       " [-0.34110233649567223]\n",
       " [-0.3557789977288742]\n",
       " [-0.5472413132960477]\n",
       " [-0.7069660265079788]\n",
       " [-0.827477879530399]\n",
       " [-0.9185466405693293]\n",
       " [-0.9887516883156307]\n",
       " [-1.04409610178858]\n",
       " [-1.0886440509025082]\n",
       " [-1.1251695178192442]\n",
       " [-1.1556029735140594]\n",
       " [-1.181317671672387]\n",
       " [-1.2033117204078636]\n",
       " ⋮\n",
       " [-1.4376714210092285]\n",
       " [-1.4381262388677936]\n",
       " [-1.4385710727143675]\n",
       " [-1.439006247602851]\n",
       " [-1.4394320746313698]\n",
       " [-1.4398488516899244]\n",
       " [-1.4402568641409883]\n",
       " [-1.4406563854860954]\n",
       " [-1.4410476779683647]\n",
       " [-1.4414309931390845]\n",
       " [-1.4418065724103553]\n",
       " [-1.4421746475453976]"
      ]
     },
     "execution_count": 6,
     "metadata": {},
     "output_type": "execute_result"
    }
   ],
   "source": [
    "ek"
   ]
  },
  {
   "cell_type": "code",
   "execution_count": null,
   "metadata": {},
   "outputs": [],
   "source": []
  }
 ],
 "metadata": {
  "kernelspec": {
   "display_name": "Julia 1.6.0",
   "language": "julia",
   "name": "julia-1.6"
  },
  "language_info": {
   "file_extension": ".jl",
   "mimetype": "application/julia",
   "name": "julia",
   "version": "1.6.0"
  }
 },
 "nbformat": 4,
 "nbformat_minor": 4
}
