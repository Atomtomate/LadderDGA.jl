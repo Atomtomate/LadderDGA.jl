{
 "cells": [
  {
   "cell_type": "code",
   "execution_count": null,
   "id": "ded96430-250f-4c4f-b7ca-b83d4c877580",
   "metadata": {},
   "outputs": [],
   "source": [
    "\tp0 = heatmap(λd_range, λm_range, PP_diff, xlabel=L\"\\lambda_\\mathrm{d}\", ylabel=L\"\\lambda_\\mathrm{m}\", clims=(-0.1,0.1),xtickfontsize=12,ytickfontsize=12,xguidefontsize=20,yguidefontsize=20,legendfontsize=12, right_margin=[10mm 0mm])\n",
    "\tp1 = plot(xr_m, fr_m, ylims=(-1,1), xlims=(-1,5), linewidth=2, xlabel=L\"\\lambda_\\mathrm{m}\", label=L\"\\mathrm{PP}^{(2)} - \\mathrm{PP}^{(1)}\", title=L\"\\mathrm{lD}\\Gamma\\mathrm{A}_\\mathrm{m}\",xtickfontsize=12,ytickfontsize=12,xguidefontsize=20,yguidefontsize=20,legendfontsize=12)\n",
    "\tvline!([λm_min], label=L\"\\lambda_\\mathrm{m,min}\", linewidth=2.0)\n"
   ]
  }
 ],
 "metadata": {
  "kernelspec": {
   "display_name": "Julia 1.11.0-rc3",
   "language": "julia",
   "name": "julia-1.11"
  },
  "language_info": {
   "file_extension": ".jl",
   "mimetype": "application/julia",
   "name": "julia",
   "version": "1.11.0"
  }
 },
 "nbformat": 4,
 "nbformat_minor": 5
}
